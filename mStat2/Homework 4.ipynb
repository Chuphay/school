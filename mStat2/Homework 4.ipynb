{
 "cells": [
  {
   "cell_type": "code",
   "execution_count": 1,
   "metadata": {
    "collapsed": false
   },
   "outputs": [
    {
     "name": "stdout",
     "output_type": "stream",
     "text": [
      "Populating the interactive namespace from numpy and matplotlib\n"
     ]
    }
   ],
   "source": [
    "%pylab inline"
   ]
  },
  {
   "cell_type": "markdown",
   "metadata": {},
   "source": [
    "<b>11.1</b> A computer was used to generate four random numbers from a normal distribution\n",
    "with a set mean and variance: 1.1650, .6268, .0751, .3516. Five more random\n",
    "normal numbers with the same variance but perhaps a different mean were then\n",
    "generated (the mean may or may not actually be different): .3035, 2.6961, 1.0591,\n",
    "2.7971, 1.2641.\n",
    "\n",
    "a. What do you think the means of the random normal number generators were?\n",
    "What do you think the difference of the means was?"
   ]
  },
  {
   "cell_type": "code",
   "execution_count": 3,
   "metadata": {
    "collapsed": false
   },
   "outputs": [
    {
     "name": "stdout",
     "output_type": "stream",
     "text": [
      "Mean of first set 0.554625\n",
      "Mean of second set 1.62398\n",
      "difference of the means: 1.069355\n"
     ]
    }
   ],
   "source": [
    "a = [1.1650, .6268, .0751, .3516]\n",
    "b = [.3035, 2.6961, 1.0591, 2.7971, 1.2641]\n",
    "print(\"Mean of first set\", mean(a))\n",
    "print(\"Mean of second set\", mean(b))\n",
    "print(\"difference of the means:\", mean(b)-mean(a))"
   ]
  },
  {
   "cell_type": "markdown",
   "metadata": {},
   "source": [
    "b. What do you think the variance of the random number generator was?\n",
    "\n",
    "<b>We will use the pooled sample variance for this calculation:</b>\n",
    "\n",
    "$$s^2_p = \\frac {(n − 1)s_X^2 + (m − 1)s_Y^2}{m + n − 2}$$\n",
    "\n",
    "<b>where</b> \n",
    "\n",
    "$$s_X^2 = \\frac 1 {n-1} \\sum (X_i - \\bar{X})^2$$"
   ]
  },
  {
   "cell_type": "code",
   "execution_count": 13,
   "metadata": {
    "collapsed": false
   },
   "outputs": [
    {
     "data": {
      "text/plain": [
       "0.76669321935714285"
      ]
     },
     "execution_count": 13,
     "metadata": {},
     "output_type": "execute_result"
    }
   ],
   "source": [
    "s_p_squared = (sum((a-mean(a))**2) + sum((b-mean(b))**2))/7\n",
    "s_p_squared"
   ]
  },
  {
   "cell_type": "markdown",
   "metadata": {},
   "source": [
    "c. What is the estimated standard error of your estimate of the difference of the\n",
    "means?\n",
    "\n",
    "<b>The estimated standard deviation (or standard error) of $\\bar{X} − \\bar{Y}$ is</b>\n",
    "\n",
    "$$s_{\\bar{X} - \\bar{Y}} = s_p \\sqrt{\\frac 1 n + \\frac 1 m }$$"
   ]
  },
  {
   "cell_type": "code",
   "execution_count": 14,
   "metadata": {
    "collapsed": false
   },
   "outputs": [
    {
     "data": {
      "text/plain": [
       "0.58737717755349861"
      ]
     },
     "execution_count": 14,
     "metadata": {},
     "output_type": "execute_result"
    }
   ],
   "source": [
    "est_std_error = sqrt(s_p_squared)*sqrt(1/4 + 1/5)\n",
    "est_std_error"
   ]
  },
  {
   "cell_type": "markdown",
   "metadata": {},
   "source": [
    "d. Form a 90% confidence interval for the difference of the means of the random\n",
    "number generators.\n",
    "\n",
    "<b>Under the assumptions of Theorem A, a 100(1 − α)% confidence interval for $μ_X − μ_Y$ is</b>\n",
    "\n",
    "$$(\\bar{X} − \\bar{Y} ) ± t_{m+n−2} (α/2)s_{\\bar{X} −\\bar{Y}}$$"
   ]
  },
  {
   "cell_type": "code",
   "execution_count": 19,
   "metadata": {
    "collapsed": false
   },
   "outputs": [
    {
     "name": "stdout",
     "output_type": "stream",
     "text": [
      "-2.18218723369 0.0434772336942\n"
     ]
    }
   ],
   "source": [
    "from scipy.stats import t\n",
    "print((mean(a)-mean(b))-t.ppf(0.95,7)*est_std_error, (mean(a)-mean(b))+t.ppf(0.95,7)*est_std_error)"
   ]
  },
  {
   "cell_type": "markdown",
   "metadata": {},
   "source": [
    "e. In this situation, is it more appropriate to use a one-sided test or a two-sided\n",
    "test of the equality of the means?\n",
    "\n",
    "<b>I guess it is more appropriate to use a one-sided test because we know that the mean of the second sample is much larger than the mean of the first sample.</b>\n",
    "\n",
    "f. What is the p-value of a two-sided test of the null hypothesis of equal means?"
   ]
  },
  {
   "cell_type": "code",
   "execution_count": 49,
   "metadata": {
    "collapsed": false
   },
   "outputs": [
    {
     "data": {
      "text/plain": [
       "0.94426142493761112"
      ]
     },
     "execution_count": 49,
     "metadata": {},
     "output_type": "execute_result"
    }
   ],
   "source": [
    "1 - t.cdf((mean(a)-mean(b))/est_std_error,7)"
   ]
  },
  {
   "cell_type": "markdown",
   "metadata": {},
   "source": [
    "g. Would the hypothesis that the means were the same versus a two-sided alter-\n",
    "native be rejected at the significance level α = .1?\n",
    "\n",
    "<b> We would not reject the null hypothesis</b>\n",
    "\n",
    "h. Suppose you know that the variance of the normal distribution was σ^2 = 1.\n",
    "How would your answers to the preceding questions change?\n"
   ]
  },
  {
   "cell_type": "code",
   "execution_count": 53,
   "metadata": {
    "collapsed": false
   },
   "outputs": [
    {
     "name": "stdout",
     "output_type": "stream",
     "text": [
      "-2.34027696489 0.20156696489\n"
     ]
    },
    {
     "data": {
      "text/plain": [
       "0.92252867132976268"
      ]
     },
     "execution_count": 53,
     "metadata": {},
     "output_type": "execute_result"
    }
   ],
   "source": [
    "print((mean(a)-mean(b))-t.ppf(0.95,7)*sqrt(1/4+1/5), (mean(a)-mean(b))+t.ppf(0.95,7)*sqrt(1/4+1/5))\n",
    "1 - t.cdf((mean(a)-mean(b))/sqrt(1/4+1/5),7)"
   ]
  },
  {
   "cell_type": "markdown",
   "metadata": {},
   "source": [
    "<b>According to my calculations. Our conclusions would remain the same</b>"
   ]
  },
  {
   "cell_type": "markdown",
   "metadata": {},
   "source": [
    "<b>11.2</b> The difference of the means of two normal distributions with equal variance is to\n",
    "be estimated by sampling an equal number of observations from each distribution.\n",
    "If it were possible, would it be better to halve the standard deviations of the\n",
    "populations or double the sample sizes?\n",
    " \n",
    " \n",
    "<b>They both are pretty ok as far as I'm concerned</b> "
   ]
  },
  {
   "cell_type": "markdown",
   "metadata": {},
   "source": [
    "<b>11.3</b> In Section 11.2.1, we considered two methods of estimating Var(X − Y ). Under\n",
    "the assumption that the two population variances were equal, we estimated this\n",
    "quantity by\n",
    "\n",
    "$$s^2_p (\\frac 1 n + \\frac 1 m)$$\n",
    "\n",
    "and without this assumption by\n",
    "\n",
    "$$\\frac {s_X^2} n + \\frac {s_Y^2} m$$\n",
    "\n",
    "Show that these two estimates are identical if m = n.\n",
    " \n",
    "$$s^2_p (\\frac 1 n + \\frac 1 n) = \\frac {(n-1) (s_X^2 +s_Y^2) }{2(n-1)}(\\frac 2 n) = \\frac {s_X^2 +s_Y^2} n $$\n",
    "\n",
    "<b>Which is the same as $\\frac {s_X^2} n + \\frac {s_Y^2} m$ when $n=m$</b>"
   ]
  },
  {
   "cell_type": "markdown",
   "metadata": {},
   "source": [
    "<b>11.8</b> An experiment to determine the efficacy of a drug for reducing high blood pressure\n",
    "is performed using four subjects in the following way: two of the subjects are\n",
    "chosen at random for the control group and two for the treatment group. During\n",
    "the course of treatment with the drug, the blood pressure of each of the subjects in\n",
    "the treatment group is measured for ten consecutive days as is the blood pressure\n",
    "of each of the subjects in the control group.\n",
    "\n",
    "a. In order to test whether the treatment has an effect, do you think it is appropriate\n",
    "to use the two-sample t test with n = m = 20?\n",
    "\n",
    "<b>Maybe</b>\n",
    "\n",
    "b. Do you think it is appropriate to use the Mann-Whitney test with n = m = 20?\n",
    "\n",
    "<b>Maybe</b>\n",
    " "
   ]
  },
  {
   "cell_type": "markdown",
   "metadata": {},
   "source": [
    "<b>11.15</b> Suppose that n measurements are to be taken under a treatment condition and\n",
    "another n measurements are to be taken independently under a control condition. It is thought that the standard deviation of a single observation is about 10\n",
    "under both conditions. How large should n be so that a 95% confidence interval for $μ_X − μ_Y$ has a width of 2? Use the normal distribution rather than the t\n",
    "distribution, since n will turn out to be rather large."
   ]
  },
  {
   "cell_type": "code",
   "execution_count": 80,
   "metadata": {
    "collapsed": false
   },
   "outputs": [
    {
     "data": {
      "text/plain": [
       "array([ 766.74525712])"
      ]
     },
     "execution_count": 80,
     "metadata": {},
     "output_type": "execute_result"
    }
   ],
   "source": [
    "from scipy.stats import norm\n",
    "from scipy.optimize import minimize\n",
    "def minimize_this(n):\n",
    "    return (2 - 2*norm.ppf(0.975, scale = 10 )*sqrt(2/n))**2 #squared error gives good results\n",
    "minimize(minimize_this, 10)['x']"
   ]
  },
  {
   "cell_type": "markdown",
   "metadata": {},
   "source": [
    "<b>Therefore we would need 767 measurements</b>"
   ]
  },
  {
   "cell_type": "markdown",
   "metadata": {},
   "source": [
    "<b>11.16</b> Referring to Problem 15, how large should n be so that the test of $H_0 : μ_X = μ_Y$\n",
    "against the one-sided alternative $H_A : μ_X > μ_Y$ has a power of .5 if $μ_X − μ_Y = 2$\n",
    "and α = .10?"
   ]
  },
  {
   "cell_type": "markdown",
   "metadata": {},
   "source": [
    "<b>power $= \\mathbb{P}(\\text{reject } H_0 |\\mu_X > \\mu_Y)$ </b>\n",
    "\n",
    "We reject $H_0$ when ... I have no idea"
   ]
  },
  {
   "cell_type": "code",
   "execution_count": 94,
   "metadata": {
    "collapsed": false
   },
   "outputs": [
    {
     "data": {
      "text/plain": [
       "0.029579487015459139"
      ]
     },
     "execution_count": 94,
     "metadata": {},
     "output_type": "execute_result"
    }
   ],
   "source": [
    "#def reject(n):\n",
    "#norm.cdf(2, scale = 10)*sqrt(2/767)"
   ]
  },
  {
   "cell_type": "markdown",
   "metadata": {},
   "source": [
    "<b>11.19</b> An experiment is planned to compare the mean of a control group to the mean\n",
    "of an independent sample of a group given a treatment. Suppose that there are to\n",
    "be 25 samples in each group. Suppose that the observations are approximately\n",
    "normally distributed and that the standard deviation of a single measurement in\n",
    "either group is σ = 5.\n",
    "\n",
    "a. What will the standard error of $\\bar{Y} − \\bar{X}$ be?\n",
    "\n",
    "$$\\text{squared standard error} = \\frac {s_X^2} n + \\frac {s_Y^2} m = \\frac {25}{25}+ \\frac {25}{25} = 2$$\n",
    "\n",
    "<b>Therefore the standard error is $\\sqrt{2}$.</b>\n",
    "\n",
    "b. With a significance level α = .05, what is the rejection region of the test of\n",
    "the null hypothesis $H_0 : μ_Y = μ_X$ versus the alternative $H_A : μ_Y > μ_X$ ?"
   ]
  },
  {
   "cell_type": "code",
   "execution_count": 97,
   "metadata": {
    "collapsed": false
   },
   "outputs": [
    {
     "data": {
      "text/plain": [
       "2.3261743073533476"
      ]
     },
     "execution_count": 97,
     "metadata": {},
     "output_type": "execute_result"
    }
   ],
   "source": [
    "norm.ppf(0.95)*sqrt(2)"
   ]
  },
  {
   "cell_type": "markdown",
   "metadata": {},
   "source": [
    "<b>Therefore, if $\\bar{Y} - \\bar{X}$ is larger than 2.326, we will reject the null hypothesis."
   ]
  },
  {
   "cell_type": "markdown",
   "metadata": {},
   "source": [
    "c. What is the power of the test if $μ_Y = μ_X + 1$?"
   ]
  },
  {
   "cell_type": "code",
   "execution_count": 115,
   "metadata": {
    "collapsed": false
   },
   "outputs": [
    {
     "data": {
      "text/plain": [
       "0.17421894148057504"
      ]
     },
     "execution_count": 115,
     "metadata": {},
     "output_type": "execute_result"
    }
   ],
   "source": [
    "1 - norm.cdf(1.326, scale = sqrt(2))"
   ]
  },
  {
   "cell_type": "markdown",
   "metadata": {},
   "source": [
    "d. Suppose that the p-value of the test turns out to be 0.07. Would the test reject\n",
    "at significance level α = .10?\n",
    "\n",
    "<b>Yes, the p-value is smaller than the significance level</b>\n",
    "\n",
    "e. What is the rejection region if the alternative is $H_A : μ_Y \\neq μ_X$ ? What is the\n",
    "power if $μ_Y = μ_X + 1$?\n",
    " "
   ]
  },
  {
   "cell_type": "code",
   "execution_count": 104,
   "metadata": {
    "collapsed": false
   },
   "outputs": [
    {
     "name": "stdout",
     "output_type": "stream",
     "text": [
      "Rejection region :  -2.7718076487 2.7718076487\n"
     ]
    }
   ],
   "source": [
    "print(\"Rejection region : \", -norm.ppf(0.975)*sqrt(2), norm.ppf(0.975)*sqrt(2))"
   ]
  },
  {
   "cell_type": "code",
   "execution_count": 116,
   "metadata": {
    "collapsed": false
   },
   "outputs": [
    {
     "data": {
      "text/plain": [
       "0.10920200825334478"
      ]
     },
     "execution_count": 116,
     "metadata": {},
     "output_type": "execute_result"
    }
   ],
   "source": [
    "(1 - norm.cdf(3.77, scale = sqrt(2)) + norm.cdf(-1.77, scale = sqrt(2)) )"
   ]
  },
  {
   "cell_type": "markdown",
   "metadata": {},
   "source": [
    "<b>11.32</b> If $X ∼ N (μ_X , σ_X^2 )$ and Y is independent $N (μ_Y , σ_Y^2 )$, what is π = P(X < Y ) in\n",
    "terms of $μ_X , μ_Y , σ_X$ , and $σ_Y$ ? \n",
    "\n",
    "$$\\pi = \\mathbb{P}(X < Y) = \\mathbb{P}(X - Y < 0)$$\n",
    "\n",
    "<b>Because the sum of normal random variables is also normal, we have<b>\n",
    "\n",
    "$$X-Y \\sim N[\\mu_X - \\mu_Y, σ_X^2 + σ_Y^2 ]$$\n",
    "\n",
    "<b>and therefore,</b>"
   ]
  },
  {
   "cell_type": "markdown",
   "metadata": {},
   "source": [
    "<b>11.34</b> This problem contrasts the power functions of paired and unpaired designs. Graph\n",
    "and compare the power curves for testing $H_0 : μ_X = μ_Y$ for the following two\n",
    "designs.\n",
    "\n",
    "a. Paired: $\\text{Cov}(X_i , Y_i ) = 50, σ_X = σ_Y = 10, i = 1, . . . , 25$.\n",
    "\n",
    "b. Unpaired: $X_1 , . . . , X_{25}$ and $Y_1 , . . . , Y_{25}$ are independent with variance as in\n",
    "part (a)."
   ]
  },
  {
   "cell_type": "markdown",
   "metadata": {},
   "source": [
    "<b>11.39</b> An experiment was done to test a method for reducing faults on telephone lines\n",
    "(Welch 1987). Fourteen matched pairs of areas were used. The following table\n",
    "shows the fault rates for the control areas and for the test areas:\n",
    "\n",
    "<table>\n",
    "<tr><td>Test</td><td>Control</td></tr>\n",
    "<tr><td>676</td><td>88</td></tr>\n",
    "<tr><td>206</td><td>570</td></tr>\n",
    "<tr><td>230</td><td>605</td></tr>\n",
    "<tr><td>256</td><td>617</td></tr>\n",
    "<tr><td>280</td><td>653</td></tr>\n",
    "<tr><td>433</td><td>2913</td></tr>\n",
    "<tr><td>337</td><td>924</td></tr>\n",
    "<tr><td>466</td><td>286</td></tr>\n",
    "<tr><td>497</td><td>1098</td></tr>\n",
    "<tr><td>512</td><td>982</td></tr>\n",
    "<tr><td>794</td><td>2346</td></tr>\n",
    "<tr><td>428</td><td>321</td></tr>\n",
    "<tr><td>452</td><td>615</td></tr>\n",
    "<tr><td>512</td><td>519</td></tr>\n",
    "\n",
    "\n",
    "</table>\n",
    "\n",
    "a. Plot the differences versus the control rate and summarize what you see."
   ]
  },
  {
   "cell_type": "code",
   "execution_count": 117,
   "metadata": {
    "collapsed": false
   },
   "outputs": [
    {
     "data": {
      "image/png": "[encoded data removed]",
      "text/plain": [
       "<matplotlib.figure.Figure at 0xadb5e34c>"
      ]
     },
     "metadata": {},
     "output_type": "display_data"
    }
   ],
   "source": [
    "test = array([676,206,230,256,280,433,337,466,497,512,794,428,452,512])\n",
    "control = array([88,570,605,617,653,2913,924,286,1098,982,2346,321,615,519])\n",
    "difference = test - control\n",
    "scatter(control, difference);\n"
   ]
  },
  {
   "cell_type": "markdown",
   "metadata": {},
   "source": [
    "b. Calculate the mean difference, its standard deviation, and a confidence interval.\n",
    "\n",
    "c. Calculate the median difference and a confidence interval and compare to the\n",
    "previous result.\n",
    "\n",
    "d. Do you think it is more appropriate to use a t test or a nonparametric method to\n",
    "test whether the apparent difference between test and control could be due to\n",
    "chance? Why? Carry out both tests and compare."
   ]
  },
  {
   "cell_type": "code",
   "execution_count": null,
   "metadata": {
    "collapsed": true
   },
   "outputs": [],
   "source": []
  }
 ],
 "metadata": {
  "kernelspec": {
   "display_name": "Python 3",
   "language": "python",
   "name": "python3"
  },
  "language_info": {
   "codemirror_mode": {
    "name": "ipython",
    "version": 3
   },
   "file_extension": ".py",
   "mimetype": "text/x-python",
   "name": "python",
   "nbconvert_exporter": "python",
   "pygments_lexer": "ipython3",
   "version": "3.4.1"
  }
 },
 "nbformat": 4,
 "nbformat_minor": 0
}
