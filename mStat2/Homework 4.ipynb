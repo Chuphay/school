{
 "cells": [
  {
   "cell_type": "markdown",
   "metadata": {},
   "source": [
    "11.1 A computer was used to generate four random numbers from a normal distribution\n",
    "with a set mean and variance: 1.1650, .6268, .0751, .3516. Five more random\n",
    "normal numbers with the same variance but perhaps a different mean were then\n",
    "generated (the mean may or may not actually be different): .3035, 2.6961, 1.0591,\n",
    "2.7971, 1.2641.\n",
    "\n",
    "a. What do you think the means of the random normal number generators were?\n",
    "What do you think the difference of the means was?\n",
    "\n",
    "b. What do you think the variance of the random number generator was?\n",
    "\n",
    "c. What is the estimated standard error of your estimate of the difference of the\n",
    "means?\n",
    "\n",
    "d. Form a 90% confidence interval for the difference of the means of the random\n",
    "number generators.\n",
    "\n",
    "e. In this situation, is it more appropriate to use a one-sided test or a two-sided\n",
    "test of the equality of the means?\n",
    "\n",
    "f. What is the p-value of a two-sided test of the null hypothesis of equal means?\n",
    "\n",
    "g. Would the hypothesis that the means were the same versus a two-sided alter-\n",
    "native be rejected at the significance level α = .1?\n",
    "\n",
    "h. Suppose you know that the variance of the normal distribution was σ^2 = 1.\n",
    "How would your answers to the preceding questions change?\n",
    " "
   ]
  },
  {
   "cell_type": "markdown",
   "metadata": {},
   "source": [
    "11.2 The difference of the means of two normal distributions with equal variance is to\n",
    "be estimated by sampling an equal number of observations from each distribution.\n",
    "If it were possible, would it be better to halve the standard deviations of the\n",
    "populations or double the sample sizes?\n",
    " "
   ]
  },
  {
   "cell_type": "markdown",
   "metadata": {},
   "source": [
    "11.3 n Section 11.2.1, we considered two methods of estimating Var(X − Y ). Under\n",
    "the assumption that the two population variances were equal, we estimated this\n",
    "quantity by\n",
    "\n",
    "$$s^2_p (\\frac 1 n + \\frac 1 m)$$\n",
    "\n",
    "and without this assumption by\n",
    "\n",
    "$$\\frac {s_X^2} n + \\frac {s_Y^2} m$$\n",
    "\n",
    "Show that these two estimates are identical if m = n.\n",
    " \n",
    " "
   ]
  },
  {
   "cell_type": "markdown",
   "metadata": {},
   "source": [
    "11.8 An experiment to determine the efficacy of a drug for reducing high blood pressure\n",
    "is performed using four subjects in the following way: two of the subjects are\n",
    "chosen at random for the control group and two for the treatment group. During\n",
    "the course of treatment with the drug, the blood pressure of each of the subjects in\n",
    "the treatment group is measured for ten consecutive days as is the blood pressure\n",
    "of each of the subjects in the control group.\n",
    "\n",
    "a. In order to test whether the treatment has an effect, do you think it is appropriate\n",
    "to use the two-sample t test with n = m = 20?\n",
    "\n",
    "b. Do you think it is appropriate to use the Mann-Whitney test with n = m = 20?\n",
    " "
   ]
  },
  {
   "cell_type": "markdown",
   "metadata": {},
   "source": [
    "11.15 Suppose that n measurements are to be taken under a treatment condition and\n",
    "another n measurements are to be taken independently under a control condi-\n",
    "tion. It is thought that the standard deviation of a single observation is about 10\n",
    "under both conditions. How large should n be so that a 95% confidence inter-\n",
    "val for $μ_X − μ_Y$ has a width of 2? Use the normal distribution rather than the t\n",
    "distribution, since n will turn out to be rather large."
   ]
  },
  {
   "cell_type": "markdown",
   "metadata": {},
   "source": [
    "11.16 Referring to Problem 15, how large should n be so that the test of $H_0 : μ_X = μ_Y$\n",
    "against the one-sided alternative $H_A : μ_X > μ_Y$ has a power of .5 if $μ_X − μ_Y = 2$\n",
    "and α = .10?"
   ]
  },
  {
   "cell_type": "markdown",
   "metadata": {},
   "source": [
    "11.19 An experiment is planned to compare the mean of a control group to the mean\n",
    "of an independent sample of a group given a treatment. Suppose that there are to\n",
    "be 25 samples in each group. Suppose that the observations are approximately\n",
    "normally distributed and that the standard deviation of a single measurement in\n",
    "either group is σ = 5.\n",
    "\n",
    "a. What will the standard error of Y − X be?\n",
    "\n",
    "b. With a significance level α = .05, what is the rejection region of the test of\n",
    "the null hypothesis $H_0 : μ_Y = μ_X$ versus the alternative $H_A : μ_Y > μ_X$ ?\n",
    "\n",
    "c. What is the power of the test if $μ_Y = μ_X + 1$?\n",
    "\n",
    "d. Suppose that the p-value of the test turns out to be 0.07. Would the test reject\n",
    "at significance level α = .10?\n",
    "\n",
    "e. What is the rejection region if the alternative is $H_A : μ_Y = μ_X$ ? What is the\n",
    "power if $μ_Y = μ_X + 1$?\n",
    " "
   ]
  },
  {
   "cell_type": "markdown",
   "metadata": {},
   "source": [
    "11.32 If $X ∼ N (μ_X , σ_X^2 )$ and Y is independent $N (μ_Y , σ_Y^2 )$, what is π = P(X < Y ) in\n",
    "terms of $μ_X , μ_Y , σ_X$ , and $σ_Y$ ? "
   ]
  },
  {
   "cell_type": "markdown",
   "metadata": {},
   "source": [
    "11.34 This problem contrasts the power functions of paired and unpaired designs. Graph\n",
    "and compare the power curves for testing $H_0 : μ_X = μ_Y$ for the following two\n",
    "designs.\n",
    "\n",
    "a. Paired: $\\text{Cov}(X_i , Y_i ) = 50, σ_X = σ_Y = 10, i = 1, . . . , 25$.\n",
    "\n",
    "b. Unpaired: $X_1 , . . . , X_{25}$ and $Y_1 , . . . , Y_{25}$ are independent with variance as in\n",
    "part (a)."
   ]
  },
  {
   "cell_type": "markdown",
   "metadata": {},
   "source": [
    "11.39 An experiment was done to test a method for reducing faults on telephone lines\n",
    "(Welch 1987). Fourteen matched pairs of areas were used. The following table\n",
    "shows the fault rates for the control areas and for the test areas:\n",
    "\n",
    "<table>\n",
    "<tr><td>Test</td><td>Control</td></tr>\n",
    "<tr><td>676</td><td>88</td></tr>\n",
    "<tr><td>206</td><td>570</td></tr>\n",
    "<tr><td>230</td><td>605</td></tr>\n",
    "<tr><td>256</td><td>617</td></tr>\n",
    "<tr><td>280</td><td>653</td></tr>\n",
    "<tr><td>433</td><td>2913</td></tr>\n",
    "<tr><td>337</td><td>924</td></tr>\n",
    "<tr><td>466</td><td>286</td></tr>\n",
    "<tr><td>497</td><td>1098</td></tr>\n",
    "<tr><td>512</td><td>982</td></tr>\n",
    "<tr><td>794</td><td>2346</td></tr>\n",
    "<tr><td>428</td><td>321</td></tr>\n",
    "<tr><td>452</td><td>615</td></tr>\n",
    "<tr><td>512</td><td>519</td></tr>\n",
    "\n",
    "\n",
    "</table>\n",
    "\n",
    "a. Plot the differences versus the control rate and summarize what you see.\n",
    "\n",
    "b. Calculate the mean difference, its standard deviation, and a confidence interval.\n",
    "\n",
    "c. Calculate the median difference and a confidence interval and compare to the\n",
    "previous result.\n",
    "\n",
    "d. Do you think it is more appropriate to use a t test or a nonparametric method to\n",
    "test whether the apparent difference between test and control could be due to\n",
    "chance? Why? Carry out both tests and compare."
   ]
  },
  {
   "cell_type": "code",
   "execution_count": null,
   "metadata": {
    "collapsed": true
   },
   "outputs": [],
   "source": []
  }
 ],
 "metadata": {
  "kernelspec": {
   "display_name": "Python 3",
   "language": "python",
   "name": "python3"
  },
  "language_info": {
   "codemirror_mode": {
    "name": "ipython",
    "version": 3
   },
   "file_extension": ".py",
   "mimetype": "text/x-python",
   "name": "python",
   "nbconvert_exporter": "python",
   "pygments_lexer": "ipython3",
   "version": "3.4.1"
  }
 },
 "nbformat": 4,
 "nbformat_minor": 0
}
