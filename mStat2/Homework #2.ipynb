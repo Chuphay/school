{
 "cells": [
  {
   "cell_type": "code",
   "execution_count": 2,
   "metadata": {
    "collapsed": false
   },
   "outputs": [
    {
     "name": "stdout",
     "output_type": "stream",
     "text": [
      "Populating the interactive namespace from numpy and matplotlib\n"
     ]
    }
   ],
   "source": [
    "%pylab inline"
   ]
  },
  {
   "cell_type": "markdown",
   "metadata": {},
   "source": [
    "<b>9.1</b> A coin is thrown independently 10 times to test the hypothesis that the probability\n",
    "of heads is 1/2 versus the alternative that the probability is not 1/2 . The test rejects\n",
    "if either 0 or 10 heads are observed.\n",
    "\n",
    "<b>a.</b> What is the significance level of the test?\n",
    "\n",
    "significance level $= \\mathbb{P}(\\text{type I error}) = \\mathbb{P}(\\text{0 heads}) + \\mathbb{P}(\\text{10 heads})$"
   ]
  },
  {
   "cell_type": "code",
   "execution_count": 3,
   "metadata": {
    "collapsed": false
   },
   "outputs": [
    {
     "data": {
      "text/plain": [
       "0.001953125"
      ]
     },
     "execution_count": 3,
     "metadata": {},
     "output_type": "execute_result"
    }
   ],
   "source": [
    "from scipy.stats import binom\n",
    "binom.pmf(0,10,0.5) + binom.pmf(10,10,0.5)"
   ]
  },
  {
   "cell_type": "markdown",
   "metadata": {},
   "source": [
    "<b>b.</b> If in fact the probability of heads is .1, what is the power of the test?\n",
    "\n",
    "power $= \\mathbb{P}(\\text{reject } H_0 \\text{when it is false})$ "
   ]
  },
  {
   "cell_type": "code",
   "execution_count": 4,
   "metadata": {
    "collapsed": false
   },
   "outputs": [
    {
     "data": {
      "text/plain": [
       "0.34867844019999994"
      ]
     },
     "execution_count": 4,
     "metadata": {},
     "output_type": "execute_result"
    }
   ],
   "source": [
    "binom.pmf(0,10,0.1) + binom.pmf(10,10,0.1)"
   ]
  },
  {
   "cell_type": "markdown",
   "metadata": {},
   "source": [
    "<b>9.3</b> Suppose that X ∼ bin(100, p). Consider the test that rejects $H_0$ : p = .5 in favor\n",
    "of $H_A$ : p $\\neq$ .5 for |X − 50| > 10. Use the normal approximation to the binomial\n",
    "distribution to answer the following:\n",
    "\n",
    "<b>a.</b> What is α?"
   ]
  },
  {
   "cell_type": "code",
   "execution_count": 5,
   "metadata": {
    "collapsed": false
   },
   "outputs": [
    {
     "data": {
      "text/plain": [
       "0.045500263896358389"
      ]
     },
     "execution_count": 5,
     "metadata": {},
     "output_type": "execute_result"
    }
   ],
   "source": [
    "from scipy.stats import norm\n",
    "2*norm.cdf(40,50,5)"
   ]
  },
  {
   "cell_type": "markdown",
   "metadata": {},
   "source": [
    "<b>b.</b> Graph the power as a function of p."
   ]
  },
  {
   "cell_type": "code",
   "execution_count": 6,
   "metadata": {
    "collapsed": false
   },
   "outputs": [
    {
     "data": {
      "image/png": "[encoded data removed]",
      "text/plain": [
       "<matplotlib.figure.Figure at 0xaaae766c>"
      ]
     },
     "metadata": {},
     "output_type": "display_data"
    }
   ],
   "source": [
    "p = linspace(0,1,100)\n",
    "def reject(p):\n",
    "    return norm.cdf(40,100*p,sqrt(100*p*(1-p))) + 1 - norm.cdf(60,100*p,sqrt(100*p*(1-p)))\n",
    "plot(p,reject(p));"
   ]
  },
  {
   "cell_type": "markdown",
   "metadata": {},
   "source": [
    "<b>9.4</b> Let X have one of the following distributions:\n",
    "<table>\n",
    "  <tr>\n",
    "    <td>$X$</td>\n",
    "    <td>$H_0$</td> \n",
    "    <td>$H_A$</td>\n",
    "  </tr>\n",
    "  <tr>\n",
    "    <td>$x_1$</td>\n",
    "    <td>.2</td> \n",
    "    <td>.1</td>\n",
    "  </tr>\n",
    "    <tr>\n",
    "    <td>$x_2$</td>\n",
    "    <td>.3</td> \n",
    "    <td>.4</td>\n",
    "  </tr>\n",
    "    <tr>\n",
    "    <td>$x_3$</td>\n",
    "    <td>.3</td> \n",
    "    <td>.1</td>\n",
    "  </tr>\n",
    "    <tr>\n",
    "    <td>$x_4$</td>\n",
    "    <td>.2</td> \n",
    "    <td>.4</td>\n",
    "  </tr>\n",
    "</table>\n",
    "\n",
    "<b>a.</b> Compare the likelihood ratio, $\\Lambda$, for each possible value X and order the $x_i$\n",
    "according to $\\Lambda$."
   ]
  },
  {
   "cell_type": "code",
   "execution_count": 7,
   "metadata": {
    "collapsed": false
   },
   "outputs": [
    {
     "data": {
      "text/plain": [
       "array([ 2.  ,  0.75,  3.  ,  0.5 ])"
      ]
     },
     "execution_count": 7,
     "metadata": {},
     "output_type": "execute_result"
    }
   ],
   "source": [
    "h_0 = array([0.2,0.3,0.3,0.2])\n",
    "h_a = array([0.1,0.4,0.1,0.4])\n",
    "h_0/h_a"
   ]
  },
  {
   "cell_type": "markdown",
   "metadata": {},
   "source": [
    "So the order is $x_3,x_1,x_2,x_4$"
   ]
  },
  {
   "cell_type": "markdown",
   "metadata": {},
   "source": [
    "<b>b.</b> What is the likelihood ratio test of $H_0$ versus $H_A$ at level α = .2? What is the\n",
    "test at level α = .5?"
   ]
  },
  {
   "cell_type": "markdown",
   "metadata": {},
   "source": [
    "When $\\Lambda$ is small, we reject $H_0$ Given that $H_0$ is true, what value of $\\lambda$ gives \n",
    "\n",
    "$$\\mathbb{P}(\\text{reject } H_0|H_0) = 0.2$$ \n",
    "\n",
    "For $\\alpha = 0.2$ clearly if $\\lambda$ is less than 0.5, we accept the null hypothesis always. Therefore we must look for a $\\lambda$ bigger than 0.5. If $\\lambda$ equals 0.75, then we reject $H_0$ in two cases, which means that $\\alpha$ is 0.5, which is too big. Therefore, $0.5 \\leq \\lambda < 0.75$ \n",
    "\n",
    "For $\\alpha =0.5$, we can use similar logic and say $0.75 \\leq \\lambda < 2$ "
   ]
  },
  {
   "cell_type": "markdown",
   "metadata": {},
   "source": [
    "<b>c.</b> If the prior probabilities are $P(H_0 ) = P(H_A )$, which outcomes favor $H_0$ ?\n",
    "\n",
    "Clearly, when $\\lambda >1$ we choose $H_0$, therefore, $x_3$ and $x_1$."
   ]
  },
  {
   "cell_type": "markdown",
   "metadata": {},
   "source": [
    "<b>d.</b> What prior probabilities correspond to the decision rules with α = .2 and\n",
    "α = .5?\n",
    "\n",
    "For $\\alpha = 0.2$, we can have priors anywhere between $P(H_0 ) = 1/3 , P(H_A )  = 2/3$ and $P(H_0 ) = 3/7 , P(H_A )  = 4/7$\n",
    "\n",
    "For $\\alpha = 0.5$, we can have priors anywhere between $P(H_0 ) = 3/7 , P(H_A )  = 4/7$ and $P(H_0 ) = 2/3 , P(H_A )  = 1/3$"
   ]
  },
  {
   "cell_type": "markdown",
   "metadata": {},
   "source": [
    "<b>9.6</b> Consider the coin tossing example of Section 9.1. Suppose that instead of tossing\n",
    "the coin 10 times, the coin was tossed until a head came up and the total number\n",
    "of tosses, X , was recorded.\n",
    "\n",
    "<b>a.</b> If the prior probabilities are equal, which outcomes favor $H_0$ and which favor\n",
    "$H_1$ ?"
   ]
  },
  {
   "cell_type": "code",
   "execution_count": 24,
   "metadata": {
    "collapsed": false
   },
   "outputs": [
    {
     "data": {
      "text/html": [
       "<div style=\"max-height:1000px;max-width:1500px;overflow:auto;\">\n",
       "<table border=\"1\" class=\"dataframe\">\n",
       "  <thead>\n",
       "    <tr style=\"text-align: right;\">\n",
       "      <th></th>\n",
       "      <th>1</th>\n",
       "      <th>2</th>\n",
       "      <th>3</th>\n",
       "      <th>4</th>\n",
       "      <th>5</th>\n",
       "      <th>6</th>\n",
       "      <th>7</th>\n",
       "      <th>8</th>\n",
       "      <th>9</th>\n",
       "      <th>10</th>\n",
       "    </tr>\n",
       "  </thead>\n",
       "  <tbody>\n",
       "    <tr>\n",
       "      <th>0</th>\n",
       "      <td> 0.5</td>\n",
       "      <td> 0.25</td>\n",
       "      <td> 0.125</td>\n",
       "      <td> 0.0625</td>\n",
       "      <td> 0.03125</td>\n",
       "      <td> 0.015625</td>\n",
       "      <td> 0.007812</td>\n",
       "      <td> 0.003906</td>\n",
       "      <td> 0.001953</td>\n",
       "      <td> 0.000977</td>\n",
       "    </tr>\n",
       "    <tr>\n",
       "      <th>1</th>\n",
       "      <td> 0.7</td>\n",
       "      <td> 0.21</td>\n",
       "      <td> 0.063</td>\n",
       "      <td> 0.0189</td>\n",
       "      <td> 0.00567</td>\n",
       "      <td> 0.001701</td>\n",
       "      <td> 0.000510</td>\n",
       "      <td> 0.000153</td>\n",
       "      <td> 0.000046</td>\n",
       "      <td> 0.000014</td>\n",
       "    </tr>\n",
       "  </tbody>\n",
       "</table>\n",
       "</div>"
      ],
      "text/plain": [
       "    1     2      3       4        5         6         7         8         9   \\\n",
       "0  0.5  0.25  0.125  0.0625  0.03125  0.015625  0.007812  0.003906  0.001953   \n",
       "1  0.7  0.21  0.063  0.0189  0.00567  0.001701  0.000510  0.000153  0.000046   \n",
       "\n",
       "         10  \n",
       "0  0.000977  \n",
       "1  0.000014  "
      ]
     },
     "execution_count": 24,
     "metadata": {},
     "output_type": "execute_result"
    }
   ],
   "source": [
    "x = array([i for i in range(1,11)])\n",
    "import pandas as pd\n",
    "df = pd.DataFrame([0.5*(0.5)**(x-1),0.7*(0.3)**(x-1)])\n",
    "df.columns = x\n",
    "df"
   ]
  },
  {
   "cell_type": "markdown",
   "metadata": {},
   "source": [
    "We can see from the above that the only outcome that favors $H_1$ is when the first flip is heads. All other possibilities favor $H_0$."
   ]
  },
  {
   "cell_type": "markdown",
   "metadata": {},
   "source": [
    "<b>b.</b> Suppose $P(H_0 )/P(H_1 ) = 10$. What outcomes favor $H_0$ ?"
   ]
  },
  {
   "cell_type": "code",
   "execution_count": 25,
   "metadata": {
    "collapsed": false
   },
   "outputs": [
    {
     "data": {
      "text/html": [
       "<div style=\"max-height:1000px;max-width:1500px;overflow:auto;\">\n",
       "<table border=\"1\" class=\"dataframe\">\n",
       "  <thead>\n",
       "    <tr style=\"text-align: right;\">\n",
       "      <th></th>\n",
       "      <th>1</th>\n",
       "      <th>2</th>\n",
       "      <th>3</th>\n",
       "      <th>4</th>\n",
       "      <th>5</th>\n",
       "      <th>6</th>\n",
       "      <th>7</th>\n",
       "      <th>8</th>\n",
       "      <th>9</th>\n",
       "      <th>10</th>\n",
       "    </tr>\n",
       "  </thead>\n",
       "  <tbody>\n",
       "    <tr>\n",
       "      <th>0</th>\n",
       "      <td> 0.05</td>\n",
       "      <td> 0.025</td>\n",
       "      <td> 0.0125</td>\n",
       "      <td> 0.00625</td>\n",
       "      <td> 0.003125</td>\n",
       "      <td> 0.001563</td>\n",
       "      <td> 0.000781</td>\n",
       "      <td> 0.000391</td>\n",
       "      <td> 0.000195</td>\n",
       "      <td> 0.000098</td>\n",
       "    </tr>\n",
       "    <tr>\n",
       "      <th>1</th>\n",
       "      <td> 0.70</td>\n",
       "      <td> 0.210</td>\n",
       "      <td> 0.0630</td>\n",
       "      <td> 0.01890</td>\n",
       "      <td> 0.005670</td>\n",
       "      <td> 0.001701</td>\n",
       "      <td> 0.000510</td>\n",
       "      <td> 0.000153</td>\n",
       "      <td> 0.000046</td>\n",
       "      <td> 0.000014</td>\n",
       "    </tr>\n",
       "  </tbody>\n",
       "</table>\n",
       "</div>"
      ],
      "text/plain": [
       "     1      2       3        4         5         6         7         8   \\\n",
       "0  0.05  0.025  0.0125  0.00625  0.003125  0.001563  0.000781  0.000391   \n",
       "1  0.70  0.210  0.0630  0.01890  0.005670  0.001701  0.000510  0.000153   \n",
       "\n",
       "         9         10  \n",
       "0  0.000195  0.000098  \n",
       "1  0.000046  0.000014  "
      ]
     },
     "execution_count": 25,
     "metadata": {},
     "output_type": "execute_result"
    }
   ],
   "source": [
    "df[:1] = df[:1]/10\n",
    "df"
   ]
  },
  {
   "cell_type": "markdown",
   "metadata": {},
   "source": [
    "We can see from the above, that now we favor $H_0$ only after the 6th toss (i.e., the seventh toss)."
   ]
  },
  {
   "cell_type": "markdown",
   "metadata": {},
   "source": [
    "<b>c.</b> What is the significance level of a test that rejects $H_0$ if X ≥ 8?"
   ]
  },
  {
   "cell_type": "markdown",
   "metadata": {},
   "source": [
    "$\\alpha$ = significance level = $\\mathbb{P}(\\text{reject } H_0 \\text{when it is true})$ \n",
    "\n",
    "Clearly then, we sum all the probabilities below 8:\n"
   ]
  },
  {
   "cell_type": "code",
   "execution_count": 29,
   "metadata": {
    "collapsed": false
   },
   "outputs": [
    {
     "name": "stdout",
     "output_type": "stream",
     "text": [
      "[1 2 3 4 5 6 7]\n"
     ]
    },
    {
     "data": {
      "text/plain": [
       "0.9921875"
      ]
     },
     "execution_count": 29,
     "metadata": {},
     "output_type": "execute_result"
    }
   ],
   "source": [
    "x = array(range(1,8))\n",
    "sum(0.5*(0.5)**(x-1))"
   ]
  },
  {
   "cell_type": "markdown",
   "metadata": {},
   "source": [
    "<b>d.</b> What is the power of this test?"
   ]
  },
  {
   "cell_type": "code",
   "execution_count": 30,
   "metadata": {
    "collapsed": false
   },
   "outputs": [
    {
     "data": {
      "text/plain": [
       "0.99978129999999998"
      ]
     },
     "execution_count": 30,
     "metadata": {},
     "output_type": "execute_result"
    }
   ],
   "source": [
    "x = array(range(1,8))\n",
    "sum(0.7*(0.3)**(x-1))"
   ]
  },
  {
   "cell_type": "markdown",
   "metadata": {},
   "source": [
    "<b>9.7</b> Let $X_1 , . . . , X_n$ be a sample from a Poisson distribution. Find the likelihood ratio\n",
    "for testing $H_0 : λ = λ_0$ versus $H_A : λ = λ_1$ , where $λ_1 > λ_0$ . Use the fact that the\n",
    "sum of independent Poisson random variables follows a Poisson distribution to\n",
    "explain how to determine a rejection region for a test at level α."
   ]
  },
  {
   "cell_type": "markdown",
   "metadata": {},
   "source": [
    "The likelihood ratio is defined as\n",
    "\n",
    "$$\\Lambda = \\frac {lik(\\lambda_0)}{lik(\\lambda_1)}$$\n",
    "\n",
    "Thus,\n",
    "$$\\Lambda = \\left(\\frac {\\lambda_0}{\\lambda_1} \\right)^{n \\bar{X}}e^{n(\\lambda_1 - \\lambda_0)}$$\n",
    "\n",
    "Where we reject $H_0$ when $\\Lambda$ is smaller than $\\alpha$.\n",
    "\n",
    "We already know that $λ_1 > λ_0$ and therefore as $\\bar{X}$ gets bigger, we would be more likely to reject the null hypothesis.\n",
    "\n",
    "$$\\alpha = \\mathbb{P}(\\bar{X}>c | \\lambda_0) = 1 - \\mathbb{F}(c)$$\n",
    "\n",
    "Where $\\mathbb{F}$ is the cdf of a Poisson distribution, with parameter $nλ_0$."
   ]
  },
  {
   "cell_type": "markdown",
   "metadata": {},
   "source": [
    "<b>9.8</b> Show that the test of Problem 7 is uniformly most powerful for testing $H_0 : λ = λ_0$\n",
    "versus $H_A : λ > λ_0$ . \n",
    "\n",
    "By the Neyman-Pearson Lemma, we have\n",
    "\n",
    "Suppose that $H_0$ and $H_1$ are simple hypotheses and that the test that rejects $H_0$\n",
    "whenever the likelihood ratio is less than c and significance level α. Then any\n",
    "other test for which the significance level is less than or equal to α has power\n",
    "less than or equal to that of the likelihood ratio test.\n",
    "\n",
    "Clearly, for our problem, even though the alternative is a composite, all individual simple alternatives (i.e., pick any $\\lambda>\\lambda_0$) is most powerful and therefore we say that the test is uniformly most powerful."
   ]
  },
  {
   "cell_type": "markdown",
   "metadata": {},
   "source": [
    "<b>9.11</b> Suppose that $X_1 , . . . , X_{25}$ form a random sample from a normal distribution having a variance of 100. Graph the power of the likelihood ratio test of $H_0 : μ = 0$\n",
    "versus $H_A : μ \\neq 0$ as a function of μ, at significance levels .10 and .05. Do the\n",
    "same for a sample size of 100. Compare the graphs and explain what\n",
    "you see."
   ]
  },
  {
   "cell_type": "code",
   "execution_count": 37,
   "metadata": {
    "collapsed": false
   },
   "outputs": [
    {
     "data": {
      "text/plain": [
       "3.2897072539029444"
      ]
     },
     "execution_count": 37,
     "metadata": {},
     "output_type": "execute_result"
    }
   ],
   "source": [
    "from scipy.stats import norm\n",
    "sqrt(100)*norm.ppf(0.95)/sqrt(25)"
   ]
  },
  {
   "cell_type": "code",
   "execution_count": null,
   "metadata": {
    "collapsed": true
   },
   "outputs": [],
   "source": []
  }
 ],
 "metadata": {
  "kernelspec": {
   "display_name": "Python 3",
   "language": "python",
   "name": "python3"
  },
  "language_info": {
   "codemirror_mode": {
    "name": "ipython",
    "version": 3
   },
   "file_extension": ".py",
   "mimetype": "text/x-python",
   "name": "python",
   "nbconvert_exporter": "python",
   "pygments_lexer": "ipython3",
   "version": "3.4.1"
  }
 },
 "nbformat": 4,
 "nbformat_minor": 0
}
