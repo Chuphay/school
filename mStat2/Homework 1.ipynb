{
 "cells": [
  {
   "cell_type": "code",
   "execution_count": 7,
   "metadata": {
    "collapsed": false
   },
   "outputs": [
    {
     "name": "stdout",
     "output_type": "stream",
     "text": [
      "Populating the interactive namespace from numpy and matplotlib\n"
     ]
    }
   ],
   "source": [
    "%pylab inline"
   ]
  },
  {
   "cell_type": "markdown",
   "metadata": {},
   "source": [
    "##Homework #1"
   ]
  },
  {
   "cell_type": "markdown",
   "metadata": {},
   "source": [
    "<b>5.)</b> Let $X_1 , . . . , X_n$ be a sample (i.i.d.) from a distribution function, $F$, and let $F_n$\n",
    "denote the ecdf. Show that\n",
    "\n",
    "$$Cov [F_n (u), F_n (v)] = \\frac 1 n [F(m) − F(u)F(v)]$$\n",
    "\n",
    "where m = min(u, v). Conclude that $F_n (u)$ and $F_n (v)$ are positively correlated:\n",
    "If $F_n (u)$ overshoots $F(u)$, then $F_n (v)$ will tend to overshoot $F(v)$."
   ]
  },
  {
   "cell_type": "markdown",
   "metadata": {},
   "source": [
    "<b>6.)</b> Various chemical tests were conducted on beeswax by White, Riethof, and\n",
    "Kushnir (1960). In particular, the percentage of hydrocarbons in each sample\n",
    "of wax was determined.\n",
    "\n",
    "a.) Plot the ecdf, a histogram, and a normal probability plot of the percentages of\n",
    "hydrocarbons given in the following table. Find the .90, .75, .50, .25, and .10\n",
    "quantiles. Does the distribution appear Gaussian?"
   ]
  },
  {
   "cell_type": "code",
   "execution_count": 6,
   "metadata": {
    "collapsed": false
   },
   "outputs": [
    {
     "data": {
      "text/plain": [
       "59"
      ]
     },
     "execution_count": 6,
     "metadata": {},
     "output_type": "execute_result"
    }
   ],
   "source": [
    "data = array([ 14.27,  15.15,  13.98,  15.4 ,  14.04,  14.1 ,  13.75,  14.23,\n",
    "        14.8 ,  13.98,  14.47,  14.68,  13.68,  15.47,  14.87,  14.44,\n",
    "        12.28,  14.9 ,  14.65,  13.33,  15.31,  13.73,  15.28,  14.57,\n",
    "        17.09,  15.91,  14.73,  14.41,  14.32,  13.65,  14.43,  15.1 ,\n",
    "        14.52,  15.18,  14.19,  13.64,  15.02,  13.96,  12.92,  15.63,\n",
    "        14.49,  15.21,  14.77,  14.01,  14.57,  15.56,  13.83,  14.56,\n",
    "        14.75,  14.3 ,  14.92,  15.49,  15.38,  13.66,  15.03,  14.41,\n",
    "        14.62,  15.47,  15.13])\n",
    "len(data)"
   ]
  },
  {
   "cell_type": "markdown",
   "metadata": {},
   "source": [
    "b.) The average percentage of hydrocarbons in microcrystalline wax (a synthetic\n",
    "commercial wax) is 85%. Suppose that beeswax was diluted with 1% microcrystalline wax. Could this be detected? What about a 3% or a 5% dilution?\n",
    "(Such questions were one of the main concerns of the beeswax study.)"
   ]
  },
  {
   "cell_type": "markdown",
   "metadata": {},
   "source": [
    "<b>10.)</b> Let $X_1 , . . . , X_n$ be a sample from cdf F and denote the order statistics by\n",
    "$X_{(1)} , X_{(2)} , . . . , X_{(n)}$ . We will assume that F is continuous, with density func-\n",
    "tion f . From Theorem A in Section 3.7, the density function of $X_{(k)}$ is\n",
    "\n",
    "$$f_k (x) = n {n-1 \\choose k -1} [F(x)]^{ k−1} [1 − F(x)]^{ n−k }f (x)$$\n",
    "\n",
    "\n",
    "a. Find the mean and variance of $X_{(k)}$ from a uniform distribution on [0, 1]. You\n",
    "will need to use the fact that the density of $X_{(k)}$ integrates to 1. Show that\n",
    "\n",
    "$$\\text{Mean} = \\frac k {n + 1}$$\n",
    "\n",
    "$$\\text{Variance} = \\frac 1 {n + 2} (\\frac k {n + 1})(1 − \\frac k {n + 1})$$\n",
    "\n",
    "b. Find the approximate mean and variance of $Y_{ (k)}$ , the kth-order statistic of a\n",
    "sample of size n from F. To do this, let\n",
    "\n",
    "$$X_i = F(Y_i )$$\n",
    "\n",
    "or\n",
    "\n",
    "$$Y_i = F^{ −1} (X_i )$$\n",
    "\n",
    "The $X_i$ are a sample from a U [0, 1] distribution (why?). Use the propagation\n",
    "of error formula,\n",
    "\n",
    "$$Y_{(k)} = F^{ −1} (X_{(k)} )$$\n",
    "\n",
    "$$≈ F^{ −1}(\\frac k {n + 1})+ (X_{(k)} − \\frac k {n + 1}) \\frac d {dx} F^{-1} (x)|_{k/(n+1)}$$\n",
    "\n",
    "and argue that\n",
    "\n",
    "\n",
    "$$\\mathbb{E} Y_{(k)} ≈ F^{ −1} (\\frac k {n+1})$$\n",
    "\n",
    "$$\\text{Var} (Y_{(k)} ) ≈ \\frac k {n + 1} \\left(1 - \\frac k {n + 1}\\right) \\frac 1 {( f\\{F^{−1} [k/(n+1)]\\})^2} \\left(\\frac 1 {n + 2}\\right)$$\n",
    "\n",
    "c. Use the results of parts (a) and (b) to show that the variance of the pth sample\n",
    "quantile is approximately\n",
    "\n",
    "$$\\frac 1 {nf^2 (x_p )}p(1 − p)$$\n",
    "\n",
    "where $x_p$ is the pth quantile.\n",
    "\n",
    "d. Use the result of part (c) to find the approximate variance of the median of a\n",
    "sample of size n from a N (μ, σ 2 ) distribution. Compare to the variance of the\n",
    "sample mean."
   ]
  },
  {
   "cell_type": "markdown",
   "metadata": {},
   "source": [
    "<b>11.)</b> Calculate the hazard function for\n",
    "\n",
    "\n",
    "$$F(t) = 1 − e^{ −αt^{\\beta}} , ~~~~~~~~~~ t ≥ 0$$"
   ]
  },
  {
   "cell_type": "markdown",
   "metadata": {},
   "source": [
    "<b>15.)</b> A prisoner is told that he will be released at a time chosen uniformly at random\n",
    "within the next 24 hours. Let T denote the time that he is released. What is the\n",
    "hazard function for T ? For what values of t is it smallest and largest? If he has\n",
    "been waiting for 5 hours, is it more likely that he will be released in the next few\n",
    "minutes than if he has been waiting for 1 hour?"
   ]
  },
  {
   "cell_type": "markdown",
   "metadata": {},
   "source": [
    "<b>29.)</b> \n",
    "Of the 26 measurements of the heat of sublimation of platinum, 5 are outliers\n",
    "(see Figure 10.10). Let N denote the number of these outliers that occur in a\n",
    "bootstrap sample (sample with replacement) of the 26 measurements.\n",
    "\n",
    "a. Explain why the distribution of N is binomial.\n",
    "\n",
    "b. Find P(N ≥ 10).\n",
    "\n",
    "c. In 1000 bootstrap samples, how many would you expect to contain 10 or more\n",
    "of these outliers? Additionally run a bootstrap to compare.\n",
    "\n",
    "d. What is the probability that a bootstrap sample is composed entirely of these\n",
    "outliers?"
   ]
  }
 ],
 "metadata": {
  "kernelspec": {
   "display_name": "Python 3",
   "language": "python",
   "name": "python3"
  },
  "language_info": {
   "codemirror_mode": {
    "name": "ipython",
    "version": 3
   },
   "file_extension": ".py",
   "mimetype": "text/x-python",
   "name": "python",
   "nbconvert_exporter": "python",
   "pygments_lexer": "ipython3",
   "version": "3.4.1"
  }
 },
 "nbformat": 4,
 "nbformat_minor": 0
}
