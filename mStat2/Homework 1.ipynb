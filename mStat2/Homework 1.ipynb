{
 "cells": [
  {
   "cell_type": "code",
   "execution_count": 2,
   "metadata": {
    "collapsed": false
   },
   "outputs": [
    {
     "name": "stdout",
     "output_type": "stream",
     "text": [
      "Populating the interactive namespace from numpy and matplotlib\n"
     ]
    }
   ],
   "source": [
    "%pylab inline"
   ]
  },
  {
   "cell_type": "markdown",
   "metadata": {},
   "source": [
    "##Homework #1"
   ]
  },
  {
   "cell_type": "markdown",
   "metadata": {},
   "source": [
    "<b>5.)</b> Let $X_1 , . . . , X_n$ be a sample (i.i.d.) from a distribution function, $F$, and let $F_n$\n",
    "denote the ecdf. Show that\n",
    "\n",
    "$$\\text{Cov} [F_n (u), F_n (v)] = \\frac 1 n [F(m) − F(u)F(v)]$$\n",
    "\n",
    "where m = min(u, v). \n",
    "\n",
    "$$\\text{Cov} [F_n (u), F_n (v)] = \\mathbb{E}[F_n (u) F_n (v)] - \\mathbb{E}[F_n(u)] \\mathbb{E}\n",
    "[F_n(v)]$$\n",
    "\n",
    "$$= \\mathbb{E} \\left[ \\frac 1 {n^2} \\sum_{i,j} \\mathbb{I}_{(-\\infty, u]} (X_i)\\mathbb{I}_{(-\\infty, v]}(X_j) \\right] - F(u)F(v)$$\n",
    "\n",
    "$$= \\frac 1 {n^2} \\sum_{i,j} \\left[ \\mathbb{E} \\{\\mathbb{I}_{(-\\infty, u]} (X_i)\\mathbb{I}_{(-\\infty, v]}(X_j) \\} - F(u)F(v) \\right]$$\n",
    "\n",
    "$$ = \\frac 1 {n^2} \\sum_{i,j} \\left[\\mathbb{P}(X_i \\leq u ~~~ \\text{and} ~~~~ X_j \\leq v) - F(u)F(v) \\right]$$\n",
    "\n",
    "$$ = \\frac 1 {n^2} \\sum_{i= j} \\left[\\mathbb{P}(X_i \\leq u ~~~ \\text{and} ~~~~ X_j \\leq v) - F(u)F(v) \\right]\n",
    "+\\frac 1 {n^2} \\sum_{i \\neq j} \\left[\\mathbb{P}(X_i \\leq u ~~~ \\text{and} ~~~~ X_j \\leq v) - F(u)F(v) \\right]\n",
    "$$\n",
    "\n",
    "$$ = \\frac 1 {n^2} \\sum_i [F(m) - F(u)F(v)] + 0$$\n",
    "\n",
    "Where the second term is zero because of independence. And therefore, \n",
    "\n",
    "$$\\text{Cov} [F_n (u), F_n (v)] = \\frac 1 n [F(m) − F(u)F(v)]$$\n",
    "\n",
    "Conclude that $F_n (u)$ and $F_n (v)$ are positively correlated:\n",
    "If $F_n (u)$ overshoots $F(u)$, then $F_n (v)$ will tend to overshoot $F(v)$.\n",
    "\n",
    "Because F(x) is less than or equal to one, the covariance will either be zero or positive. This means they are positively correlated. To explain it a little more clearly, we suppose, without any loss of generality that u is less than v, therefore, we can write the covariance as\n",
    "\n",
    "$$\\frac {F(u)} n [1 − F(v)]$$\n",
    "\n",
    "and because F(v) is less than or equal to one, the above expression cannot be negative."
   ]
  },
  {
   "cell_type": "markdown",
   "metadata": {},
   "source": [
    "<b>6.)</b> Various chemical tests were conducted on beeswax by White, Riethof, and\n",
    "Kushnir (1960). In particular, the percentage of hydrocarbons in each sample\n",
    "of wax was determined.\n",
    "\n",
    "a.) Plot the ecdf, a histogram, and a normal probability plot of the percentages of\n",
    "hydrocarbons given in the following table. Find the .90, .75, .50, .25, and .10\n",
    "quantiles. Does the distribution appear Gaussian?"
   ]
  },
  {
   "cell_type": "code",
   "execution_count": 19,
   "metadata": {
    "collapsed": false
   },
   "outputs": [],
   "source": [
    "data = array([ 14.27,  15.15,  13.98,  15.4 ,  14.04,  14.1 ,  13.75,  14.23,\n",
    "        14.8 ,  13.98,  14.47,  14.68,  13.68,  15.47,  14.87,  14.44,\n",
    "        12.28,  14.9 ,  14.65,  13.33,  15.31,  13.73,  15.28,  14.57,\n",
    "        17.09,  15.91,  14.73,  14.41,  14.32,  13.65,  14.43,  15.1 ,\n",
    "        14.52,  15.18,  14.19,  13.64,  15.02,  13.96,  12.92,  15.63,\n",
    "        14.49,  15.21,  14.77,  14.01,  14.57,  15.56,  13.83,  14.56,\n",
    "        14.75,  14.3 ,  14.92,  15.49,  15.38,  13.66,  15.03,  14.41,\n",
    "        14.62,  15.47,  15.13])"
   ]
  },
  {
   "cell_type": "code",
   "execution_count": 20,
   "metadata": {
    "collapsed": false
   },
   "outputs": [
    {
     "data": {
      "image/png": "[encoded data removed]",
      "text/plain": [
       "<matplotlib.figure.Figure at 0xaa4b746c>"
      ]
     },
     "metadata": {},
     "output_type": "display_data"
    }
   ],
   "source": [
    "from statsmodels.distributions.empirical_distribution import ECDF\n",
    "import scipy.stats as stats   \n",
    "ecdf = ECDF(data)\n",
    "figsize(12,5)\n",
    "subplot(131)\n",
    "plot(ecdf.x, ecdf.y);\n",
    "subplot(132)\n",
    "hist(data);\n",
    "subplot(133)\n",
    "stats.probplot(data, dist=\"norm\", plot=pylab);"
   ]
  },
  {
   "cell_type": "code",
   "execution_count": 28,
   "metadata": {
    "collapsed": false
   },
   "outputs": [
    {
     "data": {
      "text/plain": [
       "array([ 15.47 ,  15.115,  14.57 ,  14.07 ,  13.676])"
      ]
     },
     "execution_count": 28,
     "metadata": {},
     "output_type": "execute_result"
    }
   ],
   "source": [
    "np.percentile(data,[90, 75, 50, 25,10 ])"
   ]
  },
  {
   "cell_type": "markdown",
   "metadata": {},
   "source": [
    "I would say it appears to be somewhat Gaussian."
   ]
  },
  {
   "cell_type": "markdown",
   "metadata": {},
   "source": [
    "b.) The average percentage of hydrocarbons in microcrystalline wax (a synthetic\n",
    "commercial wax) is 85%. Suppose that beeswax was diluted with 1% microcrystalline wax. Could this be detected? What about a 3% or a 5% dilution?\n",
    "(Such questions were one of the main concerns of the beeswax study.)"
   ]
  },
  {
   "cell_type": "markdown",
   "metadata": {},
   "source": [
    "This would need an analysis of variance to be sure, but a quick numeric check leads me to believe that a 1% dilution would be undetectable, but a 5% dilution would be detectable. The 3% dilution seems to be at the border between detectable and not detectible. "
   ]
  },
  {
   "cell_type": "markdown",
   "metadata": {},
   "source": [
    "<b>10.)</b> Let $X_1 , . . . , X_n$ be a sample from cdf F and denote the order statistics by\n",
    "$X_{(1)} , X_{(2)} , . . . , X_{(n)}$ . We will assume that F is continuous, with density func-\n",
    "tion f . From Theorem A in Section 3.7, the density function of $X_{(k)}$ is\n",
    "\n",
    "$$f_k (x) = n {n-1 \\choose k -1} [F(x)]^{ k−1} [1 − F(x)]^{ n−k }f (x)$$\n",
    "\n",
    "\n",
    "a. Find the mean and variance of $X_{(k)}$ from a uniform distribution on [0, 1]. You\n",
    "will need to use the fact that the density of $X_{(k)}$ integrates to 1. Show that\n",
    "\n",
    "$$\\text{Mean} = \\frac k {n + 1}$$\n",
    "\n",
    "$$\\text{Variance} = \\frac 1 {n + 2} (\\frac k {n + 1})(1 − \\frac k {n + 1})$$\n",
    "\n",
    "<b>Solution:</b>\n",
    "\n",
    "$$\\mathbb{E}[X] = \\int x n {n-1 \\choose k-1} x^{k-1}(1-x)^{n-k} dx$$\n",
    "\n",
    "Let $\\lambda = k+1$ and $m = n +1$, then we can rewrite the above expression:\n",
    "\n",
    "$$ \\mathbb{E}[X] = \\frac {\\lambda -1} m \\int m {m-1 \\choose \\lambda-1} x^{\\lambda-1}(1-x)^{m-\\lambda} dx$$\n",
    "\n",
    "The part under the integral, integrates to 1, and then back substituting, yields\n",
    "\n",
    "$$\\text{Mean} = \\frac k {n + 1}$$\n",
    "\n",
    "Similarily, we find\n",
    "\n",
    "$$\\mathbb{E}[X^2] = \\frac {k(k+1)}{(n+1)(n+2)}$$\n",
    "\n",
    "Therefore,\n",
    "\n",
    "$$\\text{Var} = \\mathbb{E}[X^2] - (\\mathbb{E}[X])^2 = \\frac {k(k+1)}{(n+1)(n+2)} - (\\frac k {n + 1})^2$$\n",
    "\n",
    "and after some algebra, we are left with\n",
    "\n",
    "$$\\text{Variance} = \\frac 1 {n + 2} (\\frac k {n + 1})(1 − \\frac k {n + 1})$$\n",
    "\n",
    "b. Find the approximate mean and variance of $Y_{ (k)}$ , the kth-order statistic of a\n",
    "sample of size n from F. To do this, let\n",
    "\n",
    "$$X_i = F(Y_i )$$\n",
    "\n",
    "or\n",
    "\n",
    "$$Y_i = F^{ −1} (X_i )$$\n",
    "\n",
    "The $X_i$ are a sample from a U [0, 1] distribution (why?). Use the propagation\n",
    "of error formula,\n",
    "\n",
    "$$Y_{(k)} = F^{ −1} (X_{(k)} )$$\n",
    "\n",
    "$$≈ F^{ −1}(\\frac k {n + 1})+ (X_{(k)} − \\frac k {n + 1}) \\frac d {dx} F^{-1} (x)|_{k/(n+1)}$$\n",
    "\n",
    "and argue that"
   ]
  },
  {
   "cell_type": "markdown",
   "metadata": {},
   "source": [
    "$$\\mathbb{E} Y_{(k)} ≈ F^{ −1} (\\frac k {n+1})$$\n",
    "\n",
    "$$\\text{Var} (Y_{(k)} ) ≈ \\frac k {n + 1} \\left(1 - \\frac k {n + 1}\\right) \\frac 1 {( f\\{F^{−1} [k/(n+1)]\\})^2} \\left(\\frac 1 {n + 2}\\right)$$\n",
    "\n",
    "<b>Solution:</b>\n",
    "\n",
    "$$\\mathbb{E} Y_{(k)} = \\mathbb{E} F^{ −1}(\\frac k {n + 1})+ (X_{(k)} − \\frac k {n + 1}) \\frac d {dx} F^{-1} (x)|_{k/(n+1)}$$\n",
    "\n",
    "$$= F^{ −1}(\\frac k {n + 1})$$\n",
    "\n",
    "because $\\mathbb{E}(X_{(k)} − \\frac k {n + 1}) = 0$.\n",
    "\n",
    "For the variance, we can ignore all constants and therefore must only find\n",
    "\n",
    "$$\\text{Var} (X_{(k)} \\frac d {dx} F^{-1} (x)|_{k/(n+1)}) = (\\frac d {dx} F^{-1} (x)|_{k/(n+1)})^2 \\text{Var} (X_{(k)}) = (\\frac d {dx} F^{-1} (x)|_{k/(n+1)})^2 \\frac 1 {n + 2} (\\frac k {n + 1})(1 − \\frac k {n + 1})$$\n",
    "\n",
    "c. Use the results of parts (a) and (b) to show that the variance of the pth sample\n",
    "quantile is approximately\n",
    "\n",
    "$$\\frac 1 {nf^2 (x_p )}p(1 − p)$$\n",
    "\n",
    "where $x_p$ is the pth quantile.\n",
    "\n",
    "d. Use the result of part (c) to find the approximate variance of the median of a\n",
    "sample of size n from a N (μ, σ 2 ) distribution. Compare to the variance of the\n",
    "sample mean."
   ]
  },
  {
   "cell_type": "markdown",
   "metadata": {},
   "source": [
    "<b>11.)</b> Calculate the hazard function for\n",
    "\n",
    "\n",
    "$$F(t) = 1 − e^{ −αt^{\\beta}} , ~~~~~~~~~~ t ≥ 0$$\n",
    "\n",
    "The hazard function is defined as\n",
    "\n",
    "$$h(t) = - \\frac d {dt} log (1- F(t))$$\n",
    "\n",
    "Therefore,\n",
    "\n",
    "$$h(t)= \\frac d {dt} (- \\alpha t^{\\beta} ) = - \\alpha \\beta t^{\\beta-1}$$"
   ]
  },
  {
   "cell_type": "markdown",
   "metadata": {},
   "source": [
    "<b>15.)</b> A prisoner is told that he will be released at a time chosen uniformly at random\n",
    "within the next 24 hours. Let T denote the time that he is released. What is the\n",
    "hazard function for T ? For what values of t is it smallest and largest? If he has\n",
    "been waiting for 5 hours, is it more likely that he will be released in the next few\n",
    "minutes than if he has been waiting for 1 hour?\n",
    "\n",
    "$$h(t) = - \\frac d {dt} log (1- F(t)) = - \\frac d {dt} log (1 - t/24) = \\frac 1 {(24 - t)}$$\n",
    "\n",
    "The hazard function is largest and smallest at the two endpoints of the 24 hours.\n",
    "\n",
    "The longer he waits the more likely it is that he will be released."
   ]
  },
  {
   "cell_type": "markdown",
   "metadata": {},
   "source": [
    "<b>29.)</b> \n",
    "Of the 26 measurements of the heat of sublimation of platinum, 5 are outliers\n",
    "(see Figure 10.10). Let N denote the number of these outliers that occur in a\n",
    "bootstrap sample (sample with replacement) of the 26 measurements.\n",
    "\n",
    "a. Explain why the distribution of N is binomial.\n",
    "\n",
    "It's binomial because there is only two options: outlier / not-outlier. And because we are sampling with replacement there is a certain probability of each choice to be either a success or not.\n",
    "\n",
    "b. Find P(N ≥ 10)."
   ]
  },
  {
   "cell_type": "code",
   "execution_count": 49,
   "metadata": {
    "collapsed": false
   },
   "outputs": [
    {
     "data": {
      "text/plain": [
       "0.017876217119130344"
      ]
     },
     "execution_count": 49,
     "metadata": {},
     "output_type": "execute_result"
    }
   ],
   "source": [
    "from scipy.stats import binom\n",
    "1 - binom.cdf(9,26,5/26)"
   ]
  },
  {
   "cell_type": "markdown",
   "metadata": {},
   "source": [
    "c. In 1000 bootstrap samples, how many would you expect to contain 10 or more\n",
    "of these outliers? Additionally run a bootstrap to compare.\n",
    "\n",
    "Apparently, from above, we should expect something like 17.8 to contain 10 or more"
   ]
  },
  {
   "cell_type": "code",
   "execution_count": 47,
   "metadata": {
    "collapsed": false
   },
   "outputs": [
    {
     "name": "stdout",
     "output_type": "stream",
     "text": [
      "16\n"
     ]
    }
   ],
   "source": [
    "sample = [0 for i in range(26)]\n",
    "sample[0:5] = [1 for i in range(5)]\n",
    "out = 0\n",
    "for i in range(1000):\n",
    "    if(sum(np.random.choice(sample,26))>9):\n",
    "        out += 1\n",
    "print(out)"
   ]
  },
  {
   "cell_type": "markdown",
   "metadata": {},
   "source": [
    "d. What is the probability that a bootstrap sample is composed entirely of these\n",
    "outliers?"
   ]
  },
  {
   "cell_type": "code",
   "execution_count": 55,
   "metadata": {
    "collapsed": false
   },
   "outputs": [
    {
     "data": {
      "text/plain": [
       "2.4205444679400115e-19"
      ]
     },
     "execution_count": 55,
     "metadata": {},
     "output_type": "execute_result"
    }
   ],
   "source": [
    "binom.cdf(0,26,21/26)"
   ]
  }
 ],
 "metadata": {
  "kernelspec": {
   "display_name": "Python 3",
   "language": "python",
   "name": "python3"
  },
  "language_info": {
   "codemirror_mode": {
    "name": "ipython",
    "version": 3
   },
   "file_extension": ".py",
   "mimetype": "text/x-python",
   "name": "python",
   "nbconvert_exporter": "python",
   "pygments_lexer": "ipython3",
   "version": "3.4.1"
  }
 },
 "nbformat": 4,
 "nbformat_minor": 0
}
