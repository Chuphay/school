{
 "cells": [
  {
   "cell_type": "code",
   "execution_count": 1,
   "metadata": {
    "collapsed": false
   },
   "outputs": [
    {
     "name": "stdout",
     "output_type": "stream",
     "text": [
      "Populating the interactive namespace from numpy and matplotlib\n"
     ]
    }
   ],
   "source": [
    "%pylab inline"
   ]
  },
  {
   "cell_type": "markdown",
   "metadata": {},
   "source": [
    "## 9.15\n",
    "\n",
    "Suppose that under $H_0$ , a measurement X is $N (0, σ^2 )$, and that under $H_1$ , X\n",
    "is $N (1, σ^2 )$ and that the prior probability $P(H_0 ) = P(H_1 )$. For σ = 1 and\n",
    "x ∈ [0, 3], plot and compare (1) the p-value for the test of $H_0$ and (2) $P(H_0 |x)$.\n",
    "Can the p-value be interpreted as the probability that $H_0$ is true? "
   ]
  },
  {
   "cell_type": "code",
   "execution_count": 2,
   "metadata": {
    "collapsed": false
   },
   "outputs": [
    {
     "data": {
      "image/png": "[encoded data removed]",
      "text/plain": [
       "<matplotlib.figure.Figure at 0xb06c4d8c>"
      ]
     },
     "metadata": {},
     "output_type": "display_data"
    }
   ],
   "source": [
    "from scipy.stats import norm\n",
    "\n",
    "x = linspace(0,3,100)\n",
    "plot(x, 1- norm.cdf(x,0,1));"
   ]
  },
  {
   "cell_type": "code",
   "execution_count": 3,
   "metadata": {
    "collapsed": false
   },
   "outputs": [
    {
     "data": {
      "image/png": "[encoded data removed]",
      "text/plain": [
       "<matplotlib.figure.Figure at 0xadbc364c>"
      ]
     },
     "metadata": {},
     "output_type": "display_data"
    }
   ],
   "source": [
    "def prob(x,sigma):\n",
    "    lam = norm.pdf(x,0,sigma)/norm.pdf(x,1,sigma)\n",
    "    return lam/(1+lam)\n",
    "plot(x,prob(x,1));"
   ]
  },
  {
   "cell_type": "markdown",
   "metadata": {},
   "source": [
    "Choose another value of σ and repeat.\n"
   ]
  },
  {
   "cell_type": "code",
   "execution_count": 4,
   "metadata": {
    "collapsed": false
   },
   "outputs": [
    {
     "data": {
      "image/png": "[encoded data removed]",
      "text/plain": [
       "<matplotlib.figure.Figure at 0xadaa48ec>"
      ]
     },
     "metadata": {},
     "output_type": "display_data"
    }
   ],
   "source": [
    "subplot(121)\n",
    "plot(x, 1- norm.cdf(x,0,5));\n",
    "subplot(122)\n",
    "plot(x,prob(x,5));"
   ]
  },
  {
   "cell_type": "markdown",
   "metadata": {},
   "source": [
    "##9.17\n",
    "\n",
    "Let $X ∼ N (0, σ^2 )$, and consider testing $H_0$ : $σ_1 = σ_0$ versus $H_A : σ = σ_1$ , where\n",
    "$σ_1 > σ_0$ . The values $σ_0$ and $σ_1$ are fixed.\n",
    "\n",
    "a. What is the likelihood ratio as a function of x? What values favor $H_0$ ? What\n",
    "is the rejection region of a level α test?\n",
    "\n",
    "$$\\Lambda = \\frac {\\sigma_1}{\\sigma_0} \\exp [-x^2(\\frac 1 {2 \\sigma_0^2} - \\frac 1 {2 \\sigma_1^2})]$$ \n",
    "\n",
    "When $x^2$ is small, we favor the null hypothesis. Because $X^2/\\sigma_0^2 \\sim \\chi^2_1$ we write the rejection region as\n",
    "\n",
    "$$X^2 > \\sigma_0^2 \\chi^2_1(\\alpha)$$\n",
    "\n",
    "b. For a sample, $X_1 , X_2 , . . . , X_n$ distributed as above, repeat the previous question.\n",
    "\n",
    "$$\\Lambda = \\frac {\\sigma_1}{\\sigma_0} \\exp [-\\sum X_i^2(\\frac 1 {2 \\sigma_0^2} - \\frac 1 {2 \\sigma_1^2})]$$ \n",
    "\n",
    "When $\\sum X_i^2$ is small, we favor the null hypothesis. Because $\\sum X_i^2/\\sigma_0^2 \\sim \\chi^2_1$ we write the rejection region as\n",
    "\n",
    "$$\\sum X_i^2 > \\sigma_0^2 \\chi^2_1(\\alpha)$$\n",
    "\n",
    "c. Is the test in the previous question uniformly most powerful for testing\n",
    "$H_0 : σ = σ_0$ versus $H_1 : σ > σ_0$ ?\n",
    "\n",
    "Yes."
   ]
  },
  {
   "cell_type": "markdown",
   "metadata": {},
   "source": [
    "##9.18\n",
    "\n",
    "Let $X_1 , X_2 , . . . , X_n$ be i.i.d. random variables from a double exponential distri-\n",
    "bution with density $f (x) = \\frac 1 2 λ \\exp(−λ|x|)$. Derive a likelihood ratio test of the\n",
    "hypothesis $H_0 : λ = λ_0$ versus $H_1 : λ = λ_1$ , where $λ_0$ and $λ_1 > λ_0$ are specified\n",
    "numbers. Is the test uniformly most powerful against the alternative $H_1 : λ > λ_0$ ?\n",
    "\n",
    "$$\\Lambda = \\frac {λ_0} {λ_1} \\exp (-|x|(λ_0 -λ_1))$$\n",
    "\n",
    "Yes, the test is uniformly most powerful."
   ]
  },
  {
   "cell_type": "markdown",
   "metadata": {},
   "source": [
    "##9.22\n",
    "\n",
    "In Example A of Section 8.5.3 a confidence interval for the variance of a normal\n",
    "distribution was derived. Use Theorem B of Section 9.3 to derive an acceptance\n",
    "region for testing the hypothesis $H_0 : σ^2 = σ_0^2$ at the significance level α based on\n",
    "a sample $X_1 , X_2 , . . . , X_n$ . Precisely describe the rejection region if $σ_0 = 1$, n =\n",
    "15, α = .05.\n",
    "\n",
    "From Example A, we have an acceptance region:\n",
    "\n",
    "$$\\left[\\frac {n \\sigma_0^2}{\\chi_{n-1}^2(1 -\\alpha/2) }, \\frac {n \\sigma_0^2}{\\chi_{n-1}^2(\\alpha/2) }\\right]$$"
   ]
  },
  {
   "cell_type": "code",
   "execution_count": 30,
   "metadata": {
    "collapsed": false
   },
   "outputs": [
    {
     "name": "stdout",
     "output_type": "stream",
     "text": [
      "0.545684866864 2.39534812087\n"
     ]
    }
   ],
   "source": [
    "from scipy.stats import chi2\n",
    "print(15/chi2.ppf(0.975,15), 15/chi2.ppf(.025,15))"
   ]
  },
  {
   "cell_type": "markdown",
   "metadata": {},
   "source": [
    "And the rejection region is anything that lies outside of the acceptance region."
   ]
  },
  {
   "cell_type": "markdown",
   "metadata": {},
   "source": [
    "##9.25\n",
    "\n",
    "Calculate the likelihood ratio for Example B of Section 9.5 and compare the\n",
    "results of a test based on the likelihood ratio to those of one based on Pearson’s\n",
    "chi-square statistic."
   ]
  },
  {
   "cell_type": "code",
   "execution_count": 71,
   "metadata": {
    "collapsed": false
   },
   "outputs": [
    {
     "name": "stdout",
     "output_type": "stream",
     "text": [
      "estimated lambda 2.44\n",
      "74.9460474698\n"
     ]
    },
    {
     "data": {
      "text/plain": [
       "54.618714881854011"
      ]
     },
     "execution_count": 71,
     "metadata": {},
     "output_type": "execute_result"
    }
   ],
   "source": [
    "num = [0, 1, 2, 3, 4, 5, 6, 7, 8, 9, 10, 19]\n",
    "freq = [56, 104, 80, 62, 42, 27, 9, 9, 5, 3, 2, 1]\n",
    "n = sum(freq)\n",
    "out = 0\n",
    "for i in range(len(num)):\n",
    "    out += num[i]*freq[i]\n",
    "lam = out/n    \n",
    "from scipy.stats import poisson\n",
    "observed = [56, 104, 80, 62, 42, 27, 9, 20]\n",
    "expected = n*poisson.pmf(range(8), lam)\n",
    "expected[7] = (n*(1-poisson.cdf(6,lam)))\n",
    "print(sum((observed - expected)**2/(expected)))\n",
    "2*sum(observed*np.log(observed/expected))"
   ]
  },
  {
   "cell_type": "markdown",
   "metadata": {},
   "source": [
    "While both tests reject the null hypothesis. We see that Pearson's rejects at about $−2 \\log \\Lambda = 75$. But the likelihood ratio rejcts at about $−2 \\log \\Lambda = 55$"
   ]
  },
  {
   "cell_type": "markdown",
   "metadata": {},
   "source": [
    "##9.26\n",
    "\n",
    "True or false:\n",
    "\n",
    "a. The generalized likelihood ratio statistic is always less than or equal to 1.\n",
    "\n",
    "True\n",
    "\n",
    "b. If the p-value is .03, the corresponding test will reject at the significance\n",
    "level .02.\n",
    "\n",
    "False\n",
    "\n",
    "c. If a test rejects at significance level .06, then the p-value is less than or equal\n",
    "to .06.\n",
    "\n",
    "True\n",
    "\n",
    "d. The p-value of a test is the probability that the null hypothesis is correct.\n",
    "\n",
    "True\n",
    "\n",
    "e. In testing a simple versus simple hypothesis via the likelihood ratio, the\n",
    "p-value equals the likelihood ratio.\n",
    "\n",
    "False\n",
    "\n",
    "f. If a chi-square test statistic with 4 degrees of freedom has a value of 8.5, the\n",
    "p-value is less than .05.\n",
    "\n",
    "False, I get 0.07488723\n"
   ]
  },
  {
   "cell_type": "markdown",
   "metadata": {},
   "source": [
    "##9.28\n",
    "\n",
    "Suppose that a test statistic T has a standard normal null distribution.\n",
    "\n",
    "a. If the test rejects for large values of |T |, what is the p-value corresponding to\n",
    "T = 1.50?"
   ]
  },
  {
   "cell_type": "code",
   "execution_count": 5,
   "metadata": {
    "collapsed": false
   },
   "outputs": [
    {
     "data": {
      "text/plain": [
       "0.13361440253771617"
      ]
     },
     "execution_count": 5,
     "metadata": {},
     "output_type": "execute_result"
    }
   ],
   "source": [
    "(1 - norm.cdf(1.5))*2"
   ]
  },
  {
   "cell_type": "markdown",
   "metadata": {},
   "source": [
    "b. Answer the same question if the test rejects for large T ."
   ]
  },
  {
   "cell_type": "code",
   "execution_count": 6,
   "metadata": {
    "collapsed": false
   },
   "outputs": [
    {
     "data": {
      "text/plain": [
       "0.066807201268858085"
      ]
     },
     "execution_count": 6,
     "metadata": {},
     "output_type": "execute_result"
    }
   ],
   "source": [
    "(1 - norm.cdf(1.5))"
   ]
  },
  {
   "cell_type": "markdown",
   "metadata": {},
   "source": [
    "##9.34\n",
    "\n",
    "Test the goodness of fit of the data to the genetic model given in Problem 55 of\n",
    "Chapter 8."
   ]
  },
  {
   "cell_type": "markdown",
   "metadata": {},
   "source": [
    "##9.41\n",
    "\n",
    "Let $X_i ∼ bin(n_i , p_i )$, for i = 1, . . . , m, be independent. Derive a likelihood ratio\n",
    "test for the hypothesis\n",
    "\n",
    "$$H_0 : p_1 = p_2 = · · · = p_m$$\n",
    "\n",
    "against the alternative hypothesis that the $p_i$ are not all equal. What is the large-\n",
    "sample distribution of the test statistic?\n",
    "\n",
    "Let $\\hat{p_0} = \\sum X_i / \\sum n_i$ and $\\hat{p}_i = X_i/ n_i$. Then\n",
    "\n",
    "$$\\Lambda = \\frac {\\prod \\hat{p_0}^{n_i \\hat{p}_i}(1 -\\hat{p_0})^{n_i -  n_i \\hat{p}_i}   }\n",
    "{\\prod \\hat{p_i}^{n_i \\hat{p}_i}(1 -\\hat{p_i})^{n_i -  n_i \\hat{p}_i}}$$\n",
    "\n",
    "\n",
    "\n"
   ]
  },
  {
   "cell_type": "markdown",
   "metadata": {},
   "source": [
    "##9.53\n",
    "\n",
    "Hoaglin (1980) suggested a “Poissonness plot”—a simple visual method for\n",
    "assessing goodness of fit. The expected frequencies for a sample of size n from a Poisson distribution are\n",
    "\n",
    "$$E_k = n P(X = k) = ne^{−λ}\\frac {λ^k}{k!}$$\n",
    "\n",
    "or\n",
    "\n",
    "$$log E_k = log n − λ + k log λ − log k!$$\n",
    "\n",
    "Thus, a plot of $log(O_k ) + log k!$ versus k should yield nearly a straight line with\n",
    "a slope of log λ and an intercept of log n − λ. Construct such plots for the data\n",
    "of Problems 1, 2, and 3 of Chapter 8. Comment on how straight they are."
   ]
  }
 ],
 "metadata": {
  "kernelspec": {
   "display_name": "Python 3",
   "language": "python",
   "name": "python3"
  },
  "language_info": {
   "codemirror_mode": {
    "name": "ipython",
    "version": 3
   },
   "file_extension": ".py",
   "mimetype": "text/x-python",
   "name": "python",
   "nbconvert_exporter": "python",
   "pygments_lexer": "ipython3",
   "version": "3.4.1"
  }
 },
 "nbformat": 4,
 "nbformat_minor": 0
}
