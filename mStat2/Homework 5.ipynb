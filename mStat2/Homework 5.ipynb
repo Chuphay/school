{
 "cells": [
  {
   "cell_type": "code",
   "execution_count": 7,
   "metadata": {
    "collapsed": false
   },
   "outputs": [
    {
     "name": "stdout",
     "output_type": "stream",
     "text": [
      "Populating the interactive namespace from numpy and matplotlib\n"
     ]
    }
   ],
   "source": [
    "%pylab inline"
   ]
  },
  {
   "cell_type": "markdown",
   "metadata": {},
   "source": [
    "13.4 In a famous sociological study called Middletown, Lynd and Lynd (1956) administered questionnaires to 784 white high school students. The students were\n",
    "asked which two of ten given attributes were most desirable in their fathers. The\n",
    "following table shows how the desirability of the attribute “being a college graduate” was rated by male and female students. Did the males and females value\n",
    "this attribute differently?\n",
    "\n",
    "<table>\n",
    "<tr><td></td><td>Male</td><td>Female</td></tr>\n",
    "<tr><td>Mentioned</td><td>86</td><td>55</td></tr>\n",
    "<tr><td>Not Mentioned</td><td>283</td><td>360</td></tr>\n",
    "</table>"
   ]
  },
  {
   "cell_type": "code",
   "execution_count": 15,
   "metadata": {
    "collapsed": false
   },
   "outputs": [
    {
     "name": "stdout",
     "output_type": "stream",
     "text": [
      "415\n",
      "369\n",
      "141\n",
      "643\n"
     ]
    }
   ],
   "source": [
    "female = 55+360\n",
    "print(female)\n",
    "male = 86+283\n",
    "print(male)\n",
    "mentioned = 86+55\n",
    "print(mentioned)\n",
    "no_mention = 283+360\n",
    "print(no_mention)"
   ]
  },
  {
   "cell_type": "code",
   "execution_count": 28,
   "metadata": {
    "collapsed": false
   },
   "outputs": [
    {
     "data": {
      "text/plain": [
       "0.94927687387761728"
      ]
     },
     "execution_count": 28,
     "metadata": {},
     "output_type": "execute_result"
    }
   ],
   "source": [
    "from scipy.special import binom\n",
    "big = 66\n",
    "n = 10\n",
    "sum([(binom(141,i)*binom(643,369 - i)/binom(784,369)) for i in range(big-n,big+n+1)])"
   ]
  },
  {
   "cell_type": "code",
   "execution_count": 33,
   "metadata": {
    "collapsed": false
   },
   "outputs": [
    {
     "data": {
      "text/plain": [
       "0.94927687387761728"
      ]
     },
     "execution_count": 33,
     "metadata": {},
     "output_type": "execute_result"
    }
   ],
   "source": [
    "sum([(binom(141,i)*binom(643,415 - i)/binom(784,415)) for i in range(75-n,75+n+1)])"
   ]
  },
  {
   "cell_type": "markdown",
   "metadata": {},
   "source": [
    "<b>From these calculations, we can see that the 95% confidence interval for males to mention is (56,76) and for females to mention it is (65, 85). This means that we reject the null hypothesis and conclude that males mention their father's education more often than females.</b>"
   ]
  },
  {
   "cell_type": "markdown",
   "metadata": {},
   "source": [
    "13.11 (a) Derive the likelihood ratio test of homogeneity. \n",
    "\n",
    "<b>From chapter 9, the derivation of the likelihood ratio test for Multinomial Distributions is as follows:</b>\n",
    "\n",
    "$$\\Lambda = \\frac {\\frac {n!}{x_1! \\cdot \\cdot \\cdot x_m!} p_1(\\hat{\\theta})^{x_1} \\cdot \\cdot \\cdot p_m(\\hat{\\theta})^{x_m}}{\\frac {n!}{x_1! \\cdot \\cdot \\cdot x_m!} \\hat{p_1}^{x_1} \\cdot \\cdot \\cdot \\hat{p_m}^{x_m}} = \\prod  \\left(\\frac {p_i(\\hat{\\theta})} {\\hat{p_i}}\\right)^{x_i}$$\n",
    "\n",
    "\n",
    "$$\\rightarrow ~~~~ -2 \\log \\Lambda = 2 \\sum O_i \\log( \\frac {O_i}{E_i})$$\n",
    "\n",
    "\n",
    "(b) Calculate the likelihood ratio test statistic for the example of Section 13.3, and compare it to Pearson’s chi-\n",
    "square statistic. \n",
    "\n",
    "<table>\n",
    "<tr><td>Word</td><td>Imitator</td><td>Austin</td></tr>\n",
    "<tr><td>a</td><td>83</td><td>434</td></tr>\n",
    "<tr><td>an</td><td>29</td><td>62</td></tr>\n",
    "<tr><td>this</td><td> 15</td><td>86</td></tr>\n",
    "<tr><td>that</td><td> 22</td><td>236</td></tr>\n",
    "<tr><td>with</td><td> 43</td><td>161</td></tr>\n",
    "<tr><td>without</td><td>4</td><td>38</td></tr>\n",
    "</table>"
   ]
  },
  {
   "cell_type": "code",
   "execution_count": 42,
   "metadata": {
    "collapsed": false
   },
   "outputs": [
    {
     "data": {
      "text/plain": [
       "31.736770833142096"
      ]
     },
     "execution_count": 42,
     "metadata": {},
     "output_type": "execute_result"
    }
   ],
   "source": [
    "imitator = array([83,29,15,22,43,4])\n",
    "austin = array([434,62,86,236,161,38])\n",
    "tot = imitator + austin\n",
    "austin_expected = (tot/sum(tot))*sum(austin)\n",
    "imitator_expected = (tot/sum(tot))*sum(imitator)\n",
    "2*(sum(imitator*log(imitator/imitator_expected))+ sum(austin*log(austin/austin_expected)))"
   ]
  },
  {
   "cell_type": "markdown",
   "metadata": {},
   "source": [
    "<b>The chi-square statistic is 32.81. The two statistics are very close</b>"
   ]
  },
  {
   "cell_type": "markdown",
   "metadata": {},
   "source": [
    "(c) Derive the likelihood ratio test of independence. \n",
    "\n",
    "<b>Apparently it is the same as that calculated in part a....</b>\n",
    "\n",
    "(d) Calculate the likelihood ratio test statistic for the example of Section 13.4, and compare it to Pearson’s chi-square statistic.\n",
    "\n",
    "<table>\n",
    "\n",
    "<tr><td>Education</td><td>Married Once </td><td>More Than Once</td></tr>\n",
    "<tr><td>College</td><td>550</td><td>61</td></tr>\n",
    "<tr><td>No College</td><td>681</td><td>144</td></tr>\n",
    "</table>"
   ]
  },
  {
   "cell_type": "code",
   "execution_count": 47,
   "metadata": {
    "collapsed": false
   },
   "outputs": [
    {
     "data": {
      "text/plain": [
       "16.54575593371402"
      ]
     },
     "execution_count": 47,
     "metadata": {},
     "output_type": "execute_result"
    }
   ],
   "source": [
    "college = array([550,61])\n",
    "no_college = array([681,144])\n",
    "tot = college + no_college\n",
    "college_expected = sum(college)*tot/sum(tot)\n",
    "no_college_expected = sum(no_college)*tot/sum(tot)\n",
    "2*(sum(college*log(college/college_expected))+ sum(no_college*log(no_college/no_college_expected)))"
   ]
  },
  {
   "cell_type": "markdown",
   "metadata": {},
   "source": [
    "<b>The chi-square statistic is 16.01. The two statistics are very close</b>"
   ]
  },
  {
   "cell_type": "markdown",
   "metadata": {},
   "source": [
    "14.4 Consider a standard linear regression model in which the freshman GPA is modeled to depend linearly on high school GPA: $Y_i = β_0 + β_1 x_i + e_i$ , i = 1, 2 . . . , n.\n",
    "Suppose that different intercepts were to be allowed for females and males, and\n",
    "write the model as\n",
    "\n",
    "$$Y_i = I_F (i)β_F + I_M (i)β_M + β_1 x_i + e_i$$\n",
    "\n",
    "where $I_F (i)$ and $I_M (i)$ are indicator variables taking on values 0 and 1 according\n",
    "to whether the gender of the ith person is female or male. Give the form of the\n",
    "design matrix for such a model."
   ]
  },
  {
   "cell_type": "markdown",
   "metadata": {},
   "source": [
    "14.20 Assume that the columns of $X, X_1 , . . . , X_p$ , are orthogonal; that is, $X_i^T X_j = 0$,\n",
    "for i = j. Show that the covariance matrix of the least squares estimates is\n",
    "diagonal."
   ]
  },
  {
   "cell_type": "markdown",
   "metadata": {},
   "source": [
    "14.23 Suppose that grades on a midterm and a final have a correlation coefficient of .5\n",
    "and both exams have an average score of 75 and a standard deviation of 10.\n",
    "\n",
    "a. If a student’s score on the midterm is 95, what would you predict his score on\n",
    "the final to be?\n",
    "\n",
    "b. If a student scored 85 on the final, what would you guess that her score on the\n",
    "midterm was?"
   ]
  },
  {
   "cell_type": "code",
   "execution_count": null,
   "metadata": {
    "collapsed": true
   },
   "outputs": [],
   "source": []
  }
 ],
 "metadata": {
  "kernelspec": {
   "display_name": "Python 3",
   "language": "python",
   "name": "python3"
  },
  "language_info": {
   "codemirror_mode": {
    "name": "ipython",
    "version": 3
   },
   "file_extension": ".py",
   "mimetype": "text/x-python",
   "name": "python",
   "nbconvert_exporter": "python",
   "pygments_lexer": "ipython3",
   "version": "3.4.1"
  }
 },
 "nbformat": 4,
 "nbformat_minor": 0
}
