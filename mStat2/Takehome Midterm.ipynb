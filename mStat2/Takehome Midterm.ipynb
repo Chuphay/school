{
 "cells": [
  {
   "cell_type": "code",
   "execution_count": 1,
   "metadata": {
    "collapsed": false
   },
   "outputs": [
    {
     "name": "stdout",
     "output_type": "stream",
     "text": [
      "Populating the interactive namespace from numpy and matplotlib\n"
     ]
    }
   ],
   "source": [
    "%pylab inline\n",
    "%load_ext rpy2.ipython"
   ]
  },
  {
   "cell_type": "markdown",
   "metadata": {},
   "source": [
    "#Take Home Midterm\n",
    "\n",
    "###David Plotz\n",
    "\n",
    "\n",
    "<br>\n",
    "<br>"
   ]
  },
  {
   "cell_type": "markdown",
   "metadata": {},
   "source": [
    "<b>1.) We are interested in knowing if the number of defective iPhones produced by Apple on a given\n",
    "day follows a Poisson distribution. In a random sample of 630 days, we get the following\n",
    "summarized data.</b>\n",
    "\n",
    "<table>\n",
    "<tr><td>0</td><td>1</td><td>2</td><td>3</td><td>$\\geq$4</td></tr>\n",
    "<tr><td>191</td><td>228</td><td>141</td><td>51</td><td>19</td></tr>\n",
    "</table>\n",
    "\n",
    "<b>(a) Write out the appropriate hypotheses to test.</b>\n",
    "\n",
    "$H_0$ : the number of defective iPhones produced on a given day follows a Poisson distribution.\n",
    "\n",
    "vs.\n",
    "\n",
    "$H_1$ : the number of defective iPhones produced on a given day follows a distribution that is not the Poisson distribution.\n",
    "\n",
    "<b>(b) Find the MLE of λ under $H_0$.</b>"
   ]
  },
  {
   "cell_type": "code",
   "execution_count": 2,
   "metadata": {
    "collapsed": false
   },
   "outputs": [
    {
     "data": {
      "text/plain": [
       "$maximum\n",
       "[1] 1.181387\n",
       "\n",
       "$objective\n",
       "[1] 6.476957e-06\n",
       "\n"
      ]
     },
     "metadata": {},
     "output_type": "display_data"
    }
   ],
   "source": [
    "%%R\n",
    "observed <- c(191, 228, 141, 51, 19)\n",
    "n <- sum(observed)\n",
    "lik <- function(lambda) {\n",
    "    dmultinom(x=observed, size=n, prob=c(dpois(x=0:3, lambda=lambda), 1-ppois(q=3, lambda=lambda)))\n",
    "}\n",
    "mle <- optimize(f=lik, interval=c(0, 3), maximum=TRUE)\n",
    "mle"
   ]
  },
  {
   "cell_type": "code",
   "execution_count": 3,
   "metadata": {
    "collapsed": false
   },
   "outputs": [
    {
     "data": {
      "image/png": "[encoded data removed]"
     },
     "metadata": {},
     "output_type": "display_data"
    }
   ],
   "source": [
    "%%R\n",
    "x <- 0:6\n",
    "plot(x, n*dpois(x, lambda = mle$max))\n",
    "lines(0:4, observed)"
   ]
  },
  {
   "cell_type": "markdown",
   "metadata": {},
   "source": [
    "We can also try doing this in Python.\n",
    "\n",
    "I used squared error as my cost function. I'm not sure what difference that makes..."
   ]
  },
  {
   "cell_type": "code",
   "execution_count": 4,
   "metadata": {
    "collapsed": false
   },
   "outputs": [
    {
     "data": {
      "text/plain": [
       "array([ 1.19515839])"
      ]
     },
     "execution_count": 4,
     "metadata": {},
     "output_type": "execute_result"
    }
   ],
   "source": [
    "from scipy.optimize import minimize\n",
    "from scipy.stats import poisson\n",
    "\n",
    "observed  = [191, 228, 141, 51, 19]\n",
    "n = sum(observed)\n",
    "def minimize_this(p):\n",
    "    out = 0\n",
    "    for i in range(len(observed)):        \n",
    "        prob = n*poisson.pmf(i, p)\n",
    "        if(i == len(observed)-1):\n",
    "            prob = n*(1 - poisson.cdf(3, p))     \n",
    "        out += (observed[i] - prob)**2    #squared error\n",
    "    return out\n",
    "\n",
    "minimize(minimize_this, 1.0)['x']"
   ]
  },
  {
   "cell_type": "markdown",
   "metadata": {},
   "source": [
    "With a little further thought, we can attempt to minimize the test statistic directly"
   ]
  },
  {
   "cell_type": "code",
   "execution_count": 5,
   "metadata": {
    "collapsed": false
   },
   "outputs": [
    {
     "data": {
      "text/plain": [
       "array([ 1.18138193])"
      ]
     },
     "execution_count": 5,
     "metadata": {},
     "output_type": "execute_result"
    }
   ],
   "source": [
    "def minimize_this(p):\n",
    "    out = 0\n",
    "    for i in range(len(observed)):        \n",
    "        expected = n*poisson.pmf(i, p)\n",
    "        if(i == len(observed)-1):\n",
    "            expected = n*(1 - poisson.cdf(3, p))     \n",
    "        out += observed[i]*log(observed[i]/expected)\n",
    "    return out\n",
    "\n",
    "minimize(minimize_this, 1.0)['x']"
   ]
  },
  {
   "cell_type": "markdown",
   "metadata": {},
   "source": [
    "<b>(c) Calculate the expected counts.</b>"
   ]
  },
  {
   "cell_type": "code",
   "execution_count": 6,
   "metadata": {
    "collapsed": false
   },
   "outputs": [
    {
     "data": {
      "text/plain": [
       "[1] 193.31736 228.38254 134.90404  53.12461  20.27144\n"
      ]
     },
     "metadata": {},
     "output_type": "display_data"
    }
   ],
   "source": [
    "%%R\n",
    "x <- 0:3\n",
    "expected <- n*c(dpois(x, lambda = mle$max), 1 - ppois(3,lambda = mle$max))\n",
    "expected"
   ]
  },
  {
   "cell_type": "markdown",
   "metadata": {},
   "source": [
    "<b>(d) Calculate the appropriate test statistic and state its distribution under $H_0$.</b>"
   ]
  },
  {
   "cell_type": "code",
   "execution_count": 7,
   "metadata": {
    "collapsed": false
   },
   "outputs": [
    {
     "data": {
      "text/plain": [
       "[1] 0.4675273\n"
      ]
     },
     "metadata": {},
     "output_type": "display_data"
    }
   ],
   "source": [
    "%%R\n",
    "2*sum(observed*log(observed/expected))"
   ]
  },
  {
   "cell_type": "markdown",
   "metadata": {},
   "source": [
    "Due to large sample theory, we know that $−2lnΛ= 0.4675$ under $H_0$ follows $\\chi_3^2$. (The degrees of freedom is the number of bins, m=5, minus 1, minus the number parameters estimated (i.e. $\\hat{λ}$))"
   ]
  },
  {
   "cell_type": "markdown",
   "metadata": {},
   "source": [
    "<b>(e) Calculate the p−value of this test and make you conclusions.</b>"
   ]
  },
  {
   "cell_type": "code",
   "execution_count": 8,
   "metadata": {
    "collapsed": false
   },
   "outputs": [
    {
     "data": {
      "text/plain": [
       "[1] 0.9259654\n"
      ]
     },
     "metadata": {},
     "output_type": "display_data"
    }
   ],
   "source": [
    "%%R\n",
    "1 - pchisq(0.4675273, 3)"
   ]
  },
  {
   "cell_type": "markdown",
   "metadata": {},
   "source": [
    "Wiht a p-value of 0.926, we fail to reject the null hypothesis and conclude that the fit is good."
   ]
  },
  {
   "cell_type": "markdown",
   "metadata": {},
   "source": [
    "<b>2.) A random sample of size 100 is taken from a gamma population with shape parameter 3 and\n",
    "scale parameter β, having p.d.f.</b>\n",
    "\n",
    "$$f(x) = \\frac 1 {Γ(3)β^3} x^2 e^{−x/β}, ~~~~ x > 0, ~~~ β > 0$$\n",
    "\n",
    "<b>We wish to test the null hypothesis $H_0 : β = β_0 = 5$ against the simple alternative hypothesis\n",
    "$H_1 : β = β_1 > β_0$.</b>\n",
    "\n",
    "<b>(a) Simulate 100 observations from this gamma distribution with scale β = 6. Be sure to state\n",
    "the seed you are using and make the seed [set.seed()] “unusual”. Report the mean of your\n",
    "simulated data.</b>"
   ]
  },
  {
   "cell_type": "code",
   "execution_count": 9,
   "metadata": {
    "collapsed": false
   },
   "outputs": [
    {
     "data": {
      "text/plain": [
       "[1] 17.1719\n"
      ]
     },
     "metadata": {},
     "output_type": "display_data"
    }
   ],
   "source": [
    "%%R \n",
    "set.seed(1213)\n",
    "data <- rgamma(100,shape = 3, scale = 6)\n",
    "mean(data)"
   ]
  },
  {
   "cell_type": "markdown",
   "metadata": {},
   "source": [
    "<b>(b) Perform the most powerful hypothesis test using this data at level α = 0.05 (do not use\n",
    "the large sample approximation).</b>"
   ]
  },
  {
   "cell_type": "markdown",
   "metadata": {},
   "source": [
    "We first write down the likelihood ratio:\n",
    "\n",
    "$$\\text{likelihood ratio} = \\left(\\frac {\\beta_1}{\\beta_0} \\right)^{3n} \\exp [- \\sum X_i (\\frac 1 {\\beta_0} - \\frac 1 {\\beta_1} )]$$\n",
    "\n",
    "We know that we will reject $H_0$ when the likelihood ratio is small, i.e., when $\\sum X_i$ is big.\n",
    "\n",
    "We are therefore are looking for a number c such that:\n",
    "\n",
    "$$\\alpha = 0.05 = \\mathbb{P}(\\sum X_i > c | H_0)$$\n",
    "\n",
    "According to Wikipedia, the sum of independent gamma random variables is also distributed as gamma, but with the shape parameter summed. Therefore, our test statistic is "
   ]
  },
  {
   "cell_type": "code",
   "execution_count": 10,
   "metadata": {
    "collapsed": false
   },
   "outputs": [
    {
     "data": {
      "text/plain": [
       "[1] 1645.234\n"
      ]
     },
     "metadata": {},
     "output_type": "display_data"
    }
   ],
   "source": [
    "%%R\n",
    "qgamma(0.95, shape=300, scale=5)"
   ]
  },
  {
   "cell_type": "markdown",
   "metadata": {},
   "source": [
    "To test on our data, we simply check whether the sample sum is greater or less than this number:"
   ]
  },
  {
   "cell_type": "code",
   "execution_count": 11,
   "metadata": {
    "collapsed": false
   },
   "outputs": [
    {
     "data": {
      "text/plain": [
       "[1] TRUE\n"
      ]
     },
     "metadata": {},
     "output_type": "display_data"
    }
   ],
   "source": [
    "%%R\n",
    "sum(data) > 1645.234"
   ]
  },
  {
   "cell_type": "markdown",
   "metadata": {},
   "source": [
    "We therefore reject the null hypothesis."
   ]
  },
  {
   "cell_type": "markdown",
   "metadata": {},
   "source": [
    "<b>(c) Calculate the power of the test if β = 6.</b>"
   ]
  },
  {
   "cell_type": "markdown",
   "metadata": {},
   "source": [
    "$$\\text{power} = 1 - \\beta = 1 - \\mathbb{P}(\\text{accept } H_0 | H_1) = \\mathbb{P}(\\text{reject } H_0 | H_1)= 1 - \\mathbb{P}(\\sum X_i \\leq 1645.234 | H_1)$$"
   ]
  },
  {
   "cell_type": "code",
   "execution_count": 12,
   "metadata": {
    "collapsed": false
   },
   "outputs": [
    {
     "data": {
      "text/plain": [
       "[1] 0.9350895\n"
      ]
     },
     "metadata": {},
     "output_type": "display_data"
    }
   ],
   "source": [
    "%%R\n",
    "1 - pgamma(1645.234, shape = 300, scale = 6)"
   ]
  },
  {
   "cell_type": "markdown",
   "metadata": {},
   "source": [
    "<b>(d) Repeat part (b) 1000 times and calculate the proportion of times you reject $H_0$. Are you\n",
    "surprised by your answer? Explain.</b>"
   ]
  },
  {
   "cell_type": "code",
   "execution_count": 13,
   "metadata": {
    "collapsed": false
   },
   "outputs": [
    {
     "data": {
      "text/plain": [
       "[1] 0.043\n"
      ]
     },
     "metadata": {},
     "output_type": "display_data"
    }
   ],
   "source": [
    "%%R \n",
    "out <- numeric(1000)\n",
    "for (i in 1:1000){\n",
    "    data <- rgamma(100,shape = 3, scale = 5)\n",
    "    if(sum(data) < 1645.234){\n",
    "        out[i] <- 1\n",
    "    }\n",
    "}\n",
    "1 - sum(out)/1000"
   ]
  },
  {
   "cell_type": "markdown",
   "metadata": {},
   "source": [
    "We are rejecting about 5% of the samples. This is what we expected. "
   ]
  },
  {
   "cell_type": "markdown",
   "metadata": {},
   "source": [
    "<b>(e) Plot the power function of this test as a function of $β_1$. What value of $β_1$ is necessary to\n",
    "achieve a power of at least 0.8 (this needs to be solved numerically, not by looking at the\n",
    "plot)?</b>"
   ]
  },
  {
   "cell_type": "code",
   "execution_count": 14,
   "metadata": {
    "collapsed": false
   },
   "outputs": [
    {
     "data": {
      "image/png": "[encoded data removed]"
     },
     "metadata": {},
     "output_type": "display_data"
    }
   ],
   "source": [
    "%%R\n",
    "x <- seq(4.5,6.5, by = 0.1)\n",
    "plot(x, 1 - pgamma(1645.234, shape = 300, scale = x), type = 'l')"
   ]
  },
  {
   "cell_type": "code",
   "execution_count": 15,
   "metadata": {
    "collapsed": false
   },
   "outputs": [
    {
     "data": {
      "text/plain": [
       "$minimum\n",
       "[1] 5.765994\n",
       "\n",
       "$objective\n",
       "[1] 4.761707e-07\n",
       "\n"
      ]
     },
     "metadata": {},
     "output_type": "display_data"
    }
   ],
   "source": [
    "%%R\n",
    "minimize_this <- function(p){\n",
    "    abs(0.8 - 1 + pgamma(1645.234, shape = 300, scale = p))\n",
    "}\n",
    "optimize(f = minimize_this, interval =c(5,6))"
   ]
  }
 ],
 "metadata": {
  "kernelspec": {
   "display_name": "Python 3",
   "language": "python",
   "name": "python3"
  },
  "language_info": {
   "codemirror_mode": {
    "name": "ipython",
    "version": 3
   },
   "file_extension": ".py",
   "mimetype": "text/x-python",
   "name": "python",
   "nbconvert_exporter": "python",
   "pygments_lexer": "ipython3",
   "version": "3.4.1"
  }
 },
 "nbformat": 4,
 "nbformat_minor": 0
}
