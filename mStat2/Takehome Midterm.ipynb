{
 "cells": [
  {
   "cell_type": "code",
   "execution_count": 1,
   "metadata": {
    "collapsed": false
   },
   "outputs": [
    {
     "name": "stdout",
     "output_type": "stream",
     "text": [
      "Populating the interactive namespace from numpy and matplotlib\n"
     ]
    }
   ],
   "source": [
    "%pylab inline\n",
    "%load_ext rpy2.ipython"
   ]
  },
  {
   "cell_type": "markdown",
   "metadata": {},
   "source": [
    "<b>1.) We are interested in knowing if the number of defective iPhones produced by Apple on a given\n",
    "day follows a Poisson distribution. In a random sample of 630 days, we get the following\n",
    "summarized data.</b>\n",
    "\n",
    "<table>\n",
    "<tr><td>0</td><td>1</td><td>2</td><td>3</td><td>$\\geq$4</td></tr>\n",
    "<tr><td>191</td><td>228</td><td>141</td><td>51</td><td>19</td></tr>\n",
    "</table>\n",
    "\n",
    "<b>(a) Write out the appropriate hypotheses to test.</b>\n",
    "\n",
    "<b>(b) Find the MLE of λ under $H_0$.</b>\n",
    "\n",
    "<b>(c) Calculate the expected counts.</b>\n",
    "\n",
    "<b>(d) Calculate the appropriate test statistic and state its distribution under $H_0$.</b>\n",
    "\n",
    "<b>(e) Calculate the p−value of this test and make you conclusions.</b>"
   ]
  },
  {
   "cell_type": "markdown",
   "metadata": {},
   "source": [
    "<b>2.) A random sample of size 100 is taken from a gamma population with shape parameter 3 and\n",
    "scale parameter β, having p.d.f.</b>\n",
    "\n",
    "$$f(x) = \\frac 1 {Γ(3)β^3} x^2 e^{−x/β}, ~~~~ x > 0, ~~~ β > 0$$\n",
    "\n",
    "<b>We wish to test the null hypothesis $H_0 : β = β_0 = 5$ against the simple alternative hypothesis\n",
    "$H_1 : β = β_1 > β_0$.</b>\n",
    "\n",
    "<b>(a) Simulate 100 observations from this gamma distribution with scale β = 6. Be sure to state\n",
    "the seed you are using and make the seed [set.seed()] “unusual”. Report the mean of your\n",
    "simulated data.</b>\n",
    "\n",
    "<b>(b) Perform the most powerful hypothesis test using this data at level α = 0.05 (do not use\n",
    "the large sample approximation).</b>\n",
    "\n",
    "<b>(c) Calculate the power of the test if β = 6.</b>\n",
    "\n",
    "<b>(d) Repeat part (b) 1000 times and calculate the proportion of times you reject H0. Are you\n",
    "surprised by your answer? Explain.</b>\n",
    "\n",
    "<b>(e) Plot the power function of this test as a function of β1. What value of β1 is necessary to\n",
    "achieve a power of at least 0.8 (this needs to be solved numerically, not by looking at the\n",
    "plot)?</b>"
   ]
  },
  {
   "cell_type": "code",
   "execution_count": null,
   "metadata": {
    "collapsed": true
   },
   "outputs": [],
   "source": []
  }
 ],
 "metadata": {
  "kernelspec": {
   "display_name": "Python 3",
   "language": "python",
   "name": "python3"
  },
  "language_info": {
   "codemirror_mode": {
    "name": "ipython",
    "version": 3
   },
   "file_extension": ".py",
   "mimetype": "text/x-python",
   "name": "python",
   "nbconvert_exporter": "python",
   "pygments_lexer": "ipython3",
   "version": "3.4.1"
  }
 },
 "nbformat": 4,
 "nbformat_minor": 0
}
