{
 "metadata": {
  "name": "",
  "signature": "sha256:ff65c4a50065ea2426a3ecf11267be4ad69f647f4224730e21bcf4173df55c4c"
 },
 "nbformat": 3,
 "nbformat_minor": 0,
 "worksheets": [
  {
   "cells": [
    {
     "cell_type": "heading",
     "level": 1,
     "metadata": {},
     "source": [
      "Homework Set 3"
     ]
    },
    {
     "cell_type": "code",
     "collapsed": false,
     "input": [
      "%pylab inline                       \n",
      "%load_ext rpy2.ipython    "
     ],
     "language": "python",
     "metadata": {},
     "outputs": [
      {
       "output_type": "stream",
       "stream": "stdout",
       "text": [
        "Populating the interactive namespace from numpy and matplotlib\n",
        "The rpy2.ipython extension is already loaded. To reload it, use:\n",
        "  %reload_ext rpy2.ipython\n"
       ]
      }
     ],
     "prompt_number": 18
    },
    {
     "cell_type": "heading",
     "level": 3,
     "metadata": {},
     "source": [
      "Problem 7"
     ]
    },
    {
     "cell_type": "markdown",
     "metadata": {},
     "source": [
      "$S = \\{RR, RW, WR, WW \\}$\n",
      "\n",
      "$\\mathbb{P}(RR~|~ red ~~eyes) = \\frac {\\mathbb{P}(RR~\\cap~ red ~~eyes)}{\\mathbb{P}(red ~~eyes)} = \\frac{1/4}{3/4}  = \\frac 1 3$"
     ]
    },
    {
     "cell_type": "code",
     "collapsed": false,
     "input": [
      "%%R\n",
      "simulations <- 1000\n",
      "red_eyes <- 0\n",
      "success <- logical(simulations)\n",
      "eyes <- c('r','w')\n",
      "for (i in 1:simulations){\n",
      "    s<- sample(eyes,2,replace = TRUE)\n",
      "    if ('r' %in% s){\n",
      "        red_eyes <- red_eyes + 1\n",
      "        if (identical(s,c('r','r'))){\n",
      "            success[i] = TRUE\n",
      "        }\n",
      "    }  \n",
      "}\n",
      "\n",
      "cat('Simulated: ', sum(success)/red_eyes, 'Numeric: ', 1/3, '\\n')"
     ],
     "language": "python",
     "metadata": {},
     "outputs": [
      {
       "metadata": {},
       "output_type": "display_data",
       "text": [
        "Simulated:  0.3245856 Numeric:  0.3333333 \n"
       ]
      }
     ],
     "prompt_number": 52
    },
    {
     "cell_type": "heading",
     "level": 3,
     "metadata": {},
     "source": [
      "Problem 9"
     ]
    },
    {
     "cell_type": "markdown",
     "metadata": {},
     "source": [
      "$\\mathbb{P}(OO) = \\frac 1 6 $, \n",
      "$~~\\mathbb{P}(OB) = \\frac 1 3 $,\n",
      "$~~\\mathbb{P}(BO) = \\frac 1 3 $,\n",
      "$~~\\mathbb{P}(BB) = \\frac 1 6 $\n",
      "\n",
      "$\\mathbb{P}(OO~| ~at~least~one~orange) = \\frac {1/6}{5/6} = \\frac 1 5 $"
     ]
    },
    {
     "cell_type": "code",
     "collapsed": false,
     "input": [
      "%%R\n",
      "simulations <- 1000\n",
      "one_orange <- 0\n",
      "success <- logical(simulations)\n",
      "balls <- c('o','o','b','b')\n",
      "for (i in 1:simulations){\n",
      "    s<- sample(balls,2)\n",
      "    if ('o' %in% s){\n",
      "        one_orange <- one_orange + 1\n",
      "        if (identical(s,c('o','o'))){\n",
      "            success[i] = TRUE\n",
      "        }\n",
      "    }  \n",
      "}\n",
      "\n",
      "cat('Simulated: ', sum(success)/one_orange, 'Numeric: ', 1/5, '\\n')"
     ],
     "language": "python",
     "metadata": {},
     "outputs": [
      {
       "metadata": {},
       "output_type": "display_data",
       "text": [
        "Simulated:  0.2048193 Numeric:  0.2 \n"
       ]
      }
     ],
     "prompt_number": 55
    },
    {
     "cell_type": "heading",
     "level": 3,
     "metadata": {},
     "source": [
      "Problem 15"
     ]
    },
    {
     "cell_type": "markdown",
     "metadata": {},
     "source": [
      "a) $365^r$\n",
      "\n",
      "b) $\\frac {365!} {(365 - r )!} = 365P_r$\n",
      "\n",
      "c) $1 - \\left(\\frac {365P_r}{365^r} \\right)$\n",
      "\n",
      "d) I've actually done this previously in python... No reason to do it again in R\n",
      "\n",
      "First we load up a little program I wrote that will repeat a function many times and get the average of the returned value:"
     ]
    },
    {
     "cell_type": "markdown",
     "metadata": {},
     "source": [
      "from tools import repeat"
     ]
    },
    {
     "cell_type": "code",
     "collapsed": false,
     "input": [
      "@repeat(1000)\n",
      "def birthday(people = 100):\n",
      "    data = array([0 for i in range(people)])\n",
      "    for num_people in range(people):\n",
      "        people = [randint(1,365) for i in range(num_people)]\n",
      "        if(len(people) != len(set(people))):\n",
      "            data[num_people] += 1\n",
      "    return data\n",
      "\n",
      "plot(birthday());   "
     ],
     "language": "python",
     "metadata": {},
     "outputs": [
      {
       "metadata": {},
       "output_type": "display_data",
       "png": "[encoded data removed]",
       "text": [
        "<matplotlib.figure.Figure at 0xac849fec>"
       ]
      }
     ],
     "prompt_number": 58
    },
    {
     "cell_type": "markdown",
     "metadata": {},
     "source": [
      "We can see that we have even odds around about 23 people."
     ]
    },
    {
     "cell_type": "heading",
     "level": 3,
     "metadata": {},
     "source": [
      "Problem 17"
     ]
    },
    {
     "cell_type": "markdown",
     "metadata": {},
     "source": [
      "err... kind of the same as the other problems..."
     ]
    }
   ],
   "metadata": {}
  }
 ]
}