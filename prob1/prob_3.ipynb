{
 "metadata": {
  "name": "",
  "signature": "sha256:8f829c7526fdb8f72929c9a0b26dbdfc4113ed9674b3f47579eccc9afd9d4539"
 },
 "nbformat": 3,
 "nbformat_minor": 0,
 "worksheets": [
  {
   "cells": [
    {
     "cell_type": "code",
     "collapsed": false,
     "input": [
      "%pylab inline                       \n",
      "%load_ext rpy2.ipython    "
     ],
     "language": "python",
     "metadata": {},
     "outputs": [
      {
       "output_type": "stream",
       "stream": "stdout",
       "text": [
        "Populating the interactive namespace from numpy and matplotlib\n"
       ]
      }
     ],
     "prompt_number": 1
    },
    {
     "cell_type": "code",
     "collapsed": false,
     "input": [
      "from tools import repeat"
     ],
     "language": "python",
     "metadata": {},
     "outputs": [],
     "prompt_number": 4
    },
    {
     "cell_type": "code",
     "collapsed": false,
     "input": [
      "@repeat(1000)\n",
      "def birthday(people = 100):\n",
      "    data = array([0 for i in range(people)])\n",
      "    for num_people in range(people):\n",
      "        people = [randint(1,365) for i in range(num_people)]\n",
      "        if(len(people) != len(set(people))):\n",
      "            data[num_people] += 1\n",
      "    return data\n",
      "\n",
      "plot(birthday());   \n",
      "prin"
     ],
     "language": "python",
     "metadata": {},
     "outputs": [
      {
       "metadata": {},
       "output_type": "display_data",
       "png": "[encoded data removed]",
       "text": [
        "<matplotlib.figure.Figure at 0xac844fec>"
       ]
      }
     ],
     "prompt_number": 16
    }
   ],
   "metadata": {}
  }
 ]
}