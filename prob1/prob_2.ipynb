{
 "metadata": {
  "name": "",
  "signature": "sha256:4bb341cc38849b23bbc77090b28ecd4dcbeed5bf89a0e7bc57b7b931fc073398"
 },
 "nbformat": 3,
 "nbformat_minor": 0,
 "worksheets": [
  {
   "cells": [
    {
     "cell_type": "heading",
     "level": 1,
     "metadata": {},
     "source": [
      "Homework Set 2"
     ]
    },
    {
     "cell_type": "markdown",
     "metadata": {},
     "source": [
      "Setting up all the modules we need: "
     ]
    },
    {
     "cell_type": "code",
     "collapsed": false,
     "input": [
      "%pylab inline                       \n",
      "%load_ext rpy2.ipython              \n",
      "from pandas import DataFrame\n",
      "from fractions import Fraction"
     ],
     "language": "python",
     "metadata": {},
     "outputs": [
      {
       "output_type": "stream",
       "stream": "stdout",
       "text": [
        "Populating the interactive namespace from numpy and matplotlib\n",
        "The rpy2.ipython extension is already loaded. To reload it, use:\n",
        "  %reload_ext rpy2.ipython\n"
       ]
      }
     ],
     "prompt_number": 153
    },
    {
     "cell_type": "heading",
     "level": 3,
     "metadata": {},
     "source": [
      "Problem 3"
     ]
    },
    {
     "cell_type": "code",
     "collapsed": false,
     "input": [
      "cards = arange(52)\n",
      "simulations = 1000\n",
      "\n",
      "def get_card():\n",
      "    card = np.random.choice(cards)\n",
      "    card_value = card%13\n",
      "    card_suit = card%4\n",
      "    return (card_value, card_suit)\n",
      "\n",
      "DataFrame({'Jack, Queen, King':(3/13,sum([1 if (get_card()[0]>9) else 0 for i in range(simulations)])/simulations),\n",
      "           'Jack, 9, 10, and red':(3/26, sum([1 if ((12> get_card()[0]>8) and (get_card()[1]%2 == 0))\\\n",
      "                                else 0 for i in range(simulations)])/simulations),\n",
      "           'Club': (1/4,sum([1 if (get_card()[1] == 0) else 0 for i in range(simulations)])/simulations),\n",
      "           'Diamond, Heart, or Spade': (3/4,sum([1 if (get_card()[1] != 0)\\\n",
      "                                else 0 for i in range(simulations)])/simulations)}, index = ['Numerical','Simulated']).T"
     ],
     "language": "python",
     "metadata": {},
     "outputs": [
      {
       "html": [
        "<div style=\"max-height:1000px;max-width:1500px;overflow:auto;\">\n",
        "<table border=\"1\" class=\"dataframe\">\n",
        "  <thead>\n",
        "    <tr style=\"text-align: right;\">\n",
        "      <th></th>\n",
        "      <th>Numerical</th>\n",
        "      <th>Simulated</th>\n",
        "    </tr>\n",
        "  </thead>\n",
        "  <tbody>\n",
        "    <tr>\n",
        "      <th>Club</th>\n",
        "      <td> 0.250000</td>\n",
        "      <td> 0.273</td>\n",
        "    </tr>\n",
        "    <tr>\n",
        "      <th>Diamond, Heart, or Spade</th>\n",
        "      <td> 0.750000</td>\n",
        "      <td> 0.766</td>\n",
        "    </tr>\n",
        "    <tr>\n",
        "      <th>Jack, 9, 10, and red</th>\n",
        "      <td> 0.115385</td>\n",
        "      <td> 0.133</td>\n",
        "    </tr>\n",
        "    <tr>\n",
        "      <th>Jack, Queen, King</th>\n",
        "      <td> 0.230769</td>\n",
        "      <td> 0.239</td>\n",
        "    </tr>\n",
        "  </tbody>\n",
        "</table>\n",
        "</div>"
       ],
       "metadata": {},
       "output_type": "pyout",
       "prompt_number": 125,
       "text": [
        "                          Numerical  Simulated\n",
        "Club                       0.250000      0.273\n",
        "Diamond, Heart, or Spade   0.750000      0.766\n",
        "Jack, 9, 10, and red       0.115385      0.133\n",
        "Jack, Queen, King          0.230769      0.239"
       ]
      }
     ],
     "prompt_number": 125
    },
    {
     "cell_type": "heading",
     "level": 3,
     "metadata": {},
     "source": [
      "Problem 5"
     ]
    },
    {
     "cell_type": "code",
     "collapsed": false,
     "input": [
      "print(1 - (Fraction(1,64)+Fraction(9,64)+Fraction(27/64)))"
     ],
     "language": "python",
     "metadata": {},
     "outputs": [
      {
       "output_type": "stream",
       "stream": "stdout",
       "text": [
        "27/64\n"
       ]
      }
     ],
     "prompt_number": 366
    },
    {
     "cell_type": "heading",
     "level": 3,
     "metadata": {},
     "source": [
      "Problem 7"
     ]
    },
    {
     "cell_type": "markdown",
     "metadata": {},
     "source": [
      "This problem is similar to problem 3, so let's change it up a bit and try some R out."
     ]
    },
    {
     "cell_type": "code",
     "collapsed": false,
     "input": [
      "%%R\n",
      "simulations <- 10000\n",
      "\n",
      "get_prob <- function(sides){\n",
      "    dice <- 1:8\n",
      "    count <- 0\n",
      "    for (i in 1:simulations){\n",
      "        if (sample(dice,1) %in% sides){\n",
      "            count <- count + 1\n",
      "        }\n",
      "    }\n",
      "    count/simulations\n",
      "}\n",
      "cat('hy', get_prob(seq(1,2)))\n"
     ],
     "language": "python",
     "metadata": {},
     "outputs": [
      {
       "metadata": {},
       "output_type": "display_data",
       "text": [
        "hy 0.2525"
       ]
      }
     ],
     "prompt_number": 364
    },
    {
     "cell_type": "code",
     "collapsed": false,
     "input": [],
     "language": "python",
     "metadata": {},
     "outputs": []
    },
    {
     "cell_type": "heading",
     "level": 3,
     "metadata": {},
     "source": [
      "Problem 9"
     ]
    },
    {
     "cell_type": "markdown",
     "metadata": {},
     "source": [
      "$A \\cup B = 0.76 $\n",
      "\n",
      "Therefore the region outside $A \\cup B$ is $0.24$.\n",
      "\n",
      "$A \\cup B^c = 0.87$ and therefore $A$ is $0.87 - 0.24 = 0.63$."
     ]
    },
    {
     "cell_type": "heading",
     "level": 3,
     "metadata": {},
     "source": [
      "Problem 11"
     ]
    },
    {
     "cell_type": "code",
     "collapsed": false,
     "input": [
      "%%R\n",
      "simulations <- 10000\n",
      "dice <- 1:3\n",
      "success <- rep(0,simulations)\n",
      "\n",
      "for (i in 1:simulations){\n",
      "    for (j in 1:3){\n",
      "        if (sample(dice,1) == 1){\n",
      "            success[i] <- 1\n",
      "            break\n",
      "        }\n",
      "    }    \n",
      "}\n",
      "\n",
      "cat('Simulated: ', (mean(success)), 'Numeric: ', 1-(2/3)^3)"
     ],
     "language": "python",
     "metadata": {},
     "outputs": [
      {
       "metadata": {},
       "output_type": "display_data",
       "text": [
        "Simulated:  0.7043 Numeric:  0.7037037"
       ]
      }
     ],
     "prompt_number": 175
    }
   ],
   "metadata": {}
  }
 ]
}