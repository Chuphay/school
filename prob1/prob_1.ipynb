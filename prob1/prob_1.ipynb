{
 "metadata": {
  "name": "",
  "signature": "sha256:2e0383001ad22328b540f99f99b1bb8749bab9fa7147602bbc8b7d5a3a256c1a"
 },
 "nbformat": 3,
 "nbformat_minor": 0,
 "worksheets": [
  {
   "cells": [
    {
     "cell_type": "code",
     "collapsed": false,
     "input": [
      "%pylab inline\n",
      "%load_ext rpy2.ipython"
     ],
     "language": "python",
     "metadata": {},
     "outputs": [
      {
       "output_type": "stream",
       "stream": "stdout",
       "text": [
        "Populating the interactive namespace from numpy and matplotlib\n"
       ]
      }
     ],
     "prompt_number": 1
    },
    {
     "cell_type": "heading",
     "level": 1,
     "metadata": {},
     "source": [
      "Histograms and Frequencies"
     ]
    },
    {
     "cell_type": "heading",
     "level": 3,
     "metadata": {},
     "source": [
      "Problem 3"
     ]
    },
    {
     "cell_type": "code",
     "collapsed": false,
     "input": [
      "%%R\n",
      "state_of_arizona <- c(9,5,1,7,2,8,8,1,8,9,2,2,8,5,0,8,3,5,0,0,3,4,0,6,2,0,3,6,0,3,\n",
      "         0,1,1,2,1,7,8,0,3,7,7,6,3,9,7,0,1,9,7,8,5,1,8,5,6,3,2,2,4,5,\n",
      "         9,4,5,9,2,9,5,0,8,8,4,9,5,1,6,7,2,9,3,0,6,3,0,5,2,7,8,1,0,0,\n",
      "         0,8,9,8,6,0,9,1,8,1,2,4,6,7,5,2,2,0,7,2,8,7,5,1,7,8,6,6,0,9,\n",
      "         0,7,6,3,2,0,7,3,2,9,1,1,9,1,3,5,5,6,3,6,7,8,9,7,5,4,0,9,7,9)\n",
      "s_o_a <- state_of_arizona\n",
      "print(length(s_o_a))"
     ],
     "language": "python",
     "metadata": {},
     "outputs": [
      {
       "metadata": {},
       "output_type": "display_data",
       "text": [
        "[1] 150\n"
       ]
      }
     ],
     "prompt_number": 2
    },
    {
     "cell_type": "code",
     "collapsed": false,
     "input": [
      "%%R\n",
      "frequencies <-c()\n",
      "for (i in 0:9){\n",
      "  frequencies <- c(frequencies, sum(s_o_a == i))  \n",
      "}  \n",
      "print(frequencies)"
     ],
     "language": "python",
     "metadata": {},
     "outputs": [
      {
       "metadata": {},
       "output_type": "display_data",
       "text": [
        " [1] 21 15 16 13  6 15 13 17 17 17\n"
       ]
      }
     ],
     "prompt_number": 3
    },
    {
     "cell_type": "code",
     "collapsed": false,
     "input": [
      "figsize(12,5)\n",
      "%Rpull s_o_a\n",
      "subplot(121)\n",
      "hist(s_o_a);\n",
      "subplot(122)\n",
      "%Rpull frequencies\n",
      "relative = array(frequencies)/len(s_o_a)\n",
      "bar(arange(0,10), relative);"
     ],
     "language": "python",
     "metadata": {},
     "outputs": [
      {
       "metadata": {},
       "output_type": "display_data",
       "png": "[encoded data removed]",
       "text": [
        "<matplotlib.figure.Figure at 0xac1ce9ac>"
       ]
      }
     ],
     "prompt_number": 8
    },
    {
     "cell_type": "heading",
     "level": 3,
     "metadata": {},
     "source": [
      "In R"
     ]
    },
    {
     "cell_type": "code",
     "collapsed": false,
     "input": [
      "%%R \n",
      "par(mfrow=c(1,2))\n",
      "hist(s_o_a)\n",
      "barplot(frequencies/length(s_o_a));"
     ],
     "language": "python",
     "metadata": {},
     "outputs": [
      {
       "metadata": {},
       "output_type": "display_data",
       "png": "[encoded data removed]"
      }
     ],
     "prompt_number": 14
    },
    {
     "cell_type": "heading",
     "level": 1,
     "metadata": {},
     "source": [
      "Simpson's Paradox"
     ]
    },
    {
     "cell_type": "markdown",
     "metadata": {},
     "source": [
      "Obviously go check out [wikipedia](http://en.wikipedia.org/wiki/Simpson's_paradox)"
     ]
    },
    {
     "cell_type": "code",
     "collapsed": false,
     "input": [
      "from pandas import DataFrame \n",
      "\n",
      "s = lambda x,y: '{0}/{1} = {2}%'.format(x,y,round(float(x/y),2))\n",
      "\n",
      "kidney_stone = DataFrame({'Small stones':[s(81,87),s(234,270)],\n",
      "                          'Large stones': [s(192,263),s(55,80)], \n",
      "                          'Both': [s(273,350), s(289,350)]}).T\n",
      "kidney_stone.columns = ['Treatment A', 'Treatment B']\n",
      "kidney_stone"
     ],
     "language": "python",
     "metadata": {},
     "outputs": [
      {
       "html": [
        "<div style=\"max-height:1000px;max-width:1500px;overflow:auto;\">\n",
        "<table border=\"1\" class=\"dataframe\">\n",
        "  <thead>\n",
        "    <tr style=\"text-align: right;\">\n",
        "      <th></th>\n",
        "      <th>Treatment A</th>\n",
        "      <th>Treatment B</th>\n",
        "    </tr>\n",
        "  </thead>\n",
        "  <tbody>\n",
        "    <tr>\n",
        "      <th>Both</th>\n",
        "      <td> 273/350 = 0.78%</td>\n",
        "      <td> 289/350 = 0.83%</td>\n",
        "    </tr>\n",
        "    <tr>\n",
        "      <th>Large stones</th>\n",
        "      <td> 192/263 = 0.73%</td>\n",
        "      <td>   55/80 = 0.69%</td>\n",
        "    </tr>\n",
        "    <tr>\n",
        "      <th>Small stones</th>\n",
        "      <td>   81/87 = 0.93%</td>\n",
        "      <td> 234/270 = 0.87%</td>\n",
        "    </tr>\n",
        "  </tbody>\n",
        "</table>\n",
        "</div>"
       ],
       "metadata": {},
       "output_type": "pyout",
       "prompt_number": 15,
       "text": [
        "                  Treatment A      Treatment B\n",
        "Both          273/350 = 0.78%  289/350 = 0.83%\n",
        "Large stones  192/263 = 0.73%    55/80 = 0.69%\n",
        "Small stones    81/87 = 0.93%  234/270 = 0.87%"
       ]
      }
     ],
     "prompt_number": 15
    },
    {
     "cell_type": "code",
     "collapsed": false,
     "input": [
      "%%R\n",
      "small = c(.93,.87)\n",
      "large = c(.73,.69)\n",
      "both = c(.78,.83)\n",
      "df = t(data.frame(small,large,both))\n",
      "colnames(df) = c('Treatment A', 'Treatment B')\n",
      "df"
     ],
     "language": "python",
     "metadata": {},
     "outputs": [
      {
       "metadata": {},
       "output_type": "display_data",
       "text": [
        "      Treatment A Treatment B\n",
        "small        0.93        0.87\n",
        "large        0.73        0.69\n",
        "both         0.78        0.83\n"
       ]
      }
     ],
     "prompt_number": 16
    },
    {
     "cell_type": "code",
     "collapsed": false,
     "input": [
      "df = DataFrame({('Bumbry', 'AB'): {'Grass': 295, 'Artificial Turf': 49},\n",
      "             ('Bumbry', 'H'): {('Grass'): 77, 'Artificial Turf': 16},\n",
      "             ('Brown','AB'):{'Grass':92,'Artificial Turf':168}, \n",
      "             ('Brown','H'):{'Grass':18, 'Artificial Turf':53}})\n",
      "df"
     ],
     "language": "python",
     "metadata": {},
     "outputs": [
      {
       "html": [
        "<div style=\"max-height:1000px;max-width:1500px;overflow:auto;\">\n",
        "<table border=\"1\" class=\"dataframe\">\n",
        "  <thead>\n",
        "    <tr>\n",
        "      <th></th>\n",
        "      <th colspan=\"2\" halign=\"left\">Brown</th>\n",
        "      <th colspan=\"2\" halign=\"left\">Bumbry</th>\n",
        "    </tr>\n",
        "    <tr>\n",
        "      <th></th>\n",
        "      <th>AB</th>\n",
        "      <th>H</th>\n",
        "      <th>AB</th>\n",
        "      <th>H</th>\n",
        "    </tr>\n",
        "  </thead>\n",
        "  <tbody>\n",
        "    <tr>\n",
        "      <th>Artificial Turf</th>\n",
        "      <td> 168</td>\n",
        "      <td> 53</td>\n",
        "      <td>  49</td>\n",
        "      <td> 16</td>\n",
        "    </tr>\n",
        "    <tr>\n",
        "      <th>Grass</th>\n",
        "      <td>  92</td>\n",
        "      <td> 18</td>\n",
        "      <td> 295</td>\n",
        "      <td> 77</td>\n",
        "    </tr>\n",
        "  </tbody>\n",
        "</table>\n",
        "</div>"
       ],
       "metadata": {},
       "output_type": "pyout",
       "prompt_number": 17,
       "text": [
        "                 Brown      Bumbry    \n",
        "                    AB   H      AB   H\n",
        "Artificial Turf    168  53      49  16\n",
        "Grass               92  18     295  77"
       ]
      }
     ],
     "prompt_number": 17
    },
    {
     "cell_type": "code",
     "collapsed": false,
     "input": [
      "df.ix['Total'] = df.sum()\n",
      "\n",
      "df[('Bumbry','BA')] = df['Bumbry']['H']/df['Bumbry']['AB']\n",
      "df[('Brown','BA')] = df['Brown']['H']/df['Brown']['AB']\n",
      "\n",
      "df"
     ],
     "language": "python",
     "metadata": {},
     "outputs": [
      {
       "html": [
        "<div style=\"max-height:1000px;max-width:1500px;overflow:auto;\">\n",
        "<table border=\"1\" class=\"dataframe\">\n",
        "  <thead>\n",
        "    <tr>\n",
        "      <th></th>\n",
        "      <th colspan=\"2\" halign=\"left\">Brown</th>\n",
        "      <th colspan=\"3\" halign=\"left\">Bumbry</th>\n",
        "      <th>Brown</th>\n",
        "    </tr>\n",
        "    <tr>\n",
        "      <th></th>\n",
        "      <th>AB</th>\n",
        "      <th>H</th>\n",
        "      <th>AB</th>\n",
        "      <th>H</th>\n",
        "      <th>BA</th>\n",
        "      <th>BA</th>\n",
        "    </tr>\n",
        "  </thead>\n",
        "  <tbody>\n",
        "    <tr>\n",
        "      <th>Artificial Turf</th>\n",
        "      <td> 168</td>\n",
        "      <td> 53</td>\n",
        "      <td>  49</td>\n",
        "      <td> 16</td>\n",
        "      <td> 0.326531</td>\n",
        "      <td> 0.315476</td>\n",
        "    </tr>\n",
        "    <tr>\n",
        "      <th>Grass</th>\n",
        "      <td>  92</td>\n",
        "      <td> 18</td>\n",
        "      <td> 295</td>\n",
        "      <td> 77</td>\n",
        "      <td> 0.261017</td>\n",
        "      <td> 0.195652</td>\n",
        "    </tr>\n",
        "    <tr>\n",
        "      <th>Total</th>\n",
        "      <td> 260</td>\n",
        "      <td> 71</td>\n",
        "      <td> 344</td>\n",
        "      <td> 93</td>\n",
        "      <td> 0.270349</td>\n",
        "      <td> 0.273077</td>\n",
        "    </tr>\n",
        "  </tbody>\n",
        "</table>\n",
        "</div>"
       ],
       "metadata": {},
       "output_type": "pyout",
       "prompt_number": 18,
       "text": [
        "                 Brown      Bumbry                   Brown\n",
        "                    AB   H      AB   H        BA        BA\n",
        "Artificial Turf    168  53      49  16  0.326531  0.315476\n",
        "Grass               92  18     295  77  0.261017  0.195652\n",
        "Total              260  71     344  93  0.270349  0.273077"
       ]
      }
     ],
     "prompt_number": 18
    }
   ],
   "metadata": {}
  }
 ]
}