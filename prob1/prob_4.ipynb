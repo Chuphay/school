{
 "metadata": {
  "name": "",
  "signature": "sha256:8d663d44b70fd7eb04c00cc371be774f3056533a5572747361837cca6ecd2837"
 },
 "nbformat": 3,
 "nbformat_minor": 0,
 "worksheets": [
  {
   "cells": [
    {
     "cell_type": "heading",
     "level": 1,
     "metadata": {},
     "source": [
      "Homework Set #4"
     ]
    },
    {
     "cell_type": "code",
     "collapsed": false,
     "input": [
      "%pylab inline      \n",
      "from tools import repeat #personal collection of useful tools"
     ],
     "language": "python",
     "metadata": {},
     "outputs": [
      {
       "output_type": "stream",
       "stream": "stdout",
       "text": [
        "Populating the interactive namespace from numpy and matplotlib\n"
       ]
      }
     ],
     "prompt_number": 1
    },
    {
     "cell_type": "heading",
     "level": 3,
     "metadata": {},
     "source": [
      "4.9"
     ]
    },
    {
     "cell_type": "markdown",
     "metadata": {},
     "source": [
      "a.) $p.m.f. = \\binom {20} x (\\frac 1 5)^x (\\frac 4 5)^{(20-x)} $ \n",
      "\n",
      "b.) $ \\mu =  np = 20*(\\frac 4 5) = 16; ~~~~ \\sigma = npq = \\frac {20*4}{25} = 16/5$ \n",
      "\n",
      "c.) Let's use the computer to figure these values out for us:"
     ]
    },
    {
     "cell_type": "code",
     "collapsed": false,
     "input": [
      "from scipy.stats import binom\n",
      " \n",
      "dbinom = binom.pmf\n",
      "pbinom = binom.cdf\n",
      "qbinom = binom.ppf\n",
      "rbinom = binom.rvs\n",
      "\n",
      "print(\"i.) {:.4f}\\nii.) {:.4f}\\niii.) {:.4f}\".format(dbinom(15,20,.8), 1 - pbinom(15,20,.8), pbinom(15,20,.8)))"
     ],
     "language": "python",
     "metadata": {},
     "outputs": [
      {
       "output_type": "stream",
       "stream": "stdout",
       "text": [
        "i.) 0.1746\n",
        "ii.) 0.6296\n",
        "iii.) 0.3704\n"
       ]
      }
     ],
     "prompt_number": 21
    },
    {
     "cell_type": "heading",
     "level": 3,
     "metadata": {},
     "source": [
      "4.19"
     ]
    },
    {
     "cell_type": "code",
     "collapsed": false,
     "input": [
      "pbinom(3,20,.05)"
     ],
     "language": "python",
     "metadata": {},
     "outputs": [
      {
       "metadata": {},
       "output_type": "pyout",
       "prompt_number": 22,
       "text": [
        "0.98409847398023642"
       ]
      }
     ],
     "prompt_number": 22
    },
    {
     "cell_type": "heading",
     "level": 3,
     "metadata": {},
     "source": [
      "5.15 "
     ]
    },
    {
     "cell_type": "markdown",
     "metadata": {},
     "source": [
      "Obviously whatever you get on the first pick is good. So that will add one to the final answer.\n",
      "\n",
      "For the second toy, we are looking at a geometric distribution, thus the expected value is:\n",
      "\n",
      "$\\mathbb{E}(X) = \\frac 1 p = \\frac 1 {3/4} = \\frac 4 3$\n",
      "\n",
      "For the third toy, we have: $\\mathbb{E}(X) = \\frac 1 p = \\frac 1 {1/2} = 2$\n",
      "\n",
      "For the fourth toy, we have: $\\mathbb{E}(X) = \\frac 1 p = \\frac 1 {1/4} = 4$\n",
      "\n",
      "Adding these all up together, we have: $1+ \\frac 4 3+2+4= \\frac {25} 3$"
     ]
    },
    {
     "cell_type": "heading",
     "level": 3,
     "metadata": {},
     "source": [
      "5.22"
     ]
    },
    {
     "cell_type": "markdown",
     "metadata": {},
     "source": [
      "Let's try running a simulation on this one to confirm/motivate our analytic answer"
     ]
    },
    {
     "cell_type": "code",
     "collapsed": false,
     "input": [
      "@repeat(100000)\n",
      "def accident_in_march():\n",
      "    if((rand()<0.7) and (rand()<0.7) and (rand()>= 0.7)):\n",
      "        return 1\n",
      "    else:\n",
      "        return 0\n",
      "    \n",
      "accident_in_march()    "
     ],
     "language": "python",
     "metadata": {},
     "outputs": [
      {
       "metadata": {},
       "output_type": "pyout",
       "prompt_number": 33,
       "text": [
        "0.14676"
       ]
      }
     ],
     "prompt_number": 33
    },
    {
     "cell_type": "markdown",
     "metadata": {},
     "source": [
      "So, now it's fairly easy to get to the answer:\n",
      "\n",
      "$\\mathbb{P}(X = 3) = \\mathbb{P}(X \\le 3) - \\mathbb{P}(X \\le 2)$\n",
      "\n",
      "$ = [1 - (0.7)^3] - [1 - (0.7)^2] = 0.147$"
     ]
    },
    {
     "cell_type": "heading",
     "level": 3,
     "metadata": {},
     "source": [
      "6.3"
     ]
    },
    {
     "cell_type": "code",
     "collapsed": false,
     "input": [
      "from scipy.stats import poisson\n",
      "\n",
      "dpois = poisson.pmf\n",
      "ppois = poisson.cdf\n",
      "qpois = poisson.ppf\n",
      "rpois = poisson.rvs\n",
      "\n",
      "1 - ppois(10,11)"
     ],
     "language": "python",
     "metadata": {},
     "outputs": [
      {
       "metadata": {},
       "output_type": "pyout",
       "prompt_number": 38,
       "text": [
        "0.54011129730631313"
       ]
      }
     ],
     "prompt_number": 38
    },
    {
     "cell_type": "heading",
     "level": 3,
     "metadata": {},
     "source": [
      "6.19"
     ]
    },
    {
     "cell_type": "markdown",
     "metadata": {},
     "source": [
      "hmmm... so I think we can do this both with the Poisson approximation and just the normal binomial distribution.\n",
      "\n",
      "a.)"
     ]
    },
    {
     "cell_type": "code",
     "collapsed": false,
     "input": [
      "print('Using the Poisson approximation we have {:.4f}'.format(1 - ppois(4,5)))\n",
      "print('Using the binomial distribution we have {:.4f}'.format(1- pbinom(4,100,0.05)))"
     ],
     "language": "python",
     "metadata": {},
     "outputs": [
      {
       "output_type": "stream",
       "stream": "stdout",
       "text": [
        "Using the Poisson approximation we have 0.5595\n",
        "Using the binomial distribution we have 0.5640\n"
       ]
      }
     ],
     "prompt_number": 45
    },
    {
     "cell_type": "markdown",
     "metadata": {},
     "source": [
      "b.) I believe the question is how many people don't show up. If it is more than 5, then the airplane company doesn't pay anything, else they have to pay."
     ]
    },
    {
     "cell_type": "code",
     "collapsed": false,
     "input": [
      "5*700*dbinom(0,100,0.05) + 4*700*dbinom(1,100,0.05) + \\\n",
      "3*700*dbinom(2,100,0.05) + 2*700*dbinom(3,100,0.05) + 700*dbinom(4,100,0.05)\n"
     ],
     "language": "python",
     "metadata": {},
     "outputs": [
      {
       "metadata": {},
       "output_type": "pyout",
       "prompt_number": 67,
       "text": [
        "598.55927567413767"
       ]
      }
     ],
     "prompt_number": 67
    }
   ],
   "metadata": {}
  }
 ]
}