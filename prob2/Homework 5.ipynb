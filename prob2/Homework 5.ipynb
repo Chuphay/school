{
 "metadata": {
  "name": "",
  "signature": "sha256:be8b220ef2b50ccaf28a8acea3090256e84ec298708e9713710e57fe60955d4d"
 },
 "nbformat": 3,
 "nbformat_minor": 0,
 "worksheets": [
  {
   "cells": [
    {
     "cell_type": "heading",
     "level": 1,
     "metadata": {},
     "source": [
      "Homework #5"
     ]
    },
    {
     "cell_type": "markdown",
     "metadata": {},
     "source": [
      "<h3>5.8-2.</h3> If E($X$) = 17 and E($X^2$) = 298, use Chebyshev\u2019s\n",
      "inequality to determine\n",
      "\n",
      "(a) A lower bound for P(10 < $X$ < 24).\n",
      "\n",
      "$$\\mathbb{P}(10 < X < 24) = \\mathbb{P}(|X-17|\\leq 7) \\geq 1 - \\frac {298-17^2} {7^2} = 0.816$$\n",
      "\n",
      "(b) An upper bound for P(|$X$ \u2212 17| \u2265 16).\n",
      "\n",
      "$$\\mathbb{P}(|X-17|\\geq 16) \\leq \\frac {298-17^2} {16^2} = 0.035$$"
     ]
    },
    {
     "cell_type": "markdown",
     "metadata": {},
     "source": [
      "<h3>5.8-6.</h3> Let $\\bar X$ be the mean of a random sample of size\n",
      "$n = 15$ from a distribution with mean $\\mu = 80$ and variance $\\sigma^2 = 60$. Use Chebyshev\u2019s inequality to find a lower\n",
      "bound for $\\mathbb{P}(75 < \\bar{X} < 85)$.\n",
      "\n",
      "$$\\mathbb{P}(75 < \\bar X < 85) = \\mathbb{P}(|\\bar X-80|\\leq 5) \\geq 1 - \\frac {60} {15*5^2} = 0.84$$"
     ]
    },
    {
     "cell_type": "markdown",
     "metadata": {},
     "source": [
      "<h3>5.9-2.</h3> The probability that a certain type of inoculation takes effect is 0.995. Use the Poisson distribution to\n",
      "approximate the probability that at most 2 out of 400 people given the inoculation find that it has not taken effect.\n",
      "Hint: Let p = 1 \u2212 0.995 = 0.005\n",
      "\n",
      "$$\\mathbb{P}(X \\leq 2) =\\frac {\\lambda^0 e^{-\\lambda}}{0!}+\\frac {\\lambda^1 e^{-\\lambda}}{1!} +\\frac {\\lambda^2 e^{-\\lambda}}{2!}$$\n",
      "\n",
      "\n",
      "Let $\\lambda = 0.005*400 = 2$ which yields a probability of $0.6767$"
     ]
    },
    {
     "cell_type": "markdown",
     "metadata": {},
     "source": [
      "<h3>5.9-4.</h3> Let Y be $\\chi^2(n)$. Use the central limit theorem to\n",
      "demonstrate that $W = (Y \u2212 n)/ \\sqrt{2n}$ has a limiting cdf\n",
      "that is N(0, 1). Hint: Think of Y as being the sum of a\n",
      "random sample from a certain distribution.\n",
      "\n",
      "$$\\chi^2(n) = Z_1^2 + Z_2^2 + .... + Z_n^2 ~~\\text{where}~~ Z \\sim N(0,1)$$\n",
      "\n",
      "Each $Z_i^2$ has $\\mu = 1$ and $\\sigma^2 = 2$. We therfore can apply the central limit theorem:\n",
      "\n",
      "$$W = \\frac {Y \u2212 n} {\\sqrt{2n}} = \\frac {\\sum Z_i - n\\mu}{\\sqrt{n} \\sigma}$$\n",
      "\n",
      "which is $N(0,1)$ in the limit as $n \\rightarrow \\infty$"
     ]
    }
   ],
   "metadata": {}
  }
 ]
}