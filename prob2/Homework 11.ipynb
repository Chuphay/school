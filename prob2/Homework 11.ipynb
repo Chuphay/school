{
 "metadata": {
  "name": "",
  "signature": "sha256:f32d30bcace67939d573dfa474a12dbcf854c7cd5d9a66c0a734b2aefc4afc0b"
 },
 "nbformat": 3,
 "nbformat_minor": 0,
 "worksheets": [
  {
   "cells": [
    {
     "cell_type": "code",
     "collapsed": false,
     "input": [
      "%pylab inline\n",
      "%load_ext rpy2.ipython"
     ],
     "language": "python",
     "metadata": {},
     "outputs": [
      {
       "output_type": "stream",
       "stream": "stdout",
       "text": [
        "Populating the interactive namespace from numpy and matplotlib\n"
       ]
      }
     ],
     "prompt_number": 1
    },
    {
     "cell_type": "code",
     "collapsed": false,
     "input": [
      "%%R\n",
      "cover <- 0\n",
      "\n",
      "for (i in 1:1000){\n",
      "\n",
      "    random <- rnorm(10,0,2)\n",
      "\n",
      "    low <- mean(random)-qnorm(0.975)*2/sqrt(10)\n",
      "\n",
      "    high <- mean(random)+qnorm(0.975)*2/sqrt(10)\n",
      "\n",
      "    if ((low<0) & (high>0)) cover <- cover + 1\n",
      "}\n",
      "cat(cover/1000)"
     ],
     "language": "python",
     "metadata": {},
     "outputs": [
      {
       "metadata": {},
       "output_type": "display_data",
       "text": [
        "0.941"
       ]
      }
     ],
     "prompt_number": 9
    },
    {
     "cell_type": "code",
     "collapsed": false,
     "input": [
      "%%R\n",
      "cover <- 0\n",
      "\n",
      "for (i in 1:1000){\n",
      "\n",
      "    random  <- rnorm(10,0,2)\n",
      "\n",
      "    s <- sd(random)\n",
      "\n",
      "    low <- mean(random) - qt(.975,df=9)*s/sqrt(10)\n",
      "\n",
      "    high <- mean(random) + qt(.975,df=9)*s/sqrt(10)\n",
      "\n",
      "    if ((low<0) & (high>0)) cover <- cover + 1\n",
      "\n",
      "}\n",
      "cat(cover/1000)"
     ],
     "language": "python",
     "metadata": {},
     "outputs": [
      {
       "metadata": {},
       "output_type": "display_data",
       "text": [
        "0.942"
       ]
      }
     ],
     "prompt_number": 11
    },
    {
     "cell_type": "code",
     "collapsed": false,
     "input": [],
     "language": "python",
     "metadata": {},
     "outputs": []
    }
   ],
   "metadata": {}
  }
 ]
}