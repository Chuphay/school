{
 "metadata": {
  "name": "",
  "signature": "sha256:e3c21805a042ba809327c4e52d6e467abe0d09417947ea8e8652e0feb88e1615"
 },
 "nbformat": 3,
 "nbformat_minor": 0,
 "worksheets": [
  {
   "cells": [
    {
     "cell_type": "heading",
     "level": 1,
     "metadata": {},
     "source": [
      "Homework #7"
     ]
    },
    {
     "cell_type": "markdown",
     "metadata": {},
     "source": [
      "<h3>6.3-4.</h3> In the expression for $g_r (y) = G_r' (y)$ in Equation 6.3-1, let n = 6, and r = 3, and write out the\n",
      "summations, showing that the \u201ctelescoping\u201d suggested in\n",
      "the text is achieved.\n",
      "\n",
      "$$g_r(y) = G_r' (y) = \\sum_{k=r}^{n-1} {n \\choose k}(k)[F(y)]^{k\u22121} f (y)[1 \u2212 F(y)]^{n\u2212k}$$\n",
      "\n",
      "$$+\\sum_{k=r}^{n-1} {n \\choose k}(n-k)[F(y)]^{k} (-f (y))[1 \u2212 F(y)]^{n\u2212k -1}+ n[F(y)]^{n\u22121} f (y).$$\n",
      "\n",
      "\n",
      "$$g_3(y) = {6 \\choose 3} (3)[F(y)]^{2} f (y)[1 \u2212 F(y)]^{3} + {6 \\choose 4} (4)[F(y)]^{3} f (y)[1 \u2212 F(y)]^{2} $$\n",
      "\n",
      "$$-{6 \\choose 3}(3)[F(y)]^{3} f (y)[1 \u2212 F(y)]^{2} + {6 \\choose 5} (5)[F(y)]^{4} f (y)[1 \u2212 F(y)]^{1}$$\n",
      "\n",
      "$$-{6 \\choose 4}(2)[F(y)]^{4} f (y)[1 \u2212 F(y)]^{1} -{6 \\choose 5}(1)[F(y)]^{5} f (y)[1 \u2212 F(y)]^{0} + 6[F(y)]^{5} f (y)$$\n",
      "\n",
      "\n",
      "This is therefore equal to  ${6 \\choose 3} (3)[F(y)]^{2} f (y)[1 \u2212 F(y)]^{3}$ if\n",
      "\n",
      "$${6 \\choose 4} (4) = {6 \\choose 3}(3), ~~~~~ {6 \\choose 5} (5)= {6 \\choose 4}(2), ~~~~~{6 \\choose 5}(1) = 6$$\n",
      "\n",
      "which is straightforward to verify.\n"
     ]
    },
    {
     "cell_type": "markdown",
     "metadata": {},
     "source": [
      "<h3>6.3-6.</h3> Let $W_1 < W_2 < \u00b7 \u00b7 \u00b7 < W_n$ be the order statistics of\n",
      "n independent observations from a U(0, 1) distribution.\n",
      "\n",
      "(a) Find the pdf of $W_1$ and that of $W_n$.\n",
      "\n",
      "$$g_r(y) = G_r' (y) =  {n \\choose r}(r)[F(y)]^{r\u22121} f (y)[1 \u2212 F(y)]^{n\u2212r}$$\n",
      "\n",
      "therefore,\n",
      "\n",
      "$$g_1(y) =  (n)[1 \u2212 y]^{n\u22121}$$\n",
      "\n",
      "$$g_n(y) = (n)[y]^{n-1}$$\n",
      "\n",
      "(b) Use the results of (a) to verify that $E(W_1 ) = 1/(n + 1)$\n",
      "and $E(W_n ) = n/(n + 1)$.\n",
      "\n",
      "$$E(W_1 ) = \\int_0^1 ny(1-y)^{n-1}dy = \\int_0^1 n \\frac 1 n (1-y)^n dy = \\frac n {n(n+1)} = 1/(n+1)$$\n",
      "\n",
      "$$E(W_n) = \\int_0^1 ny(y)^{n-1}dy = \\int_0^1 n y^n dy = n/(n+1)$$\n",
      "\n",
      "(c) Show that the pdf of $W_r$ is beta\n",
      "\n",
      "$$W_r(x) = {n \\choose r}(r)x^{r\u22121} (1 \u2212 x)^{n\u2212r}$$\n",
      "\n",
      "Let $\\alpha = r$ and $\\beta = n-r+1$, the beta distribution then has the following form:\n",
      "\n",
      "$$f(x) = \\frac {\\Gamma(n+1)}{\\Gamma(r) \\Gamma(n-r+1)} x^{r-1}(1-x)^{n-r}$$\n",
      "\n",
      "recall that $\\Gamma(n+1) = n!$ and the pdf of the beta distribution simplifies to\n",
      "\n",
      "$$f(x) = \\frac {n!}{(r-1)! (n-r)!} x^{r-1}(1-x)^{n-r}$$\n",
      "\n",
      "which is equal to the pdf of $W_r$.\n",
      "\n"
     ]
    },
    {
     "cell_type": "markdown",
     "metadata": {},
     "source": [
      "<h3>6.4-8.</h3> Let $f (x;\\theta) = (1/\\theta)x^{(1\u2212\\theta)/\\theta} ~~~$ ,  $~~0 < x < 1, ~~~0 < \\theta < \\infty$.\n",
      "\n",
      "(a) Show that the maximum likelihood estimator of $\\theta$ is\n",
      "$\\hat{\\theta} = \u2212(1/n) \\sum_{i=1}^n ln X_i$ .\n",
      "\n",
      "$$L(\\theta) = \\prod \\frac 1 {\\theta} x_i^{(1-\\theta)/\\theta} $$\n",
      "\n",
      "$$ln(L) = \\sum [ -ln(\\theta) + \\frac {(1-\\theta)}{\\theta} ln(x_i)]$$\n",
      "\n",
      "$$0 = \\frac d {d\\theta} ln(L) = -\\frac n {\\theta} - \\frac {\\sum ln(x_i)}{\\theta} - \\frac {(1-\\theta)}{\\theta} \\sum ln(x_i)$$\n",
      "\n",
      "$$\\rightarrow \\hat{\\theta} = \u2212(1/n) \\sum_{i=1}^n ln( X_i)$$.\n",
      "\n",
      "(b) Show that $E( \\hat{\\theta} ) = \\theta$ and thus that $\\hat{\\theta}$ is an unbiased\n",
      "estimator of $\\theta$ .\n",
      "\n",
      "I'm just going to do it for n=1. The general case seems like some rather hairy mathematics, and I'd rather skip it.\n",
      "\n",
      "$$E(\\hat{\\theta}) = \\int \\frac {ln(x)}{\\theta} x^{(1-\\theta)/\\theta}dx = - \\int \\frac 1 {\\theta} \\frac {x^{(1-\\theta)/\\theta}}{[1 +(1-\\theta)/\\theta]} = \\theta$$\n",
      "\n"
     ]
    },
    {
     "cell_type": "markdown",
     "metadata": {},
     "source": [
      "<h3>6.4-10.</h3> Let $X_1 , X_2 , . . . , X_n$ be a random sample of size n\n",
      "from a geometric distribution for which p is the probability of success.\n",
      "\n",
      "(a) Use the method of moments to find a point estimate\n",
      "for p.\n",
      "\n",
      "The geometric distribution is defined to have the distribution: $f(x) = (1-p)^{x-1}p$\n",
      "\n",
      "$$\\mu = \\frac 1 p~~~~ \\rightarrow p = \\frac 1 {\\bar{X}} $$  \n",
      "\n",
      "\n",
      "(b) Explain intuitively why your estimate makes good\n",
      "sense.\n",
      "\n",
      "As $\\bar{X}$ goes up, that means that we need more trials before we had a success, which would imply that the probability of success is low.\n",
      "\n",
      "(c) Use the following data to give a point estimate of p:\n",
      "\n",
      "3 34\n",
      "7\n",
      "4 19 2 1 19 43\n",
      "2\n",
      "\n",
      "22\n",
      "4\n",
      "19\n",
      "11\n",
      "7\n",
      "1\n",
      "2\n",
      "21\n",
      "15\n",
      "1"
     ]
    },
    {
     "cell_type": "code",
     "collapsed": false,
     "input": [
      "data = [3, 34, 7, 4, 19, 2, 1, 19, 43, 2, 22, 4, 19, 11, 7, 1, 2, 21, 15, 1]\n",
      "mean = sum(data)/len(data)\n",
      "p = 1/mean\n",
      "p"
     ],
     "language": "python",
     "metadata": {},
     "outputs": [
      {
       "metadata": {},
       "output_type": "pyout",
       "prompt_number": 3,
       "text": [
        "0.08438818565400844"
       ]
      }
     ],
     "prompt_number": 3
    },
    {
     "cell_type": "markdown",
     "metadata": {},
     "source": [
      "<h3>6.4-12.</h3> Let $X_1 , X_2 , . . . , X_n$ be a random sample from\n",
      "b(1, p) (i.e., n Bernoulli trials). Thus,\n",
      "\n",
      "$$Y = \\sum_{i=1}^n X_i ~~~~~is ~~~b(n, p).$$\n",
      "\n",
      "(a) Show that $\\bar{X} = Y/n$ is an unbiased estimator of p.\n",
      "\n",
      "$$\\mathbb{E}(\\bar X ) = \\sum_{i= 0}^n \\sum_{x_i = 0}^1  \\frac 1 n  x_i p^{ x_i} (1 - p)^{1 -x_i} = number~of~successes * p/n = ?$$\n",
      "\n",
      "(b) Show that $Var(\\bar{X}) = p(1 \u2212 p)/n$.\n",
      "\n",
      "$$\\mathbb{E}(\\bar X^2 ) = \\sum_{i= 0}^n \\sum_{x_i = 0}^1 \\frac 1 {n^2}  x_i^2 p^{x_i} (1 - p)^{1- x_i}  = number~of~successes *p(1-p)/ n^2$$\n",
      "\n",
      "(c) Show that $E[\\bar{X}(1 \u2212 \\bar{X})/n] = (n \u2212 1)[p(1 \u2212 p)/n^2 ]$.\n",
      "\n",
      "$$E[\\bar{X}(1 \u2212 \\bar{X})/n] = E[\\bar{X}]/n -  E(\\bar X^2 ) /n = p/n - p(1-p)/n^2 \\neq (n \u2212 1)[p(1 \u2212 p)/n^2 ] ???$$ \n",
      "\n",
      "(d) Find the value of c so that $c\\bar{X}(1 \u2212 \\bar{X})$ is an unbiased\n",
      "estimator of $Var(\\bar{X}) = p(1 \u2212 p)/n$.\n",
      "\n",
      "$$c = n/(n-1)  ~~~maybe?$$"
     ]
    },
    {
     "cell_type": "code",
     "collapsed": false,
     "input": [],
     "language": "python",
     "metadata": {},
     "outputs": []
    }
   ],
   "metadata": {}
  }
 ]
}