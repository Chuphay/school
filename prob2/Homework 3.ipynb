{
 "metadata": {
  "name": "",
  "signature": "sha256:e21382972baecbbd6d6224d0ddb442bd6bf6510ef7dcb5e7c7fe2a9a3612e407"
 },
 "nbformat": 3,
 "nbformat_minor": 0,
 "worksheets": [
  {
   "cells": [
    {
     "cell_type": "heading",
     "level": 1,
     "metadata": {},
     "source": [
      "Homework #3"
     ]
    },
    {
     "cell_type": "markdown",
     "metadata": {},
     "source": [
      "<h3>5.2-2.</h3> Let $X_1$ and $X_2$ be independent chi-square random\n",
      "variables with $r_1$ and $r_2$ degrees of freedom, respectively.\n",
      "Let $Y_1 = (X_1 /r_1 )/(X_2 /r_2 )$ and $Y_2 = X_2$ .\n",
      "\n",
      "(a) Find the joint pdf of $Y_1$ and $Y_2$ .\n",
      "\n",
      "First we find the inverse functions: $v_1 = \\frac {r_1}{r_2} y_1 y_2$ and $v_2 = y_2$\n",
      "\n",
      "Next, we find the Jacobian:\n",
      "\n",
      "$$J = \\left |\\begin{array}{ccc}\n",
      "r_1 y_1/ r_2 & r_1 y_2 / r_2  \\\\\n",
      "0 & 1  \\end{array} \\right | = \\frac {r_1}{r_2} y_2$$\n",
      "\n",
      "Then, by the formula provided:\n",
      "\n",
      "$$g(y_1, y_2) = |J|f[v_1(y_1, y_2), v_2(y_1, y_2)]$$\n",
      "\n",
      "we find\n",
      "\n",
      "$$g(y_1, y_2) = \\left(\\frac {r_1}{r_2} \\right)^{r_1/2} \\frac 1 {\\Gamma(r_1/2) \\Gamma(r_2/2) 2^{(r_1+r_2)/2}} y_1^{(r_1/2 - 1)} y_2^{(r_1 + r_2)/2 -1} e^{-y_2(1+r_1 y_1/ r_2)/2}$$\n",
      "\n",
      "with support for both variables the positive real numbers.\n",
      "\n",
      "(b) Determine the marginal pdf of $Y_1$ and show that $Y_1$\n",
      "has an F distribution. (This is another, but equivalent,\n",
      "way of finding the pdf of F.)\n",
      "\n",
      "$$g_1(y_1) = \\int dy_2 g(y_1,y_2) = \\frac {(r_1/r_2)^{r_1/2} \\Gamma[(r_1 + r_2)/2] y_1^{r_1/2 -1}}{ \\Gamma(r_1/2) \\Gamma(r_2/2)} \\int \\frac {dy_2}{\\Gamma[(r_1 + r_2)/2] 2^{(r_1 + r_2)/2}} y_2^{(r_1+r_2)/2 -1} e^{-y_2(1 + r_1 y_1/ r_2)/2}$$\n",
      "\n",
      "Letting $u = y_2(1 + r_1 y_1/r_2)/2$ yields\n",
      "\n",
      "\n",
      "$$g_1(y_1) = \\frac {(r_1/r_2)^{r_1/2} \\Gamma[(r_1 + r_2)/2] y_1^{r_1/2 -1}}{ \\Gamma(r_1/2) \\Gamma(r_2/2) (1+r_1 y_1/r_2)^{(r_1 +r_2)/2}} \\int \\frac {du}{\\Gamma[(r_1 + r_2)/2] 2^{(r_1 + r_2)/2}} u^{(r_1+r_2)/2 -1} e^{-u/2}$$\n",
      "\n",
      "We recognize the integral as being the integral over a $\\chi^2$ distribution and thus equal to one, and notice that the remainder is the p.d.f. of an F distribution.\n"
     ]
    },
    {
     "cell_type": "markdown",
     "metadata": {},
     "source": [
      "<h3>5.2-4.</h3> Let the distribution of W be F(9, 24). Find the\n",
      "following:\n",
      "\n",
      "(a) $F_{0.05} (9, 24) = 2.30$.\n",
      "\n",
      "(b) $F_{0.95} (9, 24) = \\frac 1 {F_{0.05}(24,9)} =  0.345$.\n",
      "\n",
      "(c) $\\mathbb{P}(0.277 \\leq W \\leq 2.70) = \\mathbb{P}(1/3.61 \\leq W \\leq 2.7) = 0.975 - 0.025 =0.95$."
     ]
    },
    {
     "cell_type": "markdown",
     "metadata": {},
     "source": [
      "<h3>5.2-8.</h3> Let X have a beta distribution with parameters \u03b1\n",
      "and \u03b2. (See Example 5.2-3.)\n",
      "(a) Show that the mean and variance of X are, respectively,\n",
      "\n",
      "$$\\mu = \\frac {\\alpha}{\\alpha + \\beta} ~~~~~\\text{and}~~~~~ \\sigma^2 = \\frac {\\alpha \\beta}{(\\alpha +\\beta +1)(\\alpha + \\beta)^2}$$\n",
      "\n",
      "We define $B(\\alpha, \\beta) = \\frac {\\Gamma(\\alpha)\\Gamma(\\beta)}{\\Gamma(\\alpha + \\beta)}$ and therefore\n",
      "\n",
      "$$\\int_0^1 y^{\\alpha-1}(1-y)^{\\beta - 1}dy = B(\\alpha, \\beta)$$ \n",
      "\n",
      "Now we proceed with the proof\n",
      "\n",
      "$$\\mu =  \\frac 1 {B(\\alpha, \\beta)} \\int_0^1 y^{\\alpha}(1-y)^{\\beta - 1}dy = \\frac {B(\\alpha + 1, \\beta)}{B(\\alpha, \\beta)} $$\n",
      "\n",
      "Using $\\Gamma(n) = (n-1)!$ we have\n",
      "\n",
      "$$\\mu = \\frac {\\alpha!(\\beta - 1)! (\\alpha + \\beta - 1)!}{(\\alpha -1 )!(\\beta -1)!(\\alpha +\\beta)!} = \\frac {\\alpha}{\\alpha + \\beta}$$\n",
      "\n",
      "Similarily for $\\sigma^2$, we have\n",
      "\n",
      "$$\\sigma^2 =  \\frac 1 {B(\\alpha, \\beta)} \\int_0^1 y^{\\alpha+1}(1-y)^{\\beta - 1}dy = \\frac {B(\\alpha + 2, \\beta)}{B(\\alpha, \\beta)} - \\frac {\\alpha^2}{(\\alpha + \\beta)^2}$$\n",
      "\n",
      "$$ = \\frac {(\\alpha + 1)\\alpha}{(\\alpha + \\beta)(\\alpha + \\beta +1)} - \\frac {\\alpha^2}{(\\alpha + \\beta)^2} = \\frac {\\alpha \\beta}{(\\alpha + \\beta +1)(\\alpha + \\beta)^2}$$\n",
      "\n",
      "(b) Show that when \u03b1 > 1 and \u03b2 > 1, the mode is at\n",
      "x = (\u03b1 \u2212 1)/(\u03b1 + \u03b2 \u2212 2).\n",
      "\n",
      "To find the maximum, we set the derivative equal to zero:\n",
      "\n",
      "$$0 = \\frac {dg}{dy} = \\frac 1 {B(\\alpha, \\beta)} [(\\alpha -1)y^{(\\alpha -2)}(1-y)^{\\beta -1} - (\\beta -1)y^{(\\alpha -1)}(1-y)^{\\beta -2}] $$\n",
      "\n",
      "$$0 = \\frac {\\alpha - 1} y - \\frac {\\beta - 1} {1-y} ~~~~~\\rightarrow ~~~~~y = \\frac {\\alpha -1 }{\\alpha +\\beta -2}$$"
     ]
    },
    {
     "cell_type": "markdown",
     "metadata": {},
     "source": [
      "<h3>5.3-2.</h3> Let X 1 and X 2 be independent random variables with respective binomial distributions b(3, 1/2) and\n",
      "b(5, 1/2). Determine\n",
      "(a) $P(X_1 = 2, X_2 = 4)$.\n",
      "(b) $P(X_1 + X_2 = 7)$."
     ]
    },
    {
     "cell_type": "code",
     "collapsed": false,
     "input": [
      "from scipy.stats import f\n",
      "1/f.ppf(.95,24,9)\n",
      "f.ppf(.05,9,24)\n",
      "f.cdf(2.7,9,24)\n",
      "f.cdf(.277,9,24)"
     ],
     "language": "python",
     "metadata": {},
     "outputs": [
      {
       "metadata": {},
       "output_type": "pyout",
       "prompt_number": 12,
       "text": [
        "0.025092778981125684"
       ]
      }
     ],
     "prompt_number": 12
    },
    {
     "cell_type": "markdown",
     "metadata": {},
     "source": [
      "<h3>5.3-6.</h3> Let $X_1$ and $X_2$ be a random sample of size n = 2\n",
      "from a distribution with pdf f (x) = 6x(1 \u2212 x), 0 < x < 1.\n",
      "Find the mean and the variance of $Y = X_1 + X_2$ ."
     ]
    },
    {
     "cell_type": "markdown",
     "metadata": {},
     "source": [
      "<h3>5.4-2.</h3> Let $X_1$ and $X_2$ have independent distributions\n",
      "$b(n_1 , p)$ and $b(n_2 , p)$. Find the mgf of $Y = X_1 + X_2$ . How\n",
      "is Y distributed?"
     ]
    },
    {
     "cell_type": "markdown",
     "metadata": {},
     "source": [
      "<h3>5.4-8.</h3> Let $W = X_1 + X_2 + \u00b7 \u00b7 \u00b7 + X_h$ , a sum of h mutually\n",
      "independent and identically distributed exponential random variables with mean \u03b8 . Show that W has a gamma\n",
      "distribution with parameters \u03b1 = h and \u03b8 , respectively."
     ]
    },
    {
     "cell_type": "code",
     "collapsed": false,
     "input": [],
     "language": "python",
     "metadata": {},
     "outputs": []
    }
   ],
   "metadata": {}
  }
 ]
}