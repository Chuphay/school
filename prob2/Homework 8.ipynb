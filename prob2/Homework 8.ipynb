{
 "metadata": {
  "name": "",
  "signature": "sha256:de1714ac7f2b4b21a1f35d810fa239978156cedba6f2de4a9fd1282c37c61feb"
 },
 "nbformat": 3,
 "nbformat_minor": 0,
 "worksheets": [
  {
   "cells": [
    {
     "cell_type": "code",
     "collapsed": false,
     "input": [
      "%pylab inline\n",
      "%load_ext rpy2.ipython   \n",
      "from pandas import DataFrame, Series"
     ],
     "language": "python",
     "metadata": {},
     "outputs": [
      {
       "output_type": "stream",
       "stream": "stdout",
       "text": [
        "Populating the interactive namespace from numpy and matplotlib\n"
       ]
      }
     ],
     "prompt_number": 1
    },
    {
     "cell_type": "heading",
     "level": 1,
     "metadata": {},
     "source": [
      "Homework #8"
     ]
    },
    {
     "cell_type": "markdown",
     "metadata": {},
     "source": [
      "Normal Distribution:\n",
      "\n",
      "1. Generate a random sample of size 100 from a Normal distribution with mean $\\mu = 10$ and variance $\\sigma^2 = 25$.\n",
      "\n",
      "a.) Find the mean of your sample"
     ]
    },
    {
     "cell_type": "code",
     "collapsed": false,
     "input": [
      "%%R \n",
      "set.seed(1)\n",
      "cat(mean(rnorm(100,10,5)))"
     ],
     "language": "python",
     "metadata": {},
     "outputs": [
      {
       "metadata": {},
       "output_type": "display_data",
       "text": [
        "10.54444"
       ]
      }
     ],
     "prompt_number": 7
    },
    {
     "cell_type": "markdown",
     "metadata": {},
     "source": [
      "b.) Calculate the estimation error =(Sample-mean minus population-mean)"
     ]
    },
    {
     "cell_type": "code",
     "collapsed": false,
     "input": [
      "%%R \n",
      "set.seed(1)\n",
      "cat(mean(rnorm(100,10,5))-10)"
     ],
     "language": "python",
     "metadata": {},
     "outputs": [
      {
       "metadata": {},
       "output_type": "display_data",
       "text": [
        "0.5444368"
       ]
      }
     ],
     "prompt_number": 8
    },
    {
     "cell_type": "markdown",
     "metadata": {},
     "source": [
      "2. Repeat problem 1 for sample sizes of 500, 1000, 5000, 10000, 50000, 100000.  For each sample size record the sample-mean and the estimation error."
     ]
    },
    {
     "cell_type": "code",
     "collapsed": false,
     "input": [
      "%%R \n",
      "set.seed(1)\n",
      "m_500 <- mean(rnorm(500,10,5))\n",
      "cat('500 -- mean:', m_500, 'error: ', m_500-10,'\\n')\n",
      "m_1000 <- mean(rnorm(1000,10,5))\n",
      "cat('1000 -- mean:', m_1000, 'error: ', m_1000-10, '\\n')\n",
      "m_5000 <- mean(rnorm(5000,10,5))\n",
      "cat('5000 -- mean:', m_5000, 'error: ', m_5000-10, '\\n')\n",
      "m_10000 <- mean(rnorm(10000,10,5))\n",
      "cat('10000 -- mean:', m_10000, 'error: ', m_10000-10, '\\n')\n",
      "m_50000 <- mean(rnorm(50000,10,5))\n",
      "cat('50000 -- mean:', m_50000, 'error: ', m_50000-10, '\\n')\n",
      "m_100000 <- mean(rnorm(100000,10,5))\n",
      "cat('100000 -- mean:', m_100000, 'error: ', m_100000-10, '\\n')"
     ],
     "language": "python",
     "metadata": {},
     "outputs": [
      {
       "metadata": {},
       "output_type": "display_data",
       "text": [
        "500 -- mean: 10.11322 error:  0.1132204 \n",
        "1000 -- mean: 9.877678 error:  -0.1223221 \n",
        "5000 -- mean: 9.986277 error:  -0.01372287 \n",
        "10000 -- mean: 9.931025 error:  -0.06897468 \n",
        "50000 -- mean: 9.988273 error:  -0.01172652 \n",
        "100000 -- mean: 10.00982 error:  0.009822465 \n"
       ]
      }
     ],
     "prompt_number": 15
    },
    {
     "cell_type": "markdown",
     "metadata": {},
     "source": [
      "3. Table your results.  Graph the sample means as a function of sample size, with sample size on the horizontal axis and sample-mean on the vertical axis.  Place a horizontal line at the population mean of 10."
     ]
    },
    {
     "cell_type": "code",
     "collapsed": false,
     "input": [
      "%%R\n",
      "df <-data.frame(c(500,1000,5000,10000,50000,100000), c(m_500, m_1000, m_5000, m_10000, m_50000, m_100000))\n",
      "colnames(df)<-c('size','mean')\n",
      "df"
     ],
     "language": "python",
     "metadata": {},
     "outputs": [
      {
       "metadata": {},
       "output_type": "display_data",
       "text": [
        "   size      mean\n",
        "1 5e+02 10.113220\n",
        "2 1e+03  9.877678\n",
        "3 5e+03  9.986277\n",
        "4 1e+04  9.931025\n",
        "5 5e+04  9.988273\n",
        "6 1e+05 10.009822\n"
       ]
      }
     ],
     "prompt_number": 19
    },
    {
     "cell_type": "code",
     "collapsed": false,
     "input": [
      "%%R\n",
      "plot(df$size,df$mean, col ='red', pch =3)\n",
      "abline(10,0)"
     ],
     "language": "python",
     "metadata": {},
     "outputs": [
      {
       "metadata": {},
       "output_type": "display_data",
       "png": "[encoded data removed]"
      }
     ],
     "prompt_number": 34
    },
    {
     "cell_type": "markdown",
     "metadata": {},
     "source": [
      "4. What can you tell about the distribution of the sample mean as sample size increases?"
     ]
    },
    {
     "cell_type": "markdown",
     "metadata": {},
     "source": [
      "The sample mean converges to the population mean."
     ]
    },
    {
     "cell_type": "markdown",
     "metadata": {},
     "source": [
      "Uniform Distributions:\n",
      "\n",
      "5. Generate a random sample of size 400 from a Uniform(a, b) distribution.  Choose an \u201ca\u201d (not zero) and a \u201cb\u201d (b > 0 and b > a); record \u201ca\u201d and \u201cb\u201d on your homework."
     ]
    },
    {
     "cell_type": "code",
     "collapsed": false,
     "input": [
      "%R x<-runif(400,-1,1);"
     ],
     "language": "python",
     "metadata": {},
     "outputs": [],
     "prompt_number": 37
    },
    {
     "cell_type": "markdown",
     "metadata": {},
     "source": [
      "    a.) Calculate the sample mean\n",
      "    "
     ]
    },
    {
     "cell_type": "code",
     "collapsed": false,
     "input": [
      "%R cat(mean(x))"
     ],
     "language": "python",
     "metadata": {},
     "outputs": [
      {
       "metadata": {},
       "output_type": "display_data",
       "text": [
        "-0.02016192"
       ]
      }
     ],
     "prompt_number": 39
    },
    {
     "cell_type": "markdown",
     "metadata": {},
     "source": [
      "    \n",
      "    b.) Calculate the sample variance\n",
      "    "
     ]
    },
    {
     "cell_type": "code",
     "collapsed": false,
     "input": [
      "%R cat(sd(x))"
     ],
     "language": "python",
     "metadata": {},
     "outputs": [
      {
       "metadata": {},
       "output_type": "display_data",
       "text": [
        "0.5793138"
       ]
      }
     ],
     "prompt_number": 40
    },
    {
     "cell_type": "markdown",
     "metadata": {},
     "source": [
      "    c.) The maximum likelihood estimator of \u201ca\u201d is X(1) = minimum(X1, X2,\u2026., X400)\n",
      "    \n",
      "    "
     ]
    },
    {
     "cell_type": "code",
     "collapsed": false,
     "input": [
      "%R cat(min(x))"
     ],
     "language": "python",
     "metadata": {},
     "outputs": [
      {
       "metadata": {},
       "output_type": "display_data",
       "text": [
        "-0.9957925"
       ]
      }
     ],
     "prompt_number": 41
    },
    {
     "cell_type": "markdown",
     "metadata": {},
     "source": [
      "    d.) The maximum likelihood estimator of \u201cb\u201d is X(400) = maximum(X1, X2,\u2026., X400)\n",
      "    "
     ]
    },
    {
     "cell_type": "code",
     "collapsed": false,
     "input": [
      "%R cat(max(x))"
     ],
     "language": "python",
     "metadata": {},
     "outputs": [
      {
       "metadata": {},
       "output_type": "display_data",
       "text": [
        "0.9968932"
       ]
      }
     ],
     "prompt_number": 42
    },
    {
     "cell_type": "markdown",
     "metadata": {},
     "source": [
      "    e.) How close are the maximum likelihood estimates to \u201ca\u201d and to \u201cb?\u201d\n",
      "    \n",
      "Pretty close. About 0.004."
     ]
    },
    {
     "cell_type": "markdown",
     "metadata": {},
     "source": [
      "    f.) Repeat parts (a) \u2013 (e) 25 times and form a histogram of your results for each statistic.  (One graph for sample mean, one for sample variance, one for mle of \u201ca,\u201d and one graph for mle of \u201cb.\u201d)\n",
      "    \n",
      "    "
     ]
    },
    {
     "cell_type": "code",
     "collapsed": false,
     "input": [
      "%%R\n",
      "N <- 25\n",
      "\n",
      "my_mean <- numeric(N)\n",
      "my_sd <- numeric(N)\n",
      "my_min <- numeric(N)\n",
      "my_max <- numeric(N)\n",
      "for (i in 1:N) {\n",
      "    x<-runif(400,-1,1);\n",
      "    my_mean[i] <- mean(x)\n",
      "    my_sd[i] <- sd(x)\n",
      "    my_min[i] <- min(x)\n",
      "    my_max[i] <- max(x)\n",
      "}\n",
      "\n",
      "hist(my_max)\n",
      "hist(my_min)\n",
      "hist(my_sd)\n",
      "hist(my_mean)\n"
     ],
     "language": "python",
     "metadata": {},
     "outputs": [
      {
       "metadata": {},
       "output_type": "display_data",
       "png": "[encoded data removed]"
      },
      {
       "metadata": {},
       "output_type": "display_data",
       "png": "[encoded data removed]"
      },
      {
       "metadata": {},
       "output_type": "display_data",
       "png": "[encoded data removed]"
      },
      {
       "metadata": {},
       "output_type": "display_data",
       "png": "[encoded data removed]"
      }
     ],
     "prompt_number": 52
    },
    {
     "cell_type": "markdown",
     "metadata": {},
     "source": [
      "    g.) Comment on the distribution for each statistic\n",
      "    \n",
      "Mean and standard deviation both appear to be somewhat bell shaped. However, the min and max are both heavily skewed.     \n",
      "    \n",
      "    h.) Why would it be difficult to find method of moments estimators for \u201ca\u201d and \u201cb?\u201d\n",
      "    \n",
      "Method of moments equate the moment with the parameter, but here the parameters don't have anything to do with the moments, so it would be quite difficult.     "
     ]
    },
    {
     "cell_type": "markdown",
     "metadata": {},
     "source": [
      "6. This exercise compares the maximum likelihood estimator with the method of moments estimator for Unif(0, b) where b > 0\n",
      "   \n",
      "   a.) Generate a random sample of size 25 from a Uniform (0, b) where the \u201cb\u201d is the same as in problem 5.\n",
      "    "
     ]
    },
    {
     "cell_type": "code",
     "collapsed": false,
     "input": [
      "%R x<- runif(25);"
     ],
     "language": "python",
     "metadata": {},
     "outputs": [],
     "prompt_number": 53
    },
    {
     "cell_type": "markdown",
     "metadata": {},
     "source": [
      "    b.) Find the maximum likelihood estimate for \u201cb.\u201d\n",
      "   "
     ]
    },
    {
     "cell_type": "code",
     "collapsed": false,
     "input": [
      "%R cat(max(x))"
     ],
     "language": "python",
     "metadata": {},
     "outputs": [
      {
       "metadata": {},
       "output_type": "display_data",
       "text": [
        "0.9469251"
       ]
      }
     ],
     "prompt_number": 54
    },
    {
     "cell_type": "markdown",
     "metadata": {},
     "source": [
      " c.) Find the method of moments estimator for \u201cb.\u201d\n",
      "   "
     ]
    },
    {
     "cell_type": "code",
     "collapsed": false,
     "input": [
      "%R cat(2*mean(x))"
     ],
     "language": "python",
     "metadata": {},
     "outputs": [
      {
       "metadata": {},
       "output_type": "display_data",
       "text": [
        "0.8713698"
       ]
      }
     ],
     "prompt_number": 55
    },
    {
     "cell_type": "markdown",
     "metadata": {},
     "source": [
      "d.) Repeat parts (a),(b) and (c) at least 50 times and record your results.\n",
      " "
     ]
    },
    {
     "cell_type": "code",
     "collapsed": false,
     "input": [
      "%%R\n",
      "my_mom <-numeric(50)\n",
      "my_max <- numeric(50)\n",
      "for (i in 1:50){\n",
      "    x <- runif(25);\n",
      "    my_mom[i] <- 2*mean(x)\n",
      "    my_max[i] <- max(x)\n",
      "}"
     ],
     "language": "python",
     "metadata": {},
     "outputs": [],
     "prompt_number": 56
    },
    {
     "cell_type": "markdown",
     "metadata": {},
     "source": [
      "   e.) Make a histogram for the maximum likelihood estimates and a separate histogram for the method of moments estimates.  Use the same class intervals for both histograms.\n",
      " "
     ]
    },
    {
     "cell_type": "code",
     "collapsed": false,
     "input": [
      "%%R\n",
      "class <- seq(0.7,1.3,0.05)\n",
      "hist(my_mom, breaks = class)\n",
      "hist(my_max, breaks = class)"
     ],
     "language": "python",
     "metadata": {},
     "outputs": [
      {
       "metadata": {},
       "output_type": "display_data",
       "png": "[encoded data removed]"
      },
      {
       "metadata": {},
       "output_type": "display_data",
       "png": "[encoded data removed]"
      }
     ],
     "prompt_number": 65
    },
    {
     "cell_type": "markdown",
     "metadata": {},
     "source": [
      "   f.) Mark the value of the parameter \u201cb\u201d on each of your histograms.\n",
      " "
     ]
    },
    {
     "cell_type": "markdown",
     "metadata": {},
     "source": [
      "   g.) Conclusions: Which estimator seems the least biased?  Which estimator appears to have the smallest variance?"
     ]
    },
    {
     "cell_type": "markdown",
     "metadata": {},
     "source": [
      "Certainly, the maximum has much smaller variance. It also has more bias because it can never go above 10."
     ]
    }
   ],
   "metadata": {}
  }
 ]
}