{
 "metadata": {
  "name": "",
  "signature": "sha256:951978a3b09f95652dcf6ccdfa0e52c0827b9aad6c83d07bb1f58205561e0afc"
 },
 "nbformat": 3,
 "nbformat_minor": 0,
 "worksheets": [
  {
   "cells": [
    {
     "cell_type": "heading",
     "level": 1,
     "metadata": {},
     "source": [
      "Homework #10"
     ]
    },
    {
     "cell_type": "code",
     "collapsed": false,
     "input": [
      "%pylab inline\n",
      "from tools import hide\n",
      "hide()"
     ],
     "language": "python",
     "metadata": {},
     "outputs": [
      {
       "output_type": "stream",
       "stream": "stdout",
       "text": [
        "Populating the interactive namespace from numpy and matplotlib\n"
       ]
      },
      {
       "output_type": "stream",
       "stream": "stderr",
       "text": [
        "WARNING: pylab import has clobbered these variables: ['ceil']\n",
        "`%matplotlib` prevents importing * from pylab and numpy\n"
       ]
      },
      {
       "html": [
        "<script>\n",
        "code_show=true; \n",
        "function code_toggle() {\n",
        " if (code_show){\n",
        " $('div.input').hide();\n",
        " $('div.output_prompt').hide();\n",
        "\n",
        " } else {\n",
        " $('div.input').show();\n",
        " $('div.output_prompt').show();\n",
        " }\n",
        " code_show = !code_show\n",
        "} \n",
        "$( document ).ready(code_toggle);\n",
        "</script>\n",
        "<p>The raw code for this IPython notebook is by default hidden for easier reading.</p>\n",
        "\n",
        "<p>To toggle on/off the raw code, click <a href=\"javascript:code_toggle()\">here</a>.</p>\n",
        "\n"
       ],
       "metadata": {},
       "output_type": "pyout",
       "prompt_number": 38,
       "text": [
        "<IPython.core.display.HTML at 0xb517d1ac>"
       ]
      }
     ],
     "prompt_number": 38
    },
    {
     "cell_type": "markdown",
     "metadata": {},
     "source": [
      "<h3>7.1-1.</h3> A random sample of size 16 from the normal distribution N(\u03bc, 25) yielded x = 73.8. Find a 95% confidence\n",
      "interval for \u03bc.\n",
      "\n",
      "$$[73.8 -1.96 (5/4), 73.8 + 1.96 (5/4)] = [71.35, 76.25]$$\n",
      "\n",
      "<h3>7.1-2.</h3> A random sample of size 8 from N(\u03bc, 72) yielded\n",
      "x = 85. Find the following confidence intervals for \u03bc:\n",
      "\n",
      "(a) 99%."
     ]
    },
    {
     "cell_type": "code",
     "collapsed": false,
     "input": [
      "from scipy.stats import norm\n",
      " \n",
      "dnorm = norm.pdf\n",
      "pnorm = norm.cdf\n",
      "qnorm = norm.ppf\n",
      "rnorm = norm.rvs\n",
      "\n",
      "print(\"[\",85-qnorm(.995)*(72/8)**0.5,\",\",85+qnorm(.995)*(72/8)**0.5,\"]\")"
     ],
     "language": "python",
     "metadata": {},
     "outputs": [
      {
       "output_type": "stream",
       "stream": "stdout",
       "text": [
        "[ 77.2725120894 , 92.7274879106 ]\n"
       ]
      }
     ],
     "prompt_number": 7
    },
    {
     "cell_type": "markdown",
     "metadata": {},
     "source": [
      "(b) 95%."
     ]
    },
    {
     "cell_type": "code",
     "collapsed": false,
     "input": [
      "print(\"[\",85-qnorm(.975)*(72/8)**0.5,\",\",85+qnorm(.975)*(72/8)**0.5,\"]\")"
     ],
     "language": "python",
     "metadata": {},
     "outputs": [
      {
       "output_type": "stream",
       "stream": "stdout",
       "text": [
        "[ 79.1201080464 , 90.8798919536 ]\n"
       ]
      }
     ],
     "prompt_number": 6
    },
    {
     "cell_type": "markdown",
     "metadata": {},
     "source": [
      "(c) 90%."
     ]
    },
    {
     "cell_type": "code",
     "collapsed": false,
     "input": [
      "print(\"[\",85-qnorm(.95)*(72/8)**0.5,\",\",85+qnorm(.95)*(72/8)**0.5,\"]\")"
     ],
     "language": "python",
     "metadata": {},
     "outputs": [
      {
       "output_type": "stream",
       "stream": "stdout",
       "text": [
        "[ 80.0654391191 , 89.9345608809 ]\n"
       ]
      }
     ],
     "prompt_number": 10
    },
    {
     "cell_type": "markdown",
     "metadata": {},
     "source": [
      "(d) 80%."
     ]
    },
    {
     "cell_type": "code",
     "collapsed": false,
     "input": [
      "print(\"[\",85-qnorm(.9)*(72/8)**0.5,\",\",85+qnorm(.9)*(72/8)**0.5,\"]\")"
     ],
     "language": "python",
     "metadata": {},
     "outputs": [
      {
       "output_type": "stream",
       "stream": "stdout",
       "text": [
        "[ 81.1553453034 , 88.8446546966 ]\n"
       ]
      }
     ],
     "prompt_number": 11
    },
    {
     "cell_type": "markdown",
     "metadata": {},
     "source": [
      "<h3>7.1-3.</h3> To determine the effect of 100% nitrate on the\n",
      "growth of pea plants, several specimens were planted and\n",
      "then watered with 100% nitrate every day. At the end of two weeks, the plants were measured. Here are data on\n",
      "seven of them:\n",
      "\n",
      "17.5\n",
      "14.5\n",
      "15.2\n",
      "14.0\n",
      "17.3\n",
      "18.0\n",
      "13.8\n",
      "\n",
      "Assume that these data are a random sample from a\n",
      "normal distribution N(\u03bc, \u03c3 2 ).\n",
      "\n",
      "(a) Find the value of a point estimate of \u03bc."
     ]
    },
    {
     "cell_type": "code",
     "collapsed": false,
     "input": [
      "x = [17.5, 14.5, 15.2, 14.0, 17.3, 18.0, 13.8]\n",
      "print(mean(x))"
     ],
     "language": "python",
     "metadata": {},
     "outputs": [
      {
       "output_type": "stream",
       "stream": "stdout",
       "text": [
        "15.7571428571\n"
       ]
      }
     ],
     "prompt_number": 13
    },
    {
     "cell_type": "markdown",
     "metadata": {},
     "source": [
      "(b) Find the value of a point estimate of \u03c3 ."
     ]
    },
    {
     "cell_type": "code",
     "collapsed": false,
     "input": [
      "print(\"dont know what a point estimate is, but I get two different values:\",std(x),\"or\",(sum((array(x) - mean(x))**2)/6)**0.5)"
     ],
     "language": "python",
     "metadata": {},
     "outputs": [
      {
       "output_type": "stream",
       "stream": "stdout",
       "text": [
        "dont know what a point estimate is, but I get two different values: 1.65862003128 or 1.79151438999\n"
       ]
      }
     ],
     "prompt_number": 25
    },
    {
     "cell_type": "markdown",
     "metadata": {},
     "source": [
      "(c) Give the endpoints for a 90% confidence interval\n",
      "for \u03bc."
     ]
    },
    {
     "cell_type": "code",
     "collapsed": false,
     "input": [
      "print(\"[\",15.76-qnorm(.95)*(3.21/7)**0.5,\",\",15.76+qnorm(.95)*(3.21/7)**0.5,\"]\")"
     ],
     "language": "python",
     "metadata": {},
     "outputs": [
      {
       "output_type": "stream",
       "stream": "stdout",
       "text": [
        "[ 14.6461396287 , 16.8738603713 ]\n"
       ]
      }
     ],
     "prompt_number": 23
    },
    {
     "cell_type": "markdown",
     "metadata": {},
     "source": [
      "<h3>7.1-6.</h3> To determine whether the bacteria count was lower\n",
      "in the west basin of Lake Macatawa than in the east\n",
      "basin, n = 37 samples of water were taken from the\n",
      "west basin and the number of bacteria colonies in 100\n",
      "milliliters of water was counted. The sample characteristics were x = 11.95 and s = 11.80, measured in hundreds\n",
      "of colonies. Find an approximate 95% confidence interval for the mean number of colonies (say, \u03bc W ) in 100\n",
      "milliliters of water in the west basin."
     ]
    },
    {
     "cell_type": "code",
     "collapsed": false,
     "input": [
      "print(\"[\",11.95-qnorm(.975)*(11.8**2/37)**0.5,\",\",11.95+qnorm(.975)*(11.8**2/37)**0.5,\"]\")"
     ],
     "language": "python",
     "metadata": {},
     "outputs": [
      {
       "output_type": "stream",
       "stream": "stdout",
       "text": [
        "[ 8.14785008828 , 15.7521499117 ]\n"
       ]
      }
     ],
     "prompt_number": 26
    },
    {
     "cell_type": "markdown",
     "metadata": {},
     "source": [
      "<h3>7.4-1.</h3> Let X equal the tarsus length for a male grackle.\n",
      "Assume that the distribution of X is N(\u03bc, 4.84). Find the\n",
      "sample size n that is needed so that we are 95% confident\n",
      "that the maximum error of the estimate of \u03bc is 0.4."
     ]
    },
    {
     "cell_type": "code",
     "collapsed": false,
     "input": [
      "from math import ceil\n",
      "print(ceil((1.96**2)*(4.84**2)/.4**2))"
     ],
     "language": "python",
     "metadata": {},
     "outputs": [
      {
       "output_type": "stream",
       "stream": "stdout",
       "text": [
        "563\n"
       ]
      }
     ],
     "prompt_number": 33
    },
    {
     "cell_type": "markdown",
     "metadata": {},
     "source": [
      "<h3>7.4-2.</h3> Let X equal the excess weight of soap in a \u201c1000-gram\u201d bottle. Assume that the distribution of X is\n",
      "N(\u03bc, 169). What sample size is required so that we have\n",
      "95% confidence that the maximum error of the estimate\n",
      "of \u03bc is 1.5?"
     ]
    },
    {
     "cell_type": "code",
     "collapsed": false,
     "input": [
      "print(ceil((1.96**2)*(169**2)/1.5**2))"
     ],
     "language": "python",
     "metadata": {},
     "outputs": [
      {
       "output_type": "stream",
       "stream": "stdout",
       "text": [
        "48765\n"
       ]
      }
     ],
     "prompt_number": 35
    },
    {
     "cell_type": "markdown",
     "metadata": {},
     "source": [
      "<h3>7.4-3.</h3> A company packages powdered soap in \u201c6-pound\u201d\n",
      "boxes. The sample mean and standard deviation of\n",
      "the soap in these boxes are currently 6.09 pounds and\n",
      "0.02 pound, respectively. If the mean fill can be lowered by 0.01 pound, $14,000 would be saved per year.\n",
      "Adjustments were made in the filling equipment, but\n",
      "it can be assumed that the standard deviation remains\n",
      "unchanged.\n",
      "\n",
      "(a) How large a sample is needed so that the maximum\n",
      "error of the estimate of the new \u03bc is \u03b5 = 0.001 with\n",
      "90% confidence?"
     ]
    },
    {
     "cell_type": "code",
     "collapsed": false,
     "input": [
      "print(ceil((qnorm(.95)**2)*(0.02**2)/.001**2))"
     ],
     "language": "python",
     "metadata": {},
     "outputs": [
      {
       "output_type": "stream",
       "stream": "stdout",
       "text": [
        "1083\n"
       ]
      }
     ],
     "prompt_number": 34
    },
    {
     "cell_type": "markdown",
     "metadata": {},
     "source": [
      "(b) A random sample of size n = 1219 yielded x = 6.048\n",
      "and s = 0.022. Calculate a 90% confidence interval\n",
      "for \u03bc."
     ]
    },
    {
     "cell_type": "code",
     "collapsed": false,
     "input": [
      "print(\"[\",6.048-qnorm(.95)*(0.022/1219)**0.5,\",\",6.048+qnorm(.95)*(0.022/1219)**0.5,\"]\")"
     ],
     "language": "python",
     "metadata": {},
     "outputs": [
      {
       "output_type": "stream",
       "stream": "stdout",
       "text": [
        "[ 6.04101225989 , 6.05498774011 ]\n"
       ]
      }
     ],
     "prompt_number": 36
    },
    {
     "cell_type": "markdown",
     "metadata": {},
     "source": [
      "(c) Estimate the savings per year with these new adjustments.\n",
      "\n",
      "We can save at least $56,000 a year and perhaps more"
     ]
    },
    {
     "cell_type": "markdown",
     "metadata": {},
     "source": [
      "(d) Estimate the proportion of boxes that will now weigh\n",
      "less than 6 pounds."
     ]
    },
    {
     "cell_type": "code",
     "collapsed": false,
     "input": [
      "pnorm(6,6.048,0.022)"
     ],
     "language": "python",
     "metadata": {},
     "outputs": [
      {
       "metadata": {},
       "output_type": "pyout",
       "prompt_number": 37,
       "text": [
        "0.014561477076192439"
       ]
      }
     ],
     "prompt_number": 37
    }
   ],
   "metadata": {}
  }
 ]
}