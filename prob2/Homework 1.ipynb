{
 "metadata": {
  "name": "",
  "signature": "sha256:fd13589fd657dcc3828771894033498456cd183970b5b1552f777f19e679be4a"
 },
 "nbformat": 3,
 "nbformat_minor": 0,
 "worksheets": [
  {
   "cells": [
    {
     "cell_type": "code",
     "collapsed": false,
     "input": [
      "from tools import hide\n",
      "%pylab inline"
     ],
     "language": "python",
     "metadata": {},
     "outputs": [
      {
       "output_type": "stream",
       "stream": "stdout",
       "text": [
        "Populating the interactive namespace from numpy and matplotlib\n"
       ]
      }
     ],
     "prompt_number": 1
    },
    {
     "cell_type": "markdown",
     "metadata": {},
     "source": [
      "<h3><b><u>4.1-2.</u></b></h3>\n",
      "\n",
      "Roll a pair of four-sided dice, one red and one\n",
      "black, each of which has possible outcomes 1, 2, 3, 4 that\n",
      "have equal probabilities. Let X equal the outcome on\n",
      "the red die, and let Y equal the outcome on the black\n",
      "die.\n",
      "\n",
      "(a) On graph paper, show the space of X and Y."
     ]
    },
    {
     "cell_type": "markdown",
     "metadata": {},
     "source": [
      "(b) Define the joint pmf on the space (similar to Figure 4.1-1)."
     ]
    },
    {
     "cell_type": "markdown",
     "metadata": {},
     "source": [
      "(d) Give the marginal pmf of Y in the margin."
     ]
    },
    {
     "cell_type": "code",
     "collapsed": false,
     "input": [
      "fig = plt.figure(1)\n",
      "ax = fig.add_subplot(111)\n",
      "\n",
      "# set up axis\n",
      "ax.spines['left'].set_position('zero')\n",
      "ax.spines['right'].set_color('none')\n",
      "ax.spines['bottom'].set_position('zero')\n",
      "ax.spines['top'].set_color('none')\n",
      "ax.xaxis.set_ticks_position('bottom')\n",
      "ax.yaxis.set_ticks_position('left')\n",
      "\n",
      "\n",
      "for i in range(4):\n",
      "    ax.text(5, i+1, r'  $1/4$', fontsize=15)  \n",
      "    ax.text(i+1, 0, r'  $1/4$', fontsize=15)  \n",
      "    for j in range(4):\n",
      "        ax.plot([i+1], [j+1], marker = 'o')\n",
      "        ax.text(i+1, j+1, r'  $1/16$', fontsize=15)  \n",
      "\n",
      "#set bounds\n",
      "ax.set_ybound(0,5)\n",
      "ax.set_xbound(0,5)\n",
      "ax.xaxis.set_minor_locator(MultipleLocator(1))\n",
      "ax.yaxis.set_minor_locator(MultipleLocator(1))\n",
      "ax.xaxis.grid(True,'minor',linewidth=2)\n",
      "ax.yaxis.grid(True,'minor',linewidth=2)\n",
      "\n",
      "minor_grid_lines = [tick.gridline for tick in ax.xaxis.get_minor_ticks()]\n",
      "for idx,loc in enumerate(ax.xaxis.get_minorticklocs()):\n",
      "    if loc % 2.0 == 0: minor_grid_lines[idx].set_c('r' )\n",
      "    elif loc % 1.0 == 0: minor_grid_lines[idx].set_c('g' )\n",
      "    else: minor_grid_lines[idx].set_c( 'b' )\n",
      "      \n",
      "\n",
      "plt.show()"
     ],
     "language": "python",
     "metadata": {},
     "outputs": [
      {
       "metadata": {},
       "output_type": "display_data",
       "png": "[encoded data removed]",
       "text": [
        "<matplotlib.figure.Figure at 0xb0b7f9ac>"
       ]
      }
     ],
     "prompt_number": 20
    },
    {
     "cell_type": "markdown",
     "metadata": {},
     "source": [
      "(e) Are X and Y dependent or independent? Why or why not?\n",
      "\n",
      "They are independent, because f(x)f(y) = f(x,y) "
     ]
    },
    {
     "cell_type": "markdown",
     "metadata": {},
     "source": [
      "<h3><b><u>4.3-2.</u></b></h3> \n",
      "\n",
      "Let the joint pmf f(x, y) of X and Y be given by the\n",
      "following:\n",
      "\n",
      "<table>\n",
      "<tr><td>(x, y)</td> <td>f(x, y)</td></tr>\n",
      "<tr><td>(1, 1)</td> <td>3/8</td></tr>\n",
      "<tr><td>(2, 1)</td> <td>1/8</td></tr>\n",
      "<tr><td>(1, 2)</td> <td>1/8</td></tr>\n",
      "<tr><td>(2, 2)</td> <td>3/8</td></tr>\n",
      "</table>\n",
      "\n",
      "Find the two conditional probability mass functions and the corresponding means and variances."
     ]
    },
    {
     "cell_type": "markdown",
     "metadata": {},
     "source": [
      "From the definition, we have:\n",
      "$$g(x|y) = \\frac {f(x,y)}{f_2(y)}$$\n",
      "\n",
      "\n",
      "$$h(y|x) = \\frac {f(x,y)}{f_1(x)}$$\n",
      "\n",
      "both marginal distributions are uniform over the two points, thus $g(x|y) = h(y|x)$  and\n",
      "\n",
      "<table>\n",
      "<tr><td>(x, y)</td> <td>g(x|y) = h(y|x)</td></tr>\n",
      "<tr><td>(1, 1)</td> <td>3/4</td></tr>\n",
      "<tr><td>(2, 1)</td> <td>1/4</td></tr>\n",
      "<tr><td>(1, 2)</td> <td>1/4</td></tr>\n",
      "<tr><td>(2, 2)</td> <td>3/4</td></tr>\n",
      "</table>"
     ]
    },
    {
     "cell_type": "markdown",
     "metadata": {},
     "source": [
      "The definition for the conditional means is, given that $X = x$:\n",
      "\n",
      "$$\\mu_{Y|x} = \\mathbb{E}(Y|x) = \\sum_y y~ h(y|x)$$\n",
      "\n",
      "Thus,\n",
      "\n",
      "$$\\mu_{Y|x} = \\begin{cases}\n",
      "    3/4 + 2/4 = 5/4, & \\text{if $x = 1$}.\\\\\n",
      "    1/4 + 6/4 = 7/4, & \\text{if $x = 2$}.\n",
      "  \\end{cases}\n",
      "$$\n",
      "\n",
      "$$\\mu_{X|y} = \\begin{cases}\n",
      "    3/4 + 2/4 = 5/4, & \\text{if $y = 1$}.\\\\\n",
      "    1/4 + 6/4 = 7/4, & \\text{if $y = 2$}.\n",
      "  \\end{cases}\n",
      "$$\n",
      "\n",
      "The definition for the conditional variance is:\n",
      "\n",
      "$$\\sigma^2_{Y|x} = \\mathbb{E}(Y^2|x) - [\\mathbb{E}(Y|x)]^2$$\n",
      "\n",
      "$$\\sigma^2_{Y|x} = \\begin{cases}\n",
      "    3/4 + 4/4 = 7/4, & \\text{if $x = 1$}.\\\\\n",
      "    1/4 + 12/4 = 13/4, & \\text{if $x = 2$}.\n",
      "  \\end{cases}\n",
      "$$\n",
      "\n",
      "$$\\sigma^2_{X|y} = \\begin{cases}\n",
      "    3/4 + 4/4 = 7/4, & \\text{if $y = 1$}.\\\\\n",
      "    1/4 + 12/4 = 13/4, & \\text{if $y = 2$}.\n",
      "  \\end{cases}\n",
      "$$"
     ]
    },
    {
     "cell_type": "markdown",
     "metadata": {},
     "source": [
      "<h3><b><u>4.3-6.</u></b></h3> \n",
      "\n",
      "An insurance company sells both homeowners\u2019\n",
      "insurance and automobile deductible insurance. Let X be\n",
      "the deductible on the homeowners\u2019 insurance and Y the\n",
      "deductible on automobile insurance. Among those who\n",
      "take both types of insurance with this company, we find\n",
      "the following probabilities:\n",
      "<table>\n",
      "<tr><td colspan = '4'>x</td></tr>\n",
      "<tr><td>y</td> <td>100</td> <td>500</td> <td>1000</td></tr>\n",
      "<tr><td>1000</td> <td>0.05 </td> <td>0.10 </td> <td>0.15</td></tr>\n",
      "<tr><td>500 </td> <td>0.10 </td> <td>0.20 </td> <td>0.05</td></tr>\n",
      "<tr><td>100 </td> <td>0.20 </td> <td>0.10 </td> <td>0.05</td></tr>\n",
      "</table>\n",
      "\n",
      "(a) Compute the following probabilities:\n",
      "P(X = 500), P(Y = 500), P(Y = 500 | X = 500),\n",
      "P(Y = 100 | X = 500)."
     ]
    },
    {
     "cell_type": "markdown",
     "metadata": {},
     "source": [
      "$\\mathbb{P}(X = 500) = .4, ~~ \\mathbb{P}(Y = 500) = .35, ~~\\mathbb{P}(Y = 500|X = 500) = .2,~~ \\mathbb{P}(X = 100|Y = 500) = .1$ "
     ]
    },
    {
     "cell_type": "markdown",
     "metadata": {},
     "source": [
      "(b) Compute the means $\\mu_X$ , $\\mu_Y$ , and the variances $\\sigma^2_X$, $\\sigma^2_Y$"
     ]
    },
    {
     "cell_type": "markdown",
     "metadata": {},
     "source": [
      "$\\mu_X = .35*100 + .4*500 + .25*1000 = 485$ \n",
      "\n",
      "$\\mu_Y = .35*100 + .35*500 + .3*1000 = 510$ \n",
      "\n",
      "$\\sigma^2_X = .35*100^2+ .4*500^2 + .25*1000 -485^2 = 118275$\n",
      "\n",
      "$\\sigma^2_Y = .35*100^2+ .35*500^2 + .3*1000 -510^2 = 130900$"
     ]
    },
    {
     "cell_type": "markdown",
     "metadata": {},
     "source": [
      "(c) Compute the conditional means E(X | Y = 100), E(Y | X = 500)."
     ]
    },
    {
     "cell_type": "markdown",
     "metadata": {},
     "source": [
      "$\\mathbb{E}(X|y = 100) = .2*100 + .1*500 + .05*1000 = 120$\n",
      "\n",
      "$\\mathbb{E}(Y|x = 500) = .1*100 + .2*500 + .1*1000 = 210$"
     ]
    },
    {
     "cell_type": "markdown",
     "metadata": {},
     "source": [
      "(d) Compute Cov(X, Y)."
     ]
    },
    {
     "cell_type": "markdown",
     "metadata": {},
     "source": [
      "From the definition, we have $Cov(X,Y) = \\mathbb{E}(XY) - \\mu_X \\mu_Y$\n",
      "\n",
      "$Cov(X,Y) = 100*100*(.2)+100*500*(.1+.1)+ 100*1000*(.05+.05) +500*500*(.2) + 500*1000*(.1+.05) + 1000*1000*(.15) - 485*510 = 49650$"
     ]
    },
    {
     "cell_type": "markdown",
     "metadata": {},
     "source": [
      "(e) Find the correlation coefficient, \u03c1.\n",
      "\n",
      "From the definition, we have $\\rho = \\frac {Cov(X_1, X_2)}{\\sigma_1 \\sigma_2} $\n",
      "\n",
      "$\\rho = \\frac {49650}{\\sqrt{118275*130900}} = 0.399 $"
     ]
    },
    {
     "cell_type": "markdown",
     "metadata": {},
     "source": [
      "<h3><b><u>4.4-2.</u></b></h3> \n",
      "\n",
      "Let X and Y have the joint pdf f(x, y) = x + y, 0 \u2264 x \u2264 1, 0 \u2264 y \u2264 1.\n",
      "\n",
      "(a) Find the marginal pdfs $f_X(x)$ and $f_Y(y)$ and show that $f(x, y) \\ne f_X(x)f_Y(y)$. Thus, X and Y are dependent.\n",
      "\n",
      "$f_X(x) = \\int dy f(x,y) = x + 0.5$\n",
      "\n",
      "$f_Y(y) = \\int dx f(x,y) = y + 0.5$\n",
      "\n",
      "$ f_X(x)f_Y(y) = (x+.5)*(y+.5) \\ne x+y$\n",
      "\n",
      "(b) Compute (i) $\\mu_X$ , (ii) $\\mu_Y$ , (iii) $\\sigma^2_X$ , and (iv) $\\sigma^2_Y$."
     ]
    },
    {
     "cell_type": "markdown",
     "metadata": {},
     "source": [
      "$\\mu_X = \\int \\int x f(x,y) dx dy = 1/3 + 1/4 = 7/12$\n",
      "\n",
      "$\\mu_Y = \\int \\int y f(x,y) dx dy = 1/3 + 1/4 = 7/12$\n",
      "\n",
      "$\\sigma^2_X = \\int \\int x^2 f(x,y) dx dy - \\mu_X^2 = 1/4 + 1/6 - (7/12)^2 = 0.0764$\n",
      "\n",
      "$\\sigma^2_Y = \\int \\int y^2 f(x,y) dx dy - \\mu_Y^2 = 1/4 + 1/6 - (7/12)^2 = 0.0764$"
     ]
    },
    {
     "cell_type": "markdown",
     "metadata": {},
     "source": [
      "<h3><b><u>4.4-4.</u></b></h3> \n",
      "\n",
      "Let f(x, y) = 3/2, $x^2$ \u2264 y \u2264 1, 0 \u2264 x \u2264 1, be the joint pdf of X and Y."
     ]
    },
    {
     "cell_type": "code",
     "collapsed": false,
     "input": [
      "x = linspace(0,1,100)\n",
      "plot(x,x**2)\n",
      "plt.fill_between(x, x**2, 1, color='grey', alpha='0.5');"
     ],
     "language": "python",
     "metadata": {},
     "outputs": [
      {
       "metadata": {},
       "output_type": "display_data",
       "png": "[encoded data removed]",
       "text": [
        "<matplotlib.figure.Figure at 0xb08f428c>"
       ]
      }
     ],
     "prompt_number": 41
    },
    {
     "cell_type": "markdown",
     "metadata": {},
     "source": [
      "(a) Find P(0 \u2264 X \u2264 1/2).\n",
      "\n",
      "$$\\mathbb{P}(0 \\le X \\le 1/2) = \\int_0^{1/2} \\int_{x^2}^1 \\frac 3 2 dy dx = 3/4 - 1/16 = 11/16$$\n",
      "\n",
      "(b) Find P(1/2 \u2264 Y \u2264 1).\n",
      "\n",
      "$$\\mathbb{P}(1/2 \\le Y \\le 1) = \\int_{1/2}^{1} \\int_{0}^{\\sqrt y} \\frac 3 2 dy dx = 1 - \\sqrt {1/8} = .646$$\n",
      "\n",
      "(c) Find P(X \u2265 1/2, Y \u2265 1/2).\n",
      "\n",
      "$$\\mathbb{P}(X \\ge 1/2 , Y \\ge 1/2) = \\mathbb{P}(1/4 \\le X^2 \\le Y) = \\int_{1/2}^{1} \\int_{1/2}^{\\sqrt y} \\frac 3 2 dy dx = (1-3/4) - (\\sqrt {1/8} - 3/8) = .271$$\n",
      "\n",
      "(d) Are X and Y independent? Why or why not?\n",
      "\n",
      "No. Because the area of support is not independent of X and Y."
     ]
    },
    {
     "cell_type": "markdown",
     "metadata": {},
     "source": [
      "<b><u>4.4-14.</u></b> Let X and Y be random variables of the continuous type having the joint pdf\n",
      "f(x, y) = 8xy, 0 \u2264 x \u2264 y \u2264 1.\n",
      "\n",
      "Draw a graph that illustrates the domain of this pdf."
     ]
    },
    {
     "cell_type": "code",
     "collapsed": false,
     "input": [
      "x = linspace(0,1,100)\n",
      "plot(x,x)\n",
      "plt.fill_between(x, x, 1, color='grey', alpha='0.5');"
     ],
     "language": "python",
     "metadata": {},
     "outputs": [
      {
       "metadata": {},
       "output_type": "display_data",
       "png": "[encoded data removed]",
       "text": [
        "<matplotlib.figure.Figure at 0xb0988e8c>"
       ]
      }
     ],
     "prompt_number": 42
    },
    {
     "cell_type": "markdown",
     "metadata": {},
     "source": [
      "(a) Find the marginal pdfs of X and Y.\n",
      "\n",
      "$$f_1(x) = \\int_x^1 8xy dx = 4x(1-x^2)$$\n",
      "\n",
      "$$f_2(x) = \\int_0^1 8xy dy = 4y$$\n",
      "\n",
      "(b) Compute $\\mu_X$ , $\\mu_Y$ , $\\sigma^2_X$ , $\\sigma^2_Y$ , Cov(X, Y), and \u03c1.\n",
      "\n",
      "(c) Determine the equation of the least squares region line and draw it on your graph. Does the line\n",
      "make sense to you intuitively?"
     ]
    }
   ],
   "metadata": {}
  }
 ]
}