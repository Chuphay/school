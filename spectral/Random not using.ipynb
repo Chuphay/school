{
 "cells": [
  {
   "cell_type": "markdown",
   "metadata": {},
   "source": [
    "##Union-Find Data Structure\n",
    "\n",
    "Let's do our first data structure: Union-Find and use this with some of that sparse data matrix thing.\n",
    "\n",
    "I guess for this one it's easiest to use object oriented programming\n",
    "\n",
    "\"In some applications we wish to know simply whether or not a vertex x is connected to a vertex y in a graph; the actual path connecting them may not be relevant. The efficient algorithms that have been developed are of independent interest because they can also be used for processing sets (collections of objects).\"\n",
    "\n",
    "\"Graphs correspond to sets of objects in a natural way: vertices correspond to objects and edges mean 'is in the same set as.' Each connected component corresponds to a different set. For sets, we're interested in the fundamental question 'is x in the same set as y?' This clearly corresponds to the fundamental graph question 'is vertex x connected to vertex y?'\"\n",
    "\n",
    "\"Our objective is to write a function that can check if two vertices x and y are in the same set (or, in the graph representation, the same connected component) and, if not, can put them in the same set (put an edge between them in the graph). From the correspondence with the set problem, the addition of a new edge is called a <i>union</i> operation and the queries are called <i>find</i> operations.\"\n",
    "\n",
    "\"Instead of building a direct adjacency-list or other representation of the graph, we'll gain efficiency by using an internal structure specifically oriented towards supporting the <i>union</i> and <i>find</i> operations. This internal structure will be a <i>forest of trees</i>, one for each connected component. We need to be able to find if out if two vertices belong to the same tree and to be able to combine two trees into one.\"\n",
    "\n",
    "\"It must be emphasized that the only relationship between these union-find trees and the underlying graph with the given edges is that they divide the vertices into sets in the same way. There is no correspondence between the paths that connect nodes in the tree and the paths that connect nodes in the graph.\"\n",
    "\n",
    "One thing this means in practical purposes is that if two nodes are already connected, even if it is by a very long path, and if you add a new edge between them, i.e. union the two vertices, the union algorithm will do no extra work, it will simply notice that they are already connected and stop. "
   ]
  },
  {
   "cell_type": "code",
   "execution_count": 1,
   "metadata": {
    "collapsed": false
   },
   "outputs": [
    {
     "name": "stdout",
     "output_type": "stream",
     "text": [
      "False\n",
      "True\n"
     ]
    },
    {
     "data": {
      "text/plain": [
       "[0, 0, 0, 0, 0]"
      ]
     },
     "execution_count": 1,
     "metadata": {},
     "output_type": "execute_result"
    }
   ],
   "source": [
    "class Graph(object):\n",
    "    \"\"\"Undirected Graph with Union-Find Data Structure\"\"\"\n",
    "    \n",
    "    def __init__(self, n):\n",
    "        if(n < 1):\n",
    "            raise IndexError(\"n must be at least one\")\n",
    "        if(type(n) != int):\n",
    "            raise KeyError(\"n must be an integer\")\n",
    "        self.order = n\n",
    "        self.points_to = [i for i in range(self.order)] #To keep track of the unions   \n",
    "        \n",
    "        #We won't be using the following two for union-find, but they're useful in general\n",
    "        self.size = 0\n",
    "        self.edges = {}\n",
    "        \n",
    "    def find(self, x):\n",
    "        \"\"\"Here we do find\"\"\"\n",
    "        if(x >= self.order):\n",
    "            raise IndexError(\"x must be less than n\")\n",
    "        out = x\n",
    "        while(True):\n",
    "            if(out == self.points_to[out]):\n",
    "                break\n",
    "            else:\n",
    "                out = self.points_to[out]\n",
    "        return out         \n",
    "        \n",
    "    def union(self, x, y, weight = 1):\n",
    "        \"\"\"Here we do union\"\"\"\n",
    "        if(x >= self.order or y >= self.order):\n",
    "            raise IndexError(\"x and y must be less than n\")\n",
    "\n",
    "        y_root = self.find(y)\n",
    "        x_root = self.find(x)\n",
    "        if(x_root != y_root):\n",
    "            self.points_to[y_root] = x_root\n",
    "        \n",
    "            \n",
    "        self.edges[(x,y)] = weight     \n",
    "        self.edges[(y,x)] = weight\n",
    "        self.size += weight\n",
    "            \n",
    "    def connected(self):\n",
    "        \"\"\"Checks to see if the graph is all connected\"\"\"\n",
    "        out = True\n",
    "        root = self.points_to[self.order - 1]\n",
    "        for i in range(self.order - 1):\n",
    "            if(self.find(i) != root):\n",
    "                out = False\n",
    "                break\n",
    "        return out\n",
    "        \n",
    "        \n",
    "\n",
    "G = Graph(5) \n",
    "\n",
    "G.union(0,1)\n",
    "G.union(1,2)\n",
    "G.union(2,3)\n",
    "\n",
    "print(G.connected())\n",
    "\n",
    "G.union(3,4)\n",
    "G.union(4,0)\n",
    "\n",
    "print(G.connected())\n",
    "G.points_to"
   ]
  },
  {
   "cell_type": "markdown",
   "metadata": {},
   "source": [
    "\"The algorith described above has bad worst-case performance because the trees formed because the trees can be degenerate. \" For example, just by switching the numbers as below, we can see that this \" produces a long chain with 0 pointing to 1, 1 pointing to 2, etc.\""
   ]
  },
  {
   "cell_type": "code",
   "execution_count": 2,
   "metadata": {
    "collapsed": false
   },
   "outputs": [
    {
     "name": "stdout",
     "output_type": "stream",
     "text": [
      "False\n",
      "True\n"
     ]
    },
    {
     "data": {
      "text/plain": [
       "[1, 2, 3, 4, 4]"
      ]
     },
     "execution_count": 2,
     "metadata": {},
     "output_type": "execute_result"
    }
   ],
   "source": [
    "G = Graph(5) \n",
    "\n",
    "G.union(1,0)\n",
    "G.union(2,1)\n",
    "G.union(3,2)\n",
    "\n",
    "print(G.connected())\n",
    "\n",
    "G.union(4,3)\n",
    "#G.union(0,4)\n",
    "\n",
    "print(G.connected())\n",
    "G.points_to"
   ]
  },
  {
   "cell_type": "markdown",
   "metadata": {},
   "source": [
    "\"This kind of structure takes time proportional to $V^2$ to build, and has time proportional to V for an average equivalence test.\"\n",
    "\n",
    "\"Several methods have been suggested to deal with this problem. When a tree rooted at i is to be merged with a tree rooted at j, one of the nodes must remain a root and the other (and all its descendants) must go one level down the tree. To minimize the distance to the root for the most nodes, it makes sense to take as the root the node with more descendants. This idea is called <i>weight balancing</i>.\n",
    "\n",
    "Also, \"Ideally, we would like every node to point directly to the root of its tree.... We can approach the ideal by making all the nodes we do examine point to the root. This method is called <i>path compression</i>\""
   ]
  },
  {
   "cell_type": "code",
   "execution_count": 6,
   "metadata": {
    "collapsed": false
   },
   "outputs": [
    {
     "name": "stdout",
     "output_type": "stream",
     "text": [
      "Populating the interactive namespace from numpy and matplotlib\n"
     ]
    },
    {
     "data": {
      "text/plain": [
       "array([[0, 1, 0, 0, 1, 0, 0, 0, 0, 0, 0, 0, 0, 0, 0, 0],\n",
       "       [1, 0, 1, 0, 0, 1, 0, 0, 0, 0, 0, 0, 0, 0, 0, 0],\n",
       "       [0, 1, 0, 1, 0, 0, 1, 0, 0, 0, 0, 0, 0, 0, 0, 0],\n",
       "       [0, 0, 1, 0, 0, 0, 0, 1, 0, 0, 0, 0, 0, 0, 0, 0],\n",
       "       [1, 0, 0, 0, 0, 1, 0, 0, 1, 0, 0, 0, 0, 0, 0, 0],\n",
       "       [0, 1, 0, 0, 1, 0, 1, 0, 0, 1, 0, 0, 0, 0, 0, 0],\n",
       "       [0, 0, 1, 0, 0, 1, 0, 1, 0, 0, 1, 0, 0, 0, 0, 0],\n",
       "       [0, 0, 0, 1, 0, 0, 1, 0, 0, 0, 0, 1, 0, 0, 0, 0],\n",
       "       [0, 0, 0, 0, 1, 0, 0, 0, 0, 1, 0, 0, 1, 0, 0, 0],\n",
       "       [0, 0, 0, 0, 0, 1, 0, 0, 1, 0, 1, 0, 0, 1, 0, 0],\n",
       "       [0, 0, 0, 0, 0, 0, 1, 0, 0, 1, 0, 1, 0, 0, 1, 0],\n",
       "       [0, 0, 0, 0, 0, 0, 0, 1, 0, 0, 1, 0, 0, 0, 0, 1],\n",
       "       [0, 0, 0, 0, 0, 0, 0, 0, 1, 0, 0, 0, 0, 1, 0, 0],\n",
       "       [0, 0, 0, 0, 0, 0, 0, 0, 0, 1, 0, 0, 1, 0, 1, 0],\n",
       "       [0, 0, 0, 0, 0, 0, 0, 0, 0, 0, 1, 0, 0, 1, 0, 1],\n",
       "       [0, 0, 0, 0, 0, 0, 0, 0, 0, 0, 0, 1, 0, 0, 1, 0]])"
      ]
     },
     "execution_count": 6,
     "metadata": {},
     "output_type": "execute_result"
    }
   ],
   "source": [
    "%pylab inline\n",
    "from numpy.random import choice\n",
    "#Let's do a square lattice in 2-d\n",
    "def make_sq_lattice(n):\n",
    "    nn = n**2\n",
    "    out = [[0 for i in range(nn)] for j in range(nn)]\n",
    "    for i in range(n):\n",
    "        for j in range(n):\n",
    "            if(j+1 < n):\n",
    "                out[n*i+j][n*i+j+1] = 1\n",
    "            if(j-1 >= 0):\n",
    "                out[n*i+j][n*i+j-1] = 1\n",
    "            if(i+1 < n):\n",
    "                out[n*i+j][n*(i+1)+j] = 1\n",
    "            if(i-1 >= 0):\n",
    "                out[n*i+j][n*(i-1)+j] = 1\n",
    "    return array(out)\n",
    "G = make_sq_lattice(4)\n",
    "G"
   ]
  },
  {
   "cell_type": "code",
   "execution_count": 7,
   "metadata": {
    "collapsed": false
   },
   "outputs": [
    {
     "data": {
      "text/plain": [
       "array([ 0, 27,  0,  9, 22,  0,  7,  0,  0, 27,  0,  9, 16,  0,  3,  0])"
      ]
     },
     "execution_count": 7,
     "metadata": {},
     "output_type": "execute_result"
    }
   ],
   "source": [
    "n = 4\n",
    "G = make_sq_lattice(n)\n",
    "state = [0 for i in range(n**2)]\n",
    "#let's put 120 heat units on state 0\n",
    "state[0] = 120\n",
    "#state = array([ 0,  3,  0, 11,  1,  0, 15,  0,  0, 25,  0, 26,  6,  0, 33,  0])\n",
    "\n",
    "def diffuse(state, steps):\n",
    "    for s in range(steps):\n",
    "        new_state = [0 for i in range(n**2)]\n",
    "        for i in range(n**2):\n",
    "            while(state[i]>0):\n",
    "                state[i] -= 1\n",
    "                next_pos = choice(len(G), p = G[i]/sum(G[i]))\n",
    "                new_state[next_pos] += 1\n",
    "        state = new_state \n",
    "        \n",
    "        \n",
    "    return array(state)    \n",
    "\n",
    "diffuse(state, 5)"
   ]
  },
  {
   "cell_type": "code",
   "execution_count": null,
   "metadata": {
    "collapsed": true
   },
   "outputs": [],
   "source": []
  }
 ],
 "metadata": {
  "kernelspec": {
   "display_name": "Python 3",
   "language": "python",
   "name": "python3"
  },
  "language_info": {
   "codemirror_mode": {
    "name": "ipython",
    "version": 3
   },
   "file_extension": ".py",
   "mimetype": "text/x-python",
   "name": "python",
   "nbconvert_exporter": "python",
   "pygments_lexer": "ipython3",
   "version": "3.4.1"
  }
 },
 "nbformat": 4,
 "nbformat_minor": 0
}
