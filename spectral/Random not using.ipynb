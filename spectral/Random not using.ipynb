{
 "cells": [
  {
   "cell_type": "markdown",
   "metadata": {},
   "source": [
    "##Union-Find Data Structure\n",
    "\n",
    "Let's do our first data structure: Union-Find and use this with some of that sparse data matrix thing.\n",
    "\n",
    "I guess for this one it's easiest to use object oriented programming\n",
    "\n",
    "\"In some applications we wish to know simply whether or not a vertex x is connected to a vertex y in a graph; the actual path connecting them may not be relevant. The efficient algorithms that have been developed are of independent interest because they can also be used for processing sets (collections of objects).\"\n",
    "\n",
    "\"Graphs correspond to sets of objects in a natural way: vertices correspond to objects and edges mean 'is in the same set as.' Each connected component corresponds to a different set. For sets, we're interested in the fundamental question 'is x in the same set as y?' This clearly corresponds to the fundamental graph question 'is vertex x connected to vertex y?'\"\n",
    "\n",
    "\"Our objective is to write a function that can check if two vertices x and y are in the same set (or, in the graph representation, the same connected component) and, if not, can put them in the same set (put an edge between them in the graph). From the correspondence with the set problem, the addition of a new edge is called a <i>union</i> operation and the queries are called <i>find</i> operations.\"\n",
    "\n",
    "\"Instead of building a direct adjacency-list or other representation of the graph, we'll gain efficiency by using an internal structure specifically oriented towards supporting the <i>union</i> and <i>find</i> operations. This internal structure will be a <i>forest of trees</i>, one for each connected component. We need to be able to find if out if two vertices belong to the same tree and to be able to combine two trees into one.\"\n",
    "\n",
    "\"It must be emphasized that the only relationship between these union-find trees and the underlying graph with the given edges is that they divide the vertices into sets in the same way. There is no correspondence between the paths that connect nodes in the tree and the paths that connect nodes in the graph.\"\n",
    "\n",
    "One thing this means in practical purposes is that if two nodes are already connected, even if it is by a very long path, and if you add a new edge between them, i.e. union the two vertices, the union algorithm will do no extra work, it will simply notice that they are already connected and stop. "
   ]
  },
  {
   "cell_type": "code",
   "execution_count": 1,
   "metadata": {
    "collapsed": false
   },
   "outputs": [
    {
     "name": "stdout",
     "output_type": "stream",
     "text": [
      "False\n",
      "True\n"
     ]
    },
    {
     "data": {
      "text/plain": [
       "[0, 0, 0, 0, 0]"
      ]
     },
     "execution_count": 1,
     "metadata": {},
     "output_type": "execute_result"
    }
   ],
   "source": [
    "class Graph(object):\n",
    "    \"\"\"Undirected Graph with Union-Find Data Structure\"\"\"\n",
    "    \n",
    "    def __init__(self, n):\n",
    "        if(n < 1):\n",
    "            raise IndexError(\"n must be at least one\")\n",
    "        if(type(n) != int):\n",
    "            raise KeyError(\"n must be an integer\")\n",
    "        self.order = n\n",
    "        self.points_to = [i for i in range(self.order)] #To keep track of the unions   \n",
    "        \n",
    "        #We won't be using the following two for union-find, but they're useful in general\n",
    "        self.size = 0\n",
    "        self.edges = {}\n",
    "        \n",
    "    def find(self, x):\n",
    "        \"\"\"Here we do find\"\"\"\n",
    "        if(x >= self.order):\n",
    "            raise IndexError(\"x must be less than n\")\n",
    "        out = x\n",
    "        while(True):\n",
    "            if(out == self.points_to[out]):\n",
    "                break\n",
    "            else:\n",
    "                out = self.points_to[out]\n",
    "        return out         \n",
    "        \n",
    "    def union(self, x, y, weight = 1):\n",
    "        \"\"\"Here we do union\"\"\"\n",
    "        if(x >= self.order or y >= self.order):\n",
    "            raise IndexError(\"x and y must be less than n\")\n",
    "\n",
    "        y_root = self.find(y)\n",
    "        x_root = self.find(x)\n",
    "        if(x_root != y_root):\n",
    "            self.points_to[y_root] = x_root\n",
    "        \n",
    "            \n",
    "        self.edges[(x,y)] = weight     \n",
    "        self.edges[(y,x)] = weight\n",
    "        self.size += weight\n",
    "            \n",
    "    def connected(self):\n",
    "        \"\"\"Checks to see if the graph is all connected\"\"\"\n",
    "        out = True\n",
    "        root = self.points_to[self.order - 1]\n",
    "        for i in range(self.order - 1):\n",
    "            if(self.find(i) != root):\n",
    "                out = False\n",
    "                break\n",
    "        return out\n",
    "        \n",
    "        \n",
    "\n",
    "G = Graph(5) \n",
    "\n",
    "G.union(0,1)\n",
    "G.union(1,2)\n",
    "G.union(2,3)\n",
    "\n",
    "print(G.connected())\n",
    "\n",
    "G.union(3,4)\n",
    "G.union(4,0)\n",
    "\n",
    "print(G.connected())\n",
    "G.points_to"
   ]
  },
  {
   "cell_type": "markdown",
   "metadata": {},
   "source": [
    "\"The algorith described above has bad worst-case performance because the trees formed because the trees can be degenerate. \" For example, just by switching the numbers as below, we can see that this \" produces a long chain with 0 pointing to 1, 1 pointing to 2, etc.\""
   ]
  },
  {
   "cell_type": "code",
   "execution_count": 2,
   "metadata": {
    "collapsed": false
   },
   "outputs": [
    {
     "name": "stdout",
     "output_type": "stream",
     "text": [
      "False\n",
      "True\n"
     ]
    },
    {
     "data": {
      "text/plain": [
       "[1, 2, 3, 4, 4]"
      ]
     },
     "execution_count": 2,
     "metadata": {},
     "output_type": "execute_result"
    }
   ],
   "source": [
    "G = Graph(5) \n",
    "\n",
    "G.union(1,0)\n",
    "G.union(2,1)\n",
    "G.union(3,2)\n",
    "\n",
    "print(G.connected())\n",
    "\n",
    "G.union(4,3)\n",
    "#G.union(0,4)\n",
    "\n",
    "print(G.connected())\n",
    "G.points_to"
   ]
  },
  {
   "cell_type": "markdown",
   "metadata": {},
   "source": [
    "\"This kind of structure takes time proportional to $V^2$ to build, and has time proportional to V for an average equivalence test.\"\n",
    "\n",
    "\"Several methods have been suggested to deal with this problem. When a tree rooted at i is to be merged with a tree rooted at j, one of the nodes must remain a root and the other (and all its descendants) must go one level down the tree. To minimize the distance to the root for the most nodes, it makes sense to take as the root the node with more descendants. This idea is called <i>weight balancing</i>.\n",
    "\n",
    "Also, \"Ideally, we would like every node to point directly to the root of its tree.... We can approach the ideal by making all the nodes we do examine point to the root. This method is called <i>path compression</i>\""
   ]
  },
  {
   "cell_type": "markdown",
   "metadata": {},
   "source": [
    "##QR Algorithm\n",
    "\n",
    "\"The basis for the QR method for calculating the eigenvalues of A is the fact that an $n \\times n$ real matrix can be written as \n",
    "\n",
    "$$A = QR$$\n",
    "\n",
    "where Q is orthogonal and R is upper triangular. (I'll probably need some of these definitions as well later). The method is efficient for the calculation of all eigenvalues of a matrix.\"\n",
    "\n",
    "\"The construction of Q and R proceeds as follows. Matrices $P_1, P_2, ... , P_{n-1}$ are constructed so that $P_{n-1}P_{n-2}\\cdot \\cdot \\cdot P_2 P_1 A = R$ is upper triangular. These matrices can be chosen as orthogonal matrices and are called <i>householder matrices</i>. If we let \n",
    "\n",
    "$$Q^T = P_{n-1}P_{n-2}\\cdot \\cdot \\cdot P_2 P_1$$\n",
    "\n",
    "then we have $Q^T A = R$\" and therefore $A = QR$ (because of orthogonality or something like that)\n",
    "\n",
    "\"We discuss the construction of the P's presently. First we state how the QR factorization of A is used to find eigenvalues of A. We define sequences of matrices $A_1, A_2, ..., A_m, ...; Q_1, Q_2, ..., Q_m, ... ; R_1, R_2, ..., R_m, ...$ by this process:\n",
    "\n",
    "<b>Step 1.</b> Set $A_1 = A, Q_1 = Q$ and $R_1 = R$\n",
    "\n",
    "<b>Step 2.</b> Set $A_2 = R_{1} Q_{1}$; then factor $A_2$ as $A_2 = Q_2 R_2$ (QR factorization of $A_2$)\n",
    "\n",
    "<b>Step m.</b> Set $A_m = R_{m-1} Q_{m-1}$; then factor $A_m$ as $A_m = Q_m R_m$ (QR factorization of $A_m$)\n",
    "\n",
    "\n",
    "\"Matrix $A_m$ will tend toward a triangular or nearly triangular  form. Thus the eigenvalues will of $A_m$ will be easy to calculate\",i.e., they're just the diagonal entries \". The importance is that if the eigenvalues can be ordered as $|\\lambda_1|>|\\lambda_2|> ... > |\\lambda_n|>0$, then the following is true:\n",
    "\n",
    "As m increases the eigenvalues of $A_m$ approach the eigenvalues of A.\n",
    "\n",
    "The proof of this fact is well beyond the scope of this book.\n",
    "\n",
    "Furthermore, \"If A is symmetric, matrices $A_m$ converge to a diagonal matrix with the eigenvalues on the diagonal\"\n",
    "\n",
    "\"Finally, after we find the eigenvalues of A, the corresponding eigenvectors can be found by solving $(\\lambda \\mathbb{I} - A) X = 0$, subject to some side condition such as $|X| = 1$\"\n",
    "\n",
    "\n",
    "\n",
    "From http://www.math.tamu.edu/~dallen/linear_algebra/chpt6.pdf\n",
    "\n",
    "\"The idea in QR factorization is to first find $P_1$ which, when multiplied on the left of A, will produce zeros belos $a_{11}$. That is, we want\n",
    "\n",
    "$$P_1 \\left(\\begin{matrix} \n",
    "a_{11} \\ a_{12} \\ ... \\ a_{1n} \\\\\n",
    "a_{21} \\ a_{22} \\ ... \\ a_{2n} \\\\\n",
    "\\vdots \\ ~~~ \\ddots \\ ~~~ \\vdots \\\\\n",
    "a_{n1} \\ a_{n2} \\ ... \\ a_{nn}\\\\\n",
    "\\end{matrix}\\right)\n",
    "=\n",
    " \\left(\\begin{array} \n",
    "\\tilde {a_{11}} \\ ~~ \\tilde {a_{12}} \\ ... \\ \\tilde {a_{1n}} \\\\\n",
    "\\textbf{0} \\ ~~ \\tilde {a_{22}} \\ ... \\ \\tilde {a_{2n}} \\\\\n",
    "\\vdots \\ ~~~~~ \\ddots \\ ~~~~~ \\vdots \\\\\n",
    "\\textbf{0} \\ ~~ \\tilde {a_{n2}} \\ ... \\ \\tilde {a_{nn}}\\\\\n",
    "\\end{array}\\right)\n",
    "$$\n",
    "\n",
    "After this is done, we find $P_2$ which will produce\n",
    "\n",
    "\n",
    "$$P_2 P_1 A = P_2  \\left(\\begin{matrix} \n",
    "\\tilde {a_{11}} \\ ~~ \\tilde {a_{12}} \\ ... \\ \\tilde {a_{1n}} \\\\\n",
    "\\textbf{0} \\ ~~ \\tilde {a_{22}} \\ ... \\ \\tilde {a_{2n}} \\\\\n",
    "\\vdots \\ ~~~~~ \\ddots \\ ~~~~~ \\vdots \\\\\n",
    "\\textbf{0} \\ ~~ \\tilde {a_{n2}} \\ ... \\ \\tilde {a_{nn}}\\\\\n",
    "\\end{matrix}\\right)=\n",
    " \\left(\\begin{matrix} \n",
    "\\hat {a_{11}} \\ ~ \\hat {a_{12}} ~ \\hat {a_{13}} \\ ... \\ \\hat {a_{1n}} \\\\\n",
    "\\textbf{0} \\ ~ \\hat {a_{22}} ~ \\hat {a_{23}} \\ ... \\ \\hat {a_{2n}} \\\\\n",
    "\\textbf{0} \\ ~~ \\textbf {0} ~~~~~ \\hat {a_{33}}  \\ ... \\ ~~ \\hat {a_{3n}} \\\\\n",
    "\\vdots \\ ~~~~ \\ddots \\ ~~~~~ \\vdots \\\\\n",
    "\\textbf{0} \\ ~~~~~ \\textbf{0} \\ ~~ \\hat {a_{3n}} \\ ... \\ \\hat {a_{nn}}\\\\\n",
    "\\end{matrix}\\right)\n",
    "$$\n",
    "\n",
    "."
   ]
  },
  {
   "cell_type": "code",
   "execution_count": null,
   "metadata": {
    "collapsed": true
   },
   "outputs": [],
   "source": []
  }
 ],
 "metadata": {
  "kernelspec": {
   "display_name": "Python 3",
   "language": "python",
   "name": "python3"
  },
  "language_info": {
   "codemirror_mode": {
    "name": "ipython",
    "version": 3
   },
   "file_extension": ".py",
   "mimetype": "text/x-python",
   "name": "python",
   "nbconvert_exporter": "python",
   "pygments_lexer": "ipython3",
   "version": "3.4.1"
  }
 },
 "nbformat": 4,
 "nbformat_minor": 0
}
