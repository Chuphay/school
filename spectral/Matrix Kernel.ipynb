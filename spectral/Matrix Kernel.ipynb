{
 "cells": [
  {
   "cell_type": "code",
   "execution_count": 3,
   "metadata": {
    "collapsed": false
   },
   "outputs": [
    {
     "name": "stdout",
     "output_type": "stream",
     "text": [
      "Populating the interactive namespace from numpy and matplotlib\n"
     ]
    }
   ],
   "source": [
    "%pylab inline\n",
    "from scipy.linalg import lu\n"
   ]
  },
  {
   "cell_type": "code",
   "execution_count": 4,
   "metadata": {
    "collapsed": true
   },
   "outputs": [],
   "source": [
    "A = array([[2,1,-1,8],[-3,-1,2,-11],[-2,1, 2, -3]])"
   ]
  },
  {
   "cell_type": "code",
   "execution_count": 5,
   "metadata": {
    "collapsed": false
   },
   "outputs": [
    {
     "data": {
      "text/plain": [
       "array([[  2,   1,  -1,   8],\n",
       "       [ -3,  -1,   2, -11],\n",
       "       [ -2,   1,   2,  -3]])"
      ]
     },
     "execution_count": 5,
     "metadata": {},
     "output_type": "execute_result"
    }
   ],
   "source": [
    "A"
   ]
  },
  {
   "cell_type": "code",
   "execution_count": 6,
   "metadata": {
    "collapsed": false
   },
   "outputs": [
    {
     "data": {
      "text/plain": [
       "array([[-0.66666667,  0.2       ,  1.        ],\n",
       "       [ 1.        ,  0.        ,  0.        ],\n",
       "       [ 0.66666667,  1.        ,  0.        ]])"
      ]
     },
     "execution_count": 6,
     "metadata": {},
     "output_type": "execute_result"
    }
   ],
   "source": [
    "a,b = lu(A, permute_l=True)\n",
    "a"
   ]
  },
  {
   "cell_type": "code",
   "execution_count": 7,
   "metadata": {
    "collapsed": false
   },
   "outputs": [
    {
     "data": {
      "text/plain": [
       "array([[ -3.        ,  -1.        ,   2.        , -11.        ],\n",
       "       [  0.        ,   1.66666667,   0.66666667,   4.33333333],\n",
       "       [  0.        ,   0.        ,   0.2       ,  -0.2       ]])"
      ]
     },
     "execution_count": 7,
     "metadata": {},
     "output_type": "execute_result"
    }
   ],
   "source": [
    "b\n"
   ]
  },
  {
   "cell_type": "code",
   "execution_count": 8,
   "metadata": {
    "collapsed": false
   },
   "outputs": [
    {
     "data": {
      "text/plain": [
       "array([  0.00000000e+00,   1.66666667e+00,  -1.11022302e-16,\n",
       "         5.00000000e+00])"
      ]
     },
     "execution_count": 8,
     "metadata": {},
     "output_type": "execute_result"
    }
   ],
   "source": [
    "b[1] - b[2]*b[1][2]/b[2][2]"
   ]
  },
  {
   "cell_type": "code",
   "execution_count": 9,
   "metadata": {
    "collapsed": false
   },
   "outputs": [
    {
     "data": {
      "text/plain": [
       "array([[ 2. , -1. , -1. ],\n",
       "       [ 0. ,  1.5, -1.5],\n",
       "       [ 0. ,  0. ,  0. ]])"
      ]
     },
     "execution_count": 9,
     "metadata": {},
     "output_type": "execute_result"
    }
   ],
   "source": [
    "L = array([[2,-1,-1],[-1,2,-1],[-1,-1,2]])\n",
    "a,b = lu(L, permute_l=True)\n",
    "b"
   ]
  },
  {
   "cell_type": "code",
   "execution_count": 61,
   "metadata": {
    "collapsed": false
   },
   "outputs": [
    {
     "name": "stdout",
     "output_type": "stream",
     "text": [
      "[[ 1.        -0.        -0.         2.0000002]\n",
      " [ 0.         1.         0.         2.9999994]\n",
      " [ 0.         0.         1.        -1.       ]]\n",
      "[[ -3.          -1.           2.         -11.        ]\n",
      " [  0.           1.66666667   0.66666667   4.33333333]\n",
      " [  0.           0.           0.2         -0.2       ]]\n"
     ]
    }
   ],
   "source": [
    "def row_echelon(L):\n",
    "    n = L.shape[0]\n",
    "    b = array([[float(L[i][j]) for j in range(L.shape[1])] for i in range(n)])\n",
    "    b = around(b,6)  #cutting off at 6 decimal places\n",
    "    for i in reversed(range(b.shape[0])):\n",
    "        if(b[i][i] == 0):\n",
    "            print(\"woh, zero\")\n",
    "            continue\n",
    "        b[i] = b[i]/b[i][i]\n",
    "        if(i != 0):\n",
    "            for j in range(i):\n",
    "                b[j] = b[j] - b[i]*b[j][i]/b[i][i]       \n",
    "    return b\n",
    "\n",
    "A = array([[2,1,-1,8],[-3,-1,2,-11],[-2,1, 2, -3]])\n",
    "a,b = lu(A, permute_l=True)\n",
    "\n",
    "print(row_echelon(b))\n",
    "print(b)"
   ]
  },
  {
   "cell_type": "code",
   "execution_count": 58,
   "metadata": {
    "collapsed": false
   },
   "outputs": [
    {
     "data": {
      "text/plain": [
       "array([[ 2. , -1. , -1. ,  0. ,  0. ],\n",
       "       [ 0. ,  1.5, -1.5,  0. ,  0. ],\n",
       "       [ 0. ,  0. ,  0. ,  0. ,  0. ],\n",
       "       [ 0. ,  0. ,  0. ,  1. , -1. ],\n",
       "       [ 0. ,  0. ,  0. ,  0. ,  0. ]])"
      ]
     },
     "execution_count": 58,
     "metadata": {},
     "output_type": "execute_result"
    }
   ],
   "source": [
    "def gaussian_elim(L):\n",
    "    n = L.shape[0]\n",
    "    b = array([[float(L[i][j]) for j in range(L.shape[1])] for i in range(n)]) \n",
    "    for i in range(n):\n",
    "        if(b[i][i] == 0):\n",
    "            for k in range(i+1,n):\n",
    "                if(b[i][k] != 0):\n",
    "                    raise ValueError(\"Yikes!!! Have to do a swap\")\n",
    "            continue        \n",
    "        for j in range(i+1,n):\n",
    "            b[j] = b[j] - b[i]*b[j][i]/b[i][i]  \n",
    "    return around(b,6) #cutting off at 6 decimal places\n",
    "\n",
    "L = array([[2,-1,-1.0,0,0],[-1,2,-1,0,0],[-1,-1,2,0,0],[0,0,0,1,-1],[0,0,0,-1,1]])\n",
    "gaussian_elim(L)"
   ]
  },
  {
   "cell_type": "code",
   "execution_count": 12,
   "metadata": {
    "collapsed": false
   },
   "outputs": [
    {
     "name": "stdout",
     "output_type": "stream",
     "text": [
      "woh, zero\n",
      "woh, zero\n"
     ]
    },
    {
     "data": {
      "text/plain": [
       "array([[ 1.,  0., -1.,  0.,  0.],\n",
       "       [ 0.,  1., -1.,  0.,  0.],\n",
       "       [ 0.,  0.,  0.,  0.,  0.],\n",
       "       [ 0.,  0.,  0.,  1., -1.],\n",
       "       [ 0.,  0.,  0.,  0.,  0.]])"
      ]
     },
     "execution_count": 12,
     "metadata": {},
     "output_type": "execute_result"
    }
   ],
   "source": [
    "L = array([[2,-1,-1,0,0],[-1,2,-1,0,0],[-1,-1,2,0,0],[0,0,0,1,-1],[0,0,0,-1,1]])\n",
    "a,b = lu(L, permute_l=True)\n",
    "b\n",
    "row_echelon(b)"
   ]
  },
  {
   "cell_type": "code",
   "execution_count": 13,
   "metadata": {
    "collapsed": false
   },
   "outputs": [
    {
     "data": {
      "text/plain": [
       "array([[ 2. ,  1. , -1. ,  8. ],\n",
       "       [ 0. ,  0.5,  0.5,  1. ],\n",
       "       [ 0. ,  0. , -1. ,  1. ]])"
      ]
     },
     "execution_count": 13,
     "metadata": {},
     "output_type": "execute_result"
    }
   ],
   "source": [
    "A = array([[2,1,-1,8],[-3,-1,2,-11],[-2,1, 2, -3]])\n",
    "a = gaussian_elim(A)\n",
    "a"
   ]
  },
  {
   "cell_type": "code",
   "execution_count": 48,
   "metadata": {
    "collapsed": false
   },
   "outputs": [
    {
     "data": {
      "text/plain": [
       "array([[ 8, -1, -1, -1, -1, -1, -1, -1, -1,  0],\n",
       "       [-1,  6, -1, -1,  0, -1,  0, -1, -1,  0],\n",
       "       [-1, -1,  5, -1,  0, -1, -1,  0,  0,  0],\n",
       "       [-1, -1, -1,  7, -1, -1,  0,  0, -1, -1],\n",
       "       [-1,  0,  0, -1,  7, -1, -1, -1, -1, -1],\n",
       "       [-1, -1, -1, -1, -1,  6,  0,  0,  0, -1],\n",
       "       [-1,  0, -1,  0, -1,  0,  6, -1, -1, -1],\n",
       "       [-1, -1,  0,  0, -1,  0, -1,  5, -1,  0],\n",
       "       [-1, -1,  0, -1, -1,  0, -1, -1,  6,  0],\n",
       "       [ 0,  0,  0, -1, -1, -1, -1,  0,  0,  4]])"
      ]
     },
     "execution_count": 48,
     "metadata": {},
     "output_type": "execute_result"
    }
   ],
   "source": [
    "def make_rand_weighted_L(n):\n",
    "    A = abs(randn(n**2)).reshape(n,n)\n",
    "    A += A.T\n",
    "    np.fill_diagonal(A, 0)\n",
    "    D = diag(A.sum(1))\n",
    "    L = D - A\n",
    "    return L\n",
    "\n",
    "def make_rand_unweighted_L(n, p):\n",
    "    A = [[0 for i in range(n)] for j in range(n)]\n",
    "    for i in range(n):\n",
    "        for j in range(i+1, n):\n",
    "            if(rand()<p):\n",
    "                A[i][j] = A[j][i] = 1\n",
    "    A = array(A)            \n",
    "    D = diag(A.sum(1))\n",
    "    L = D - A\n",
    "    return L                     \n",
    "    \n",
    "\n",
    "make_rand_weighted_L(4)\n",
    "make_rand_unweighted_L(10,0.6)"
   ]
  },
  {
   "cell_type": "code",
   "execution_count": 70,
   "metadata": {
    "collapsed": false
   },
   "outputs": [
    {
     "name": "stdout",
     "output_type": "stream",
     "text": [
      "woh, zero\n",
      "woh, zero\n"
     ]
    },
    {
     "data": {
      "text/plain": [
       "True"
      ]
     },
     "execution_count": 70,
     "metadata": {},
     "output_type": "execute_result"
    }
   ],
   "source": [
    "def test():\n",
    "    A = make_rand_weighted_L(7)\n",
    "    a = gaussian_elim(A)\n",
    "    b,c = lu(A, permute_l=True)\n",
    "    return np.array_equal(row_echelon(a) ,row_echelon(c))\n",
    "test()"
   ]
  },
  {
   "cell_type": "code",
   "execution_count": 50,
   "metadata": {
    "collapsed": false
   },
   "outputs": [
    {
     "data": {
      "text/plain": [
       "array([[ 3.02806384, -0.79186279, -1.32849967, -0.90770137],\n",
       "       [-0.79186279,  2.2564115 , -0.49011014, -0.97443857],\n",
       "       [-1.32849967, -0.49011014,  2.73751134, -0.91890153],\n",
       "       [-0.90770137, -0.97443857, -0.91890153,  2.80104147]])"
      ]
     },
     "execution_count": 50,
     "metadata": {},
     "output_type": "execute_result"
    }
   ],
   "source": [
    "A"
   ]
  },
  {
   "cell_type": "code",
   "execution_count": null,
   "metadata": {
    "collapsed": true
   },
   "outputs": [],
   "source": []
  }
 ],
 "metadata": {
  "kernelspec": {
   "display_name": "Python 3",
   "language": "python",
   "name": "python3"
  },
  "language_info": {
   "codemirror_mode": {
    "name": "ipython",
    "version": 3
   },
   "file_extension": ".py",
   "mimetype": "text/x-python",
   "name": "python",
   "nbconvert_exporter": "python",
   "pygments_lexer": "ipython3",
   "version": "3.4.1"
  }
 },
 "nbformat": 4,
 "nbformat_minor": 0
}
