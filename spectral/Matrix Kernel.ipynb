{
 "cells": [
  {
   "cell_type": "code",
   "execution_count": 5,
   "metadata": {
    "collapsed": false
   },
   "outputs": [
    {
     "name": "stdout",
     "output_type": "stream",
     "text": [
      "Populating the interactive namespace from numpy and matplotlib\n"
     ]
    }
   ],
   "source": [
    "%pylab inline\n",
    "from scipy.linalg import lu\n"
   ]
  },
  {
   "cell_type": "code",
   "execution_count": 98,
   "metadata": {
    "collapsed": true
   },
   "outputs": [],
   "source": [
    "A = array([[2,1,-1,8],[-3,-1,2,-11],[-2,1, 2, -3]])"
   ]
  },
  {
   "cell_type": "code",
   "execution_count": 53,
   "metadata": {
    "collapsed": false
   },
   "outputs": [
    {
     "data": {
      "text/plain": [
       "array([[  2,   1,  -1,   8],\n",
       "       [ -3,  -1,   2, -11],\n",
       "       [ -2,   1,   2,  -3]])"
      ]
     },
     "execution_count": 53,
     "metadata": {},
     "output_type": "execute_result"
    }
   ],
   "source": [
    "A"
   ]
  },
  {
   "cell_type": "code",
   "execution_count": 102,
   "metadata": {
    "collapsed": false
   },
   "outputs": [
    {
     "data": {
      "text/plain": [
       "array([[-0.66666667,  0.2       ,  1.        ],\n",
       "       [ 1.        ,  0.        ,  0.        ],\n",
       "       [ 0.66666667,  1.        ,  0.        ]])"
      ]
     },
     "execution_count": 102,
     "metadata": {},
     "output_type": "execute_result"
    }
   ],
   "source": [
    "a,b = lu(A, permute_l=True)\n",
    "a"
   ]
  },
  {
   "cell_type": "code",
   "execution_count": 103,
   "metadata": {
    "collapsed": false
   },
   "outputs": [
    {
     "data": {
      "text/plain": [
       "array([[ -3.        ,  -1.        ,   2.        , -11.        ],\n",
       "       [  0.        ,   1.66666667,   0.66666667,   4.33333333],\n",
       "       [  0.        ,   0.        ,   0.2       ,  -0.2       ]])"
      ]
     },
     "execution_count": 103,
     "metadata": {},
     "output_type": "execute_result"
    }
   ],
   "source": [
    "b\n"
   ]
  },
  {
   "cell_type": "code",
   "execution_count": 69,
   "metadata": {
    "collapsed": false
   },
   "outputs": [
    {
     "data": {
      "text/plain": [
       "array([  0.00000000e+00,   1.66666667e+00,  -1.11022302e-16,\n",
       "         5.00000000e+00])"
      ]
     },
     "execution_count": 69,
     "metadata": {},
     "output_type": "execute_result"
    }
   ],
   "source": [
    "b[1] - b[2]*b[1][2]/b[2][2]"
   ]
  },
  {
   "cell_type": "code",
   "execution_count": 110,
   "metadata": {
    "collapsed": false
   },
   "outputs": [
    {
     "data": {
      "text/plain": [
       "array([[ 2. , -1. , -1. ],\n",
       "       [ 0. ,  1.5, -1.5],\n",
       "       [ 0. ,  0. ,  0. ]])"
      ]
     },
     "execution_count": 110,
     "metadata": {},
     "output_type": "execute_result"
    }
   ],
   "source": [
    "L = array([[2,-1,-1],[-1,2,-1],[-1,-1,2]])\n",
    "a,b = lu(L, permute_l=True)\n",
    "b"
   ]
  },
  {
   "cell_type": "code",
   "execution_count": 108,
   "metadata": {
    "collapsed": false
   },
   "outputs": [
    {
     "name": "stdout",
     "output_type": "stream",
     "text": [
      "[[ 1. -0. -0.  2.]\n",
      " [ 0.  1.  0.  3.]\n",
      " [ 0.  0.  1. -1.]]\n",
      "[[ 1. -0. -0.  2.]\n",
      " [ 0.  1.  0.  3.]\n",
      " [ 0.  0.  1. -1.]]\n"
     ]
    }
   ],
   "source": [
    "def row_echelon(L):\n",
    "    b = L[:] #weird... I can't seem to copy (do I need to go deep?)\n",
    "    for i in reversed(range(b.shape[0])):\n",
    "        if(b[i][i] == 0):\n",
    "            print(\"woh, zero\")\n",
    "            continue\n",
    "        b[i] = b[i]/b[i][i]\n",
    "        if(i != 0):\n",
    "            for j in range(i):\n",
    "                b[j] = b[j] - b[i]*b[j][i]/b[i][i]       \n",
    "    return b\n",
    "\n",
    "A = array([[2,1,-1,8],[-3,-1,2,-11],[-2,1, 2, -3]])\n",
    "a,b = lu(A, permute_l=True)\n",
    "\n",
    "print(row_echelon(b))\n",
    "print(b)"
   ]
  },
  {
   "cell_type": "code",
   "execution_count": 172,
   "metadata": {
    "collapsed": false
   },
   "outputs": [
    {
     "data": {
      "text/plain": [
       "array([[ 2. , -1. , -1. ,  0. ,  0. ],\n",
       "       [ 0. ,  1.5, -1.5,  0. ,  0. ],\n",
       "       [ 0. ,  0. ,  0. ,  0. ,  0. ],\n",
       "       [ 0. ,  0. ,  0. ,  1. , -1. ],\n",
       "       [ 0. ,  0. ,  0. ,  0. ,  0. ]])"
      ]
     },
     "execution_count": 172,
     "metadata": {},
     "output_type": "execute_result"
    }
   ],
   "source": [
    "def gaussian_elim(L):\n",
    "    n = L.shape[0]\n",
    "    b = array([[float(L[i][j]) for j in range(L.shape[1])] for i in range(n)]) \n",
    "    for i in range(n):\n",
    "        if(b[i][i] == 0):\n",
    "            for k in range(i+1,n):\n",
    "                if(b[i][k] != 0):\n",
    "                    raise ValueError(\"Yikes!!! Have to do a swap\")\n",
    "            continue        \n",
    "        for j in range(i+1,n):\n",
    "            b[j] = b[j] - b[i]*b[j][i]/b[i][i]  \n",
    "    return b\n",
    "\n",
    "L = array([[2,-1,-1.0,0,0],[-1,2,-1,0,0],[-1,-1,2,0,0],[0,0,0,1,-1],[0,0,0,-1,1]])\n",
    "gaussian_elim(L)"
   ]
  },
  {
   "cell_type": "code",
   "execution_count": 128,
   "metadata": {
    "collapsed": false
   },
   "outputs": [
    {
     "name": "stdout",
     "output_type": "stream",
     "text": [
      "woh, zero\n",
      "woh, zero\n"
     ]
    },
    {
     "data": {
      "text/plain": [
       "array([[ 1.,  0., -1.,  0.,  0.],\n",
       "       [ 0.,  1., -1.,  0.,  0.],\n",
       "       [ 0.,  0.,  0.,  0.,  0.],\n",
       "       [ 0.,  0.,  0.,  1., -1.],\n",
       "       [ 0.,  0.,  0.,  0.,  0.]])"
      ]
     },
     "execution_count": 128,
     "metadata": {},
     "output_type": "execute_result"
    }
   ],
   "source": [
    "L = array([[2,-1,-1,0,0],[-1,2,-1,0,0],[-1,-1,2,0,0],[0,0,0,1,-1],[0,0,0,-1,1]])\n",
    "a,b = lu(L, permute_l=True)\n",
    "b\n",
    "row_echelon(b)"
   ]
  },
  {
   "cell_type": "code",
   "execution_count": 173,
   "metadata": {
    "collapsed": false
   },
   "outputs": [
    {
     "data": {
      "text/plain": [
       "array([[ 2. ,  1. , -1. ,  8. ],\n",
       "       [ 0. ,  0.5,  0.5,  1. ],\n",
       "       [ 0. ,  0. , -1. ,  1. ]])"
      ]
     },
     "execution_count": 173,
     "metadata": {},
     "output_type": "execute_result"
    }
   ],
   "source": [
    "A = array([[2,1,-1,8],[-3,-1,2,-11],[-2,1, 2, -3]])\n",
    "a = gaussian_elim(A)\n",
    "a"
   ]
  },
  {
   "cell_type": "code",
   "execution_count": null,
   "metadata": {
    "collapsed": true
   },
   "outputs": [],
   "source": []
  }
 ],
 "metadata": {
  "kernelspec": {
   "display_name": "Python 3",
   "language": "python",
   "name": "python3"
  },
  "language_info": {
   "codemirror_mode": {
    "name": "ipython",
    "version": 3
   },
   "file_extension": ".py",
   "mimetype": "text/x-python",
   "name": "python",
   "nbconvert_exporter": "python",
   "pygments_lexer": "ipython3",
   "version": "3.4.1"
  }
 },
 "nbformat": 4,
 "nbformat_minor": 0
}
