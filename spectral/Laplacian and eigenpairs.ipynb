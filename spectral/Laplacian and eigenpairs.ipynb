{
 "cells": [
  {
   "cell_type": "markdown",
   "metadata": {},
   "source": [
    "\"In a graph G, let $d_v$ denote the degree of the vertex $v$. We first define the Laplacian for graphs without loops and multiple edges. To begin, we consider the matrix L,\n",
    "\n",
    "$$L(u,v) = \\begin{cases} \n",
    "                  d_v ~~~if ~~u = v\\\\\n",
    "                  -1 ~~~~if ~~ u \\sim v\\\\\n",
    "                  0 ~~~~otherwise\n",
    "                \\end{cases}\n",
    "              $$\n",
    "              \n",
    "Let T denote the diagonal matrix with the $(v,v)$-th entry having value $d_v$. The Laplacian\n",
    "\n",
    "$$\\mathcal{L}(u,v) = \\begin{cases} \n",
    "        1 ~~~ if ~~ u = v\\\\ \n",
    "        -1/{\\sqrt{d_u d_v}} ~~~~ if ~~ u \\sim v \\\\\n",
    "        0 ~~~~ otherwise \n",
    "        \\end{cases}   $$\n",
    "\n",
    "\n",
    "$$\\rightarrow  \\mathcal{L} = T^{-1/2} L T^{-1/2} $$\n",
    "\n",
    "with the convention $T^{-1}(v,v) = 0$ if $d_v = 0$.\n",
    "\n",
    "\""
   ]
  },
  {
   "cell_type": "markdown",
   "metadata": {},
   "source": [
    "\"\n",
    "\n",
    "We say $v$ is an isolated vertex if $d_v = 0$. A graph is said to be non-trivial if it contains at least one edge.\n",
    "\n",
    "When G is k-regular, it is easy to see that\n",
    "\n",
    "$$\\mathcal{L} = \\mathbb{I} - \\frac 1 k A$$\n",
    "\n",
    "Where $A$ is the adjacency matrix\n",
    "\n",
    "$$--------------------------$$\n",
    "\n",
    "$\\mathcal{L} $ can be viewed as an operator in the space of functions $g:V(G) \\rightarrow \\mathbb{R}$ which satisfies\n",
    "\n",
    "$$\\mathcal{L} ~ g(u) = \\frac 1 {\\sqrt{d_u}} \\sum_{\\substack{v\\\\ v \\sim u}} \\left( \\frac {g(u)}{\\sqrt{d_u}} - \\frac {g(v)}{\\sqrt{d_v}} \\right)$$\n",
    "\n",
    "\"\n",
    "\n",
    "We need to define the inner product:\n",
    "\n",
    "$$<f,g> = \\sum_x f(x) g(x)$$\n"
   ]
  },
  {
   "cell_type": "code",
   "execution_count": null,
   "metadata": {
    "collapsed": true
   },
   "outputs": [],
   "source": []
  }
 ],
 "metadata": {
  "kernelspec": {
   "display_name": "Python 3",
   "language": "python",
   "name": "python3"
  },
  "language_info": {
   "codemirror_mode": {
    "name": "ipython",
    "version": 3
   },
   "file_extension": ".py",
   "mimetype": "text/x-python",
   "name": "python",
   "nbconvert_exporter": "python",
   "pygments_lexer": "ipython3",
   "version": "3.4.1"
  }
 },
 "nbformat": 4,
 "nbformat_minor": 0
}
