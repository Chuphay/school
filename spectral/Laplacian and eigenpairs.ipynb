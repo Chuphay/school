{
 "cells": [
  {
   "cell_type": "markdown",
   "metadata": {},
   "source": [
    "\"There are several matrices naturally associated with a graph and its vector spaces. The adjacency matrix $A = A(G) = (a_{ij})$ of a graph $G$ is the $n \\times n$ matrix given by\n",
    "\n",
    "$$a_{ij} = \\begin{cases} 1 ~~ if v_i v_j \\in E(G) \\\\ 0 ~~ otherwise \\end{cases}$$\n",
    "\n",
    "Let $D = (D_{ij})$ be the $n \\times n$ diagonal matrix with $D_{ii} = d(v_i)$, the degree of $v_i$ in G.  The matrix $L = D - A$ is called the <i>combinatorial Laplacian</i> or <i>Kirchhoff matrix</i>. \n",
    "\n",
    "The vertex space $C_0(G)$ of a graph G is the complex vector space of all functions from V(G) into $\\mathbb{C}$. Once again we take $V(G) = \\{v_1, v_2, ... , v_n\\}$, so that dim $C_0(G) = n$,  and we write the elements of  $C_0(G)$ in the form $\\mathbf {x} = \\sum_{i=1}^n x_i v_i$ or $\\mathbf{x} = (x_i)_1^n$; here $x_i$ is the value of $\\bf{x}$ at $v_i$, also called the <i>weight</i> at $v_i$. The space  $C_0(G)$ is given the natural inner prodeuct associated with the basis $(v_i)_1^n$ :   $~~<\\mathbf{ x} , \\mathbf{ y}> = \\sum_{i=1}^n x_i \\bar {y_i}$. \n",
    "\n",
    "\""
   ]
  },
  {
   "cell_type": "markdown",
   "metadata": {},
   "source": [
    "\"\n",
    "The adjacency matrix A is real and symmetric, so it is <i>hermition</i>, that is, $<A \\mathbf{x}, \\mathbf{y}> = < \\mathbf{x}, A \\mathbf{y}>$. Hence its <i>numerical range</i>\n",
    "\n",
    "$$V(A) = \\{ <A \\mathbf{x}, \\mathbf{x}> : ~~~||\\mathbf{x}|| = 1 \\}$$\n",
    "\n",
    "is a closed interval of the real line. \n",
    "\n",
    "The <i>distinct</i> eigenvalues of A are real, say $\\mu_1 > \\mu_2 > ... > \\mu_t$, and V(A) is exactly the interval $[\\mu_t , \\mu_1]$ (I need a proof for that) \n",
    "\n",
    "\n",
    "\""
   ]
  },
  {
   "cell_type": "markdown",
   "metadata": {},
   "source": [
    "\"In a graph G, let $d_v$ denote the degree of the vertex $v$. We first define the Laplacian for graphs without loops and multiple edges. To begin, we consider the matrix L,\n",
    "\n",
    "$$L(u,v) = \\begin{cases} \n",
    "                  d_v ~~~if ~~u = v\\\\\n",
    "                  -1 ~~~~if ~~ u \\sim v\\\\\n",
    "                  0 ~~~~otherwise\n",
    "                \\end{cases}\n",
    "              $$\n",
    "              \n",
    "Let T denote the diagonal matrix with the $(v,v)$-th entry having value $d_v$. The Laplacian\n",
    "\n",
    "$$\\mathcal{L}(u,v) = \\begin{cases} \n",
    "        1 ~~~ if ~~ u = v\\\\ \n",
    "        -1/{\\sqrt{d_u d_v}} ~~~~ if ~~ u \\sim v \\\\\n",
    "        0 ~~~~ otherwise \n",
    "        \\end{cases}   $$\n",
    "\n",
    "\n",
    "$$\\rightarrow  \\mathcal{L} = T^{-1/2} L T^{-1/2} $$\n",
    "\n",
    "with the convention $T^{-1}(v,v) = 0$ if $d_v = 0$.\n",
    "\n",
    "\""
   ]
  },
  {
   "cell_type": "markdown",
   "metadata": {},
   "source": [
    "\"\n",
    "\n",
    "We say $v$ is an isolated vertex if $d_v = 0$. A graph is said to be non-trivial if it contains at least one edge.\n",
    "\n",
    "When G is k-regular, it is easy to see that\n",
    "\n",
    "$$\\mathcal{L} = \\mathbb{I} - \\frac 1 k A$$\n",
    "\n",
    "Where $A$ is the adjacency matrix\n",
    "\n",
    "$$--------------------------$$\n",
    "\n",
    "$\\mathcal{L} $ can be viewed as an operator in the space of functions $g:V(G) \\rightarrow \\mathbb{R}$ which satisfies\n",
    "\n",
    "$$\\mathcal{L} ~ g(u) = \\frac 1 {\\sqrt{d_u}} \\sum_{\\substack{v\\\\ v \\sim u}} \\left( \\frac {g(u)}{\\sqrt{d_u}} - \\frac {g(v)}{\\sqrt{d_v}} \\right)$$\n",
    "\n",
    "\"\n",
    "\n",
    "We need to define the inner product:\n",
    "\n",
    "$$<f,g> = \\sum_x f(x) g(x)$$\n"
   ]
  },
  {
   "cell_type": "code",
   "execution_count": null,
   "metadata": {
    "collapsed": true
   },
   "outputs": [],
   "source": []
  }
 ],
 "metadata": {
  "kernelspec": {
   "display_name": "Python 3",
   "language": "python",
   "name": "python3"
  },
  "language_info": {
   "codemirror_mode": {
    "name": "ipython",
    "version": 3
   },
   "file_extension": ".py",
   "mimetype": "text/x-python",
   "name": "python",
   "nbconvert_exporter": "python",
   "pygments_lexer": "ipython3",
   "version": "3.4.1"
  }
 },
 "nbformat": 4,
 "nbformat_minor": 0
}
