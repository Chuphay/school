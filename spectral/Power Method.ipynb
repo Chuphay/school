{
 "cells": [
  {
   "cell_type": "code",
   "execution_count": 22,
   "metadata": {
    "collapsed": false
   },
   "outputs": [
    {
     "name": "stdout",
     "output_type": "stream",
     "text": [
      "Populating the interactive namespace from numpy and matplotlib\n"
     ]
    }
   ],
   "source": [
    "%pylab inline\n"
   ]
  },
  {
   "cell_type": "markdown",
   "metadata": {},
   "source": [
    "First from Hoffman's book:\n",
    "\n",
    "1. Assume a trial value $\\mathbf{x}^{(0)}$. Choose one component to be unity. Designate that the unity component.\n",
    "\n",
    "2. Perform the matrix multiplication: $\\mathbf{A}\\mathbf{x}^{(0)} = \\mathbf{y}^{(1)}$\n",
    "\n",
    "3. Scale $\\mathbf{y}^{(1)}$ so that the unity component remains unity:\n",
    "\n",
    "$$\\mathbf{y}^{(1)} = \\lambda^{(1)} \\mathbf{x}^{(1)}$$\n",
    "\n",
    "4. Repeat: \n",
    "\n",
    "$$\\mathbf{A}\\mathbf{x}^{(k)} = \\mathbf{y}^{(k+1)} = \\lambda^{(k+1)} \\mathbf{x}^{(k+1)}$$\n"
   ]
  },
  {
   "cell_type": "code",
   "execution_count": 23,
   "metadata": {
    "collapsed": false
   },
   "outputs": [
    {
     "data": {
      "text/plain": [
       "(13.870603889183611,\n",
       " array([ 1.        ,  0.49178084, -3.42707923]),\n",
       " 1.1429145457597656e-05)"
      ]
     },
     "execution_count": 23,
     "metadata": {},
     "output_type": "execute_result"
    }
   ],
   "source": [
    "def hoffman_power(A):\n",
    "    n = A.shape[0]\n",
    "    x = ones(n)\n",
    "    lmda = 0\n",
    "    for i in range(30):\n",
    "        last = lmda\n",
    "        y = dot(A,x)\n",
    "        lmda = y[0]\n",
    "        x = y/lmda\n",
    "    error = last - lmda    \n",
    "    return (lmda, x, abs(error))    \n",
    "    \n",
    "\n",
    "A = array([[8,-2,-2],[-2,4,-2],[-2,-2,13]])\n",
    "hoffman_power(A)"
   ]
  },
  {
   "cell_type": "code",
   "execution_count": 24,
   "metadata": {
    "collapsed": false
   },
   "outputs": [
    {
     "data": {
      "text/plain": [
       "array([  2.5089808 ,   8.62043408,  13.87058512])"
      ]
     },
     "execution_count": 24,
     "metadata": {},
     "output_type": "execute_result"
    }
   ],
   "source": [
    "eig(A)[0]"
   ]
  },
  {
   "cell_type": "markdown",
   "metadata": {},
   "source": [
    "###Inverse Power Method\n",
    "\n",
    "1. Solve for $\\mathbf{L}$ and $\\mathbf U$ such that $\\mathbf{LU} = \\mathbf{A}$\n",
    "\n",
    "2. Assume $\\mathbf{x}^{(0)}$. Designate a component of $\\mathbf{x}$ to be unity.\n",
    "\n",
    "3. Solve for $\\mathbf{x}'$ by forward substitution: $\\mathbf{L} \\mathbf{x}' = \\mathbf{x}^{(0)}$\n",
    "\n",
    "4. Solve for $\\mathbf{y}^{(1)}$ by back substitution: $\\mathbf{U}\\mathbf{y}^{(1)} =  \\mathbf{x}' $\n",
    "\n",
    "5. Scale $\\mathbf{y}^{(1)}$ so that the unity component is unity. Thus, $\\mathbf{y}^{(1)} = \\lambda_{\\text{inverse}}^{(1)} \\mathbf{x}^{(1)} $\n",
    "\n",
    "6. Repeat\n",
    "\n",
    "$$\\mathbf{L} \\mathbf{x}' = \\mathbf{x}^{(k)}$$\n",
    "\n",
    "$$ \\mathbf{U}\\mathbf{y}^{(k+1)} =  \\mathbf{x}'$$\n",
    "\n",
    "$$ \\mathbf{y}^{(k+1)} = \\lambda_{\\text{inverse}}^{(k+1)} \\mathbf{x}^{(k+1)} $$"
   ]
  },
  {
   "cell_type": "code",
   "execution_count": 25,
   "metadata": {
    "collapsed": false
   },
   "outputs": [
    {
     "data": {
      "text/plain": [
       "(2.5090028139770366,\n",
       " array([ 1.        ,  2.14578754,  0.59971106]),\n",
       " 8.4845877590389307e-06)"
      ]
     },
     "execution_count": 25,
     "metadata": {},
     "output_type": "execute_result"
    }
   ],
   "source": [
    "from scipy.linalg import lu\n",
    "\n",
    "\n",
    "def hoffman_inverse_power(A):\n",
    "    l,u = lu(A, permute_l=True)\n",
    "    n = A.shape[0]\n",
    "    x = ones(n)\n",
    "    x_prime = ones(n)\n",
    "    y = ones(n)\n",
    "    lmda = 0\n",
    "    \n",
    "    for i in range(10):\n",
    "        last = lmda\n",
    "        for j in range(n):\n",
    "            x_prime[j] = x[j]/l[j][j]\n",
    "            for k in range(j):\n",
    "                x_prime[j] -= x_prime[k]*l[j][k]\n",
    "\n",
    "        for j in reversed(range(n)):\n",
    "            y[j] = x_prime[j]/u[j][j]\n",
    "            for k in range(j+1, n):\n",
    "                y[j] -= y[k]*u[j][k]/u[j][j]\n",
    "\n",
    "        lmda = y[0] \n",
    "        x = y/lmda\n",
    "\n",
    "    return (1/lmda, x, abs(lmda-last))    \n",
    "    \n",
    "A = array([[8,-2,-2],[-2,4,-2],[-2,-2,13]])\n",
    "hoffman_inverse_power(A)    "
   ]
  },
  {
   "cell_type": "markdown",
   "metadata": {},
   "source": [
    "###Shifted Power Method\n",
    "\n",
    "The eigenvalues of a matrix $\\mathbf{A}$ may be shifted by a scalar s by subtracting $s\\mathbb{I} \\mathbf{x} = s \\mathbf{x}$ from both sides of the standard eigenproblem, $\\mathbf{A} \\mathbf{x} = \\lambda \\mathbf{x} $. Thus,\n",
    "\n",
    "$$\\mathbf{A} \\mathbf{x}-s\\mathbb{I}\\mathbf{x}  = \\lambda \\mathbf{x} -s \\mathbf{x}$$\n",
    "\n",
    "$$(\\mathbf{A} - s\\mathbb{I})\\mathbf{x}  = (\\lambda -s )\\mathbf{x}$$\n",
    "\n",
    "$$\\mathbf{A}_{\\text{shifted}} \\mathbf{x} = \\lambda_{\\text{shifted}} \\mathbf{x}$$\n",
    "\n",
    "Shifting the eigenvalues of a matrix can be used to:\n",
    "\n",
    "1. Find the opposite extreme eigenvalue.\n",
    "\n",
    "2. Find intermediate eigenvalues\n",
    "\n",
    "3. Accelerate convergence "
   ]
  },
  {
   "cell_type": "code",
   "execution_count": 26,
   "metadata": {
    "collapsed": false
   },
   "outputs": [
    {
     "data": {
      "text/plain": [
       "2.508980800011047"
      ]
     },
     "execution_count": 26,
     "metadata": {},
     "output_type": "execute_result"
    }
   ],
   "source": [
    "A = array([[8,-2,-2],[-2,4,-2],[-2,-2,13]])\n",
    "value, vector, error = hoffman_power(A)\n",
    "A_shifted = A - eye(3)*value\n",
    "value2, vector, error = hoffman_power(A_shifted)\n",
    "value2 +value"
   ]
  },
  {
   "cell_type": "markdown",
   "metadata": {
    "collapsed": true
   },
   "source": [
    "##Direct Method\n",
    "\n",
    "The characteristic equation is obtained from\n",
    "\n",
    "$$\\text{det}(\\mathbf{A} - \\lambda \\mathbb{I}) = 0$$\n",
    "\n",
    "Rather than solving for the roots of the characteristic equation directly, we instead solve the characteristic equation iteratively (my sentences). \"This can be accomplished my applying the secant method. Two intitial approximations of $\\lambda$ are assumed, $\\lambda_0$ and $\\lambda_1$, the corresponding values of the cahracteristic determinant are computed, and these results are used to construct a linear relationship between $\\lambda$ and the value of the characteristic determinant. The solution of that linear relationship is taken as the next approximation to $\\lambda$, and the procedure is repeated to convergence"
   ]
  },
  {
   "cell_type": "code",
   "execution_count": 27,
   "metadata": {
    "collapsed": false
   },
   "outputs": [
    {
     "data": {
      "text/plain": [
       "13.870585123309459"
      ]
     },
     "execution_count": 27,
     "metadata": {},
     "output_type": "execute_result"
    }
   ],
   "source": [
    "def direct_method(A, guess_1, guess_2):\n",
    "    if(abs(guess_2 - guess_1)< 1e-5):\n",
    "        return guess_2\n",
    "    else:\n",
    "        n = A.shape[0]\n",
    "        f_1 = det(A - eye(n)*guess_1)\n",
    "        f_2 = det(A - eye(n)*guess_2)\n",
    "        slope = (f_2 - f_1)/(guess_2 - guess_1)\n",
    "        guess_3 = guess_2 - f_2/slope\n",
    "        return direct_method(A, guess_2, guess_3)\n",
    "    \n",
    "    \n",
    "direct_method(A,15, 13)"
   ]
  },
  {
   "cell_type": "markdown",
   "metadata": {},
   "source": [
    "##QR Method\n",
    "\n",
    "\n",
    "$$A = \\left[ \\begin{matrix} a_{11} ~ a_{12}~ ... ~a_{1n}\\\\ a_{21} ~a_{22} ~... ~a_{2n}\\\\ . ~~ . ~~ .\\\\ a_{n1}  ~ a_{n2} ~ ... ~ a_{nn} \\end{matrix} \\right]= [\\mathbf{a}_1 ~~ \\mathbf{a}_2 ~ . ~ . ~ .  ~~  \\mathbf{a}_n]$$\n",
    "\n",
    "\n",
    "Use the Gram-Schmidt process:\n",
    "\n",
    "$$\\mathbf{q}_1= \\frac{\\mathbf{a}_1} {||\\mathbf{a}_1||}$$\n",
    "\n",
    "$$\\mathbf{a}'_2 = \\mathbf{a}_2 - (\\mathbf{q}_1^T \\mathbf{a}_2) \\mathbf{q}_1$$\n",
    "\n",
    "$$\\mathbf{q}_2= \\frac{\\mathbf{a}'_2} {||\\mathbf{a}'_2||}$$\n",
    "\n",
    "$$\\mathbf{a}'_3 = \\mathbf{a}_3 - (\\mathbf{q}_1^T \\mathbf{a}_3) \\mathbf{q}_1 - (\\mathbf{q}_2^T \\mathbf{a}_3) \\mathbf{q}_2$$\n",
    "\n",
    "$$\\mathbf{q}_3= \\frac{\\mathbf{a}'_3} {||\\mathbf{a}'_3||}$$\n",
    "\n",
    "and so on...\n",
    "\n",
    "The matrix <b>Q</b> is composed of the column vectors\n",
    "\n",
    "The matrix <b>R</b> is assembled from the elements computed in the evaluation of <b>Q</b>\n",
    "\n",
    "$$r_{i,i} = ||\\mathbf{a}'_i||$$\n",
    "\n",
    "$$r_{i,j} = \\mathbf{q}_i^T \\mathbf{a}_j ~~~~~~ \\text{where} ~~~~ j=i+1, ..., n$$"
   ]
  },
  {
   "cell_type": "markdown",
   "metadata": {},
   "source": [
    "The first step in the QR process is to set $\\mathbf{A}^{(0)} = \\mathbf{A}$ and factor $\\mathbf{A}^{(0)}$ by the Gram-Schmidt process into $\\mathbf{Q}^{(0)}$ and $\\mathbf{R}^{(0)}$. The next step is to reverse the factors  $\\mathbf{Q}^{(0)}$ and $\\mathbf{R}^{(0)}$ to obtain\n",
    "\n",
    "$$\\mathbf{A}^{(1)} =  \\mathbf{R}^{(0)} \\mathbf{Q}^{(0)} $$\n",
    "\n",
    "$\\mathbf{A}^{(1)}$ is similar to $\\mathbf{A}$, so the eigenvalues are preserved. $\\mathbf{A}^{(1)}$ is factored by the Gram-Schmidt process to obtain $\\mathbf{Q}^{(1)}$ and $\\mathbf{R}^{(1)}$, and the factors are reversed to obtain $\\mathbf{A}^{(2)}$. Thus,\n",
    "\n",
    "$$\\mathbf{A}^{(2)} =  \\mathbf{R}^{(1)} \\mathbf{Q}^{(1)} $$\n",
    "\n",
    "The process is continued to determine $\\mathbf{A}^{(3)}, \\mathbf{A}^{(4)}, ... , \\mathbf{A}^{(n)}$. When $\\mathbf{A}^{(n)}$ approaches triangular form, within some tolerance, the eigenvalues of $\\mathbf{A}$ are the diagonal elements."
   ]
  },
  {
   "cell_type": "code",
   "execution_count": 52,
   "metadata": {
    "collapsed": false
   },
   "outputs": [
    {
     "data": {
      "text/plain": [
       "array([ 13.87058484,   8.62043436,   2.5089808 ])"
      ]
     },
     "execution_count": 52,
     "metadata": {},
     "output_type": "execute_result"
    }
   ],
   "source": [
    "def hoffman_QR(a):\n",
    "    A = a.astype(float)\n",
    "    n = A.shape[0]\n",
    "    q = zeros((n,n))\n",
    "    r = zeros((n,n))\n",
    "    a_prime = zeros(n)\n",
    "    for k in range(20):\n",
    "        for i in range(n):\n",
    "            a_prime = A[:,i]\n",
    "            for j in range(i):\n",
    "                r[j][i] = dot(q[:,j], A[:,i])\n",
    "                a_prime -= r[j][i]*q[:,j]\n",
    "            r[i][i] = norm(a_prime)    \n",
    "            q[:,i] = a_prime/r[i][i]  \n",
    "        A = dot(r,q)\n",
    "    return array([A[i][i] for i in range(n)])\n",
    "    \n",
    "    \n",
    "A = array([[8,-2,-2],[-2,4,-2],[-2,-2,13]])    \n",
    "hoffman_QR(A)    "
   ]
  },
  {
   "cell_type": "code",
   "execution_count": null,
   "metadata": {
    "collapsed": true
   },
   "outputs": [],
   "source": []
  }
 ],
 "metadata": {
  "kernelspec": {
   "display_name": "Python 3",
   "language": "python",
   "name": "python3"
  },
  "language_info": {
   "codemirror_mode": {
    "name": "ipython",
    "version": 3
   },
   "file_extension": ".py",
   "mimetype": "text/x-python",
   "name": "python",
   "nbconvert_exporter": "python",
   "pygments_lexer": "ipython3",
   "version": "3.4.1"
  }
 },
 "nbformat": 4,
 "nbformat_minor": 0
}
