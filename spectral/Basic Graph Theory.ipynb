{
 "cells": [
  {
   "cell_type": "code",
   "execution_count": 19,
   "metadata": {
    "collapsed": false
   },
   "outputs": [
    {
     "name": "stdout",
     "output_type": "stream",
     "text": [
      "Populating the interactive namespace from numpy and matplotlib\n"
     ]
    }
   ],
   "source": [
    "%pylab inline\n",
    "import networkx as nx\n",
    "seed(134)"
   ]
  },
  {
   "cell_type": "markdown",
   "metadata": {},
   "source": [
    "#Introduction\n",
    "\n",
    "Graphs are everywhere. \n",
    "\n",
    "Here's one:"
   ]
  },
  {
   "cell_type": "code",
   "execution_count": 20,
   "metadata": {
    "collapsed": false
   },
   "outputs": [
    {
     "data": {
      "image/png": "[encoded data removed]",
      "text/plain": [
       "<matplotlib.figure.Figure at 0xb043c80c>"
      ]
     },
     "metadata": {},
     "output_type": "display_data"
    }
   ],
   "source": [
    "G = nx.Graph(array([[0,1,1,0,0,0],[1,0,1,0,0,0],[1,1,0,1,0,0],[0,0,1,0,1,1],[0,0,0,1,0,1],[0,0,0,1,1,0]]))\n",
    "nx.draw(G)"
   ]
  },
  {
   "cell_type": "markdown",
   "metadata": {},
   "source": [
    "\"First, we recall that a graph G = (V, E) is specified by its vertex1\n",
    "set, V , and edge set E. In an\n",
    "undirected graph, the edge set is a set of unordered pairs of vertices. Unless otherwise specified, all\n",
    "graphs will be undirected, simple (having no loops or multiple edges) and finite. We will sometimes\n",
    "assign weights to edges. These will usually be real numbers. If no weights have been specified, we\n",
    "view all edges as having weight 1. This is an arbitrary choice, and we should remember that it has\n",
    "an impact.\""
   ]
  },
  {
   "cell_type": "markdown",
   "metadata": {
    "collapsed": true
   },
   "source": [
    "\"An edge {x,y} is said to join the vertices x and y and is denoted by xy. Thus xy and yx mean exactly the same edge. If $xy \\in E(G)$, then x and y are adjacent, or neighboring, vertices of G.\n",
    "\n",
    "The <i>order</i> of G is the number of vertices in G; it is denoted by |G|. The <i>size</i> of G is the number of edges in G. The size of a graph of order n is at least 0 and at most $n \\choose 2$. A graph of order n and size $n \\choose 2$ is called a complete graph.\n",
    "\n",
    "The set of vertices adjacent to a vertex $x \\in G$ is denoted by $\\Gamma(x)$. Also, $x \\sim y$, and $y \\sim x$ are all equivalent. The <i>degree </i> of x is $d(x) = |\\Gamma(x)|$. The <i>minimal degree</i> of the vertices of a graph G is denoted by $\\delta (G)$ and the <i>maximal degree</i> by $\\Delta (G) $. A vertex of degree 0 is said to be an <i>isolated</i> vertex. If $\\delta (G) = \\Delta (G) = k$, that is, every vertex of G has degree k, then G is said to be <i>k-regular</i> \""
   ]
  },
  {
   "cell_type": "markdown",
   "metadata": {
    "collapsed": true
   },
   "source": [
    "\"By definition a graph does not contain a <i>loop</i>, an 'edge' joining a vertex to itself; neither does it contain <i>multiple edges</i>, that is, several 'edges' joining the same two vertices. In a <i>multigraph</i> both multiple edges and and multiple loops. When there is any danger of confusion, graphs are called <i>simple graphs</i>.\n",
    "\n",
    "If the edges are <i>ordered</i> pairs of vertices, then we get the notions of a <i>directed graph</i> and <i>directed multigraph</i>. An ordered pair $(a,b)$ is said to be an edge <i>directed from $a$ to $b$</i>. A vertex $x$ of a directed graph has an outdegree and an indegree: the <i>outdegree</i> $d^+(x)$ is the number of edges starting at $x$, and the <i>indegree</i> $d^-(x)$ is the number of edges ending at $x$\n",
    "\n",
    "A <i>path</i> is a graph P of the form\n",
    "\n",
    "$$V(P) = \\{x_0, x_1, ..., x_l\\}, ~~~~ E(P) = \\{x_0 x_1, x_1 x_2, ... , x_{l-1} x_l\\}.$$\n",
    "\n",
    "This path P is usually denoted by $x_0 x_1 ... x_l$ and $l = e(P)$, where $e(G)$ is the size or the number of edges in G, is called the <i>length</i> of P.\n",
    "\n",
    "A graph is <i>connected</i> if for every pair $\\{x, y\\}$ of distinct vertices there is a path from $x$ to $y$.\n",
    "\n",
    "\n",
    "\""
   ]
  },
  {
   "cell_type": "markdown",
   "metadata": {},
   "source": [
    "\"There are several matrices naturally associated with a graph and its vector spaces. The adjacency matrix $A = A(G) = (a_{ij})$ of a graph $G$ is the $n \\times n$ matrix given by\n",
    "\n",
    "$$a_{ij} = \\begin{cases} 1 ~~ if v_i v_j \\in E(G) \\\\ 0 ~~ otherwise \\end{cases}$$\n",
    "\n",
    "Let $D = (D_{ij})$ be the $n \\times n$ diagonal matrix with $D_{ii} = d(v_i)$, the degree of $v_i$ in G.  The matrix $L = D - A$ is called the <i>combinatorial Laplacian</i> or <i>Kirchhoff matrix</i>. \n",
    "\n",
    "The vertex space $C_0(G)$ of a graph G is the complex vector space of all functions from V(G) into $\\mathbb{C}$. Once again we take $V(G) = \\{v_1, v_2, ... , v_n\\}$, so that dim $C_0(G) = n$,  and we write the elements of  $C_0(G)$ in the form $\\mathbf {x} = \\sum_{i=1}^n x_i v_i$ or $\\mathbf{x} = (x_i)_1^n$; here $x_i$ is the value of $\\bf{x}$ at $v_i$, also called the <i>weight</i> at $v_i$. The space  $C_0(G)$ is given the natural inner prodeuct associated with the basis $(v_i)_1^n$ :   $~~<\\mathbf{ x} , \\mathbf{ y}> = \\sum_{i=1}^n x_i \\bar {y_i}$. \n",
    "\n",
    "\""
   ]
  },
  {
   "cell_type": "markdown",
   "metadata": {},
   "source": [
    "\"\n",
    "The adjacency matrix A is real and symmetric, so it is <i>hermition</i>, that is, $<A \\mathbf{x}, \\mathbf{y}> = < \\mathbf{x}, A \\mathbf{y}>$. Hence its <i>numerical range</i>\n",
    "\n",
    "$$V(A) = \\{ <A \\mathbf{x}, \\mathbf{x}> : ~~~||\\mathbf{x}|| = 1 \\}$$\n",
    "\n",
    "is a closed interval of the real line. \n",
    "\n",
    "The <i>distinct</i> eigenvalues of A are real, say $\\mu_1 > \\mu_2 > ... > \\mu_t$, and V(A) is exactly the interval $[\\mu_t , \\mu_1]$ (I need a proof for that) \n",
    "\n",
    "\n",
    "\""
   ]
  },
  {
   "cell_type": "code",
   "execution_count": null,
   "metadata": {
    "collapsed": true
   },
   "outputs": [],
   "source": []
  }
 ],
 "metadata": {
  "kernelspec": {
   "display_name": "Python 3",
   "language": "python",
   "name": "python3"
  },
  "language_info": {
   "codemirror_mode": {
    "name": "ipython",
    "version": 3
   },
   "file_extension": ".py",
   "mimetype": "text/x-python",
   "name": "python",
   "nbconvert_exporter": "python",
   "pygments_lexer": "ipython3",
   "version": "3.4.1"
  }
 },
 "nbformat": 4,
 "nbformat_minor": 0
}
