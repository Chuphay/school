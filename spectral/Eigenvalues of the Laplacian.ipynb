{
 "cells": [
  {
   "cell_type": "code",
   "execution_count": 2,
   "metadata": {
    "collapsed": false
   },
   "outputs": [
    {
     "name": "stdout",
     "output_type": "stream",
     "text": [
      "Populating the interactive namespace from numpy and matplotlib\n"
     ]
    }
   ],
   "source": [
    "%pylab inline"
   ]
  },
  {
   "cell_type": "markdown",
   "metadata": {},
   "source": [
    "##The Eigenvalues of the Laplacian\n",
    "\n",
    "In this notebook we will find out how to get the eigenvalues of the Laplacian. We will do this by using the QR method. I used two sources for implementing the QR method, and the two methods are slightly different, but naturally give the same result. The first method is based off of the method presented in Hoffman's Numerical Analysis Book."
   ]
  },
  {
   "cell_type": "markdown",
   "metadata": {},
   "source": [
    "### Hoffman's QR Method\n",
    "\n",
    "\n",
    "$$A = \\left[ \\begin{matrix} a_{11} ~ a_{12}~ ... ~a_{1n}\\\\ a_{21} ~a_{22} ~... ~a_{2n}\\\\ . ~~ . ~~ .\\\\ a_{n1}  ~ a_{n2} ~ ... ~ a_{nn} \\end{matrix} \\right]= [\\mathbf{a}_1 ~~ \\mathbf{a}_2 ~ . ~ . ~ .  ~~  \\mathbf{a}_n]$$\n",
    "\n",
    "\n",
    "Use the Gram-Schmidt process:\n",
    "\n",
    "$$\\mathbf{q}_1= \\frac{\\mathbf{a}_1} {||\\mathbf{a}_1||}$$\n",
    "\n",
    "$$\\mathbf{a}'_2 = \\mathbf{a}_2 - (\\mathbf{q}_1^T \\mathbf{a}_2) \\mathbf{q}_1$$\n",
    "\n",
    "$$\\mathbf{q}_2= \\frac{\\mathbf{a}'_2} {||\\mathbf{a}'_2||}$$\n",
    "\n",
    "$$\\mathbf{a}'_3 = \\mathbf{a}_3 - (\\mathbf{q}_1^T \\mathbf{a}_3) \\mathbf{q}_1 - (\\mathbf{q}_2^T \\mathbf{a}_3) \\mathbf{q}_2$$\n",
    "\n",
    "$$\\mathbf{q}_3= \\frac{\\mathbf{a}'_3} {||\\mathbf{a}'_3||}$$\n",
    "\n",
    "and so on...\n",
    "\n",
    "The matrix <b>Q</b> is composed of the column vectors\n",
    "\n",
    "The matrix <b>R</b> is assembled from the elements computed in the evaluation of <b>Q</b>\n",
    "\n",
    "$$r_{i,i} = ||\\mathbf{a}'_i||$$\n",
    "\n",
    "$$r_{i,j} = \\mathbf{q}_i^T \\mathbf{a}_j ~~~~~~ \\text{where} ~~~~ j=i+1, ..., n$$\n",
    "\n",
    "The first step in the QR process is to set $\\mathbf{A}^{(0)} = \\mathbf{A}$ and factor $\\mathbf{A}^{(0)}$ by the Gram-Schmidt process into $\\mathbf{Q}^{(0)}$ and $\\mathbf{R}^{(0)}$. The next step is to reverse the factors  $\\mathbf{Q}^{(0)}$ and $\\mathbf{R}^{(0)}$ to obtain\n",
    "\n",
    "$$\\mathbf{A}^{(1)} =  \\mathbf{R}^{(0)} \\mathbf{Q}^{(0)} $$\n",
    "\n",
    "$\\mathbf{A}^{(1)}$ is similar to $\\mathbf{A}$, so the eigenvalues are preserved. $\\mathbf{A}^{(1)}$ is factored by the Gram-Schmidt process to obtain $\\mathbf{Q}^{(1)}$ and $\\mathbf{R}^{(1)}$, and the factors are reversed to obtain $\\mathbf{A}^{(2)}$. Thus,\n",
    "\n",
    "$$\\mathbf{A}^{(2)} =  \\mathbf{R}^{(1)} \\mathbf{Q}^{(1)} $$\n",
    "\n",
    "The process is continued to determine $\\mathbf{A}^{(3)}, \\mathbf{A}^{(4)}, ... , \\mathbf{A}^{(n)}$. When $\\mathbf{A}^{(n)}$ approaches triangular form, within some tolerance, the eigenvalues of $\\mathbf{A}$ are the diagonal elements."
   ]
  },
  {
   "cell_type": "code",
   "execution_count": 5,
   "metadata": {
    "collapsed": false
   },
   "outputs": [
    {
     "data": {
      "text/plain": [
       "array([ 4.,  2.,  2., -0.])"
      ]
     },
     "execution_count": 5,
     "metadata": {},
     "output_type": "execute_result"
    }
   ],
   "source": [
    "def hoffman_QR(a):\n",
    "    A = a.astype(float)\n",
    "    n = A.shape[0]\n",
    "    q = zeros((n,n))\n",
    "    r = zeros((n,n))\n",
    "    a_prime = zeros(n)\n",
    "    for k in range(20):\n",
    "        for i in range(n):\n",
    "            a_prime = A[:,i]\n",
    "            for j in range(i):\n",
    "                r[j][i] = dot(q[:,j], A[:,i])\n",
    "                a_prime -= r[j][i]*q[:,j]\n",
    "            r[i][i] = norm(a_prime)    \n",
    "            q[:,i] = a_prime/r[i][i]  \n",
    "        A = dot(r,q)\n",
    "    return array([around(A[i][i],8) for i in range(n)])\n",
    "    \n",
    "    \n",
    "A = array([[2,-1,-1,0],[-1,2,0,-1],[-1,0,2,-1],[0,-1,-1,2]])    \n",
    "hoffman_QR(A)   "
   ]
  },
  {
   "cell_type": "markdown",
   "metadata": {},
   "source": [
    "###Tamu's method\n",
    "\n",
    "The next method I found is based on Householder's matrices and is implemented based on my readings from: http://www.math.tamu.edu/~dallen/linear_algebra/chpt6.pdf\n",
    "\n",
    "\n",
    "\"The basis for the QR method for calculating the eigenvalues of A is the fact that an $n \\times n$ real matrix can be written as \n",
    "\n",
    "$$A = QR$$\n",
    "\n",
    "where Q is orthogonal and R is upper triangular. (I'll probably need some of these definitions as well later). The method is efficient for the calculation of all eigenvalues of a matrix.\"\n",
    "\n",
    "\"The construction of Q and R proceeds as follows. Matrices $P_1, P_2, ... , P_{n-1}$ are constructed so that $P_{n-1}P_{n-2}\\cdot \\cdot \\cdot P_2 P_1 A = R$ is upper triangular. These matrices can be chosen as orthogonal matrices and are called <i>householder matrices</i>. If we let \n",
    "\n",
    "$$Q^T = P_{n-1}P_{n-2}\\cdot \\cdot \\cdot P_2 P_1$$\n",
    "\n",
    "then we have $Q^T A = R$\" and therefore $A = QR$ (because of orthogonality or something like that)\n",
    "\n",
    "\"We discuss the construction of the P's presently. First we state how the QR factorization of A is used to find eigenvalues of A. We define sequences of matrices $A_1, A_2, ..., A_m, ...; Q_1, Q_2, ..., Q_m, ... ; R_1, R_2, ..., R_m, ...$ by this process:\n",
    "\n",
    "<b>Step 1.</b> Set $A_1 = A, Q_1 = Q$ and $R_1 = R$\n",
    "\n",
    "<b>Step 2.</b> Set $A_2 = R_{1} Q_{1}$; then factor $A_2$ as $A_2 = Q_2 R_2$ (QR factorization of $A_2$)\n",
    "\n",
    "<b>Step m.</b> Set $A_m = R_{m-1} Q_{m-1}$; then factor $A_m$ as $A_m = Q_m R_m$ (QR factorization of $A_m$)\n",
    "\n",
    "\n",
    "\"Matrix $A_m$ will tend toward a triangular or nearly triangular  form. Thus the eigenvalues will of $A_m$ will be easy to calculate\",i.e., they're just the diagonal entries \". The importance is that if the eigenvalues can be ordered as $|\\lambda_1|>|\\lambda_2|> ... > |\\lambda_n|>0$, then the following is true:\n",
    "\n",
    "As m increases the eigenvalues of $A_m$ approach the eigenvalues of A.\n",
    "\n",
    "The proof of this fact is well beyond the scope of this book.\n",
    "\n",
    "Furthermore, \"If A is symmetric, matrices $A_m$ converge to a diagonal matrix with the eigenvalues on the diagonal\"\n",
    "\n",
    "\"Finally, after we find the eigenvalues of A, the corresponding eigenvectors can be found by solving $(\\lambda \\mathbb{I} - A) X = 0$, subject to some side condition such as $|X| = 1$\"\n",
    "\n",
    "\n",
    "\n",
    "\n",
    "\n",
    "\"The idea in QR factorization is to first find $P_1$ which, when multiplied on the left of A, will produce zeros belos $a_{11}$. That is, we want\n",
    "\n",
    "$$P_1 \\left(\\begin{matrix} \n",
    "a_{11} \\ a_{12} \\ ... \\ a_{1n} \\\\\n",
    "a_{21} \\ a_{22} \\ ... \\ a_{2n} \\\\\n",
    "\\vdots \\ ~~~ \\ddots \\ ~~~ \\vdots \\\\\n",
    "a_{n1} \\ a_{n2} \\ ... \\ a_{nn}\\\\\n",
    "\\end{matrix}\\right)\n",
    "=\n",
    " \\left(\\begin{array} \n",
    "\\tilde {a_{11}} \\ ~~ \\tilde {a_{12}} \\ ... \\ \\tilde {a_{1n}} \\\\\n",
    "\\textbf{0} \\ ~~ \\tilde {a_{22}} \\ ... \\ \\tilde {a_{2n}} \\\\\n",
    "\\vdots \\ ~~~~~ \\ddots \\ ~~~~~ \\vdots \\\\\n",
    "\\textbf{0} \\ ~~ \\tilde {a_{n2}} \\ ... \\ \\tilde {a_{nn}}\\\\\n",
    "\\end{array}\\right)\n",
    "$$\n",
    "\n",
    "After this is done, we find $P_2$ which will produce\n",
    "\n",
    "\n",
    "$$P_2 P_1 A = P_2  \\left(\\begin{matrix} \n",
    "\\tilde {a_{11}} \\ ~~ \\tilde {a_{12}} \\ ... \\ \\tilde {a_{1n}} \\\\\n",
    "\\textbf{0} \\ ~~ \\tilde {a_{22}} \\ ... \\ \\tilde {a_{2n}} \\\\\n",
    "\\vdots \\ ~~~~~ \\ddots \\ ~~~~~ \\vdots \\\\\n",
    "\\textbf{0} \\ ~~ \\tilde {a_{n2}} \\ ... \\ \\tilde {a_{nn}}\\\\\n",
    "\\end{matrix}\\right)=\n",
    " \\left(\\begin{matrix} \n",
    "\\hat {a_{11}} \\ ~ \\hat {a_{12}} ~ \\hat {a_{13}} \\ ... \\ \\hat {a_{1n}} \\\\\n",
    "\\textbf{0} \\ ~ \\hat {a_{22}} ~ \\hat {a_{23}} \\ ... \\ \\hat {a_{2n}} \\\\\n",
    "\\textbf{0} \\ ~~ \\textbf {0} ~~~~~ \\hat {a_{33}}  \\ ... \\ ~~ \\hat {a_{3n}} \\\\\n",
    "\\vdots \\ ~~~~ \\ddots \\ ~~~~~ \\vdots \\\\\n",
    "\\textbf{0} \\ ~~~~~ \\textbf{0} \\ ~~ \\hat {a_{3n}} \\ ... \\ \\hat {a_{nn}}\\\\\n",
    "\\end{matrix}\\right)\n",
    "$$\n",
    "\n",
    "And we do this repeatedly until convergence:"
   ]
  },
  {
   "cell_type": "code",
   "execution_count": 8,
   "metadata": {
    "collapsed": false
   },
   "outputs": [
    {
     "data": {
      "text/plain": [
       "array([  4.00000000e+00,   2.00000000e+00,   2.00000000e+00,\n",
       "         3.52765928e-17])"
      ]
     },
     "execution_count": 8,
     "metadata": {},
     "output_type": "execute_result"
    }
   ],
   "source": [
    "def tamu_QR(a):\n",
    "    A = a.astype(float)\n",
    "    n = len(A)\n",
    "    for j in range(20):\n",
    "        for k in range(n-1):\n",
    "            a = A[:,k]\n",
    "            lower_norm = sqrt(sum([a[i]**2 for i in range(k,n)]))\n",
    "            alpha = - (sign(a[k])) * lower_norm\n",
    "            r = sqrt(0.5*(alpha**2 - a[k]*alpha))\n",
    "            w = zeros(n)\n",
    "            w[k] = (a[k] - alpha)/(2*r)\n",
    "            for i in range(k+1,n):\n",
    "                w[i] = a[i]/(2*r)\n",
    "            p = eye(n) - 2*outer(w,w.T)\n",
    "            R = dot(p,A)\n",
    "            A = dot(R,p)\n",
    "  \n",
    "    return array([A[i][i] for i in range(n)])\n",
    "    \n",
    "    \n",
    "A = array([[2,-1,-1,0],[-1,2,0,-1],[-1,0,2,-1],[0,-1,-1,2]]) \n",
    "tamu_QR(A)  "
   ]
  }
 ],
 "metadata": {
  "kernelspec": {
   "display_name": "Python 3",
   "language": "python",
   "name": "python3"
  },
  "language_info": {
   "codemirror_mode": {
    "name": "ipython",
    "version": 3
   },
   "file_extension": ".py",
   "mimetype": "text/x-python",
   "name": "python",
   "nbconvert_exporter": "python",
   "pygments_lexer": "ipython3",
   "version": "3.4.1"
  }
 },
 "nbformat": 4,
 "nbformat_minor": 0
}
