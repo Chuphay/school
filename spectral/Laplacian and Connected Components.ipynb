{
 "cells": [
  {
   "cell_type": "markdown",
   "metadata": {},
   "source": [
    "##The Laplacian and the Number of Connected Components"
   ]
  },
  {
   "cell_type": "markdown",
   "metadata": {},
   "source": [
    "\"There are several matrices naturally associated with a graph and its vector spaces. The adjacency matrix $A = A(G) = (a_{ij})$ of a graph $G$ is the $n \\times n$ matrix given by\n",
    "\n",
    "$$a_{ij} = \\begin{cases} 1 ~~ if v_i v_j \\in E(G) \\\\ 0 ~~ otherwise \\end{cases}$$\n",
    "\n",
    "Let $D = (D_{ij})$ be the $n \\times n$ diagonal matrix with $D_{ii} = d(v_i)$, the degree of $v_i$ in G.  The matrix $L = D - A$ is called the <i>combinatorial Laplacian</i> or <i>Kirchhoff matrix</i>. \n",
    "\n",
    "The vertex space $C_0(G)$ of a graph G is the complex vector space of all functions from V(G) into $\\mathbb{C}$. Once again we take $V(G) = \\{v_1, v_2, ... , v_n\\}$, so that dim $C_0(G) = n$,  and we write the elements of  $C_0(G)$ in the form $\\mathbf {x} = \\sum_{i=1}^n x_i v_i$ or $\\mathbf{x} = (x_i)_1^n$; here $x_i$ is the value of $\\bf{x}$ at $v_i$, also called the <i>weight</i> at $v_i$. The space  $C_0(G)$ is given the natural inner prodeuct associated with the basis $(v_i)_1^n$ :   $~~<\\mathbf{ x} , \\mathbf{ y}> = \\sum_{i=1}^n x_i \\bar {y_i}$. \n",
    "\n",
    "\""
   ]
  },
  {
   "cell_type": "markdown",
   "metadata": {},
   "source": [
    "\"\n",
    "The adjacency matrix A is real and symmetric, so it is <i>hermition</i>, that is, \n",
    "\n",
    "$$ < A \\mathbf{x}, \\mathbf{y}> = < \\mathbf{x}, A \\mathbf{y}>$$. \n",
    "\n",
    "Hence its <i>numerical range</i>\n",
    "\n",
    "$$V(A) = \\{ < A \\mathbf{x}, \\mathbf{x}> : ~~~ ||\\mathbf{x}|| = 1 \\}$$\n",
    "\n",
    "is a closed interval of the real line. \n",
    "\n",
    "The <i>distinct</i> eigenvalues of A are real, say $\\mu_1 > \\mu_2 > ... > \\mu_t$, and V(A) is exactly the interval $[\\mu_t , \\mu_1]$ (I need a proof for that) \n",
    "\n",
    "\n",
    "\""
   ]
  },
  {
   "cell_type": "markdown",
   "metadata": {},
   "source": [
    "###The Laplacian\n",
    "\n",
    "\"In a graph G, let $d_v$ denote the degree of the vertex $v$. We first define the Laplacian for graphs without loops and multiple edges. To begin, we consider the matrix L,\n",
    "\n",
    "$$L(u,v) = \\begin{cases} \n",
    "                  d_v ~~~if ~~u = v\\\\\n",
    "                  -1 ~~~~if ~~ u \\sim v\\\\\n",
    "                  0 ~~~~otherwise\n",
    "                \\end{cases}\n",
    "              $$\n",
    "              \n",
    "Let T denote the diagonal matrix with the $(v,v)$-th entry having value $d_v$. The Laplacian\n",
    "\n",
    "$$\\mathcal{L}(u,v) = \\begin{cases} \n",
    "        1 ~~~ if ~~ u = v\\\\ \n",
    "        -1/{\\sqrt{d_u d_v}} ~~~~ if ~~ u \\sim v \\\\\n",
    "        0 ~~~~ otherwise \n",
    "        \\end{cases}   $$\n",
    "\n",
    "\n",
    "$$\\rightarrow  \\mathcal{L} = T^{-1/2} L T^{-1/2} $$\n",
    "\n",
    "with the convention $T^{-1}(v,v) = 0$ if $d_v = 0$.\n",
    "\n",
    "\""
   ]
  },
  {
   "cell_type": "markdown",
   "metadata": {},
   "source": [
    "\"\n",
    "\n",
    "We say $v$ is an isolated vertex if $d_v = 0$. A graph is said to be non-trivial if it contains at least one edge.\n",
    "\n",
    "When G is k-regular, it is easy to see that\n",
    "\n",
    "$$\\mathcal{L} = \\mathbb{I} - \\frac 1 k A$$\n",
    "\n",
    "Where $A$ is the adjacency matrix\n",
    "\n",
    "$$--------------------------$$\n",
    "\n",
    "$\\mathcal{L} $ can be viewed as an operator in the space of functions $g:V(G) \\rightarrow \\mathbb{R}$ which satisfies\n",
    "\n",
    "$$\\mathcal{L} ~ g(u) = \\frac 1 {\\sqrt{d_u}} \\sum_{\\substack{v\\\\ v \\sim u}} \\left( \\frac {g(u)}{\\sqrt{d_u}} - \\frac {g(v)}{\\sqrt{d_v}} \\right)$$\n",
    "\n",
    "\"\n",
    "\n",
    "We need to define the inner product:\n",
    "\n",
    "$$<f,g> = \\sum_x f(x) g(x)$$\n"
   ]
  },
  {
   "cell_type": "markdown",
   "metadata": {
    "collapsed": true
   },
   "source": [
    "###Connected Components\n",
    "\n",
    "Generally speaking, we are really only interested in connected graphs. Graphs that are disconnected can always be handled on the individually connected graphs. What that means is that we need a method to find out how many connected components are in a graph.\n",
    "\n",
    "The first thing that we should notice is that the Laplacian is not invertible. How do we know this? Let us think of a really small graph, let's say just two nodes, connected with a single edge. The Laplacian of course will then look like:\n",
    "\n",
    "$$L = \\left(\\begin{matrix} 1 \\ -1 \\\\ -1 ~~~~ \\ 1 \\end{matrix}\\right)$$\n",
    "\n",
    "What should be sort of clear is that all the information we need is contained in the first row of the matrix. From just the first row, we know that, node 1 is connected to node two. Looking at the second row just brings us redundant information. Now I am no expert on linear algebra, but I believe what this means is that, the matrix does not span the space and therefore does not have an inverse.\n",
    "\n",
    "Let's look at a couple more examples to gain a little intuition about this. The next most easy graph, is the graph with 3 vertices and 2 edges connecting the three, the Laplacian is wtritten:\n",
    "\n",
    "$$L = \\left(\\begin{matrix} 1 \\ -1 \\ ~~~~ 0 \\\\ -1 ~~~~ \\ 2 \\ -1 \\\\ 0 \\ -1 \\ ~~~~ 1 \\end{matrix}\\right)$$\n",
    "\n",
    "Again we, can go through this row by row, to see what information we have. The first row tells us that node 1 and node 2 are connected. The second row tells us that, in addition to what we already know, node 2 is connected to node 3. And finally, the third row tells us that node 3 is connected to node 2, but again that is redundant information.\n",
    "\n",
    "As a final example, let us consider an unconnected graph, with say 4 nodes, with an edge between node 1 and node 2 and an edge between node 3 and node 4. Here's the Laplacian:\n",
    "\n",
    "$$L = \\left(\\begin{matrix} 1 \\ -1 \\ ~~~~ 0 \\ ~~~~ 0 \\\\ -1 ~~~~ \\ 1 \\ ~~~~ 0 \\ ~~~~ 0 \\\\ 0 ~~~~ \\ 0 ~~~~ \\ 1\\ -1 \\\\ 0 ~~~~ \\ 0 ~~~~ \\ -1 \\ ~~~~ 1 \\end{matrix}\\right)$$\n",
    "\n",
    "We again step through this row by row. The first row tells us that node 1 and node 2 are connected. The second row gives us redundant information. The third row tells us that node 3 and node 4. While the last row again yields no new insight.\n",
    "\n",
    "What this means is that we now have a way to figure out how many connected components there are. We are looking for rows that give no additional insight. We can solve this easily by using Gaussian Elimination:"
   ]
  },
  {
   "cell_type": "code",
   "execution_count": 6,
   "metadata": {
    "collapsed": false
   },
   "outputs": [
    {
     "name": "stdout",
     "output_type": "stream",
     "text": [
      "Using matplotlib backend: Qt4Agg\n",
      "Populating the interactive namespace from numpy and matplotlib\n"
     ]
    }
   ],
   "source": [
    "%pylab"
   ]
  },
  {
   "cell_type": "code",
   "execution_count": 7,
   "metadata": {
    "collapsed": false
   },
   "outputs": [
    {
     "data": {
      "text/plain": [
       "2"
      ]
     },
     "execution_count": 7,
     "metadata": {},
     "output_type": "execute_result"
    }
   ],
   "source": [
    "def connected_components(L):\n",
    "    n = L.shape[0]\n",
    "    b = L.astype(float) # 2 for 1: Takes care of deep copy and the float bug\n",
    "    out = 0\n",
    "    for i in range(n):\n",
    "        if(b[i][i] == 0):\n",
    "            out += 1\n",
    "            continue\n",
    "        for j in range(i+1,n):\n",
    "            b[j] -= b[i]*b[j][i]/b[i][i]  \n",
    "    return out\n",
    "\n",
    "L = array([[2,-1,-1,0,0],[-1,2,-1,0,0],[-1,-1,2,0,0],[0,0,0,1,-1],[0,0,0,-1,1]])\n",
    "connected_components(L)"
   ]
  },
  {
   "cell_type": "markdown",
   "metadata": {},
   "source": [
    "As a further bonus, we can make some random matrices to try our code on. \n",
    "\n",
    "Below I've made two random graph generators, one that makes graphs with unweighted edges and another that makes graphs with weighted edges."
   ]
  },
  {
   "cell_type": "code",
   "execution_count": 8,
   "metadata": {
    "collapsed": false
   },
   "outputs": [
    {
     "name": "stdout",
     "output_type": "stream",
     "text": [
      "[[ 2.62998377 -0.62717873 -0.9245519  -1.07825314]\n",
      " [-0.62717873  4.33938687 -1.97516345 -1.73704469]\n",
      " [-0.9245519  -1.97516345  4.19435991 -1.29464456]\n",
      " [-1.07825314 -1.73704469 -1.29464456  4.10994239]]\n",
      "[[ 4 -1  0 -1  0 -1  0 -1  0  0]\n",
      " [-1  7  0 -1 -1 -1 -1  0 -1 -1]\n",
      " [ 0  0  4 -1  0 -1  0  0 -1 -1]\n",
      " [-1 -1 -1  6 -1 -1  0  0  0 -1]\n",
      " [ 0 -1  0 -1  6 -1 -1 -1 -1  0]\n",
      " [-1 -1 -1 -1 -1  6 -1  0  0  0]\n",
      " [ 0 -1  0  0 -1 -1  4 -1  0  0]\n",
      " [-1  0  0  0 -1  0 -1  4  0 -1]\n",
      " [ 0 -1 -1  0 -1  0  0  0  3  0]\n",
      " [ 0 -1 -1 -1  0  0  0 -1  0  4]]\n"
     ]
    }
   ],
   "source": [
    "def make_rand_weighted_L(n):\n",
    "    A = abs(randn(n**2)).reshape(n,n)\n",
    "    A += A.T\n",
    "    np.fill_diagonal(A, 0)\n",
    "    D = diag(A.sum(1))\n",
    "    L = D - A\n",
    "    return L\n",
    "\n",
    "def make_rand_unweighted_L(n, p):\n",
    "    A = [[0 for i in range(n)] for j in range(n)]\n",
    "    for i in range(n):\n",
    "        for j in range(i+1, n):\n",
    "            if(rand()<p):\n",
    "                A[i][j] = A[j][i] = 1\n",
    "    A = array(A)            \n",
    "    D = diag(A.sum(1))\n",
    "    L = D - A\n",
    "    return L                     \n",
    "    \n",
    "\n",
    "print(make_rand_weighted_L(4))\n",
    "print(make_rand_unweighted_L(10,0.6))"
   ]
  }
 ],
 "metadata": {
  "kernelspec": {
   "display_name": "Python 3",
   "language": "python",
   "name": "python3"
  },
  "language_info": {
   "codemirror_mode": {
    "name": "ipython",
    "version": 3
   },
   "file_extension": ".py",
   "mimetype": "text/x-python",
   "name": "python",
   "nbconvert_exporter": "python",
   "pygments_lexer": "ipython3",
   "version": "3.4.1"
  }
 },
 "nbformat": 4,
 "nbformat_minor": 0
}
