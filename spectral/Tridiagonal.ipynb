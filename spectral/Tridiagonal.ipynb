{
 "cells": [
  {
   "cell_type": "code",
   "execution_count": 1,
   "metadata": {
    "collapsed": false
   },
   "outputs": [
    {
     "name": "stdout",
     "output_type": "stream",
     "text": [
      "Populating the interactive namespace from numpy and matplotlib\n"
     ]
    }
   ],
   "source": [
    "%pylab inline"
   ]
  },
  {
   "cell_type": "code",
   "execution_count": 2,
   "metadata": {
    "collapsed": false
   },
   "outputs": [
    {
     "data": {
      "text/plain": [
       "array([[ 4,  1, -2,  2],\n",
       "       [ 1,  2,  0,  1],\n",
       "       [-2,  0,  3, -2],\n",
       "       [ 2,  1, -2, -1]])"
      ]
     },
     "execution_count": 2,
     "metadata": {},
     "output_type": "execute_result"
    }
   ],
   "source": [
    "A = array([[4,1,-2,2],[1,2,0,1],[-2,0,3,-2],[2,1,-2,-1]])\n",
    "A"
   ]
  },
  {
   "cell_type": "code",
   "execution_count": 3,
   "metadata": {
    "collapsed": false
   },
   "outputs": [
    {
     "data": {
      "text/plain": [
       "array([[ 4.    , -3.    ,  0.    ,  0.    ],\n",
       "       [-3.    ,  3.3333, -1.6667, -0.    ],\n",
       "       [ 0.    , -1.6667, -1.32  , -0.9067],\n",
       "       [ 0.    ,  0.    , -0.9067,  1.9867]])"
      ]
     },
     "execution_count": 3,
     "metadata": {},
     "output_type": "execute_result"
    }
   ],
   "source": [
    "A = array([[4,1,-2,2],[1,2,0,1],[-2,0,3,-2],[2,1,-2,-1]])\n",
    "for k in range(len(A)-1):\n",
    "    n = len(A)\n",
    "    a = A[:,k]\n",
    "    lower_norm = sqrt(sum([a[i]**2 for i in range(k+1,n)]))\n",
    "    alpha = - (sign(a[k+1])) * lower_norm\n",
    "    r = sqrt(0.5*(alpha**2 - a[k+1]*alpha))\n",
    "    w = zeros(n)\n",
    "    w[k+1] = (a[k+1] - alpha)/(2*r)\n",
    "    for i in range(k+2,n):\n",
    "        w[i] = a[i]/(2*r)\n",
    "    p = eye(n) - 2*outer(w,w.T)\n",
    "    A = dot(dot(p,A),p)\n",
    "around(A, 4)"
   ]
  },
  {
   "cell_type": "code",
   "execution_count": 31,
   "metadata": {
    "collapsed": false
   },
   "outputs": [
    {
     "data": {
      "text/plain": [
       "array([ 13.87058484,   8.62043436,   2.5089808 ])"
      ]
     },
     "execution_count": 31,
     "metadata": {},
     "output_type": "execute_result"
    }
   ],
   "source": [
    "def tamu_QR(a):\n",
    "    #based on http://www.math.tamu.edu/~dallen/linear_algebra/chpt6.pdf\n",
    "    #actually, Im totally messing it up... but it seems to work???\n",
    "    #I think I understand why it works now\n",
    "    A = a.astype(float)\n",
    "    n = len(A)\n",
    "    for j in range(20):\n",
    "        for k in range(n-1):\n",
    "            a = A[:,k]\n",
    "            lower_norm = sqrt(sum([a[i]**2 for i in range(k,n)]))\n",
    "            alpha = - (sign(a[k])) * lower_norm\n",
    "            r = sqrt(0.5*(alpha**2 - a[k]*alpha))\n",
    "            w = zeros(n)\n",
    "            w[k] = (a[k] - alpha)/(2*r)\n",
    "            for i in range(k+1,n):\n",
    "                w[i] = a[i]/(2*r)\n",
    "            p = eye(n) - 2*outer(w,w.T)\n",
    "            R = dot(p,A)\n",
    "            A = dot(R,p)\n",
    "\n",
    "  \n",
    "    return array([A[i][i] for i in range(n)])\n",
    "    \n",
    "    \n",
    "A = array([[8,-2,-2],[-2,4,-2],[-2,-2,13]]) \n",
    "tamu_QR(A)    "
   ]
  },
  {
   "cell_type": "code",
   "execution_count": 46,
   "metadata": {
    "collapsed": false
   },
   "outputs": [
    {
     "data": {
      "text/plain": [
       "array([ 2.46703711,  1.47051509,  0.92393225])"
      ]
     },
     "execution_count": 46,
     "metadata": {},
     "output_type": "execute_result"
    }
   ],
   "source": [
    "def tamu_QR2(a):\n",
    "    #broken.... kind of confused\n",
    "    #based on http://www.math.tamu.edu/~dallen/linear_algebra/chpt6.pdf\n",
    "    A = a.astype(float)\n",
    "    temp_A = a.astype(float)\n",
    "    n = len(A)\n",
    "    for j in range(40):\n",
    "        Q = eye(n)\n",
    "        for k in range(n-1):\n",
    "            a = temp_A[:,k]\n",
    "            lower_norm = sqrt(sum([a[i]**2 for i in range(k,n)]))\n",
    "            alpha = - (sign(a[k])) * lower_norm\n",
    "            r = sqrt(0.5*(alpha**2 - a[k]*alpha))\n",
    "            w = zeros(n)\n",
    "            w[k] = (a[k] - alpha)/(2*r)\n",
    "            for i in range(k+1,n):\n",
    "                w[i] = a[i]/(2*r)\n",
    "            p = eye(n) - 2*outer(w,w.T)\n",
    "            temp_A = dot(p, temp_A)\n",
    "            Q = dot(p,Q)   \n",
    "        R = dot(Q,A)\n",
    "        A = dot(R,Q)\n",
    "        temp_A = A.astype(float)\n",
    "\n",
    "  \n",
    "    return array([A[i][i] for i in range(n)])\n",
    "    \n",
    "\n",
    "A = array([[2,1,1],[1,2,1],[1,1,2]]) \n",
    "#A = array([[8,-2,-2],[-2,4,-2],[-2,-2,13]]) \n",
    "tamu_QR2(A)    "
   ]
  },
  {
   "cell_type": "code",
   "execution_count": null,
   "metadata": {
    "collapsed": true
   },
   "outputs": [],
   "source": []
  }
 ],
 "metadata": {
  "kernelspec": {
   "display_name": "Python 3",
   "language": "python",
   "name": "python3"
  },
  "language_info": {
   "codemirror_mode": {
    "name": "ipython",
    "version": 3
   },
   "file_extension": ".py",
   "mimetype": "text/x-python",
   "name": "python",
   "nbconvert_exporter": "python",
   "pygments_lexer": "ipython3",
   "version": "3.4.1"
  }
 },
 "nbformat": 4,
 "nbformat_minor": 0
}
