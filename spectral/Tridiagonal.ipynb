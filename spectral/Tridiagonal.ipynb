{
 "cells": [
  {
   "cell_type": "code",
   "execution_count": 1,
   "metadata": {
    "collapsed": false
   },
   "outputs": [
    {
     "name": "stdout",
     "output_type": "stream",
     "text": [
      "Populating the interactive namespace from numpy and matplotlib\n"
     ]
    }
   ],
   "source": [
    "%pylab inline"
   ]
  },
  {
   "cell_type": "code",
   "execution_count": 26,
   "metadata": {
    "collapsed": false
   },
   "outputs": [
    {
     "data": {
      "text/plain": [
       "array([[ 4,  1, -2,  2],\n",
       "       [ 1,  2,  0,  1],\n",
       "       [-2,  0,  3, -2],\n",
       "       [ 2,  1, -2, -1]])"
      ]
     },
     "execution_count": 26,
     "metadata": {},
     "output_type": "execute_result"
    }
   ],
   "source": [
    "A = array([[4,1,-2,2],[1,2,0,1],[-2,0,3,-2],[2,1,-2,-1]])\n",
    "A"
   ]
  },
  {
   "cell_type": "code",
   "execution_count": 32,
   "metadata": {
    "collapsed": false
   },
   "outputs": [
    {
     "data": {
      "text/plain": [
       "array([[ 4.    , -3.    ,  0.    ,  0.    ],\n",
       "       [-3.    ,  3.3333, -1.6667, -0.    ],\n",
       "       [ 0.    , -1.6667, -1.32  , -0.9067],\n",
       "       [ 0.    ,  0.    , -0.9067,  1.9867]])"
      ]
     },
     "execution_count": 32,
     "metadata": {},
     "output_type": "execute_result"
    }
   ],
   "source": [
    "A = array([[4,1,-2,2],[1,2,0,1],[-2,0,3,-2],[2,1,-2,-1]])\n",
    "for k in range(n-1):\n",
    "    n = len(A)\n",
    "    a = A[:,k]\n",
    "    lower_norm = sqrt(sum([a[i]**2 for i in range(k+1,n)]))\n",
    "    alpha = - (sign(a[k+1])) * lower_norm\n",
    "    r = sqrt(0.5*(alpha**2 - a[k+1]*alpha))\n",
    "    w = zeros(n)\n",
    "    w[k+1] = (a[k+1] - alpha)/(2*r)\n",
    "    for i in range(k+2,n):\n",
    "        w[i] = a[i]/(2*r)\n",
    "    p = eye(n) - 2*outer(w,w.T)\n",
    "    A = dot(dot(p,A),p)\n",
    "around(A, 4)"
   ]
  },
  {
   "cell_type": "code",
   "execution_count": null,
   "metadata": {
    "collapsed": true
   },
   "outputs": [],
   "source": []
  }
 ],
 "metadata": {
  "kernelspec": {
   "display_name": "Python 3",
   "language": "python",
   "name": "python3"
  },
  "language_info": {
   "codemirror_mode": {
    "name": "ipython",
    "version": 3
   },
   "file_extension": ".py",
   "mimetype": "text/x-python",
   "name": "python",
   "nbconvert_exporter": "python",
   "pygments_lexer": "ipython3",
   "version": "3.4.1"
  }
 },
 "nbformat": 4,
 "nbformat_minor": 0
}
