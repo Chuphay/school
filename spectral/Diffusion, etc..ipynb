{
 "cells": [
  {
   "cell_type": "markdown",
   "metadata": {},
   "source": [
    "\"A linear homogeneous first-order system of differential equations, w constant coefficients, in the three functions $y_1 (t), y_2(t), y_3(t)$ is a set of equations of the form\n",
    "\n",
    "$$\\left( \\begin{matrix} \\dot{y_1} \\\\ \\dot{y_2} \\\\ \\dot{y_3} \\end{matrix} \\right) = \\left( \\begin{matrix} a_{11} \\ a_{12} \\ a_{13} \\\\ a_{21} \\ a_{22} \\ a_{23} \\\\ a_{31} \\ a_{32} \\ a_{33} \\end{matrix} \\right) \\left( \\begin{matrix} y_1 \\\\ y_2 \\\\ y_3 \\end{matrix} \\right)$$\n",
    "\n",
    "where $$\\dot{y_1} = \\frac {dy_1}{dt}$$"
   ]
  },
  {
   "cell_type": "markdown",
   "metadata": {},
   "source": [
    "\"Consider two cells which contain equal volumes of a salt solution. The boundary between the cells is a semipermeable membrane. Let $y_1(t)$ and $y_2(t)$ represent the amount of salt disolved in cells 1 and 2, respectively. A reasonable assumption is that the rate of change of the amount of salt in a cell due to passage through the membrane is proportional to the difference in the concentrations in the cells. This leads to the equations\n",
    "\n",
    "$$\\dot{y_1} = k (y_2 - y_1)$$\n",
    "\n",
    "$$\\dot{y_2} = k (y_1 - y_2)$$\n",
    "\n",
    "$$\\dot{Y} = \\left( \\begin{matrix} -k \\  ~~~~~~ k \\\\ ~~~ k \\ ~ -k \\end{matrix} \\right) Y $$"
   ]
  },
  {
   "cell_type": "markdown",
   "metadata": {},
   "source": [
    "Two solutions exist for these set of equations:\n",
    "\n",
    "$$Y = \\left( \\begin{matrix} c \\\\ c \\end{matrix} \\right)$$\n",
    "\n",
    "and\n",
    "\n",
    "$$Y = \\left( \\begin{matrix} c e^{-2t} \\\\ -c e^{-2t} \\end{matrix} \\right)$$\n",
    "\n",
    "The solutions are closely related to the eigenvectors and eigenvalues.\n",
    "\n",
    "$$A = \\left( \\begin{matrix} -1 \\  ~~~~~~ 1 \\\\ ~~~ 1 \\ ~ -1 \\end{matrix} \\right) $$\n",
    "\n",
    "which yields the following two eigenpairs:\n",
    "\n",
    "$$(-2, \\left( \\begin{matrix} a \\\\ -a \\end{matrix} \\right) ) ~~~ \\text{and} ~~~ (0, \\left( \\begin{matrix} b \\\\ b \\end{matrix} \\right) )$$\n",
    "\n",
    "The results indicate that if $(\\lambda, X)$ is an eigenpair of $A$, then\n",
    "\n",
    "$$e^{\\lambda t} X$$\n",
    "\n",
    "is a solution of \n",
    "\n",
    "$$\\dot{Y} = A Y$$"
   ]
  },
  {
   "cell_type": "markdown",
   "metadata": {},
   "source": [
    "\"Theorem: If $Y_1$ and $Y_2$ are solutions of $\\dot{Y} = A Y$ , then $c_1 Y_1 + c_2 Y_2$ is a solution also.\n",
    "\n",
    "A <b>general solution</b> of the system is\n",
    "\n",
    "$$c_1 \\left( \\begin{matrix} 1 \\\\ 1 \\end{matrix} \\right) + c_2 \\left( \\begin{matrix} e^{-2kt}\\\\ -e^{-2kt} \\end{matrix} \\right) = \\left( \\begin{matrix} c_1 + c_2 e^{-2kt} \\\\ c_1 - c_2 e^{-2kt} \\end{matrix} \\right)$$\n",
    "\n",
    "Notice, of course, that as $t \\rightarrow \\infty$\n",
    "\n",
    "$$Y \\rightarrow \\left( \\begin{matrix} c_1 \\\\ c_1 \\end{matrix} \\right)$$\n",
    "\n",
    "The diffusion system achieves the equilibrium state of equal concentrations."
   ]
  },
  {
   "cell_type": "markdown",
   "metadata": {},
   "source": [
    "\"Diffusion problems ordinarily include an <b>initial condition</b>: the amount of salt in each component at $t=0$. For example, if we began the system with $y_1(0) = 2$ and $y_2(0) = 1$, the solution would have to satisfy\n",
    "\n",
    "$$\\left( \\begin{matrix} 2 \\\\ 1 \\end{matrix} \\right) = \\left( \\begin{matrix} y_1(0) \\\\ y_2(0) \\end{matrix} \\right) = \\left( \\begin{matrix} c_1 +c_2 e^0 \\\\ c_1 - c_2 e^0 \\end{matrix} \\right) = \\left( \\begin{matrix} c_1 +c_2 \\\\ c_1-c_2 \\end{matrix} \\right)$$\n",
    "\n",
    "or $c_1 = 3/2$ and $c_2 = 1/2$"
   ]
  },
  {
   "cell_type": "markdown",
   "metadata": {},
   "source": [
    "\"To summarize: The general solution to\n",
    "\n",
    "$$\\dot{Y} = A Y$$\n",
    "\n",
    "where $A$ is diagonalizable with distinct eigenvalues, can be written\n",
    "\n",
    "$$Y = c_1 e^{-\\lambda_1 t} X_1 +c_2 e^{-\\lambda_2 t} X_2 + ... + c_n e^{-\\lambda_n t} X_n$$ \n",
    "\n",
    "where $\\lambda_1, \\lambda_2 ,... , \\lambda_n$ and $X_1, X_2 , ..., X_n$ are the eigenpairs of the matrix $A$. The constants $c_1, c_2, ... , c_n$ are determined exactly when an intitial condition is given.\n",
    "\n",
    "Finally, if we allow complex solutions of $\\text{det} (A - \\lambda I) = 0 $ to be used for eigenvalues, we can find solutions which are sine and cosine functions. For example,\n",
    "\n",
    "$$\\dot{Y} = \\left( \\begin{matrix} 0 \\ -1 \\\\ 1 \\ ~~~~~  0\\end{matrix} \\right) Y$$\n",
    "\n",
    "has solution \n",
    "\n",
    "$$Y = \\left( \\begin{matrix} \\cos t\\\\ \\sin t \\end{matrix} \\right)$$\n",
    "\n",
    "Note that the eigenvalues of \n",
    "\n",
    "$$\\left( \\begin{matrix} 0 \\ -1 \\\\ 1 \\ ~~~~~  0\\end{matrix} \\right)$$\n",
    "\n",
    "are $i$ and $-i$ with eigenvectors $\\left( \\begin{matrix} 1 \\\\-i \\end{matrix} \\right)$ and $\\left( \\begin{matrix} 1 \\\\i \\end{matrix} \\right)$, respectively. Then\n",
    "\n",
    "$$Y = c_1 e^{-i t} \\left( \\begin{matrix} 1 \\\\-i \\end{matrix} \\right) + c_2 e^{i t} \\left( \\begin{matrix} 1 \\\\i \\end{matrix} \\right) =  \\left( \\begin{matrix} (c_1 + c_2) \\cos t + i(c_2 - c_1) \\sin t \\\\ i(c_2 -c_1) \\cos t - (c_1 + c_2) \\sin t \\end{matrix} \\right) $$"
   ]
  },
  {
   "cell_type": "markdown",
   "metadata": {},
   "source": [
    "hmmm... got myself kind of confused somewhere...."
   ]
  },
  {
   "cell_type": "code",
   "execution_count": null,
   "metadata": {
    "collapsed": true
   },
   "outputs": [],
   "source": []
  }
 ],
 "metadata": {
  "kernelspec": {
   "display_name": "Python 3",
   "language": "python",
   "name": "python3"
  },
  "language_info": {
   "codemirror_mode": {
    "name": "ipython",
    "version": 3
   },
   "file_extension": ".py",
   "mimetype": "text/x-python",
   "name": "python",
   "nbconvert_exporter": "python",
   "pygments_lexer": "ipython3",
   "version": "3.4.1"
  }
 },
 "nbformat": 4,
 "nbformat_minor": 0
}
