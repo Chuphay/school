{
 "cells": [
  {
   "cell_type": "code",
   "execution_count": 43,
   "metadata": {
    "collapsed": false
   },
   "outputs": [
    {
     "name": "stdout",
     "output_type": "stream",
     "text": [
      "Populating the interactive namespace from numpy and matplotlib\n"
     ]
    }
   ],
   "source": [
    "%pylab inline"
   ]
  },
  {
   "cell_type": "markdown",
   "metadata": {},
   "source": [
    "##Diffusions, etc."
   ]
  },
  {
   "cell_type": "markdown",
   "metadata": {},
   "source": [
    "\"A linear homogeneous first-order system of differential equations, w constant coefficients, in the three functions $y_1 (t), y_2(t), y_3(t)$ is a set of equations of the form\n",
    "\n",
    "$$\\left( \\begin{matrix} \\dot{y_1} \\\\ \\dot{y_2} \\\\ \\dot{y_3} \\end{matrix} \\right) = \\left( \\begin{matrix} a_{11} \\ a_{12} \\ a_{13} \\\\ a_{21} \\ a_{22} \\ a_{23} \\\\ a_{31} \\ a_{32} \\ a_{33} \\end{matrix} \\right) \\left( \\begin{matrix} y_1 \\\\ y_2 \\\\ y_3 \\end{matrix} \\right)$$\n",
    "\n",
    "where $$\\dot{y_1} = \\frac {dy_1}{dt}$$"
   ]
  },
  {
   "cell_type": "markdown",
   "metadata": {},
   "source": [
    "\"Consider two cells which contain equal volumes of a salt solution. The boundary between the cells is a semipermeable membrane. Let $y_1(t)$ and $y_2(t)$ represent the amount of salt disolved in cells 1 and 2, respectively. A reasonable assumption is that the rate of change of the amount of salt in a cell due to passage through the membrane is proportional to the difference in the concentrations in the cells. This leads to the equations\n",
    "\n",
    "$$\\dot{y_1} = k (y_2 - y_1)$$\n",
    "\n",
    "$$\\dot{y_2} = k (y_1 - y_2)$$\n",
    "\n",
    "$$\\dot{Y} = \\left( \\begin{matrix} -k \\  ~~~~~~ k \\\\ ~~~ k \\ ~ -k \\end{matrix} \\right) Y $$"
   ]
  },
  {
   "cell_type": "markdown",
   "metadata": {},
   "source": [
    "Two solutions exist for these set of equations:\n",
    "\n",
    "$$Y = \\left( \\begin{matrix} c \\\\ c \\end{matrix} \\right)$$\n",
    "\n",
    "and\n",
    "\n",
    "$$Y = \\left( \\begin{matrix} c e^{-2t} \\\\ -c e^{-2t} \\end{matrix} \\right)$$\n",
    "\n",
    "The solutions are closely related to the eigenvectors and eigenvalues.\n",
    "\n",
    "$$A = \\left( \\begin{matrix} -1 \\  ~~~~~~ 1 \\\\ ~~~ 1 \\ ~ -1 \\end{matrix} \\right) $$\n",
    "\n",
    "which yields the following two eigenpairs:\n",
    "\n",
    "$$(-2, \\left( \\begin{matrix} a \\\\ -a \\end{matrix} \\right) ) ~~~ \\text{and} ~~~ (0, \\left( \\begin{matrix} b \\\\ b \\end{matrix} \\right) )$$\n",
    "\n",
    "The results indicate that if $(\\lambda, X)$ is an eigenpair of $A$, then\n",
    "\n",
    "$$e^{\\lambda t} X$$\n",
    "\n",
    "is a solution of \n",
    "\n",
    "$$\\dot{Y} = A Y$$"
   ]
  },
  {
   "cell_type": "markdown",
   "metadata": {},
   "source": [
    "\"Theorem: If $Y_1$ and $Y_2$ are solutions of $\\dot{Y} = A Y$ , then $c_1 Y_1 + c_2 Y_2$ is a solution also.\n",
    "\n",
    "A <b>general solution</b> of the system is\n",
    "\n",
    "$$c_1 \\left( \\begin{matrix} 1 \\\\ 1 \\end{matrix} \\right) + c_2 \\left( \\begin{matrix} e^{-2kt}\\\\ -e^{-2kt} \\end{matrix} \\right) = \\left( \\begin{matrix} c_1 + c_2 e^{-2kt} \\\\ c_1 - c_2 e^{-2kt} \\end{matrix} \\right)$$\n",
    "\n",
    "Notice, of course, that as $t \\rightarrow \\infty$\n",
    "\n",
    "$$Y \\rightarrow \\left( \\begin{matrix} c_1 \\\\ c_1 \\end{matrix} \\right)$$\n",
    "\n",
    "The diffusion system achieves the equilibrium state of equal concentrations."
   ]
  },
  {
   "cell_type": "markdown",
   "metadata": {},
   "source": [
    "\"Diffusion problems ordinarily include an <b>initial condition</b>: the amount of salt in each component at $t=0$. For example, if we began the system with $y_1(0) = 2$ and $y_2(0) = 1$, the solution would have to satisfy\n",
    "\n",
    "$$\\left( \\begin{matrix} 2 \\\\ 1 \\end{matrix} \\right) = \\left( \\begin{matrix} y_1(0) \\\\ y_2(0) \\end{matrix} \\right) = \\left( \\begin{matrix} c_1 +c_2 e^0 \\\\ c_1 - c_2 e^0 \\end{matrix} \\right) = \\left( \\begin{matrix} c_1 +c_2 \\\\ c_1-c_2 \\end{matrix} \\right)$$\n",
    "\n",
    "or $c_1 = 3/2$ and $c_2 = 1/2$"
   ]
  },
  {
   "cell_type": "markdown",
   "metadata": {},
   "source": [
    "\"To summarize: The general solution to\n",
    "\n",
    "$$\\dot{Y} = A Y$$\n",
    "\n",
    "where $A$ is diagonalizable with distinct eigenvalues, can be written\n",
    "\n",
    "$$Y = c_1 e^{-\\lambda_1 t} X_1 +c_2 e^{-\\lambda_2 t} X_2 + ... + c_n e^{-\\lambda_n t} X_n$$ \n",
    "\n",
    "where $\\lambda_1, \\lambda_2 ,... , \\lambda_n$ and $X_1, X_2 , ..., X_n$ are the eigenpairs of the matrix $A$. The constants $c_1, c_2, ... , c_n$ are determined exactly when an intitial condition is given.\n",
    "\n",
    "Finally, if we allow complex solutions of $\\text{det} (A - \\lambda I) = 0 $ to be used for eigenvalues, we can find solutions which are sine and cosine functions. For example,\n",
    "\n",
    "$$\\dot{Y} = \\left( \\begin{matrix} 0 \\ -1 \\\\ 1 \\ ~~~~~  0\\end{matrix} \\right) Y$$\n",
    "\n",
    "has solution \n",
    "\n",
    "$$Y = \\left( \\begin{matrix} \\cos t\\\\ \\sin t \\end{matrix} \\right)$$\n",
    "\n",
    "Note that the eigenvalues of \n",
    "\n",
    "$$\\left( \\begin{matrix} 0 \\ -1 \\\\ 1 \\ ~~~~~  0\\end{matrix} \\right)$$\n",
    "\n",
    "are $i$ and $-i$ with eigenvectors $\\left( \\begin{matrix} 1 \\\\-i \\end{matrix} \\right)$ and $\\left( \\begin{matrix} 1 \\\\i \\end{matrix} \\right)$, respectively. Then\n",
    "\n",
    "$$Y = c_1 e^{-i t} \\left( \\begin{matrix} 1 \\\\-i \\end{matrix} \\right) + c_2 e^{i t} \\left( \\begin{matrix} 1 \\\\i \\end{matrix} \\right) =  \\left( \\begin{matrix} (c_1 + c_2) \\cos t + i(c_2 - c_1) \\sin t \\\\ i(c_2 -c_1) \\cos t - (c_1 + c_2) \\sin t \\end{matrix} \\right) $$"
   ]
  },
  {
   "cell_type": "markdown",
   "metadata": {},
   "source": [
    "###Random Walk as a Model of diffusion\n",
    "\n",
    "From: http://math.uchicago.edu/~may/REU2012/REUPapers/ChenB.pdf\n",
    "\n",
    "The transfer of heat can be modeled using random walks. Consider a graph G.\n",
    "Heat can be modeled by imagining a large number of particles starting at a position\n",
    "on the graph, and these particles performing random walks throughout the graph.\n",
    "At any time, the temperature at a point is the density of the particles at that point.\n",
    "\n",
    "Let $p_n(x)$ denote the temperature (or the density of particles) at point x in G at\n",
    "time n. Between time n and time n + 1, heat flows into point x from all adjacent\n",
    "points in G. Then, the expected heat at time n + 1 at point x is\n",
    "\n",
    "$$p_{n+1}(x) = \\sum_{y \\sim x} p_n(y) \\frac 1 {deg(y)}$$"
   ]
  },
  {
   "cell_type": "markdown",
   "metadata": {},
   "source": [
    "We will define two operators Q and L on functions F : V (G) → R as follows:\n",
    "\n",
    "$$QF(x) = \\frac 1 {deg(x)} \\sum_{y∼x}F(y)$$\n",
    "\n",
    "$$LF(x) = (Q − \\mathbb{I})F(x) $$\n",
    "\n",
    "The linear operator L is called the discrete Laplacian. With regards to the heat\n",
    "equation on the integer lattice (or other regular graphs), if F(x) is the temperature\n",
    "at x at a time step n for all x ∈ G, then QF(x) is the function describing the\n",
    "temperature on the graph at time step n + 1. Also, LF(x) gives the change in\n",
    "temperature at point x from time n to time n + 1.\n",
    "\n",
    "Definition 3.1. A function F is harmonic on x if LF(x) = 0. Furthermore, a\n",
    "function F is harmonic on A if LF(x) = 0 for all x ∈ A.\n",
    "\n",
    "For the heat equation, if F is harmonic on a regular graph, then F is at an\n",
    "equilibrium — the temperature at each point on the graph remains the same.\n"
   ]
  },
  {
   "cell_type": "markdown",
   "metadata": {
    "collapsed": true
   },
   "source": [
    "###K-regular Graphs\n",
    "\n",
    "According to wikipedia: you can make a graph with n vertices k-regular if n>=k+1 and n*k is even. \n",
    "\n",
    "From http://niederhausen.blogspot.com/2013/10/make-graph-k-regular.html\n",
    "\n",
    "More specifically, starting from a graph that meets the criteria above:\n",
    "\n",
    "Place the vertices in a \"circle\". That is, a data structure that lets you start from any vertex and move in either direction to every other vertex, in a fixed order, until you return to the vertex you started from.\n",
    "\n",
    "Starting with some vertex, for each vertex around the circle:\n",
    "\n",
    "If k is even, add edges to the next k/2 vertices in both directions on the circle.\n",
    "\n",
    "If k is odd, add edges to the next (k-1)/2 vertices in both directions around the circle, and then create an edge to the vertex that is \"opposite\" on the circle.\n",
    "\n",
    "well... that sounds like a lot of math for me. I think I'll just go with a random strategy..."
   ]
  },
  {
   "cell_type": "code",
   "execution_count": 44,
   "metadata": {
    "collapsed": false
   },
   "outputs": [
    {
     "data": {
      "text/plain": [
       "[[0, 1, 1, 0, 1, 0],\n",
       " [1, 0, 1, 1, 0, 0],\n",
       " [1, 1, 0, 0, 0, 1],\n",
       " [0, 1, 0, 0, 1, 1],\n",
       " [1, 0, 0, 1, 0, 1],\n",
       " [0, 0, 1, 1, 1, 0]]"
      ]
     },
     "execution_count": 44,
     "metadata": {},
     "output_type": "execute_result"
    }
   ],
   "source": [
    "def make_regular(n,k, tries = 10):\n",
    "    assert(n>=k+1), \"k is too big\"\n",
    "    assert(n*k%2 == 0), \"problem\"\n",
    "    for j in range(tries):\n",
    "        success = True\n",
    "        how_many = [0 for i in range(n)]\n",
    "        out = [[0 for i in range(n)] for j in range(n)]\n",
    "        for i in range(n-1):\n",
    "            if(how_many[i]>k):\n",
    "                success = False\n",
    "                break\n",
    "            breaker = 10    \n",
    "            while((how_many[i]<k)):\n",
    "                try_this = np.random.choice(n)\n",
    "                if((try_this > i) and (how_many[try_this] < k) and (out[i][try_this] == 0)):\n",
    "                    out[i][try_this] = 1\n",
    "                    out[try_this][i] = 1\n",
    "                    how_many[i] += 1\n",
    "                    how_many[try_this] += 1              \n",
    "                else:\n",
    "                    breaker -= 1\n",
    "                    if(breaker == 0):\n",
    "                        success = False\n",
    "                        break\n",
    "        if(how_many[n-1] != k):\n",
    "            success = False\n",
    "        if(success):\n",
    "            break                \n",
    "    if(success):         \n",
    "        return out\n",
    "    else:\n",
    "        print(\"error, couldn't find it after {0} tries\".format(tries))\n",
    "            \n",
    "make_regular(6,3)            "
   ]
  },
  {
   "cell_type": "markdown",
   "metadata": {},
   "source": [
    "###Bipartite Graphs\n",
    "\n",
    "From http://homepages.cwi.nl/~aeb/math/ipm/ipm.pdf \n",
    "    \n",
    "A graph Γ is called bipartite when its vertex set can be partitioned into two\n",
    "disjoint parts X1, X2 such that all edges of Γ meet both X1 and X2. The adjacency\n",
    "matrix of a bipartite graph has the form \n",
    "\n",
    "$$A = \\left(\\begin{matrix} 0 \\ B \\\\ B^⊤ \\ 0 \\end{matrix}\\right)$$\n",
    "\n",
    "\n",
    "\n",
    "It follows that the\n",
    "spectrum of a bipartite graph is symmetric w.r.t. 0: if $\\left(\\begin{matrix} u\\\\ v\\end{matrix}\\right)$ is an eigenvector with\n",
    "eigenvalue θ, then $\\left(\\begin{matrix} u\\\\ -v\\end{matrix}\\right)$\n",
    "is an eigenvector with eigenvalue −θ. (The converse\n",
    "also holds, see Proposition 3.4.1.)\n",
    "\n",
    "For the ranks one has rk A = 2 rk B. If ni = |Xi\n",
    "| (i = 1, 2) and n1 ≥ n2,\n",
    "then rk A ≤ 2n2, so that Γ has eigenvalue 0 with multiplicity at least n1 − n2.\n",
    "\n",
    "\n",
    "One cannot, in general, recognize bipartiteness from the Laplace or signless\n",
    "Laplace spectrum. For example, K1,3 and K1 + K3 have the same signless\n",
    "Laplace spectrum and only the former is bipartite. And Figure 14.4 gives an\n",
    "example of a bipartite and non-bipartite graph with the same Laplace spectrum.\n",
    "However, by Proposition 1.3.10 below, a graph is bipartite precisely when its\n",
    "Laplace spectrum and signless Laplace spectrum coincide."
   ]
  },
  {
   "cell_type": "code",
   "execution_count": 58,
   "metadata": {
    "collapsed": false
   },
   "outputs": [
    {
     "data": {
      "text/plain": [
       "array([ 2.,  1., -2.,  1., -1., -1.])"
      ]
     },
     "execution_count": 58,
     "metadata": {},
     "output_type": "execute_result"
    }
   ],
   "source": [
    "seed(1)\n",
    "G = make_regular(6,2)\n",
    "eig(G)[0]"
   ]
  },
  {
   "cell_type": "markdown",
   "metadata": {},
   "source": [
    "##Equilibrium"
   ]
  },
  {
   "cell_type": "markdown",
   "metadata": {},
   "source": [
    "What we are looking for is the eigenvector with eigenvalue of 0, because this means that there was no change, and therefor it is stable."
   ]
  },
  {
   "cell_type": "code",
   "execution_count": 12,
   "metadata": {
    "collapsed": false
   },
   "outputs": [
    {
     "data": {
      "text/plain": [
       "array([-0.33333333, -0.33333333, -0.33333333, -0.33333333, -0.33333333,\n",
       "       -0.33333333, -0.33333333, -0.33333333, -0.33333333])"
      ]
     },
     "execution_count": 12,
     "metadata": {},
     "output_type": "execute_result"
    }
   ],
   "source": [
    "seed(1234)\n",
    "Z = make_regular(9,4) \n",
    "L = diag(sum(Z, axis = 1)) - Z\n",
    "stable = eig(L)[1][:,2]\n",
    "stable"
   ]
  },
  {
   "cell_type": "markdown",
   "metadata": {},
   "source": [
    "And obviously, on a regular graph, we have equal distribution on all the nodes.\n",
    "\n",
    "\n",
    "According to http://math.uchicago.edu/~may/REU2012/REUPapers/ChenB.pdf \n",
    "\n",
    "<b>Theorem 6.1.</b> The only harmonic functions on finite, connected graphs with no\n",
    "boundary conditions are constant functions.\n",
    "\n",
    "I think what this means is that we have to look at boundary conditions, if we want to do things that are a bit more interesting...\n",
    "\n",
    "###Boundary Conditions\n",
    "\n",
    "We will consider finite connected graphs with boundary values. We will define\n",
    "the boundary of a graph as follows. Given any finite connected graph G, we can\n",
    "choose a set of points ∂A such that the rest of the points are connected. Then, we\n",
    "call ∂A a boundary of the graph and denote the rest of the graph (G − ∂A) as A.\n",
    "Also, we will let TA be the first time a random walker reaches a boundary point.\n",
    "Sn will denote the location of the random walker at time n.\n",
    "First, let us consider finite connected subsets of $\\mathbb{Z}^d$. In the case of a subset, A, of $\\mathbb{Z}^d$\n",
    ", ∂A can be defined as\n",
    "\n",
    "$$∂A = \\{z ∈ \\mathbb{Z}^d /\\ A : dist(z, A) = 1\\} $$\n",
    "\n",
    "The following is an example on $\\mathbb{Z}^2$\n",
    ", where the red dots are on A and the black\n",
    "dots represent the boundary ∂A, and I guess the white dots don't represent anything."
   ]
  },
  {
   "cell_type": "code",
   "execution_count": 14,
   "metadata": {
    "collapsed": false
   },
   "outputs": [
    {
     "data": {
      "image/png": "[encoded data removed]",
      "text/plain": [
       "<matplotlib.figure.Figure at 0xb05f6d6c>"
      ]
     },
     "metadata": {},
     "output_type": "display_data"
    }
   ],
   "source": [
    "fig = plt.figure(1)\n",
    "ax = fig.add_subplot(111)\n",
    "\n",
    "for i in range(7):\n",
    "    for j in range(7):\n",
    "        ax.plot([i+1], [j+1], marker = 'o', color = 'r')\n",
    "ax.plot([3], [2], marker = 'o', color = 'k')\n",
    "ax.plot([2], [3], marker = 'o', color = 'k')\n",
    "ax.plot([1], [4], marker = 'o', color = 'k')\n",
    "ax.plot([1], [5], marker = 'o', color = 'k')\n",
    "ax.plot([1], [6], marker = 'o', color = 'k')\n",
    "ax.plot([2], [7], marker = 'o', color = 'k')\n",
    "ax.plot([3], [7], marker = 'o', color = 'k')\n",
    "ax.plot([4], [7], marker = 'o', color = 'k')\n",
    "ax.plot([5], [7], marker = 'o', color = 'k')\n",
    "ax.plot([7], [5], marker = 'o', color = 'k')\n",
    "ax.plot([7], [4], marker = 'o', color = 'k')\n",
    "ax.plot([7], [3], marker = 'o', color = 'k')\n",
    "ax.plot([6], [2], marker = 'o', color = 'k')\n",
    "ax.plot([5], [1], marker = 'o', color = 'k')\n",
    "ax.plot([4], [1], marker = 'o', color = 'k')\n",
    "ax.plot([4], [4], marker = 'o', color = 'k')\n",
    "ax.plot([4], [5], marker = 'o', color = 'k')\n",
    "ax.plot([5], [4], marker = 'o', color = 'k')\n",
    "ax.plot([5], [5], marker = 'o', color = 'k')\n",
    "ax.plot([1], [1], marker = 'o', color = 'w')\n",
    "ax.plot([1], [2], marker = 'o', color = 'w')\n",
    "ax.plot([2], [1], marker = 'o', color = 'w')\n",
    "ax.plot([2], [2], marker = 'o', color = 'w')\n",
    "ax.plot([1], [3], marker = 'o', color = 'w')\n",
    "ax.plot([3], [1], marker = 'o', color = 'w')\n",
    "ax.plot([1], [7], marker = 'o', color = 'w')\n",
    "ax.plot([6], [1], marker = 'o', color = 'w')\n",
    "ax.plot([7], [1], marker = 'o', color = 'w')\n",
    "ax.plot([7], [2], marker = 'o', color = 'w')\n",
    "ax.plot([7], [7], marker = 'o', color = 'w')\n",
    "ax.plot([7], [6], marker = 'o', color = 'k')\n",
    "ax.plot([6], [7], marker = 'o', color = 'k')\n",
    "\n",
    "ax.set_ybound(0,8)\n",
    "ax.set_xbound(0,8)\n",
    "\n",
    "plt.show()"
   ]
  },
  {
   "cell_type": "markdown",
   "metadata": {},
   "source": [
    "###Dirichlet Boundary Conditions\n",
    "\n",
    "So I think rather than dealing with this complicated boundary, let's start with a really simple one:\n",
    "\n",
    "<b>Example 1.</b> Now we consider a finite subset of Z with boundary conditions at the\n",
    "ends. We take A to be {1, . . . , N − 1} and ∂A to be {0, N}. Let F(0) = a and\n",
    "F(N) = b.\n",
    "\n",
    "<b>Theorem 5.1.</b> Given the above conditions, the only function F that is harmonic\n",
    "on A is\n",
    "\n",
    "$$F(x) = a +\\frac {x(b − a)} N$$\n",
    "\n",
    "<b>Proof.</b> It is easy to see that F is harmonic. In this case, LF(x) = 0 is equivalent\n",
    "to saying\n",
    "$$\\frac 1 2 [F(x + 1) − F(x − 1)] = F(x),$$\n",
    "\n",
    "which is true for the F(x) given in Thm. 5.1.\n",
    "\n",
    "By Theorem 4.1, this is the unique solution. "
   ]
  },
  {
   "cell_type": "code",
   "execution_count": 15,
   "metadata": {
    "collapsed": false
   },
   "outputs": [
    {
     "data": {
      "text/plain": [
       "(array([ 3.,  1.,  0.,  0.]),\n",
       " array([[ 0.        ,  0.        ,  0.80178373,  0.        ],\n",
       "        [-0.70710678,  0.70710678,  0.53452248,  0.26726124],\n",
       "        [ 0.70710678,  0.70710678,  0.26726124,  0.53452248],\n",
       "        [ 0.        ,  0.        ,  0.        ,  0.80178373]]))"
      ]
     },
     "execution_count": 15,
     "metadata": {},
     "output_type": "execute_result"
    }
   ],
   "source": [
    "def make_string_graph(n):\n",
    "    out = [[0 for i in range(n)] for j in range(n)]\n",
    "    for i in range(n-1):\n",
    "        out[i][i+1] = 1\n",
    "        out[i+1][i] = 1\n",
    "    out[0][0] = 1\n",
    "    out[0][1] = 0\n",
    "    out[n-1][n-2] = 0\n",
    "    out[n-1][n-1] = 1\n",
    "    return array(out) \n",
    "\n",
    "n = 4\n",
    "A = make_string_graph(n) \n",
    "L = diag(sum(A, axis = 1)) - A\n",
    "eig(L)"
   ]
  },
  {
   "cell_type": "code",
   "execution_count": 59,
   "metadata": {
    "collapsed": false
   },
   "outputs": [
    {
     "data": {
      "text/plain": [
       "array([ 5.        ,  4.28567203,  3.57135997,  2.85704791,  2.1427716 ,\n",
       "        1.42849529,  0.71424764,  0.        ])"
      ]
     },
     "execution_count": 59,
     "metadata": {},
     "output_type": "execute_result"
    }
   ],
   "source": [
    "n = 8\n",
    "A = make_string_graph(n)/2\n",
    "A[0][0] = 1\n",
    "A[n-1][n-1] = 1\n",
    "L = (diag(sum(A, axis = 1)) - A)\n",
    "def diffuse(state, steps):\n",
    "    for s in range(steps):\n",
    "        #print(around(state,4))\n",
    "        new_state = dot(A, state) \n",
    "        state = new_state         \n",
    "        \n",
    "    return array(state)    \n",
    "\n",
    "diffuse([5,0,0,0,0,0,0,0], 100)"
   ]
  },
  {
   "cell_type": "code",
   "execution_count": 60,
   "metadata": {
    "collapsed": false
   },
   "outputs": [
    {
     "data": {
      "text/plain": [
       "array([ 5.        ,  4.28571429,  3.57142857,  2.85714286,  2.14285714,\n",
       "        1.42857143,  0.71428571,  0.        ])"
      ]
     },
     "execution_count": 60,
     "metadata": {},
     "output_type": "execute_result"
    }
   ],
   "source": [
    "eig(L)[1][:,6]*(5/eig(L)[1][:,6][0])"
   ]
  },
  {
   "cell_type": "markdown",
   "metadata": {
    "collapsed": true
   },
   "source": [
    "##Neumann Boundary Conditions\n",
    "\n",
    "Here are boundary condition is that \n",
    "\n",
    "$$f(0) - f(1) = 0 ~~~~ \\text{and} ~~~~ f(n) - f(n-1) = 0$$\n",
    "\n",
    "which is basically saying that no heat flux is entering or leaving the system."
   ]
  },
  {
   "cell_type": "code",
   "execution_count": 62,
   "metadata": {
    "collapsed": false
   },
   "outputs": [
    {
     "name": "stdout",
     "output_type": "stream",
     "text": [
      "[2 2 4 2 2]\n",
      "[ 3.  3.  2.  3.  3.]\n",
      "[ 2.5  2.5  3.   2.5  2.5]\n",
      "[ 2.75  2.75  2.5   2.75  2.75]\n",
      "[ 2.625  2.625  2.75   2.625  2.625]\n",
      "[ 2.6875  2.6875  2.625   2.6875  2.6875]\n",
      "[ 2.6562  2.6562  2.6875  2.6562  2.6562]\n",
      "[ 2.6719  2.6719  2.6562  2.6719  2.6719]\n",
      "[ 2.6641  2.6641  2.6719  2.6641  2.6641]\n",
      "[ 2.668   2.668   2.6641  2.668   2.668 ]\n"
     ]
    },
    {
     "data": {
      "text/plain": [
       "array([ 2.66601562,  2.66601562,  2.66796875,  2.66601562,  2.66601562])"
      ]
     },
     "execution_count": 62,
     "metadata": {},
     "output_type": "execute_result"
    }
   ],
   "source": [
    "def make_string_graph_neumann(n):\n",
    "    out = [[0 for i in range(n)] for j in range(n)]\n",
    "    for i in range(n-1):\n",
    "        out[i][i+1] = 1/2\n",
    "        out[i+1][i] = 1/2\n",
    "    out[0][0] = 1/2\n",
    "    out[0][1] = -1/2\n",
    "    out[n-1][n-2] = -1/2\n",
    "    out[n-1][n-1] = 1/2\n",
    "    return array(out) \n",
    "\n",
    "n = 5\n",
    "A = make_string_graph_neumann(n)\n",
    "\n",
    "L = diag(sum(A, axis = 1)) - A\n",
    "\n",
    "def diffuse(state, steps):\n",
    "    for s in range(steps):\n",
    "        print(around(state,4))\n",
    "        new_state = dot(A, state) \n",
    "        state = new_state  \n",
    "        state[0] = state[1]\n",
    "        state[len(state)-1] = state[len(state)-2]\n",
    "        \n",
    "    return array(state)    \n",
    "\n",
    "diffuse([2,2,4,2,2], 10)"
   ]
  },
  {
   "cell_type": "markdown",
   "metadata": {},
   "source": [
    "And as we can see, the heat distributes itself equally accross all the nodes, but still adds up to the original value of 2+4+2 = 8."
   ]
  }
 ],
 "metadata": {
  "kernelspec": {
   "display_name": "Python 3",
   "language": "python",
   "name": "python3"
  },
  "language_info": {
   "codemirror_mode": {
    "name": "ipython",
    "version": 3
   },
   "file_extension": ".py",
   "mimetype": "text/x-python",
   "name": "python",
   "nbconvert_exporter": "python",
   "pygments_lexer": "ipython3",
   "version": "3.4.1"
  }
 },
 "nbformat": 4,
 "nbformat_minor": 0
}
