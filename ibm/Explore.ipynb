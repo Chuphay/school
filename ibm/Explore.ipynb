{
 "cells": [
  {
   "cell_type": "code",
   "execution_count": 1,
   "metadata": {
    "collapsed": false
   },
   "outputs": [
    {
     "name": "stdout",
     "output_type": "stream",
     "text": [
      "Populating the interactive namespace from numpy and matplotlib\n"
     ]
    }
   ],
   "source": [
    "#8:48\n",
    "%pylab inline\n",
    "from pandas import read_csv\n"
   ]
  },
  {
   "cell_type": "code",
   "execution_count": 2,
   "metadata": {
    "collapsed": true
   },
   "outputs": [],
   "source": [
    "data = read_csv(\"out_age.csv\")"
   ]
  },
  {
   "cell_type": "code",
   "execution_count": 6,
   "metadata": {
    "collapsed": false
   },
   "outputs": [
    {
     "name": "stdout",
     "output_type": "stream",
     "text": [
      "   age  overall_mobility_index  swallowing  handwriting  cutting_food  \\\n",
      "0   34                    19.0         4.0     3.000000      1.000000   \n",
      "1   41                    28.0         4.0     3.500000      3.000000   \n",
      "2   46                    30.5         4.0     3.500000      2.500000   \n",
      "3   48                    29.6         3.6     3.800000      3.000000   \n",
      "4   49                    22.0         3.0     2.666667      2.666667   \n",
      "\n",
      "   fine_motor_tasks  dressing   hygiene  turning_in_bed_and_adjusting  \\\n",
      "0          3.000000       1.0  2.000000                      1.000000   \n",
      "1          3.000000       2.0  3.000000                      3.000000   \n",
      "2          3.000000       2.5  3.500000                      3.000000   \n",
      "3          3.200000       3.0  2.800000                      3.200000   \n",
      "4          2.666667       2.0  1.333333                      2.666667   \n",
      "\n",
      "   sit_to_stand   walking  climbing_starirs  n  \n",
      "0      2.000000  2.000000               0.0  1  \n",
      "1      2.500000  2.500000               1.5  2  \n",
      "2      3.500000  3.000000               2.0  2  \n",
      "3      2.400000  2.400000               2.2  5  \n",
      "4      1.666667  2.333333               1.0  3  \n"
     ]
    }
   ],
   "source": [
    "print(data.head())"
   ]
  },
  {
   "cell_type": "code",
   "execution_count": 8,
   "metadata": {
    "collapsed": false
   },
   "outputs": [
    {
     "data": {
      "text/plain": [
       "<matplotlib.collections.PathCollection at 0xad4c7c2c>"
      ]
     },
     "execution_count": 8,
     "metadata": {},
     "output_type": "execute_result"
    },
    {
     "data": {
      "image/png": "[encoded data removed]",
      "text/plain": [
       "<matplotlib.figure.Figure at 0xad500b8c>"
      ]
     },
     "metadata": {},
     "output_type": "display_data"
    }
   ],
   "source": [
    "scatter(data[\"age\"], data[\"overall_mobility_index\"])"
   ]
  },
  {
   "cell_type": "code",
   "execution_count": 29,
   "metadata": {
    "collapsed": false
   },
   "outputs": [
    {
     "data": {
      "image/png": "[encoded data removed]",
      "text/plain": [
       "<matplotlib.figure.Figure at 0xad4913cc>"
      ]
     },
     "metadata": {},
     "output_type": "display_data"
    }
   ],
   "source": [
    "from matplotlib import patches\n",
    "fig,ax = plt.subplots(figsize=(14.3,7))\n",
    "\n",
    "circle_i = patches.Circle((0.8,0.7),radius=sqrt(0.5)/4,color=\"red\",alpha=1)\n",
    "ax.add_patch(circle_i)\n",
    "\n",
    "plt.savefig('YSD_vs_MAI.pdf')\n",
    "plt.show()\n"
   ]
  },
  {
   "cell_type": "code",
   "execution_count": 30,
   "metadata": {
    "collapsed": true
   },
   "outputs": [],
   "source": [
    "#9:17"
   ]
  },
  {
   "cell_type": "code",
   "execution_count": null,
   "metadata": {
    "collapsed": true
   },
   "outputs": [],
   "source": []
  }
 ],
 "metadata": {
  "kernelspec": {
   "display_name": "Python 3",
   "language": "python",
   "name": "python3"
  },
  "language_info": {
   "codemirror_mode": {
    "name": "ipython",
    "version": 3
   },
   "file_extension": ".py",
   "mimetype": "text/x-python",
   "name": "python",
   "nbconvert_exporter": "python",
   "pygments_lexer": "ipython3",
   "version": "3.4.1"
  }
 },
 "nbformat": 4,
 "nbformat_minor": 0
}
