{
 "metadata": {
  "name": "",
  "signature": "sha256:19d7fd9c69978d0243614e91b457c9f26a21aa4e306f9ead56510ac1261e94a1"
 },
 "nbformat": 3,
 "nbformat_minor": 0,
 "worksheets": [
  {
   "cells": [
    {
     "cell_type": "code",
     "collapsed": false,
     "input": [
      "SIZE = 10\n",
      "\n",
      "class Map(object):\n",
      "    def __init__(self, size):\n",
      "        self.size = size\n",
      "        self._map = [[None for i in range(size)] for j in range(size)]\n",
      "        for i in range(size):\n",
      "            self._map[i][i] = 0\n",
      "    def __repr__(self):\n",
      "        out = ''\n",
      "        for line in self._map:\n",
      "            out += str(line) + '\\n'   \n",
      "        return out\n",
      "    def add_route(self,city1,city2,distance):\n",
      "        self._map[city1-1][city2-1] = distance\n",
      "        self._map[city2-1][city1-1] = distance\n",
      "        \n",
      "myMap = Map(SIZE)\n",
      "myMap.add_route(1,2,1)\n",
      "myMap.add_route(1,3,10)\n",
      "myMap.add_route(1,4,2)\n",
      "myMap.add_route(1,5,17)\n",
      "myMap.add_route(1,6,13)\n",
      "myMap.add_route(1,7,19)\n",
      "myMap.add_route(1,8,11)\n",
      "myMap.add_route(1,9,6)\n",
      "myMap.add_route(1,10,5)\n",
      "\n",
      "myMap.add_route(2,3,12)\n",
      "myMap.add_route(2,4,9)\n",
      "myMap.add_route(2,5,4)\n",
      "myMap.add_route(2,6,2)\n",
      "myMap.add_route(2,7,7)\n",
      "myMap.add_route(2,8,19)\n",
      "myMap.add_route(2,9,12)\n",
      "myMap.add_route(2,10,4)\n",
      "\n",
      "myMap.add_route(3,4,4)\n",
      "myMap.add_route(3,5,18)\n",
      "myMap.add_route(3,6,20)\n",
      "myMap.add_route(3,7,1)\n",
      "myMap.add_route(3,8,4)\n",
      "myMap.add_route(3,9,16)\n",
      "myMap.add_route(3,10,13)\n",
      "\n",
      "myMap.add_route(4,5,5)\n",
      "myMap.add_route(4,6,3)\n",
      "myMap.add_route(4,7,11)\n",
      "myMap.add_route(4,8,14)\n",
      "myMap.add_route(4,9,19)\n",
      "myMap.add_route(4,10,1)\n",
      "\n",
      "myMap.add_route(5,6,11)\n",
      "myMap.add_route(5,7,5)\n",
      "myMap.add_route(5,8,8)\n",
      "myMap.add_route(5,9,2)\n",
      "myMap.add_route(5,10,6)\n",
      "\n",
      "myMap.add_route(6,7,18)\n",
      "myMap.add_route(6,8,6)\n",
      "myMap.add_route(6,9,4)\n",
      "myMap.add_route(6,10,3)\n",
      "\n",
      "myMap.add_route(7,8,20)\n",
      "myMap.add_route(7,9,9)\n",
      "myMap.add_route(7,10,10)\n",
      "\n",
      "myMap.add_route(8,9,12)\n",
      "myMap.add_route(8,10,7)\n",
      "\n",
      "myMap.add_route(9,10,11)\n",
      "\n",
      "myMap\n"
     ],
     "language": "python",
     "metadata": {},
     "outputs": [
      {
       "metadata": {},
       "output_type": "pyout",
       "prompt_number": 39,
       "text": [
        "[0, 1, 10, 2, 17, 13, 19, 11, 6, 5]\n",
        "[1, 0, 12, 9, 4, 2, 7, 19, 12, 4]\n",
        "[10, 12, 0, 4, 18, 20, 1, 4, 16, 13]\n",
        "[2, 9, 4, 0, 5, 3, 11, 14, 19, 1]\n",
        "[17, 4, 18, 5, 0, 11, 5, 8, 2, 6]\n",
        "[13, 2, 20, 3, 11, 0, 18, 6, 4, 3]\n",
        "[19, 7, 1, 11, 5, 18, 0, 20, 9, 10]\n",
        "[11, 19, 4, 14, 8, 6, 20, 0, 12, 7]\n",
        "[6, 12, 16, 19, 2, 4, 9, 12, 0, 11]\n",
        "[5, 4, 13, 1, 6, 3, 10, 7, 11, 0]"
       ]
      }
     ],
     "prompt_number": 39
    },
    {
     "cell_type": "code",
     "collapsed": false,
     "input": [
      "import random\n",
      "\n",
      "def random_route():\n",
      "    cities = [i for i in range(1,SIZE+1)]\n",
      "    random.shuffle(cities)\n",
      "    return cities\n",
      "\n",
      "def mutate(route):\n",
      "    cities = [i for i in range(SIZE)]\n",
      "    i, j = random.sample(cities,2)\n",
      "    route[i],route[j] = route[j],route[i]\n",
      "    \n",
      "def cross(route1, route2):\n",
      "    out = [None for i in range(SIZE)]\n",
      "    while True:\n",
      "        x = random.randint(0,9)\n",
      "        out = route1[:x]+route2[x:]\n",
      "        if(len(set(out))== SIZE):\n",
      "            break\n",
      "    return out\n",
      "    \n",
      "r1 = random_route()\n",
      "r2 = random_route()\n",
      "\n",
      "print(r2)\n",
      "mutate(r1)\n",
      "print(r1)\n",
      "print(cross(r1,r2))"
     ],
     "language": "python",
     "metadata": {},
     "outputs": [
      {
       "output_type": "stream",
       "stream": "stdout",
       "text": [
        "[7, 2, 8, 10, 5, 4, 6, 9, 3, 1]\n",
        "[2, 6, 1, 7, 5, 10, 3, 8, 9, 4]\n",
        "[7, 2, 8, 10, 5, 4, 6, 9, 3, 1]\n"
       ]
      }
     ],
     "prompt_number": 126
    },
    {
     "cell_type": "code",
     "collapsed": false,
     "input": [
      "\n"
     ],
     "language": "python",
     "metadata": {},
     "outputs": [],
     "prompt_number": 38
    }
   ],
   "metadata": {}
  }
 ]
}