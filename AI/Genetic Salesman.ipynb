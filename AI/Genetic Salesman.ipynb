{
 "metadata": {
  "name": "",
  "signature": "sha256:a7d7527e408553f068474ad04a5e99de0da94429ce361e0d58edc40c68b316a5"
 },
 "nbformat": 3,
 "nbformat_minor": 0,
 "worksheets": [
  {
   "cells": [
    {
     "cell_type": "code",
     "collapsed": false,
     "input": [
      "SIZE = 10\n",
      "\n",
      "class Map(object):\n",
      "    \n",
      "    def __init__(self, size):\n",
      "        self.size = size\n",
      "        self._map = [[None for i in range(size)] for j in range(size)]\n",
      "        for i in range(size):\n",
      "            self._map[i][i] = 0\n",
      "    \n",
      "    def __repr__(self):\n",
      "        out = ''\n",
      "        for line in self._map:\n",
      "            out += str(line) + '\\n'   \n",
      "        return out\n",
      "    \n",
      "    def add_road(self,city1,city2,distance):\n",
      "        self._map[city1-1][city2-1] = distance\n",
      "        self._map[city2-1][city1-1] = distance\n",
      "    \n",
      "    def route_distance(self, route):\n",
      "        if(len(set(route))!= SIZE):\n",
      "            raise IndexError('length of route is incorrect', route)\n",
      "        distance = 0\n",
      "        print(route)\n",
      "        for i in range(SIZE):\n",
      "            print (i)\n",
      "            #print(self._map[route[i]][route[(i+1)%SIZE]])\n",
      "            distance += self._map[route[i]-1][route[(i+1)%SIZE]-1]\n",
      "        return distance    \n",
      "            \n",
      "            \n",
      "            \n",
      "        \n",
      "        \n",
      "myMap = Map(SIZE)\n",
      "myMap.add_road(1,2,1)\n",
      "myMap.add_road(1,3,10)\n",
      "myMap.add_road(1,4,2)\n",
      "myMap.add_road(1,5,17)\n",
      "myMap.add_road(1,6,13)\n",
      "myMap.add_road(1,7,19)\n",
      "myMap.add_road(1,8,11)\n",
      "myMap.add_road(1,9,6)\n",
      "myMap.add_road(1,10,5)\n",
      "\n",
      "myMap.add_road(2,3,12)\n",
      "myMap.add_road(2,4,9)\n",
      "myMap.add_road(2,5,4)\n",
      "myMap.add_road(2,6,2)\n",
      "myMap.add_road(2,7,7)\n",
      "myMap.add_road(2,8,19)\n",
      "myMap.add_road(2,9,12)\n",
      "myMap.add_road(2,10,4)\n",
      "\n",
      "myMap.add_road(3,4,4)\n",
      "myMap.add_road(3,5,18)\n",
      "myMap.add_road(3,6,20)\n",
      "myMap.add_road(3,7,1)\n",
      "myMap.add_road(3,8,4)\n",
      "myMap.add_road(3,9,16)\n",
      "myMap.add_road(3,10,13)\n",
      "\n",
      "myMap.add_road(4,5,5)\n",
      "myMap.add_road(4,6,3)\n",
      "myMap.add_road(4,7,11)\n",
      "myMap.add_road(4,8,14)\n",
      "myMap.add_road(4,9,19)\n",
      "myMap.add_road(4,10,1)\n",
      "\n",
      "myMap.add_road(5,6,11)\n",
      "myMap.add_road(5,7,5)\n",
      "myMap.add_road(5,8,8)\n",
      "myMap.add_road(5,9,2)\n",
      "myMap.add_road(5,10,6)\n",
      "\n",
      "myMap.add_road(6,7,18)\n",
      "myMap.add_road(6,8,6)\n",
      "myMap.add_road(6,9,4)\n",
      "myMap.add_road(6,10,3)\n",
      "\n",
      "myMap.add_road(7,8,20)\n",
      "myMap.add_road(7,9,9)\n",
      "myMap.add_road(7,10,10)\n",
      "\n",
      "myMap.add_road(8,9,12)\n",
      "myMap.add_road(8,10,7)\n",
      "\n",
      "myMap.add_road(9,10,11)\n",
      "\n",
      "myMap\n"
     ],
     "language": "python",
     "metadata": {},
     "outputs": [
      {
       "metadata": {},
       "output_type": "pyout",
       "prompt_number": 36,
       "text": [
        "[0, 1, 10, 2, 17, 13, 19, 11, 6, 5]\n",
        "[1, 0, 12, 9, 4, 2, 7, 19, 12, 4]\n",
        "[10, 12, 0, 4, 18, 20, 1, 4, 16, 13]\n",
        "[2, 9, 4, 0, 5, 3, 11, 14, 19, 1]\n",
        "[17, 4, 18, 5, 0, 11, 5, 8, 2, 6]\n",
        "[13, 2, 20, 3, 11, 0, 18, 6, 4, 3]\n",
        "[19, 7, 1, 11, 5, 18, 0, 20, 9, 10]\n",
        "[11, 19, 4, 14, 8, 6, 20, 0, 12, 7]\n",
        "[6, 12, 16, 19, 2, 4, 9, 12, 0, 11]\n",
        "[5, 4, 13, 1, 6, 3, 10, 7, 11, 0]"
       ]
      }
     ],
     "prompt_number": 36
    },
    {
     "cell_type": "code",
     "collapsed": false,
     "input": [
      "import random\n",
      "\n",
      "def random_route():\n",
      "    cities = [i for i in range(1,SIZE+1)]\n",
      "    random.shuffle(cities)\n",
      "    return cities\n",
      "\n",
      "def mutate(route):\n",
      "    cities = [i for i in range(SIZE)]\n",
      "    i, j = random.sample(cities,2)\n",
      "    route[i],route[j] = route[j],route[i]\n",
      "    \n",
      "def cross(route1, route2):\n",
      "    \"\"\"hmmm... a simple cross over is very unlikely \n",
      "    to create a valid route.\n",
      "    I ended up making up a different solution...\n",
      "    First, we perform the cross in the normal way\n",
      "    where we take the first n cities of parent 1\n",
      "    but then instead of just taking the second half of parent 2\n",
      "    we add in cities one at a time from parent 2 if and only if\n",
      "    they are not already present.\n",
      "    I hope that's ok....\n",
      "    \"\"\"\n",
      "    x = random.randint(0,9)\n",
      "    out = route1[:x]\n",
      "    for city in route2:\n",
      "        if city in out:\n",
      "            pass\n",
      "        else:\n",
      "            out.append(city)\n",
      "    return out"
     ],
     "language": "python",
     "metadata": {},
     "outputs": [
      {
       "output_type": "stream",
       "stream": "stdout",
       "text": [
        "[7, 4, 3, 6, 8, 5, 1, 9, 10, 2]\n",
        "[2, 6, 1, 4, 5, 9, 3, 8, 7, 10]\n",
        "[2, 7, 4, 3, 6, 8, 5, 1, 9, 10]\n"
       ]
      }
     ],
     "prompt_number": 33
    },
    {
     "cell_type": "code",
     "collapsed": false,
     "input": [
      "myMap.route_distance(random_route())\n"
     ],
     "language": "python",
     "metadata": {},
     "outputs": [
      {
       "output_type": "stream",
       "stream": "stdout",
       "text": [
        "[2, 10, 8, 5, 7, 9, 1, 4, 6, 3]\n",
        "0\n",
        "1\n",
        "2\n",
        "3\n",
        "4\n",
        "5\n",
        "6\n",
        "7\n",
        "8\n",
        "9\n"
       ]
      },
      {
       "metadata": {},
       "output_type": "pyout",
       "prompt_number": 41,
       "text": [
        "76"
       ]
      }
     ],
     "prompt_number": 41
    },
    {
     "cell_type": "code",
     "collapsed": false,
     "input": [
      "  "
     ],
     "language": "python",
     "metadata": {},
     "outputs": [
      {
       "output_type": "stream",
       "stream": "stdout",
       "text": [
        "[1, 2, 3, 4, 5, 6, 7, 8, 9, 10]\n"
       ]
      }
     ],
     "prompt_number": 43
    }
   ],
   "metadata": {}
  }
 ]
}