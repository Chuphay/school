{
 "metadata": {
  "name": "",
  "signature": "sha256:e6102d2365a09ef5f0c0d981653b2ece52214375c88c3716e8bdcd8c43d57c00"
 },
 "nbformat": 3,
 "nbformat_minor": 0,
 "worksheets": [
  {
   "cells": [
    {
     "cell_type": "markdown",
     "metadata": {},
     "source": [
      "Graduate students are required to complete a research or design project in AI on a topic to be chosen in consultation with me. A written report on the project (minimum 2,500 words) and a brief oral presentation summarizing the same is expected at the end of the term. An ideal project should be one that demonstrates some creativity, attempts to answer some interesting research question(s), or offers an interesting AI solution to a problem of practical interest."
     ]
    },
    {
     "cell_type": "code",
     "collapsed": false,
     "input": [
      "a = \"\"\"Let's get going.\n",
      "\n",
      "Creativity\n",
      "\n",
      "My project demonstrates creativity. I created an atificial neural network from scratch, implementing the details in C. While originally I had bold plans for my Artificial Neural Network, I was crushed by the daunting task, both because of the simple fact that the algorithms involved are highly complex and difficult to understand, but also because I chose to implement the program in C, a language that I have exposure to, but is also not my most comfortable language. \n",
      "\n",
      "My original plan had been to make my artificial Neural network be able to learn how to calculate floating point additions. On the surface, perhaps, this seems like a trivial task, as any modern computer can do floating point calculations. But in fact, this is quite an interesting and creative project for a nueral network to accomplish. As we all know, computers work in a world of ones and zeroes. Floating point calculations by their natures truncate, or approxiamte their answers. On top of that, as we will see in this paper, most beginning applications of Artificial Neural networks concentrate on simple boolean functions, and I thought it would have been interesting to try and up the game a bit. However, as we will also see, I couldn't do that and had to eventually drop back down to the simple boolean functions.\n",
      "\n",
      "The second reason why the floating point calculation is cool, besides for the fact that by their natures ANNs simply output a string of ones and zeros, is because the ANN is truelly learning how to do these calculations. This is like teaching a child how to multiply, but not only teaching him or her how to multiply single digit numbers, but arbitrary floating point numbers (actually in the system I had originally conceived, there still would have been limits on exactly how large the numbers could be). The way you teach a child to multiply is basically the same way you teach an ANN: practice, practice, practice.\n",
      "\n",
      "C versus Python\n",
      "\n",
      "C is an interesting choice because I can now, and as we will see in the future, I can get very close to the machine in order to get fast performance using a minimum of space. I did not choose Python because I wanted to implement a really efficient system. In retrospect this was probably a mistake. Given the complexity of the task, Python would have been a better choice for at least two reasons. One, Python has a way of making the complex seem, if not trivial, at least tackleble. Two, because of the aforementioned complexity, I was not actually able to implement the program in a clean and precise way, and in fact had to not even think about garbage collection and other issues of equal or perhaps more importance, as I will explain in a different section\"\"\"\n",
      "\n",
      "len(a.split())\n"
     ],
     "language": "python",
     "metadata": {},
     "outputs": [
      {
       "metadata": {},
       "output_type": "pyout",
       "prompt_number": 6,
       "text": [
        "475"
       ]
      }
     ],
     "prompt_number": 6
    },
    {
     "cell_type": "markdown",
     "metadata": {},
     "source": [
      "<u>Creativity</u>\n",
      "\n",
      "My project demonstrates creativity. I created an atificial neural network from scratch, implementing the details in C. While originally I had bold plans for my Artificial Neural Network, I was crushed by the daunting task, both because of the simple fact that the algorithms involved are highly complex and difficult to understand, but also because I chose to implement the program in C, a language that I have exposure to, but is also not my most comfortable language. \n",
      "\n",
      "My original plan had been to make my artificial Neural network be able to learn how to calculate floating point additions. On the surface, perhaps, this seems like a trivial task, as any modern computer can do floating point calculations. But in fact, this is quite an interesting and creative project for a nueral network to accomplish. As we all know, computers work in a world of ones and zeroes. Floating point calculations by their natures truncate, or approxiamte their answers. On top of that, as we will see in this paper, most beginning applications of Artificial Neural networks concentrate on simple boolean functions, and I thought it would have been interesting to try and up the game a bit. However, as we will also see, I couldn't do that and had to eventually drop back down to the simple boolean functions.\n",
      "\n",
      "The second reason why the floating point calculation is cool, besides for the fact that by their natures ANNs simply output a string of ones and zeros, is because the ANN is truelly learning how to do these calculations. This is like teaching a child how to multiply, but not only teaching him or her how to multiply single digit numbers, but arbitrary floating point numbers (actually in the system I had originally conceived, there still would have been limits on exactly how large the numbers could be). The way you teach a child to multiply is basically the same way you teach an ANN: practice, practice, practice.\n",
      "\n",
      "<u>Interesting Research Questions</u>\n",
      "\n",
      "<u>C versus Python</u>\n",
      "\n",
      "C is an interesting choice because I can now, and as we will see in the future, I can get very close to the machine in order to get fast performance using a minimum of space. I did not choose Python because I wanted to implement a really efficient system. In retrospect this was probably a mistake. Given the complexity of the task, Python would have been a better choice for at least two reasons. One, Python has a way of making the complex seem, if not trivial, at least tackleble. Two, because of the aforementioned complexity, I was not actually able to implement the program in a clean and precise way, and in fact had to not even think about garbage collection and other issues of equal or perhaps more importance, as I will explain in a different section"
     ]
    },
    {
     "cell_type": "code",
     "collapsed": false,
     "input": [],
     "language": "python",
     "metadata": {},
     "outputs": []
    }
   ],
   "metadata": {}
  }
 ]
}