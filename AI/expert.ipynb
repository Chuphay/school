{
 "metadata": {
  "name": "",
  "signature": "sha256:d0697a0834430811f606682f4c02cff4e4beb5e965e04922f8ee8eae2da4fb70"
 },
 "nbformat": 3,
 "nbformat_minor": 0,
 "worksheets": [
  {
   "cells": [
    {
     "cell_type": "code",
     "collapsed": false,
     "input": [
      "class node(object):\n",
      "    def __init__(self, string, true, false):\n",
      "        self.string = string\n",
      "        self.next_true = true\n",
      "        self.next_false = false\n",
      "    def ask(self):\n",
      "        if(input(self.string + ' ') == ('yes' or 'y' or 'Y' or 'Yes')):\n",
      "            return (self.next_true)\n",
      "        else:\n",
      "            return (self.next_false)\n",
      "    \n",
      "def main(node):\n",
      "    while True:\n",
      "        node = node.ask()\n",
      "        if(node == True):\n",
      "            break\n",
      "        if(node == None):\n",
      "            print(\"bug\")\n",
      "            break\n",
      "        if(node.next_true == node.next_true == True):\n",
      "            print(node.string)\n",
      "            break\n",
      "            \n",
      "pine = node(\"PINE!!!\", True, True)\n",
      "larch = node(\"LARCH!!!\",True, True)\n",
      "cedar = node(\"CEDAR!!!\", True, True)\n",
      "sequoia = node(\"GIANT SEQUOIA!!!\", True, True)\n",
      "juniper = node(\"JUNIPER!!!\",True,True)\n",
      "cypress = node(\"CYPRES!!!\",True, True)\n",
      "berries = node(\"Are there small berry-like fruits?\", juniper, cypress)\n",
      "giant = node(\"Is the tree enormously tall?\", sequoia, berries)\n",
      "scales = node(\"Do the end of the branches look like they have been ironed flat?\", cedar, giant)\n",
      "bundles = node(\"Do the bundles have fewer than six needles?\", pine, larch)            \n",
      "needle = node(\"Needles. Are the needles bundled in a pack?\", bundles, None) \n",
      "deciduous = node('Deciduous trees are leafless in the winter.\\nTT ',True, True)\n",
      "coniferous = node('Confirous trees or evergreens keep their leaves all winter.\\n Do the leaves have scales?', scales, needle)\n",
      "needle_scales = node('Does the tree have needles or scale-like leaves?' , coniferous, deciduous)\n",
      "fail = node('Fail... This is a tree-classifying expert system...\\nExiting.', True, True)\n",
      "tree = node('Are you trying to classify a tree?', needle, fail)\n",
      "intro = node('Welcome!\\nPlease answer the questions with either a yes or a no.\\nAre you ready?', tree, fail)\n",
      "  \n",
      "main(intro)        "
     ],
     "language": "python",
     "metadata": {},
     "outputs": [
      {
       "name": "stdout",
       "output_type": "stream",
       "stream": "stdout",
       "text": [
        "Welcome!\n",
        "Please answer the questions with either a yes or a no.\n",
        "Are you ready? yes\n"
       ]
      },
      {
       "name": "stdout",
       "output_type": "stream",
       "stream": "stdout",
       "text": [
        "Are you trying to classify a tree? yes\n"
       ]
      },
      {
       "name": "stdout",
       "output_type": "stream",
       "stream": "stdout",
       "text": [
        "Needles. Are the needles bundled in a pack? no\n"
       ]
      },
      {
       "output_type": "stream",
       "stream": "stdout",
       "text": [
        "bug\n"
       ]
      }
     ],
     "prompt_number": 2
    },
    {
     "cell_type": "code",
     "collapsed": false,
     "input": [],
     "language": "python",
     "metadata": {},
     "outputs": []
    },
    {
     "cell_type": "code",
     "collapsed": false,
     "input": [],
     "language": "python",
     "metadata": {},
     "outputs": []
    },
    {
     "cell_type": "code",
     "collapsed": false,
     "input": [],
     "language": "python",
     "metadata": {},
     "outputs": []
    },
    {
     "cell_type": "code",
     "collapsed": false,
     "input": [],
     "language": "python",
     "metadata": {},
     "outputs": []
    },
    {
     "cell_type": "code",
     "collapsed": false,
     "input": [],
     "language": "python",
     "metadata": {},
     "outputs": []
    }
   ],
   "metadata": {}
  }
 ]
}