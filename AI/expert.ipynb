{
 "metadata": {
  "name": "",
  "signature": "sha256:ff12ba7cced0eb5bab4767cabca25fe0fcd484f404797b325c17d1f4979434f9"
 },
 "nbformat": 3,
 "nbformat_minor": 0,
 "worksheets": [
  {
   "cells": [
    {
     "cell_type": "code",
     "collapsed": false,
     "input": [
      "class node(object):\n",
      "    def __init__(self, string, true, false):\n",
      "        self.string = string\n",
      "        self.next_true = true\n",
      "        self.next_false = false\n",
      "    def ask(self):\n",
      "        if(input(self.string + ' ') == ('yes' or 'y' or 'Y' or 'Yes')):\n",
      "            return (self.next_true)\n",
      "        else:\n",
      "            return (self.next_false)\n",
      "    \n",
      "def main(node):\n",
      "    while True:\n",
      "        node = node.ask()\n",
      "        if(node == True):\n",
      "            break\n",
      "        if(node == None):\n",
      "            print(\"bug\")\n",
      "            break\n",
      "        if(node.next_true == node.next_true == True):\n",
      "            print(node.string)\n",
      "            break\n",
      "            \n",
      "pine = node(\"PINE!!!\", True, True)\n",
      "larch = node(\"LARCH!!!\",True, True)\n",
      "cedar = node(\"CEDAR!!!\", True, True)\n",
      "sequoia = node(\"GIANT SEQUOIA!!!\", True, True)\n",
      "juniper = node(\"JUNIPER!!!\",True,True)\n",
      "c\n",
      "berries = node(\"Are there small berry-like fruits?\", juniper, cypress)\n",
      "giant = node(\"Is the tree enormously tall?\", sequoia, berries)\n",
      "scales = node(\"Do the end of the branches look like they have been ironed flat?\", cedar, giant)\n",
      "bundles = node(\"Do the bundles have fewer than six needles?\", pine, larch)            \n",
      "needle = node(\"Needles. Are the needles bundled in a pack?\", bundles, None) \n",
      "deciduous = node('Deciduous trees are leafless in the winter.\\nTT ',True, True)\n",
      "coniferous_scales = node('Confirous trees or evergreens keep their leaves all winter.\\n Do the leaves have scales?', scales, needle)\n",
      "needle_scales = node('Does the tree have needles or scale-like leaves?' , coniferous, deciduous)\n",
      "fail = node('Fail... This is a tree-classifying expert system...\\nExiting.', True, True)\n",
      "tree = node('Are you trying to classify a tree?', needle, fail)\n",
      "intro = node('Welcome!\\nPlease answer the questions with either a yes or a no.\\nAre you ready?', tree, fail)\n",
      "  \n",
      "main(intro)        "
     ],
     "language": "python",
     "metadata": {},
     "outputs": [
      {
       "ename": "NameError",
       "evalue": "name 'giant' is not defined",
       "output_type": "pyerr",
       "traceback": [
        "\u001b[1;31m---------------------------------------------------------------------------\u001b[0m\n\u001b[1;31mNameError\u001b[0m                                 Traceback (most recent call last)",
        "\u001b[1;32m<ipython-input-53-74a0a2751166>\u001b[0m in \u001b[0;36m<module>\u001b[1;34m()\u001b[0m\n\u001b[0;32m     25\u001b[0m \u001b[0mlarch\u001b[0m \u001b[1;33m=\u001b[0m \u001b[0mnode\u001b[0m\u001b[1;33m(\u001b[0m\u001b[1;34m\"LARCH!!!\"\u001b[0m\u001b[1;33m,\u001b[0m\u001b[1;32mTrue\u001b[0m\u001b[1;33m,\u001b[0m \u001b[1;32mTrue\u001b[0m\u001b[1;33m)\u001b[0m\u001b[1;33m\u001b[0m\u001b[0m\n\u001b[0;32m     26\u001b[0m \u001b[0mcedar\u001b[0m \u001b[1;33m=\u001b[0m \u001b[0mnode\u001b[0m\u001b[1;33m(\u001b[0m\u001b[1;34m\"CEDAR!!!\"\u001b[0m\u001b[1;33m,\u001b[0m \u001b[1;32mTrue\u001b[0m\u001b[1;33m,\u001b[0m \u001b[1;32mTrue\u001b[0m\u001b[1;33m)\u001b[0m\u001b[1;33m\u001b[0m\u001b[0m\n\u001b[1;32m---> 27\u001b[1;33m \u001b[0mscales\u001b[0m \u001b[1;33m=\u001b[0m \u001b[0mnode\u001b[0m\u001b[1;33m(\u001b[0m\u001b[1;34m\"Do the end of the branches look like they have been ironed flat?\"\u001b[0m\u001b[1;33m,\u001b[0m \u001b[0mcedar\u001b[0m\u001b[1;33m,\u001b[0m \u001b[0mgiant\u001b[0m\u001b[1;33m)\u001b[0m\u001b[1;33m\u001b[0m\u001b[0m\n\u001b[0m\u001b[0;32m     28\u001b[0m \u001b[0mbundles\u001b[0m \u001b[1;33m=\u001b[0m \u001b[0mnode\u001b[0m\u001b[1;33m(\u001b[0m\u001b[1;34m\"Do the bundles have fewer than six needles?\"\u001b[0m\u001b[1;33m,\u001b[0m \u001b[0mpine\u001b[0m\u001b[1;33m,\u001b[0m \u001b[0mlarch\u001b[0m\u001b[1;33m)\u001b[0m\u001b[1;33m\u001b[0m\u001b[0m\n\u001b[0;32m     29\u001b[0m \u001b[0mneedle\u001b[0m \u001b[1;33m=\u001b[0m \u001b[0mnode\u001b[0m\u001b[1;33m(\u001b[0m\u001b[1;34m\"Needles. Are the needles bundled in a pack?\"\u001b[0m\u001b[1;33m,\u001b[0m \u001b[0mbundles\u001b[0m\u001b[1;33m,\u001b[0m \u001b[1;32mNone\u001b[0m\u001b[1;33m)\u001b[0m\u001b[1;33m\u001b[0m\u001b[0m\n",
        "\u001b[1;31mNameError\u001b[0m: name 'giant' is not defined"
       ]
      }
     ],
     "prompt_number": 53
    },
    {
     "cell_type": "code",
     "collapsed": false,
     "input": [],
     "language": "python",
     "metadata": {},
     "outputs": []
    },
    {
     "cell_type": "code",
     "collapsed": false,
     "input": [],
     "language": "python",
     "metadata": {},
     "outputs": []
    },
    {
     "cell_type": "code",
     "collapsed": false,
     "input": [],
     "language": "python",
     "metadata": {},
     "outputs": []
    },
    {
     "cell_type": "code",
     "collapsed": false,
     "input": [],
     "language": "python",
     "metadata": {},
     "outputs": []
    },
    {
     "cell_type": "code",
     "collapsed": false,
     "input": [],
     "language": "python",
     "metadata": {},
     "outputs": []
    }
   ],
   "metadata": {}
  }
 ]
}