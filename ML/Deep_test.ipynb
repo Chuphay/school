{
 "metadata": {
  "name": "",
  "signature": "sha256:fd1de9bd5e72566d9f8e69fc6965bde59dfc76576e9fe39f11020d0f258ae49d"
 },
 "nbformat": 3,
 "nbformat_minor": 0,
 "worksheets": [
  {
   "cells": [
    {
     "cell_type": "code",
     "collapsed": false,
     "input": [
      "import numpy as np\n",
      "np.random.seed(0)\n",
      "\n",
      "def dist(x, y):\n",
      "    diff = x - y\n",
      "    return np.sqrt(np.sum(diff * diff))\n",
      "\n",
      "\n",
      "def calc_dists(dpoints, kpoints):\n",
      "    dists = np.zeros((dpoints.shape[0], kpoints.shape[0]))\n",
      "    for i in range(dpoints.shape[0]):\n",
      "        for j in range(kpoints.shape[0]):\n",
      "            dists[i, j] = dist(dpoints[i, :], kpoints[j, :])\n",
      "    return dists\n",
      "\n",
      "def get_assignments(distmat):\n",
      "    return np.argmin(distmat, axis=1)\n",
      "\n",
      "N = 100\n",
      "K = 5\n",
      "dim = 3\n",
      "num_iter = 20\n",
      "\n",
      "DATA = np.random.randn(N, dim)\n",
      "CENT = np.random.randn(K, dim) # initializing cluster centers\n",
      "\n",
      "for step in range(num_iter):\n",
      "    dists = calc_dists(DATA, CENT)\n",
      "    groups = get_assignments(dists)\n",
      "\n",
      "    error = 0.0\n",
      "\n",
      "    for kidx in range(K):\n",
      "        tmpdist = calc_dists(DATA[groups==kidx, :], CENT[np.newaxis, kidx, :])\n",
      "        error += np.sum(tmpdist)\n",
      "\n",
      "    print 'Iteration {:d}, Distortion {:f}'.format(step, error)\n",
      "\n",
      "    for kidx in range(K):\n",
      "        CENT[kidx,:] = np.mean(DATA[groups==kidx, :], axis=0)\n"
     ],
     "language": "python",
     "metadata": {},
     "outputs": [
      {
       "ename": "SyntaxError",
       "evalue": "invalid syntax (<ipython-input-2-27de9198a80b>, line 38)",
       "output_type": "pyerr",
       "traceback": [
        "\u001b[1;36m  File \u001b[1;32m\"<ipython-input-2-27de9198a80b>\"\u001b[1;36m, line \u001b[1;32m38\u001b[0m\n\u001b[1;33m    print 'Iteration {:d}, Distortion {:f}'.format(step, error)\u001b[0m\n\u001b[1;37m                                          ^\u001b[0m\n\u001b[1;31mSyntaxError\u001b[0m\u001b[1;31m:\u001b[0m invalid syntax\n"
       ]
      }
     ],
     "prompt_number": 2
    },
    {
     "cell_type": "code",
     "collapsed": false,
     "input": [],
     "language": "python",
     "metadata": {},
     "outputs": []
    }
   ],
   "metadata": {}
  }
 ]
}