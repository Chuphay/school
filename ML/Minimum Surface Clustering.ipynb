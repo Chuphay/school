{
 "metadata": {
  "name": "",
  "signature": "sha256:69e9c79629a1cb8d81c36e5542afbf15dd9c90513546e5a189858b7f5d598512"
 },
 "nbformat": 3,
 "nbformat_minor": 0,
 "worksheets": [
  {
   "cells": [
    {
     "cell_type": "code",
     "collapsed": false,
     "input": [
      "%pylab inline"
     ],
     "language": "python",
     "metadata": {},
     "outputs": [
      {
       "output_type": "stream",
       "stream": "stdout",
       "text": [
        "Populating the interactive namespace from numpy and matplotlib\n"
       ]
      }
     ],
     "prompt_number": 2
    },
    {
     "cell_type": "code",
     "collapsed": false,
     "input": [
      "A = array([[0,1,1,0,0,0],[1,0,1,0,0,0],[1,1,0,1,0,0],\n",
      "           [0,0,1,0,1,1],[0,0,0,1,0,1],[0,0,0,1,1,0]])\n",
      "A"
     ],
     "language": "python",
     "metadata": {},
     "outputs": [
      {
       "metadata": {},
       "output_type": "pyout",
       "prompt_number": 4,
       "text": [
        "array([[0, 1, 1, 0, 0, 0],\n",
        "       [1, 0, 1, 0, 0, 0],\n",
        "       [1, 1, 0, 1, 0, 0],\n",
        "       [0, 0, 1, 0, 1, 1],\n",
        "       [0, 0, 0, 1, 0, 1],\n",
        "       [0, 0, 0, 1, 1, 0]])"
       ]
      }
     ],
     "prompt_number": 4
    },
    {
     "cell_type": "code",
     "collapsed": false,
     "input": [
      "def get_area(clusters, node_num):\n",
      "    cluster = clusters[node_num]\n",
      "    assert(cluster != 0), \"dude! the node should already be in a cluster\"\n",
      "    \n",
      "    area = 0\n",
      "    for i in clusters:\n",
      "        if(i == cluster):\n",
      "            area += 1\n",
      "    return area\n",
      "\n",
      "def get_perimeter(matrix, clusters, node_num):\n",
      "    cluster = clusters[node_num]\n",
      "    assert(cluster != 0), \"dude! the node should already be in a cluster\"\n",
      "    \n",
      "    perimeter = 0\n",
      "    for i, group in enumerate(clusters):\n",
      "        if(group == cluster):\n",
      "            for j, edge in enumerate(matrix[i]):\n",
      "                if(edge == 1 and clusters[j] != cluster):\n",
      "                    perimeter += 1\n",
      "\n",
      "    return perimeter\n",
      "\n",
      "def add_next_node(matrix, clusters, node_num):\n",
      "    cluster = clusters[node_num]\n",
      "    assert(cluster != 0), \"dude! the node should already be in a cluster\"\n",
      "    \n",
      "    perimeter = get_perimeter(matrix, clusters, node_num)\n",
      "    area = get_area(clusters, node_num)\n",
      "    new_node = None\n",
      "    ratio = area/perimeter\n",
      "    for i, edge in enumerate(matrix[node_num]):\n",
      "        if (clusters[i] == 0 and edge == 1):\n",
      "            clusters[i] = cluster\n",
      "            new_perimeter = get_perimeter(matrix, clusters, node_num)\n",
      "            new_ratio = (area+1)/ new_perimeter\n",
      "            if(new_ratio >= ratio):\n",
      "                ratio = new_ratio\n",
      "                new_node = i\n",
      "            clusters[i] = 0 \n",
      "    if(new_node == None):\n",
      "        #print(\"Didn't find an acceptable node.\")\n",
      "        return False\n",
      "    else:\n",
      "        clusters[new_node] = cluster\n",
      "        return True\n",
      "\n",
      "def num_not_connected(clusters):\n",
      "    out = 0\n",
      "    for i in clusters:\n",
      "        if(i == 0):\n",
      "            out += 1\n",
      "    return out        \n",
      "    \n",
      "def min_surface_cluster(matrix):\n",
      "    clusters = [0 for i in range(len(matrix))]\n",
      "    num_of_clusters = 0\n",
      "    while (num_not_connected(clusters) != 0):\n",
      "        while True:\n",
      "            random_start = randint(len(matrix))\n",
      "            if(clusters[random_start] == 0):\n",
      "                break\n",
      "        print(\"random start\",random_start)\n",
      "        num_of_clusters += 1\n",
      "        clusters[random_start] = num_of_clusters\n",
      "        while True:\n",
      "            if(add_next_node(matrix, clusters, random_start) == False):\n",
      "                break   \n",
      "    return clusters\n",
      "        \n",
      "                \n",
      "\n",
      "\n",
      "min_surface_cluster(A)"
     ],
     "language": "python",
     "metadata": {},
     "outputs": [
      {
       "output_type": "stream",
       "stream": "stdout",
       "text": [
        "random start 3\n",
        "random start 0\n"
       ]
      },
      {
       "metadata": {},
       "output_type": "pyout",
       "prompt_number": 69,
       "text": [
        "[2, 2, 2, 1, 1, 1]"
       ]
      }
     ],
     "prompt_number": 69
    },
    {
     "cell_type": "code",
     "collapsed": false,
     "input": [],
     "language": "python",
     "metadata": {},
     "outputs": []
    }
   ],
   "metadata": {}
  }
 ]
}