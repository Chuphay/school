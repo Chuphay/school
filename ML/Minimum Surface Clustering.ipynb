{
 "metadata": {
  "name": "",
  "signature": "sha256:3dd973342cf8ea0d75c52cb2037756a3f97956d503e41cc77ee3db114bc0a811"
 },
 "nbformat": 3,
 "nbformat_minor": 0,
 "worksheets": [
  {
   "cells": [
    {
     "cell_type": "code",
     "collapsed": false,
     "input": [
      "%pylab inline"
     ],
     "language": "python",
     "metadata": {},
     "outputs": [
      {
       "output_type": "stream",
       "stream": "stdout",
       "text": [
        "Populating the interactive namespace from numpy and matplotlib\n"
       ]
      }
     ],
     "prompt_number": 52
    },
    {
     "cell_type": "code",
     "collapsed": false,
     "input": [
      "A = array([[0,1,1,0,0,0],[1,0,1,0,0,0],[1,1,0,1,0,0],\n",
      "           [0,0,1,0,1,1],[0,0,0,1,0,1],[0,0,0,1,1,0]])\n",
      "A"
     ],
     "language": "python",
     "metadata": {},
     "outputs": [
      {
       "metadata": {},
       "output_type": "pyout",
       "prompt_number": 53,
       "text": [
        "array([[0, 1, 1, 0, 0, 0],\n",
        "       [1, 0, 1, 0, 0, 0],\n",
        "       [1, 1, 0, 1, 0, 0],\n",
        "       [0, 0, 1, 0, 1, 1],\n",
        "       [0, 0, 0, 1, 0, 1],\n",
        "       [0, 0, 0, 1, 1, 0]])"
       ]
      }
     ],
     "prompt_number": 53
    },
    {
     "cell_type": "code",
     "collapsed": false,
     "input": [
      "def get_area(clusters, node_num):\n",
      "    cluster = clusters[node_num]\n",
      "    assert(cluster != 0), \"dude! the node should already be in a cluster\"\n",
      "    \n",
      "    area = 0\n",
      "    for i in clusters:\n",
      "        if(i == cluster):\n",
      "            area += 1\n",
      "    return area\n",
      "\n",
      "def get_perimeter(matrix, clusters, node_num):\n",
      "    cluster = clusters[node_num]\n",
      "    assert(cluster != 0), \"dude! the node should already be in a cluster\"\n",
      "    \n",
      "    perimeter = 0\n",
      "    for i, group in enumerate(clusters):\n",
      "        if(group == cluster):\n",
      "            for j, edge in enumerate(matrix[i]):\n",
      "                if(edge == 1 and clusters[j] != cluster):\n",
      "                    perimeter += 1\n",
      "\n",
      "    return perimeter\n",
      "\n",
      "def add_next_node(matrix, clusters, node_num):\n",
      "    cluster = clusters[node_num]\n",
      "    assert(cluster != 0), \"dude! the node should already be in a cluster\"\n",
      "    \n",
      "    perimeter = get_perimeter(matrix, clusters, node_num)\n",
      "    area = get_area(clusters, node_num)\n",
      "    new_node = None\n",
      "    ratio = area/float(perimeter + 0.00001) #avoid divide by zero\n",
      "    for i, edge in enumerate(matrix[node_num]):\n",
      "        if (clusters[i] == 0 and edge == 1):\n",
      "            clusters[i] = cluster\n",
      "            new_perimeter = get_perimeter(matrix, clusters, node_num)\n",
      "            new_ratio = (area+1)/ float(new_perimeter + 0.00001)\n",
      "            if(new_ratio >= ratio):\n",
      "                ratio = new_ratio\n",
      "                new_node = i\n",
      "            clusters[i] = 0 \n",
      "    if(new_node == None):\n",
      "        pass\n",
      "    else:\n",
      "        clusters[new_node] = cluster\n",
      "    return new_node\n",
      "\n",
      "def num_not_connected(clusters):\n",
      "    out = 0\n",
      "    for i in clusters:\n",
      "        if(i == 0):\n",
      "            out += 1\n",
      "    return out \n",
      "\n",
      "\n",
      "def min_surface_cluster(matrix):\n",
      "    clusters = [0 for i in range(len(matrix))]\n",
      "    num_of_clusters = 0\n",
      "    while (num_not_connected(clusters) != 0): #check to see if we are done\n",
      "        \n",
      "        while True: #get a random start place that hasn't already been connected\n",
      "            random_start = randint(len(matrix))\n",
      "            if(clusters[random_start] == 0):\n",
      "                break\n",
      "        \n",
      "        print(\"random start\",random_start)\n",
      "        num_of_clusters += 1\n",
      "        clusters[random_start] = num_of_clusters\n",
      "        \n",
      "        stack = [random_start]\n",
      "        while len(stack)>0:\n",
      "            next_node = add_next_node(matrix, clusters, stack[-1])\n",
      "            if(next_node == None):\n",
      "                stack.pop()\n",
      "            else:\n",
      "                stack.append(next_node)\n",
      "    \n",
      "    return clusters\n",
      "        \n",
      "                \n",
      "\n",
      "\n",
      "min_surface_cluster(A)"
     ],
     "language": "python",
     "metadata": {},
     "outputs": [
      {
       "output_type": "stream",
       "stream": "stdout",
       "text": [
        "random start 2\n",
        "random start 3\n"
       ]
      },
      {
       "metadata": {},
       "output_type": "pyout",
       "prompt_number": 54,
       "text": [
        "[1, 1, 1, 2, 2, 2]"
       ]
      }
     ],
     "prompt_number": 54
    },
    {
     "cell_type": "code",
     "collapsed": false,
     "input": [
      "A = array([[0,1,0,0,0,0],[1,0,1,0,0,0],[0,1,0,1,0,0],\n",
      "           [0,0,1,0,1,0],[0,0,0,1,0,1],[0,0,0,0,1,0]])\n",
      "min_surface_cluster(A)"
     ],
     "language": "python",
     "metadata": {},
     "outputs": [
      {
       "output_type": "stream",
       "stream": "stdout",
       "text": [
        "random start 1\n"
       ]
      },
      {
       "metadata": {},
       "output_type": "pyout",
       "prompt_number": 55,
       "text": [
        "[1, 1, 1, 1, 1, 1]"
       ]
      }
     ],
     "prompt_number": 55
    },
    {
     "cell_type": "code",
     "collapsed": false,
     "input": [
      "from scipy.spatial.kdtree import KDTree  \n",
      "def make_adjacency_matrix(data, k):\n",
      "    kt = KDTree(data) \n",
      "    out = zeros((len(data),len(data)))\n",
      "    for i, points in enumerate(data):\n",
      "        distance, neighbors = kt.query(points, k+1)\n",
      "        for j in neighbors[1:]:\n",
      "            out[i][j] = 1;\n",
      "            out[j][i] = 1; #to ensure symmetry, one can imagine the the nearest neighbors is not necessarily associative\n",
      "    return out        \n",
      "    \n",
      "\n",
      "    \n",
      "data = array([[0,0],[0,1],[1,0],[4,0],[4,1],[5,0]]) \n",
      "make_adjacency_matrix(data,2)"
     ],
     "language": "python",
     "metadata": {},
     "outputs": [
      {
       "metadata": {},
       "output_type": "pyout",
       "prompt_number": 78,
       "text": [
        "array([[ 0.,  1.,  1.,  0.,  0.,  0.],\n",
        "       [ 1.,  0.,  1.,  0.,  0.,  0.],\n",
        "       [ 1.,  1.,  0.,  0.,  0.,  0.],\n",
        "       [ 0.,  0.,  0.,  0.,  1.,  1.],\n",
        "       [ 0.,  0.,  0.,  1.,  0.,  1.],\n",
        "       [ 0.,  0.,  0.,  1.,  1.,  0.]])"
       ]
      }
     ],
     "prompt_number": 78
    },
    {
     "cell_type": "code",
     "collapsed": false,
     "input": [
      "def make_data(num_data_per_cluster = 100, num_clusters = 3):\n",
      "    data = []\n",
      "    temp = empty((num_data_per_cluster,2))\n",
      "    #print(out)\n",
      "    for i in range(num_clusters):\n",
      "        mu_x, mu_y = 5*randn(), 5*randn()\n",
      "        sig_x, sig_y = rand(), rand() \n",
      "        for j in range(num_data_per_cluster):\n",
      "            data.append([normal(mu_x, sig_x),normal(mu_y, sig_y)])\n",
      "  \n",
      "    return array(data)\n",
      "seed(1)\n",
      "data = make_data(6,3)    \n",
      "scatter(data[:,0],data[:,1]);"
     ],
     "language": "python",
     "metadata": {},
     "outputs": [
      {
       "metadata": {},
       "output_type": "display_data",
       "png": "[encoded data removed]",
       "text": [
        "<matplotlib.figure.Figure at 0xaedd20cc>"
       ]
      }
     ],
     "prompt_number": 128
    },
    {
     "cell_type": "code",
     "collapsed": false,
     "input": [
      "seed(1)\n",
      "data = make_data(6,3)\n",
      "A = make_adjacency_matrix(data,2)\n",
      "print(A)\n",
      "clusters  = min_surface_cluster(A)\n",
      "clusters"
     ],
     "language": "python",
     "metadata": {},
     "outputs": [
      {
       "output_type": "stream",
       "stream": "stdout",
       "text": [
        "[[ 0.  1.  1.  0.  1.  1.  0.  0.  0.  0.  0.  0.  0.  0.  0.  0.  0.  0.]\n",
        " [ 1.  0.  0.  0.  1.  0.  1.  0.  0.  0.  1.  1.  0.  0.  0.  0.  0.  0.]\n",
        " [ 1.  0.  0.  1.  0.  1.  0.  0.  0.  0.  0.  0.  0.  0.  0.  0.  0.  0.]\n",
        " [ 0.  0.  1.  0.  0.  1.  0.  1.  0.  1.  0.  0.  0.  0.  0.  0.  0.  0.]\n",
        " [ 1.  1.  0.  0.  0.  0.  0.  0.  0.  0.  1.  0.  0.  0.  0.  0.  0.  0.]\n",
        " [ 1.  0.  1.  1.  0.  0.  0.  1.  0.  1.  0.  0.  0.  0.  0.  0.  0.  0.]\n",
        " [ 0.  1.  0.  0.  0.  0.  0.  0.  0.  0.  0.  1.  0.  0.  0.  0.  0.  0.]\n",
        " [ 0.  0.  0.  1.  0.  1.  0.  0.  0.  0.  0.  0.  0.  0.  0.  0.  0.  0.]\n",
        " [ 0.  0.  0.  0.  0.  0.  0.  0.  0.  0.  0.  0.  0.  0.  0.  1.  1.  0.]\n",
        " [ 0.  0.  0.  1.  0.  1.  0.  0.  0.  0.  0.  0.  0.  0.  0.  0.  0.  0.]\n",
        " [ 0.  1.  0.  0.  1.  0.  0.  0.  0.  0.  0.  0.  0.  0.  0.  0.  0.  0.]\n",
        " [ 0.  1.  0.  0.  0.  0.  1.  0.  0.  0.  0.  0.  0.  0.  0.  0.  0.  0.]\n",
        " [ 0.  0.  0.  0.  0.  0.  0.  0.  0.  0.  0.  0.  0.  1.  1.  0.  1.  0.]\n",
        " [ 0.  0.  0.  0.  0.  0.  0.  0.  0.  0.  0.  0.  1.  0.  1.  1.  1.  1.]\n",
        " [ 0.  0.  0.  0.  0.  0.  0.  0.  0.  0.  0.  0.  1.  1.  0.  0.  0.  1.]\n",
        " [ 0.  0.  0.  0.  0.  0.  0.  0.  1.  0.  0.  0.  0.  1.  0.  0.  1.  0.]\n",
        " [ 0.  0.  0.  0.  0.  0.  0.  0.  1.  0.  0.  0.  1.  1.  0.  1.  0.  0.]\n",
        " [ 0.  0.  0.  0.  0.  0.  0.  0.  0.  0.  0.  0.  0.  1.  1.  0.  0.  0.]]\n",
        "random start 13\n",
        "random start 6\n",
        "random start 2\n"
       ]
      },
      {
       "metadata": {},
       "output_type": "pyout",
       "prompt_number": 119,
       "text": [
        "[2, 2, 3, 3, 2, 3, 2, 3, 1, 3, 2, 2, 1, 1, 1, 1, 1, 1]"
       ]
      }
     ],
     "prompt_number": 119
    },
    {
     "cell_type": "code",
     "collapsed": false,
     "input": [
      "seed(123)\n",
      "data = make_data(20,3)\n",
      "A = make_adjacency_matrix(data,4)\n",
      "clusters  = min_surface_cluster(A)\n",
      "colors = cm.rainbow(linspace(0, 1, max(clusters)))\n",
      "figsize(15,10)\n",
      "for i in range(1, max(clusters)+1):\n",
      "    for j in range(len(clusters)):\n",
      "        if(clusters[j] == i):\n",
      "            scatter(data[j][0],data[j][1], c = colors[i-1])\n"
     ],
     "language": "python",
     "metadata": {},
     "outputs": [
      {
       "output_type": "stream",
       "stream": "stdout",
       "text": [
        "random start 55\n",
        "random start 34\n",
        "random start 37\n",
        "random start 49\n",
        "random start 21\n",
        "random start 17\n",
        "random start"
       ]
      },
      {
       "output_type": "stream",
       "stream": "stdout",
       "text": [
        " 58\n",
        "random start 2\n",
        "random start"
       ]
      },
      {
       "output_type": "stream",
       "stream": "stdout",
       "text": [
        " 32\n",
        "random start 51\n"
       ]
      },
      {
       "metadata": {},
       "output_type": "display_data",
       "png": "[encoded data removed]",
       "text": [
        "<matplotlib.figure.Figure at 0xaedcb50c>"
       ]
      }
     ],
     "prompt_number": 148
    },
    {
     "cell_type": "code",
     "collapsed": false,
     "input": [],
     "language": "python",
     "metadata": {},
     "outputs": []
    }
   ],
   "metadata": {}
  }
 ]
}