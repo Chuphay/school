{
 "metadata": {
  "name": "",
  "signature": "sha256:71d78a34c9af8e09e17a9140780adf5c46e521a0668449e033fb6f6de3d53386"
 },
 "nbformat": 3,
 "nbformat_minor": 0,
 "worksheets": [
  {
   "cells": [
    {
     "cell_type": "code",
     "collapsed": false,
     "input": [
      "%pylab inline"
     ],
     "language": "python",
     "metadata": {},
     "outputs": [
      {
       "output_type": "stream",
       "stream": "stdout",
       "text": [
        "Populating the interactive namespace from numpy and matplotlib\n"
       ]
      },
      {
       "output_type": "stream",
       "stream": "stderr",
       "text": [
        "WARNING: pylab import has clobbered these variables: ['eig']\n",
        "`%matplotlib` prevents importing * from pylab and numpy\n"
       ]
      }
     ],
     "prompt_number": 5
    },
    {
     "cell_type": "code",
     "collapsed": false,
     "input": [
      "A = randn(2,2)\n",
      "A"
     ],
     "language": "python",
     "metadata": {},
     "outputs": [
      {
       "metadata": {},
       "output_type": "pyout",
       "prompt_number": 4,
       "text": [
        "array([[-0.72705218,  0.68023368],\n",
        "       [-1.70796091,  0.19449304]])"
       ]
      }
     ],
     "prompt_number": 4
    },
    {
     "cell_type": "code",
     "collapsed": false,
     "input": [
      "value, vector = eig(A)"
     ],
     "language": "python",
     "metadata": {},
     "outputs": [
      {
       "metadata": {},
       "output_type": "pyout",
       "prompt_number": 5,
       "text": [
        "(array([-0.26627957+0.97442349j, -0.26627957-0.97442349j]),\n",
        " array([[ 0.22814599-0.48247401j,  0.22814599+0.48247401j],\n",
        "        [ 0.84567620+0.j        ,  0.84567620-0.j        ]]))"
       ]
      }
     ],
     "prompt_number": 5
    },
    {
     "cell_type": "code",
     "collapsed": false,
     "input": [
      "#http://stackoverflow.com/questions/12167654/fastest-way-to-compute-k-largest-eigenvalues-and-corresponding-eigenvectors-with\n",
      "import numpy as np\n",
      "from time import clock\n",
      "from scipy.linalg import eigh as largest_eigh\n",
      "from scipy.sparse.linalg.eigen.arpack import eigsh as largest_eigsh\n",
      "\n",
      "np.set_printoptions(suppress=True)\n",
      "np.random.seed(0)\n",
      "N=1000\n",
      "k=10\n",
      "X = np.random.random((N,N)) - 0.5\n",
      "X = np.dot(X, X.T) #create a symmetric matrix\n",
      "\n",
      "# Benchmark the dense routine\n",
      "start = clock()\n",
      "evals_large, evecs_large = largest_eigh(X, eigvals=(N-k,N-1))\n",
      "elapsed = (clock() - start)\n",
      "print (\"eigh elapsed time: \", elapsed)\n",
      "\n",
      "# Benchmark the sparse routine\n",
      "start = clock()\n",
      "evals_large_sparse, evecs_large_sparse = largest_eigsh(X, k, which='LM')\n",
      "elapsed = (clock() - start)\n",
      "print (\"eigsh elapsed time: \", elapsed )   "
     ],
     "language": "python",
     "metadata": {},
     "outputs": [
      {
       "output_type": "stream",
       "stream": "stdout",
       "text": [
        "eigh elapsed time:  0.502009\n",
        "eigsh elapsed time: "
       ]
      },
      {
       "output_type": "stream",
       "stream": "stdout",
       "text": [
        " 0.20372599999999985\n"
       ]
      }
     ],
     "prompt_number": 2
    },
    {
     "cell_type": "code",
     "collapsed": false,
     "input": [
      "#http://wersdoerfer.com/~jochen/s9y/index.php?/archives/109-spectral-clustering-with-python.html\n",
      "\n",
      "import sys  \n",
      "  \n",
      "import numpy as np  \n",
      "import matplotlib.pyplot as plt  \n",
      "  \n",
      "from scipy.linalg import eig  \n",
      "from scipy.cluster.vq import kmeans2  \n",
      "from scipy.sparse.linalg import eigen  \n",
      "from scipy.spatial.kdtree import KDTree  \n",
      "  \n",
      "def get_noise(stddev=0.25, numpoints=150):  \n",
      "    # 2d gaussian random noise  \n",
      "    x = np.random.normal(0, stddev, numpoints)  \n",
      "    y = np.random.normal(0, stddev, numpoints)  \n",
      "    return np.column_stack((x, y))  \n",
      "  \n",
      "def get_circle(center=(0.0, 0.0), r=1.0, numpoints=150):  \n",
      "    # use polar coordinates to get uniformly distributed points  \n",
      "    step = np.pi * 2.0 / numpoints  \n",
      "    t = np.arange(0, np.pi * 2.0, step)  \n",
      "    x = center[0] + r * np.cos(t)  \n",
      "    y = center[1] + r * np.sin(t)  \n",
      "    return np.column_stack((x, y))  \n",
      "  \n",
      "def radial_kernel(c=1.5):  \n",
      "    def inner(a, b):  \n",
      "        d = a - b  \n",
      "        return np.exp((-1 * (np.sqrt(np.dot(d, d.conj()))**2)) / c)  \n",
      "    return inner  \n",
      "  \n",
      "def circle_samples():  \n",
      "    circles = []  \n",
      "    for radius in (1.0, 2.8, 5.0):  \n",
      "        circles.append(get_circle(r=radius) + get_noise())  \n",
      "    return np.vstack(circles)  \n",
      "  \n",
      "def mutual_knn(points, n=10, distance=radial_kernel()):  \n",
      "    knn = {}  \n",
      "    kt = KDTree(points)  \n",
      "    for i, point in enumerate(points):  \n",
      "        # cannot use euclidean distance directly  \n",
      "        for neighbour in kt.query(point, n + 1)[1]:  \n",
      "            if i != neighbour:  \n",
      "                knn.setdefault(i, []).append(  \n",
      "                    (distance(point, points[neighbour]), neighbour))  \n",
      "    return knn  \n",
      "  \n",
      "def get_distance_matrix(knn):  \n",
      "    n = len(knn)  \n",
      "    W = np.zeros((n, n))  \n",
      "    for point, nearest_neighbours in knn.items():  \n",
      "        for distance, neighbour in nearest_neighbours:  \n",
      "            W[point][neighbour] = distance  \n",
      "    return W  \n",
      "  \n",
      "def rename_clusters(idx):  \n",
      "    # so that first cluster has index 0  \n",
      "    num = -1  \n",
      "    seen = {}  \n",
      "    newidx = []  \n",
      "    for id in idx:  \n",
      "        if id not in seen:  \n",
      "            num += 1  \n",
      "            seen[id] = num  \n",
      "        newidx.append(seen[id])  \n",
      "    return np.array(newidx)  \n",
      "  \n",
      "def cluster_points(L):  \n",
      "    # sparse eigen is a little bit faster than eig  \n",
      "    #evals, evcts = eigen(L, k=15, which=\"SM\")  \n",
      "    evals, evcts = eig(L)  \n",
      "    evals, evcts = evals.real, evcts.real  \n",
      "    edict = dict(zip(evals, evcts.transpose()))  \n",
      "    evals = sorted(edict.keys())  \n",
      "    # second and third smallest eigenvalue + vector  \n",
      "    Y = np.array([edict[k] for k in evals[1:3]]).transpose()  \n",
      "    res, idx = kmeans2(Y, 3, minit='random')  \n",
      "    return evals[:15], Y, rename_clusters(idx)  \n",
      "  \n",
      "def change_tick_fontsize(ax, size):  \n",
      "    for tl in ax.get_xticklabels():  \n",
      "        tl.set_fontsize(size)  \n",
      "    for tl in ax.get_yticklabels():  \n",
      "        tl.set_fontsize(size)  \n",
      "  \n",
      "def get_colormap():  \n",
      "    # map cluster label to color (0, 1, 2) -> (orange, blue, green)  \n",
      "    from matplotlib.colors import ListedColormap  \n",
      "    orange = (0.918, 0.545, 0.0)  \n",
      "    blue = (0.169, 0.651, 0.914)  \n",
      "    green = (0.0, 0.58, 0.365)  \n",
      "    return ListedColormap([orange, blue, green])  \n",
      "  \n",
      "def plot_circles(ax, points, idx, colormap):  \n",
      "    plt.scatter(points[:,0], points[:,1], s=10, c=idx, cmap=colormap,  \n",
      "        alpha=0.9, facecolors=\"none\")  \n",
      "    plt.xlabel(\"x1\", fontsize=8)  \n",
      "    plt.ylabel(\"x2\", fontsize=8)  \n",
      "    change_tick_fontsize(ax, 8 )  \n",
      "    plt.ylim(-6, 6)  \n",
      "    plt.xlim(-6, 6)  \n",
      "  \n",
      "def plot_eigenvalues(ax, evals):  \n",
      "    plt.scatter(np.arange(0, len(evals)), evals,  \n",
      "        c=(0.0, 0.58, 0.365), linewidth=0)  \n",
      "    plt.xlabel(\"Number\", fontsize=8)  \n",
      "    plt.ylabel(\"Eigenvalue\", fontsize=8)  \n",
      "    plt.axhline(0, ls=\"--\", c=\"k\")  \n",
      "    change_tick_fontsize(ax, 8 )  \n",
      "  \n",
      "def plot_eigenvectors(ax, Y, idx, colormap):  \n",
      "    from matplotlib.ticker import MaxNLocator  \n",
      "    from mpl_toolkits.axes_grid import make_axes_locatable  \n",
      "    divider = make_axes_locatable(ax)  \n",
      "    ax2 = divider.new_vertical(size=\"100%\", pad=0.05)  \n",
      "    fig1 = ax.get_figure()  \n",
      "    fig1.add_axes(ax2)  \n",
      "    ax2.set_title(\"Eigenvectors\", fontsize=10)  \n",
      "    ax2.scatter(np.arange(0, len(Y)), Y[:,0], s=10, c=idx, cmap=colormap,  \n",
      "        alpha=0.9, facecolors=\"none\")  \n",
      "    ax2.axhline(0, ls=\"--\", c=\"k\")  \n",
      "    ax2.yaxis.set_major_locator(MaxNLocator(4))  \n",
      "    ax.yaxis.set_major_locator(MaxNLocator(4))  \n",
      "    ax.axhline(0, ls=\"--\", c=\"k\")  \n",
      "    ax.scatter(np.arange(0, len(Y)), Y[:,1], s=10, c=idx, cmap=colormap,  \n",
      "        alpha=0.9, facecolors=\"none\")  \n",
      "    ax.set_xlabel(\"index\", fontsize=8)  \n",
      "    ax2.set_ylabel(\"2nd Smallest\", fontsize=8)  \n",
      "    ax.set_ylabel(\"3nd Smallest\", fontsize=8)  \n",
      "    change_tick_fontsize(ax, 8 )  \n",
      "    change_tick_fontsize(ax2, 8 )  \n",
      "    for tl in ax2.get_xticklabels():  \n",
      "        tl.set_visible(False)  \n",
      "  \n",
      "def plot_spec_clustering(ax, Y, idx, colormap):  \n",
      "    plt.title(\"Spectral Clustering\", fontsize=10)  \n",
      "    plt.scatter(Y[:,0], Y[:,1], c=idx, cmap=colormap, s=10, alpha=0.9,  \n",
      "        facecolors=\"none\")  \n",
      "    plt.xlabel(\"Second Smallest Eigenvector\", fontsize=8)  \n",
      "    plt.ylabel(\"Third Smallest Eigenvector\", fontsize=8)  \n",
      "    change_tick_fontsize(ax, 8 )  \n",
      "  \n",
      "def plot_figure(points, evals, Y, idx):  \n",
      "    colormap = get_colormap()  \n",
      "    fig = plt.figure(figsize=(6, 5.5))  \n",
      "  \n",
      "    fig.subplots_adjust(wspace=0.4, hspace=0.3)  \n",
      "    ax = fig.add_subplot(2, 2, 1)  \n",
      "    plot_circles(ax, points, idx, colormap)  \n",
      "  \n",
      "    ax = fig.add_subplot(2, 2, 2)  \n",
      "    plot_eigenvalues(ax, evals)  \n",
      "  \n",
      "    ax = fig.add_subplot(2, 2, 3)  \n",
      "    plot_eigenvectors(ax, Y, idx, colormap)  \n",
      "  \n",
      "    ax = fig.add_subplot(2, 2, 4)  \n",
      "    plot_spec_clustering(ax, Y, idx, colormap)  \n",
      "  \n",
      "    plt.show()  \n",
      "  \n",
      "def main():  \n",
      "    points = circle_samples()  \n",
      "    knn_points = mutual_knn(points)  \n",
      "    W = get_distance_matrix(knn_points)  \n",
      "    G = np.diag([sum(Wi) for Wi in W])  \n",
      "  \n",
      "    # unnormalized graph Laplacian  \n",
      "    L = G - W  \n",
      "    evals, Y, idx = cluster_points(L)  \n",
      "  \n",
      "    plot_figure(points, evals, Y, idx)  \n",
      "\n",
      "main()    "
     ],
     "language": "python",
     "metadata": {},
     "outputs": [
      {
       "metadata": {},
       "output_type": "display_data",
       "png": "[encoded data removed]",
       "text": [
        "<matplotlib.figure.Figure at 0xac833cec>"
       ]
      }
     ],
     "prompt_number": 6
    },
    {
     "cell_type": "code",
     "collapsed": false,
     "input": [
      "points = circle_samples()  \n",
      "kt = KDTree(points)  "
     ],
     "language": "python",
     "metadata": {},
     "outputs": [
      {
       "metadata": {},
       "output_type": "pyout",
       "prompt_number": 8,
       "text": [
        "<scipy.spatial.kdtree.KDTree at 0xac0097ec>"
       ]
      }
     ],
     "prompt_number": 8
    },
    {
     "cell_type": "markdown",
     "metadata": {},
     "source": [
      "count_neighbors(other, r[, p])\tCount how many nearby pairs can be formed.\n",
      "\n",
      "innernode\t\n",
      "\n",
      "leafnode\t\n",
      "\n",
      "node\t\n",
      "\n",
      "query(x[, k, eps, p, distance_upper_bound])\tQuery the kd-tree for nearest neighbors\n",
      "\n",
      "query_ball_point(x, r[, p, eps])\tFind all points within distance r of point(s) x.\n",
      "\n",
      "query_ball_tree(other, r[, p, eps])\tFind all pairs of points whose distance is at most r\n",
      "\n",
      "query_pairs(r[, p, eps])\tFind all pairs of points within a distance.\n",
      "\n",
      "sparse_distance_matrix(other, max_distance)\tCompute a sparse distance matrix\n"
     ]
    },
    {
     "cell_type": "code",
     "collapsed": false,
     "input": [
      "kt.query(points[0],4)"
     ],
     "language": "python",
     "metadata": {},
     "outputs": [
      {
       "metadata": {},
       "output_type": "pyout",
       "prompt_number": 16,
       "text": [
        "(array([ 0.        ,  0.09029141,  0.14707629,  0.15889874]),\n",
        " array([  0, 143, 133, 132]))"
       ]
      }
     ],
     "prompt_number": 16
    },
    {
     "cell_type": "code",
     "collapsed": false,
     "input": [
      "kt.query_ball_point(points[0],0.2)"
     ],
     "language": "python",
     "metadata": {},
     "outputs": [
      {
       "metadata": {},
       "output_type": "pyout",
       "prompt_number": 20,
       "text": [
        "[132, 133, 0, 143, 148]"
       ]
      }
     ],
     "prompt_number": 20
    },
    {
     "cell_type": "code",
     "collapsed": false,
     "input": [],
     "language": "python",
     "metadata": {},
     "outputs": []
    }
   ],
   "metadata": {}
  }
 ]
}