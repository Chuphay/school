{
 "metadata": {
  "name": "",
  "signature": "sha256:b29375e0e3081e34ad9c582bd9a9d0422ac76d82bdea7f39149c825b8c627148"
 },
 "nbformat": 3,
 "nbformat_minor": 0,
 "worksheets": [
  {
   "cells": [
    {
     "cell_type": "code",
     "collapsed": false,
     "input": [
      "%pylab inline\n",
      "from tools import repeat "
     ],
     "language": "python",
     "metadata": {},
     "outputs": [
      {
       "output_type": "stream",
       "stream": "stdout",
       "text": [
        "Populating the interactive namespace from numpy and matplotlib\n"
       ]
      }
     ],
     "prompt_number": 1
    },
    {
     "cell_type": "code",
     "collapsed": false,
     "input": [
      "@repeat(10)\n",
      "def get_marbles(mu):\n",
      "    if(rand()<mu):\n",
      "        return 1\n",
      "    else:\n",
      "        return 0\n",
      "\n",
      "@repeat(10000)    \n",
      "def get_prob(mu):\n",
      "    if(get_marbles(mu) == 0):\n",
      "        return 1\n",
      "    else:\n",
      "        return 0\n",
      "\n",
      "print(.95**10)\n",
      "get_prob(0.05)\n"
     ],
     "language": "python",
     "metadata": {},
     "outputs": [
      {
       "output_type": "stream",
       "stream": "stdout",
       "text": [
        "0.5987369392383787\n"
       ]
      },
      {
       "metadata": {},
       "output_type": "pyout",
       "prompt_number": 22,
       "text": [
        "0.6025"
       ]
      }
     ],
     "prompt_number": 22
    },
    {
     "cell_type": "code",
     "collapsed": false,
     "input": [
      "(0.95**10) # + 0.05**9+ 0.5**8+ 0.5**7+ 0.5**6+ 0.5**5+ 0.5**4+ 0.5**3+ 0.5**2+ 0.5**1)"
     ],
     "language": "python",
     "metadata": {},
     "outputs": [
      {
       "metadata": {},
       "output_type": "pyout",
       "prompt_number": 33,
       "text": [
        "0.5987369392383787"
       ]
      }
     ],
     "prompt_number": 33
    },
    {
     "cell_type": "code",
     "collapsed": false,
     "input": [],
     "language": "python",
     "metadata": {},
     "outputs": []
    }
   ],
   "metadata": {}
  }
 ]
}