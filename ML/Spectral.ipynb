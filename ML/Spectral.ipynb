{
 "metadata": {
  "name": "",
  "signature": "sha256:a36765f8c867a3c8b91c3d170f06183c832984a712dd94fb23f5bbff92007729"
 },
 "nbformat": 3,
 "nbformat_minor": 0,
 "worksheets": [
  {
   "cells": [
    {
     "cell_type": "code",
     "collapsed": false,
     "input": [
      "%pylab inline"
     ],
     "language": "python",
     "metadata": {},
     "outputs": [
      {
       "output_type": "stream",
       "stream": "stdout",
       "text": [
        "Populating the interactive namespace from numpy and matplotlib\n"
       ]
      }
     ],
     "prompt_number": 1
    },
    {
     "cell_type": "code",
     "collapsed": false,
     "input": [
      "A = randn(2,2)\n",
      "A"
     ],
     "language": "python",
     "metadata": {},
     "outputs": [
      {
       "metadata": {},
       "output_type": "pyout",
       "prompt_number": 2,
       "text": [
        "array([[-0.79469158,  0.80793427],\n",
        "       [ 0.06962011, -0.57551   ]])"
       ]
      }
     ],
     "prompt_number": 2
    },
    {
     "cell_type": "code",
     "collapsed": false,
     "input": [
      "value, vector = eig(A)\n",
      "value, vector"
     ],
     "language": "python",
     "metadata": {},
     "outputs": [
      {
       "metadata": {},
       "output_type": "pyout",
       "prompt_number": 5,
       "text": [
        "(array([-0.94636429, -0.42383729]), array([[-0.98283139, -0.90882988],\n",
        "        [ 0.18450597, -0.41716693]]))"
       ]
      }
     ],
     "prompt_number": 5
    },
    {
     "cell_type": "code",
     "collapsed": false,
     "input": [
      "eigh(A)"
     ],
     "language": "python",
     "metadata": {},
     "outputs": [
      {
       "metadata": {},
       "output_type": "pyout",
       "prompt_number": 8,
       "text": [
        "(array([-0.81493569, -0.55526589]), array([[-0.96022863, -0.27921492],\n",
        "        [ 0.27921492, -0.96022863]]))"
       ]
      }
     ],
     "prompt_number": 8
    },
    {
     "cell_type": "code",
     "collapsed": false,
     "input": [
      "#http://stackoverflow.com/questions/12167654/fastest-way-to-compute-k-largest-eigenvalues-and-corresponding-eigenvectors-with\n",
      "import numpy as np\n",
      "from time import clock\n",
      "from scipy.linalg import eigh as largest_eigh\n",
      "from scipy.sparse.linalg.eigen.arpack import eigsh as largest_eigsh\n",
      "\n",
      "np.set_printoptions(suppress=True)\n",
      "np.random.seed(0)\n",
      "N=1000\n",
      "k=10\n",
      "X = np.random.random((N,N)) - 0.5\n",
      "X = np.dot(X, X.T) #create a symmetric matrix\n",
      "\n",
      "# Benchmark the dense routine\n",
      "start = clock()\n",
      "evals_large, evecs_large = largest_eigh(X, eigvals=(N-k,N-1))\n",
      "elapsed = (clock() - start)\n",
      "print (\"eigh elapsed time: \", elapsed)\n",
      "\n",
      "# Benchmark the sparse routine\n",
      "start = clock()\n",
      "evals_large_sparse, evecs_large_sparse = largest_eigsh(X, k, which='LM')\n",
      "elapsed = (clock() - start)\n",
      "print (\"eigsh elapsed time: \", elapsed )   "
     ],
     "language": "python",
     "metadata": {},
     "outputs": [
      {
       "output_type": "stream",
       "stream": "stdout",
       "text": [
        "eigh elapsed time:  0.502009\n",
        "eigsh elapsed time: "
       ]
      },
      {
       "output_type": "stream",
       "stream": "stdout",
       "text": [
        " 0.20372599999999985\n"
       ]
      }
     ],
     "prompt_number": 2
    },
    {
     "cell_type": "code",
     "collapsed": false,
     "input": [
      "#http://wersdoerfer.com/~jochen/s9y/index.php?/archives/109-spectral-clustering-with-python.html\n",
      "\n",
      "import sys  \n",
      "  \n",
      "import numpy as np  \n",
      "import matplotlib.pyplot as plt  \n",
      "  \n",
      "from scipy.linalg import eig  \n",
      "from scipy.cluster.vq import kmeans2  \n",
      "from scipy.sparse.linalg import eigen  \n",
      "from scipy.spatial.kdtree import KDTree  \n",
      "  \n",
      "def get_noise(stddev=0.25, numpoints=150):  \n",
      "    # 2d gaussian random noise  \n",
      "    x = np.random.normal(0, stddev, numpoints)  \n",
      "    y = np.random.normal(0, stddev, numpoints)  \n",
      "    return np.column_stack((x, y))  \n",
      "  \n",
      "def get_circle(center=(0.0, 0.0), r=1.0, numpoints=150):  \n",
      "    # use polar coordinates to get uniformly distributed points  \n",
      "    step = np.pi * 2.0 / numpoints  \n",
      "    t = np.arange(0, np.pi * 2.0, step)  \n",
      "    x = center[0] + r * np.cos(t)  \n",
      "    y = center[1] + r * np.sin(t)  \n",
      "    return np.column_stack((x, y))  \n",
      "  \n",
      "def radial_kernel(c=1.5):  \n",
      "    def inner(a, b):  \n",
      "        d = a - b  \n",
      "        return np.exp((-1 * (np.sqrt(np.dot(d, d.conj()))**2)) / c)  \n",
      "    return inner  \n",
      "  \n",
      "def circle_samples():  \n",
      "    circles = []  \n",
      "    for radius in (1.0, 2.8, 5.0):  \n",
      "        circles.append(get_circle(r=radius) + get_noise())  \n",
      "    return np.vstack(circles)  \n",
      "  \n",
      "def mutual_knn(points, n=10, distance=radial_kernel()):  \n",
      "    knn = {}  \n",
      "    kt = KDTree(points)  \n",
      "    for i, point in enumerate(points):  \n",
      "        # cannot use euclidean distance directly  \n",
      "        for neighbour in kt.query(point, n + 1)[1]:  \n",
      "            if i != neighbour:  \n",
      "                knn.setdefault(i, []).append(  \n",
      "                    (distance(point, points[neighbour]), neighbour))  \n",
      "    return knn  \n",
      "  \n",
      "def get_distance_matrix(knn):  \n",
      "    n = len(knn)  \n",
      "    W = np.zeros((n, n))  \n",
      "    for point, nearest_neighbours in knn.items():  \n",
      "        for distance, neighbour in nearest_neighbours:  \n",
      "            W[point][neighbour] = distance  \n",
      "    return W  \n",
      "  \n",
      "def rename_clusters(idx):  \n",
      "    # so that first cluster has index 0  \n",
      "    num = -1  \n",
      "    seen = {}  \n",
      "    newidx = []  \n",
      "    for id in idx:  \n",
      "        if id not in seen:  \n",
      "            num += 1  \n",
      "            seen[id] = num  \n",
      "        newidx.append(seen[id])  \n",
      "    return np.array(newidx)  \n",
      "  \n",
      "def cluster_points(L):  \n",
      "    # sparse eigen is a little bit faster than eig  \n",
      "    #evals, evcts = eigen(L, k=15, which=\"SM\")  \n",
      "    evals, evcts = eig(L)  \n",
      "    evals, evcts = evals.real, evcts.real  \n",
      "    edict = dict(zip(evals, evcts.transpose()))  \n",
      "    evals = sorted(edict.keys())  \n",
      "    # second and third smallest eigenvalue + vector  \n",
      "    Y = np.array([edict[k] for k in evals[1:3]]).transpose()  \n",
      "    res, idx = kmeans2(Y, 3, minit='random')  \n",
      "    return evals[:15], Y, rename_clusters(idx)  \n",
      "  \n",
      "def change_tick_fontsize(ax, size):  \n",
      "    for tl in ax.get_xticklabels():  \n",
      "        tl.set_fontsize(size)  \n",
      "    for tl in ax.get_yticklabels():  \n",
      "        tl.set_fontsize(size)  \n",
      "  \n",
      "def get_colormap():  \n",
      "    # map cluster label to color (0, 1, 2) -> (orange, blue, green)  \n",
      "    from matplotlib.colors import ListedColormap  \n",
      "    orange = (0.918, 0.545, 0.0)  \n",
      "    blue = (0.169, 0.651, 0.914)  \n",
      "    green = (0.0, 0.58, 0.365)  \n",
      "    return ListedColormap([orange, blue, green])  \n",
      "  \n",
      "def plot_circles(ax, points, idx, colormap):  \n",
      "    plt.scatter(points[:,0], points[:,1], s=10, c=idx, cmap=colormap,  \n",
      "        alpha=0.9, facecolors=\"none\")  \n",
      "    plt.xlabel(\"x1\", fontsize=8)  \n",
      "    plt.ylabel(\"x2\", fontsize=8)  \n",
      "    change_tick_fontsize(ax, 8 )  \n",
      "    plt.ylim(-6, 6)  \n",
      "    plt.xlim(-6, 6)  \n",
      "  \n",
      "def plot_eigenvalues(ax, evals):  \n",
      "    plt.scatter(np.arange(0, len(evals)), evals,  \n",
      "        c=(0.0, 0.58, 0.365), linewidth=0)  \n",
      "    plt.xlabel(\"Number\", fontsize=8)  \n",
      "    plt.ylabel(\"Eigenvalue\", fontsize=8)  \n",
      "    plt.axhline(0, ls=\"--\", c=\"k\")  \n",
      "    change_tick_fontsize(ax, 8 )  \n",
      "  \n",
      "def plot_eigenvectors(ax, Y, idx, colormap):  \n",
      "    from matplotlib.ticker import MaxNLocator  \n",
      "    from mpl_toolkits.axes_grid import make_axes_locatable  \n",
      "    divider = make_axes_locatable(ax)  \n",
      "    ax2 = divider.new_vertical(size=\"100%\", pad=0.05)  \n",
      "    fig1 = ax.get_figure()  \n",
      "    fig1.add_axes(ax2)  \n",
      "    ax2.set_title(\"Eigenvectors\", fontsize=10)  \n",
      "    ax2.scatter(np.arange(0, len(Y)), Y[:,0], s=10, c=idx, cmap=colormap,  \n",
      "        alpha=0.9, facecolors=\"none\")  \n",
      "    ax2.axhline(0, ls=\"--\", c=\"k\")  \n",
      "    ax2.yaxis.set_major_locator(MaxNLocator(4))  \n",
      "    ax.yaxis.set_major_locator(MaxNLocator(4))  \n",
      "    ax.axhline(0, ls=\"--\", c=\"k\")  \n",
      "    ax.scatter(np.arange(0, len(Y)), Y[:,1], s=10, c=idx, cmap=colormap,  \n",
      "        alpha=0.9, facecolors=\"none\")  \n",
      "    ax.set_xlabel(\"index\", fontsize=8)  \n",
      "    ax2.set_ylabel(\"2nd Smallest\", fontsize=8)  \n",
      "    ax.set_ylabel(\"3nd Smallest\", fontsize=8)  \n",
      "    change_tick_fontsize(ax, 8 )  \n",
      "    change_tick_fontsize(ax2, 8 )  \n",
      "    for tl in ax2.get_xticklabels():  \n",
      "        tl.set_visible(False)  \n",
      "  \n",
      "def plot_spec_clustering(ax, Y, idx, colormap):  \n",
      "    plt.title(\"Spectral Clustering\", fontsize=10)  \n",
      "    plt.scatter(Y[:,0], Y[:,1], c=idx, cmap=colormap, s=10, alpha=0.9,  \n",
      "        facecolors=\"none\")  \n",
      "    plt.xlabel(\"Second Smallest Eigenvector\", fontsize=8)  \n",
      "    plt.ylabel(\"Third Smallest Eigenvector\", fontsize=8)  \n",
      "    change_tick_fontsize(ax, 8 )  \n",
      "  \n",
      "def plot_figure(points, evals, Y, idx):  \n",
      "    colormap = get_colormap()  \n",
      "    fig = plt.figure(figsize=(6, 5.5))  \n",
      "  \n",
      "    fig.subplots_adjust(wspace=0.4, hspace=0.3)  \n",
      "    ax = fig.add_subplot(2, 2, 1)  \n",
      "    plot_circles(ax, points, idx, colormap)  \n",
      "  \n",
      "    ax = fig.add_subplot(2, 2, 2)  \n",
      "    plot_eigenvalues(ax, evals)  \n",
      "  \n",
      "    ax = fig.add_subplot(2, 2, 3)  \n",
      "    plot_eigenvectors(ax, Y, idx, colormap)  \n",
      "  \n",
      "    ax = fig.add_subplot(2, 2, 4)  \n",
      "    plot_spec_clustering(ax, Y, idx, colormap)  \n",
      "  \n",
      "    plt.show()  \n",
      "  \n",
      "def main():  \n",
      "    points = circle_samples()  \n",
      "    knn_points = mutual_knn(points)  \n",
      "    W = get_distance_matrix(knn_points)  \n",
      "    G = np.diag([sum(Wi) for Wi in W])  \n",
      "  \n",
      "    # unnormalized graph Laplacian  \n",
      "    L = G - W  \n",
      "    evals, Y, idx = cluster_points(L)  \n",
      "  \n",
      "    plot_figure(points, evals, Y, idx)  \n",
      "\n",
      "main()    "
     ],
     "language": "python",
     "metadata": {},
     "outputs": [
      {
       "metadata": {},
       "output_type": "display_data",
       "png": "[encoded data removed]",
       "text": [
        "<matplotlib.figure.Figure at 0xac833cec>"
       ]
      }
     ],
     "prompt_number": 6
    },
    {
     "cell_type": "code",
     "collapsed": false,
     "input": [
      "points = circle_samples()  \n",
      "kt = KDTree(points)  "
     ],
     "language": "python",
     "metadata": {},
     "outputs": [
      {
       "metadata": {},
       "output_type": "pyout",
       "prompt_number": 8,
       "text": [
        "<scipy.spatial.kdtree.KDTree at 0xac0097ec>"
       ]
      }
     ],
     "prompt_number": 8
    },
    {
     "cell_type": "markdown",
     "metadata": {},
     "source": [
      "count_neighbors(other, r[, p])\tCount how many nearby pairs can be formed.\n",
      "\n",
      "innernode\t\n",
      "\n",
      "leafnode\t\n",
      "\n",
      "node\t\n",
      "\n",
      "query(x[, k, eps, p, distance_upper_bound])\tQuery the kd-tree for nearest neighbors\n",
      "\n",
      "query_ball_point(x, r[, p, eps])\tFind all points within distance r of point(s) x.\n",
      "\n",
      "query_ball_tree(other, r[, p, eps])\tFind all pairs of points whose distance is at most r\n",
      "\n",
      "query_pairs(r[, p, eps])\tFind all pairs of points within a distance.\n",
      "\n",
      "sparse_distance_matrix(other, max_distance)\tCompute a sparse distance matrix\n"
     ]
    },
    {
     "cell_type": "code",
     "collapsed": false,
     "input": [
      "kt.query(points[0],4)"
     ],
     "language": "python",
     "metadata": {},
     "outputs": [
      {
       "metadata": {},
       "output_type": "pyout",
       "prompt_number": 16,
       "text": [
        "(array([ 0.        ,  0.09029141,  0.14707629,  0.15889874]),\n",
        " array([  0, 143, 133, 132]))"
       ]
      }
     ],
     "prompt_number": 16
    },
    {
     "cell_type": "code",
     "collapsed": false,
     "input": [
      "kt.query_ball_point(points[0],0.2)"
     ],
     "language": "python",
     "metadata": {},
     "outputs": [
      {
       "metadata": {},
       "output_type": "pyout",
       "prompt_number": 20,
       "text": [
        "[132, 133, 0, 143, 148]"
       ]
      }
     ],
     "prompt_number": 20
    },
    {
     "cell_type": "code",
     "collapsed": false,
     "input": [
      "import heapq\n",
      "from functools import partial\n",
      "from numpy import *\n",
      "from scipy.linalg import *\n",
      "from scipy.cluster.vq import *\n",
      "import pylab\n",
      "\n",
      "def line_samples ():\n",
      "    vecs = random.rand (120, 2)\n",
      "    vecs [:,0] *= 3\n",
      "    vecs [0:40,1] = 1\n",
      "    vecs [40:80,1] = 2\n",
      "    vecs [80:120,1] = 3\n",
      "    return vecs\n",
      "\n",
      "def gaussian_simfunc (v1, v2, sigma=1):\n",
      "    tee = (-norm(v1-v2)**2)/(2*(sigma**2))\n",
      "    return exp (tee)\n",
      "\n",
      "def construct_W (vecs, simfunc=gaussian_simfunc):\n",
      "    n = len (vecs)\n",
      "    W = zeros ((n, n))\n",
      "    for i in range(n):\n",
      "        for j in range(i,n):\n",
      "            W[i,j] = W[j,i] = simfunc (vecs[i], vecs[j])\n",
      "    return W\n",
      "\n",
      "def knn (W, k, mutual=False):\n",
      "    n = W.shape[0]\n",
      "    assert (k>0 and k<(n-1))\n",
      "\n",
      "    for i in range(n):\n",
      "        thr = heapq.nlargest(k+1, W[i])[-1]\n",
      "        for j in range(n):\n",
      "            if W[i,j] < thr:\n",
      "                W[i,j] = -W[i,j]\n",
      "\n",
      "    for i in range(n):\n",
      "        for j in range(i, n):\n",
      "            if W[i,j] + W[j,i] < 0:\n",
      "                W[i,j] = W[j,i] = 0\n",
      "            elif W[i,j] + W[j,i] == 0:\n",
      "                W[i,j] = W[j,i] = 0 if mutual else abs(W[i,j])\n",
      "\n",
      "vecs = line_samples()\n",
      "W = construct_W (vecs, simfunc=partial(gaussian_simfunc, sigma=2))\n",
      "knn (W, 10)\n",
      "from functools import reduce\n",
      "D = diag([reduce(lambda x,y:x+y, Wi) for Wi in W])\n",
      "L = D - W\n",
      "\n",
      "evals, evcts = eig(L,D)\n",
      "vals = dict (zip(evals, evcts.transpose()))\n",
      "keys = vals.keys()\n",
      "keys = list(vals.keys())\n",
      "keys.sort()\n",
      "\n",
      "Y = array ([vals[k] for k in keys[:3]]).transpose()\n",
      "res,idx = kmeans2(Y, 3, minit='points')\n",
      "\n",
      "colors = [(1,2,3)[i] for i in idx]\n",
      "pylab.scatter(vecs[:,0],vecs[:,1],c=colors)\n",
      "pylab.show()"
     ],
     "language": "python",
     "metadata": {},
     "outputs": [
      {
       "metadata": {},
       "output_type": "display_data",
       "png": "[encoded data removed]",
       "text": [
        "<matplotlib.figure.Figure at 0xad3e74ac>"
       ]
      }
     ],
     "prompt_number": 7
    },
    {
     "cell_type": "code",
     "collapsed": false,
     "input": [
      "def make_data(num_data_per_cluster = 100, num_clusters = 3):\n",
      "    data = []\n",
      "    temp = empty((num_data_per_cluster,2))\n",
      "    #print(out)\n",
      "    for i in range(num_clusters):\n",
      "        mu_x, mu_y = 10*randn(), 10*randn()\n",
      "        sig_x, sig_y = rand(), rand() \n",
      "        for j in range(num_data_per_cluster):\n",
      "            data.append([normal(mu_x, sig_x),normal(mu_y, sig_y)])\n",
      "  \n",
      "    return array(data)\n",
      "data = make_data()    \n",
      "scatter(data[:,0],data[:,1]);"
     ],
     "language": "python",
     "metadata": {},
     "outputs": [
      {
       "metadata": {},
       "output_type": "display_data",
       "png": "[encoded data removed]",
       "text": [
        "<matplotlib.figure.Figure at 0xae933a0c>"
       ]
      }
     ],
     "prompt_number": 159
    },
    {
     "cell_type": "code",
     "collapsed": false,
     "input": [
      "#http://opencvpython.blogspot.com/2012/12/k-means-clustering-2-working-with-scipy.html\n",
      "from scipy.cluster.vq import kmeans, vq\n",
      "\n",
      "centers, distortion = kmeans(data, 3)\n",
      "print(centers)\n",
      "subplot(1,2,1)\n",
      "scatter(centers[:,0],centers[:,1]);\n",
      "cluster, distance = vq(data, centers)\n",
      "subplot(1,2,2)\n",
      "for i, e in enumerate(data):\n",
      "    if(cluster[i] == 0):\n",
      "        scatter(e[0],e[1], c = 'r')\n",
      "    if(cluster[i] == 1):\n",
      "        scatter(e[0],e[1], c = 'b')   \n",
      "    if(cluster[i] == 2):\n",
      "        scatter(e[0],e[1], c = 'k')        "
     ],
     "language": "python",
     "metadata": {},
     "outputs": [
      {
       "output_type": "stream",
       "stream": "stdout",
       "text": [
        "[[  9.65095343   4.71861163]\n",
        " [ -4.5436492   -2.54064054]\n",
        " [-23.27324575  17.16450002]]\n"
       ]
      },
      {
       "metadata": {},
       "output_type": "display_data",
       "png": "[encoded data removed]",
       "text": [
        "<matplotlib.figure.Figure at 0xaeb7bc0c>"
       ]
      }
     ],
     "prompt_number": 165
    },
    {
     "cell_type": "code",
     "collapsed": false,
     "input": [
      "#http://lagis-vi.univ-lille1.fr/~lm/classpec/reunion_28_02_08/Introduction_to_spectral_clustering.pdf\n",
      "A = array([[0,0.8,0.6,0,0.1,0],[0.8,0,0.8,0,0,0],[0.6,0.8,0,0.2,0,0],\n",
      "           [0.8,0,0.2,0,0.8,0.7],[0.1,0,0,0.8,0,0.8],[0,0,0,0.7,0.8,0]])\n",
      "A"
     ],
     "language": "python",
     "metadata": {},
     "outputs": [
      {
       "metadata": {},
       "output_type": "pyout",
       "prompt_number": 105,
       "text": [
        "array([[ 0. ,  0.8,  0.6,  0. ,  0.1,  0. ],\n",
        "       [ 0.8,  0. ,  0.8,  0. ,  0. ,  0. ],\n",
        "       [ 0.6,  0.8,  0. ,  0.2,  0. ,  0. ],\n",
        "       [ 0.8,  0. ,  0.2,  0. ,  0.8,  0.7],\n",
        "       [ 0.1,  0. ,  0. ,  0.8,  0. ,  0.8],\n",
        "       [ 0. ,  0. ,  0. ,  0.7,  0.8,  0. ]])"
       ]
      }
     ],
     "prompt_number": 105
    },
    {
     "cell_type": "code",
     "collapsed": false,
     "input": [
      "#build Laplacian D - W\n",
      "L = sum(A, axis = 1)*eye(len(A[0])) - A \n",
      "print(L)\n",
      "val, vec = eig(L)\n",
      "print([round(i,2) for i in val])\n",
      "print(vec[:,1])"
     ],
     "language": "python",
     "metadata": {},
     "outputs": [
      {
       "output_type": "stream",
       "stream": "stdout",
       "text": [
        "[[ 1.5 -0.8 -0.6  0.  -0.1  0. ]\n",
        " [-0.8  1.6 -0.8  0.   0.   0. ]\n",
        " [-0.6 -0.8  1.6 -0.2  0.   0. ]\n",
        " [-0.8  0.  -0.2  2.5 -0.8 -0.7]\n",
        " [-0.1  0.   0.  -0.8  1.7 -0.8]\n",
        " [ 0.   0.   0.  -0.7 -0.8  1.5]]\n",
        "[0.0, 0.37, 3.02, 2.2000000000000002, 2.4700000000000002, 2.3399999999999999]\n",
        "[ 0.15401759  0.1895802   0.13818548 -0.36842338 -0.60065335 -0.65170735]\n"
       ]
      }
     ],
     "prompt_number": 158
    },
    {
     "cell_type": "code",
     "collapsed": false,
     "input": [
      "B = array([[2,1],[3,4]])\n",
      "val, vec = eig(B)\n",
      "print(val,vec)\n",
      "dot(B,vec[:,0]) - vec[:,0]"
     ],
     "language": "python",
     "metadata": {},
     "outputs": [
      {
       "output_type": "stream",
       "stream": "stdout",
       "text": [
        "[ 1.  5.] [[-0.70710678 -0.31622777]\n",
        " [ 0.70710678 -0.9486833 ]]\n"
       ]
      },
      {
       "metadata": {},
       "output_type": "pyout",
       "prompt_number": 128,
       "text": [
        "array([ 0.,  0.])"
       ]
      }
     ],
     "prompt_number": 128
    },
    {
     "cell_type": "code",
     "collapsed": false,
     "input": [
      "from scipy.cluster.vq import kmeans2\n",
      "kmeans2(data,3, minit='points')"
     ],
     "language": "python",
     "metadata": {},
     "outputs": [
      {
       "metadata": {},
       "output_type": "pyout",
       "prompt_number": 164,
       "text": [
        "(array([[ -4.5436492 ,  -2.54064054],\n",
        "        [-23.27324575,  17.16450002],\n",
        "        [  9.65095343,   4.71861163]]),\n",
        " array([2, 2, 2, 2, 2, 2, 2, 2, 2, 2, 2, 2, 2, 2, 2, 2, 2, 2, 2, 2, 2, 2, 2,\n",
        "        2, 2, 2, 2, 2, 2, 2, 2, 2, 2, 2, 2, 2, 2, 2, 2, 2, 2, 2, 2, 2, 2, 2,\n",
        "        2, 2, 2, 2, 2, 2, 2, 2, 2, 2, 2, 2, 2, 2, 2, 2, 2, 2, 2, 2, 2, 2, 2,\n",
        "        2, 2, 2, 2, 2, 2, 2, 2, 2, 2, 2, 2, 2, 2, 2, 2, 2, 2, 2, 2, 2, 2, 2,\n",
        "        2, 2, 2, 2, 2, 2, 2, 2, 0, 0, 0, 0, 0, 0, 0, 0, 0, 0, 0, 0, 0, 0, 0,\n",
        "        0, 0, 0, 0, 0, 0, 0, 0, 0, 0, 0, 0, 0, 0, 0, 0, 0, 0, 0, 0, 0, 0, 0,\n",
        "        0, 0, 0, 0, 0, 0, 0, 0, 0, 0, 0, 0, 0, 0, 0, 0, 0, 0, 0, 0, 0, 0, 0,\n",
        "        0, 0, 0, 0, 0, 0, 0, 0, 0, 0, 0, 0, 0, 0, 0, 0, 0, 0, 0, 0, 0, 0, 0,\n",
        "        0, 0, 0, 0, 0, 0, 0, 0, 0, 0, 0, 0, 0, 0, 0, 0, 1, 1, 1, 1, 1, 1, 1,\n",
        "        1, 1, 1, 1, 1, 1, 1, 1, 1, 1, 1, 1, 1, 1, 1, 1, 1, 1, 1, 1, 1, 1, 1,\n",
        "        1, 1, 1, 1, 1, 1, 1, 1, 1, 1, 1, 1, 1, 1, 1, 1, 1, 1, 1, 1, 1, 1, 1,\n",
        "        1, 1, 1, 1, 1, 1, 1, 1, 1, 1, 1, 1, 1, 1, 1, 1, 1, 1, 1, 1, 1, 1, 1,\n",
        "        1, 1, 1, 1, 1, 1, 1, 1, 1, 1, 1, 1, 1, 1, 1, 1, 1, 1, 1, 1, 1, 1, 1,\n",
        "        1], dtype=int32))"
       ]
      }
     ],
     "prompt_number": 164
    },
    {
     "cell_type": "code",
     "collapsed": false,
     "input": [],
     "language": "python",
     "metadata": {},
     "outputs": []
    }
   ],
   "metadata": {}
  }
 ]
}