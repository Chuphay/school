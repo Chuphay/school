{
 "metadata": {
  "name": "",
  "signature": "sha256:3db4e831f0994bf5d2a692af13b3b731ea5df909e5c1b2c6d76563581a85fad7"
 },
 "nbformat": 3,
 "nbformat_minor": 0,
 "worksheets": [
  {
   "cells": [
    {
     "cell_type": "code",
     "collapsed": false,
     "input": [
      "%load_ext rpy2.ipython      "
     ],
     "language": "python",
     "metadata": {},
     "outputs": [
      {
       "output_type": "stream",
       "stream": "stdout",
       "text": [
        "The rpy2.ipython extension is already loaded. To reload it, use:\n",
        "  %reload_ext rpy2.ipython\n"
       ]
      }
     ],
     "prompt_number": 6
    },
    {
     "cell_type": "code",
     "collapsed": false,
     "input": [
      "%%R\n",
      "set.seed(1)\n",
      "cat(rbinom(10,1,0.7),'\\n')\n",
      "set.seed(1)\n",
      "mean(rbinom(10,1, 0.7))"
     ],
     "language": "python",
     "metadata": {},
     "outputs": [
      {
       "metadata": {},
       "output_type": "display_data",
       "text": [
        "1 1 1 0 1 0 0 1 1 1 \n",
        "[1] 0.7\n"
       ]
      }
     ],
     "prompt_number": 25
    },
    {
     "cell_type": "markdown",
     "metadata": {},
     "source": [
      "<h2>$\\mathbb{P}[|\\nu - \\mu| > \\epsilon ] \\leq 2 e^{-2\\epsilon^2 N}$</h2> "
     ]
    },
    {
     "cell_type": "code",
     "collapsed": false,
     "input": [
      "%%R\n",
      "simulations <- 100\n",
      "my_sum <- 0.0\n",
      "epsilon <- 0.1\n",
      "prob <- 0.7\n",
      "N <- 10\n",
      "bound <- 2*exp(-2*N*epsilon^2)\n",
      "cat(bound, '\\n')\n",
      "for (i in 1:simulations){   \n",
      "    if(abs(mean(rbinom(N, 1, prob)) - prob) > epsilon){\n",
      "        my_sum <-my_sum + 1        \n",
      "    } \n",
      "}\n",
      "my_sum/simulations"
     ],
     "language": "python",
     "metadata": {},
     "outputs": [
      {
       "metadata": {},
       "output_type": "display_data",
       "text": [
        "1.637462 \n",
        "[1] 0.53\n"
       ]
      }
     ],
     "prompt_number": 41
    },
    {
     "cell_type": "code",
     "collapsed": false,
     "input": [
      "%%R\n",
      "error_rate <- function(epsilon){\n",
      "    my_sum <- 0\n",
      "    for (i in 1:simulations){   \n",
      "        if(abs(mean(rbinom(N, 1, prob)) - prob) > epsilon){\n",
      "            my_sum <-my_sum + 1        \n",
      "        } \n",
      "    }\n",
      "    my_sum/simulations\n",
      "}\n",
      "bound_epsilon <- function(epsilon){\n",
      "    2*exp(-2*N*epsilon^2)\n",
      "}\n",
      "\n",
      "epsilon <- c(0.01,0.05,0.1,0.2,0.3)\n",
      "data <- lapply(epsilon, error_rate)\n",
      "bound <- lapply(epsilon, bound_epsilon)\n",
      "cbind(epsilon,data,bound)"
     ],
     "language": "python",
     "metadata": {},
     "outputs": [
      {
       "metadata": {},
       "output_type": "display_data",
       "text": [
        "     epsilon data bound    \n",
        "[1,] 0.01    0.71 1.996004 \n",
        "[2,] 0.05    0.8  1.902459 \n",
        "[3,] 0.1     0.57 1.637462 \n",
        "[4,] 0.2     0.21 0.8986579\n",
        "[5,] 0.3     0.03 0.3305978\n"
       ]
      }
     ],
     "prompt_number": 77
    },
    {
     "cell_type": "heading",
     "level": 4,
     "metadata": {},
     "source": [
      "Perceptron Learning"
     ]
    },
    {
     "cell_type": "markdown",
     "metadata": {},
     "source": [
      "One dimensional data. Basically, I'll say everything over 1.5 is red, and everything below is green. I'll also allow a fairly large range of data values, I guess between -20, and positive 20, uniformly."
     ]
    },
    {
     "cell_type": "code",
     "collapsed": false,
     "input": [
      "%%R\n",
      "get_data <- function(N){\n",
      "    data <- 40*runif(N)-20\n",
      "    class <- logical(N)\n",
      "    for (i in 1:N){\n",
      "        if(data[i]>1.5){\n",
      "            class[i]<-1\n",
      "        }\n",
      "    }\n",
      "    data.frame(cbind(data,class))\n",
      "}\n",
      "get_data(10)"
     ],
     "language": "python",
     "metadata": {},
     "outputs": [
      {
       "metadata": {},
       "output_type": "display_data",
       "text": [
        "         data class\n",
        "1    7.414938     1\n",
        "2  -12.536193     0\n",
        "3   18.017137     1\n",
        "4  -10.111421     0\n",
        "5   19.153670     1\n",
        "6   -4.093901     0\n",
        "7   -5.876938     0\n",
        "8    1.630825     1\n",
        "9   11.811634     1\n",
        "10 -18.865062     0\n"
       ]
      }
     ],
     "prompt_number": 113
    },
    {
     "cell_type": "code",
     "collapsed": false,
     "input": [
      "%%R\n",
      "make_prediction <- function(w, x){\n",
      "    if(w[1] + w[2]*x>0){\n",
      "        1\n",
      "    } else {\n",
      "        0\n",
      "    }\n",
      "}\n",
      "make_prediction(c(1,-3),4)"
     ],
     "language": "python",
     "metadata": {},
     "outputs": [
      {
       "metadata": {},
       "output_type": "display_data",
       "text": [
        "[1] 0\n"
       ]
      }
     ],
     "prompt_number": 78
    },
    {
     "cell_type": "code",
     "collapsed": false,
     "input": [
      "%%R\n",
      "get_weights <- function(data){\n",
      "    weight <- rnorm(2)\n",
      "    while (TRUE){\n",
      "        error <- FALSE\n",
      "        for (i in 1:length(data)-1){\n",
      "            cat(data[i][2])\n",
      "            if (make_prediction(weight, data[i][1]) != data[i][2]){\n",
      "                error <- TRUE\n",
      "                weight <- weight + data[i][2]*c(1,data[i,][1])\n",
      "            }\n",
      "        }\n",
      "        if (error == FALSE){\n",
      "            break\n",
      "        }\n",
      "        break\n",
      "    }\n",
      "}    \n",
      "data <- get_data(10)\n",
      "data[2][1]\n",
      "#get_weights(data)"
     ],
     "language": "python",
     "metadata": {},
     "outputs": [
      {
       "metadata": {},
       "output_type": "display_data",
       "text": [
        "   class\n",
        "1      1\n",
        "2      1\n",
        "3      1\n",
        "4      1\n",
        "5      0\n",
        "6      1\n",
        "7      0\n",
        "8      1\n",
        "9      0\n",
        "10     0\n"
       ]
      }
     ],
     "prompt_number": 126
    },
    {
     "cell_type": "code",
     "collapsed": false,
     "input": [],
     "language": "python",
     "metadata": {},
     "outputs": []
    }
   ],
   "metadata": {}
  }
 ]
}