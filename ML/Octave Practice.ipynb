{
 "metadata": {
  "name": "",
  "signature": "sha256:9e186d45b431dc1410dd248afb48b4a2347990c338a58ec46639b0f34590e82f"
 },
 "nbformat": 3,
 "nbformat_minor": 0,
 "worksheets": [
  {
   "cells": [
    {
     "cell_type": "code",
     "collapsed": false,
     "input": [
      "%load_ext oct2py.ipython"
     ],
     "language": "python",
     "metadata": {},
     "outputs": [],
     "prompt_number": 1
    },
    {
     "cell_type": "code",
     "collapsed": false,
     "input": [
      "%%octave\n",
      "A = [1,2,3;2,3,4;4,5,6];"
     ],
     "language": "python",
     "metadata": {},
     "outputs": [
      {
       "metadata": {},
       "output_type": "display_data",
       "text": []
      }
     ],
     "prompt_number": 6
    },
    {
     "cell_type": "code",
     "collapsed": false,
     "input": [
      "%octave A"
     ],
     "language": "python",
     "metadata": {},
     "outputs": [
      {
       "metadata": {},
       "output_type": "display_data",
       "text": [
        "A =\n",
        "\n",
        "        1        2        3\n",
        "        2        3        4\n",
        "        4        5        6"
       ]
      }
     ],
     "prompt_number": 7
    },
    {
     "cell_type": "code",
     "collapsed": false,
     "input": [
      "%pylab\n",
      "seed(1)\n",
      "print(rand())   "
     ],
     "language": "python",
     "metadata": {},
     "outputs": [
      {
       "output_type": "stream",
       "stream": "stdout",
       "text": [
        "Using matplotlib backend: Qt4Agg\n",
        "Populating the interactive namespace from numpy and matplotlib\n",
        "0.417022004702574\n"
       ]
      }
     ],
     "prompt_number": 8
    },
    {
     "cell_type": "markdown",
     "metadata": {},
     "source": [
      "[learn](http://en.wikibooks.org/wiki/Octave_Programming_Tutorial)\n",
      "\n",
      "words\n",
      "[link to random seed discussion](http://stackoverflow.com/questions/13735096/python-vs-octave-random-generator)\n",
      "\n"
     ]
    },
    {
     "cell_type": "code",
     "collapsed": false,
     "input": [
      "%%octave\n",
      "rand(\"seed\", 1);\n",
      "data = [];\n",
      "for i = 1:10\n",
      "data = [data;5*rand(),5*rand()];\n",
      "end;\n",
      "data"
     ],
     "language": "python",
     "metadata": {},
     "outputs": []
    },
    {
     "cell_type": "markdown",
     "metadata": {},
     "source": [
      "words [link to creating matrices](http://www.mathworks.com/help/matlab/math/creating-and-concatenating-matrices.html)"
     ]
    },
    {
     "cell_type": "code",
     "collapsed": false,
     "input": [
      "%%octave\n",
      "rand(\"seed\", 1);\n",
      "data = rand(2,10)'; #details! the single apostrophe means transpose\n",
      "data"
     ],
     "language": "python",
     "metadata": {},
     "outputs": []
    },
    {
     "cell_type": "code",
     "collapsed": false,
     "input": [
      "%%octave\n",
      "rand(\"seed\", 1);\n",
      "data = rand(2,10)'; #details! the single apostrophe means transpose\n",
      "data = data*5; #Multiply by 5 to generate a bigger graph\n",
      "data = [data, zeros(10, 1)];  #http://stackoverflow.com/questions/20336521/how-to-insert-a-column-row-of-ones-into-a-matrix\n",
      "slope = 2;\n",
      "intercept = -1;\n",
      "hold on;\n",
      "for i =1:10\n",
      "    if slope*data(i,1) + intercept> data(i,2)\n",
      "        scatter(data(i,1),data(i,2),20,'r', 'filled')\n",
      "        data(i,3) = 1;\n",
      "    else\n",
      "        scatter(data(i,1),data(i,2), 20, 'b', 'filled') #http://octave.sourceforge.net/octave/function/scatter.html\n",
      "        data(i,3) = -1;      \n",
      "    endif;            \n",
      "end; \n",
      "hold off;"
     ],
     "language": "python",
     "metadata": {},
     "outputs": [
      {
       "metadata": {},
       "output_type": "display_data",
       "text": []
      },
      {
       "metadata": {},
       "output_type": "display_data",
       "png": "[encoded data removed]"
      }
     ],
     "prompt_number": 2
    },
    {
     "cell_type": "code",
     "collapsed": false,
     "input": [
      "%%octave \n",
      "\n",
      "function plot_perceptron (w) #https://www.gnu.org/software/octave/doc/interpreter/Defining-Functions.html\n",
      "    x = linspace(0,5,10);\n",
      "    slope = - w(2)/w(3);\n",
      "    intercept = - w(1)/w(3);\n",
      "    plot(x,slope*x +intercept);\n",
      "endfunction\n",
      "\n",
      "\n",
      "function plot_data (data)\n",
      "    hold on;\n",
      "    for i =1:length(data)\n",
      "        if data(i,3) == 1\n",
      "            scatter(data(i,1),data(i,2),20, 'r', 'filled')\n",
      "            #data(i,3) = 1;\n",
      "        else\n",
      "            scatter(data(i,1),data(i,2), 20, 'b', 'filled') #http://octave.sourceforge.net/octave/function/scatter.html\n",
      "            #data(i,3) = -1;      \n",
      "        endif;            \n",
      "    end; \n",
      "    hold off;\n",
      "endfunction;    \n",
      "\n",
      "    \n",
      "function result = classify (w, x)\n",
      "    x = [1,x];\n",
      "    if dot(w,x)>0\n",
      "        result = 1;\n",
      "        return;\n",
      "    else\n",
      "        result = -1;\n",
      "        return;\n",
      "    endif\n",
      "endfunction    \n",
      "\n",
      "classify([1,2,3],data(i,1:2))\n",
      "\n",
      "\n",
      "plot_perceptron([1 2 3])\n",
      "plot_data(data)"
     ],
     "language": "python",
     "metadata": {},
     "outputs": [
      {
       "metadata": {},
       "output_type": "display_data",
       "text": [
        "ans =  1"
       ]
      },
      {
       "metadata": {},
       "output_type": "display_data",
       "png": "[encoded data removed]"
      }
     ],
     "prompt_number": 28
    },
    {
     "cell_type": "code",
     "collapsed": false,
     "input": [
      "w = randn(3)\n",
      "while True:\n",
      "    error = False\n",
      "    for i in data:   \n",
      "        if(classify(w,data(i,1:2)) != data[i][2]):\n",
      "            error = True\n",
      "            w = w + data[i][2]*[1,data(i,1:2)];\n",
      "        endif\n",
      "        \n",
      "    if(error == False):\n",
      "        break"
     ],
     "language": "python",
     "metadata": {},
     "outputs": [
      {
       "ename": "NameError",
       "evalue": "name 'randn' is not defined",
       "output_type": "pyerr",
       "traceback": [
        "\u001b[1;31m---------------------------------------------------------------------------\u001b[0m\n\u001b[1;31mNameError\u001b[0m                                 Traceback (most recent call last)",
        "\u001b[1;32m<ipython-input-12-86dd2532e1c5>\u001b[0m in \u001b[0;36m<module>\u001b[1;34m()\u001b[0m\n\u001b[1;32m----> 1\u001b[1;33m \u001b[0mw\u001b[0m \u001b[1;33m=\u001b[0m \u001b[0mrandn\u001b[0m\u001b[1;33m(\u001b[0m\u001b[1;36m3\u001b[0m\u001b[1;33m)\u001b[0m\u001b[1;33m\u001b[0m\u001b[0m\n\u001b[0m\u001b[0;32m      2\u001b[0m \u001b[1;32mwhile\u001b[0m \u001b[1;32mTrue\u001b[0m\u001b[1;33m:\u001b[0m\u001b[1;33m\u001b[0m\u001b[0m\n\u001b[0;32m      3\u001b[0m     \u001b[0merror\u001b[0m \u001b[1;33m=\u001b[0m \u001b[1;32mFalse\u001b[0m\u001b[1;33m\u001b[0m\u001b[0m\n\u001b[0;32m      4\u001b[0m     \u001b[1;32mfor\u001b[0m \u001b[0mi\u001b[0m \u001b[1;32min\u001b[0m \u001b[0mdata\u001b[0m\u001b[1;33m:\u001b[0m\u001b[1;33m\u001b[0m\u001b[0m\n\u001b[0;32m      5\u001b[0m         \u001b[1;32mif\u001b[0m\u001b[1;33m(\u001b[0m\u001b[0mclassify\u001b[0m\u001b[1;33m(\u001b[0m\u001b[0mw\u001b[0m\u001b[1;33m,\u001b[0m\u001b[0mdata\u001b[0m\u001b[1;33m[\u001b[0m\u001b[0mi\u001b[0m\u001b[1;33m]\u001b[0m\u001b[1;33m[\u001b[0m\u001b[1;33m:\u001b[0m\u001b[1;36m2\u001b[0m\u001b[1;33m]\u001b[0m\u001b[1;33m)\u001b[0m \u001b[1;33m!=\u001b[0m \u001b[0mdata\u001b[0m\u001b[1;33m[\u001b[0m\u001b[0mi\u001b[0m\u001b[1;33m]\u001b[0m\u001b[1;33m[\u001b[0m\u001b[1;36m2\u001b[0m\u001b[1;33m]\u001b[0m\u001b[1;33m)\u001b[0m\u001b[1;33m:\u001b[0m\u001b[1;33m\u001b[0m\u001b[0m\n",
        "\u001b[1;31mNameError\u001b[0m: name 'randn' is not defined"
       ]
      }
     ],
     "prompt_number": 12
    },
    {
     "cell_type": "code",
     "collapsed": false,
     "input": [
      "%%octave\n",
      "\n",
      "w = randn(1,3) #make a vector of \n",
      "classify(w,data(3,1:2))\n",
      "\n",
      "while true\n",
      "    error = false;\n",
      "    for i = 1:length(data)\n",
      "        if classify(w, data(i,1:2)) != data(i,3)\n",
      "            error = true;\n",
      "            w = w + data(i,3)*[1,data(i,1:2)];\n",
      "        endif;    \n",
      "    end;\n",
      "    if error == false\n",
      "        break;\n",
      "    endif;    \n",
      "endwhile;\n",
      "\n",
      "plot_perceptron(w)\n",
      "plot_data(data)\n"
     ],
     "language": "python",
     "metadata": {},
     "outputs": [
      {
       "metadata": {},
       "output_type": "display_data",
       "text": [
        "w =\n",
        "\n",
        "  0.94675  0.58194  2.53853\n",
        "\n",
        "ans =  1"
       ]
      },
      {
       "metadata": {},
       "output_type": "display_data",
       "png": "[encoded data removed]"
      }
     ],
     "prompt_number": 32
    },
    {
     "cell_type": "code",
     "collapsed": false,
     "input": [],
     "language": "python",
     "metadata": {},
     "outputs": []
    }
   ],
   "metadata": {}
  }
 ]
}