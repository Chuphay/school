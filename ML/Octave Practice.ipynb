{
 "metadata": {
  "name": "",
  "signature": "sha256:e06f37ff15e3d212f6d4f6f88cd112dd199ecfebb2ef5a16f21b2cfb9f7af127"
 },
 "nbformat": 3,
 "nbformat_minor": 0,
 "worksheets": [
  {
   "cells": [
    {
     "cell_type": "code",
     "collapsed": false,
     "input": [
      "%load_ext oct2py.ipython"
     ],
     "language": "python",
     "metadata": {},
     "outputs": [],
     "prompt_number": 1
    },
    {
     "cell_type": "markdown",
     "metadata": {},
     "source": [
      "[learn](http://en.wikibooks.org/wiki/Octave_Programming_Tutorial)\n",
      "\n",
      "words\n",
      "[link to random seed discussion](http://stackoverflow.com/questions/13735096/python-vs-octave-random-generator)\n",
      "\n"
     ]
    },
    {
     "cell_type": "code",
     "collapsed": false,
     "input": [
      "%%octave\n",
      "rand(\"seed\", 1);\n",
      "data = [];\n",
      "for i = 1:10\n",
      "    data = [data; 5*rand(),5*rand()];\n",
      "end;\n",
      "data"
     ],
     "language": "python",
     "metadata": {},
     "outputs": [
      {
       "metadata": {},
       "output_type": "display_data",
       "text": [
        "data =\n",
        "\n",
        "  4.33401  4.56326\n",
        "  0.46830  0.83230\n",
        "  3.70404  3.80783\n",
        "  4.46289  0.74956\n",
        "  4.47652  0.80165\n",
        "  3.68706  1.82472\n",
        "  2.13841  1.51869\n",
        "  0.32275  0.92144\n",
        "  0.74802  1.93884\n",
        "  1.35604  4.59981"
       ]
      }
     ],
     "prompt_number": 34
    },
    {
     "cell_type": "markdown",
     "metadata": {},
     "source": [
      "words [link to creating matrices](http://www.mathworks.com/help/matlab/math/creating-and-concatenating-matrices.html)"
     ]
    },
    {
     "cell_type": "code",
     "collapsed": false,
     "input": [
      "%%octave\n",
      "rand(\"seed\", 1);\n",
      "data = 5*rand(2,10)'; #details! the single apostrophe means transpose\n",
      "data"
     ],
     "language": "python",
     "metadata": {},
     "outputs": [
      {
       "metadata": {},
       "output_type": "display_data",
       "text": [
        "data =\n",
        "\n",
        "  4.33401  4.56326\n",
        "  0.46830  0.83230\n",
        "  3.70404  3.80783\n",
        "  4.46289  0.74956\n",
        "  4.47652  0.80165\n",
        "  3.68706  1.82472\n",
        "  2.13841  1.51869\n",
        "  0.32275  0.92144\n",
        "  0.74802  1.93884\n",
        "  1.35604  4.59981"
       ]
      }
     ],
     "prompt_number": 47
    },
    {
     "cell_type": "code",
     "collapsed": false,
     "input": [
      "%%octave\n",
      "\n",
      "data = [data, zeros(10, 1)];  #http://stackoverflow.com/questions/20336521/how-to-insert-a-column-row-of-ones-into-a-matrix\n",
      "\n",
      "slope = 2;\n",
      "intercept = -1;\n",
      "\n",
      "for i =1:10\n",
      "    if slope*data(i,1) + intercept> data(i,2)\n",
      "        data(i,3) = 1;\n",
      "    else\n",
      "        data(i,3) = -1;      \n",
      "    endif;            \n",
      "end; "
     ],
     "language": "python",
     "metadata": {},
     "outputs": [
      {
       "metadata": {},
       "output_type": "display_data",
       "text": []
      }
     ],
     "prompt_number": 48
    },
    {
     "cell_type": "code",
     "collapsed": false,
     "input": [
      "%%octave \n",
      "\n",
      "function plot_perceptron (w) #https://www.gnu.org/software/octave/doc/interpreter/Defining-Functions.html\n",
      "    x = linspace(0,5,10);\n",
      "    slope = - w(2)/w(3);\n",
      "    intercept = - w(1)/w(3);\n",
      "    plot(x,slope*x +intercept);\n",
      "endfunction\n",
      "\n",
      "\n",
      "function plot_data (data)\n",
      "    hold on;\n",
      "    for i =1:length(data)\n",
      "        if data(i,3) == 1\n",
      "            scatter(data(i,1),data(i,2),20, 'r', 'filled')\n",
      "        else\n",
      "            scatter(data(i,1),data(i,2), 20, 'b', 'filled') #http://octave.sourceforge.net/octave/function/scatter.html\n",
      "        endif;            \n",
      "    end; \n",
      "    hold off;\n",
      "endfunction;    \n",
      "\n",
      "    \n",
      "function result = classify (w, x)\n",
      "    x = [1,x];\n",
      "    if dot(w,x)>0\n",
      "        result = 1;\n",
      "        return;\n",
      "    else\n",
      "        result = -1;\n",
      "        return;\n",
      "    endif\n",
      "endfunction    "
     ],
     "language": "python",
     "metadata": {},
     "outputs": []
    },
    {
     "cell_type": "code",
     "collapsed": false,
     "input": [
      "%%octave \n",
      "\n",
      "w = randn(1,3); #make a vector of \n",
      "plot_perceptron(w)\n",
      "plot_data(data)"
     ],
     "language": "python",
     "metadata": {},
     "outputs": [
      {
       "metadata": {},
       "output_type": "display_data",
       "text": []
      },
      {
       "metadata": {},
       "output_type": "display_data",
       "png": "[encoded data removed]"
      }
     ],
     "prompt_number": 49
    },
    {
     "cell_type": "code",
     "collapsed": false,
     "input": [
      "%%octave\n",
      "\n",
      "while true\n",
      "    error = false;\n",
      "    for i = 1:length(data)\n",
      "        if classify(w, data(i,1:2)) != data(i,3)\n",
      "            error = true;\n",
      "            w = w + data(i,3)*[1,data(i,1:2)];\n",
      "        endif;    \n",
      "    end;\n",
      "    if error == false\n",
      "        break;\n",
      "    endif;    \n",
      "endwhile;\n",
      "\n",
      "plot_perceptron(w)\n",
      "plot_data(data)\n"
     ],
     "language": "python",
     "metadata": {},
     "outputs": [
      {
       "metadata": {},
       "output_type": "display_data",
       "text": []
      },
      {
       "metadata": {},
       "output_type": "display_data",
       "png": "[encoded data removed]"
      }
     ],
     "prompt_number": 50
    },
    {
     "cell_type": "code",
     "collapsed": false,
     "input": [],
     "language": "python",
     "metadata": {},
     "outputs": []
    }
   ],
   "metadata": {}
  }
 ]
}