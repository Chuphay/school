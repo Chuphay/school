{
 "metadata": {
  "name": "",
  "signature": "sha256:621ed653fd79bc657547f5777844e324d04361b57318af30c973044bc56d1d5d"
 },
 "nbformat": 3,
 "nbformat_minor": 0,
 "worksheets": [
  {
   "cells": [
    {
     "cell_type": "code",
     "collapsed": false,
     "input": [
      "%load_ext oct2py.ipython"
     ],
     "language": "python",
     "metadata": {},
     "outputs": [],
     "prompt_number": 1
    },
    {
     "cell_type": "code",
     "collapsed": false,
     "input": [
      "%%octave\n",
      "A = [1,2,3;2,3,4;4,5,6];"
     ],
     "language": "python",
     "metadata": {},
     "outputs": [
      {
       "metadata": {},
       "output_type": "display_data",
       "text": []
      }
     ],
     "prompt_number": 3
    },
    {
     "cell_type": "code",
     "collapsed": false,
     "input": [
      "%octave A"
     ],
     "language": "python",
     "metadata": {},
     "outputs": [
      {
       "metadata": {},
       "output_type": "display_data",
       "text": [
        "A =\n",
        "\n",
        "        1        2        3\n",
        "        2        3        4\n",
        "        4        5        6"
       ]
      }
     ],
     "prompt_number": 4
    },
    {
     "cell_type": "code",
     "collapsed": false,
     "input": [
      "%pylab\n",
      "seed(1)\n",
      "print(rand())   "
     ],
     "language": "python",
     "metadata": {},
     "outputs": [
      {
       "output_type": "stream",
       "stream": "stdout",
       "text": [
        "Using matplotlib backend: Qt4Agg\n",
        "Populating the interactive namespace from numpy and matplotlib\n",
        "0.417022004702574\n"
       ]
      }
     ],
     "prompt_number": 5
    },
    {
     "cell_type": "markdown",
     "metadata": {},
     "source": [
      "[learn](http://en.wikibooks.org/wiki/Octave_Programming_Tutorial)\n",
      "\n",
      "words\n",
      "[link to random seed discussion](http://stackoverflow.com/questions/13735096/python-vs-octave-random-generator)\n",
      "\n"
     ]
    },
    {
     "cell_type": "code",
     "collapsed": false,
     "input": [
      "%%octave\n",
      "rand(\"seed\", 1);\n",
      "data = [];\n",
      "for i = 1:10\n",
      "data = [data;5*rand(),5*rand()];\n",
      "end;\n",
      "data"
     ],
     "language": "python",
     "metadata": {},
     "outputs": [
      {
       "metadata": {},
       "output_type": "display_data",
       "text": [
        "data =\n",
        "\n",
        "  4.33401  4.56326\n",
        "  0.46830  0.83230\n",
        "  3.70404  3.80783\n",
        "  4.46289  0.74956\n",
        "  4.47652  0.80165\n",
        "  3.68706  1.82472\n",
        "  2.13841  1.51869\n",
        "  0.32275  0.92144\n",
        "  0.74802  1.93884\n",
        "  1.35604  4.59981"
       ]
      }
     ],
     "prompt_number": 2
    },
    {
     "cell_type": "markdown",
     "metadata": {},
     "source": [
      "words [link to creating matrices](http://www.mathworks.com/help/matlab/math/creating-and-concatenating-matrices.html)"
     ]
    },
    {
     "cell_type": "code",
     "collapsed": false,
     "input": [
      "%%octave\n",
      "rand(\"seed\", 1);\n",
      "data = rand(2,10)'; #details! the single apostrophe means transpose\n",
      "data"
     ],
     "language": "python",
     "metadata": {},
     "outputs": [
      {
       "metadata": {},
       "output_type": "display_data",
       "text": [
        "data =\n",
        "\n",
        "  0.86680  0.91265\n",
        "  0.09366  0.16646\n",
        "  0.74081  0.76157\n",
        "  0.89258  0.14991\n",
        "  0.89530  0.16033\n",
        "  0.73741  0.36494\n",
        "  0.42768  0.30374\n",
        "  0.06455  0.18429\n",
        "  0.14960  0.38777\n",
        "  0.27121  0.91996"
       ]
      }
     ],
     "prompt_number": 13
    },
    {
     "cell_type": "code",
     "collapsed": false,
     "input": [
      "%%octave\n",
      "rand(\"seed\", 1);\n",
      "data = rand(2,10)'; #details! the single apostrophe means transpose\n",
      "data = data*5; #Multiply by 5 to generate a bigger graph\n",
      "data = [data, zeros(10, 1)];  #http://stackoverflow.com/questions/20336521/how-to-insert-a-column-row-of-ones-into-a-matrix\n",
      "slope = 2;\n",
      "intercept = -1;\n",
      "hold on;\n",
      "for i =1:10\n",
      "    if slope*data(i,1) + intercept> data(i,2)\n",
      "        scatter(data(i,1),data(i,2),20,'r', 'filled')\n",
      "        data(i,3) = 1;\n",
      "    else\n",
      "        scatter(data(i,1),data(i,2), 20, 'b', 'filled') #http://octave.sourceforge.net/octave/function/scatter.html\n",
      "        data(i,3) = -1;      \n",
      "    endif;            \n",
      "end; \n",
      "hold off;"
     ],
     "language": "python",
     "metadata": {},
     "outputs": [
      {
       "metadata": {},
       "output_type": "display_data",
       "text": []
      },
      {
       "metadata": {},
       "output_type": "display_data",
       "png": "[encoded data removed]"
      }
     ],
     "prompt_number": 25
    },
    {
     "cell_type": "code",
     "collapsed": false,
     "input": [
      "%%octave \n",
      "data\n"
     ],
     "language": "python",
     "metadata": {},
     "outputs": [
      {
       "metadata": {},
       "output_type": "display_data",
       "text": [
        "data =\n",
        "\n",
        "  4.33401  4.56326  1.00000\n",
        "  0.46830  0.83230  -1.00000\n",
        "  3.70404  3.80783  1.00000\n",
        "  4.46289  0.74956  1.00000\n",
        "  4.47652  0.80165  1.00000\n",
        "  3.68706  1.82472  1.00000\n",
        "  2.13841  1.51869  1.00000\n",
        "  0.32275  0.92144  -1.00000\n",
        "  0.74802  1.93884  -1.00000\n",
        "  1.35604  4.59981  -1.00000"
       ]
      }
     ],
     "prompt_number": 26
    },
    {
     "cell_type": "code",
     "collapsed": false,
     "input": [],
     "language": "python",
     "metadata": {},
     "outputs": []
    }
   ],
   "metadata": {}
  }
 ]
}