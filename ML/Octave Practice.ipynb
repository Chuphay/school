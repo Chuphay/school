{
 "metadata": {
  "name": "",
  "signature": "sha256:c1d99c0f96c364ba5bce6fb5480f66966b444b2723ac094a5e1008b64575ca85"
 },
 "nbformat": 3,
 "nbformat_minor": 0,
 "worksheets": [
  {
   "cells": [
    {
     "cell_type": "heading",
     "level": 2,
     "metadata": {},
     "source": [
      "Perceptron Learning in Octave"
     ]
    },
    {
     "cell_type": "markdown",
     "metadata": {},
     "source": [
      "Over the weekend, I wanted to teach myself a little bit of Octave. I figured the best way to learn was to try and actually implement the perceptron learning algorithm that I already did in [python](http://nbviewer.ipython.org/github/Chuphay/school/blob/master/ML/Perceptron%20Learning.ipynb).\n",
      "\n",
      "Previously, I've spent maybe 30 minutes learning Octave... but the only thing I really remember was how to load Octave into my iPython shell:"
     ]
    },
    {
     "cell_type": "code",
     "collapsed": false,
     "input": [
      "%load_ext oct2py.ipython"
     ],
     "language": "python",
     "metadata": {},
     "outputs": [],
     "prompt_number": 1
    },
    {
     "cell_type": "markdown",
     "metadata": {},
     "source": [
      "Obviously I needed to learn more, so I googled \"octave tutorial\" and the first site that popped up was [this](http://en.wikibooks.org/wiki/Octave_Programming_Tutorial). From that site, I read 4 short articles: [Getting Started](http://en.wikibooks.org/wiki/Octave_Programming_Tutorial/Getting_started), [Vectors and Matrices](http://en.wikibooks.org/wiki/Octave_Programming_Tutorial/Vectors_and_matrices), [Loops and Conditions](http://en.wikibooks.org/wiki/Octave_Programming_Tutorial/Loops_and_conditions), and [Writing Functions](http://en.wikibooks.org/wiki/Octave_Programming_Tutorial/Writing_functions). After reading those four articles I felt ready to implement the algorithm (knowing that I would make frequent calls to google).\n",
      "\n",
      "First thing to do was to generate some random data points. What I wanted to do was generate the exact same random numbers that I used in my python implementation, but this proved impossible (you can read a discussion on this [here](http://stackoverflow.com/questions/13735096/python-vs-octave-random-generator)).\n",
      "\n",
      "I ended up generating the data points in two different ways, just to get some practice with the various commands:"
     ]
    },
    {
     "cell_type": "code",
     "collapsed": false,
     "input": [
      "%%octave\n",
      "rand(\"seed\", 1); #seed is here so that the random numbers are always the same\n",
      "data = [];\n",
      "for i = 1:10\n",
      "    data = [data; 5*rand(),5*rand()]; #I multiplied by 5 to get a bigger spread of values\n",
      "end;\n",
      "data"
     ],
     "language": "python",
     "metadata": {},
     "outputs": [
      {
       "metadata": {},
       "output_type": "display_data",
       "text": [
        "data =\n",
        "\n",
        "  4.33401  4.56326\n",
        "  0.46830  0.83230\n",
        "  3.70404  3.80783\n",
        "  4.46289  0.74956\n",
        "  4.47652  0.80165\n",
        "  3.68706  1.82472\n",
        "  2.13841  1.51869\n",
        "  0.32275  0.92144\n",
        "  0.74802  1.93884\n",
        "  1.35604  4.59981"
       ]
      }
     ],
     "prompt_number": 2
    },
    {
     "cell_type": "code",
     "collapsed": false,
     "input": [
      "%%octave\n",
      "rand(\"seed\", 1);\n",
      "data = 5*rand(2,10)'; #the single apostrophe means transpose\n",
      "data"
     ],
     "language": "python",
     "metadata": {},
     "outputs": [
      {
       "metadata": {},
       "output_type": "display_data",
       "text": [
        "data =\n",
        "\n",
        "  4.33401  4.56326\n",
        "  0.46830  0.83230\n",
        "  3.70404  3.80783\n",
        "  4.46289  0.74956\n",
        "  4.47652  0.80165\n",
        "  3.68706  1.82472\n",
        "  2.13841  1.51869\n",
        "  0.32275  0.92144\n",
        "  0.74802  1.93884\n",
        "  1.35604  4.59981"
       ]
      }
     ],
     "prompt_number": 3
    },
    {
     "cell_type": "markdown",
     "metadata": {},
     "source": [
      "Because I set a seed for the random number generator, the numbers for the data came out the same.\n",
      "\n",
      "Next up was seperating the data (in a linear way) into red and blue data points. This means that each data point would have both the x and y coordinate and an extra bit of data to classify the data as either red or blue. \n",
      "\n",
      "I just chose a line from my imagination to seperate the data"
     ]
    },
    {
     "cell_type": "code",
     "collapsed": false,
     "input": [
      "%%octave\n",
      "\n",
      "#we append a column of zeros to our data in anticipation of the classification:\n",
      "data = [data, zeros(10, 1)];  #http://stackoverflow.com/questions/20336521/how-to-insert-a-column-row-of-ones-into-a-matrix\n",
      "\n",
      "slope = 2;\n",
      "intercept = -1;\n",
      "\n",
      "for i =1:length(data)\n",
      "    #looping over the data to classify every example as either +1 or -1\n",
      "    if slope*data(i,1) + intercept> data(i,2)\n",
      "        data(i,3) = 1;\n",
      "    else\n",
      "        data(i,3) = -1;      \n",
      "    endif;            \n",
      "end; \n",
      "data"
     ],
     "language": "python",
     "metadata": {},
     "outputs": [
      {
       "metadata": {},
       "output_type": "display_data",
       "text": [
        "data =\n",
        "\n",
        "  4.33401  4.56326  1.00000\n",
        "  0.46830  0.83230  -1.00000\n",
        "  3.70404  3.80783  1.00000\n",
        "  4.46289  0.74956  1.00000\n",
        "  4.47652  0.80165  1.00000\n",
        "  3.68706  1.82472  1.00000\n",
        "  2.13841  1.51869  1.00000\n",
        "  0.32275  0.92144  -1.00000\n",
        "  0.74802  1.93884  -1.00000\n",
        "  1.35604  4.59981  -1.00000"
       ]
      }
     ],
     "prompt_number": 4
    },
    {
     "cell_type": "markdown",
     "metadata": {},
     "source": [
      "Once I had my data prepared, it was time to get started implementing my algorithm. \n",
      "\n",
      "From already implementing it in python, I had a really good idea of what we needed to do. I needed a function to plot my data, and I needed a function to plot the line that the perceptron weights would make. I also needed a function that would classify data based on the perceptron weights and the x and y values."
     ]
    },
    {
     "cell_type": "code",
     "collapsed": false,
     "input": [
      "%%octave \n",
      "\n",
      "function plot_perceptron (w) \n",
      "    #here's a function to plot the straight line defined by the perceptron weight w\n",
      "    #the formula for a line is \n",
      "    #w(1) + w(2)*x + w(3)*y = 0\n",
      "    #I've rearranged the terms so that\n",
      "    #y = -w(2)*x/w(3) - w(1)/w(3)\n",
      "    #I also ended up googling how to make a function that doesn't have a return value:\n",
      "    #https://www.gnu.org/software/octave/doc/interpreter/Defining-Functions.html\n",
      "    x = linspace(0,5,10);\n",
      "    slope = - w(2)/w(3);\n",
      "    intercept = - w(1)/w(3);\n",
      "    plot(x,slope*x +intercept);\n",
      "endfunction\n",
      "\n",
      "\n",
      "function plot_data (data)\n",
      "    #this function will make a scatter plot of the data\n",
      "    hold on;\n",
      "    for i =1:length(data)\n",
      "        if data(i,3) == 1\n",
      "            scatter(data(i,1),data(i,2),20, 'r', 'filled') #http://octave.sourceforge.net/octave/function/scatter.html\n",
      "        else\n",
      "            scatter(data(i,1),data(i,2), 20, 'b', 'filled') \n",
      "        endif;            \n",
      "    end; \n",
      "    hold off;\n",
      "endfunction;    \n",
      "\n",
      "    \n",
      "function result = classify (w, x)\n",
      "    #this function will classify any point x (x must be an x, y pair)\n",
      "    #as either +1 or -1 based on the dot product of x and w\n",
      "    x = [1,x];\n",
      "    if dot(w,x)>0\n",
      "        result = 1;\n",
      "        return;\n",
      "    else\n",
      "        result = -1;\n",
      "        return;\n",
      "    endif;\n",
      "endfunction;    "
     ],
     "language": "python",
     "metadata": {},
     "outputs": [
      {
       "metadata": {},
       "output_type": "display_data",
       "text": []
      }
     ],
     "prompt_number": 5
    },
    {
     "cell_type": "markdown",
     "metadata": {},
     "source": [
      "The next block of code is me testing to make sure that my functions actually work, and making a random vector as the starting off point for the perceptron algorithm"
     ]
    },
    {
     "cell_type": "code",
     "collapsed": false,
     "input": [
      "%%octave \n",
      "\n",
      "w = randn(1,3); #random vector that is our initial perceptron weights \n",
      "plot_perceptron(w)\n",
      "plot_data(data)"
     ],
     "language": "python",
     "metadata": {},
     "outputs": [
      {
       "metadata": {},
       "output_type": "display_data",
       "text": []
      },
      {
       "metadata": {},
       "output_type": "display_data",
       "png": "[encoded data removed]"
      }
     ],
     "prompt_number": 6
    },
    {
     "cell_type": "markdown",
     "metadata": {},
     "source": [
      "You can see that the original perceptron weights are far away from correctly classifying the data. \n",
      "\n",
      "Finally I implemented the algorithm. I should mention that there are many ways to implement the algorithm. This was the way that made sense to me, but it shouldn't be seen as the only way to implement it."
     ]
    },
    {
     "cell_type": "code",
     "collapsed": false,
     "input": [
      "%%octave\n",
      "\n",
      "while true\n",
      "    #basically the way this implementation works is by repeatedly looping through the data\n",
      "    #and seeing if any points are missed classified\n",
      "    #if no points are missed classified\n",
      "    #then there will be no error, and the bottom piece of code will break us out of the while loop\n",
      "    error = false;\n",
      "    for i = 1:length(data)\n",
      "        if classify(w, data(i,1:2)) != data(i,3)\n",
      "            #however, if there is a misclassified data point\n",
      "            #then we will set the error to be true\n",
      "            #and update the perceptron weights according to the formula found in the book\n",
      "            error = true;\n",
      "            w = w + data(i,3)*[1,data(i,1:2)];\n",
      "        endif;    \n",
      "    end;\n",
      "    if error == false #here's the code that breaks us out of the while loop\n",
      "        break;\n",
      "    endif;    \n",
      "endwhile;\n",
      "\n",
      "plot_perceptron(w)\n",
      "plot_data(data)"
     ],
     "language": "python",
     "metadata": {},
     "outputs": [
      {
       "metadata": {},
       "output_type": "display_data",
       "text": []
      },
      {
       "metadata": {},
       "output_type": "display_data",
       "png": "[encoded data removed]"
      }
     ],
     "prompt_number": 7
    }
   ],
   "metadata": {}
  }
 ]
}