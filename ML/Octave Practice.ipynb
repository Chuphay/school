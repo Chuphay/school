{
 "metadata": {
  "name": "",
  "signature": "sha256:cf678ac222ad90e593c86cbb79079d8caa2178b581ed071ee2c59fed8a53c6a3"
 },
 "nbformat": 3,
 "nbformat_minor": 0,
 "worksheets": [
  {
   "cells": [
    {
     "cell_type": "code",
     "collapsed": false,
     "input": [
      "%load_ext oct2py.ipython"
     ],
     "language": "python",
     "metadata": {},
     "outputs": [],
     "prompt_number": 1
    },
    {
     "cell_type": "code",
     "collapsed": false,
     "input": [
      "%%octave\n",
      "A = [1,2,3;2,3,4;4,5,6];"
     ],
     "language": "python",
     "metadata": {},
     "outputs": [
      {
       "metadata": {},
       "output_type": "display_data",
       "text": []
      }
     ],
     "prompt_number": 6
    },
    {
     "cell_type": "code",
     "collapsed": false,
     "input": [
      "%octave A"
     ],
     "language": "python",
     "metadata": {},
     "outputs": [
      {
       "metadata": {},
       "output_type": "display_data",
       "text": [
        "A =\n",
        "\n",
        "        1        2        3\n",
        "        2        3        4\n",
        "        4        5        6"
       ]
      }
     ],
     "prompt_number": 7
    },
    {
     "cell_type": "code",
     "collapsed": false,
     "input": [
      "%pylab\n",
      "seed(1)\n",
      "print(rand())   "
     ],
     "language": "python",
     "metadata": {},
     "outputs": [
      {
       "output_type": "stream",
       "stream": "stdout",
       "text": [
        "Using matplotlib backend: Qt4Agg\n",
        "Populating the interactive namespace from numpy and matplotlib\n",
        "0.417022004702574\n"
       ]
      }
     ],
     "prompt_number": 8
    },
    {
     "cell_type": "markdown",
     "metadata": {},
     "source": [
      "[learn](http://en.wikibooks.org/wiki/Octave_Programming_Tutorial)\n",
      "\n",
      "words\n",
      "[link to random seed discussion](http://stackoverflow.com/questions/13735096/python-vs-octave-random-generator)\n",
      "\n"
     ]
    },
    {
     "cell_type": "code",
     "collapsed": false,
     "input": [
      "%%octave\n",
      "rand(\"seed\", 1);\n",
      "data = [];\n",
      "for i = 1:10\n",
      "data = [data;5*rand(),5*rand()];\n",
      "end;\n",
      "data"
     ],
     "language": "python",
     "metadata": {},
     "outputs": []
    },
    {
     "cell_type": "markdown",
     "metadata": {},
     "source": [
      "words [link to creating matrices](http://www.mathworks.com/help/matlab/math/creating-and-concatenating-matrices.html)"
     ]
    },
    {
     "cell_type": "code",
     "collapsed": false,
     "input": [
      "%%octave\n",
      "rand(\"seed\", 1);\n",
      "data = rand(2,10)'; #details! the single apostrophe means transpose\n",
      "data"
     ],
     "language": "python",
     "metadata": {},
     "outputs": []
    },
    {
     "cell_type": "code",
     "collapsed": false,
     "input": [
      "%%octave\n",
      "rand(\"seed\", 1);\n",
      "data = rand(2,10)'; #details! the single apostrophe means transpose\n",
      "data = data*5; #Multiply by 5 to generate a bigger graph\n",
      "data = [data, zeros(10, 1)];  #http://stackoverflow.com/questions/20336521/how-to-insert-a-column-row-of-ones-into-a-matrix\n",
      "slope = 2;\n",
      "intercept = -1;\n",
      "hold on;\n",
      "for i =1:10\n",
      "    if slope*data(i,1) + intercept> data(i,2)\n",
      "        scatter(data(i,1),data(i,2),20,'r', 'filled')\n",
      "        data(i,3) = 1;\n",
      "    else\n",
      "        scatter(data(i,1),data(i,2), 20, 'b', 'filled') #http://octave.sourceforge.net/octave/function/scatter.html\n",
      "        data(i,3) = -1;      \n",
      "    endif;            \n",
      "end; \n",
      "hold off;"
     ],
     "language": "python",
     "metadata": {},
     "outputs": [
      {
       "metadata": {},
       "output_type": "display_data",
       "text": []
      },
      {
       "metadata": {},
       "output_type": "display_data",
       "png": "[encoded data removed]"
      }
     ],
     "prompt_number": 2
    },
    {
     "cell_type": "code",
     "collapsed": false,
     "input": [
      "%%octave \n",
      "\n",
      "function plot_perceptron (w) #https://www.gnu.org/software/octave/doc/interpreter/Defining-Functions.html\n",
      "    x = linspace(0,5,10);\n",
      "    slope = - w(2)/w(3);\n",
      "    intercept = - w(1)/w(3);\n",
      "    plot(x,slope*x +intercept);\n",
      "endfunction\n",
      "\n",
      "\n",
      "function plot_data (data)\n",
      "    hold on;\n",
      "    for i =1:10\n",
      "        if data(i,3) == 1\n",
      "            scatter(data(i,1),data(i,2),20, 'r', 'filled')\n",
      "            #data(i,3) = 1;\n",
      "        else\n",
      "            scatter(data(i,1),data(i,2), 20, 'b', 'filled') #http://octave.sourceforge.net/octave/function/scatter.html\n",
      "            #data(i,3) = -1;      \n",
      "        endif;            \n",
      "    end; \n",
      "    hold off;\n",
      "endfunction;    \n",
      "\n",
      "    \n",
      "function result = classify (w, x)\n",
      "    x = [1,x];\n",
      "    if dot(w,x)>0\n",
      "        result = 1;\n",
      "        return;\n",
      "    else\n",
      "        result = -1;\n",
      "        return;\n",
      "    endif\n",
      "endfunction    \n",
      "\n",
      "classify([1,2,3],data(i,1:2))\n",
      "plot_data(data)\n",
      "\n",
      "plot_perceptron([1 2 3])\n"
     ],
     "language": "python",
     "metadata": {},
     "outputs": [
      {
       "metadata": {},
       "output_type": "display_data",
       "text": [
        "x =\n",
        "\n",
        "  1.00000  1.35604  4.59981\n",
        "\n",
        "ans =  1"
       ]
      },
      {
       "metadata": {},
       "output_type": "display_data",
       "png": "[encoded data removed]"
      }
     ],
     "prompt_number": 11
    },
    {
     "cell_type": "code",
     "collapsed": false,
     "input": [],
     "language": "python",
     "metadata": {},
     "outputs": []
    }
   ],
   "metadata": {}
  }
 ]
}