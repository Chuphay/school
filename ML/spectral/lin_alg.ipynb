{
 "cells": [
  {
   "cell_type": "code",
   "execution_count": 1,
   "metadata": {
    "collapsed": false
   },
   "outputs": [
    {
     "name": "stdout",
     "output_type": "stream",
     "text": [
      "Populating the interactive namespace from numpy and matplotlib\n"
     ]
    }
   ],
   "source": [
    "%pylab inline\n",
    "#from http://www.math.tamu.edu/~dallen/linear_algebra/chpt6.pdf"
   ]
  },
  {
   "cell_type": "code",
   "execution_count": 38,
   "metadata": {
    "collapsed": false
   },
   "outputs": [
    {
     "data": {
      "text/plain": [
       "array([[2, 1, 1],\n",
       "       [1, 2, 1],\n",
       "       [1, 1, 2]])"
      ]
     },
     "execution_count": 38,
     "metadata": {},
     "output_type": "execute_result"
    }
   ],
   "source": [
    "#QR method\n",
    "A = array([[2,1,1],[1,2,1],[1,1,2]])\n",
    "A"
   ]
  },
  {
   "cell_type": "code",
   "execution_count": 40,
   "metadata": {
    "collapsed": false
   },
   "outputs": [
    {
     "data": {
      "text/plain": [
       "array([[ -2.44948974e+00,  -2.04124145e+00,  -2.04124145e+00],\n",
       "       [ -1.38777878e-16,   1.31649658e+00,   3.16496581e-01],\n",
       "       [ -1.38777878e-16,   3.16496581e-01,   1.31649658e+00]])"
      ]
     },
     "execution_count": 40,
     "metadata": {},
     "output_type": "execute_result"
    }
   ],
   "source": [
    "n = A.shape[0]\n",
    "k = 0\n",
    "d = A[:,k]/sum(A[:,k]**2)**0.5 #normalized first column\n",
    "D = sum(d[k:]**2)**0.5\n",
    "if(d[k]>0):\n",
    "    D *= -1\n",
    "v = zeros(n)\n",
    "v[k] = (0.5*(1-d[k]/D))**0.5\n",
    "p = - D * v[k]\n",
    "for j in range(k+1, n):\n",
    "    v[j] = d[j]/(2*p)\n",
    "\n",
    "P1 = eye(n) - 2* outer(v,v)    \n",
    "A2 = dot(P1,A)\n",
    "A2"
   ]
  },
  {
   "cell_type": "code",
   "execution_count": 41,
   "metadata": {
    "collapsed": false
   },
   "outputs": [
    {
     "data": {
      "text/plain": [
       "array([[ -2.44948974e+00,  -2.04124145e+00,  -2.04124145e+00],\n",
       "       [  1.67372418e-16,  -1.35400640e+00,  -6.15457455e-01],\n",
       "       [ -1.02494256e-16,  -8.18572640e-18,   1.20604538e+00]])"
      ]
     },
     "execution_count": 41,
     "metadata": {},
     "output_type": "execute_result"
    }
   ],
   "source": [
    "k = 1\n",
    "d = A2[:,k]/sum(A2[:,k]**2)**0.5 #normalized second column\n",
    "D = sum(d[k:]**2)**0.5\n",
    "if(d[k]>0):\n",
    "    D *= -1\n",
    "v = zeros(n)\n",
    "v[k] = (0.5*(1-d[k]/D))**0.5\n",
    "\n",
    "p = - D * v[k]\n",
    "for j in range(k+1, n):\n",
    "    v[j] = d[j]/(2*p)\n",
    "    \n",
    "P2 = eye(n) - 2* outer(v,v)    \n",
    "A3 = dot(P2,A2)\n",
    "A3"
   ]
  },
  {
   "cell_type": "code",
   "execution_count": 39,
   "metadata": {
    "collapsed": false
   },
   "outputs": [
    {
     "data": {
      "text/plain": [
       "(array([ 1.,  4.,  1.]), array([[-0.81649658,  0.57735027,  0.1708497 ],\n",
       "        [ 0.40824829,  0.57735027, -0.77687823],\n",
       "        [ 0.40824829,  0.57735027,  0.60602854]]))"
      ]
     },
     "execution_count": 39,
     "metadata": {},
     "output_type": "execute_result"
    }
   ],
   "source": [
    "eig(A)"
   ]
  },
  {
   "cell_type": "code",
   "execution_count": 46,
   "metadata": {
    "collapsed": false
   },
   "outputs": [
    {
     "data": {
      "text/plain": [
       "array([[ 2.,  1.,  1.],\n",
       "       [ 1.,  2.,  1.],\n",
       "       [ 1.,  1.,  2.]])"
      ]
     },
     "execution_count": 46,
     "metadata": {},
     "output_type": "execute_result"
    }
   ],
   "source": [
    "R = dot(P2,dot(P1,A))\n",
    "Q = dot(P2,P1).T\n",
    "dot(Q,R)"
   ]
  },
  {
   "cell_type": "code",
   "execution_count": 48,
   "metadata": {
    "collapsed": false
   },
   "outputs": [
    {
     "data": {
      "text/plain": [
       "array([[ 3.66666667,  0.80403025, -0.49236596],\n",
       "       [ 0.80403025,  1.24242424, -0.14845392],\n",
       "       [-0.49236596, -0.14845392,  1.09090909]])"
      ]
     },
     "execution_count": 48,
     "metadata": {},
     "output_type": "execute_result"
    }
   ],
   "source": [
    "AA2 = dot(R,Q)\n",
    "AA2"
   ]
  },
  {
   "cell_type": "code",
   "execution_count": 67,
   "metadata": {
    "collapsed": false
   },
   "outputs": [
    {
     "data": {
      "text/plain": [
       "array([[ -3.78593890e+000,  -1.06186375e+000,   6.50256089e-001],\n",
       "       [ -7.64330758e-151,  -1.04142527e+000,   4.97263259e-002],\n",
       "       [  3.52033683e-150,  -3.88740652e-149,  -1.01451455e+000]])"
      ]
     },
     "execution_count": 67,
     "metadata": {},
     "output_type": "execute_result"
    }
   ],
   "source": [
    "Ps = []\n",
    "for k in range(n):\n",
    "    d = AA2[:,k]/sum(AA2[:,k]**2)**0.5 #normalized second column\n",
    "    D = sum(d[k:]**2)**0.5\n",
    "    if(d[k]>0):\n",
    "        D *= -1\n",
    "    v = zeros(n)\n",
    "    v[k] = (0.5*(1-d[k]/D))**0.5\n",
    "\n",
    "    p = - D * v[k]\n",
    "    for j in range(k+1, n):\n",
    "        v[j] = d[j]/(2*p)\n",
    "\n",
    "    P = eye(n) - 2* outer(v,v) \n",
    "    Ps.append(P)\n",
    "    AA2 = dot(P,AA2)\n",
    "AA2\n",
    "R = dot(Ps[1],dot(Ps[0],AA2))\n",
    "Q = dot(Ps[1],Ps[0]).T\n",
    "dot(Q,R)\n"
   ]
  },
  {
   "cell_type": "code",
   "execution_count": 68,
   "metadata": {
    "collapsed": false
   },
   "outputs": [
    {
     "data": {
      "text/plain": [
       "array([[ -3.78593890e+000,  -1.06186375e+000,  -6.50256089e-001],\n",
       "       [  3.95934816e-135,  -1.04142527e+000,  -4.97263259e-002],\n",
       "       [  2.81685458e-134,   3.28935515e-134,  -1.01451455e+000]])"
      ]
     },
     "execution_count": 68,
     "metadata": {},
     "output_type": "execute_result"
    }
   ],
   "source": [
    "AA3 = dot(R,Q)\n",
    "AA3"
   ]
  },
  {
   "cell_type": "code",
   "execution_count": 73,
   "metadata": {
    "collapsed": false
   },
   "outputs": [
    {
     "data": {
      "text/plain": [
       "array([[  3.78593890e+000,   1.06186375e+000,   6.50256089e-001],\n",
       "       [ -5.51586883e-186,   1.04142527e+000,   4.97263259e-002],\n",
       "       [ -1.44148039e-183,   2.98298186e-182,   1.01451455e+000]])"
      ]
     },
     "execution_count": 73,
     "metadata": {},
     "output_type": "execute_result"
    }
   ],
   "source": [
    "Ps = []\n",
    "for k in range(n):\n",
    "    d = AA3[:,k]/sum(AA3[:,k]**2)**0.5 #normalized second column\n",
    "    D = sum(d[k:]**2)**0.5\n",
    "    if(d[k]>0):\n",
    "        D *= -1\n",
    "    v = zeros(n)\n",
    "    v[k] = (0.5*(1-d[k]/D))**0.5\n",
    "\n",
    "    p = - D * v[k]\n",
    "    for j in range(k+1, n):\n",
    "        v[j] = d[j]/(2*p)\n",
    "\n",
    "    P = eye(n) - 2* outer(v,v) \n",
    "    Ps.append(P)\n",
    "    AA3 = dot(P,AA3)\n",
    "\n",
    "R = dot(Ps[1],dot(Ps[0],AA3))\n",
    "Q = dot(Ps[1],Ps[0]).T\n",
    "dot(Q,R)"
   ]
  },
  {
   "cell_type": "code",
   "execution_count": 74,
   "metadata": {
    "collapsed": false
   },
   "outputs": [
    {
     "data": {
      "text/plain": [
       "array([[  3.78593890e+000,   1.06186375e+000,  -6.50256089e-001],\n",
       "       [  1.90667221e-168,   1.04142527e+000,  -4.97263259e-002],\n",
       "       [  3.46719212e-167,  -2.90960351e-168,   1.01451455e+000]])"
      ]
     },
     "execution_count": 74,
     "metadata": {},
     "output_type": "execute_result"
    }
   ],
   "source": [
    "dot(R,Q)"
   ]
  },
  {
   "cell_type": "code",
   "execution_count": 75,
   "metadata": {
    "collapsed": true
   },
   "outputs": [],
   "source": [
    "#hmmm... not getting any better, probably a bug"
   ]
  },
  {
   "cell_type": "code",
   "execution_count": 91,
   "metadata": {
    "collapsed": false
   },
   "outputs": [
    {
     "data": {
      "text/plain": [
       "array([[ 5., -2.],\n",
       "       [-2.,  8.]])"
      ]
     },
     "execution_count": 91,
     "metadata": {},
     "output_type": "execute_result"
    }
   ],
   "source": [
    "def QR_method(A):\n",
    "    n = A.shape[0]\n",
    "    Ps = []\n",
    "    tempA = A[:]\n",
    "    for k in range(n):\n",
    "        d = tempA[:,k]/sum(tempA[:,k]**2)**0.5 #normalized second column\n",
    "        D = sum(d[k:]**2)**0.5\n",
    "        if(d[k]>0):\n",
    "            D *= -1\n",
    "        v = zeros(n)\n",
    "        v[k] = (0.5*(1-d[k]/D))**0.5\n",
    "\n",
    "        p = - D * v[k]\n",
    "        for j in range(k+1, n):\n",
    "            v[j] = d[j]/(2*p)\n",
    "\n",
    "        P = eye(n) - 2* outer(v,v) \n",
    "        Ps.append(P)\n",
    "        tempA = dot(P,tempA)\n",
    "    return Ps\n",
    "\n",
    "A = array([[5,-2],[-2,8]])\n",
    "Ps = QR_method(A)\n",
    "R = dot(Ps[0],A)\n",
    "Q = Ps[0].T\n",
    "dot(Q,R)"
   ]
  },
  {
   "cell_type": "code",
   "execution_count": 97,
   "metadata": {
    "collapsed": false
   },
   "outputs": [
    {
     "data": {
      "text/plain": [
       "array([[ 8.99976533,  0.03425327],\n",
       "       [ 0.03425327,  4.00023467]])"
      ]
     },
     "execution_count": 97,
     "metadata": {},
     "output_type": "execute_result"
    }
   ],
   "source": [
    "A = dot(R,Q)\n",
    "Ps = QR_method(A)\n",
    "R = dot(Ps[0],A)\n",
    "Q = Ps[0].T\n",
    "A = dot(R,Q)\n",
    "A"
   ]
  },
  {
   "cell_type": "code",
   "execution_count": 99,
   "metadata": {
    "collapsed": false
   },
   "outputs": [
    {
     "data": {
      "text/plain": [
       "array([[ 3.66666667,  0.80403025, -0.49236596],\n",
       "       [ 0.80403025,  1.24242424, -0.14845392],\n",
       "       [-0.49236596, -0.14845392,  1.09090909]])"
      ]
     },
     "execution_count": 99,
     "metadata": {},
     "output_type": "execute_result"
    }
   ],
   "source": [
    "A = array([[2,1,1],[1,2,1],[1,1,2]])\n",
    "Ps = QR_method(A)\n",
    "R = dot(Ps[1], dot(Ps[0],A))\n",
    "Q = dot(Ps[1],Ps[0]).T\n",
    "A = dot(R,Q)\n",
    "A"
   ]
  },
  {
   "cell_type": "code",
   "execution_count": 101,
   "metadata": {
    "collapsed": false
   },
   "outputs": [
    {
     "data": {
      "text/plain": [
       "array([[  3.99853587e+00,   5.73783953e-02,  -3.31355188e-02],\n",
       "       [  5.73783953e-02,   1.00109796e+00,  -6.34063749e-04],\n",
       "       [ -3.31355188e-02,  -6.34063749e-04,   1.00036617e+00]])"
      ]
     },
     "execution_count": 101,
     "metadata": {},
     "output_type": "execute_result"
    }
   ],
   "source": [
    "Ps = QR_method(A)\n",
    "R = dot(Ps[1], dot(Ps[0],A))\n",
    "Q = dot(Ps[1],Ps[0]).T\n",
    "A = dot(R,Q)\n",
    "A"
   ]
  },
  {
   "cell_type": "code",
   "execution_count": null,
   "metadata": {
    "collapsed": true
   },
   "outputs": [],
   "source": []
  }
 ],
 "metadata": {
  "kernelspec": {
   "display_name": "Python 3",
   "language": "python",
   "name": "python3"
  },
  "language_info": {
   "codemirror_mode": {
    "name": "ipython",
    "version": 3
   },
   "file_extension": ".py",
   "mimetype": "text/x-python",
   "name": "python",
   "nbconvert_exporter": "python",
   "pygments_lexer": "ipython3",
   "version": "3.4.1"
  }
 },
 "nbformat": 4,
 "nbformat_minor": 0
}
