{
 "cells": [
  {
   "cell_type": "code",
   "execution_count": 1,
   "metadata": {
    "collapsed": false
   },
   "outputs": [
    {
     "name": "stdout",
     "output_type": "stream",
     "text": [
      "Populating the interactive namespace from numpy and matplotlib\n"
     ]
    }
   ],
   "source": [
    "%pylab inline"
   ]
  },
  {
   "cell_type": "code",
   "execution_count": 43,
   "metadata": {
    "collapsed": false
   },
   "outputs": [
    {
     "data": {
      "text/plain": [
       "array([ 0.46470513,  0.46470513,  0.26095647, -0.26095647, -0.46470513,\n",
       "       -0.46470513])"
      ]
     },
     "execution_count": 43,
     "metadata": {},
     "output_type": "execute_result"
    }
   ],
   "source": [
    "A = array([[0,1,1,0,0,0],[1,0,1,0,0,0],[1,1,0,1,0,0],[0,0,1,0,1,1],[0,0,0,1,0,1],[0,0,0,1,1,0]])\n",
    "L = diag(A.sum(axis = 1))-A\n",
    "eigenValues,eigenVectors = eig(L)\n",
    "\n",
    "idx = eigenValues.argsort()   \n",
    "eigenValues = eigenValues[idx]\n",
    "eigenVectors = eigenVectors[:,idx]\n",
    "eigenVectors[:,1]"
   ]
  },
  {
   "cell_type": "code",
   "execution_count": 50,
   "metadata": {
    "collapsed": false
   },
   "outputs": [
    {
     "data": {
      "text/plain": [
       "array([[ 1.        , -0.5       , -0.40824829,  0.        ,  0.        ,\n",
       "         0.        ],\n",
       "       [-0.5       ,  1.        , -0.40824829,  0.        ,  0.        ,\n",
       "         0.        ],\n",
       "       [-0.40824829, -0.40824829,  1.        , -0.33333333,  0.        ,\n",
       "         0.        ],\n",
       "       [ 0.        ,  0.        , -0.33333333,  1.        , -0.40824829,\n",
       "        -0.40824829],\n",
       "       [ 0.        ,  0.        ,  0.        , -0.40824829,  1.        ,\n",
       "        -0.5       ],\n",
       "       [ 0.        ,  0.        ,  0.        , -0.40824829, -0.5       ,\n",
       "         1.        ]])"
      ]
     },
     "execution_count": 50,
     "metadata": {},
     "output_type": "execute_result"
    }
   ],
   "source": [
    "T = diag(A.sum(axis = 1))\n",
    "invT = diag(1.0/A.sum(axis = 1))\n",
    "sqInvT = sqrt(invT) # T^{-1/2}\n",
    "la = dot(sqInvT, dot(L, sqInvT))\n",
    "la"
   ]
  },
  {
   "cell_type": "code",
   "execution_count": 61,
   "metadata": {
    "collapsed": false
   },
   "outputs": [
    {
     "data": {
      "text/plain": [
       "array([[ 1.        , -0.5       , -0.40824829,  0.        ,  0.        ,\n",
       "         0.        ],\n",
       "       [-0.5       ,  1.        , -0.40824829,  0.        ,  0.        ,\n",
       "         0.        ],\n",
       "       [-0.40824829, -0.40824829,  1.        , -0.33333333,  0.        ,\n",
       "         0.        ],\n",
       "       [ 0.        ,  0.        , -0.33333333,  1.        , -0.40824829,\n",
       "        -0.40824829],\n",
       "       [ 0.        ,  0.        ,  0.        , -0.40824829,  1.        ,\n",
       "        -0.5       ],\n",
       "       [ 0.        ,  0.        ,  0.        , -0.40824829, -0.5       ,\n",
       "         1.        ]])"
      ]
     },
     "execution_count": 61,
     "metadata": {},
     "output_type": "execute_result"
    }
   ],
   "source": [
    "s2 = 1/sqrt(2)\n",
    "s3 = 1/sqrt(3)\n",
    "S = (array([[s2,0,s2,0,0,0,0],[-s2,s2,0,0,0,0,0],[0,-s3,-s3,s3,0,0,0],[0,0,0,-s3,s3,0,-s3],\n",
    "           [0,0,0,0,-s2,s2,0],[0,0,0,0,0,-s2,s2]]))\n",
    "dot(S,S.T) "
   ]
  },
  {
   "cell_type": "code",
   "execution_count": 64,
   "metadata": {
    "collapsed": false
   },
   "outputs": [
    {
     "data": {
      "text/plain": [
       "array([ -6.95244643e-17,   2.04666355e-01,   1.16666667e+00,\n",
       "         1.50000000e+00,   1.50000000e+00,   1.62866698e+00])"
      ]
     },
     "execution_count": 64,
     "metadata": {},
     "output_type": "execute_result"
    }
   ],
   "source": [
    "eigenValues,eigenVectors = eig(la)\n",
    "\n",
    "idx = eigenValues.argsort()   \n",
    "eigenValues = eigenValues[idx]\n",
    "eigenVectors = eigenVectors[:,idx]\n",
    "eigenValues"
   ]
  },
  {
   "cell_type": "code",
   "execution_count": 72,
   "metadata": {
    "collapsed": false
   },
   "outputs": [
    {
     "data": {
      "text/plain": [
       "array([ 1.00015103,  1.00015103,  1.22492985,  1.22492985,  1.00015103,\n",
       "        1.00015103])"
      ]
     },
     "execution_count": 72,
     "metadata": {},
     "output_type": "execute_result"
    }
   ],
   "source": [
    "dot(sqrt(T), ones(6))/1.414"
   ]
  },
  {
   "cell_type": "code",
   "execution_count": 71,
   "metadata": {
    "collapsed": false
   },
   "outputs": [
    {
     "data": {
      "text/plain": [
       "array([[  1.00001183e-01,   1.17774694e-01,   8.66035653e-02,\n",
       "         -1.87085083e-01,   4.90208961e-02,  -6.02456282e-02],\n",
       "       [  1.00001183e-01,   1.17774694e-01,   8.66035653e-02,\n",
       "          1.87085083e-01,  -4.90208961e-02,  -6.02456282e-02],\n",
       "       [  1.22475937e-01,   8.52001845e-02,  -1.41423030e-01,\n",
       "          2.24704698e-17,   1.58942229e-16,   1.66558569e-01],\n",
       "       [  1.22475937e-01,  -8.52001845e-02,  -1.41423030e-01,\n",
       "          2.81131936e-16,  -3.16052119e-16,  -1.66558569e-01],\n",
       "       [  1.00001183e-01,  -1.17774694e-01,   8.66035653e-02,\n",
       "         -1.84011438e-16,  -1.80548554e-01,   6.02456282e-02],\n",
       "       [  1.00001183e-01,  -1.17774694e-01,   8.66035653e-02,\n",
       "         -1.36832813e-16,   1.80548554e-01,   6.02456282e-02]])"
      ]
     },
     "execution_count": 71,
     "metadata": {},
     "output_type": "execute_result"
    }
   ],
   "source": [
    "eigenVectors/3.7796\n"
   ]
  },
  {
   "cell_type": "code",
   "execution_count": null,
   "metadata": {
    "collapsed": true
   },
   "outputs": [],
   "source": []
  }
 ],
 "metadata": {
  "kernelspec": {
   "display_name": "Python 3",
   "language": "python",
   "name": "python3"
  },
  "language_info": {
   "codemirror_mode": {
    "name": "ipython",
    "version": 3
   },
   "file_extension": ".py",
   "mimetype": "text/x-python",
   "name": "python",
   "nbconvert_exporter": "python",
   "pygments_lexer": "ipython3",
   "version": "3.4.1"
  }
 },
 "nbformat": 4,
 "nbformat_minor": 0
}
