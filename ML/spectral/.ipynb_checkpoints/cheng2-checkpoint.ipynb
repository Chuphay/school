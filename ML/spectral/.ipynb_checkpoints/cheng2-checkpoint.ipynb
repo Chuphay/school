{
 "cells": [
  {
   "cell_type": "code",
   "execution_count": 1,
   "metadata": {
    "collapsed": false
   },
   "outputs": [
    {
     "name": "stdout",
     "output_type": "stream",
     "text": [
      "Populating the interactive namespace from numpy and matplotlib\n"
     ]
    }
   ],
   "source": [
    "%pylab inline\n"
   ]
  },
  {
   "cell_type": "code",
   "execution_count": 2,
   "metadata": {
    "collapsed": false
   },
   "outputs": [
    {
     "data": {
      "text/plain": [
       "array([ 0.46470513,  0.46470513,  0.26095647, -0.26095647, -0.46470513,\n",
       "       -0.46470513])"
      ]
     },
     "execution_count": 2,
     "metadata": {},
     "output_type": "execute_result"
    }
   ],
   "source": [
    "A = array([[0,1,1,0,0,0],[1,0,1,0,0,0],[1,1,0,1,0,0],[0,0,1,0,1,1],[0,0,0,1,0,1],[0,0,0,1,1,0]])\n",
    "L = diag(A.sum(axis = 1))-A\n",
    "eigenValues,eigenVectors = eig(L)\n",
    "\n",
    "idx = eigenValues.argsort()   \n",
    "eigenValues = eigenValues[idx]\n",
    "eigenVectors = eigenVectors[:,idx]\n",
    "eigenVectors[:,1]\n"
   ]
  },
  {
   "cell_type": "code",
   "execution_count": 4,
   "metadata": {
    "collapsed": false
   },
   "outputs": [
    {
     "data": {
      "text/plain": [
       "array([ 0.        ,  0.20466635,  1.16666667,  1.5       ,  1.5       ,\n",
       "        1.62866698])"
      ]
     },
     "execution_count": 4,
     "metadata": {},
     "output_type": "execute_result"
    }
   ],
   "source": [
    "T = diag(A.sum(axis = 1))\n",
    "invT = diag(1.0/A.sum(axis = 1))\n",
    "sqInvT = sqrt(invT) # T^{-1/2}\n",
    "la = dot(sqInvT, dot(L, sqInvT))\n",
    "eigenValues,eigenVectors = eig(la)\n",
    "\n",
    "idx = eigenValues.argsort()   \n",
    "eigenValues = eigenValues[idx]\n",
    "eigenVectors = eigenVectors[:,idx]\n",
    "eigenValues"
   ]
  },
  {
   "cell_type": "code",
   "execution_count": 8,
   "metadata": {
    "collapsed": false
   },
   "outputs": [
    {
     "data": {
      "text/plain": [
       "array([ 0.,  0.,  2.,  2.])"
      ]
     },
     "execution_count": 8,
     "metadata": {},
     "output_type": "execute_result"
    }
   ],
   "source": [
    "A = array([[0,0,1,0],[0,0,0,1],[1,0,0,0],[0,1,0,0]])\n",
    "T = diag(A.sum(axis = 1))\n",
    "L = diag(A.sum(axis = 1))-A\n",
    "invT = diag(1.0/A.sum(axis = 1))\n",
    "sqInvT = sqrt(invT) # T^{-1/2}\n",
    "la = dot(sqInvT, dot(L, sqInvT))\n",
    "eigenValues,eigenVectors = eig(la)\n",
    "\n",
    "idx = eigenValues.argsort()   \n",
    "eigenValues = eigenValues[idx]\n",
    "eigenVectors = eigenVectors[:,idx]\n",
    "eigenValues"
   ]
  },
  {
   "cell_type": "code",
   "execution_count": null,
   "metadata": {
    "collapsed": true
   },
   "outputs": [],
   "source": []
  }
 ],
 "metadata": {
  "kernelspec": {
   "display_name": "Python 2",
   "language": "python",
   "name": "python2"
  },
  "language_info": {
   "codemirror_mode": {
    "name": "ipython",
    "version": 2
   },
   "file_extension": ".py",
   "mimetype": "text/x-python",
   "name": "python",
   "nbconvert_exporter": "python",
   "pygments_lexer": "ipython2",
   "version": "2.7.6"
  }
 },
 "nbformat": 4,
 "nbformat_minor": 0
}
