{
 "cells": [
  {
   "cell_type": "code",
   "execution_count": 1,
   "metadata": {
    "collapsed": false
   },
   "outputs": [
    {
     "name": "stdout",
     "output_type": "stream",
     "text": [
      "Populating the interactive namespace from numpy and matplotlib\n"
     ]
    }
   ],
   "source": [
    "%pylab inline\n",
    "#from http://www.math.tamu.edu/~dallen/linear_algebra/chpt6.pdf"
   ]
  },
  {
   "cell_type": "code",
   "execution_count": 2,
   "metadata": {
    "collapsed": false
   },
   "outputs": [
    {
     "data": {
      "text/plain": [
       "array([[2, 1, 1],\n",
       "       [1, 2, 1],\n",
       "       [1, 1, 2]])"
      ]
     },
     "execution_count": 2,
     "metadata": {},
     "output_type": "execute_result"
    }
   ],
   "source": [
    "#QR method\n",
    "A = array([[2,1,1],[1,2,1],[1,1,2]])\n",
    "A"
   ]
  },
  {
   "cell_type": "code",
   "execution_count": 35,
   "metadata": {
    "collapsed": false
   },
   "outputs": [
    {
     "data": {
      "text/plain": [
       "array([[ -2.44948974e+00,  -2.04124145e+00,  -2.04124145e+00],\n",
       "       [ -1.38777878e-16,   1.31649658e+00,   3.16496581e-01],\n",
       "       [ -1.38777878e-16,   3.16496581e-01,   1.31649658e+00]])"
      ]
     },
     "execution_count": 35,
     "metadata": {},
     "output_type": "execute_result"
    }
   ],
   "source": [
    "n = A.shape[0]\n",
    "k = 0\n",
    "d = A[:,k]/sum(A[:,k]**2)**0.5 #normalized first column\n",
    "D = sum(d[k:]**2)**0.5\n",
    "if(d[k]>0):\n",
    "    D *= -1\n",
    "v = zeros(n)\n",
    "v[k] = (0.5*(1-d[k]/D))**0.5\n",
    "p = - D * v[k]\n",
    "for j in range(k+1, n):\n",
    "    v[j] = d[j]/(2*p)\n",
    "\n",
    "P = eye(n) - 2* outer(v,v)    \n",
    "A2 = dot(P,A)\n",
    "A2"
   ]
  },
  {
   "cell_type": "code",
   "execution_count": 36,
   "metadata": {
    "collapsed": false
   },
   "outputs": [
    {
     "data": {
      "text/plain": [
       "array([[ -2.44948974e+00,  -2.04124145e+00,  -2.04124145e+00],\n",
       "       [  1.67372418e-16,  -1.35400640e+00,  -6.15457455e-01],\n",
       "       [ -1.02494256e-16,  -8.18572640e-18,   1.20604538e+00]])"
      ]
     },
     "execution_count": 36,
     "metadata": {},
     "output_type": "execute_result"
    }
   ],
   "source": [
    "k = 1\n",
    "d = A2[:,k]/sum(A2[:,k]**2)**0.5 #normalized second column\n",
    "D = sum(d[k:]**2)**0.5\n",
    "if(d[k]>0):\n",
    "    D *= -1\n",
    "v = zeros(n)\n",
    "v[k] = (0.5*(1-d[k]/D))**0.5\n",
    "\n",
    "p = - D * v[k]\n",
    "for j in range(k+1, n):\n",
    "    v[j] = d[j]/(2*p)\n",
    "    \n",
    "P = eye(n) - 2* outer(v,v)    \n",
    "A3 = dot(P,A2)\n",
    "A3"
   ]
  },
  {
   "cell_type": "code",
   "execution_count": null,
   "metadata": {
    "collapsed": true
   },
   "outputs": [],
   "source": []
  }
 ],
 "metadata": {
  "kernelspec": {
   "display_name": "Python 3",
   "language": "python",
   "name": "python3"
  },
  "language_info": {
   "codemirror_mode": {
    "name": "ipython",
    "version": 3
   },
   "file_extension": ".py",
   "mimetype": "text/x-python",
   "name": "python",
   "nbconvert_exporter": "python",
   "pygments_lexer": "ipython3",
   "version": "3.4.1"
  }
 },
 "nbformat": 4,
 "nbformat_minor": 0
}
