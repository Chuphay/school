{
 "metadata": {
  "name": "",
  "signature": "sha256:5d39c389a8e698ea63ee9b4c7cc9ebe29d0a97072f2907d272845e7cb3b29fe1"
 },
 "nbformat": 3,
 "nbformat_minor": 0,
 "worksheets": [
  {
   "cells": [
    {
     "cell_type": "code",
     "collapsed": false,
     "input": [
      "%pylab inline"
     ],
     "language": "python",
     "metadata": {},
     "outputs": [
      {
       "output_type": "stream",
       "stream": "stdout",
       "text": [
        "Populating the interactive namespace from numpy and matplotlib\n"
       ]
      }
     ],
     "prompt_number": 1
    },
    {
     "cell_type": "code",
     "collapsed": false,
     "input": [
      "N = linspace(0,1.5, 20)\n",
      "e = exp(1)\n",
      "plot(N**2+1, label = 'N^2+1')\n",
      "plot(N**5+1, label = 'N^5+1')\n",
      "plot((e*N/2)**2, label = '(eN/2)^2')\n",
      "plot((e*N/5)**5, label = '(eN/5)^5')\n",
      "legend(loc = 'best');\n",
      "\n"
     ],
     "language": "python",
     "metadata": {},
     "outputs": [
      {
       "metadata": {},
       "output_type": "display_data",
       "png": "[encoded data removed]",
       "text": [
        "<matplotlib.figure.Figure at 0xb079436c>"
       ]
      }
     ],
     "prompt_number": 22
    },
    {
     "cell_type": "code",
     "collapsed": false,
     "input": [
      "epsilon = 0.05\n",
      "delta = 1-0.95\n",
      "dvc = 10\n",
      "N = linspace(0, 10000000, 1000000)\n",
      "def new_N(N):\n",
      "    a = 8/epsilon**2\n",
      "    b = 4*((2*N)**dvc + 1)/delta\n",
      "    return a*log(b)\n",
      "\n",
      "a = []\n",
      "for i in N:\n",
      "    if i<new_N(i):\n",
      "        #print('t')\n",
      "        pass\n",
      "    else:\n",
      "        print('f', i)\n",
      "        break\n"
     ],
     "language": "python",
     "metadata": {},
     "outputs": [
      {
       "output_type": "stream",
       "stream": "stdout",
       "text": [
        "f 452960.45296\n"
       ]
      }
     ],
     "prompt_number": 45
    },
    {
     "cell_type": "code",
     "collapsed": false,
     "input": [],
     "language": "python",
     "metadata": {},
     "outputs": []
    }
   ],
   "metadata": {}
  }
 ]
}