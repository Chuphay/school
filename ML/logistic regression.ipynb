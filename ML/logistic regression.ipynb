{
 "metadata": {
  "name": "",
  "signature": "sha256:6b2f42a51191ff44c000362c1d3c2ddb40d7c9e2f973422a842d1b8fca2e668b"
 },
 "nbformat": 3,
 "nbformat_minor": 0,
 "worksheets": [
  {
   "cells": [
    {
     "cell_type": "code",
     "collapsed": false,
     "input": [
      "%pylab inline"
     ],
     "language": "python",
     "metadata": {},
     "outputs": [
      {
       "output_type": "stream",
       "stream": "stdout",
       "text": [
        "Populating the interactive namespace from numpy and matplotlib\n"
       ]
      }
     ],
     "prompt_number": 5
    },
    {
     "cell_type": "code",
     "collapsed": false,
     "input": [
      "def logistic(z):\n",
      "    denom = 1 + exp(-z)\n",
      "    return 1/denom\n",
      "\n",
      "def log_error(data, target, weight):\n",
      "    x = hstack((np.ones((data.shape[0],1)),data))\n",
      "    mid_step = 1 + exp(-array(target)*dot(x,array(weight)))\n",
      "    return sum(log(mid_step))/data.shape[0]\n",
      "    \n",
      "\n",
      "def logistic_regression(data, target, rate = 0.1, e = 0.01, max = 10000):\n",
      "    w = array([0,0,0])\n",
      "    t = array(target)\n",
      "    x = hstack((np.ones((data.shape[0],1)),data))\n",
      "    for i in range(max):     \n",
      "        denom = 1 + exp(t*dot(x,w))\n",
      "        error = sum((t*x.T/denom)/data.shape[0], axis = 1)\n",
      "        w = w + rate*error\n",
      "        if (log_error(data,target, w)<e):\n",
      "            print(\"success!\")\n",
      "            break\n",
      "    return w\n",
      "\n",
      "def plot_data(data, target):\n",
      "    for i, e in enumerate(data):\n",
      "        #print(i)\n",
      "        if(target[i] == 1):\n",
      "            plot(data[i][0],data[i][1],c = 'r', marker = 'x')\n",
      "        else:\n",
      "            plot(data[i][0],data[i][1],c = 'b', marker = 'o')\n",
      "\n",
      "def plot_line(w, c = 'k'):\n",
      "    x = linspace(0,1,100)\n",
      "    slope = -w[1]/w[2]\n",
      "    intercept = - w[0]/w[2]\n",
      "    plot(x,slope*x +intercept,c)\n",
      "    "
     ],
     "language": "python",
     "metadata": {},
     "outputs": [],
     "prompt_number": 6
    },
    {
     "cell_type": "code",
     "collapsed": false,
     "input": [
      "seed(1234)\n",
      "def make_data(num):\n",
      "    length = num\n",
      "    data = [rand(2) for i in range(length)]\n",
      "    return array(data)\n",
      " \n",
      "def make_target(data):\n",
      "    target = []\n",
      "    for i in range(len(data)):\n",
      "        if(data[i][0] + data[i][1]< 1):\n",
      "            target.append(1)\n",
      "        else:\n",
      "            target.append(-1)\n",
      "    return array(target)        \n",
      "        \n",
      "data = make_data(50)  \n",
      "target = make_target(data)\n",
      "plot_data(data,target)    \n",
      "w = logistic_regression(array(data), target, 1)\n",
      "plot_line(w)"
     ],
     "language": "python",
     "metadata": {},
     "outputs": [
      {
       "metadata": {},
       "output_type": "display_data",
       "png": "[encoded data removed]",
       "text": [
        "<matplotlib.figure.Figure at 0xb0d9474c>"
       ]
      }
     ],
     "prompt_number": 11
    },
    {
     "cell_type": "code",
     "collapsed": false,
     "input": [],
     "language": "python",
     "metadata": {},
     "outputs": []
    }
   ],
   "metadata": {}
  }
 ]
}