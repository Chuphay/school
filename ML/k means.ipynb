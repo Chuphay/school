{
 "metadata": {
  "name": "",
  "signature": "sha256:a60f99bd8ac678578830413cb43063b3762c16ddaccc31188e9ae546d01e6891"
 },
 "nbformat": 3,
 "nbformat_minor": 0,
 "worksheets": [
  {
   "cells": [
    {
     "cell_type": "code",
     "collapsed": false,
     "input": [
      "%pylab inline"
     ],
     "language": "python",
     "metadata": {},
     "outputs": [
      {
       "output_type": "stream",
       "stream": "stdout",
       "text": [
        "Populating the interactive namespace from numpy and matplotlib\n"
       ]
      }
     ],
     "prompt_number": 1
    },
    {
     "cell_type": "code",
     "collapsed": false,
     "input": [
      "seed(123)\n",
      "def make_data(num):\n",
      "    length = num\n",
      "    data = [rand(2) for i in range(length)]\n",
      "    return array(data)\n",
      " \n",
      "def make_target(data):\n",
      "    target = []\n",
      "    for i in range(len(data)):\n",
      "        if(data[i][0] + data[i][1]< 1):\n",
      "            target.append(1)\n",
      "        else:\n",
      "            target.append(-1)\n",
      "    return array(target)  \n",
      "\n",
      "def plot_data(data, target):\n",
      "    for i, e in enumerate(data):\n",
      "        if(target[i] == 1):\n",
      "            plot(data[i][0],data[i][1],c = 'r', marker = 'x')\n",
      "        else:\n",
      "            plot(data[i][0],data[i][1],c = 'b', marker = 'o')\n",
      "\n",
      "def plot_line(w, c = 'k'):\n",
      "    x = linspace(0,1,100)\n",
      "    slope = -w[1]/w[2]\n",
      "    intercept = - w[0]/w[2]\n",
      "    plot(x,slope*x +intercept,c)\n",
      "        \n",
      "data = make_data(20)  \n",
      "target = make_target(data)\n",
      "plot_data(data,target)    "
     ],
     "language": "python",
     "metadata": {},
     "outputs": [
      {
       "metadata": {},
       "output_type": "display_data",
       "png": "[encoded data removed]",
       "text": [
        "<matplotlib.figure.Figure at 0xb0b848ec>"
       ]
      }
     ],
     "prompt_number": 21
    },
    {
     "cell_type": "code",
     "collapsed": false,
     "input": [
      "def get_cluster(data, centers):\n",
      "    #print(data, centers)\n",
      "    out = 0\n",
      "    small = np.inf\n",
      "    for i, center in enumerate(centers):        \n",
      "        dist = sum((array(data)-array(center))**2)\n",
      "        #print(dist)\n",
      "        if(dist<small):\n",
      "            #print(dist)\n",
      "            out = i\n",
      "            small = dist\n",
      "    return out\n",
      "\n",
      "def get_mean(data, clusters, cluster_num):\n",
      "    mean = [0,0]\n",
      "    num_in_cluster = 0\n",
      "    for i, c in enumerate(clusters):\n",
      "        \n",
      "        if (c == cluster_num):\n",
      "            num_in_cluster += 1\n",
      "            mean = mean + data[i]\n",
      "            #print(mean)\n",
      "            \n",
      "    #print(array(mean)/len(mean))\n",
      "    return array(mean)/num_in_cluster        \n",
      "            \n",
      "clusters = [] \n",
      "for i in range(len(data)):        \n",
      "    clusters.append(get_cluster(data[i], [data[10],data[13],data[11]]))\n",
      "\n",
      "for i in range(3): \n",
      "    #print(i)\n",
      "    x,y = get_mean(data, clusters, i)\n",
      "    scatter(x,y, c= 'k', marker = 'x', s =1000)  \n",
      "plot_data(data, target)    \n",
      "#print(data)        \n",
      "    "
     ],
     "language": "python",
     "metadata": {},
     "outputs": [
      {
       "metadata": {},
       "output_type": "display_data",
       "png": "[encoded data removed]",
       "text": [
        "<matplotlib.figure.Figure at 0xb098b68c>"
       ]
      }
     ],
     "prompt_number": 52
    },
    {
     "cell_type": "code",
     "collapsed": false,
     "input": [],
     "language": "python",
     "metadata": {},
     "outputs": []
    }
   ],
   "metadata": {}
  }
 ]
}