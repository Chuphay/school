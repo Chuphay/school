{
 "metadata": {
  "name": "",
  "signature": "sha256:0bcea565e4912fffa589cc3910f738dc10c8730b78d8c03f8ed0b559ffe4539e"
 },
 "nbformat": 3,
 "nbformat_minor": 0,
 "worksheets": [
  {
   "cells": [
    {
     "cell_type": "code",
     "collapsed": false,
     "input": [
      "%pylab inline\n",
      "from tools import repeat"
     ],
     "language": "python",
     "metadata": {},
     "outputs": [
      {
       "output_type": "stream",
       "stream": "stdout",
       "text": [
        "Populating the interactive namespace from numpy and matplotlib\n"
       ]
      }
     ],
     "prompt_number": 1
    },
    {
     "cell_type": "code",
     "collapsed": false,
     "input": [
      "@repeat(10)\n",
      "def flip_coin():\n",
      "    if(randn()>0):\n",
      "        return 1\n",
      "    else:\n",
      "        return 0\n",
      "\n",
      "outcome = [0 for i in range(1000)]\n",
      "for i in range(1000):\n",
      "    outcome[i] = flip_coin()"
     ],
     "language": "python",
     "metadata": {},
     "outputs": [],
     "prompt_number": 2
    },
    {
     "cell_type": "code",
     "collapsed": false,
     "input": [
      "first_flip = outcome[0]\n",
      "random_flip = outcome[randint(1000)]\n",
      "min_flip = 10\n",
      "for i in outcome:\n",
      "    if i<min_flip:\n",
      "        min_flip = i\n",
      "print(first_flip)\n",
      "print(random_flip)\n",
      "print(min_flip)"
     ],
     "language": "python",
     "metadata": {},
     "outputs": [
      {
       "output_type": "stream",
       "stream": "stdout",
       "text": [
        "0.9\n",
        "0.5\n",
        "0.0\n"
       ]
      }
     ],
     "prompt_number": 3
    },
    {
     "cell_type": "markdown",
     "metadata": {},
     "source": [
      "a) $\\mu$ in general is 0.5. Certainly for the two random coins, we expect $\\mu$ ti be this value. However, if we are artificially selecting out the minimum value, I'm not sure if we can say that $\\mu$ is 0.5 for the minimum coin.  "
     ]
    },
    {
     "cell_type": "code",
     "collapsed": false,
     "input": [
      "first_flip = [0 for i in range(1000)]\n",
      "random_flip = [0 for i in range(1000)]\n",
      "min_flip = [0 for i in range(1000)]\n",
      "\n",
      "outcome = [0 for i in range(1000)]\n",
      "for i in range(1000):\n",
      "    minimum = 10\n",
      "    for j in range(1000):\n",
      "        outcome[j] = flip_coin()\n",
      "        if (outcome[j]<minimum):\n",
      "            minimum = outcome[j]\n",
      "    first_flip[i] = outcome[0]\n",
      "    random_flip[i] = outcome[randint(1000)]\n",
      "    min_flip[i] = minimum\n",
      "        \n",
      "    "
     ],
     "language": "python",
     "metadata": {},
     "outputs": [],
     "prompt_number": 4
    },
    {
     "cell_type": "code",
     "collapsed": false,
     "input": [
      "figsize(15,5)\n",
      "subplot(131)\n",
      "hist(first_flip, color = 'orange');\n",
      "subplot(132)\n",
      "hist(random_flip, color = 'pink');\n",
      "subplot(133)\n",
      "hist(min_flip, color = 'grey');"
     ],
     "language": "python",
     "metadata": {},
     "outputs": [
      {
       "metadata": {},
       "output_type": "display_data",
       "png": "[encoded data removed]",
       "text": [
        "<matplotlib.figure.Figure at 0xb0c09fcc>"
       ]
      }
     ],
     "prompt_number": 5
    },
    {
     "cell_type": "code",
     "collapsed": false,
     "input": [
      "def get_falses(data, e):\n",
      "    out = 0\n",
      "    for i in data:\n",
      "        if(abs(i-0.5)>e):\n",
      "            out += 1       \n",
      "    return out/len(data)            "
     ],
     "language": "python",
     "metadata": {},
     "outputs": [],
     "prompt_number": 20
    },
    {
     "cell_type": "code",
     "collapsed": false,
     "input": [
      "first_flip_false = []\n",
      "rand_flip_false = []\n",
      "min_flip_false = []\n",
      "x = linspace(0,1,100)\n",
      "for i in x:\n",
      "    first_flip_false.append(get_falses(first_flip, i))\n",
      "    rand_flip_false.append(get_falses(random_flip, i))\n",
      "    min_flip_false.append(get_falses(min_flip, i))\n",
      "plot(x,first_flip_false)    \n",
      "plot(x,rand_flip_false)\n",
      "plot(x, min_flip_false)\n",
      "plot(x, 2*exp(-2*(x**2)*10));"
     ],
     "language": "python",
     "metadata": {},
     "outputs": [
      {
       "metadata": {},
       "output_type": "display_data",
       "png": "[encoded data removed]",
       "text": [
        "<matplotlib.figure.Figure at 0xafd6e36c>"
       ]
      }
     ],
     "prompt_number": 31
    },
    {
     "cell_type": "code",
     "collapsed": false,
     "input": [],
     "language": "python",
     "metadata": {},
     "outputs": []
    }
   ],
   "metadata": {}
  }
 ]
}