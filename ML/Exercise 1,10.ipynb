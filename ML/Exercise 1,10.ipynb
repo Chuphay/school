{
 "metadata": {
  "name": "",
  "signature": "sha256:f9e9bcccaaaa96da301be7730a72e140f93a3d2081e481d9adb28782fba4fc5f"
 },
 "nbformat": 3,
 "nbformat_minor": 0,
 "worksheets": [
  {
   "cells": [
    {
     "cell_type": "code",
     "collapsed": false,
     "input": [
      "%pylab inline\n",
      "from tools import repeat"
     ],
     "language": "python",
     "metadata": {},
     "outputs": [
      {
       "output_type": "stream",
       "stream": "stdout",
       "text": [
        "Populating the interactive namespace from numpy and matplotlib\n"
       ]
      }
     ],
     "prompt_number": 1
    },
    {
     "cell_type": "code",
     "collapsed": false,
     "input": [
      "@repeat(10)\n",
      "def flip_coin():\n",
      "    if(randn()>0):\n",
      "        return 1\n",
      "    else:\n",
      "        return 0\n",
      "\n",
      "outcome = [0 for i in range(1000)]\n",
      "for i in range(1000):\n",
      "    outcome[i] = flip_coin()"
     ],
     "language": "python",
     "metadata": {},
     "outputs": [],
     "prompt_number": 2
    },
    {
     "cell_type": "code",
     "collapsed": false,
     "input": [
      "first_flip = outcome[0]\n",
      "random_flip = outcome[randint(1000)]\n",
      "min_flip = 10\n",
      "for i in outcome:\n",
      "    if i<min_flip:\n",
      "        min_flip = i\n",
      "print(first_flip)\n",
      "print(random_flip)\n",
      "print(min_flip)"
     ],
     "language": "python",
     "metadata": {},
     "outputs": [
      {
       "output_type": "stream",
       "stream": "stdout",
       "text": [
        "0.7\n",
        "0.4\n",
        "0.1\n"
       ]
      }
     ],
     "prompt_number": 4
    },
    {
     "cell_type": "markdown",
     "metadata": {},
     "source": [
      "a) $\\mu$ in general is 0.5. Certainly for the two random coins, we expect $\\mu$ ti be this value. However, if we are artificially selecting out the minimum value, I'm not sure if we can say that $\\mu$ is 0.5 for the minimum coin.  "
     ]
    },
    {
     "cell_type": "code",
     "collapsed": false,
     "input": [
      "first_flip = [0 for i in range(1000)]\n",
      "random_flip = [0 for i in range(1000)]\n",
      "min_flip = [0 for i in range(1000)]\n",
      "\n",
      "outcome = [0 for i in range(1000)]\n",
      "for i in range(1000):\n",
      "    minimum = 10\n",
      "    for j in range(1000):\n",
      "        outcome[j] = flip_coin()\n",
      "        if (outcome[j]<minimum):\n",
      "            minimum = outcome[j]\n",
      "    first_flip[i] = outcome[0]\n",
      "    random_flip[i] = outcome[randint(1000)]\n",
      "    min_flip[i] = minimum\n",
      "        \n",
      "    "
     ],
     "language": "python",
     "metadata": {},
     "outputs": [],
     "prompt_number": 5
    },
    {
     "cell_type": "code",
     "collapsed": false,
     "input": [
      "figsize(15,5)\n",
      "subplot(131)\n",
      "hist(first_flip, color = 'orange');\n",
      "subplot(132)\n",
      "hist(random_flip, color = 'pink');\n",
      "subplot(133)\n",
      "hist(min_flip, color = 'grey');"
     ],
     "language": "python",
     "metadata": {},
     "outputs": [
      {
       "metadata": {},
       "output_type": "display_data",
       "png": "[encoded data removed]",
       "text": [
        "<matplotlib.figure.Figure at 0xb0a6a36c>"
       ]
      }
     ],
     "prompt_number": 8
    },
    {
     "cell_type": "code",
     "collapsed": false,
     "input": [],
     "language": "python",
     "metadata": {},
     "outputs": []
    }
   ],
   "metadata": {}
  }
 ]
}