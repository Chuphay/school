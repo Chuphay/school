{
 "cells": [
  {
   "cell_type": "code",
   "execution_count": 6,
   "metadata": {
    "collapsed": false
   },
   "outputs": [
    {
     "name": "stdout",
     "output_type": "stream",
     "text": [
      "Populating the interactive namespace from numpy and matplotlib\n"
     ]
    }
   ],
   "source": [
    "%pylab inline\n",
    "import networkx as nx"
   ]
  },
  {
   "cell_type": "markdown",
   "metadata": {},
   "source": [
    "##I'm taking these notes from Pissanetsky's \"Sparse Matrix Technology\"\n",
    "\n",
    "###CH 1 Fundamentals (Storage)\n",
    "\n",
    "A linear linked list is a set of cells linked together in some order. Each cell contains an item of the list and a pointer which indicates where the next cell is located. As an example, consider that we wish to stor the numbers a, b, c and d, in that order, in an array A(I). The storage could look as follows:"
   ]
  },
  {
   "cell_type": "code",
   "execution_count": 35,
   "metadata": {
    "collapsed": false
   },
   "outputs": [
    {
     "name": "stdout",
     "output_type": "stream",
     "text": [
      "a\n",
      "b\n",
      "c\n",
      "d\n"
     ]
    }
   ],
   "source": [
    "x = np.infty #can be anything\n",
    "A = [x,\"b\",x,\"d\",\"a\",x,\"c\",x]\n",
    "NEXT = [x,6,x,-1,1,x,3,x]\n",
    "START = 4\n",
    "END = -1\n",
    "\n",
    "location = START\n",
    "while True:\n",
    "    print(A[location])\n",
    "    location = NEXT[location]\n",
    "    if(location == END):\n",
    "        break"
   ]
  },
  {
   "cell_type": "code",
   "execution_count": 7,
   "metadata": {
    "collapsed": false
   },
   "outputs": [
    {
     "data": {
      "image/png": "[encoded data removed]",
      "text/plain": [
       "<matplotlib.figure.Figure at 0xb040caec>"
      ]
     },
     "metadata": {},
     "output_type": "display_data"
    }
   ],
   "source": [
    "a = array([[0,1,1,0,0],[1,0,1,1,0],[1,1,0,1,1],[0,1,1,0,1],[0,0,1,1,0]])\n",
    "G = nx.Graph(a)\n",
    "nx.draw(G)"
   ]
  },
  {
   "cell_type": "markdown",
   "metadata": {},
   "source": [
    "A graph can be represented in the computer memory by storing for each vertex, the listof vertices which are adjacent to it"
   ]
  },
  {
   "cell_type": "code",
   "execution_count": 19,
   "metadata": {
    "collapsed": false
   },
   "outputs": [
    {
     "name": "stdout",
     "output_type": "stream",
     "text": [
      "0 connected to 1\n",
      "0 connected to 2\n",
      "1 connected to 0\n",
      "1 connected to 2\n",
      "1 connected to 3\n",
      "2 connected to 0\n",
      "2 connected to 1\n",
      "2 connected to 3\n",
      "2 connected to 4\n",
      "3 connected to 1\n",
      "3 connected to 2\n",
      "3 connected to 4\n",
      "4 connected to 2\n",
      "4 connected to 3\n"
     ]
    }
   ],
   "source": [
    "LIST = [1,2,0,2,3,0,1,3,4,1,2,4,2,3]\n",
    "IP  = [0,2,5,9,12,14]\n",
    "\n",
    "for i in range(5):\n",
    "    for j in range(IP[i],IP[i+1]):\n",
    "        print(i,\"connected to\", LIST[j])"
   ]
  },
  {
   "cell_type": "markdown",
   "metadata": {},
   "source": [
    "We describe first the sparse storage scheme proposed by Knuth. The nonzero elements are stored in the computer memory in any order in a one-dimensional array, say AN. Information regarding where each nonzero belongs can be stored in two additional parallel one-dimensional arrays, say I and J, which contain the corresponding nonzero. Thus for each $A_{ij} \\neq 0$, the triple $(A_{ij}, i, j)$ is kept in memory. Furthermore, in order to be able to easily find the elements in a certain row or column, it becomes necessary to store a pair of pointers together with each triple and row and column heads, which tell where to enter each row or column list. Let NR (\"next nonzero element in the same row\") be the array which keeps the row pointers and NC be the array with the column pointers. The five arrays AN, I, J, NR, and NC are of the same length, with their positions in correspondence. Let JR and JC be the arrays which contain the row and column heads."
   ]
  },
  {
   "cell_type": "code",
   "execution_count": 21,
   "metadata": {
    "collapsed": false
   },
   "outputs": [
    {
     "data": {
      "text/plain": [
       "array([[0, 6, 0, 0],\n",
       "       [9, 4, 0, 7],\n",
       "       [5, 0, 0, 0],\n",
       "       [0, 2, 0, 8]])"
      ]
     },
     "execution_count": 21,
     "metadata": {},
     "output_type": "execute_result"
    }
   ],
   "source": [
    "A = array([[0,6,0,0],[9,4,0,7],[5,0,0,0],[0,2,0,8]])\n",
    "A"
   ]
  },
  {
   "cell_type": "code",
   "execution_count": 32,
   "metadata": {
    "collapsed": false
   },
   "outputs": [
    {
     "name": "stdout",
     "output_type": "stream",
     "text": [
      "Column 0\n",
      "9 row 1\n",
      "5 row 2\n",
      "Column 1\n",
      "6 row 0\n",
      "4 row 1\n",
      "2 row 3\n",
      "Column 2\n",
      "Column 3\n",
      "7 row 1\n",
      "8 row 3\n"
     ]
    }
   ],
   "source": [
    "x = None\n",
    "AN = [6,9,4,7,5,2,8]\n",
    "I =  [0,1,1,1,2,3,3]\n",
    "J =  [1,0,1,3,0,1,3]\n",
    "NR = [x,2,3,x,x,7,x]\n",
    "NC = [2,4,5,6,x,x,x]\n",
    "JR = [0,1,4,5]\n",
    "JC = [1,0,x,3]\n",
    "\n",
    "for i in range(4):\n",
    "    print(\"Column\", i)\n",
    "    cur = JC[i]\n",
    "    while (cur != None):\n",
    "        print(AN[cur], \"row\", I[cur])\n",
    "        cur = NC[cur]\n",
    "\n"
   ]
  },
  {
   "cell_type": "markdown",
   "metadata": {},
   "source": [
    "The sparse row-wise format has minimal storage requirements and at the same time it has proved to be very convenient for several important operations such as addition, multiplication, transpostition, the solution of linear equations by either direct or iterative methods, etc. \n",
    "\n",
    "In this scheme, the values of the nonzero elements of the matrix are stored by rows, along with their corresponding column indices, in two arrays AN and JA. An array of pointers, IA, is also provided to indicate the beginning of each row. An extra entry in IA contains a pointer to the first empty position in AN and JA."
   ]
  },
  {
   "cell_type": "code",
   "execution_count": 33,
   "metadata": {
    "collapsed": false
   },
   "outputs": [
    {
     "name": "stdout",
     "output_type": "stream",
     "text": [
      "Row 0\n",
      "6 column 1\n",
      "Row 1\n",
      "9 column 0\n",
      "4 column 1\n",
      "7 column 3\n",
      "Row 2\n",
      "5 column 0\n",
      "Row 3\n",
      "2 column 1\n",
      "8 column 3\n"
     ]
    }
   ],
   "source": [
    "AN = [6,9,4,7,5,2,8] \n",
    "JA = [1,0,1,3,0,1,3] #Same as J from above, because we luckily picked the numbers in that order\n",
    "IA = [0,1,4,5,7] #Note this is the number of rows + 1\n",
    "\n",
    "for i in range(4):\n",
    "    print(\"Row\", i)\n",
    "    for j in range(IA[i],IA[i+1]):\n",
    "        print(AN[j],\"column\", JA[j])"
   ]
  },
  {
   "cell_type": "markdown",
   "metadata": {},
   "source": [
    "This representation is said to be complete because the entire matrix is represented, and ordered because the elements of each row are stored in the ascending order of their column indices. It is thus a <b>R</b>ow-wise <b>R</b>epresentation <b>C</b>omplete and <b>O</b>rdered, or <b>RR(C)O</b>.\n",
    "\n",
    "The arrays IA and JA represent the structure of the matrix, given as the set of the adjacency list of the <b>graph</b> associated with the matrix. If an algorithm is divided into a symbolic section and a numerical section, the arrays IA and JA are computed by the symbolic section, and the array AN by the numerical section."
   ]
  },
  {
   "cell_type": "markdown",
   "metadata": {},
   "source": [
    "Sparse matrix representations do not necessarily have to be ordered, in the sense that the elements of each row can be stored in any order while preserving the order of the rows. The matrix above can equally well be given in a <b>R</b>ow-wise <b>R</b>epresentation <b>C</b>omplete and <b>U</b>nordered, or <b>RR(C)U</b>."
   ]
  },
  {
   "cell_type": "code",
   "execution_count": 34,
   "metadata": {
    "collapsed": false
   },
   "outputs": [
    {
     "name": "stdout",
     "output_type": "stream",
     "text": [
      "Row 0\n",
      "6 column 1\n",
      "Row 1\n",
      "7 column 3\n",
      "9 column 0\n",
      "4 column 1\n",
      "Row 2\n",
      "5 column 0\n",
      "Row 3\n",
      "8 column 3\n",
      "2 column 1\n"
     ]
    }
   ],
   "source": [
    "AN = [6,7,9,4,5,8,2] \n",
    "JA = [1,3,0,1,0,3,1] \n",
    "IA = [0,1,4,5,7]\n",
    "\n",
    "for i in range(4):\n",
    "    print(\"Row\", i)\n",
    "    for j in range(IA[i],IA[i+1]):\n",
    "        print(AN[j],\"column\", JA[j])"
   ]
  },
  {
   "cell_type": "markdown",
   "metadata": {},
   "source": [
    "Unordered representations can be very convenient. The results of most matrix operations are obtained in unordered representations. Furthermore, most sparse matrix algorithms do not require the representation to be ordered.\n"
   ]
  },
  {
   "cell_type": "markdown",
   "metadata": {},
   "source": [
    "A data structure which is ready before initiation of numerical execution is termed a static structure. Preparing it requires knowledge of the number of nonzero elements and their positions in the matrix before they are actually calculated. A number of matrix algorithms allow prediction of the necessary information. Any such algorithm splits naturally into two parts: the symbolic section which does the data structure set-up, and the numerical section which performs the actual numerical calculations.\n",
    "\n",
    "Static schemes promote modularity, because the symbolic and numerical steps are executed separately and consequently can be independently optimized. Another important advantage arises in cases which require repeated use of the same algorithm but with different numerical values, for example iterative methods. In such cases the symbolic step may be performed once only and the same static structure used for the entire calculation."
   ]
  },
  {
   "cell_type": "markdown",
   "metadata": {},
   "source": [
    "###Merging sparse lists of integers\n",
    "\n",
    "The operation of merging lists of integers is very important in sparse matrix technology because it is commonly used to form the list of the column indices associated with each of the rows of a new matrix."
   ]
  },
  {
   "cell_type": "code",
   "execution_count": 53,
   "metadata": {
    "collapsed": false
   },
   "outputs": [
    {
     "data": {
      "text/plain": [
       "[7, 2, 3, 5, 11]"
      ]
     },
     "execution_count": 53,
     "metadata": {},
     "output_type": "execute_result"
    }
   ],
   "source": [
    "A = [2,7,3,5]\n",
    "B = [3,11,5]\n",
    "C = [7,2]\n",
    "\n",
    "def merge(a,b,N):\n",
    "    #I believe for this algorithm to work we need to know the maximum value, which here is 11\n",
    "    IX = [False for j in range(N+1)]\n",
    "    M = []\n",
    "    for i in a:\n",
    "        M.append(i)\n",
    "        IX[i] = True  \n",
    "    for i in b:\n",
    "        if not IX[i]:\n",
    "            M.append(i)\n",
    "            IX[i] = True       \n",
    "    return M\n",
    "\n",
    "merge(C, merge(A, B, 11), 11)"
   ]
  },
  {
   "cell_type": "markdown",
   "metadata": {},
   "source": [
    "###Addition of sparse vectors\n",
    "\n",
    "Consider two sparse vectors $a$ and $b$, of order N, stored in compact unordered format in the arrays JA, AN, and JB, BN.  We wish to calculate:\n",
    "\n",
    "$$C = a + b$$\n",
    "```\n",
    "JA = 10  3  7   4\n",
    "AN = .2 .3 .4 -.7\n",
    "\n",
    "JB =  5  4 10\n",
    "BN = .6 .7 .5\n",
    "```\n",
    "\n",
    "An efficient procedure is obtained when the algorithm is split into a symbolic section and a numerical section."
   ]
  },
  {
   "cell_type": "code",
   "execution_count": 54,
   "metadata": {
    "collapsed": false
   },
   "outputs": [
    {
     "data": {
      "text/plain": [
       "[10, 3, 7, 4, 5]"
      ]
     },
     "execution_count": 54,
     "metadata": {},
     "output_type": "execute_result"
    }
   ],
   "source": [
    "JA = [10, 3, 7, 4]\n",
    "AN = [.2, .3, .4, -.7]\n",
    "\n",
    "JB =  [5, 4, 10]\n",
    "BN = [.6, .7, .5]\n",
    "\n",
    "JC = merge(JA, JB, 15)\n",
    "JC"
   ]
  },
  {
   "cell_type": "code",
   "execution_count": 57,
   "metadata": {
    "collapsed": false
   },
   "outputs": [
    {
     "data": {
      "text/plain": [
       "[0.7, 0.3, 0.4, 0.0, 0.6]"
      ]
     },
     "execution_count": 57,
     "metadata": {},
     "output_type": "execute_result"
    }
   ],
   "source": [
    "X = [0 for i in range(15)]\n",
    "for i in range(len(JA)):\n",
    "    X[JA[i]] = AN[i]\n",
    "for i in range(len(JB)):\n",
    "    X[JB[i]] += BN[i]    \n",
    "CN = [0 for i in range(len(JC))]\n",
    "for i in range(len(JC)):\n",
    "    CN[i] = X[JC[i]]\n",
    "CN    "
   ]
  },
  {
   "cell_type": "markdown",
   "metadata": {},
   "source": [
    "The numerical example was chosen purposely to obtain $c_4 = 0$. Cancellation between real numbers is rare and is usually disregarded. This means that a few of the \"nonzeros\" of a sparse matrix may in fact be zeros, and the algorithms should be prepared to accept this circumstance. In some cases, however, cancellation may be frequent and in such cases it may be convenient to deal with the zeros.\n",
    "\n",
    "It also should be noted that the result is unordered. If the results should be ordered, it suffices to order JC alone before performing the numerical algorithm."
   ]
  },
  {
   "cell_type": "markdown",
   "metadata": {},
   "source": [
    "###Dot Product of two vectors"
   ]
  },
  {
   "cell_type": "code",
   "execution_count": 66,
   "metadata": {
    "collapsed": false
   },
   "outputs": [
    {
     "data": {
      "text/plain": [
       "-0.3899999999999999"
      ]
     },
     "execution_count": 66,
     "metadata": {},
     "output_type": "execute_result"
    }
   ],
   "source": [
    "N = 15\n",
    "IP = [None for i in range(N)]\n",
    "for i in range(len(JA)):\n",
    "    IP[JA[i]] = i\n",
    "h = 0.0\n",
    "for i in range(len(JB)):\n",
    "    if(IP[JB[i]] != None):\n",
    "        h += AN[IP[JB[i]]]*BN[i]\n",
    "h        "
   ]
  }
 ],
 "metadata": {
  "kernelspec": {
   "display_name": "Python 3",
   "language": "python",
   "name": "python3"
  },
  "language_info": {
   "codemirror_mode": {
    "name": "ipython",
    "version": 3
   },
   "file_extension": ".py",
   "mimetype": "text/x-python",
   "name": "python",
   "nbconvert_exporter": "python",
   "pygments_lexer": "ipython3",
   "version": "3.4.1"
  }
 },
 "nbformat": 4,
 "nbformat_minor": 0
}
