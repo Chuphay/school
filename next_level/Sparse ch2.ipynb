{
 "cells": [
  {
   "cell_type": "code",
   "execution_count": 1,
   "metadata": {
    "collapsed": false
   },
   "outputs": [
    {
     "name": "stdout",
     "output_type": "stream",
     "text": [
      "Populating the interactive namespace from numpy and matplotlib\n"
     ]
    }
   ],
   "source": [
    "%pylab inline\n",
    "import networkx as nx"
   ]
  },
  {
   "cell_type": "markdown",
   "metadata": {},
   "source": [
    "##I'm taking these notes from Pissanetsky's \"Sparse Matrix Technology\"\n",
    "\n",
    "###CH 2 Linear Algebra Equations"
   ]
  },
  {
   "cell_type": "markdown",
   "metadata": {},
   "source": [
    "In this and the following chapters we will discuss algorithms which find the solution $\\mathbf{x}$ of the system\n",
    "\n",
    "$$\\mathbf{Ax = b} ~~~~~~~~~~~~~~ \\text{(2.1)}$$\n",
    "\n",
    "where $\\mathbf{A}$ is a nonsingular n by n real sparse matrix and $\\mathbf{b}$ is a full vector.\n",
    "\n",
    "The algorithms may be grouped into two categories: direct methods and iterative methods."
   ]
  },
  {
   "cell_type": "markdown",
   "metadata": {},
   "source": [
    "The usual way for solving Equation (2.1) by a direct method is to compute the triangular factorization of $\\mathbf{A}$:\n",
    "\n",
    "$$\\mathbf{A = LU}$$\n",
    "\n",
    "where $\\mathbf{U}$ is an upper triangular matrix with a diagonal of ones and $\\mathbf{L}$ is lower triangular. Then $\\mathbf{A}^{-1} = \\mathbf{U}^{-1} \\mathbf{L}^{-1}$ and $\\mathbf{x} = \\mathbf{U}^{-1} \\mathbf{w}$ where $\\mathbf{w} = \\mathbf{L}^{-1} \\mathbf{b}$.\n",
    "\n",
    "Frequently a diagonal matrix $\\mathbf{D}$ is factored out from $\\mathbf{L}$ in such a way that $\\mathbf{L} = \\mathbf{L}'\\mathbf{D}$ where $\\mathbf{L}'$ is lower triangular with unit diagonal. Thus,\n",
    "\n",
    "$$\\mathbf{A = L'DU}$$\n",
    "\n",
    "If $\\mathbf{A}$ is symmetric, then $\\mathbf{L}' = \\mathbf{U}^T$."
   ]
  },
  {
   "cell_type": "code",
   "execution_count": null,
   "metadata": {
    "collapsed": true
   },
   "outputs": [],
   "source": []
  }
 ],
 "metadata": {
  "kernelspec": {
   "display_name": "Python 3",
   "language": "python",
   "name": "python3"
  },
  "language_info": {
   "codemirror_mode": {
    "name": "ipython",
    "version": 3
   },
   "file_extension": ".py",
   "mimetype": "text/x-python",
   "name": "python",
   "nbconvert_exporter": "python",
   "pygments_lexer": "ipython3",
   "version": "3.4.1"
  }
 },
 "nbformat": 4,
 "nbformat_minor": 0
}
