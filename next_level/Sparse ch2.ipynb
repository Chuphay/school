{
 "cells": [
  {
   "cell_type": "code",
   "execution_count": 1,
   "metadata": {
    "collapsed": false
   },
   "outputs": [
    {
     "name": "stdout",
     "output_type": "stream",
     "text": [
      "Populating the interactive namespace from numpy and matplotlib\n"
     ]
    }
   ],
   "source": [
    "%pylab inline\n",
    "import networkx as nx"
   ]
  },
  {
   "cell_type": "markdown",
   "metadata": {},
   "source": [
    "##I'm taking these notes from Pissanetsky's \"Sparse Matrix Technology\"\n",
    "\n",
    "###CH 7 Sparse Matrix Algebra\n",
    "\n",
    "Ok... clearly not the best book if I have to skip so many chapters to get to the elementary material...\n",
    "\n",
    "Let IA, JA, AN be some sparse representation of a matrix with N rows and M columns. We wish to obtain IAT, JAT, ANT, the sparse representation of the transposed matrix.\n",
    "\n",
    "We define M lists of integers, initially empty, each with a pointer to the first free place. Another M lists of real numbers are also defined. \n",
    "\n",
    "Next we run over all the nonzeros of the matrix. For each nonzero I, J, we add I to the J-th list of integers and the value of the nonzero to the J-th list of real numbers, and we increment the corresponding pointer.\n"
   ]
  },
  {
   "cell_type": "code",
   "execution_count": 2,
   "metadata": {
    "collapsed": false
   },
   "outputs": [
    {
     "data": {
      "text/plain": [
       "array([[ 0,  0,  1,  0,  2,  3],\n",
       "       [ 4,  0,  0,  5,  0,  0],\n",
       "       [ 0,  0,  6,  7,  0,  0],\n",
       "       [ 8,  0,  9, 10,  0,  0],\n",
       "       [ 0, 11,  0,  0, 12, 13]])"
      ]
     },
     "execution_count": 2,
     "metadata": {},
     "output_type": "execute_result"
    }
   ],
   "source": [
    "A = array([[0,0,1,0,2,3],[4,0,0,5,0,0],[0,0,6,7,0,0],[8,0,9,10,0,0],[0,11,0,0,12,13]])\n",
    "A"
   ]
  },
  {
   "cell_type": "code",
   "execution_count": 15,
   "metadata": {
    "collapsed": false
   },
   "outputs": [],
   "source": [
    "class sparse(object):\n",
    "    def __init__(self, rows, cols, IA, JA, AN):\n",
    "        self.rows = rows\n",
    "        self.cols = cols\n",
    "        self.IA = IA\n",
    "        self.JA = JA\n",
    "        self.AN = AN\n",
    "        \n",
    "def make_sparse(A):\n",
    "    rows, cols  = A.shape\n",
    "    IA = []\n",
    "    JA = []\n",
    "    AN = []\n",
    "    counter = 0\n",
    "    for i in range(rows):\n",
    "        IA.append(counter)\n",
    "        for j in range(cols):\n",
    "            if(A[i][j] != 0):\n",
    "                counter += 1\n",
    "                JA.append(j)\n",
    "                AN.append(A[i][j])\n",
    "    IA.append(counter)\n",
    "    out = sparse(rows, cols, IA, JA, AN)\n",
    "    return out\n",
    "        \n",
    "    \n",
    "A_s = make_sparse(A)"
   ]
  },
  {
   "cell_type": "code",
   "execution_count": 24,
   "metadata": {
    "collapsed": false
   },
   "outputs": [
    {
     "name": "stdout",
     "output_type": "stream",
     "text": [
      "[0, 2, 3, 6, 9, 11, 13]\n",
      "[1, 3, 4, 0, 2, 3, 1, 2, 3, 0, 4, 0, 4]\n",
      "[4, 8, 11, 1, 6, 9, 5, 7, 10, 2, 12, 3, 13]\n"
     ]
    }
   ],
   "source": [
    "def transpose(s_m):\n",
    "    n = s_m.rows\n",
    "    m = s_m.cols\n",
    "    temp_index = [[] for i in range(m)]\n",
    "    temp_values = [[] for i in range(m)]\n",
    "    for row in range(n):\n",
    "        for i in range(s_m.IA[row],s_m.IA[row+1]):\n",
    "            temp_index[s_m.JA[i]].append(row)\n",
    "            temp_values[s_m.JA[i]].append(s_m.AN[i])\n",
    "    counter = 0\n",
    "    IA = []\n",
    "    JA = []\n",
    "    AN = []\n",
    "    for i in range(m):\n",
    "        IA.append(counter)\n",
    "        for j in range(len(temp_values[i])):\n",
    "            AN.append(temp_values[i][j])\n",
    "            JA.append(temp_index[i][j])\n",
    "            counter += 1\n",
    "    IA.append(counter)\n",
    "    out = sparse(m, n, IA, JA, AN)\n",
    "    return out\n",
    "            \n",
    "            \n",
    "A_t = transpose(A_s) \n",
    "print(A_t.IA)\n",
    "print(A_t.JA)\n",
    "print(A_t.AN)"
   ]
  },
  {
   "cell_type": "code",
   "execution_count": 25,
   "metadata": {
    "collapsed": false
   },
   "outputs": [
    {
     "data": {
      "text/plain": [
       "array([[ 0,  4,  0,  8,  0],\n",
       "       [ 0,  0,  0,  0, 11],\n",
       "       [ 1,  0,  6,  9,  0],\n",
       "       [ 0,  5,  7, 10,  0],\n",
       "       [ 2,  0,  0,  0, 12],\n",
       "       [ 3,  0,  0,  0, 13]])"
      ]
     },
     "execution_count": 25,
     "metadata": {},
     "output_type": "execute_result"
    }
   ],
   "source": [
    "def make_dense(s_m):\n",
    "    n = s_m.rows\n",
    "    m = s_m.cols\n",
    "    out = array([[0 for i in range(m)] for i in range(n)])\n",
    "    for i in range(n):\n",
    "        for j in range(s_m.IA[i], s_m.IA[i+1]):\n",
    "            out[i][s_m.JA[j]] = s_m.AN[j]\n",
    "    return out\n",
    "make_dense(A_t)"
   ]
  },
  {
   "cell_type": "code",
   "execution_count": 27,
   "metadata": {
    "collapsed": false
   },
   "outputs": [
    {
     "data": {
      "text/plain": [
       "array([[ 0,  4,  0,  8,  0],\n",
       "       [ 0,  0,  0,  0, 11],\n",
       "       [ 1,  0,  6,  9,  0],\n",
       "       [ 0,  5,  7, 10,  0],\n",
       "       [ 2,  0,  0,  0, 12],\n",
       "       [ 3,  0,  0,  0, 13]])"
      ]
     },
     "execution_count": 27,
     "metadata": {},
     "output_type": "execute_result"
    }
   ],
   "source": [
    "A.T"
   ]
  },
  {
   "cell_type": "markdown",
   "metadata": {},
   "source": [
    "When the above algorithm is applied twice, an ordered representation of the given matrix is obtained. Ordered representations are required for some applications, such as Gauss elimination. We note that ordering a list of n numbers usually requires n(n-1)/2 comparisons. Here, instead, ordering can be achieved with only aN+bM+cZ elementary computations, where a, b and c are small numbers and Z is the total number of nonzeros. The asymptotic complexity of the sparse algorithm is, thus, linear."
   ]
  },
  {
   "cell_type": "code",
   "execution_count": 39,
   "metadata": {
    "collapsed": false
   },
   "outputs": [
    {
     "data": {
      "text/plain": [
       "array([[ 1,  0,  1,  0, -1,  5],\n",
       "       [ 4,  0,  3,  3,  5,  0],\n",
       "       [ 2,  6,  0,  2,  0, -1],\n",
       "       [ 0,  0,  1,  1,  0,  0]])"
      ]
     },
     "execution_count": 39,
     "metadata": {},
     "output_type": "execute_result"
    }
   ],
   "source": [
    "def add_sparse(a_s,b_s):\n",
    "    n = a_s.rows\n",
    "    m = a_s.cols\n",
    "    IX = [None for i in range(m)]\n",
    "    JC = [[] for i in range(n)]\n",
    "    for row in range(n):\n",
    "        for i in range(a_s.IA[row], a_s.IA[row+1]):\n",
    "            IX[a_s.JA[i]] = row\n",
    "            JC[row].append(a_s.JA[i])\n",
    "        for i in range(b_s.IA[row], b_s.IA[row+1]):\n",
    "            if(IX[b_s.JA[i]] != row):\n",
    "                IX[b_s.JA[i]] = row\n",
    "                JC[row].append(b_s.JA[i])\n",
    "    AN = []    \n",
    "    IA = []\n",
    "    JA = []\n",
    "    counter = 0\n",
    "    for row in range(n):\n",
    "        temp_x = [0 for i in range(m)] \n",
    "        IA.append(counter)\n",
    "        for i in range(a_s.IA[row], a_s.IA[row+1]):\n",
    "            temp_x[a_s.JA[i]] += a_s.AN[i] \n",
    "        for i in range(b_s.IA[row], b_s.IA[row+1]):\n",
    "            temp_x[b_s.JA[i]] += b_s.AN[i] \n",
    "        for i in JC[row]:\n",
    "            counter += 1\n",
    "            AN.append(temp_x[i])\n",
    "            JA.append(i)\n",
    "    IA.append(counter)\n",
    "    out = sparse(n, m, IA, JA, AN)\n",
    "    return out\n",
    "            \n",
    "a = make_sparse(array([[0,0,2,0,-1,0],[4,0,3,3,7,0],[-2,0,0,0,0,-1],[0,1,0,1,0,0]]))\n",
    "b = make_sparse(array([[1,0,-1,0,0,5],[0,0,0,0,-2,0],[4,6,0,2,0,0],[0,-1,1,0,0,0]]))\n",
    "make_dense(add_sparse(a,b))"
   ]
  },
  {
   "cell_type": "code",
   "execution_count": 46,
   "metadata": {
    "collapsed": false
   },
   "outputs": [
    {
     "data": {
      "text/plain": [
       "[28, -10, 24, 1]"
      ]
     },
     "execution_count": 46,
     "metadata": {},
     "output_type": "execute_result"
    }
   ],
   "source": [
    "def multiply_matrix_vector(s_m, v):\n",
    "    n = s_m.rows\n",
    "    m = s_m.cols\n",
    "    assert (len(v) == m), \"wrong lengths!\"\n",
    "    out = [0 for i in range(n)]\n",
    "    for row in range(n):\n",
    "        for i in range(s_m.IA[row],s_m.IA[row+1]):\n",
    "            out[row] += v[s_m.JA[i]]*s_m.AN[i]\n",
    "    return out\n",
    "\n",
    "multiply_matrix_vector(b,[1,2,3,4,5,6])"
   ]
  },
  {
   "cell_type": "code",
   "execution_count": 47,
   "metadata": {
    "collapsed": false
   },
   "outputs": [
    {
     "data": {
      "text/plain": [
       "array([ 28, -10,  24,   1])"
      ]
     },
     "execution_count": 47,
     "metadata": {},
     "output_type": "execute_result"
    }
   ],
   "source": [
    "dot(array([[1,0,-1,0,0,5],[0,0,0,0,-2,0],[4,6,0,2,0,0],[0,-1,1,0,0,0]]), array([1,2,3,4,5,6]))"
   ]
  },
  {
   "cell_type": "code",
   "execution_count": 50,
   "metadata": {
    "collapsed": false
   },
   "outputs": [
    {
     "data": {
      "text/plain": [
       "[13, 14, 3, 6, -4, 5]"
      ]
     },
     "execution_count": 50,
     "metadata": {},
     "output_type": "execute_result"
    }
   ],
   "source": [
    "def multiply_vector_matrix(v, s_m):\n",
    "    n = s_m.rows\n",
    "    m = s_m.cols\n",
    "    assert (len(v) == n), \"wrong lengths!\"\n",
    "    out = [0 for i in range(m)]\n",
    "    for row in range(n):\n",
    "        for i in range(s_m.IA[row],s_m.IA[row+1]):\n",
    "            out[s_m.JA[i]] += v[row]*s_m.AN[i]\n",
    "    return out \n",
    "multiply_vector_matrix([1,2,3,4],b)"
   ]
  },
  {
   "cell_type": "code",
   "execution_count": 53,
   "metadata": {
    "collapsed": false
   },
   "outputs": [
    {
     "data": {
      "text/plain": [
       "array([13, 14,  3,  6, -4,  5])"
      ]
     },
     "execution_count": 53,
     "metadata": {},
     "output_type": "execute_result"
    }
   ],
   "source": [
    "dot(array([1,2,3,4]), array([[1,0,-1,0,0,5],[0,0,0,0,-2,0],[4,6,0,2,0,0],[0,-1,1,0,0,0]]))"
   ]
  },
  {
   "cell_type": "code",
   "execution_count": 71,
   "metadata": {
    "collapsed": false
   },
   "outputs": [
    {
     "data": {
      "text/plain": [
       "array([[ -2,   2,   0,   2],\n",
       "       [  1, -14,  22,   3],\n",
       "       [ -7,   0,  -8,   0],\n",
       "       [  0,   0,   8,  -1]])"
      ]
     },
     "execution_count": 71,
     "metadata": {},
     "output_type": "execute_result"
    }
   ],
   "source": [
    "def multiply_matrix_matrix(a_s, b_s):\n",
    "    a_n = a_s.rows\n",
    "    a_m = a_s.cols\n",
    "    b_n = b_s.rows\n",
    "    b_m = b_s.cols\n",
    "    assert (a_m == b_n), \"Wrong sizes\"\n",
    "    \n",
    "    IX = [None for i in range(b_m)]\n",
    "    AN = []\n",
    "    IA = []\n",
    "    JA = []\n",
    "    counter = 0\n",
    "    for row in range(a_n):\n",
    "        IA.append(counter)\n",
    "        temp_x = [0 for i in range(b_m)]\n",
    "        I = []\n",
    "        for i in range(a_s.IA[row],a_s.IA[row+1]):\n",
    "            J = a_s.JA[i]\n",
    "            for j in range(b_s.IA[J],b_s.IA[J+1]):\n",
    "                temp_x[b_s.JA[j]] += a_s.AN[i]*b_s.AN[j]\n",
    "                if(IX[b_s.JA[j]] != row):\n",
    "                    IX[b_s.JA[j]] = row\n",
    "                    I.append(b_s.JA[j])\n",
    "        for i in I:\n",
    "            counter += 1\n",
    "            JA.append(i)\n",
    "            AN.append(temp_x[i])\n",
    "    IA.append(counter)\n",
    "    return sparse(a_n, b_m, IA, JA, AN)\n",
    "    \n",
    "make_dense(multiply_matrix_matrix(a,transpose(b)))"
   ]
  },
  {
   "cell_type": "code",
   "execution_count": 62,
   "metadata": {
    "collapsed": false
   },
   "outputs": [
    {
     "data": {
      "text/plain": [
       "array([[ -2,   2,   0,   2],\n",
       "       [  1, -14,  22,   3],\n",
       "       [ -7,   0,  -8,   0],\n",
       "       [  0,   0,   8,  -1]])"
      ]
     },
     "execution_count": 62,
     "metadata": {},
     "output_type": "execute_result"
    }
   ],
   "source": [
    "dot(make_dense(a),make_dense(b).T)"
   ]
  },
  {
   "cell_type": "code",
   "execution_count": null,
   "metadata": {
    "collapsed": true
   },
   "outputs": [],
   "source": []
  }
 ],
 "metadata": {
  "kernelspec": {
   "display_name": "Python 3",
   "language": "python",
   "name": "python3"
  },
  "language_info": {
   "codemirror_mode": {
    "name": "ipython",
    "version": 3
   },
   "file_extension": ".py",
   "mimetype": "text/x-python",
   "name": "python",
   "nbconvert_exporter": "python",
   "pygments_lexer": "ipython3",
   "version": "3.4.1"
  }
 },
 "nbformat": 4,
 "nbformat_minor": 0
}
