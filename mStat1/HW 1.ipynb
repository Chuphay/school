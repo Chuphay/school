{
 "cells": [
  {
   "cell_type": "markdown",
   "metadata": {},
   "source": [
    "##Homework #1"
   ]
  },
  {
   "cell_type": "markdown",
   "metadata": {},
   "source": [
    "<b>3.)</b> Which of the following is a random variable?\n",
    "\n",
    "a. The population mean\n",
    "\n",
    "b. The population size, N\n",
    "\n",
    "c. The sample size, n\n",
    "\n",
    "d. The sample mean\n",
    "\n",
    "e. The variance of the sample mean\n",
    "\n",
    "f. The largest value in the sample\n",
    "\n",
    "g. The population variance\n",
    "\n",
    "h. The estimated variance of the sample mean\n",
    "\n",
    "<h3>d, e, f, h</h3>"
   ]
  },
  {
   "cell_type": "markdown",
   "metadata": {},
   "source": [
    "<b>5.)</b> How would you respond to a friend who asks you, “How can we say that the\n",
    "sample mean is a random variable when it is just a number, like the population\n",
    "mean? For example, in Example A of Section 7.3.2, a simple random sample of size 50 produced x  ̄ = 938.5; how can the number 938.5 be a random\n",
    "variable?”\n",
    "\n",
    "<h3>I would say that the sample mean is a random variable because everytime we take a different sample we are likely to get a different random answer</h3>"
   ]
  },
  {
   "cell_type": "markdown",
   "metadata": {},
   "source": [
    "<b>7.)</b> Suppose that a simple random sample is used to estimate the proportion of families\n",
    "in a certain area that are living below the poverty level. If this proportion is roughly\n",
    ".15, what sample size is necessary so that the standard error of the estimate is .02?\n",
    "\n",
    "<h3>The standar error is defined as\n",
    "\n",
    "$$\\sigma_{\\bar X} = \\frac {\\sigma}{\\sqrt n}$$\n",
    "\n",
    "We are given that $p = 0.15$ and therefore $\\sigma^2 = p(1-p) = 0.1275$. Now we simply solve for n:\n",
    "\n",
    "$$n = \\lceil \\frac {0.1275}{0.02 ^ 2}\\rceil = \\lceil 318.75 \\rceil = 319$$\n"
   ]
  },
  {
   "cell_type": "markdown",
   "metadata": {},
   "source": [
    "16.) True or false?\n",
    "a. The center of a 95% confidence interval for the population mean is a random\n",
    "variable.\n",
    "b. A 95% confidence interval for μ contains the sample mean with probability\n",
    ".95.\n",
    "c. A 95% confidence interval contains 95% of the population.\n",
    "d. Out of one hundred 95% confidence intervals for μ, 95 will contain μ."
   ]
  },
  {
   "cell_type": "markdown",
   "metadata": {},
   "source": [
    "17.) A 90% confidence interval for the average number of children per household\n",
    "based on a simple random sample is found to be (.7, 2.1). Can we conclude that\n",
    "90% of households have between .7 and 2.1 children?"
   ]
  },
  {
   "cell_type": "markdown",
   "metadata": {},
   "source": [
    "21.) In order to halve the width of a 95% confidence interval for a mean, by what factor\n",
    "should the sample size be increased? Ignore the finite population correction."
   ]
  },
  {
   "cell_type": "markdown",
   "metadata": {},
   "source": [
    "22.) An investigator quantifies her uncertainty about the estimate of a population mean\n",
    "by reporting X ± s X . What size confidence interval is this?"
   ]
  },
  {
   "cell_type": "markdown",
   "metadata": {},
   "source": [
    "24.) For a random sample of size n from a population of size N , consider the following\n",
    "as an estimate of μ:\n",
    "\n",
    "$$X_c = \\sum_{i=1}^n c_i X_i $$\n",
    "\n",
    "\n",
    "where the $c_i$ are fixed numbers and $X_1$ , . . . , $X_n$ is the sample.\n",
    "a. Find a condition on the $c_i$ such that the estimate is unbiased.\n",
    "b. Show that the choice of $c_i$ that minimizes the variances of the estimate subject\n",
    "to this condition is $c_i$ = 1/n, where i = 1, . . . , n."
   ]
  },
  {
   "cell_type": "markdown",
   "metadata": {},
   "source": [
    "35.) A simple random sample of a population of size 2000 yields the following\n",
    "\n",
    "25 values:\n",
    "\n",
    "104\n",
    "86\n",
    "91\n",
    "104\n",
    "79\n",
    "\n",
    "109\n",
    "80\n",
    "103\n",
    "98\n",
    "87\n",
    "\n",
    "111\n",
    "119\n",
    "99\n",
    "98\n",
    "94\n",
    "\n",
    "109\n",
    "88\n",
    "108\n",
    "83\n",
    "92\n",
    "\n",
    "87\n",
    "122\n",
    "96\n",
    "107\n",
    "97\n",
    "\n",
    "\n",
    "a. Calculate an unbiased estimate of the population mean.\n",
    "b. Calculate unbiased estimates of the population variance and Var(X ).\n",
    "c. Give approximate 95% confidence intervals for the population mean and total."
   ]
  },
  {
   "cell_type": "markdown",
   "metadata": {},
   "source": [
    "58.) (Computer Exercise) Construct a population consisting of the integers from 1 to\n",
    "100. Simulate the sampling distribution of the sample mean of a sample of size\n",
    "12 by drawing 100 samples of size 12 and making a histogram of the results."
   ]
  },
  {
   "cell_type": "markdown",
   "metadata": {},
   "source": [
    "65 or 67\n",
    "\n",
    "67.) The data set families contains information about 43,886 families living in\n",
    "the city of Cyberville. The city has four regions: the Northern region has 10,149\n",
    "families, the Eastern region has 10,390 families, the Southern region has 13,457\n",
    "families, and the Western region has 9,890. For each family, the following infor-\n",
    "mation is recorded:\n",
    "1. Family type\n",
    "1: Husband-wife family\n",
    "2: Male-head family\n",
    "3: Female-head family\n",
    "2. Number of persons in family\n",
    "3. Number of children in family\n",
    "4. Family income\n",
    "5. Region\n",
    "1: North\n",
    "2: East\n",
    "3: South\n",
    "4: West\n",
    "6. Education level of head of household\n",
    "31: Less than 1st grade\n",
    "32: 1st, 2nd, 3rd, or 4th grade\n",
    "33: 5th or 6th grade\n",
    "34: 7th or 8th grade\n",
    "35: 9th grade\n",
    "36: 10th grade\n",
    "37: 11th grade7.7 Problems\n",
    "253\n",
    "38: 12th grade, no diploma\n",
    "39: High school graduate, high school diploma, or equivalent\n",
    "40: Some college but no degree\n",
    "41: Associate degree in college (occupation/vocation program)\n",
    "42: Associate degree in college (academic program)\n",
    "43: Bachelor’s degree (e.g., B.S., B.A., A.B.)\n",
    "44: Master’s degree (e.g., M.S., M.A., M.B.A.)\n",
    "45: Professional school degree (e.g., M.D., D.D.S., D.V.M., LL.B., J.D.)\n",
    "46: Doctoral degree (e.g., Ph.D., Ed.D.)\n",
    "In these exercises, you will try to learn about the families of Cyberville by using\n",
    "sampling.\n",
    "a. Take a simple random sample of 500 families. Estimate the following popula-\n",
    "tion parameters, calculate the estimated standard errors of these estimates, and\n",
    "form 95% confidence intervals:\n",
    "i. The proportion of female-headed families\n",
    "ii. The average number of children per family\n",
    "iii. The proportion of heads of households who did not receive a high school\n",
    "diploma\n",
    "iv. The average family income\n",
    "Repeat the preceding parameters for five different simple random samples of\n",
    "size 500 and compare the results.\n",
    "b. Take 100 samples of size 400.\n",
    "i. For each sample, find the average family income.\n",
    "ii. Find the average and standard deviation of these 100 estimates and make\n",
    "a histogram of the estimates.\n",
    "iii. Superimpose a plot of a normal density with that mean and standard devi-\n",
    "ation of the histogram and comment on how well it appears to fit.\n",
    "iv. Plot the empirical cumulative distribution function (see Section 10.2). On\n",
    "this plot, superimpose the normal cumulative distribution function with\n",
    "mean and standard deviation as earlier. Comment on the fit.\n",
    "v. Another method for examining a normal approximation is via a normal\n",
    "probability plot (Section 9.9). Make such a plot and comment on what it\n",
    "shows about the approximation.\n",
    "vi. For each of the 100 samples, find a 95% confidence interval for the pop-\n",
    "ulation average income. How many of those intervals actually contain the\n",
    "population target?\n",
    "vii. Take 100 samples of size 100. Compare the averages, standard deviations,\n",
    "and histograms to those obtained for a sample of size 400 and explain how\n",
    "the theory of simple random sampling relates to the comparisons.\n",
    "c. For a simple random sample of 500, compare the incomes of the three family\n",
    "types by comparing histograms and boxplots (see Chapter 10.6).\n",
    "d. Take simple random samples of size 400 from each of the four regions.\n",
    "i. Compare the incomes by region by making parallel boxplots.\n",
    "ii. Does it appear that some regions have larger families than others?\n",
    "iii. Are there differences in education level among the four regions?254\n",
    "Chapter 7 Survey Sampling\n",
    "e. Formulate a question of your choice and attempt to answer it with a simple\n",
    "random sample of size 400.\n",
    "f. Does stratification help in estimating the average family income? From a simple\n",
    "random sample of size 400, estimate the average income and also the standard\n",
    "error of your estimate. Form a 95% confidence interval. Next, allocate the 400\n",
    "observations proportionally to the four regions and estimate the average income\n",
    "from the stratified sample. Estimate the standard error and form a 95% confi-\n",
    "dence interval. Compare your results to the results of the simple random sample."
   ]
  },
  {
   "cell_type": "code",
   "execution_count": null,
   "metadata": {
    "collapsed": true
   },
   "outputs": [],
   "source": []
  }
 ],
 "metadata": {
  "kernelspec": {
   "display_name": "Python 3",
   "language": "python",
   "name": "python3"
  },
  "language_info": {
   "codemirror_mode": {
    "name": "ipython",
    "version": 3
   },
   "file_extension": ".py",
   "mimetype": "text/x-python",
   "name": "python",
   "nbconvert_exporter": "python",
   "pygments_lexer": "ipython3",
   "version": "3.4.1"
  }
 },
 "nbformat": 4,
 "nbformat_minor": 0
}
