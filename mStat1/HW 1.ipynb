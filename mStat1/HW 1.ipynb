{
 "cells": [
  {
   "cell_type": "code",
   "execution_count": 1,
   "metadata": {
    "collapsed": false
   },
   "outputs": [
    {
     "name": "stdout",
     "output_type": "stream",
     "text": [
      "Populating the interactive namespace from numpy and matplotlib\n"
     ]
    }
   ],
   "source": [
    "%pylab inline"
   ]
  },
  {
   "cell_type": "markdown",
   "metadata": {},
   "source": [
    "##Homework #1"
   ]
  },
  {
   "cell_type": "markdown",
   "metadata": {},
   "source": [
    "<b>3.)</b> Which of the following is a random variable?\n",
    "\n",
    "a. The population mean\n",
    "\n",
    "b. The population size, N\n",
    "\n",
    "c. The sample size, n\n",
    "\n",
    "d. The sample mean\n",
    "\n",
    "e. The variance of the sample mean\n",
    "\n",
    "f. The largest value in the sample\n",
    "\n",
    "g. The population variance\n",
    "\n",
    "h. The estimated variance of the sample mean\n",
    "\n",
    "<h3>d, e, f, h</h3>"
   ]
  },
  {
   "cell_type": "markdown",
   "metadata": {},
   "source": [
    "<b>5.)</b> How would you respond to a friend who asks you, “How can we say that the\n",
    "sample mean is a random variable when it is just a number, like the population\n",
    "mean? For example, in Example A of Section 7.3.2, a simple random sample of size 50 produced x  ̄ = 938.5; how can the number 938.5 be a random\n",
    "variable?”\n",
    "\n",
    "<h3>I would say that the sample mean is a random variable because everytime we take a different sample we are likely to get a different random answer</h3>"
   ]
  },
  {
   "cell_type": "markdown",
   "metadata": {},
   "source": [
    "<b>7.)</b> Suppose that a simple random sample is used to estimate the proportion of families\n",
    "in a certain area that are living below the poverty level. If this proportion is roughly\n",
    ".15, what sample size is necessary so that the standard error of the estimate is .02?\n",
    "\n",
    "<h3>The standar error is defined as\n",
    "\n",
    "$$\\sigma_{\\bar X} = \\frac {\\sigma}{\\sqrt n}$$\n",
    "\n",
    "We are given that $p = 0.15$ and therefore $\\sigma^2 = p(1-p) = 0.1275$. Now we simply solve for n:\n",
    "\n",
    "$$n = \\lceil \\frac {0.1275}{0.02 ^ 2}\\rceil = \\lceil 318.75 \\rceil = 319$$\n",
    "\n"
   ]
  },
  {
   "cell_type": "markdown",
   "metadata": {},
   "source": [
    "<b>16.)</b> True or false?\n",
    "\n",
    "a. The center of a 95% confidence interval for the population mean is a random\n",
    "variable.\n",
    "\n",
    "<b>True</b>\n",
    "\n",
    "b. A 95% confidence interval for μ contains the sample mean with probability\n",
    ".95.\n",
    "\n",
    "<b>False</b>\n",
    "\n",
    "c. A 95% confidence interval contains 95% of the population.\n",
    "\n",
    "<b>False</b>\n",
    "\n",
    "d. Out of one hundred 95% confidence intervals for μ, 95 will contain μ.\n",
    "\n",
    "<b>True, at least on average</b>"
   ]
  },
  {
   "cell_type": "markdown",
   "metadata": {},
   "source": [
    "<b>17.)</b> A 90% confidence interval for the average number of children per household\n",
    "based on a simple random sample is found to be (.7, 2.1). Can we conclude that\n",
    "90% of households have between .7 and 2.1 children?\n",
    "\n",
    "<b>No. We can say that with 90% confidence the average number of children per household is between that range, but this has nothing to do with the conclusions reached.</b> \n",
    "\n",
    "<b>We can show this with a simple script:</b>"
   ]
  },
  {
   "cell_type": "code",
   "execution_count": 2,
   "metadata": {
    "collapsed": false
   },
   "outputs": [
    {
     "name": "stdout",
     "output_type": "stream",
     "text": [
      "0.345485838586 1.41451416141\n"
     ]
    }
   ],
   "source": [
    "N = 100\n",
    "x = array([0 if i%9 == 0 else 1 for i in range(N)])\n",
    "mu = mean(x)\n",
    "sd = std(x)\n",
    "from scipy.stats import norm\n",
    "print(mu - norm.ppf(0.95)*sd, mu + norm.ppf(0.95)*sd)"
   ]
  },
  {
   "cell_type": "markdown",
   "metadata": {},
   "source": [
    "<b>Where we know that in fact more than 10% of the population has a value of zero. Therefore the conclusions reached above must be invalid</b>"
   ]
  },
  {
   "cell_type": "markdown",
   "metadata": {},
   "source": [
    "<b>21.)</b> In order to halve the width of a 95% confidence interval for a mean, by what factor\n",
    "should the sample size be increased? Ignore the finite population correction.\n",
    "\n",
    "<b> We must quadruple the sample size </b>"
   ]
  },
  {
   "cell_type": "markdown",
   "metadata": {},
   "source": [
    "<b>22.)</b> An investigator quantifies her uncertainty about the estimate of a population mean\n",
    "by reporting $\\bar{X} ± s_{\\bar{ X}}$ . What size confidence interval is this?"
   ]
  },
  {
   "cell_type": "code",
   "execution_count": 3,
   "metadata": {
    "collapsed": false
   },
   "outputs": [
    {
     "name": "stdout",
     "output_type": "stream",
     "text": [
      "0.975002104852 0.950004209704\n",
      "0.841344746069 0.682689492137\n"
     ]
    }
   ],
   "source": [
    "a = norm.cdf(1.96)\n",
    "print(a, 1 -(1 -a)*2)\n",
    "a = norm.cdf(1)\n",
    "print(a,  1 -(1 -a)*2)"
   ]
  },
  {
   "cell_type": "markdown",
   "metadata": {},
   "source": [
    "<b>Looks like a 68% confidence interval</b>"
   ]
  },
  {
   "cell_type": "markdown",
   "metadata": {},
   "source": [
    "<b>24.)</b> For a random sample of size n from a population of size N , consider the following\n",
    "as an estimate of μ:\n",
    "\n",
    "$$\\bar{X_c} = \\sum_{i=1}^n c_i X_i $$\n",
    "\n",
    "\n",
    "where the $c_i$ are fixed numbers and $X_1$ , . . . , $X_n$ is the sample.\n",
    "\n",
    "a. Find a condition on the $c_i$ such that the estimate is unbiased.\n",
    "\n",
    "$$\\mathbb{E}[\\bar{X_c}] = \\sum_{i=1}^n c_i \\mathbb{E}[X_i] = \\mu \\sum_{i=1}^n c_i  $$\n",
    "\n",
    "<b>Therefore, $\\sum_{i=1}^n c_i = 1$ </b>\n",
    "\n",
    "b. Show that the choice of $c_i$ that minimizes the variances of the estimate subject\n",
    "to this condition is $c_i$ = 1/n, where i = 1, . . . , n.\n",
    "\n",
    "$$Var(\\bar{X_c}) = Var (\\sum_{i=1}^n c_i X_i) = \\sum_{i=1}^n Var(c_i X_i)$$\n",
    "\n",
    "$$= \\sum_{i=1}^n c_i^2 Var(X_i)=  \\sigma^2 \\sum_{i=1}^n c_i^2 $$\n",
    "\n",
    "<b>With the condition $c_i$ = 1/n, $Var(\\bar{X_c}) = \\sigma^2/n$. It is easy to verify (but I found difficult to prove) that any other choice will lead to a larger variance</b>\n",
    "\n",
    "\n"
   ]
  },
  {
   "cell_type": "markdown",
   "metadata": {},
   "source": [
    "<b>35.)</b> A simple random sample of a population of size 2000 yields the following\n",
    "\n",
    "25 values:\n",
    "\n",
    "104\n",
    "86\n",
    "91\n",
    "104\n",
    "79\n",
    "\n",
    "109\n",
    "80\n",
    "103\n",
    "98\n",
    "87\n",
    "\n",
    "111\n",
    "119\n",
    "99\n",
    "98\n",
    "94\n",
    "\n",
    "109\n",
    "88\n",
    "108\n",
    "83\n",
    "92\n",
    "\n",
    "87\n",
    "122\n",
    "96\n",
    "107\n",
    "97\n",
    "\n",
    "\n",
    "a. Calculate an unbiased estimate of the population mean."
   ]
  },
  {
   "cell_type": "code",
   "execution_count": 22,
   "metadata": {
    "collapsed": false
   },
   "outputs": [
    {
     "data": {
      "text/plain": [
       "98.040000000000006"
      ]
     },
     "execution_count": 22,
     "metadata": {},
     "output_type": "execute_result"
    }
   ],
   "source": [
    "x = \"\"\"104 86 91 104 79\n",
    "109 80 103 98 87\n",
    "111 119 99 98 94\n",
    "109 88 108 83 92\n",
    "87 122 96 107 97\"\"\"\n",
    "x = [int(i) for i in x.split()]\n",
    "mean(x)"
   ]
  },
  {
   "cell_type": "markdown",
   "metadata": {},
   "source": [
    "b. Calculate unbiased estimates of the population variance and Var($\\bar{X}$ )."
   ]
  },
  {
   "cell_type": "code",
   "execution_count": 5,
   "metadata": {
    "collapsed": false
   },
   "outputs": [
    {
     "data": {
      "text/plain": [
       "133.70666666666668"
      ]
     },
     "execution_count": 5,
     "metadata": {},
     "output_type": "execute_result"
    }
   ],
   "source": [
    "s2 = sum((x-mean(x))**2)/(24)\n",
    "s2"
   ]
  },
  {
   "cell_type": "code",
   "execution_count": 6,
   "metadata": {
    "collapsed": false
   },
   "outputs": [
    {
     "data": {
      "text/plain": [
       "5.281413333333334"
      ]
     },
     "execution_count": 6,
     "metadata": {},
     "output_type": "execute_result"
    }
   ],
   "source": [
    "varX = (s2/25)*(1 - 25/2000)\n",
    "varX"
   ]
  },
  {
   "cell_type": "markdown",
   "metadata": {},
   "source": [
    "c. Give approximate 95% confidence intervals for the population mean and total."
   ]
  },
  {
   "cell_type": "code",
   "execution_count": 24,
   "metadata": {
    "collapsed": false
   },
   "outputs": [
    {
     "name": "stdout",
     "output_type": "stream",
     "text": [
      "93.5356601525 102.544339847\n",
      "187071.320305 205088.679695\n"
     ]
    }
   ],
   "source": [
    "print(mean(x) - 1.96*sqrt(varX), mean(x) + 1.96*sqrt(varX))\n",
    "print(2000*(mean(x) - 1.96*sqrt(varX)), 2000*(mean(x) + 1.96*sqrt(varX)))"
   ]
  },
  {
   "cell_type": "markdown",
   "metadata": {},
   "source": [
    "<b>58.)</b> (Computer Exercise) Construct a population consisting of the integers from 1 to 100. Simulate the sampling distribution of the sample mean of a sample of size\n",
    "12 by drawing 100 samples of size 12 and making a histogram of the results."
   ]
  },
  {
   "cell_type": "code",
   "execution_count": 8,
   "metadata": {
    "collapsed": false
   },
   "outputs": [
    {
     "data": {
      "image/png": "[encoded data removed]",
      "text/plain": [
       "<matplotlib.figure.Figure at 0xadc85e2c>"
      ]
     },
     "metadata": {},
     "output_type": "display_data"
    }
   ],
   "source": [
    "pop = [i+1 for i in range(100)]\n",
    "means = []\n",
    "for i in range(100):\n",
    "    means.append(mean(np.random.choice(pop, 12, replace= False)))\n",
    "hist(means);"
   ]
  },
  {
   "cell_type": "markdown",
   "metadata": {},
   "source": [
    "<b>67.)</b> \n",
    "\n",
    "In these exercises, you will try to learn about the families of Cyberville by using\n",
    "sampling.\n",
    "\n",
    "a. Take a simple random sample of 500 families. Estimate the following population parameters, calculate the estimated standard errors of these estimates, and\n",
    "form 95% confidence intervals:"
   ]
  },
  {
   "cell_type": "code",
   "execution_count": 9,
   "metadata": {
    "collapsed": true
   },
   "outputs": [],
   "source": [
    "import pandas as pd"
   ]
  },
  {
   "cell_type": "code",
   "execution_count": 10,
   "metadata": {
    "collapsed": false
   },
   "outputs": [],
   "source": [
    "df = pd.read_csv(\"Chapter 7/families.txt\")\n",
    "df.columns = [\"TYPE\", \"PERSONS\", \"CHILDREN\",\"INCOME\",\"REGION\",\"EDUCATION\"]"
   ]
  },
  {
   "cell_type": "code",
   "execution_count": 11,
   "metadata": {
    "collapsed": false
   },
   "outputs": [],
   "source": [
    "samples = np.random.choice(len(df), 500, replace= False)\n",
    "sample = df.ix[samples]"
   ]
  },
  {
   "cell_type": "markdown",
   "metadata": {},
   "source": [
    "i. The proportion of female-headed families"
   ]
  },
  {
   "cell_type": "code",
   "execution_count": 12,
   "metadata": {
    "collapsed": false
   },
   "outputs": [
    {
     "name": "stdout",
     "output_type": "stream",
     "text": [
      "mean 0.186\n",
      "estimated standard error 0.0174013792557\n",
      "confidence interval: 0.168598620744 0.203401379256\n"
     ]
    }
   ],
   "source": [
    "female_head = sample[\"TYPE\"] == 3\n",
    "print(\"mean\", mean(female_head))\n",
    "print(\"estimated standard error\", std(female_head)/sqrt(500))\n",
    "print(\"confidence interval:\", mean(female_head) - std(female_head)/sqrt(500),\\\n",
    "      mean(female_head) + std(female_head)/sqrt(500) )"
   ]
  },
  {
   "cell_type": "markdown",
   "metadata": {},
   "source": [
    "ii. The average number of children per family"
   ]
  },
  {
   "cell_type": "code",
   "execution_count": 64,
   "metadata": {
    "collapsed": false
   },
   "outputs": [
    {
     "name": "stdout",
     "output_type": "stream",
     "text": [
      "mean 0.95\n",
      "estimated standard error 0.0541756402823\n",
      "confidence interval: 0.895824359718 1.00417564028\n"
     ]
    }
   ],
   "source": [
    "avg_children = sample[\"CHILDREN\"]\n",
    "print(\"mean\", mean(avg_children))\n",
    "print(\"estimated standard error\", std(avg_children)/sqrt(500))\n",
    "print(\"confidence interval:\", mean(avg_children) - std(avg_children)/sqrt(500),\\\n",
    "      mean(avg_children) + std(avg_children)/sqrt(500))"
   ]
  },
  {
   "cell_type": "markdown",
   "metadata": {},
   "source": [
    "iii. The proportion of heads of households who did not receive a high school\n",
    "diploma"
   ]
  },
  {
   "cell_type": "code",
   "execution_count": 14,
   "metadata": {
    "collapsed": false
   },
   "outputs": [
    {
     "name": "stdout",
     "output_type": "stream",
     "text": [
      "mean 0.238\n",
      "estimated standard error 0.0190449993437\n",
      "confidence interval: 0.218955000656 0.257044999344\n"
     ]
    }
   ],
   "source": [
    "no_dip = sample[\"EDUCATION\"]<39\n",
    "print(\"mean\", mean(no_dip))\n",
    "print(\"estimated standard error\", std(no_dip)/sqrt(500))\n",
    "print(\"confidence interval:\", mean(no_dip) - std(no_dip)/sqrt(500),\\\n",
    "      mean(no_dip) + std(no_dip)/sqrt(500) )"
   ]
  },
  {
   "cell_type": "markdown",
   "metadata": {},
   "source": [
    "iv. The average family income"
   ]
  },
  {
   "cell_type": "code",
   "execution_count": 15,
   "metadata": {
    "collapsed": false
   },
   "outputs": [
    {
     "name": "stdout",
     "output_type": "stream",
     "text": [
      "mean 43805.466\n",
      "estimated standard error 1602.07608395\n",
      "confidence interval: 42203.3899161 45407.5420839\n"
     ]
    }
   ],
   "source": [
    "income = sample[\"INCOME\"]\n",
    "print(\"mean\", mean(income))\n",
    "print(\"estimated standard error\", std(income)/sqrt(500))\n",
    "print(\"confidence interval:\", mean(income) - std(income)/sqrt(500),\\\n",
    "      mean(income) + std(income)/sqrt(500) )"
   ]
  },
  {
   "cell_type": "markdown",
   "metadata": {},
   "source": [
    "Repeat the preceding parameters for five different simple random samples of\n",
    "size 500 and compare the results."
   ]
  },
  {
   "cell_type": "code",
   "execution_count": 16,
   "metadata": {
    "collapsed": false
   },
   "outputs": [
    {
     "name": "stdout",
     "output_type": "stream",
     "text": [
      "Sample 1\n",
      "Female head\n",
      "mean 0.204\n",
      "estimated standard error 0.0180213207063\n",
      "confidence interval: 0.185978679294 0.222021320706\n",
      "average children\n",
      "mean 0.864\n",
      "estimated standard error 0.0462494108071\n",
      "confidence interval: 0.817750589193 0.910249410807\n",
      "No diploma\n",
      "mean 0.166\n",
      "estimated standard error 0.016639951923\n",
      "confidence interval: 0.149360048077 0.182639951923\n",
      "income\n",
      "mean 43057.878\n",
      "estimated standard error 1409.8000232\n",
      "confidence interval: 41648.0779768 44467.6780232\n",
      "Sample 2\n",
      "Female head\n",
      "mean 0.198\n",
      "estimated standard error 0.0178211110765\n",
      "confidence interval: 0.180178888924 0.215821111076\n",
      "average children\n",
      "mean 0.992\n",
      "estimated standard error 0.0496374052505\n",
      "confidence interval: 0.94236259475 1.04163740525\n",
      "No diploma\n",
      "mean 0.204\n",
      "estimated standard error 0.0180213207063\n",
      "confidence interval: 0.185978679294 0.222021320706\n",
      "income\n",
      "mean 42571.03\n",
      "estimated standard error 1579.39788875\n",
      "confidence interval: 40991.6321113 44150.4278887\n",
      "Sample 3\n",
      "Female head\n",
      "mean 0.168\n",
      "estimated standard error 0.0167198086113\n",
      "confidence interval: 0.151280191389 0.184719808611\n",
      "average children\n",
      "mean 0.952\n",
      "estimated standard error 0.053248399037\n",
      "confidence interval: 0.898751600963 1.00524839904\n",
      "No diploma\n",
      "mean 0.204\n",
      "estimated standard error 0.0180213207063\n",
      "confidence interval: 0.185978679294 0.222021320706\n",
      "income\n",
      "mean 44659.382\n",
      "estimated standard error 1477.39811027\n",
      "confidence interval: 43181.9838897 46136.7801103\n",
      "Sample 4\n",
      "Female head\n",
      "mean 0.21\n",
      "estimated standard error 0.0182153781185\n",
      "confidence interval: 0.191784621881 0.228215378119\n",
      "average children\n",
      "mean 1.01\n",
      "estimated standard error 0.0538497910859\n",
      "confidence interval: 0.956150208914 1.06384979109\n",
      "No diploma\n",
      "mean 0.25\n",
      "estimated standard error 0.019364916731\n",
      "confidence interval: 0.230635083269 0.269364916731\n",
      "income\n",
      "mean 40986.5\n",
      "estimated standard error 1749.68693917\n",
      "confidence interval: 39236.8130608 42736.1869392\n",
      "Sample 5\n",
      "Female head\n",
      "mean 0.188\n",
      "estimated standard error 0.0174731794474\n",
      "confidence interval: 0.170526820553 0.205473179447\n",
      "average children\n",
      "mean 0.978\n",
      "estimated standard error 0.0530945571598\n",
      "confidence interval: 0.92490544284 1.03109455716\n",
      "No diploma\n",
      "mean 0.202\n",
      "estimated standard error 0.0179552777756\n",
      "confidence interval: 0.184044722224 0.219955277776\n",
      "income\n",
      "mean 41991.386\n",
      "estimated standard error 1462.30227004\n",
      "confidence interval: 40529.08373 43453.68827\n"
     ]
    }
   ],
   "source": [
    "for i in range(5):\n",
    "    print(\"Sample\", i+1)\n",
    "    samples = np.random.choice(len(df), 500, replace= False)\n",
    "    sample = df.ix[samples]\n",
    "    female_head = sample[\"TYPE\"] == 3\n",
    "    print(\"Female head\")\n",
    "    print(\"mean\", mean(female_head))\n",
    "    print(\"estimated standard error\", std(female_head)/sqrt(500))\n",
    "    print(\"confidence interval:\", mean(female_head) - std(female_head)/sqrt(500),\\\n",
    "          mean(female_head) + std(female_head)/sqrt(500) )\n",
    "    avg_children = sample[\"CHILDREN\"]\n",
    "    print(\"average children\")\n",
    "    print(\"mean\", mean(avg_children))\n",
    "    print(\"estimated standard error\", std(avg_children)/sqrt(500))\n",
    "    print(\"confidence interval:\", mean(avg_children) - std(avg_children)/sqrt(500),\\\n",
    "          mean(avg_children) + std(avg_children)/sqrt(500) )\n",
    "    no_dip = sample[\"EDUCATION\"]<39\n",
    "    print(\"No diploma\")\n",
    "    print(\"mean\", mean(no_dip))\n",
    "    print(\"estimated standard error\", std(no_dip)/sqrt(500))\n",
    "    print(\"confidence interval:\", mean(no_dip) - std(no_dip)/sqrt(500),\\\n",
    "          mean(no_dip) + std(no_dip)/sqrt(500) )\n",
    "    income = sample[\"INCOME\"]\n",
    "    print(\"income\")\n",
    "    print(\"mean\", mean(income))\n",
    "    print(\"estimated standard error\", std(income)/sqrt(500))\n",
    "    print(\"confidence interval:\", mean(income) - std(income)/sqrt(500),\\\n",
    "          mean(income) + std(income)/sqrt(500) )\n"
   ]
  },
  {
   "cell_type": "markdown",
   "metadata": {},
   "source": [
    "<b>The results are roughly the same</b>"
   ]
  },
  {
   "cell_type": "markdown",
   "metadata": {},
   "source": [
    "b. Take 100 samples of size 400."
   ]
  },
  {
   "cell_type": "code",
   "execution_count": 17,
   "metadata": {
    "collapsed": false
   },
   "outputs": [],
   "source": [
    "all_samples = []\n",
    "for i in range(100):\n",
    "    samples = np.random.choice(len(df), 400, replace= False)\n",
    "    sample = df.ix[samples]\n",
    "    all_samples.append(sample)"
   ]
  },
  {
   "cell_type": "markdown",
   "metadata": {},
   "source": [
    "i. For each sample, find the average family income."
   ]
  },
  {
   "cell_type": "code",
   "execution_count": 45,
   "metadata": {
    "collapsed": false
   },
   "outputs": [],
   "source": [
    "income_avg = []\n",
    "income_sd = []\n",
    "for x in all_samples:\n",
    "    income_avg.append(mean(x[\"INCOME\"]))\n",
    "    income_sd.append(std(x[\"INCOME\"])/sqrt(400))"
   ]
  },
  {
   "cell_type": "markdown",
   "metadata": {},
   "source": [
    "ii. Find the average and standard deviation of these 100 estimates and make\n",
    "a histogram of the estimates."
   ]
  },
  {
   "cell_type": "code",
   "execution_count": 19,
   "metadata": {
    "collapsed": false
   },
   "outputs": [
    {
     "name": "stdout",
     "output_type": "stream",
     "text": [
      "41096.208525\n",
      "1607.4203455\n"
     ]
    },
    {
     "data": {
      "image/png": "[encoded data removed]",
      "text/plain": [
       "<matplotlib.figure.Figure at 0xaaa63c0c>"
      ]
     },
     "metadata": {},
     "output_type": "display_data"
    }
   ],
   "source": [
    "print(mean(income_avg))\n",
    "print(std(income_avg))\n",
    "hist(income_avg);"
   ]
  },
  {
   "cell_type": "markdown",
   "metadata": {},
   "source": [
    "iii. Superimpose a plot of a normal density with that mean and standard devi-\n",
    "ation of the histogram and comment on how well it appears to fit."
   ]
  },
  {
   "cell_type": "code",
   "execution_count": 34,
   "metadata": {
    "collapsed": false
   },
   "outputs": [
    {
     "data": {
      "image/png": "[encoded data removed]",
      "text/plain": [
       "<matplotlib.figure.Figure at 0xadad926c>"
      ]
     },
     "metadata": {},
     "output_type": "display_data"
    }
   ],
   "source": [
    "hist(income_avg, normed=True);\n",
    "x = linspace(35000, 48000, 500)\n",
    "plot(x,norm.pdf(x,41182, 1491), 'k');"
   ]
  },
  {
   "cell_type": "markdown",
   "metadata": {},
   "source": [
    "<b>The fit looks approximately okay</b>"
   ]
  },
  {
   "cell_type": "markdown",
   "metadata": {},
   "source": [
    "iv. Plot the empirical cumulative distribution function (see Section 10.2). On\n",
    "this plot, superimpose the normal cumulative distribution function with\n",
    "mean and standard deviation as earlier. Comment on the fit."
   ]
  },
  {
   "cell_type": "code",
   "execution_count": 36,
   "metadata": {
    "collapsed": false
   },
   "outputs": [
    {
     "data": {
      "image/png": "[encoded data removed]",
      "text/plain": [
       "<matplotlib.figure.Figure at 0xaa323c2c>"
      ]
     },
     "metadata": {},
     "output_type": "display_data"
    }
   ],
   "source": [
    "from statsmodels.tools.tools import ECDF\n",
    "ecdf = ECDF(income_avg)\n",
    "plot(ecdf.x, ecdf.y);\n",
    "plot(x,norm.cdf(x,41182, 1491),'k');"
   ]
  },
  {
   "cell_type": "markdown",
   "metadata": {},
   "source": [
    "<b> The fit looks almost perfect </b>"
   ]
  },
  {
   "cell_type": "markdown",
   "metadata": {},
   "source": [
    "v. Another method for examining a normal approximation is via a normal\n",
    "probability plot (Section 9.9). Make such a plot and comment on what it\n",
    "shows about the approximation."
   ]
  },
  {
   "cell_type": "code",
   "execution_count": 39,
   "metadata": {
    "collapsed": false
   },
   "outputs": [
    {
     "data": {
      "image/png": "[encoded data removed]",
      "text/plain": [
       "<matplotlib.figure.Figure at 0xaa354eec>"
      ]
     },
     "metadata": {},
     "output_type": "display_data"
    }
   ],
   "source": [
    "from scipy.stats import probplot\n",
    "probplot(income_avg, dist=\"norm\", plot=pylab);"
   ]
  },
  {
   "cell_type": "markdown",
   "metadata": {},
   "source": [
    "<b>It looks pretty good, although there is some bumpiness in the tails</b>"
   ]
  },
  {
   "cell_type": "markdown",
   "metadata": {},
   "source": [
    "vi. For each of the 100 samples, find a 95% confidence interval for the population average income. How many of those intervals actually contain the population target?"
   ]
  },
  {
   "cell_type": "code",
   "execution_count": 51,
   "metadata": {
    "collapsed": false
   },
   "outputs": [
    {
     "name": "stdout",
     "output_type": "stream",
     "text": [
      "6\n"
     ]
    }
   ],
   "source": [
    "true_pop_target = mean(df['INCOME'])\n",
    "fails = 0\n",
    "for i in range(100):\n",
    "    mu = income_avg[i]\n",
    "    sd = income_sd[i]\n",
    "    if(mu - 1.96*sd > true_pop_target):\n",
    "        fails += 1\n",
    "    if(mu + 1.96*sd < true_pop_target):\n",
    "        fails += 1\n",
    "print(fails)        "
   ]
  },
  {
   "cell_type": "markdown",
   "metadata": {},
   "source": [
    "<b> Thus, for this sample, 94% of the intervals actually contain the population target </b>"
   ]
  },
  {
   "cell_type": "markdown",
   "metadata": {},
   "source": [
    "vii. Take 100 samples of size 100. Compare the averages, standard deviations,\n",
    "and histograms to those obtained for a sample of size 400 and explain how\n",
    "the theory of simple random sampling relates to the comparisons."
   ]
  },
  {
   "cell_type": "code",
   "execution_count": 54,
   "metadata": {
    "collapsed": false
   },
   "outputs": [
    {
     "name": "stdout",
     "output_type": "stream",
     "text": [
      "41031.2142\n",
      "3054.21923927\n"
     ]
    },
    {
     "data": {
      "image/png": "[encoded data removed]",
      "text/plain": [
       "<matplotlib.figure.Figure at 0xaa82970c>"
      ]
     },
     "metadata": {},
     "output_type": "display_data"
    }
   ],
   "source": [
    "all_samples = []\n",
    "for i in range(100):\n",
    "    samples = np.random.choice(len(df), 100, replace= False)\n",
    "    sample = df.ix[samples]\n",
    "    all_samples.append(sample)\n",
    "    \n",
    "income_avg = []\n",
    "income_sd = []\n",
    "for x in all_samples:\n",
    "    income_avg.append(mean(x[\"INCOME\"]))\n",
    "    income_sd.append(std(x[\"INCOME\"])/sqrt(400)) \n",
    "print(mean(income_avg))\n",
    "print(std(income_avg))\n",
    "hist(income_avg);    "
   ]
  },
  {
   "cell_type": "code",
   "execution_count": 56,
   "metadata": {
    "collapsed": false
   },
   "outputs": [
    {
     "data": {
      "image/png": "[encoded data removed]",
      "text/plain": [
       "<matplotlib.figure.Figure at 0xaa38bf0c>"
      ]
     },
     "metadata": {},
     "output_type": "display_data"
    }
   ],
   "source": [
    "hist(income_avg, normed=True);\n",
    "x = linspace(35000, 48000, 500)\n",
    "plot(x,norm.pdf(x,41031, 3054), 'k');"
   ]
  },
  {
   "cell_type": "code",
   "execution_count": 60,
   "metadata": {
    "collapsed": false
   },
   "outputs": [
    {
     "data": {
      "image/png": "[encoded data removed]",
      "text/plain": [
       "<matplotlib.figure.Figure at 0xaa357a4c>"
      ]
     },
     "metadata": {},
     "output_type": "display_data"
    }
   ],
   "source": [
    "ecdf = ECDF(income_avg)\n",
    "plot(ecdf.x, ecdf.y);\n",
    "plot(x,norm.cdf(x,41031, 3054),'k');"
   ]
  },
  {
   "cell_type": "code",
   "execution_count": 62,
   "metadata": {
    "collapsed": false
   },
   "outputs": [
    {
     "data": {
      "image/png": "[encoded data removed]",
      "text/plain": [
       "<matplotlib.figure.Figure at 0xaa38a54c>"
      ]
     },
     "metadata": {},
     "output_type": "display_data"
    }
   ],
   "source": [
    "probplot(income_avg, dist=\"norm\", plot=pylab);"
   ]
  },
  {
   "cell_type": "markdown",
   "metadata": {},
   "source": [
    "<b>The first thing to note is that the sample size was decreased by a factor of 4. From what we learned, we expect that the standard deviation will be doubled, and this is essentially exactly what we see. The standard deviation went from 1607.4203455 to 3054.21923927.</b>\n",
    "\n",
    "<b>We also see that the plots to check for normality are all much less smooth. This reinforces the notions that we have learned from the central limit theorem</b> "
   ]
  },
  {
   "cell_type": "markdown",
   "metadata": {},
   "source": [
    "c. For a simple random sample of 500, compare the incomes of the three family\n",
    "types by comparing histograms and boxplots (see Chapter 10.6)."
   ]
  },
  {
   "cell_type": "code",
   "execution_count": 114,
   "metadata": {
    "collapsed": false
   },
   "outputs": [
    {
     "data": {
      "image/png": "[encoded data removed]",
      "text/plain": [
       "<matplotlib.figure.Figure at 0xaa06e52c>"
      ]
     },
     "metadata": {},
     "output_type": "display_data"
    }
   ],
   "source": [
    "samples = np.random.choice(len(df), 500, replace= False)\n",
    "sample = df.ix[samples]\n",
    "figsize(15,8)\n",
    "subplot(231)\n",
    "(sample[sample['TYPE'] == 1]).boxplot(\"INCOME\");\n",
    "subplot(232)\n",
    "(sample[sample['TYPE'] == 2]).boxplot(\"INCOME\");\n",
    "subplot(233)\n",
    "(sample[sample['TYPE'] == 3]).boxplot(\"INCOME\");\n",
    "subplot(234)\n",
    "x = sample[\"INCOME\"][sample['TYPE'] == 1]\n",
    "hist(x.values);\n",
    "subplot(235)\n",
    "x = sample[\"INCOME\"][sample['TYPE'] == 2]\n",
    "hist(x.values);\n",
    "subplot(236)\n",
    "x = sample[\"INCOME\"][sample['TYPE'] == 3]\n",
    "hist(x.values);"
   ]
  },
  {
   "cell_type": "markdown",
   "metadata": {},
   "source": [
    "<b>Both type 1 and type 3 appear to be heavily skewed to the right, with many outliers. Type 2 seems to be the most normal looking</b>"
   ]
  },
  {
   "cell_type": "markdown",
   "metadata": {},
   "source": [
    "d. Take simple random samples of size 400 from each of the four regions."
   ]
  },
  {
   "cell_type": "code",
   "execution_count": 113,
   "metadata": {
    "collapsed": false
   },
   "outputs": [],
   "source": [
    "region_1 = df[df['REGION'] == 1]\n",
    "samples = np.random.choice(region_1.index, 400, replace= False)\n",
    "sample_1 = region_1.ix[samples]\n",
    "region_2 = df[df['REGION'] == 2]\n",
    "samples = np.random.choice(region_2.index, 400, replace= False)\n",
    "sample_2 = region_2.ix[samples]\n",
    "region_3 = df[df['REGION'] == 3]\n",
    "samples = np.random.choice(region_3.index, 400, replace= False)\n",
    "sample_3 = region_3.ix[samples]\n",
    "region_4 = df[df['REGION'] == 4]\n",
    "samples = np.random.choice(region_4.index, 400, replace= False)\n",
    "sample_4 = region_4.ix[samples]"
   ]
  },
  {
   "cell_type": "markdown",
   "metadata": {},
   "source": [
    "i. Compare the incomes by region by making parallel boxplots."
   ]
  },
  {
   "cell_type": "code",
   "execution_count": 118,
   "metadata": {
    "collapsed": false
   },
   "outputs": [
    {
     "data": {
      "image/png": "[encoded data removed]",
      "text/plain": [
       "<matplotlib.figure.Figure at 0xa9dbf38c>"
      ]
     },
     "metadata": {},
     "output_type": "display_data"
    }
   ],
   "source": [
    "figsize(15,5)\n",
    "subplot(141)\n",
    "(sample_1).boxplot(\"INCOME\");\n",
    "subplot(142)\n",
    "(sample_2).boxplot(\"INCOME\");\n",
    "subplot(143)\n",
    "(sample_3).boxplot(\"INCOME\");\n",
    "subplot(144)\n",
    "(sample_4).boxplot(\"INCOME\");"
   ]
  },
  {
   "cell_type": "markdown",
   "metadata": {},
   "source": [
    "ii. Does it appear that some regions have larger families than others?"
   ]
  },
  {
   "cell_type": "code",
   "execution_count": 121,
   "metadata": {
    "collapsed": false
   },
   "outputs": [
    {
     "name": "stdout",
     "output_type": "stream",
     "text": [
      "Region 1, average family size 0.9325\n",
      "Region 2, average family size 0.9275\n",
      "Region 3, average family size 0.875\n",
      "Region 4, average family size 1.0925\n"
     ]
    }
   ],
   "source": [
    "print(\"Region 1, average family size\", mean(sample_1[\"CHILDREN\"]))\n",
    "print(\"Region 2, average family size\", mean(sample_2[\"CHILDREN\"]))\n",
    "print(\"Region 3, average family size\", mean(sample_3[\"CHILDREN\"]))\n",
    "print(\"Region 4, average family size\", mean(sample_4[\"CHILDREN\"]))"
   ]
  },
  {
   "cell_type": "markdown",
   "metadata": {},
   "source": [
    "<b>It appears that people in region 4 have larger families, however, an analysis of the variance would be needed to be certain.</b>"
   ]
  },
  {
   "cell_type": "markdown",
   "metadata": {},
   "source": [
    "iii. Are there differences in education level among the four regions?"
   ]
  },
  {
   "cell_type": "code",
   "execution_count": 123,
   "metadata": {
    "collapsed": false
   },
   "outputs": [
    {
     "name": "stdout",
     "output_type": "stream",
     "text": [
      "Region 1, average education 39.5925\n",
      "Region 2, average education 39.375\n",
      "Region 3, average education 38.9675\n",
      "Region 4, average education 39.7\n"
     ]
    }
   ],
   "source": [
    "print(\"Region 1, average education\", mean(sample_1[\"EDUCATION\"]))\n",
    "print(\"Region 2, average education\", mean(sample_2[\"EDUCATION\"]))\n",
    "print(\"Region 3, average education\", mean(sample_3[\"EDUCATION\"]))\n",
    "print(\"Region 4, average education\", mean(sample_4[\"EDUCATION\"]))"
   ]
  },
  {
   "cell_type": "markdown",
   "metadata": {},
   "source": [
    "<b>Just by an examination of the average education, there does not appear to be any difference in the average level of education by region.</b>"
   ]
  },
  {
   "cell_type": "markdown",
   "metadata": {},
   "source": [
    "e. Formulate a question of your choice and attempt to answer it with a simple\n",
    "random sample of size 400.\n",
    "\n",
    "<b>My question is do people with more education generally have more income?</b>\n",
    "\n",
    "<b> I will make 4 education brackets to answer this question. 1) No high school diploma. 2) Graduated high school. 3) Graduated College. 4) Attained a post-graduate degree. </b> "
   ]
  },
  {
   "cell_type": "code",
   "execution_count": 136,
   "metadata": {
    "collapsed": false
   },
   "outputs": [
    {
     "name": "stdout",
     "output_type": "stream",
     "text": [
      "average salary for no diploma 20627.6710526\n",
      "average salary for diploma 38431.9126638\n",
      "average salary for college grad 51866.2678571\n",
      "average salary for post grad 71074.2051282\n"
     ]
    }
   ],
   "source": [
    "samples = np.random.choice(len(df), 400, replace= False)\n",
    "sample = df.ix[samples]\n",
    "no_dip = sample[sample[\"EDUCATION\"]<39]\n",
    "dip = sample[np.bitwise_and(sample[\"EDUCATION\"]>38, sample[\"EDUCATION\"]<43)]\n",
    "college = sample[sample[\"EDUCATION\"]== 43]\n",
    "post_grad = sample[sample[\"EDUCATION\"]>43]\n",
    "\n",
    "print(\"average salary for no diploma\", mean(no_dip[\"INCOME\"]))\n",
    "print(\"average salary for diploma\", mean(dip[\"INCOME\"]))\n",
    "print(\"average salary for college grad\", mean(college[\"INCOME\"]))\n",
    "print(\"average salary for post grad\", mean(post_grad[\"INCOME\"]))"
   ]
  },
  {
   "cell_type": "markdown",
   "metadata": {},
   "source": [
    "<b> As we can see there is a clear correlation between average salary and education level obtained</b>"
   ]
  },
  {
   "cell_type": "markdown",
   "metadata": {},
   "source": [
    "f. Does stratification help in estimating the average family income? From a simple\n",
    "random sample of size 400, estimate the average income and also the standard\n",
    "error of your estimate. Form a 95% confidence interval. Next, allocate the 400\n",
    "observations proportionally to the four regions and estimate the average income\n",
    "from the stratified sample. Estimate the standard error and form a 95% confi-\n",
    "dence interval. Compare your results to the results of the simple random sample."
   ]
  },
  {
   "cell_type": "code",
   "execution_count": null,
   "metadata": {
    "collapsed": true
   },
   "outputs": [],
   "source": []
  }
 ],
 "metadata": {
  "kernelspec": {
   "display_name": "Python 3",
   "language": "python",
   "name": "python3"
  },
  "language_info": {
   "codemirror_mode": {
    "name": "ipython",
    "version": 3
   },
   "file_extension": ".py",
   "mimetype": "text/x-python",
   "name": "python",
   "nbconvert_exporter": "python",
   "pygments_lexer": "ipython3",
   "version": "3.4.1"
  }
 },
 "nbformat": 4,
 "nbformat_minor": 0
}
