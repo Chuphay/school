{
 "cells": [
  {
   "cell_type": "code",
   "execution_count": 15,
   "metadata": {
    "collapsed": false
   },
   "outputs": [
    {
     "name": "stdout",
     "output_type": "stream",
     "text": [
      "Populating the interactive namespace from numpy and matplotlib\n"
     ]
    }
   ],
   "source": [
    "%pylab inline"
   ]
  },
  {
   "cell_type": "markdown",
   "metadata": {},
   "source": [
    "##Homework #1"
   ]
  },
  {
   "cell_type": "markdown",
   "metadata": {},
   "source": [
    "<b>3.)</b> Which of the following is a random variable?\n",
    "\n",
    "a. The population mean\n",
    "\n",
    "b. The population size, N\n",
    "\n",
    "c. The sample size, n\n",
    "\n",
    "d. The sample mean\n",
    "\n",
    "e. The variance of the sample mean\n",
    "\n",
    "f. The largest value in the sample\n",
    "\n",
    "g. The population variance\n",
    "\n",
    "h. The estimated variance of the sample mean\n",
    "\n",
    "<h3>d, e, f, h</h3>"
   ]
  },
  {
   "cell_type": "markdown",
   "metadata": {},
   "source": [
    "<b>5.)</b> How would you respond to a friend who asks you, “How can we say that the\n",
    "sample mean is a random variable when it is just a number, like the population\n",
    "mean? For example, in Example A of Section 7.3.2, a simple random sample of size 50 produced x  ̄ = 938.5; how can the number 938.5 be a random\n",
    "variable?”\n",
    "\n",
    "<h3>I would say that the sample mean is a random variable because everytime we take a different sample we are likely to get a different random answer</h3>"
   ]
  },
  {
   "cell_type": "markdown",
   "metadata": {},
   "source": [
    "<b>7.)</b> Suppose that a simple random sample is used to estimate the proportion of families\n",
    "in a certain area that are living below the poverty level. If this proportion is roughly\n",
    ".15, what sample size is necessary so that the standard error of the estimate is .02?\n",
    "\n",
    "<h3>The standar error is defined as\n",
    "\n",
    "$$\\sigma_{\\bar X} = \\frac {\\sigma}{\\sqrt n}$$\n",
    "\n",
    "We are given that $p = 0.15$ and therefore $\\sigma^2 = p(1-p) = 0.1275$. Now we simply solve for n:\n",
    "\n",
    "$$n = \\lceil \\frac {0.1275}{0.02 ^ 2}\\rceil = \\lceil 318.75 \\rceil = 319$$\n",
    "\n"
   ]
  },
  {
   "cell_type": "markdown",
   "metadata": {},
   "source": [
    "<b>16.)</b> True or false?\n",
    "\n",
    "a. The center of a 95% confidence interval for the population mean is a random\n",
    "variable.\n",
    "\n",
    "<b>True</b>\n",
    "\n",
    "b. A 95% confidence interval for μ contains the sample mean with probability\n",
    ".95.\n",
    "\n",
    "<b>False</b>\n",
    "\n",
    "c. A 95% confidence interval contains 95% of the population.\n",
    "\n",
    "<b>False</b>\n",
    "\n",
    "d. Out of one hundred 95% confidence intervals for μ, 95 will contain μ.\n",
    "\n",
    "<b>True, at least on average</b>"
   ]
  },
  {
   "cell_type": "markdown",
   "metadata": {},
   "source": [
    "<b>17.)</b> A 90% confidence interval for the average number of children per household\n",
    "based on a simple random sample is found to be (.7, 2.1). Can we conclude that\n",
    "90% of households have between .7 and 2.1 children?\n",
    "\n",
    "<b>No. We can say that with 90% confidence the average number of children per household is between that range, but this has nothing to do with the conclusions reached. \n",
    "\n",
    "We can show this with a simple script:</b>"
   ]
  },
  {
   "cell_type": "code",
   "execution_count": 20,
   "metadata": {
    "collapsed": false
   },
   "outputs": [
    {
     "name": "stdout",
     "output_type": "stream",
     "text": [
      "0.345485838586 1.41451416141\n"
     ]
    }
   ],
   "source": [
    "N = 100\n",
    "x = array([0 if i%9 == 0 else 1 for i in range(N)])\n",
    "mu = mean(x)\n",
    "sd = std(x)\n",
    "from scipy.stats import norm\n",
    "print(mu - norm.ppf(0.95)*sd, mu + norm.ppf(0.95)*sd)"
   ]
  },
  {
   "cell_type": "markdown",
   "metadata": {},
   "source": [
    "<b>Where we know that in fact more than 10% of the population has a value of zero. Therefore the conclusions reached above must be invalid</b>"
   ]
  },
  {
   "cell_type": "markdown",
   "metadata": {},
   "source": [
    "<b>21.)</b> In order to halve the width of a 95% confidence interval for a mean, by what factor\n",
    "should the sample size be increased? Ignore the finite population correction.\n",
    "\n",
    "<b> We must quadruple the sample size </b>"
   ]
  },
  {
   "cell_type": "markdown",
   "metadata": {},
   "source": [
    "<b>22.)</b> An investigator quantifies her uncertainty about the estimate of a population mean\n",
    "by reporting $\\bar{X} ± s_{\\bar{ X}}$ . What size confidence interval is this?"
   ]
  },
  {
   "cell_type": "code",
   "execution_count": 37,
   "metadata": {
    "collapsed": false
   },
   "outputs": [
    {
     "name": "stdout",
     "output_type": "stream",
     "text": [
      "0.975002104852 0.950004209704\n",
      "0.841344746069 0.682689492137\n"
     ]
    }
   ],
   "source": [
    "a = norm.cdf(1.96)\n",
    "print(a, 1 -(1 -a)*2)\n",
    "a = norm.cdf(1)\n",
    "print(a,  1 -(1 -a)*2)"
   ]
  },
  {
   "cell_type": "markdown",
   "metadata": {},
   "source": [
    "<b>Looks like a 68% confidence interval</b>"
   ]
  },
  {
   "cell_type": "markdown",
   "metadata": {},
   "source": [
    "<b>24.)</b> For a random sample of size n from a population of size N , consider the following\n",
    "as an estimate of μ:\n",
    "\n",
    "$$\\bar{X_c} = \\sum_{i=1}^n c_i X_i $$\n",
    "\n",
    "\n",
    "where the $c_i$ are fixed numbers and $X_1$ , . . . , $X_n$ is the sample.\n",
    "\n",
    "a. Find a condition on the $c_i$ such that the estimate is unbiased.\n",
    "\n",
    "<b> We know that $\\bar{X}$ is unbiased, so the choice of $c_i$ = 1/n, will lead to an unbiased estimate</b>\n",
    "\n",
    "b. Show that the choice of $c_i$ that minimizes the variances of the estimate subject\n",
    "to this condition is $c_i$ = 1/n, where i = 1, . . . , n.\n",
    "\n",
    "<b> I believe this comes from the Rao–Cramér inequality. The proof of it is beyond me at this point</b>\n",
    "\n",
    "\n"
   ]
  },
  {
   "cell_type": "markdown",
   "metadata": {},
   "source": [
    "35.) A simple random sample of a population of size 2000 yields the following\n",
    "\n",
    "25 values:\n",
    "\n",
    "104\n",
    "86\n",
    "91\n",
    "104\n",
    "79\n",
    "\n",
    "109\n",
    "80\n",
    "103\n",
    "98\n",
    "87\n",
    "\n",
    "111\n",
    "119\n",
    "99\n",
    "98\n",
    "94\n",
    "\n",
    "109\n",
    "88\n",
    "108\n",
    "83\n",
    "92\n",
    "\n",
    "87\n",
    "122\n",
    "96\n",
    "107\n",
    "97\n",
    "\n",
    "\n",
    "a. Calculate an unbiased estimate of the population mean."
   ]
  },
  {
   "cell_type": "code",
   "execution_count": 40,
   "metadata": {
    "collapsed": false
   },
   "outputs": [
    {
     "data": {
      "text/plain": [
       "98.040000000000006"
      ]
     },
     "execution_count": 40,
     "metadata": {},
     "output_type": "execute_result"
    }
   ],
   "source": [
    "x = \"\"\"104 86 91 104 79\n",
    "109 80 103 98 87\n",
    "111 119 99 98 94\n",
    "109 88 108 83 92\n",
    "87 122 96 107 97\"\"\"\n",
    "x = [int(i) for i in x.split()]\n",
    "mean(x)"
   ]
  },
  {
   "cell_type": "markdown",
   "metadata": {},
   "source": [
    "b. Calculate unbiased estimates of the population variance and Var($\\bar{X}$ )."
   ]
  },
  {
   "cell_type": "code",
   "execution_count": 44,
   "metadata": {
    "collapsed": false
   },
   "outputs": [
    {
     "data": {
      "text/plain": [
       "133.70666666666668"
      ]
     },
     "execution_count": 44,
     "metadata": {},
     "output_type": "execute_result"
    }
   ],
   "source": [
    "s2 = sum((x-mean(x))**2)/(24)\n",
    "s2"
   ]
  },
  {
   "cell_type": "code",
   "execution_count": 46,
   "metadata": {
    "collapsed": false
   },
   "outputs": [
    {
     "data": {
      "text/plain": [
       "5.281413333333334"
      ]
     },
     "execution_count": 46,
     "metadata": {},
     "output_type": "execute_result"
    }
   ],
   "source": [
    "varX = (s2/25)*(1 - 25/2000)\n",
    "varX"
   ]
  },
  {
   "cell_type": "markdown",
   "metadata": {},
   "source": [
    "c. Give approximate 95% confidence intervals for the population mean and total."
   ]
  },
  {
   "cell_type": "code",
   "execution_count": 47,
   "metadata": {
    "collapsed": false
   },
   "outputs": [
    {
     "name": "stdout",
     "output_type": "stream",
     "text": [
      "87.6884298667 108.391570133\n",
      "175376.859733 216783.140267\n"
     ]
    }
   ],
   "source": [
    "print(mean(x) - 1.96*varX, mean(x) + 1.96*varX)\n",
    "print(2000*(mean(x) - 1.96*varX), 2000*(mean(x) + 1.96*varX))"
   ]
  },
  {
   "cell_type": "markdown",
   "metadata": {},
   "source": [
    "58.) (Computer Exercise) Construct a population consisting of the integers from 1 to 100. Simulate the sampling distribution of the sample mean of a sample of size\n",
    "12 by drawing 100 samples of size 12 and making a histogram of the results."
   ]
  },
  {
   "cell_type": "code",
   "execution_count": 57,
   "metadata": {
    "collapsed": false
   },
   "outputs": [
    {
     "data": {
      "image/png": "[encoded data removed]",
      "text/plain": [
       "<matplotlib.figure.Figure at 0xadafd66c>"
      ]
     },
     "metadata": {},
     "output_type": "display_data"
    }
   ],
   "source": [
    "pop = [i+1 for i in range(100)]\n",
    "means = []\n",
    "for i in range(100):\n",
    "    means.append(mean(np.random.choice(pop, 12, replace= False)))\n",
    "hist(means);"
   ]
  },
  {
   "cell_type": "markdown",
   "metadata": {},
   "source": [
    "<b>67.)</b> \n",
    "\n",
    "In these exercises, you will try to learn about the families of Cyberville by using\n",
    "sampling.\n",
    "\n",
    "a. Take a simple random sample of 500 families. Estimate the following population parameters, calculate the estimated standard errors of these estimates, and\n",
    "form 95% confidence intervals:"
   ]
  },
  {
   "cell_type": "code",
   "execution_count": 58,
   "metadata": {
    "collapsed": true
   },
   "outputs": [],
   "source": [
    "import pandas as pd"
   ]
  },
  {
   "cell_type": "code",
   "execution_count": 79,
   "metadata": {
    "collapsed": false
   },
   "outputs": [],
   "source": [
    "df = pd.read_csv(\"Chapter 7/families.txt\")\n",
    "df.columns = [\"TYPE\", \"PERSONS\", \"CHILDREN\",\"INCOME\",\"REGION\",\"EDUCATION\"]"
   ]
  },
  {
   "cell_type": "code",
   "execution_count": 96,
   "metadata": {
    "collapsed": false
   },
   "outputs": [],
   "source": [
    "samples = np.random.choice(len(df), 500, replace= False)\n",
    "sample = df.ix[samples]"
   ]
  },
  {
   "cell_type": "markdown",
   "metadata": {},
   "source": [
    "i. The proportion of female-headed families"
   ]
  },
  {
   "cell_type": "code",
   "execution_count": 97,
   "metadata": {
    "collapsed": false
   },
   "outputs": [
    {
     "name": "stdout",
     "output_type": "stream",
     "text": [
      "mean 0.188\n",
      "estimated standard error 0.0174731794474\n",
      "confidence interval: 0.170526820553 0.205473179447\n"
     ]
    }
   ],
   "source": [
    "female_head = sample[\"TYPE\"] == 3\n",
    "print(\"mean\", mean(female_head))\n",
    "print(\"estimated standard error\", std(female_head)/sqrt(500))\n",
    "print(\"confidence interval:\", mean(female_head) - std(female_head)/sqrt(500),\\\n",
    "      mean(female_head) + std(female_head)/sqrt(500) )"
   ]
  },
  {
   "cell_type": "markdown",
   "metadata": {},
   "source": [
    "ii. The average number of children per family"
   ]
  },
  {
   "cell_type": "code",
   "execution_count": 99,
   "metadata": {
    "collapsed": false
   },
   "outputs": [
    {
     "name": "stdout",
     "output_type": "stream",
     "text": [
      "mean 0.904\n",
      "estimated standard error 0.049452684457\n",
      "confidence interval: 0.854547315543 0.953452684457\n"
     ]
    }
   ],
   "source": [
    "avg_children = sample[\"CHILDREN\"]\n",
    "print(\"mean\", mean(avg_children))\n",
    "print(\"estimated standard error\", std(avg_children)/sqrt(500))\n",
    "print(\"confidence interval:\", mean(avg_children) - std(avg_children)/sqrt(500),\\\n",
    "      mean(avg_children) + std(avg_children)/sqrt(500) )"
   ]
  },
  {
   "cell_type": "markdown",
   "metadata": {},
   "source": [
    "iii. The proportion of heads of households who did not receive a high school\n",
    "diploma"
   ]
  },
  {
   "cell_type": "code",
   "execution_count": 98,
   "metadata": {
    "collapsed": false
   },
   "outputs": [
    {
     "name": "stdout",
     "output_type": "stream",
     "text": [
      "mean 0.21\n",
      "estimated standard error 0.0182153781185\n",
      "confidence interval: 0.191784621881 0.228215378119\n"
     ]
    }
   ],
   "source": [
    "no_dip = sample[\"EDUCATION\"]<39\n",
    "print(\"mean\", mean(no_dip))\n",
    "print(\"estimated standard error\", std(no_dip)/sqrt(500))\n",
    "print(\"confidence interval:\", mean(no_dip) - std(no_dip)/sqrt(500),\\\n",
    "      mean(no_dip) + std(no_dip)/sqrt(500) )"
   ]
  },
  {
   "cell_type": "markdown",
   "metadata": {},
   "source": [
    "iv. The average family income"
   ]
  },
  {
   "cell_type": "code",
   "execution_count": 100,
   "metadata": {
    "collapsed": false
   },
   "outputs": [
    {
     "name": "stdout",
     "output_type": "stream",
     "text": [
      "mean 38238.078\n",
      "estimated standard error 1360.53244827\n",
      "confidence interval: 36877.5455517 39598.6104483\n"
     ]
    }
   ],
   "source": [
    "income = sample[\"INCOME\"]\n",
    "print(\"mean\", mean(income))\n",
    "print(\"estimated standard error\", std(income)/sqrt(500))\n",
    "print(\"confidence interval:\", mean(income) - std(income)/sqrt(500),\\\n",
    "      mean(income) + std(income)/sqrt(500) )"
   ]
  },
  {
   "cell_type": "markdown",
   "metadata": {},
   "source": [
    "Repeat the preceding parameters for five different simple random samples of\n",
    "size 500 and compare the results."
   ]
  },
  {
   "cell_type": "code",
   "execution_count": 103,
   "metadata": {
    "collapsed": false
   },
   "outputs": [
    {
     "name": "stdout",
     "output_type": "stream",
     "text": [
      "Sample 1\n",
      "Female head\n",
      "mean 0.198\n",
      "estimated standard error 0.0178211110765\n",
      "confidence interval: 0.180178888924 0.215821111076\n",
      "average children\n",
      "mean 0.94\n",
      "estimated standard error 0.0512328019925\n",
      "confidence interval: 0.888767198008 0.991232801992\n",
      "No diploma\n",
      "mean 0.194\n",
      "estimated standard error 0.0176841171677\n",
      "confidence interval: 0.176315882832 0.211684117168\n",
      "income\n",
      "mean 41489.126\n",
      "estimated standard error 1345.55708306\n",
      "confidence interval: 40143.5689169 42834.6830831\n",
      "Sample 2\n",
      "Female head\n",
      "mean 0.17\n",
      "estimated standard error 0.0167988094816\n",
      "confidence interval: 0.153201190518 0.186798809482\n",
      "average children\n",
      "mean 0.918\n",
      "estimated standard error 0.0501851770944\n",
      "confidence interval: 0.867814822906 0.968185177094\n",
      "No diploma\n",
      "mean 0.212\n",
      "estimated standard error 0.0182787308093\n",
      "confidence interval: 0.193721269191 0.230278730809\n",
      "income\n",
      "mean 42782.156\n",
      "estimated standard error 1519.80338931\n",
      "confidence interval: 41262.3526107 44301.9593893\n",
      "Sample 3\n",
      "Female head\n",
      "mean 0.172\n",
      "estimated standard error 0.0168769665521\n",
      "confidence interval: 0.155123033448 0.188876966552\n",
      "average children\n",
      "mean 0.994\n",
      "estimated standard error 0.0524969332438\n",
      "confidence interval: 0.941503066756 1.04649693324\n",
      "No diploma\n",
      "mean 0.194\n",
      "estimated standard error 0.0176841171677\n",
      "confidence interval: 0.176315882832 0.211684117168\n",
      "income\n",
      "mean 44565.19\n",
      "estimated standard error 1482.6235909\n",
      "confidence interval: 43082.5664091 46047.8135909\n",
      "Sample 4\n",
      "Female head\n",
      "mean 0.186\n",
      "estimated standard error 0.0174013792557\n",
      "confidence interval: 0.168598620744 0.203401379256\n",
      "average children\n",
      "mean 0.87\n",
      "estimated standard error 0.0483549377003\n",
      "confidence interval: 0.8216450623 0.9183549377\n",
      "No diploma\n",
      "mean 0.248\n",
      "estimated standard error 0.0193130008026\n",
      "confidence interval: 0.228686999197 0.267313000803\n",
      "income\n",
      "mean 40387.114\n",
      "estimated standard error 1302.17800117\n",
      "confidence interval: 39084.9359988 41689.2920012\n",
      "Sample 5\n",
      "Female head\n",
      "mean 0.19\n",
      "estimated standard error 0.0175442298207\n",
      "confidence interval: 0.172455770179 0.207544229821\n",
      "average children\n",
      "mean 0.894\n",
      "estimated standard error 0.0499352380589\n",
      "confidence interval: 0.844064761941 0.943935238059\n",
      "No diploma\n",
      "mean 0.214\n",
      "estimated standard error 0.0183414285158\n",
      "confidence interval: 0.195658571484 0.232341428516\n",
      "income\n",
      "mean 42283.574\n",
      "estimated standard error 1426.95930581\n",
      "confidence interval: 40856.6146942 43710.5333058\n"
     ]
    }
   ],
   "source": [
    "for i in range(5):\n",
    "    print(\"Sample\", i+1)\n",
    "    samples = np.random.choice(len(df), 500, replace= False)\n",
    "    sample = df.ix[samples]\n",
    "    female_head = sample[\"TYPE\"] == 3\n",
    "    print(\"Female head\")\n",
    "    print(\"mean\", mean(female_head))\n",
    "    print(\"estimated standard error\", std(female_head)/sqrt(500))\n",
    "    print(\"confidence interval:\", mean(female_head) - std(female_head)/sqrt(500),\\\n",
    "          mean(female_head) + std(female_head)/sqrt(500) )\n",
    "    avg_children = sample[\"CHILDREN\"]\n",
    "    print(\"average children\")\n",
    "    print(\"mean\", mean(avg_children))\n",
    "    print(\"estimated standard error\", std(avg_children)/sqrt(500))\n",
    "    print(\"confidence interval:\", mean(avg_children) - std(avg_children)/sqrt(500),\\\n",
    "          mean(avg_children) + std(avg_children)/sqrt(500) )\n",
    "    no_dip = sample[\"EDUCATION\"]<39\n",
    "    print(\"No diploma\")\n",
    "    print(\"mean\", mean(no_dip))\n",
    "    print(\"estimated standard error\", std(no_dip)/sqrt(500))\n",
    "    print(\"confidence interval:\", mean(no_dip) - std(no_dip)/sqrt(500),\\\n",
    "          mean(no_dip) + std(no_dip)/sqrt(500) )\n",
    "    income = sample[\"INCOME\"]\n",
    "    print(\"income\")\n",
    "    print(\"mean\", mean(income))\n",
    "    print(\"estimated standard error\", std(income)/sqrt(500))\n",
    "    print(\"confidence interval:\", mean(income) - std(income)/sqrt(500),\\\n",
    "          mean(income) + std(income)/sqrt(500) )\n"
   ]
  },
  {
   "cell_type": "markdown",
   "metadata": {},
   "source": [
    "<b>The results are roughly the same</b>"
   ]
  },
  {
   "cell_type": "markdown",
   "metadata": {},
   "source": [
    "b. Take 100 samples of size 400."
   ]
  },
  {
   "cell_type": "code",
   "execution_count": 105,
   "metadata": {
    "collapsed": false
   },
   "outputs": [],
   "source": [
    "all_samples = []\n",
    "for i in range(100):\n",
    "    samples = np.random.choice(len(df), 400, replace= False)\n",
    "    sample = df.ix[samples]\n",
    "    all_samples.append(sample)"
   ]
  },
  {
   "cell_type": "markdown",
   "metadata": {},
   "source": [
    "i. For each sample, find the average family income."
   ]
  },
  {
   "cell_type": "code",
   "execution_count": 107,
   "metadata": {
    "collapsed": false
   },
   "outputs": [],
   "source": [
    "income_avg = []\n",
    "for x in all_samples:\n",
    "    income_avg.append(mean(x[\"INCOME\"]))"
   ]
  },
  {
   "cell_type": "markdown",
   "metadata": {},
   "source": [
    "ii. Find the average and standard deviation of these 100 estimates and make\n",
    "a histogram of the estimates."
   ]
  },
  {
   "cell_type": "code",
   "execution_count": 108,
   "metadata": {
    "collapsed": false
   },
   "outputs": [
    {
     "name": "stdout",
     "output_type": "stream",
     "text": [
      "41182.50695\n",
      "1490.65039113\n"
     ]
    },
    {
     "data": {
      "image/png": "[encoded data removed]",
      "text/plain": [
       "<matplotlib.figure.Figure at 0xa9ceb1ec>"
      ]
     },
     "metadata": {},
     "output_type": "display_data"
    }
   ],
   "source": [
    "print(mean(income_avg))\n",
    "print(std(income_avg))\n",
    "hist(income_avg);"
   ]
  },
  {
   "cell_type": "markdown",
   "metadata": {},
   "source": [
    "iii. Superimpose a plot of a normal density with that mean and standard devi-\n",
    "ation of the histogram and comment on how well it appears to fit."
   ]
  },
  {
   "cell_type": "code",
   "execution_count": 131,
   "metadata": {
    "collapsed": false
   },
   "outputs": [
    {
     "data": {
      "image/png": "[encoded data removed]",
      "text/plain": [
       "<matplotlib.figure.Figure at 0xa9b2d5ec>"
      ]
     },
     "metadata": {},
     "output_type": "display_data"
    }
   ],
   "source": [
    "hist(income_avg, normed=True);\n",
    "x = linspace(30000, 50000, 500)\n",
    "plot(x,norm.pdf(x,41182, 1491), 'k');"
   ]
  },
  {
   "cell_type": "markdown",
   "metadata": {},
   "source": [
    "iv. Plot the empirical cumulative distribution function (see Section 10.2). On\n",
    "this plot, superimpose the normal cumulative distribution function with\n",
    "mean and standard deviation as earlier. Comment on the fit.\n",
    "\n",
    "v. Another method for examining a normal approximation is via a normal\n",
    "probability plot (Section 9.9). Make such a plot and comment on what it\n",
    "shows about the approximation.\n",
    "\n",
    "vi. For each of the 100 samples, find a 95% confidence interval for the pop-\n",
    "ulation average income. How many of those intervals actually contain the\n",
    "population target?\n",
    "\n",
    "vii. Take 100 samples of size 100. Compare the averages, standard deviations,\n",
    "and histograms to those obtained for a sample of size 400 and explain how\n",
    "the theory of simple random sampling relates to the comparisons.\n",
    "\n",
    "c. For a simple random sample of 500, compare the incomes of the three family\n",
    "types by comparing histograms and boxplots (see Chapter 10.6).\n",
    "d. Take simple random samples of size 400 from each of the four regions.\n",
    "i. Compare the incomes by region by making parallel boxplots.\n",
    "ii. Does it appear that some regions have larger families than others?\n",
    "iii. Are there differences in education level among the four regions?254\n",
    "Chapter 7 Survey Sampling\n",
    "e. Formulate a question of your choice and attempt to answer it with a simple\n",
    "random sample of size 400.\n",
    "f. Does stratification help in estimating the average family income? From a simple\n",
    "random sample of size 400, estimate the average income and also the standard\n",
    "error of your estimate. Form a 95% confidence interval. Next, allocate the 400\n",
    "observations proportionally to the four regions and estimate the average income\n",
    "from the stratified sample. Estimate the standard error and form a 95% confi-\n",
    "dence interval. Compare your results to the results of the simple random sample."
   ]
  },
  {
   "cell_type": "code",
   "execution_count": null,
   "metadata": {
    "collapsed": true
   },
   "outputs": [],
   "source": []
  }
 ],
 "metadata": {
  "kernelspec": {
   "display_name": "Python 3",
   "language": "python",
   "name": "python3"
  },
  "language_info": {
   "codemirror_mode": {
    "name": "ipython",
    "version": 3
   },
   "file_extension": ".py",
   "mimetype": "text/x-python",
   "name": "python",
   "nbconvert_exporter": "python",
   "pygments_lexer": "ipython3",
   "version": "3.4.1"
  }
 },
 "nbformat": 4,
 "nbformat_minor": 0
}
