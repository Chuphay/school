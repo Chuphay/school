{
 "cells": [
  {
   "cell_type": "code",
   "execution_count": 13,
   "metadata": {
    "collapsed": false
   },
   "outputs": [
    {
     "name": "stdout",
     "output_type": "stream",
     "text": [
      "Populating the interactive namespace from numpy and matplotlib\n"
     ]
    },
    {
     "name": "stderr",
     "output_type": "stream",
     "text": [
      "WARNING: pylab import has clobbered these variables: ['repeat']\n",
      "`%matplotlib` prevents importing * from pylab and numpy\n"
     ]
    }
   ],
   "source": [
    "%pylab inline\n",
    "from tools import repeat\n",
    "import pandas as pd"
   ]
  },
  {
   "cell_type": "markdown",
   "metadata": {},
   "source": [
    "<b>6.)</b> Suppose that X ∼ bin(n, p).\n",
    "\n",
    "c. If n = 10 and X = 5, plot the log likelihood function."
   ]
  },
  {
   "cell_type": "markdown",
   "metadata": {},
   "source": [
    "$$l(\\theta) = \\sum_{i=1}^n \\text{log} [f(X_i | \\theta)] = \\text{log} [ {10 \\choose 5} p^5 (1-p)^5] $$ "
   ]
  },
  {
   "cell_type": "code",
   "execution_count": 2,
   "metadata": {
    "collapsed": false
   },
   "outputs": [
    {
     "data": {
      "image/png": "[encoded data removed]",
      "text/plain": [
       "<matplotlib.figure.Figure at 0xb061aeac>"
      ]
     },
     "metadata": {},
     "output_type": "display_data"
    }
   ],
   "source": [
    "x = linspace(0.01,0.99,100)\n",
    "plot(x, log(252*(x**5)*(1-x)**5));"
   ]
  },
  {
   "cell_type": "markdown",
   "metadata": {},
   "source": [
    "<b>7.)</b> Suppose that X follows a geometric distribution,\n",
    "\n",
    "$$P(X = k) = p(1 − p)^{k−1}$$\n",
    "\n",
    "and assume an i.i.d. sample of size n.\n",
    "\n",
    "c. Find the asymptotic variance of the mle."
   ]
  },
  {
   "cell_type": "markdown",
   "metadata": {},
   "source": [
    "$$I (\\theta) = \\mathbb{E} \\left[ \\left(\\frac {\\partial}{\\partial \\theta} l( \\theta) \\right)^2 \\right] = - \\mathbb{E} \\left[ \\frac {\\partial^2}{\\partial \\theta^2} l(\\theta)  \\right]$$"
   ]
  },
  {
   "cell_type": "markdown",
   "metadata": {},
   "source": [
    "$$I (\\theta) = -\\mathbb{E} \\left[ \\frac {\\partial^2}{\\partial \\theta^2} (n \\ln p  + n(\\bar{X} - 1) \\ln(1-p)) \\right] =-\\mathbb{E}  \\left[ -\\frac n {p^2} - \\frac{n( \\bar{X} - 1)}{(1-p)^2}\\right]= n \\left( \\frac 1 {p^2} + \\frac{1/p -1}{(1-p)^2} \\right) = \\frac n {p^2 (1-p)}$$"
   ]
  },
  {
   "cell_type": "markdown",
   "metadata": {},
   "source": [
    "Therefore, the asymptotic variance is given by "
   ]
  },
  {
   "cell_type": "markdown",
   "metadata": {},
   "source": [
    "$$ \\frac {p^2 (1-p)} n$$ "
   ]
  },
  {
   "cell_type": "markdown",
   "metadata": {},
   "source": [
    "<b>16.)</b> Consider an i.i.d. sample of random variables with density function\n",
    "\n",
    "$$f (x| \\sigma) = \\frac 1 {2 \\sigma } \\text{exp}(- \\frac {|x|}{2 \\sigma} )$$\n",
    "\n",
    "\n",
    "c. Find the asymptotic variance of the mle."
   ]
  },
  {
   "cell_type": "markdown",
   "metadata": {},
   "source": [
    "From last homework, I have\n",
    "\n",
    "$$\\frac {\\partial^2 l} {\\partial \\sigma^2}= n/\\sigma^2 - \\frac 2 {\\sigma^3}\\sum |X_i|$$\n",
    "\n",
    "Because $\\mathbb{E}[|X_i|] = \\sigma$\n",
    "\n",
    "$$I(\\sigma) = n/ \\sigma^2$$\n",
    "\n",
    "And therefore the asymptotic variance is given by\n",
    "\n",
    "$$\\sigma^2/n$$"
   ]
  },
  {
   "cell_type": "markdown",
   "metadata": {},
   "source": [
    "<b>35.)</b> (Bootstrap in Example A of Section 8.5.1) Let $U_1 , U_2 , . . . , U_{1029}$ be independent\n",
    "uniformly distributed random variables. Let $X_1$ equal the number of $U_i$ less than\n",
    ".331, $X_2$ equal the number between .331 and .820, and $X_3$ equal the number\n",
    "greater than .820. Why is the joint distribution of $X_1 , X_2 ,$ and $X_3$ multinomial\n",
    "with probabilities .331, .489, and .180 and n = 1029?"
   ]
  },
  {
   "cell_type": "markdown",
   "metadata": {},
   "source": [
    "Well the uniform distribution is equally likely to hit any number between zero and one. Therefore the probability that it is less than 0.331, is exactly 0.331. Therfore you would expect $X_1$ to equal 0.331 of the 1029 samples. Similar logic holds for the other brackets. "
   ]
  },
  {
   "cell_type": "markdown",
   "metadata": {},
   "source": [
    "<b>46.)</b> The data of this exercise were gathered as part of a study to estimate the population\n",
    "size of the bowhead whale (Raftery and Zeh 1993). The statistical procedures\n",
    "for estimating the population size along with an assessment of the variability of\n",
    "the estimate were quite involved, and this problem deals with only one aspect\n",
    "of the problem—a study of the distribution of whale swimming speeds. Pairs\n",
    "of sightings and corresponding locations that could be reliably attributed to the\n",
    "same whale were collected, thus providing an estimate of velocity for each whale.\n",
    "The velocities, $v_1 , v_2 , . . . , v_{210}$ (km/h), were converted into times $t_1 , t_2 , . . . , t_{210}$\n",
    "to swim 1 km— $t_i = 1/v_i$ . The distribution of the $t_i$ was then fit by a gamma\n",
    "distribution. The times are contained in the file whales.\n",
    "\n",
    "a. Make a histogram of the 210 values of $t_i$ . Does it appear that a gamma distri-\n",
    "bution would be a plausible model to fit?"
   ]
  },
  {
   "cell_type": "code",
   "execution_count": 19,
   "metadata": {
    "collapsed": false
   },
   "outputs": [
    {
     "data": {
      "image/png": "[encoded data removed]",
      "text/plain": [
       "<matplotlib.figure.Figure at 0xad49dfac>"
      ]
     },
     "metadata": {},
     "output_type": "display_data"
    }
   ],
   "source": [
    "data = pd.read_csv(\"Chapter 8/whales.txt\", names = [\"time\"])\n",
    "data.hist();"
   ]
  },
  {
   "cell_type": "markdown",
   "metadata": {},
   "source": [
    "Yes"
   ]
  },
  {
   "cell_type": "code",
   "execution_count": 35,
   "metadata": {
    "collapsed": false
   },
   "outputs": [
    {
     "data": {
      "image/png": "[encoded data removed]",
      "text/plain": [
       "<matplotlib.figure.Figure at 0xaa91ecac>"
      ]
     },
     "metadata": {},
     "output_type": "display_data"
    }
   ],
   "source": [
    "from scipy.stats import gamma\n",
    "x = linspace(0,5,500)\n",
    "plot(x,gamma.pdf(x,1.5,loc= 0.2, scale = 0.5));"
   ]
  },
  {
   "cell_type": "markdown",
   "metadata": {},
   "source": [
    "b. Fit the parameters of the gamma distribution by the method of moments.\n",
    "\n",
    "c. Fit the parameters of the gamma distribution by maximum likelihood. How\n",
    "do these values compare to those found before?\n",
    "\n",
    "d. Plot the two gamma densities on top of the histogram. Do the fits look rea-\n",
    "sonable?\n",
    "\n",
    "e. Estimate the sampling distributions and the standard errors of the parameters\n",
    "fit by the method of moments by using the bootstrap.\n",
    "\n",
    "f. Estimate the sampling distributions and the standard errors of the parameters\n",
    "fit by maximum likelihood by using the bootstrap. How do they compare to\n",
    "the results found previously?\n",
    "\n",
    "g. Find approximate confidence intervals for the parameters estimated by maxi-\n",
    "mum likelihood."
   ]
  },
  {
   "cell_type": "markdown",
   "metadata": {},
   "source": [
    "<b>47.)</b> The Pareto distribution has been used in economics as a model for a density\n",
    "function with a slowly decaying tail:\n",
    "\n",
    "$$ f (x|x_0 , θ) = θ x_0^θ x^{ −θ −1} , ~~~~~ x ≥ x_0 , ~~~~ θ > 1 $$\n",
    "\n",
    "Assume that $x_0 > 0$ is given and that $X_1 , X_2 , . . . , X_n$ is an i.i.d. sample.\n",
    "\n",
    "a. Find the method of moments estimate of θ.\n",
    "\n",
    "$$\\mathbb{E}[x] = \\int_{x_0}^{\\infty} \\theta x_0^{\\theta} x^{-\\theta}dx = \\frac{ \\theta x_0} {\\theta - 1}$$\n",
    "\n",
    "$$\\rightarrow ~~~~~ \\hat{\\theta} = \\frac {\\bar{X}}{\\bar{X} - X_0}$$\n",
    "\n",
    "\n",
    "b. Find the mle of θ.\n",
    "\n",
    "$$l(\\theta) = \\sum [\\ln \\theta + \\theta \\ln x_0 - (\\theta +1)\\ln x_i ]$$\n",
    "\n",
    "$$\\partial_{\\theta} l(\\theta) = \\frac n {\\theta} + n \\ln x_0 - \\sum \\ln x_i$$ \n",
    "\n",
    "$$\\rightarrow ~~~~~ \\hat{\\theta} = \\frac 1 {\\frac 1 n \\sum \\ln X_i - X_0}$$\n",
    "\n",
    "Checking the second derivative:\n",
    "\n",
    "$$\\partial_{\\theta}^2 l(\\theta) = - \\frac n {\\theta^2} $$\n",
    "\n",
    "Which is always negative\n",
    "\n",
    "c. Find the asymptotic variance of the mle.\n",
    "\n",
    "Using our results from above yields an asymptotic variance of\n",
    "\n",
    "$$ \\frac {\\theta^2} n $$"
   ]
  },
  {
   "cell_type": "markdown",
   "metadata": {},
   "source": [
    "<b>50.)</b> Let $X_1 , . . . , X_n$ be an i.i.d. sample from a Rayleigh distribution with parameter\n",
    "θ > 0:\n",
    "\n",
    "\n",
    "$$f (x|θ ) = \\frac x {\\theta^2} e^{ −x^2 /(2θ^2 )} ,   ~~~~ x \\geq 0$$\n",
    "\n",
    "\n",
    "(This is an alternative parametrization of that of Example A in Section 3.6.2.)\n",
    "\n",
    "a. Find the method of moments estimate of θ .\n",
    "\n",
    "$$\\mathbb{E}[x] = \\int_0^\\infty \\frac {x^2} {\\theta^2} e^{ −x^2 /(2θ^2 )} = - \\partial_k \\int_{-\\infty}^\\infty  e^{ −x^2 k/(2θ^2 )} = -\\partial_k \\sqrt {\\frac {2\\pi \\theta^2} k} =  \\sqrt {\\frac {\\pi \\theta^2} 2}$$\n",
    "\n",
    "$$\\rightarrow ~~~~~ \\hat{\\theta} = \\sqrt {\\frac 2 {\\pi} } \\bar{X}$$\n",
    "\n",
    "b. Find the mle of θ.\n",
    "\n",
    "$$l(\\theta) = \\sum [\\ln x_i - 2 \\ln \\theta - x_i^2 / 2 \\theta^2]$$\n",
    "\n",
    "$$\\partial_\\theta l (\\theta) = -2n / \\theta +\\sum x_i^2 / \\theta^3$$\n",
    "\n",
    "$$\\rightarrow ~~~~~~~ \\hat {\\theta} = \\sqrt { \\frac 1 {2n} \\sum X_i^2 }$$\n",
    "\n",
    "Checking the second derivative yields\n",
    "\n",
    "$$\\partial_\\theta^2 l (\\theta)|_{\\theta^2 = \\sum X_i^2 / 2n} = \\frac {2n} {\\theta^2} - \\frac {3 \\sum X_i^2}{\\theta^4} = - \\frac {4n} {\\theta^2}$$\n",
    "\n",
    "Which is always negative\n",
    "\n",
    "c. Find the asymptotic variance of the mle.\n",
    "\n",
    "From above, we have the asymptotic variance\n",
    "\n",
    "$$ \\frac {\\theta^2} {4n}$$"
   ]
  },
  {
   "cell_type": "markdown",
   "metadata": {},
   "source": [
    "<b>52.</b> Let $X_1 , . . . , X_n$ be i.i.d. random variables with the density function\n",
    "\n",
    "$$f (x|θ ) = (θ + 1)x^θ , ~~~~~~~ 0 ≤ x ≤ 1$$\n",
    "\n",
    "\n",
    "c. Find the asymptotic variance of the mle.\n",
    "\n",
    "From the last homework, I found $\\partial^2_\\theta l(\\theta) = -n / (1+ \\theta)^2$ Therefore the asymptotic variance is \n",
    "\n",
    "$$\\frac {(1+ \\theta)^2} n $$ "
   ]
  },
  {
   "cell_type": "markdown",
   "metadata": {},
   "source": [
    "<b>55.</b> For two factors—starchy or sugary, and green base leaf or white base leaf—the\n",
    "following counts for the progeny of self-fertilized heterozygotes were observed\n",
    "(Fisher 1958):\n",
    "\n",
    "\n",
    "<table>\n",
    "<tr><td>Type</td><td>Count</td></tr>\n",
    "<tr><td>Starchy green</td><td>1997</td></tr>\n",
    "<tr><td>Starchy white</td><td>906</td></tr>\n",
    "<tr><td>Sugary green</td><td>904</td></tr>\n",
    "<tr><td>Sugary white</td><td>32</td></tr>\n",
    "</table>\n",
    "\n",
    "\n",
    "According to genetic theory, the cell probabilities are .25(2 + θ ), .25(1 − θ ),\n",
    ".25(1 − θ ), and .25θ, where θ(0 < θ < 1) is a parameter related to the linkage\n",
    "of the factors.\n",
    "\n",
    "a. Find the mle of θ and its asymptotic variance.\n",
    "\n",
    "$$l(\\theta) = \\ln n! - \\sum \\ln X_i! +X_1 \\ln .25(2 + θ ) + X_2 \\ln .25(1 − θ ) + X_3 \\ln .25(1 − θ ) +X_4 \\ln .25θ$$\n",
    "\n",
    "$$\\partial_{\\theta} l(\\theta) = 4*(X_1 /(2 + θ ) - X_2 /(1 − θ ) - X_3 /(1 − θ ) +X_4 /\\theta)$$\n",
    "\n",
    "Equating this to zero yields the following quadratic equation:\n",
    "\n",
    "$$\\theta^2 (-X_1 - X_2 -X_3 - X_4) + \\theta (X_1 - 2X_2 -2 X_3 - X_4) + 2 X_4 = 0$$\n",
    "\n",
    "With the data given, we have:\n",
    "\n",
    "$$-\\theta^2 (3839) - \\theta (1655) + 64 = 0$$"
   ]
  },
  {
   "cell_type": "code",
   "execution_count": 4,
   "metadata": {
    "collapsed": false
   },
   "outputs": [
    {
     "data": {
      "text/plain": [
       "0.035712302240628144"
      ]
     },
     "execution_count": 4,
     "metadata": {},
     "output_type": "execute_result"
    }
   ],
   "source": [
    "a = -3839\n",
    "b = -1655\n",
    "c = 64\n",
    "(-b-sqrt(b**2 - 4*a*c))/(2*a)"
   ]
  },
  {
   "cell_type": "markdown",
   "metadata": {},
   "source": [
    "Taking the second derivative, yields:\n",
    "\n",
    "$$\\partial_{\\theta}^2 l(\\theta) = (-X_1 /(2 + θ )^2 - X_2 /(1 − θ )^2 - X_3 /(1 − θ )^2 - X_4 /\\theta^2)$$\n",
    "\n",
    "To get Fisher's Information, we must take the expectation of this. We know \n",
    "\n",
    "$$\\mathbb{E}[X_1] = .25n(2 + θ ),~~ \\mathbb{E}[X_2] = .25n(1 − θ ),~~ \\mathbb{E}[X_3] =.25n(1 − θ ),~~ \\mathbb{E}[X_4] =.25nθ$$\n",
    "\n",
    "Thus \n",
    "\n",
    "$$ I(\\theta) = - \\mathbb{E}[\\partial_{\\theta}^2 l(\\theta)] = n/(2+\\theta) +n/(1-\\theta)+n/(1-\\theta)+n/\\theta$$"
   ]
  },
  {
   "cell_type": "code",
   "execution_count": 10,
   "metadata": {
    "collapsed": false
   },
   "outputs": [
    {
     "data": {
      "text/plain": [
       "117346.15053413293"
      ]
     },
     "execution_count": 10,
     "metadata": {},
     "output_type": "execute_result"
    }
   ],
   "source": [
    "t = 0.035712302240628144\n",
    "3839*(1/(2+t) + 2/(1-t) + 1/t)"
   ]
  },
  {
   "cell_type": "markdown",
   "metadata": {},
   "source": [
    "Which means that the asymptotic variance is:\n"
   ]
  },
  {
   "cell_type": "code",
   "execution_count": 11,
   "metadata": {
    "collapsed": false
   },
   "outputs": [
    {
     "data": {
      "text/plain": [
       "8.52179637293791e-06"
      ]
     },
     "execution_count": 11,
     "metadata": {},
     "output_type": "execute_result"
    }
   ],
   "source": [
    "1/117346.15053413293"
   ]
  },
  {
   "cell_type": "markdown",
   "metadata": {},
   "source": [
    "b. Form an approximate 95% confidence interval for θ based on part (a).\n",
    "\n",
    "$$(0.03571230224062816 - 0.003014059*1.96 , 0.03571230224062816 + 0.003014059*1.96) = (0.02980475, 0.04161986)$$\n",
    "\n",
    "c. Use the bootstrap to find the approximate standard deviation of the mle and\n",
    "compare to the result of part (a)."
   ]
  },
  {
   "cell_type": "code",
   "execution_count": 9,
   "metadata": {
    "collapsed": false
   },
   "outputs": [
    {
     "data": {
      "text/plain": [
       "0.0058289992947011572"
      ]
     },
     "execution_count": 9,
     "metadata": {},
     "output_type": "execute_result"
    }
   ],
   "source": [
    "theta = 0.03571230224062816\n",
    "p1 = .25*(2 + theta)\n",
    "p2 = .25*(1 - theta)\n",
    "p3 = .25*(1 - theta)\n",
    "p4 = .25*theta\n",
    "\n",
    "@repeat(5000)\n",
    "def get_estimate(n):\n",
    "    counts = [0,0,0,0]\n",
    "    for i in range(n):\n",
    "        r = rand()\n",
    "        if(r<p1): counts[0] += 1\n",
    "        elif(r<p1+p2): counts[1] += 1\n",
    "        elif(r<p1+p2+p3): counts[2] += 1\n",
    "        else: counts[3] += 1\n",
    "    a = - n\n",
    "    b = counts[0] - 2*(counts[1]+counts[2]) - counts[3]\n",
    "    c = 2*counts[3]    \n",
    "    return ((-b - sqrt(b**2 - 4*a*c))/(2*a) - theta)**2\n",
    "\n",
    "    \n",
    "sqrt(get_estimate(3839))   "
   ]
  },
  {
   "cell_type": "markdown",
   "metadata": {},
   "source": [
    "hmmm.... apparently this is much closer to the answer in the back of the book. Not sure what to make of this."
   ]
  },
  {
   "cell_type": "markdown",
   "metadata": {},
   "source": [
    "d. Use the bootstrap to find an approximate 95% confidence interval and compare\n",
    "to part (b)."
   ]
  },
  {
   "cell_type": "code",
   "execution_count": 12,
   "metadata": {
    "collapsed": false
   },
   "outputs": [
    {
     "data": {
      "text/plain": [
       "0.936"
      ]
     },
     "execution_count": 12,
     "metadata": {},
     "output_type": "execute_result"
    }
   ],
   "source": [
    "@repeat(1000)\n",
    "def get_estimate(n):\n",
    "\n",
    "    counts = [0,0,0,0]\n",
    "    for i in range(n):\n",
    "        r = rand()\n",
    "        if(r<p1): counts[0] += 1\n",
    "        elif(r<p1+p2): counts[1] += 1\n",
    "        elif(r<p1+p2+p3): counts[2] += 1\n",
    "        else: counts[3] += 1\n",
    "    a = - n\n",
    "    b = counts[0] - 2*(counts[1]+counts[2]) - counts[3]\n",
    "    c = 2*counts[3]  \n",
    "    estimate = (-b - sqrt(b**2 - 4*a*c))/(2*a)\n",
    "    if((estimate>0.02447) and (estimate<0.04687)):\n",
    "        return 1\n",
    "    else:\n",
    "        return 0\n",
    "    \n",
    "get_estimate(3839)    "
   ]
  },
  {
   "cell_type": "markdown",
   "metadata": {},
   "source": [
    "So, again using the answer from the back of the book yields a decent answer"
   ]
  },
  {
   "cell_type": "markdown",
   "metadata": {},
   "source": [
    "<b>58</b> If gene frequencies are in equilibrium, the genotypes A A, Aa, and aa occur\n",
    "with probabilities $(1 − θ)^2 , 2θ(1 − θ )$, and $θ^2$ , respectively. Plato et al. (1964)\n",
    "published the following data on haptoglobin type in a sample of 190 people:\n",
    "\n",
    "\n",
    "\n",
    "<table>\n",
    "<tr><td colspan = 3>Haptoglobin Type</td></tr>\n",
    "<tr><td>Hp1-1</td><td>Hp1-2</td><td>Hp2-2</td></tr>\n",
    "<tr><td>10</td><td>68</td><td>112</td></tr>\n",
    "</table>\n",
    "\n",
    "a. Find the mle of θ.\n",
    "\n",
    "b. Find the asymptotic variance of the mle.\n",
    "\n",
    "c. Find an approximate 99% confidence interval for θ .\n",
    "\n",
    "d. Use the bootstrap to find the approximate standard deviation of the mle and\n",
    "compare to the result of part (b).\n",
    "\n",
    "e. Use the bootstrap to find an approximate 99% confidence interval and compare\n",
    "to part (c)."
   ]
  },
  {
   "cell_type": "markdown",
   "metadata": {},
   "source": [
    "##Handout"
   ]
  },
  {
   "cell_type": "markdown",
   "metadata": {},
   "source": [
    "<b>1.)</b> Find the m.l.e. of θ based on a random sample $X_1, X_2, . . . , X_n$ from\n",
    "each of the following p.d.f.’s.\n",
    "\n",
    "\n",
    "(a)\n",
    "\n",
    "$$f(x|θ) = θx^{θ−1} ~ , ~~~~~ 0 < x < 1, ~~ 0 < θ$$\n",
    "\n",
    "$$l(θ) = \\sum [ \\ln \\theta + (θ-1) \\ln x_i] ~~ \\rightarrow ~~~ 0 = n/θ + \\sum \\ln x_i ~~ \\rightarrow ~~~ \\hat{θ} = - \\frac n {\\sum \\ln X_i}$$\n",
    "\n",
    "Checking the second derivative:\n",
    "\n",
    "$$\\partial_θ^2 = -n/θ^2$$\n",
    "\n",
    "which is always negative"
   ]
  },
  {
   "cell_type": "markdown",
   "metadata": {},
   "source": [
    "(b)\n",
    "\n",
    "$$f(x|θ) = (θ + 1)x^{−θ−2} ~~ , ~~~~ 1 < x,~~ 0 < θ$$\n",
    "\n",
    "$$l(θ) = \\sum [ \\ln (\\theta+1) - (θ+2) \\ln x_i] ~~ \\rightarrow ~~~ 0 = n/(θ+1) + \\sum \\ln x_i ~~ \\rightarrow ~~~ \\hat{θ} = - \\frac n {\\sum \\ln X_i}-1$$\n",
    "\n",
    "Checking the second derivative:\n",
    "\n",
    "$$\\partial_θ^2 = -n/(θ+1)^2$$\n",
    "\n",
    "which is always negative"
   ]
  },
  {
   "cell_type": "markdown",
   "metadata": {},
   "source": [
    "(c)\n",
    "\n",
    "$$f(x|θ) = θ^2xe^{−θx} ~ , ~~~~~ 0 < x, ~~~~ 0 < θ$$\n",
    "\n",
    "$$l(θ) = \\sum [ 2 \\ln \\theta + \\ln x_i - \\theta x_i] ~~ \\rightarrow ~~~ 0 = 2n/θ + \\sum x_i ~~ \\rightarrow ~~~ \\hat{θ} = - \\frac {2n} {\\sum  X_i}$$\n",
    "\n",
    "Checking the second derivative:\n",
    "\n",
    "$$\\partial_θ^2 = -2n/θ^2$$\n",
    "\n",
    "which is always negative"
   ]
  },
  {
   "cell_type": "markdown",
   "metadata": {},
   "source": [
    "(d)\n",
    "\n",
    "$$f(x|θ) = θ(1 − θ)^{x−1}, ~~~~~~ x = 1, 2, . . . , ~~~ 0 < θ < 1$$\n",
    "\n",
    "$$l(θ) = \\sum [ \\ln \\theta + (x_i-1) \\ln (1 -\\theta)] ~~ \\rightarrow ~~~ 0 = n/θ - \\sum \\frac {x_i - 1} {1 - \\theta} ~~ \\rightarrow ~~~ \\hat{θ} = \\frac n {\\sum X_i}$$\n",
    "\n",
    "Checking the second derivative:\n",
    "\n",
    "$$\\partial_θ^2 = -n/θ^2- \\sum \\frac {x_i - 1} {(1 - \\theta)^2}$$\n",
    "\n",
    "which is always negative "
   ]
  },
  {
   "cell_type": "markdown",
   "metadata": {},
   "source": [
    "<b>2.)</b> Find the asymptotic variance of the m.l.e. in each part of question 1.\n",
    "\n",
    "a) $~~~θ^2/n~~~$,  b) $~~~ (θ+1)^2/n~~~~$ c) $~~~ θ^2/2n~~~~$ d) $~~~θ^2(1-θ)/n$\n",
    "\n",
    "<b>3.)</b> Consider two independent samples $X_1, X_2, . . . , X_n \\sim N (µ, σ^2_1)$ and\n",
    "$Y_1, Y_2, . . . , Y_m \\sim N (µ, σ^2_2)$.\n",
    "\n",
    "(a) Find the m.l.e. of µ, $σ^2_1$, and $σ^2_2$.\n",
    "\n",
    "(b) Find the asymptotic variance of µ."
   ]
  },
  {
   "cell_type": "code",
   "execution_count": null,
   "metadata": {
    "collapsed": true
   },
   "outputs": [],
   "source": []
  }
 ],
 "metadata": {
  "kernelspec": {
   "display_name": "Python 3",
   "language": "python",
   "name": "python3"
  },
  "language_info": {
   "codemirror_mode": {
    "name": "ipython",
    "version": 3
   },
   "file_extension": ".py",
   "mimetype": "text/x-python",
   "name": "python",
   "nbconvert_exporter": "python",
   "pygments_lexer": "ipython3",
   "version": "3.4.1"
  }
 },
 "nbformat": 4,
 "nbformat_minor": 0
}
