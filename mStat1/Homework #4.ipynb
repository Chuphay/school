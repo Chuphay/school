{
 "cells": [
  {
   "cell_type": "code",
   "execution_count": 1,
   "metadata": {
    "collapsed": false
   },
   "outputs": [
    {
     "name": "stdout",
     "output_type": "stream",
     "text": [
      "Populating the interactive namespace from numpy and matplotlib\n"
     ]
    }
   ],
   "source": [
    "%pylab inline\n",
    "from scipy.stats import beta, gamma"
   ]
  },
  {
   "cell_type": "markdown",
   "metadata": {},
   "source": [
    "##Homework #4"
   ]
  },
  {
   "cell_type": "markdown",
   "metadata": {},
   "source": [
    "<b>8.62)</b> Show that the gamma distribution is a conjugate prior for the exponential distribution.\n",
    "\n",
    "From Wikipedia: In Bayesian probability theory, if the posterior distributions p(θ|x) are in the same family as the prior probability distribution p(θ), the prior and posterior are then called conjugate distributions.\n",
    "\n",
    "Here the prior is the Gamma, which has the following dist:\n",
    "\n",
    "$$f(\\alpha, \\theta, x) = \\frac 1 {\\Gamma (\\alpha) \\theta^{\\alpha} } x^{(\\alpha - 1)} e^{-x/\\theta}$$\n",
    "\n",
    "It should be clear that when $\\alpha = 1$, we are left with the exponential distribution and therefore the posterior is in the same family as the prior. \n",
    "\n",
    "\n",
    "Suppose that the waiting time in a queue is modeled as an exponential\n",
    "random variable with unknown parameter λ, and that the average time to serve a\n",
    "random sample of 20 customers is 5.1 minutes. A gamma distribution is used as\n",
    "a prior. Consider two cases: (1) the mean of the gamma is 0.5 and the standard\n",
    "deviation is 1, and (2) the mean is 10 and the standard deviation is 20. Plot the\n",
    "two posterior distributions and compare them. Find the two posterior means and\n",
    "compare them. Explain the differences.\n",
    "\n",
    "Following along from the example in the book yields:\n",
    "\n",
    "$$f_{\\Lambda | X} (\\lambda | x) \\propto \\lambda^{\\sum x_i + \\alpha -1} e^{-\\lambda (n + 1/\\theta)} $$\n",
    "\n",
    "Here $\\sum x_i = 102$, $n = 20$. If the prior has the mean equal to 0.5 and the standard deviation equal to 1. Then\n",
    "\n",
    "$$f_{\\Lambda | X} (\\lambda | x) \\propto \\lambda^{102.5 -1} e^{-\\lambda (20.5)} $$\n",
    "\n",
    "and therefore, the posterior mean $\\mu = \\alpha \\theta = 102.5/20.5 = 5$\n",
    "\n",
    "If the prior has the mean equal to 10 and the standard deviation equal to 20. Then\n",
    "\n",
    "$$f_{\\Lambda | X} (\\lambda | x) \\propto \\lambda^{102.5 -1} e^{-\\lambda (20.025)} $$\n",
    "\n",
    "and therefore, the posterior mean $\\mu = \\alpha \\theta = 102.5/20.025 = 5.118602$"
   ]
  },
  {
   "cell_type": "code",
   "execution_count": 17,
   "metadata": {
    "collapsed": false
   },
   "outputs": [
    {
     "data": {
      "image/png": "[encoded data removed]",
      "text/plain": [
       "<matplotlib.figure.Figure at 0xada170ec>"
      ]
     },
     "metadata": {},
     "output_type": "display_data"
    }
   ],
   "source": [
    "x = linspace(0,10,200)\n",
    "a_1 = 102.5\n",
    "theta_1 = 1/20.5\n",
    "theta_2 = 1/20.025\n",
    "plot(x, gamma.pdf(x,a_1, scale = theta_1))\n",
    "plot(x, gamma.pdf(x,a_1, scale = theta_2), 'k');"
   ]
  },
  {
   "cell_type": "markdown",
   "metadata": {},
   "source": [
    "The difference is that the blue line is a little more sharply peaked at the wrong value, while the black line is flatter and is centered closer to the true value (or at least what we assume to be the true value). This means that the larger standard deviation of the second method gve us a better approximation."
   ]
  },
  {
   "cell_type": "markdown",
   "metadata": {},
   "source": [
    "<b>8.63)</b> Suppose that 100 items are sampled from a manufacturing process and 3 are found\n",
    "to be defective. A beta prior is used for the unknown proportion θ of defective\n",
    "items. Consider two cases: (1) a = b = 1, and (2) a = 0.5 and b = 5. Plot the\n",
    "two posterior distributions and compare them. Find the two posterior means and\n",
    "compare them. Explain the differences."
   ]
  },
  {
   "cell_type": "markdown",
   "metadata": {},
   "source": [
    "$$f_{\\Lambda | X} (\\lambda | x) \\propto f_{X | \\Lambda } (x |\\lambda ) f_{ \\Lambda } (\\lambda )$$\n",
    "\n",
    "$$ f_{ \\Lambda } (\\lambda ) = \\frac {\\Gamma (\\alpha +\\beta)}{\\Gamma (\\alpha) \\Gamma (\\beta)} \\lambda^{(\\alpha -1)} (1 - \\lambda)^{(\\beta - 1)}$$\n",
    "\n",
    "$$f_{X | \\Lambda } (x |\\lambda ) = {n \\choose x} \\lambda^x (1 - \\lambda)^{(n - x)}$$\n",
    "\n",
    "$$f_{\\Lambda | X} (\\lambda | x) \\propto  \\lambda^{(x+\\alpha -1)} (1 - \\lambda)^{(n - x +\\beta - 1)}$$\n",
    "\n",
    "So, in the first case, the posterior mean is\n",
    "\n",
    "$$\\mu = \\frac {\\alpha}{\\alpha + \\beta} = \\frac 4 {4+ 97 + 1} = 0.0392156$$\n",
    "\n",
    "In the second case, the posterior mean is\n",
    "\n",
    "$$\\mu = \\frac {\\alpha}{\\alpha + \\beta} = \\frac {3.5} {3.5+ 97 + 5} = 0.03317536$$\n"
   ]
  },
  {
   "cell_type": "code",
   "execution_count": 21,
   "metadata": {
    "collapsed": false
   },
   "outputs": [
    {
     "data": {
      "image/png": "[encoded data removed]",
      "text/plain": [
       "<matplotlib.figure.Figure at 0xadb8ad2c>"
      ]
     },
     "metadata": {},
     "output_type": "display_data"
    }
   ],
   "source": [
    "x = linspace(0,0.2,200)\n",
    "a_1 = 4\n",
    "b_1 = 98\n",
    "a_2 = 3.5\n",
    "b_2 = 102\n",
    "plot(x, beta.pdf(x,a_1, b_1))\n",
    "plot(x, beta.pdf(x,a_2, b_2), 'k');"
   ]
  },
  {
   "cell_type": "markdown",
   "metadata": {},
   "source": [
    "Here, the black line is much more sharply peaked than the blue one. To see why, we can look at the priors:"
   ]
  },
  {
   "cell_type": "code",
   "execution_count": 24,
   "metadata": {
    "collapsed": false
   },
   "outputs": [
    {
     "data": {
      "image/png": "[encoded data removed]",
      "text/plain": [
       "<matplotlib.figure.Figure at 0xadb1572c>"
      ]
     },
     "metadata": {},
     "output_type": "display_data"
    }
   ],
   "source": [
    "x = linspace(0,0.6,200)\n",
    "a_1 = 1\n",
    "b_1 = 1\n",
    "a_2 = 0.5\n",
    "b_2 = 5\n",
    "plot(x, beta.pdf(x,a_1, b_1))\n",
    "plot(x, beta.pdf(x,a_2, b_2), 'k');"
   ]
  },
  {
   "cell_type": "markdown",
   "metadata": {},
   "source": [
    "Thus, we can see that the blue prior started off flatter, so we are not surprsed that it stayed that way."
   ]
  },
  {
   "cell_type": "markdown",
   "metadata": {},
   "source": [
    "<b>8.64)</b> This is a continuation of the previous problem. Let X = 0 or 1 according to\n",
    "whether an item is defective. For each choice of the prior, what is the marginal\n",
    "distribution of X before the sample is taken? What are the marginal distributions after the sample is taken? (Hint: for the second question, use the posterior\n",
    "distribution of θ.)"
   ]
  },
  {
   "cell_type": "markdown",
   "metadata": {},
   "source": [
    "<b>8.65)</b> Suppose that a random sample of size 20 is taken from a normal distribution\n",
    "with unknown mean and known variance equal to 1, and the mean is found to\n",
    "be $\\bar{x}$ = 10. A normal distribution was used as the prior for the mean, and it was\n",
    "found that the posterior mean was 15 and the posterior standard deviation was\n",
    "0.1. What were the mean and standard deviation of the prior?"
   ]
  },
  {
   "cell_type": "markdown",
   "metadata": {},
   "source": [
    "From the book, we have:\n",
    "\n",
    "$$\\xi_{\\text{post}} = n \\xi_{0} + \\xi_{\\text{prior}}$$\n",
    "\n",
    "\n",
    ".\n",
    "\n",
    "$$\\theta_{\\text{post}} = \\frac {n\\xi_{0} \\bar{x} + \\theta_0 \\xi_{\\text{prior}}}{n \\xi_{0} +\\xi_{\\text{prior}}}$$\n",
    "\n",
    "First, let's find $\\xi_{\\text{prior}}$\n",
    "\n",
    "We know that the posterior $\\sigma = 0.1$ and therefore $\\sigma^2 = 0.01 = 1/\\xi_{\\text{post}} ~~ \\rightarrow ~~ \\xi_{\\text{post}}$. Therefore\n",
    "\n",
    "$$\\xi_{\\text{post}} = n \\xi_{0} + \\xi_{\\text{prior}} ~~~ \\rightarrow ~~~~ 100 = 20 + \\xi_{\\text{prior}} $$\n",
    "\n",
    "$$ \\rightarrow ~~~~~ \\xi_{\\text{prior}}  = 80$$\n",
    "\n",
    "\n",
    "Now, to find $\\theta_0$\n",
    "\n",
    "\n",
    "$$15 = \\frac {200 + 80 \\theta_0 }{20 + 80} ~~~ \\rightarrow ~~~ \\theta_0 = 16.25$$\n"
   ]
  },
  {
   "cell_type": "markdown",
   "metadata": {},
   "source": [
    "<b>8.66)</b> Let the unknown probability that a basketball player makes a shot successfully\n",
    "be θ. Suppose your prior on θ is uniform on [0, 1] and that she then makes two\n",
    "shots in a row. Assume that the outcomes of the two shots are independent.\n",
    "\n",
    "a. What is the posterior density of θ ?\n",
    "\n",
    "b. What would you estimate the probability that she makes a third shot to be?"
   ]
  }
 ],
 "metadata": {
  "kernelspec": {
   "display_name": "Python 3",
   "language": "python",
   "name": "python3"
  },
  "language_info": {
   "codemirror_mode": {
    "name": "ipython",
    "version": 3
   },
   "file_extension": ".py",
   "mimetype": "text/x-python",
   "name": "python",
   "nbconvert_exporter": "python",
   "pygments_lexer": "ipython3",
   "version": "3.4.1"
  }
 },
 "nbformat": 4,
 "nbformat_minor": 0
}
