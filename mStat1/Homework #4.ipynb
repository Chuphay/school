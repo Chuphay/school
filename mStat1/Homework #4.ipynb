{
 "cells": [
  {
   "cell_type": "markdown",
   "metadata": {},
   "source": [
    "##Homework #4"
   ]
  },
  {
   "cell_type": "markdown",
   "metadata": {},
   "source": [
    "<b>8.62)</b> Show that the gamma distribution is a conjugate prior for the exponential distri-\n",
    "bution. Suppose that the waiting time in a queue is modeled as an exponential\n",
    "random variable with unknown parameter λ, and that the average time to serve a\n",
    "random sample of 20 customers is 5.1 minutes. A gamma distribution is used as\n",
    "a prior. Consider two cases: (1) the mean of the gamma is 0.5 and the standard\n",
    "deviation is 1, and (2) the mean is 10 and the standard deviation is 20. Plot the\n",
    "two posterior distributions and compare them. Find the two posterior means and\n",
    "compare them. Explain the differences."
   ]
  },
  {
   "cell_type": "markdown",
   "metadata": {},
   "source": [
    "<b>8.63)</b> Suppose that 100 items are sampled from a manufacturing process and 3 are found\n",
    "to be defective. A beta prior is used for the unknown proportion θ of defective\n",
    "items. Consider two cases: (1) a = b = 1, and (2) a = 0.5 and b = 5. Plot the\n",
    "two posterior distributions and compare them. Find the two posterior means and\n",
    "compare them. Explain the differences."
   ]
  },
  {
   "cell_type": "markdown",
   "metadata": {},
   "source": [
    "<b>8.64)</b> This is a continuation of the previous problem. Let X = 0 or 1 according to\n",
    "whether an item is defective. For each choice of the prior, what is the marginal\n",
    "distribution of X before the sample is taken? What are the marginal distribu-\n",
    "tions after the sample is taken? (Hint: for the second question, use the posterior\n",
    "distribution of θ.)"
   ]
  },
  {
   "cell_type": "markdown",
   "metadata": {},
   "source": [
    "<b>8.65)</b> Suppose that a random sample of size 20 is taken from a normal distribution\n",
    "with unknown mean and known variance equal to 1, and the mean is found to\n",
    "be $\\bar{x}$ = 10. A normal distribution was used as the prior for the mean, and it was\n",
    "found that the posterior mean was 15 and the posterior standard deviation was\n",
    "0.1. What were the mean and standard deviation of the prior?"
   ]
  },
  {
   "cell_type": "markdown",
   "metadata": {},
   "source": [
    "<b>8.66)</b> Let the unknown probability that a basketball player makes a shot successfully\n",
    "be θ. Suppose your prior on θ is uniform on [0, 1] and that she then makes two\n",
    "shots in a row. Assume that the outcomes of the two shots are independent.\n",
    "\n",
    "a. What is the posterior density of θ ?\n",
    "\n",
    "b. What would you estimate the probability that she makes a third shot to be?"
   ]
  }
 ],
 "metadata": {
  "kernelspec": {
   "display_name": "Python 3",
   "language": "python",
   "name": "python3"
  },
  "language_info": {
   "codemirror_mode": {
    "name": "ipython",
    "version": 3
   },
   "file_extension": ".py",
   "mimetype": "text/x-python",
   "name": "python",
   "nbconvert_exporter": "python",
   "pygments_lexer": "ipython3",
   "version": "3.4.1"
  }
 },
 "nbformat": 4,
 "nbformat_minor": 0
}
