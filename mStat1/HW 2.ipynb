{
 "cells": [
  {
   "cell_type": "code",
   "execution_count": 1,
   "metadata": {
    "collapsed": false
   },
   "outputs": [
    {
     "name": "stdout",
     "output_type": "stream",
     "text": [
      "Populating the interactive namespace from numpy and matplotlib\n"
     ]
    }
   ],
   "source": [
    "%pylab inline\n",
    "from tools import repeat #my own personally written script\n",
    "from scipy.stats import norm, chi2, t"
   ]
  },
  {
   "cell_type": "markdown",
   "metadata": {},
   "source": [
    "#Homework #2"
   ]
  },
  {
   "cell_type": "markdown",
   "metadata": {},
   "source": [
    "<b>6.)</b> Suppose that X ∼ bin(n, p).\n",
    "\n",
    "a. Show that the mle of $p$ is $\\hat{p} = X/n$.\n",
    "\n",
    "$$p(x) = \\mathbb{P}(X = x) = {n \\choose X} p^X (1-p)^{n-X}$$\n",
    "\n",
    "$$l(p) = ln {n \\choose X} + X ~ ln (p) + (n - X) ~ ln (1 - p)  $$\n",
    "\n",
    "Taking the derivative and setting it to zero yields:\n",
    "\n",
    "$$0 = \\frac X {\\hat{p}} - \\frac {n - X} { 1 - \\hat {p}} ~~~~~~~ \\rightarrow ~~~~ X - \\hat{p} n = 0 ~~~~~~~~ \\rightarrow  ~~~~~ \\hat{p} = X/n$$\n",
    "\n",
    "Checking to make sure it is a maximum:\n",
    "\n",
    "$$\\frac {\\partial^2 l} {\\partial p^2}|_{p = X/n} = -X/p^2 - (n-X)/(1-p)^2 |_{p = X/n} = -n^2/X - (n-X)/(1-X/n)^2$$\n",
    "\n",
    "Which is clearly negative."
   ]
  },
  {
   "cell_type": "markdown",
   "metadata": {},
   "source": [
    "<b>7.)</b> Suppose that X follows a geometric distribution,\n",
    "\n",
    "$$P(X = k) = p(1 − p)^{k−1}$$\n",
    "\n",
    "and assume an i.i.d. sample of size n.\n",
    "\n",
    "a. Find the method of moments estimate of p.\n",
    "\n",
    "$$\\mu_1 = \\bar {X} = \\frac 1 n \\sum X_i$$\n",
    "\n",
    "$$\\mu_1 = \\mathbb{E}[x] = 1/p ~~~~~ \\rightarrow ~~~~~ \\hat p = 1/ {\\bar X}$$\n",
    "\n",
    "which we can verify by simulation:"
   ]
  },
  {
   "cell_type": "code",
   "execution_count": 2,
   "metadata": {
    "collapsed": false
   },
   "outputs": [
    {
     "data": {
      "text/plain": [
       "0.2773002052021519"
      ]
     },
     "execution_count": 2,
     "metadata": {},
     "output_type": "execute_result"
    }
   ],
   "source": [
    "@repeat(10000)\n",
    "def geom(p):\n",
    "    count = 0\n",
    "    while(True):\n",
    "        count += 1\n",
    "        if rand() < p:        \n",
    "            break\n",
    "    return count    \n",
    "    \n",
    "1/geom(0.275)    "
   ]
  },
  {
   "cell_type": "markdown",
   "metadata": {},
   "source": [
    "b. Find the mle of p.\n",
    "\n",
    "$$l(p) = \\sum \\ln \\left( p (1-p)^{X_i -1} \\right) = \\sum \\left[ \\ln(p) + (X_i -1) \\ln (1-p) \\right] $$\n",
    "\n",
    "Taking the derivative and setting it to zero yields:\n",
    "\n",
    "$$0 = \\frac n {\\hat{p}} - \\frac 1 {1-\\hat{p}} (\\bar{X} n - n) ~~~ \\rightarrow ~~~~ 0 = n(1-\\hat{p}) - \\hat{p} \\bar{X} n + n \\hat{p} = n - \\hat{p} \\bar{X} n$$\n",
    "\n",
    "$$\\rightarrow ~~~~~ \\hat{p} = 1/ {\\bar{X}}$$\n",
    "\n",
    "Checking to make sure it is a maximum:\n",
    "\n",
    "$$\\frac {\\partial^2 l} {\\partial p^2}|_{p = 1/ {\\bar{X}}} = -n/p^2 - (\\bar{X} n - n)/(1-p)^2 |_{p = 1/ {\\bar{X}}}$$\n",
    "\n",
    "Which is clearly negative."
   ]
  },
  {
   "cell_type": "markdown",
   "metadata": {},
   "source": [
    "<b>12.)</b> Suppose that you had to choose either the method of moments estimates\n",
    "or the maximum likelihood estimates in Example C of Section 8.4 and C of\n",
    "Section 8.5. Which would you choose and why?\n",
    "\n",
    "I would choose the method of moments because a closed form solution exists."
   ]
  },
  {
   "cell_type": "markdown",
   "metadata": {},
   "source": [
    "<b>16.)</b> Consider an i.i.d. sample of random variables with density function\n",
    "\n",
    "$$f (x|\\sigma) = \\frac 1 {2 \\sigma} \\text{exp} \\left ( − \\frac {|x|}{\\sigma} \\right)$$\n",
    "\n",
    "\n",
    "a. Find the method of moments estimate of σ .\n",
    "\n",
    "$$\\mathbb{E}[X] = \\int_{-\\infty}^{\\infty} x \\frac 1 {2 \\sigma} \\exp  \\left ( − \\frac {|x|}{\\sigma} \\right) dx = 0$$\n",
    "\n",
    "$$\\mathbb{E}[X^2] = \\int_{-\\infty}^{\\infty} x^2 \\frac 1 {2 \\sigma} \\exp  \\left ( − \\frac {|x|}{\\sigma} \\right) dx = \\int_{0}^{\\infty} x^2 \\frac 1 {\\sigma} \\exp  \\left ( − \\frac {x}{\\sigma} \\right) dx$$\n",
    "\n",
    "by integration of parts, we find:\n",
    "\n",
    "$$\\mathbb{E}[X^2] = 2 \\sigma^2$$\n",
    "\n",
    "Thus,\n",
    "\n",
    "$$\\hat{\\sigma}^2 = \\frac 1 {2n} \\sum X_i^2 $$\n",
    "\n",
    "\n",
    "b. Find the maximum likelihood estimate of σ .\n",
    "\n",
    "$$l(\\sigma) = \\sum \\left[- \\ln ( 2 \\sigma) - |X_i|/\\sigma \\right]$$\n",
    "\n",
    "Taking the derivative and setting it to zero yields\n",
    "\n",
    "$$0 = -n/\\sigma + \\frac 1 {\\sigma^2} \\sum |X_i| ~~~~~ \\rightarrow ~~~ \\hat{\\sigma} = \\frac 1 n \\sum |X_i| $$\n",
    "\n",
    "Checking to make sure it is a maximum:\n",
    "\n",
    "$$\\frac {\\partial^2 l} {\\partial \\sigma^2}|_{\\sigma = \\frac 1 n \\sum |X_i|} = n/\\sigma^2 - \\frac 2 {\\sigma^3}\\sum |X_i| |_{\\sigma = \\frac 1 n \\sum |X_i|} = n^3 / (\\sum |X_i|)^2 -  2n^3 / (\\sum |X_i|)^2$$\n",
    "\n",
    "Which is always negative"
   ]
  },
  {
   "cell_type": "markdown",
   "metadata": {},
   "source": [
    "<b>21.)</b> Suppose that $X_1 , X_2 , ... , X_n$ are i.i.d. with density function\n",
    "\n",
    "$$ f(x|\\theta ) = e^{−(x− \\theta )} ,~~~~ x ≥ \\theta$$\n",
    "\n",
    "\n",
    "and $f (x|\\theta) = 0$ otherwise.\n",
    "\n",
    "\n",
    "a. Find the method of moments estimate of θ .\n",
    "\n",
    "$$\\mu_1 = \\frac 1 n \\sum x_i = \\mathbb{E}[X] = \\int_{\\theta}^{\\infty}dx~ x~ e^{-(x-\\theta)} = 1 + \\theta$$\n",
    "\n",
    "$$\\rightarrow ~~~~~ \\hat{\\theta} = \\bar{X} - 1$$\n",
    "\n",
    "b. Find the mle of θ. (Hint: Be careful, and don’t differentiate before thinking.\n",
    "\n",
    "Recall that we are searching for the maximum of $\\Pi e^{-(x_i - \\theta)}$\n",
    "\n",
    "$$\\Pi e^{-(x_i - \\theta)} = e^{-\\sum x_i + n \\theta}$$\n",
    "\n",
    "Clearly then, the maximum is reached when $-\\sum x_i + n \\theta$ is as small as possible, but because $\\theta$ must be at least as big as all $x_i$, we therefore must have that \n",
    "\n",
    "$$ \\hat {\\theta} = \\min \\{X_i, ..., X_n \\}$$"
   ]
  },
  {
   "cell_type": "markdown",
   "metadata": {},
   "source": [
    "<b>26.)</b> In an effort to determine the size of an animal population, 100 animals are captured\n",
    "and tagged. Some time later, another 50 animals are captured, and it is found\n",
    "that 20 of them are tagged. How would you estimate the population size? What\n",
    "assumptions about the capture/recapture process do you need to make? (See\n",
    "Example I of Section 1.4.2.)"
   ]
  },
  {
   "cell_type": "code",
   "execution_count": 3,
   "metadata": {
    "collapsed": false
   },
   "outputs": [
    {
     "data": {
      "text/plain": [
       "[20.815, 20.228, 20.071, 19.698, 19.177]"
      ]
     },
     "execution_count": 3,
     "metadata": {},
     "output_type": "execute_result"
    }
   ],
   "source": [
    "@repeat(1000)\n",
    "def do_it(n):\n",
    "    tagged = np.random.choice(range(n),100, replace = False)\n",
    "    new_tagged = np.random.choice(range(n), 50, replace = False)\n",
    "    count = 0\n",
    "    for x in new_tagged:\n",
    "        if x in tagged:\n",
    "            count += 1\n",
    "    return count  \n",
    "\n",
    "[do_it(i) for i in [240,245,250,255,260]]"
   ]
  },
  {
   "cell_type": "markdown",
   "metadata": {},
   "source": [
    "Certainly, the first assumption you have to make is that each animal is equally likely to be captured both times. \n",
    "\n",
    "The way I would estimate the population size is by simulation, as I have done above. There we can see that a population of about 250 animals gives us close to the desired result. One could also estimate the population size with math, but that isn't the way I would do it."
   ]
  },
  {
   "cell_type": "markdown",
   "metadata": {},
   "source": [
    "<b>27.)</b> Suppose that certain electronic components have lifetimes that are exponentially\n",
    "distributed: f (t|τ ) = (1/τ ) exp(−t/τ ), t ≥ 0. Five new components are put on\n",
    "test, the first one fails at 100 days, and no further observations are recorded.\n",
    "\n",
    "a. What is the likelihood function of τ ?\n",
    "\n",
    "$$\\text{lik}(\\tau) = \\Pi \\frac 1 {\\tau} \\exp ( - t_i / \\tau ) = \\frac 1 {\\tau^5} \\exp ( - \\sum t_i / \\tau )$$\n",
    "\n",
    "however, since $t_i = t$ where $t$ is the time until the first fail, we can write\n",
    "\n",
    "$$\\text{lik}(\\tau) = \\frac 1 {\\tau^5} \\exp ( - 5t / \\tau )$$\n",
    "\n",
    "b. What is the mle of τ ?\n",
    "\n",
    "Taking the derivative and setting it to zero yields:\n",
    "\n",
    "$$0 = - \\frac 5 {\\tau^6}  + \\frac {5t} {\\tau^7} ~~~~~~ \\rightarrow ~~~~ \\hat {\\tau} = t$$\n",
    "\n",
    "c. What is the sampling distribution of the mle?\n",
    "\n",
    "Exponential?"
   ]
  },
  {
   "cell_type": "markdown",
   "metadata": {},
   "source": [
    "<b>32.)</b> The following 16 numbers came from normal random number generator on a\n",
    "computer:\n",
    "\n",
    "5.3299\n",
    "6.5941\n",
    "4.1547\n",
    "4.2537\n",
    "3.5281\n",
    "2.2799\n",
    "3.1502\n",
    "4.7433\n",
    "3.7032\n",
    "0.1077\n",
    "1.6070\n",
    "1.5977\n",
    "6.3923\n",
    "5.4920\n",
    "3.1181\n",
    "1.7220\n",
    "\n",
    "a. What would you guess the mean and variance (μ and σ 2 ) of the generating\n",
    "normal distribution were?"
   ]
  },
  {
   "cell_type": "code",
   "execution_count": 4,
   "metadata": {
    "collapsed": false
   },
   "outputs": [
    {
     "name": "stdout",
     "output_type": "stream",
     "text": [
      "mean 3.61086875\n",
      "variance 3.41809211962\n"
     ]
    }
   ],
   "source": [
    "x = [5.3299,6.5941,4.1547,4.2537,3.5281,2.2799,3.1502,4.7433,3.7032,.1077,1.6070,1.5977,6.3923,5.4920,3.1181,1.7220]\n",
    "n = len(x)\n",
    "mu = mean(x)\n",
    "var = (1/(len(x)-1))*sum((x-mu)**2)\n",
    "print(\"mean\", mu)\n",
    "print(\"variance\", var)"
   ]
  },
  {
   "cell_type": "markdown",
   "metadata": {},
   "source": [
    "b. Give 90%, 95%, and 99% confidence intervals for μ and $\\sigma^2$ .\n"
   ]
  },
  {
   "cell_type": "code",
   "execution_count": 5,
   "metadata": {
    "collapsed": false
   },
   "outputs": [
    {
     "name": "stdout",
     "output_type": "stream",
     "text": [
      "90% confidence interval for mu 2.80060523927 4.42113226073\n",
      "95% confidence interval for mu 2.6257083488 4.5960291512\n",
      "99% confidence interval for mu 2.24889194299 4.97284555701\n"
     ]
    }
   ],
   "source": [
    "print(\"90% confidence interval for mu\",\\\n",
    "      mu - t.ppf(1 - 0.1/2, n-1)*sqrt(var/n), mu + t.ppf(1 - 0.1/2, n-1)*sqrt(var/n))\n",
    "print(\"95% confidence interval for mu\",\\\n",
    "      mu - t.ppf(1 - 0.05/2, n-1)*sqrt(var/n), mu + t.ppf(1 - 0.05/2,n -1)*sqrt(var/n))\n",
    "print(\"99% confidence interval for mu\",\\\n",
    "      mu - t.ppf(1 - 0.01/2, n-1)*sqrt(var/n), mu + t.ppf(1 - 0.01/2, n-1)*sqrt(var/n))"
   ]
  },
  {
   "cell_type": "markdown",
   "metadata": {},
   "source": [
    "From the book, we know the following:\n",
    "    \n",
    "a 100(1 − α)% confidence interval for $\\sigma^2$ is\n",
    "\n",
    "$$\\left(\\frac {n \\hat{\\sigma}^2} {\\chi^2_{n-1}(\\alpha/2)} , \\frac {n \\hat{\\sigma}^2} {\\chi^2_{n-1}(1 -\\alpha/2)} \\right)$$\n",
    "  "
   ]
  },
  {
   "cell_type": "code",
   "execution_count": 6,
   "metadata": {
    "collapsed": false
   },
   "outputs": [
    {
     "name": "stdout",
     "output_type": "stream",
     "text": [
      "90% confidence interval for sigma squared 2.18794739467 7.53200609436\n",
      "95% confidence interval for sigma squared 1.98954788611 8.73335523809\n",
      "99% confidence interval for sigma squared 1.66729487829 11.8866501811\n"
     ]
    }
   ],
   "source": [
    "print(\"90% confidence interval for sigma squared\",\\\n",
    "      n*var/chi2.ppf(1 -0.1/2, n -1), n*var/chi2.ppf(0.1/2, n - 1))\n",
    "print(\"95% confidence interval for sigma squared\",\\\n",
    "      n*var/chi2.ppf(1 - 0.05/2, n -1), n*var/chi2.ppf(0.05/2, n -1))\n",
    "print(\"99% confidence interval for sigma squared\",\\\n",
    "      n*var/chi2.ppf(1 - 0.01/2, n -1), n*var/chi2.ppf(0.01/2, n -1))"
   ]
  },
  {
   "cell_type": "markdown",
   "metadata": {},
   "source": [
    "c. Give 90%, 95%, and 99% confidence intervals for σ ."
   ]
  },
  {
   "cell_type": "code",
   "execution_count": 7,
   "metadata": {
    "collapsed": false
   },
   "outputs": [
    {
     "name": "stdout",
     "output_type": "stream",
     "text": [
      "90% confidence interval for sigma 1.47917118505 2.74445005317\n",
      "95% confidence interval for sigma 1.41051334134 2.95522507402\n",
      "99% confidence interval for sigma 1.29123773113 3.44770215957\n"
     ]
    }
   ],
   "source": [
    "print(\"90% confidence interval for sigma\",\\\n",
    "      sqrt(n*var/chi2.ppf(1 -0.1/2, n -1)), sqrt(n*var/chi2.ppf(0.1/2, n - 1)))\n",
    "print(\"95% confidence interval for sigma\",\\\n",
    "      sqrt(n*var/chi2.ppf(1 - 0.05/2, n -1)), sqrt(n*var/chi2.ppf(0.05/2, n -1)))\n",
    "print(\"99% confidence interval for sigma\",\\\n",
    "      sqrt(n*var/chi2.ppf(1 - 0.01/2, n -1)), sqrt(n*var/chi2.ppf(0.01/2, n -1)))"
   ]
  },
  {
   "cell_type": "markdown",
   "metadata": {},
   "source": [
    "d. How much larger a sample do you think you would need to halve the length of the confidence interval for μ?"
   ]
  },
  {
   "cell_type": "markdown",
   "metadata": {},
   "source": [
    "You always must quadruple your sample size."
   ]
  },
  {
   "cell_type": "markdown",
   "metadata": {},
   "source": [
    "<b>52.)</b> Let $X_1 , . . . , X_n$ be i.i.d. random variables with the density function\n",
    "\n",
    "$$f (x| \\theta ) = (\\theta + 1)x^{\\theta} ,~~~~~~~ 0 ≤ x ≤ 1 $$\n",
    "\n",
    "a. Find the method of moments estimate of θ .\n",
    "\n",
    "$$\\mathbb{E}[X] = \\int (\\theta + 1) X^{\\theta + 1} dX = \\frac {\\theta + 1}{\\theta + 2}$$\n",
    "\n",
    "$$\\rightarrow ~~~~~ \\bar{X} = \\frac {\\hat{\\theta} + 1}{\\hat{\\theta} + 2} ~~~ \\rightarrow ~~~~~ \\hat{\\theta} = \\frac {1-2 \\bar{X}}{\\bar{X} -1}$$ \n",
    "\n",
    "b. Find the mle of θ."
   ]
  },
  {
   "cell_type": "markdown",
   "metadata": {
    "collapsed": true
   },
   "source": [
    "$$l(\\theta) = \\sum [ \\ln (\\theta + 1) +\\theta \\ln(X_i) ] =   n \\ln (\\theta + 1) +\\theta \\sum \\ln(X_i)$$\n",
    "\n",
    "taking the derivative and setting it to zero yields:\n",
    "\n",
    "$$0 = \\frac n {\\theta + 1} + \\sum \\ln(X_i) ~~~~ \\rightarrow ~~~~~~ \\hat{\\theta} = 1 - \\frac n {\\sum \\ln(X_i)}$$\n",
    "\n",
    "Checking the second derivative yields: $-n/(1+\\theta)^2$ which is always negative, so we know we have found the maximum."
   ]
  }
 ],
 "metadata": {
  "kernelspec": {
   "display_name": "Python 3",
   "language": "python",
   "name": "python3"
  },
  "language_info": {
   "codemirror_mode": {
    "name": "ipython",
    "version": 3
   },
   "file_extension": ".py",
   "mimetype": "text/x-python",
   "name": "python",
   "nbconvert_exporter": "python",
   "pygments_lexer": "ipython3",
   "version": "3.4.1"
  }
 },
 "nbformat": 4,
 "nbformat_minor": 0
}
