{
 "cells": [
  {
   "cell_type": "code",
   "execution_count": 16,
   "metadata": {
    "collapsed": false
   },
   "outputs": [
    {
     "name": "stdout",
     "output_type": "stream",
     "text": [
      "Populating the interactive namespace from numpy and matplotlib\n"
     ]
    }
   ],
   "source": [
    "%pylab inline"
   ]
  },
  {
   "cell_type": "markdown",
   "metadata": {},
   "source": [
    "#Homework #2"
   ]
  },
  {
   "cell_type": "markdown",
   "metadata": {},
   "source": [
    "<b>6.)</b> Suppose that X ∼ bin(n, p).\n",
    "\n",
    "a. Show that the mle of $p$ is $\\hat{p} = X/n$.\n",
    "\n",
    "$$p(x) = \\mathbb{P}(X = x) = {n \\choose X} p^X (1-p)^{n-X}$$\n",
    "\n",
    "$$l(p) = ln {n \\choose X} + X ~ ln (p) + (n - X) ~ ln (1 - p)  $$\n",
    "\n",
    "Taking the derivative and setting it to zero yields:\n",
    "\n",
    "$$0 = \\frac X {\\hat{p}} - \\frac {n - X} { 1 - \\hat {p}} ~~~~~~~ \\rightarrow ~~~~ X - \\hat{p} n = 0 ~~~~~~~~ \\rightarrow  ~~~~~ \\hat{p} = X/n$$"
   ]
  },
  {
   "cell_type": "markdown",
   "metadata": {},
   "source": [
    "<b>7.)</b> Suppose that X follows a geometric distribution,\n",
    "\n",
    "$$P(X = k) = p(1 − p)^{k−1}$$\n",
    "\n",
    "and assume an i.i.d. sample of size n.\n",
    "\n",
    "a. Find the method of moments estimate of p.\n",
    "\n",
    "$$\\mu_1 = \\bar {X} = \\frac 1 n \\sum X_i$$\n",
    "\n",
    "$$\\mu_1 = \\mathbb{E}[x] = 1/p ~~~~~ \\rightarrow ~~~~~ \\hat p = 1/ {\\bar X}$$\n",
    "\n",
    "which we can verify by simulation:"
   ]
  },
  {
   "cell_type": "code",
   "execution_count": 23,
   "metadata": {
    "collapsed": false
   },
   "outputs": [
    {
     "data": {
      "text/plain": [
       "0.27453295081742185"
      ]
     },
     "execution_count": 23,
     "metadata": {},
     "output_type": "execute_result"
    }
   ],
   "source": [
    "def geom(p):\n",
    "    count = 0\n",
    "    while(True):\n",
    "        count += 1\n",
    "        if rand() < p:        \n",
    "            break\n",
    "    return count    \n",
    "\n",
    "out = []\n",
    "for i in range(100000):\n",
    "    out.append(geom(0.275))\n",
    "    \n",
    "1/mean(out)    "
   ]
  },
  {
   "cell_type": "markdown",
   "metadata": {},
   "source": [
    "b. Find the mle of p.\n",
    "\n",
    "$$l(p) = \\sum \\ln \\left( p (1-p)^{X_i -1} \\right) = \\sum \\left[ \\ln(p) + (X_i -1) \\ln (1-p) \\right] $$\n",
    "\n",
    "Taking the derivative and setting it to zero yields:\n",
    "\n",
    "$$0 = \\frac n {\\hat{p}} - \\frac 1 {1-\\hat{p}} (\\bar{X} n - n) ~~~ \\rightarrow ~~~~ 0 = n(1-\\hat{p}) - \\hat{p} \\bar{X} n + n \\hat{p} = n - \\hat{p} \\bar{X} n$$\n",
    "\n",
    "$$\\rightarrow ~~~~~ \\hat{p} = 1/ {\\bar{X}}$$"
   ]
  },
  {
   "cell_type": "markdown",
   "metadata": {},
   "source": [
    "<b>12.)</b> Suppose that you had to choose either the method of moments estimates\n",
    "or the maximum likelihood estimates in Example C of Section 8.4 and C of\n",
    "Section 8.5. Which would you choose and why?\n",
    "\n",
    "I would choose the method of moments because a closed form solution exists."
   ]
  },
  {
   "cell_type": "markdown",
   "metadata": {},
   "source": [
    "<b>16.)</b> Consider an i.i.d. sample of random variables with density function\n",
    "\n",
    "$$f (x|\\sigma) = \\frac 1 {2 \\sigma} \\text{exp} \\left ( − \\frac {|x|}{\\sigma} \\right)$$\n",
    "\n",
    "\n",
    "a. Find the method of moments estimate of σ .\n",
    "\n",
    "$$\\mathbb{E}[X] = \\int_{-\\infty}^{\\infty} x \\frac 1 {2 \\sigma} \\exp  \\left ( − \\frac {|x|}{\\sigma} \\right) dx = 0$$\n",
    "\n",
    "$$\\mathbb{E}[X^2] = \\int_{-\\infty}^{\\infty} x^2 \\frac 1 {2 \\sigma} \\exp  \\left ( − \\frac {|x|}{\\sigma} \\right) dx = \\int_{0}^{\\infty} x^2 \\frac 1 {\\sigma} \\exp  \\left ( − \\frac {x}{\\sigma} \\right) dx$$\n",
    "\n",
    "by integration of parts, we find:\n",
    "\n",
    "$$\\mathbb{E}[X^2] = 2 \\sigma^2$$\n",
    "\n",
    "Thus,\n",
    "\n",
    "$$\\hat{\\sigma}^2 = \\frac 1 {2n} \\sum X_i^2 $$\n",
    "\n",
    "\n",
    "b. Find the maximum likelihood estimate of σ ."
   ]
  },
  {
   "cell_type": "markdown",
   "metadata": {},
   "source": [
    "21.) Suppose that $X_1 , X_2 , ... , X_n$ are i.i.d. with density function\n",
    "\n",
    "$$ f(x|\\theta ) = e^{−(x− \\theta )} ,~~~~ x ≥ \\theta$$\n",
    "\n",
    "\n",
    "and $f (x|\\theta) = 0$ otherwise.\n",
    "\n",
    "\n",
    "a. Find the method of moments estimate of θ .\n",
    "\n",
    "b. Find the mle of θ. (Hint: Be careful, and don’t differentiate before thinking."
   ]
  },
  {
   "cell_type": "markdown",
   "metadata": {},
   "source": [
    "26.) In an effort to determine the size of an animal population, 100 animals are captured\n",
    "and tagged. Some time later, another 50 animals are captured, and it is found\n",
    "that 20 of them are tagged. How would you estimate the population size? What\n",
    "assumptions about the capture/recapture process do you need to make? (See\n",
    "Example I of Section 1.4.2.)"
   ]
  },
  {
   "cell_type": "markdown",
   "metadata": {},
   "source": [
    "27.) Suppose that certain electronic components have lifetimes that are exponentially\n",
    "distributed: f (t|τ ) = (1/τ ) exp(−t/τ ), t ≥ 0. Five new components are put on\n",
    "test, the first one fails at 100 days, and no further observations are recorded.\n",
    "\n",
    "a. What is the likelihood function of τ ?\n",
    "\n",
    "b. What is the mle of τ ?\n",
    "\n",
    "c. What is the sampling distribution of the mle?"
   ]
  },
  {
   "cell_type": "markdown",
   "metadata": {},
   "source": [
    "32.) The following 16 numbers came from normal random number generator on a\n",
    "computer:\n",
    "\n",
    "5.3299\n",
    "6.5941\n",
    "4.1547\n",
    "4.2537\n",
    "3.5281\n",
    "2.2799\n",
    "3.1502\n",
    "4.7433\n",
    "3.7032\n",
    "0.1077\n",
    "1.6070\n",
    "1.5977\n",
    "6.3923\n",
    "5.4920\n",
    "3.1181\n",
    "1.7220\n",
    "\n",
    "a. What would you guess the mean and variance (μ and σ 2 ) of the generating\n",
    "normal distribution were?\n",
    "\n",
    "b. Give 90%, 95%, and 99% confidence intervals for μ and $\\sigma^2$ .\n",
    "\n",
    "c. Give 90%, 95%, and 99% confidence intervals for σ .\n",
    "\n",
    "d. How much larger a sample do you think you would need to halve the length of the confidence interval for μ?"
   ]
  },
  {
   "cell_type": "markdown",
   "metadata": {},
   "source": [
    "52.) Let $X_1 , . . . , X_n$ be i.i.d. random variables with the density function\n",
    "\n",
    "$$f (x| \\theta ) = (\\theta + 1)x^{\\theta} ,~~~~~~~ 0 ≤ x ≤ 1 $$\n",
    "\n",
    "a. Find the method of moments estimate of θ .\n",
    "\n",
    "b. Find the mle of θ."
   ]
  },
  {
   "cell_type": "code",
   "execution_count": null,
   "metadata": {
    "collapsed": true
   },
   "outputs": [],
   "source": []
  }
 ],
 "metadata": {
  "kernelspec": {
   "display_name": "Python 3",
   "language": "python",
   "name": "python3"
  },
  "language_info": {
   "codemirror_mode": {
    "name": "ipython",
    "version": 3
   },
   "file_extension": ".py",
   "mimetype": "text/x-python",
   "name": "python",
   "nbconvert_exporter": "python",
   "pygments_lexer": "ipython3",
   "version": "3.4.1"
  }
 },
 "nbformat": 4,
 "nbformat_minor": 0
}
