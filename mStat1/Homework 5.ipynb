{
 "cells": [
  {
   "cell_type": "markdown",
   "metadata": {},
   "source": [
    "#Homework #5"
   ]
  },
  {
   "cell_type": "markdown",
   "metadata": {},
   "source": [
    "<b>6.)</b> Suppose that X ∼ bin(n, p).\n",
    "\n",
    "<b>b.</b> Show that mle $\\hat{p}= X/n$ attains the Cram ́er-Rao lower bound.\n",
    "\n",
    "The lower-bound is achieved by \n",
    "\n",
    "$$\\frac 1 {nI(θ)}$$\n",
    "\n",
    "here, $I(θ) = \\partial^2_θ \\text{lik} (θ)$"
   ]
  },
  {
   "cell_type": "markdown",
   "metadata": {},
   "source": [
    "<b>16.)</b> Consider an i.i.d. sample of random variables with density function\n",
    "\n",
    "$$f (x| \\sigma) = \\frac 1 {2 \\sigma } \\text{exp}(- \\frac {|x|}{2 \\sigma} )$$\n",
    "\n",
    "<b>d.</b> Find a sufficient statistic for σ .\n",
    "\n",
    "We write the joint probability function\n",
    "\n",
    "$$f (x_1, ..., x_n| \\sigma) = \\frac 1 {(2 \\sigma)^n } \\text{exp}(- \\frac {1}{2 \\sigma} \\sum |x_i| )$$\n",
    "\n",
    "by the factorization theorem $\\sum |X_i|$ is sufficient for $\\sigma$"
   ]
  },
  {
   "cell_type": "markdown",
   "metadata": {},
   "source": [
    "<b>21.)</b> Suppose that $X_1 , X_2 , ... , X_n$ are i.i.d. with density function\n",
    "\n",
    "$$ f(x|\\theta ) = e^{−(x− \\theta )} ,~~~~ x ≥ \\theta$$\n",
    "\n",
    "\n",
    "and $f (x|\\theta) = 0$ otherwise.\n",
    "\n",
    "<b>c.</b> Find a sufficient statistic for θ .\n",
    "\n",
    "We write the joint probability function\n",
    "\n",
    "$$ f(x_1, ..., x_n|\\theta ) = e^{−(\\sum x_i − n\\theta )}$$\n",
    "\n",
    "by the factorization theorem $\\sum X_i$ is sufficient for $\\theta$."
   ]
  },
  {
   "cell_type": "markdown",
   "metadata": {},
   "source": [
    "<b>47.)</b> The Pareto distribution has been used in economics as a model for a density\n",
    "function with a slowly decaying tail:\n",
    "\n",
    "$$ f (x|x_0 , θ) = θ x_0^θ x^{ −θ −1} , ~~~~~ x ≥ x_0 , ~~~~ θ > 1 $$\n",
    "\n",
    "Assume that $x_0 > 0$ is given and that $X_1 , X_2 , . . . , X_n$ is an i.i.d. sample.\n",
    "\n",
    "<b>d.</b> Find a sufficient statistic for θ .\n",
    "\n",
    "We write the joint probability function\n",
    "\n",
    "$$ f (x_1,...,x_n|x_0 , θ) = θ^n x_0^{nθ} (\\prod x_i)^{ −θ −1} $$\n",
    "\n",
    "by the factorization theorem $\\prod X_i$ is sufficient for $\\theta$."
   ]
  },
  {
   "cell_type": "markdown",
   "metadata": {},
   "source": [
    "<b>52.</b> Let $X_1 , . . . , X_n$ be i.i.d. random variables with the density function\n",
    "\n",
    "$$f (x|θ ) = (θ + 1)x^θ , ~~~~~~~ 0 ≤ x ≤ 1$$\n",
    "\n",
    "<b>d.</b> Find a sufficient statistic for θ .\n",
    "\n",
    "We write the joint probability function\n",
    "\n",
    "$$f (x_1, ..., x_n|θ ) = (θ + 1)^n (\\prod x_i)^θ$$\n",
    "\n",
    "by the factorization theorem $\\prod X_i$ is sufficient for $\\theta$."
   ]
  },
  {
   "cell_type": "markdown",
   "metadata": {},
   "source": [
    "<b>53.</b> Let $X_1 , . . . , X_n$ be i.i.d. uniform on [0, θ ].\n",
    "\n",
    "a. Find the method of moments estimate of θ and its mean and variance.\n",
    "\n",
    "b. Find the mle of θ.\n",
    "\n",
    "c. Find the probability density of the mle, and calculate its mean and variance.\n",
    "Compare the variance, the bias, and the mean squared error to those of the\n",
    "method of moments estimate.\n",
    "\n",
    "d. Find a modification of the mle that renders it unbiased."
   ]
  },
  {
   "cell_type": "markdown",
   "metadata": {},
   "source": [
    "<b>69.</b> Use the factorization theorem (Theorem A in Section 8.8.1) to conclude that $T = \\sum X_i$ is a sufficient statistic when the $X_i$ are an i.i.d. sample from a geometric distribution.\n",
    "\n",
    "We write the joint probability function\n",
    "\n",
    "$$f(x_1, ..., x_n | \\theta) = \\theta^n(1- \\theta)^{\\sum x_i -n} $$\n",
    "\n",
    "by the factorization theorem $\\sum X_i$ is sufficient for $\\theta$"
   ]
  },
  {
   "cell_type": "markdown",
   "metadata": {},
   "source": [
    "<b>70</b> Use the factorization theorem to find a sufficient statistic for the exponential\n",
    "distribution.\n",
    "\n",
    "We write the joint probability function\n",
    "\n",
    "$$f(x_1, ..., x_n | \\theta) = \\frac 1 {\\theta^n} e^{\\sum x_i/\\theta}$$\n",
    "\n",
    "by the factorization theorem $\\sum X_i$ is sufficient for $\\theta$"
   ]
  },
  {
   "cell_type": "markdown",
   "metadata": {},
   "source": [
    "<b>71</b> Let $X_1 , . . . , X_n$ be an i.i.d. sample from a distribution with the density function\n",
    "\n",
    "$$f(x|θ) = \\frac {θ}{(1+x)^{θ+1}}, ~~~~~~~~~ 0< θ <\\infty ~~ and ~~~~ 0 < x <\\infty$$\n",
    "\n",
    "Find a sufficient statistic for θ.\n",
    "\n",
    "We write the joint probability function\n",
    "\n",
    "$$f(x_1, ..., x_n | \\theta) = \\theta^n \\left(\\prod (1 + x_i) \\right)^{-\\theta -1}$$\n",
    "\n",
    "by the factorization theorem $\\prod (1+ X_i)$ is sufficient for $\\theta$"
   ]
  },
  {
   "cell_type": "code",
   "execution_count": null,
   "metadata": {
    "collapsed": true
   },
   "outputs": [],
   "source": []
  }
 ],
 "metadata": {
  "kernelspec": {
   "display_name": "Python 3",
   "language": "python",
   "name": "python3"
  },
  "language_info": {
   "codemirror_mode": {
    "name": "ipython",
    "version": 3
   },
   "file_extension": ".py",
   "mimetype": "text/x-python",
   "name": "python",
   "nbconvert_exporter": "python",
   "pygments_lexer": "ipython3",
   "version": "3.4.1"
  }
 },
 "nbformat": 4,
 "nbformat_minor": 0
}
