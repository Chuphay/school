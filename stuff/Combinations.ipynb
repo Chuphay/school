{
 "metadata": {
  "name": ""
 },
 "nbformat": 3,
 "nbformat_minor": 0,
 "worksheets": [
  {
   "cells": [
    {
     "cell_type": "markdown",
     "metadata": {},
     "source": [
      "From [this](http://stackoverflow.com/questions/3025162/statistics-combinations-in-python)"
     ]
    },
    {
     "cell_type": "code",
     "collapsed": false,
     "input": [
      "from operator import mul    # or mul=lambda x,y:x*y\n",
      "from fractions import Fraction\n",
      "\n",
      "def nCk(n,k): \n",
      "    return int( reduce(mul, (Fraction(n-i, i+1) for i in range(k)), 1) )\n",
      "#Test - printing Pascal's triangle:\n",
      "for n in range(17):\n",
      "    print ' '.join('%5d'%nCk(n,k) for k in range(n+1)).center(100)\n",
      "    \n",
      "def choose(n, k):\n",
      "    \"\"\"\n",
      "    A fast way to calculate binomial coefficients by Andrew Dalke (contrib).\n",
      "    \"\"\"\n",
      "    if 0 <= k <= n:\n",
      "        ntok = 1\n",
      "        ktok = 1\n",
      "        for t in xrange(1, min(k, n - k) + 1):\n",
      "            ntok *= n\n",
      "            ktok *= t\n",
      "            n -= 1\n",
      "        return ntok // ktok\n",
      "    else:\n",
      "        return 0\n",
      "\n",
      "print choose(12, 5)    \n",
      "\n",
      "def comb(N,k): # from scipy.comb(), but MODIFIED!\n",
      "    if (k > N) or (N < 0) or (k < 0):\n",
      "        return 0L\n",
      "    N,k = map(long,(N,k))\n",
      "    top = N\n",
      "    val = 1L\n",
      "    while (top > (N-k)):\n",
      "        val *= top\n",
      "        top -= 1\n",
      "    n = 1L\n",
      "    while (n < k+1L):\n",
      "        val /= n\n",
      "        n += 1\n",
      "    return val\n",
      "\n",
      "print comb(12,5)\n",
      "\n",
      "from math import factorial\n",
      "\n",
      "def calculate_combinations(n, r):\n",
      "    return factorial(n) / factorial(r) / factorial(n-r)\n",
      "\n",
      "print calculate_combinations(12, 5)\n",
      "\n",
      "import itertools\n",
      "def choose(n,k):\n",
      "   return len(list(itertools.combinations(range(n),k)))\n",
      "\n",
      "print choose(12,5)"
     ],
     "language": "python",
     "metadata": {},
     "outputs": [
      {
       "output_type": "stream",
       "stream": "stdout",
       "text": [
        "                                                   1                                                \n",
        "                                                1     1                                             \n",
        "                                             1     2     1                                          \n",
        "                                          1     3     3     1                                       \n",
        "                                       1     4     6     4     1                                    \n",
        "                                    1     5    10    10     5     1                                 \n",
        "                                 1     6    15    20    15     6     1                              \n",
        "                              1     7    21    35    35    21     7     1                           \n",
        "                           1     8    28    56    70    56    28     8     1                        \n",
        "                        1     9    36    84   126   126    84    36     9     1                     \n",
        "                     1    10    45   120   210   252   210   120    45    10     1                  \n",
        "                  1    11    55   165   330   462   462   330   165    55    11     1               \n",
        "               1    12    66   220   495   792   924   792   495   220    66    12     1            \n",
        "            1    13    78   286   715  1287  1716  1716  1287   715   286    78    13     1         \n",
        "         1    14    91   364  1001  2002  3003  3432  3003  2002  1001   364    91    14     1      \n",
        "      1    15   105   455  1365  3003  5005  6435  6435  5005  3003  1365   455   105    15     1   \n",
        "    1    16   120   560  1820  4368  8008 11440 12870 11440  8008  4368  1820   560   120    16     1\n",
        "792\n",
        "792\n",
        "792\n",
        "792\n"
       ]
      }
     ],
     "prompt_number": 7
    },
    {
     "cell_type": "code",
     "collapsed": false,
     "input": [
      "from scipy.misc import comb\n",
      "print comb(12,5)"
     ],
     "language": "python",
     "metadata": {},
     "outputs": [
      {
       "output_type": "stream",
       "stream": "stdout",
       "text": [
        "792.0\n"
       ]
      }
     ],
     "prompt_number": 9
    }
   ],
   "metadata": {}
  }
 ]
}