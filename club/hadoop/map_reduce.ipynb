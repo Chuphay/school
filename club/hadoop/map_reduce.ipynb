{
 "cells": [
  {
   "cell_type": "code",
   "execution_count": 1,
   "metadata": {
    "collapsed": true
   },
   "outputs": [],
   "source": [
    "%load_ext rpy2.ipython      "
   ]
  },
  {
   "cell_type": "markdown",
   "metadata": {},
   "source": [
    "##Lists"
   ]
  },
  {
   "cell_type": "code",
   "execution_count": 12,
   "metadata": {
    "collapsed": false
   },
   "outputs": [
    {
     "data": {
      "text/plain": [
       "[1]  1  3  2 -7 -2  5\n"
      ]
     },
     "metadata": {},
     "output_type": "display_data"
    }
   ],
   "source": [
    "%%R\n",
    "myList <- c(1,3,2,-7,-2,5) #c is for concatenate, which means put together\n",
    "myList"
   ]
  },
  {
   "cell_type": "code",
   "execution_count": 13,
   "metadata": {
    "collapsed": false
   },
   "outputs": [
    {
     "data": {
      "text/plain": [
       " [1]  1  2  3  4  5  6  7  8  9 10\n"
      ]
     },
     "metadata": {},
     "output_type": "display_data"
    }
   ],
   "source": [
    "%%R\n",
    "myList2 <- 1:10\n",
    "myList2"
   ]
  },
  {
   "cell_type": "markdown",
   "metadata": {},
   "source": [
    "##For Loop"
   ]
  },
  {
   "cell_type": "code",
   "execution_count": 3,
   "metadata": {
    "collapsed": false
   },
   "outputs": [
    {
     "data": {
      "text/plain": [
       "[1] 1\n",
       "[1] 3\n",
       "[1] 2\n",
       "[1] -7\n",
       "[1] -2\n",
       "[1] 5\n"
      ]
     },
     "metadata": {},
     "output_type": "display_data"
    }
   ],
   "source": [
    "%%R\n",
    "for (i in myList){\n",
    "    print(i)\n",
    "}"
   ]
  },
  {
   "cell_type": "markdown",
   "metadata": {},
   "source": [
    "##User-defined Function"
   ]
  },
  {
   "cell_type": "code",
   "execution_count": 4,
   "metadata": {
    "collapsed": false
   },
   "outputs": [
    {
     "data": {
      "text/plain": [
       "[1] 13\n"
      ]
     },
     "metadata": {},
     "output_type": "display_data"
    }
   ],
   "source": [
    "%%R\n",
    "myFun <- function(x) {\n",
    "    x + 10 #note, returns last statement\n",
    "}\n",
    "myFun(3)"
   ]
  },
  {
   "cell_type": "markdown",
   "metadata": {},
   "source": [
    "##Put it together to make Map"
   ]
  },
  {
   "cell_type": "code",
   "execution_count": 5,
   "metadata": {
    "collapsed": false
   },
   "outputs": [
    {
     "data": {
      "text/plain": [
       "[1] 11\n",
       "[1] 13\n",
       "[1] 12\n",
       "[1] 3\n",
       "[1] 8\n",
       "[1] 15\n"
      ]
     },
     "metadata": {},
     "output_type": "display_data"
    }
   ],
   "source": [
    "%%R\n",
    "myMap1 <- function(ls, fn){\n",
    "    for (i in ls){\n",
    "        print(fn(i))\n",
    "    }\n",
    "    #no real last statement, so nothing returned :(\n",
    "}\n",
    "myMap1(myList, myFun)"
   ]
  },
  {
   "cell_type": "markdown",
   "metadata": {},
   "source": [
    "##A Much better Map"
   ]
  },
  {
   "cell_type": "code",
   "execution_count": 6,
   "metadata": {
    "collapsed": false
   },
   "outputs": [
    {
     "data": {
      "text/plain": [
       "[1] 11 13 12  3  8 15\n"
      ]
     },
     "metadata": {},
     "output_type": "display_data"
    }
   ],
   "source": [
    "%%R\n",
    "myMap2 <- function(ls, fn){\n",
    "    out <- c() #create an empty list\n",
    "    for (i in ls){\n",
    "        out <- c(out,fn(i)) #remember, c is concatenate, which means put together\n",
    "    } \n",
    "    out\n",
    "}\n",
    "myMap2(myList, myFun)"
   ]
  },
  {
   "cell_type": "markdown",
   "metadata": {},
   "source": [
    "##If Else Statements"
   ]
  },
  {
   "cell_type": "code",
   "execution_count": 7,
   "metadata": {
    "collapsed": false
   },
   "outputs": [
    {
     "data": {
      "text/plain": [
       "[1] FALSE\n",
       "[1] TRUE\n"
      ]
     },
     "metadata": {},
     "output_type": "display_data"
    }
   ],
   "source": [
    "%%R\n",
    "myNeg <- function(x){\n",
    "    if(x<0){\n",
    "        TRUE\n",
    "    } else {\n",
    "        FALSE\n",
    "    }\n",
    "}\n",
    "print(myNeg(12))\n",
    "print(myNeg(-11))"
   ]
  },
  {
   "cell_type": "markdown",
   "metadata": {},
   "source": [
    "##Filter"
   ]
  },
  {
   "cell_type": "code",
   "execution_count": 8,
   "metadata": {
    "collapsed": false
   },
   "outputs": [
    {
     "data": {
      "text/plain": [
       "[1] -7 -2\n"
      ]
     },
     "metadata": {},
     "output_type": "display_data"
    }
   ],
   "source": [
    "%%R\n",
    "myFilter <- function(ls, fn){\n",
    "    out <- c()\n",
    "    for (i in ls){\n",
    "        if(fn(i)){\n",
    "            out <- c(out,i)\n",
    "        }\n",
    "    }\n",
    "    out\n",
    "}\n",
    "myFilter(myList, myNeg)"
   ]
  },
  {
   "cell_type": "markdown",
   "metadata": {
    "collapsed": true
   },
   "source": [
    "##Reduce"
   ]
  },
  {
   "cell_type": "code",
   "execution_count": 9,
   "metadata": {
    "collapsed": false
   },
   "outputs": [
    {
     "data": {
      "text/plain": [
       "[1] 7\n"
      ]
     },
     "metadata": {},
     "output_type": "display_data"
    }
   ],
   "source": [
    "%%R\n",
    "myAdd <- function(x, y){\n",
    "    x + y\n",
    "}\n",
    "myAdd(3,4)"
   ]
  },
  {
   "cell_type": "code",
   "execution_count": 14,
   "metadata": {
    "collapsed": false
   },
   "outputs": [
    {
     "data": {
      "text/plain": [
       "[1] 55\n"
      ]
     },
     "metadata": {},
     "output_type": "display_data"
    }
   ],
   "source": [
    "%%R\n",
    "myReduce <- function(ls, fn, start){\n",
    "    out <- start\n",
    "    for (i in ls){\n",
    "        out <- fn(out, i)\n",
    "    }\n",
    "    out\n",
    "}\n",
    "myReduce(myList2, myAdd, 0)"
   ]
  },
  {
   "cell_type": "code",
   "execution_count": 16,
   "metadata": {
    "collapsed": false
   },
   "outputs": [
    {
     "data": {
      "text/plain": [
       "[1] 24\n"
      ]
     },
     "metadata": {},
     "output_type": "display_data"
    }
   ],
   "source": [
    "%%R\n",
    "myMultiply <- function(x, y){\n",
    "    x*y\n",
    "}\n",
    "myReduce(1:4, myMultiply, 1)"
   ]
  },
  {
   "cell_type": "markdown",
   "metadata": {},
   "source": [
    "##K-NN"
   ]
  },
  {
   "cell_type": "code",
   "execution_count": 28,
   "metadata": {
    "collapsed": false
   },
   "outputs": [
    {
     "data": {
      "text/plain": [
       "          x         y class\n",
       "1 0.6258172 0.8266077     1\n",
       "2 1.7564834 2.9897585     1\n",
       "3 2.4488762 1.5105021     1\n",
       "4 0.0321298 3.7568569     1\n",
       "5 0.1014568 1.4403699     1\n",
       "6 2.7872012 3.1938872     0\n"
      ]
     },
     "metadata": {},
     "output_type": "display_data"
    }
   ],
   "source": [
    "%%R\n",
    "data <- read.table(\"train.csv\", sep=\",\", col.names = c(\"x\",\"y\",\"class\"))\n",
    "head(data)"
   ]
  },
  {
   "cell_type": "code",
   "execution_count": 30,
   "metadata": {
    "collapsed": false
   },
   "outputs": [
    {
     "data": {
      "image/png": "[encoded data removed]"
     },
     "metadata": {},
     "output_type": "display_data"
    }
   ],
   "source": [
    "%%R\n",
    "plot(data$x, data$y, col = c(\"red\", \"blue\")[data$class+1])"
   ]
  },
  {
   "cell_type": "markdown",
   "metadata": {},
   "source": [
    "##Reading in data one line at a time"
   ]
  },
  {
   "cell_type": "code",
   "execution_count": 49,
   "metadata": {
    "collapsed": false
   },
   "outputs": [
    {
     "data": {
      "text/plain": [
       "[1] \"0.625817212971,0.826607668913,1\"\n",
       "[1] \"1.7564834036,2.98975845805,1\"\n",
       "[1] \"2.44887622103,1.51050206995,1\"\n",
       "[1] \"0.0321297976094,3.75685691547,1\"\n",
       "[1] \"0.101456759367,1.44036986123,1\"\n",
       "[1] \"2.78720124137,3.1938872313,0\"\n",
       "[1] \"0.461356776208,3.25590968967,1\"\n",
       "[1] \"3.6684362746,1.91000380572,0\"\n",
       "[1] \"0.857326465153,2.90975563282,1\"\n",
       "[1] \"3.73698449207,2.12256361515,0\"\n"
      ]
     },
     "metadata": {},
     "output_type": "display_data"
    }
   ],
   "source": [
    "%%R\n",
    "con  <- file(\"train.csv\", open = \"r\")\n",
    "for (i in 1:10){\n",
    "    line <- readLines(con, n = 1)\n",
    "    print(line)\n",
    "}\n",
    "close(con)"
   ]
  },
  {
   "cell_type": "code",
   "execution_count": 50,
   "metadata": {
    "collapsed": false
   },
   "outputs": [
    {
     "data": {
      "text/plain": [
       "[[1]]\n",
       "[1] \"0.625817212971\" \"0.826607668913\" \"1\"             \n",
       "\n",
       "[[1]]\n",
       "[1] \"1.7564834036\"  \"2.98975845805\" \"1\"            \n",
       "\n",
       "[[1]]\n",
       "[1] \"2.44887622103\" \"1.51050206995\" \"1\"            \n",
       "\n",
       "[[1]]\n",
       "[1] \"0.0321297976094\" \"3.75685691547\"   \"1\"              \n",
       "\n",
       "[[1]]\n",
       "[1] \"0.101456759367\" \"1.44036986123\"  \"1\"             \n",
       "\n",
       "[[1]]\n",
       "[1] \"2.78720124137\" \"3.1938872313\"  \"0\"            \n",
       "\n",
       "[[1]]\n",
       "[1] \"0.461356776208\" \"3.25590968967\"  \"1\"             \n",
       "\n",
       "[[1]]\n",
       "[1] \"3.6684362746\"  \"1.91000380572\" \"0\"            \n",
       "\n",
       "[[1]]\n",
       "[1] \"0.857326465153\" \"2.90975563282\"  \"1\"             \n",
       "\n",
       "[[1]]\n",
       "[1] \"3.73698449207\" \"2.12256361515\" \"0\"            \n",
       "\n"
      ]
     },
     "metadata": {},
     "output_type": "display_data"
    }
   ],
   "source": [
    "%%R\n",
    "con  <- file(\"train.csv\", open = \"r\")\n",
    "for (i in 1:10){\n",
    "    line <- strsplit(readLines(con, n = 1),\",\")\n",
    "    print(line)\n",
    "}\n",
    "close(con)"
   ]
  },
  {
   "cell_type": "code",
   "execution_count": 52,
   "metadata": {
    "collapsed": false
   },
   "outputs": [
    {
     "data": {
      "text/plain": [
       "[1] 0.6258172 0.8266077 1.0000000\n",
       "[1] 1.756483 2.989758 1.000000\n",
       "[1] 2.448876 1.510502 1.000000\n",
       "[1] 0.0321298 3.7568569 1.0000000\n",
       "[1] 0.1014568 1.4403699 1.0000000\n",
       "[1] 2.787201 3.193887 0.000000\n",
       "[1] 0.4613568 3.2559097 1.0000000\n",
       "[1] 3.668436 1.910004 0.000000\n",
       "[1] 0.8573265 2.9097556 1.0000000\n",
       "[1] 3.736984 2.122564 0.000000\n"
      ]
     },
     "metadata": {},
     "output_type": "display_data"
    }
   ],
   "source": [
    "%%R\n",
    "con  <- file(\"train.csv\", open = \"r\")\n",
    "for (i in 1:10){\n",
    "    line <- strsplit(readLines(con, n = 1),\",\")\n",
    "    x <- as.numeric(unlist(line))\n",
    "    print(x)\n",
    "}\n",
    "close(con)"
   ]
  },
  {
   "cell_type": "markdown",
   "metadata": {},
   "source": [
    "##Now that we can read in the data, line by line\n",
    "\n",
    "###Let's make a function to calculate distances"
   ]
  },
  {
   "cell_type": "code",
   "execution_count": 53,
   "metadata": {
    "collapsed": false
   },
   "outputs": [
    {
     "data": {
      "text/plain": [
       "[1] 5\n"
      ]
     },
     "metadata": {},
     "output_type": "display_data"
    }
   ],
   "source": [
    "%%R\n",
    "euclidean_distance <- function(x_1, x_2, y_1, y_2){\n",
    "    sqrt((x_2-x_1)^2 + (y_2 - y_1)^2)\n",
    "}\n",
    "euclidean_distance(0,4,0,3)"
   ]
  },
  {
   "cell_type": "code",
   "execution_count": 65,
   "metadata": {
    "collapsed": false
   },
   "outputs": [
    {
     "data": {
      "text/plain": [
       "         x        y class\n",
       "1 3.636761 2.552522     0\n"
      ]
     },
     "metadata": {},
     "output_type": "display_data"
    }
   ],
   "source": [
    "%%R\n",
    "test_data <- read.table(\"test.csv\", sep=\",\", col.names = c(\"x\",\"y\",\"class\"))\n",
    "test1 <- test_data[1,]\n",
    "test1"
   ]
  },
  {
   "cell_type": "code",
   "execution_count": 66,
   "metadata": {
    "collapsed": false
   },
   "outputs": [
    {
     "data": {
      "text/plain": [
       "[1] 3.470528 1.000000\n",
       "[1] 1.930446 1.000000\n",
       "[1] 1.580151 1.000000\n",
       "[1] 3.800499 1.000000\n",
       "[1] 3.706111 1.000000\n",
       "[1] 1.064472 0.000000\n",
       "[1] 3.252376 1.000000\n",
       "[1] 0.6432986 0.0000000\n",
       "[1] 2.802298 1.000000\n",
       "[1] 0.441485 0.000000\n"
      ]
     },
     "metadata": {},
     "output_type": "display_data"
    }
   ],
   "source": [
    "%%R\n",
    "con  <- file(\"train.csv\", open = \"r\")\n",
    "for (i in 1:10){\n",
    "    line <- strsplit(readLines(con, n = 1),\",\")\n",
    "    x <- as.numeric(unlist(line))\n",
    "    distance <- euclidean_distance(x[1],test1$x, x[2], test1$y)\n",
    "    print(c(distance, x[3]))\n",
    "}\n",
    "close(con)"
   ]
  },
  {
   "cell_type": "code",
   "execution_count": null,
   "metadata": {
    "collapsed": true
   },
   "outputs": [],
   "source": []
  }
 ],
 "metadata": {
  "kernelspec": {
   "display_name": "Python 3",
   "language": "python",
   "name": "python3"
  },
  "language_info": {
   "codemirror_mode": {
    "name": "ipython",
    "version": 3
   },
   "file_extension": ".py",
   "mimetype": "text/x-python",
   "name": "python",
   "nbconvert_exporter": "python",
   "pygments_lexer": "ipython3",
   "version": "3.4.1"
  }
 },
 "nbformat": 4,
 "nbformat_minor": 0
}
