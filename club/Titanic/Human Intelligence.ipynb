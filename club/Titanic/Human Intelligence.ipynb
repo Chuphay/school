{
 "cells": [
  {
   "cell_type": "code",
   "execution_count": 1,
   "metadata": {
    "collapsed": false
   },
   "outputs": [
    {
     "name": "stdout",
     "output_type": "stream",
     "text": [
      "Populating the interactive namespace from numpy and matplotlib\n"
     ]
    }
   ],
   "source": [
    "%pylab inline\n",
    "%load_ext rpy2.ipython"
   ]
  },
  {
   "cell_type": "markdown",
   "metadata": {},
   "source": [
    "##Step 1\n",
    "\n",
    "Get into teams, make sure that every team has a team leader\n",
    "\n",
    "##Step 2\n",
    "\n",
    "Load the data from the disk (hard drive) into memory (RAM)"
   ]
  },
  {
   "cell_type": "code",
   "execution_count": 2,
   "metadata": {
    "collapsed": false
   },
   "outputs": [],
   "source": [
    "%%R\n",
    "test <- read.table(\"test.csv\", sep=\",\", header = TRUE) \n",
    "train <- read.table(\"train.csv\", sep=\",\", header = TRUE)"
   ]
  },
  {
   "cell_type": "markdown",
   "metadata": {},
   "source": [
    "##Step 3\n",
    "\n",
    "Explore the data a little:\n",
    "\n",
    "###a) Show the first row of data in the training set"
   ]
  },
  {
   "cell_type": "code",
   "execution_count": 6,
   "metadata": {
    "collapsed": false
   },
   "outputs": [
    {
     "data": {
      "text/plain": [
       "  PassengerId Survived Pclass                    Name  Sex Age SibSp Parch\n",
       "1           1        0      3 Braund, Mr. Owen Harris male  22     1     0\n",
       "     Ticket Fare Cabin Embarked\n",
       "1 A/5 21171 7.25              S\n"
      ]
     },
     "metadata": {},
     "output_type": "display_data"
    }
   ],
   "source": [
    "%%R\n",
    "train[1,]"
   ]
  },
  {
   "cell_type": "markdown",
   "metadata": {},
   "source": [
    "###b) Find the length of each data set"
   ]
  },
  {
   "cell_type": "code",
   "execution_count": 9,
   "metadata": {
    "collapsed": false
   },
   "outputs": [
    {
     "data": {
      "text/plain": [
       "[1] 891\n"
      ]
     },
     "metadata": {},
     "output_type": "display_data"
    }
   ],
   "source": [
    "%%R\n",
    "length(train$Survived)"
   ]
  },
  {
   "cell_type": "code",
   "execution_count": 11,
   "metadata": {
    "collapsed": false
   },
   "outputs": [
    {
     "data": {
      "text/plain": [
       "[1] 418\n"
      ]
     },
     "metadata": {},
     "output_type": "display_data"
    }
   ],
   "source": [
    "%%R\n",
    "length(test$PassengerId) #Why can't we use Survived here?"
   ]
  },
  {
   "cell_type": "markdown",
   "metadata": {},
   "source": [
    "###c) Other things we should quickly explore?\n",
    "\n",
    "###d) Find the average number of people that survived from the train set\n",
    "\n",
    "Note there are several ways to do this.\n",
    "\n",
    "We can do a loop, we can use the built-in function mean, or we can simply do summary\n"
   ]
  },
  {
   "cell_type": "code",
   "execution_count": 13,
   "metadata": {
    "collapsed": false
   },
   "outputs": [
    {
     "data": {
      "text/plain": [
       "   Min. 1st Qu.  Median    Mean 3rd Qu.    Max. \n",
       " 0.0000  0.0000  0.0000  0.3838  1.0000  1.0000 \n"
      ]
     },
     "metadata": {},
     "output_type": "display_data"
    }
   ],
   "source": [
    "%%R\n",
    "summary(train$Survived)"
   ]
  },
  {
   "cell_type": "markdown",
   "metadata": {},
   "source": [
    "##Step 4\n",
    "\n",
    "Now that we see that over 60% of people died, we can try and make a prediction. Hoping that we will get a score of over 60%. Which is not too bad. \n",
    "\n",
    "Let's do that with a loop:"
   ]
  },
  {
   "cell_type": "code",
   "execution_count": 17,
   "metadata": {
    "collapsed": false
   },
   "outputs": [],
   "source": [
    "%%R\n",
    "first_prediction <- numeric(418) #Why are we using 418?\n",
    "\n",
    "for (i in 1:418){\n",
    "    first_prediction[i] <- 0 #Zero means did not survive, \n",
    "    #also recall that the way we access elements in a vector v, is by using v[i] \n",
    "    #where i is the element number you want to access\n",
    "}"
   ]
  },
  {
   "cell_type": "markdown",
   "metadata": {},
   "source": [
    "##Step 5\n",
    "\n",
    "Now that we have a first prediction, we are ready to submit this to Kaggle\n",
    "\n",
    "We first must make a csv file with the PassengerId of the test set and our predictions:"
   ]
  },
  {
   "cell_type": "code",
   "execution_count": 16,
   "metadata": {
    "collapsed": true
   },
   "outputs": [],
   "source": [
    "%%R\n",
    "my_solution <- data.frame(PassengerId = test$PassengerId, Survived = first_prediction)\n",
    "\n",
    "write.csv(my_solution, file = \"my_solution.csv\", row.names = FALSE)"
   ]
  },
  {
   "cell_type": "markdown",
   "metadata": {},
   "source": [
    "If it worked, you should now have a file on your computer called \"my_solution.csv\"\n",
    "\n",
    "Open it up and make sure it looks like this:\n",
    "\n",
    "```\n",
    "\"PassengerId\",\"Survived\"\n",
    "892,0\n",
    "893,0\n",
    "894,0\n",
    "895,0\n",
    ".\n",
    ".\n",
    ".```\n"
   ]
  },
  {
   "cell_type": "markdown",
   "metadata": {},
   "source": [
    "##Step 6\n",
    "\n",
    "Now we will submit our prediction to Kaggle\n",
    "\n",
    "https://www.kaggle.com/c/titanic\n",
    "    \n",
    "Then click on Make a submission: https://www.kaggle.com/c/titanic/submissions/attach\n",
    "\n",
    "and I just dragged and dropped"
   ]
  },
  {
   "cell_type": "markdown",
   "metadata": {},
   "source": [
    "##Step 7\n",
    "\n",
    "Let's be a little smarter about this, Let's use our human intelligence or human learning to make a better prediction\n",
    "\n",
    "I remember the Titanic movie and it looked like they were trying to save all the ladies,\n",
    "\n",
    "So let's say all the males died and all the females lived.\n",
    "\n",
    "Let's do this with a for loop again:"
   ]
  },
  {
   "cell_type": "code",
   "execution_count": 18,
   "metadata": {
    "collapsed": true
   },
   "outputs": [],
   "source": [
    "%%R\n",
    "second_prediction <- numeric(418)\n",
    "\n",
    "for (i in 1:418){\n",
    "    if(test$Sex[i] == \"female\"){\n",
    "        second_prediction[i] <- 1\n",
    "    } else {\n",
    "        second_prediction[i] <- 0\n",
    "    }\n",
    "}"
   ]
  },
  {
   "cell_type": "markdown",
   "metadata": {},
   "source": [
    "##Step 7\n",
    "\n",
    "Let's submit this to Kaggle again and see how we've improved our score:"
   ]
  },
  {
   "cell_type": "code",
   "execution_count": 19,
   "metadata": {
    "collapsed": true
   },
   "outputs": [],
   "source": [
    "%%R\n",
    "my_solution <- data.frame(PassengerId = test$PassengerId, Survived = second_prediction)\n",
    "\n",
    "write.csv(my_solution, file = \"my_solution.csv\", row.names = FALSE)"
   ]
  },
  {
   "cell_type": "markdown",
   "metadata": {},
   "source": [
    "Your Best Entry ↑\n",
    "\n",
    "Your submission scored 0.76555"
   ]
  },
  {
   "cell_type": "markdown",
   "metadata": {},
   "source": [
    "Not bad!\n",
    "\n",
    "##Step 8\n",
    "\n",
    "Work with your teams and try and do better\n",
    "\n",
    "Talk about it with your team for 5 minutes and then for the rest of the hour try to code up your solution and make a better score than 77%"
   ]
  }
 ],
 "metadata": {
  "kernelspec": {
   "display_name": "Python 3",
   "language": "python",
   "name": "python3"
  },
  "language_info": {
   "codemirror_mode": {
    "name": "ipython",
    "version": 3
   },
   "file_extension": ".py",
   "mimetype": "text/x-python",
   "name": "python",
   "nbconvert_exporter": "python",
   "pygments_lexer": "ipython3",
   "version": "3.4.1"
  }
 },
 "nbformat": 4,
 "nbformat_minor": 0
}
