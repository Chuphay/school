{
 "cells": [
  {
   "cell_type": "code",
   "execution_count": 1,
   "metadata": {
    "collapsed": false
   },
   "outputs": [
    {
     "name": "stdout",
     "output_type": "stream",
     "text": [
      "Populating the interactive namespace from numpy and matplotlib\n"
     ]
    }
   ],
   "source": [
    "%pylab inline\n",
    "%load_ext rpy2.ipython"
   ]
  },
  {
   "cell_type": "code",
   "execution_count": 7,
   "metadata": {
    "collapsed": false
   },
   "outputs": [],
   "source": [
    "%%R\n",
    "TitanicTest <- read.table(\"test.csv\", sep=\",\", header = TRUE) #at the end we will submit to kaggle to get tested\n",
    "#we can say you are not ready to use until your ready: its called data leaking\n",
    "#but we can first test on the training set itself\n",
    "TitanicTrain <- read.table(\"train.csv\", sep=\",\", header = TRUE)"
   ]
  },
  {
   "cell_type": "code",
   "execution_count": 8,
   "metadata": {
    "collapsed": false
   },
   "outputs": [
    {
     "data": {
      "text/plain": [
       "  PassengerId Survived Pclass                    Name  Sex Age SibSp Parch\n",
       "1           1        0      3 Braund, Mr. Owen Harris male  22     1     0\n",
       "     Ticket Fare Cabin Embarked\n",
       "1 A/5 21171 7.25              S\n"
      ]
     },
     "metadata": {},
     "output_type": "display_data"
    }
   ],
   "source": [
    "%%R\n",
    "TitanicTrain[1,]"
   ]
  },
  {
   "cell_type": "code",
   "execution_count": 14,
   "metadata": {
    "collapsed": false
   },
   "outputs": [
    {
     "data": {
      "text/plain": [
       "   Min. 1st Qu.  Median    Mean 3rd Qu.    Max. \n",
       " 0.0000  0.0000  0.0000  0.3838  1.0000  1.0000 \n"
      ]
     },
     "metadata": {},
     "output_type": "display_data"
    }
   ],
   "source": [
    "%%R\n",
    "summary(TitanicTrain$Survived)"
   ]
  },
  {
   "cell_type": "code",
   "execution_count": 16,
   "metadata": {
    "collapsed": false
   },
   "outputs": [],
   "source": [
    "%%R\n",
    "test_one <- TitanicTest\n",
    "\n",
    "# Initialize a Survived column to 0\n",
    "test_one$Survived <- 0\n",
    "\n",
    "# Set Survived to 1 if Sex equals \"female\"\n",
    "test_one$Survived[test_one$Sex == \"female\"] <- 1"
   ]
  },
  {
   "cell_type": "code",
   "execution_count": 18,
   "metadata": {
    "collapsed": false
   },
   "outputs": [
    {
     "data": {
      "text/plain": [
       "[1] 418\n"
      ]
     },
     "metadata": {},
     "output_type": "display_data"
    }
   ],
   "source": [
    "%%R\n",
    "#my_prediction <- predict(my_tree_two, test, type = \"class\")\n",
    "\n",
    "# Create a data frame with two columns: PassengerId & Survived. Survived contains your predictions\n",
    "my_solution <- data.frame(PassengerId = test_one$PassengerId, Survived = test_one$Survived)\n",
    "\n",
    "\n",
    "\n",
    "# Write your solution to a csv file with the name my_solution.csv\n",
    "write.csv(my_solution, file = \"my_solution.csv\", row.names = FALSE)\n",
    "\n",
    "# Check that your data frame has 418 entries\n",
    "nrow(my_solution)"
   ]
  },
  {
   "cell_type": "markdown",
   "metadata": {},
   "source": [
    "https://www.kaggle.com/c/titanic\n",
    "    \n",
    "Then click on Make a submission: https://www.kaggle.com/c/titanic/submissions/attach\n",
    "\n",
    "and I just dragged and dropped"
   ]
  },
  {
   "cell_type": "markdown",
   "metadata": {},
   "source": [
    "Your Best Entry ↑\n",
    "\n",
    "Your submission scored 0.76555"
   ]
  },
  {
   "cell_type": "code",
   "execution_count": null,
   "metadata": {
    "collapsed": true
   },
   "outputs": [],
   "source": []
  }
 ],
 "metadata": {
  "kernelspec": {
   "display_name": "Python 3",
   "language": "python",
   "name": "python3"
  },
  "language_info": {
   "codemirror_mode": {
    "name": "ipython",
    "version": 3
   },
   "file_extension": ".py",
   "mimetype": "text/x-python",
   "name": "python",
   "nbconvert_exporter": "python",
   "pygments_lexer": "ipython3",
   "version": "3.4.1"
  }
 },
 "nbformat": 4,
 "nbformat_minor": 0
}
