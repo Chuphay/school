{
 "cells": [
  {
   "cell_type": "code",
   "execution_count": 2,
   "metadata": {
    "collapsed": false
   },
   "outputs": [
    {
     "name": "stdout",
     "output_type": "stream",
     "text": [
      "Populating the interactive namespace from numpy and matplotlib\n"
     ]
    }
   ],
   "source": [
    "%pylab inline\n",
    "%load_ext rpy2.ipython"
   ]
  },
  {
   "cell_type": "code",
   "execution_count": 3,
   "metadata": {
    "collapsed": true
   },
   "outputs": [],
   "source": [
    "%%R\n",
    "test <- read.table(\"test.csv\", sep=\",\", header = TRUE) \n",
    "train <- read.table(\"train.csv\", sep=\",\", header = TRUE)"
   ]
  },
  {
   "cell_type": "code",
   "execution_count": 4,
   "metadata": {
    "collapsed": false
   },
   "outputs": [
    {
     "data": {
      "text/plain": [
       "  PassengerId Survived Pclass                    Name  Sex Age SibSp Parch\n",
       "1           1        0      3 Braund, Mr. Owen Harris male  22     1     0\n",
       "     Ticket Fare Cabin Embarked\n",
       "1 A/5 21171 7.25              S\n"
      ]
     },
     "metadata": {},
     "output_type": "display_data"
    }
   ],
   "source": [
    "%%R\n",
    "train[1,]"
   ]
  },
  {
   "cell_type": "code",
   "execution_count": 5,
   "metadata": {
    "collapsed": false
   },
   "outputs": [
    {
     "data": {
      "text/plain": [
       "  PassengerId Pclass             Name  Sex  Age SibSp Parch Ticket   Fare Cabin\n",
       "1         892      3 Kelly, Mr. James male 34.5     0     0 330911 7.8292      \n",
       "  Embarked\n",
       "1        Q\n"
      ]
     },
     "metadata": {},
     "output_type": "display_data"
    }
   ],
   "source": [
    "%%R\n",
    "test[1,]"
   ]
  },
  {
   "cell_type": "markdown",
   "metadata": {},
   "source": [
    "```\n",
    "VARIABLE DESCRIPTIONS:\n",
    "survival        Survival\n",
    "                (0 = No; 1 = Yes)\n",
    "pclass          Passenger Class\n",
    "                (1 = 1st; 2 = 2nd; 3 = 3rd)\n",
    "name            Name\n",
    "sex             Sex\n",
    "age             Age\n",
    "sibsp           Number of Siblings/Spouses Aboard\n",
    "parch           Number of Parents/Children Aboard\n",
    "ticket          Ticket Number\n",
    "fare            Passenger Fare\n",
    "cabin           Cabin\n",
    "embarked        Port of Embarkation\n",
    "                (C = Cherbourg; Q = Queenstown; S = Southampton)\n",
    "\n",
    "SPECIAL NOTES:\n",
    "Pclass is a proxy for socio-economic status (SES)\n",
    " 1st ~ Upper; 2nd ~ Middle; 3rd ~ Lower\n",
    "\n",
    "Age is in Years; Fractional if Age less than One (1)\n",
    " If the Age is Estimated, it is in the form xx.5\n",
    "\n",
    "With respect to the family relation variables (i.e. sibsp and parch)\n",
    "some relations were ignored.  The following are the definitions used\n",
    "for sibsp and parch.\n",
    "\n",
    "Sibling:  Brother, Sister, Stepbrother, or Stepsister of Passenger Aboard Titanic\n",
    "Spouse:   Husband or Wife of Passenger Aboard Titanic (Mistresses and Fiances Ignored)\n",
    "Parent:   Mother or Father of Passenger Aboard Titanic\n",
    "Child:    Son, Daughter, Stepson, or Stepdaughter of Passenger Aboard Titanic\n",
    "\n",
    "Other family relatives excluded from this study include cousins,\n",
    "nephews/nieces, aunts/uncles, and in-laws.  Some children travelled\n",
    "only with a nanny, therefore parch=0 for them.  As well, some\n",
    "travelled with very close friends or neighbors in a village, however,\n",
    "the definitions do not support such relations.\n",
    "```"
   ]
  },
  {
   "cell_type": "code",
   "execution_count": 6,
   "metadata": {
    "collapsed": false
   },
   "outputs": [
    {
     "data": {
      "text/plain": [
       "   Min. 1st Qu.  Median    Mean 3rd Qu.    Max. \n",
       "   0.00   30.92   60.29   84.15   93.50  512.30 \n",
       "   Min. 1st Qu.  Median    Mean 3rd Qu.    Max. \n",
       "   0.00   13.00   14.25   20.66   26.00   73.50 \n",
       "   Min. 1st Qu.  Median    Mean 3rd Qu.    Max. \n",
       "   0.00    7.75    8.05   13.68   15.50   69.55 \n"
      ]
     },
     "metadata": {},
     "output_type": "display_data"
    }
   ],
   "source": [
    "%%R\n",
    "print(summary(train[which(train$Pclass == 1),]$Fare))\n",
    "print(summary(train[which(train$Pclass == 2),]$Fare))\n",
    "print(summary(train[which(train$Pclass == 3),]$Fare))"
   ]
  },
  {
   "cell_type": "code",
   "execution_count": 7,
   "metadata": {
    "collapsed": false
   },
   "outputs": [
    {
     "data": {
      "text/plain": [
       "   Min. 1st Qu.  Median    Mean 3rd Qu.    Max. \n",
       " 0.0000  0.0000  1.0000  0.6296  1.0000  1.0000 \n",
       "   Min. 1st Qu.  Median    Mean 3rd Qu.    Max. \n",
       " 0.0000  0.0000  0.0000  0.4728  1.0000  1.0000 \n",
       "   Min. 1st Qu.  Median    Mean 3rd Qu.    Max. \n",
       " 0.0000  0.0000  0.0000  0.2424  0.0000  1.0000 \n"
      ]
     },
     "metadata": {},
     "output_type": "display_data"
    }
   ],
   "source": [
    "%%R\n",
    "print(summary(train[which(train$Pclass == 1),]$Sur))\n",
    "print(summary(train[which(train$Pclass == 2),]$Sur))\n",
    "print(summary(train[which(train$Pclass == 3),]$Sur))"
   ]
  },
  {
   "cell_type": "code",
   "execution_count": 8,
   "metadata": {
    "collapsed": false
   },
   "outputs": [],
   "source": [
    "%%R \n",
    "library(rpart)"
   ]
  },
  {
   "cell_type": "code",
   "execution_count": 9,
   "metadata": {
    "collapsed": false
   },
   "outputs": [
    {
     "data": {
      "text/plain": [
       "NULL\n"
      ]
     },
     "metadata": {},
     "output_type": "display_data"
    }
   ],
   "source": [
    "%%R\n",
    "#?rpart"
   ]
  },
  {
   "cell_type": "markdown",
   "metadata": {},
   "source": [
    "Or google it, I found this site: http://www.statmethods.net/advstats/cart.html"
   ]
  },
  {
   "cell_type": "markdown",
   "metadata": {},
   "source": [
    "<b>formula:</b> The variable of interest, and the variables used for prediction. \n",
    "\n",
    "You write this down as formula = Survived ~ Sex + Age.\n",
    "\n",
    "<b>data:</b> The data set used to build the decision tree (here train).\n",
    "\n",
    "<b>method:</b> Type of prediction you want. Here you predict a categorical variable (dead or alive), so you're classifying: method = \"class\"."
   ]
  },
  {
   "cell_type": "code",
   "execution_count": 10,
   "metadata": {
    "collapsed": true
   },
   "outputs": [],
   "source": [
    "%%R\n",
    "my_tree <- rpart(Survived ~ Sex + Age, \n",
    "                 data = train, \n",
    "                 method =\"class\")"
   ]
  },
  {
   "cell_type": "code",
   "execution_count": 11,
   "metadata": {
    "collapsed": false
   },
   "outputs": [
    {
     "data": {
      "image/png": "[encoded data removed]"
     },
     "metadata": {},
     "output_type": "display_data"
    }
   ],
   "source": [
    "%%R\n",
    "plot(my_tree)\n",
    "text(my_tree)"
   ]
  },
  {
   "cell_type": "code",
   "execution_count": 12,
   "metadata": {
    "collapsed": false
   },
   "outputs": [
    {
     "data": {
      "text/plain": [
       "NULL\n"
      ]
     },
     "metadata": {},
     "output_type": "display_data"
    }
   ],
   "source": [
    "%%R\n",
    "#install.packages(\"rattle\")\n",
    "#library(rpart.plot)\n",
    "#library(RColorBrewer)"
   ]
  },
  {
   "cell_type": "code",
   "execution_count": 13,
   "metadata": {
    "collapsed": false
   },
   "outputs": [
    {
     "data": {
      "text/plain": [
       "NULL\n"
      ]
     },
     "metadata": {},
     "output_type": "display_data"
    }
   ],
   "source": [
    "%%R\n",
    "#library(rattle)"
   ]
  },
  {
   "cell_type": "markdown",
   "metadata": {},
   "source": [
    "To send a submission to Kaggle you need to predict the survival rates for the observations in the test set. In the last exercise of the previous chapter we created rather amateuristic predictions based on a single subset or none at all. Luckily, with our decision tree we can make use of some simple functions to \"generate\" our answer without having to manually perform subsetting.\n",
    "\n",
    "First you make use of the rpart predict() function. You provide it the model (my_tree_two), the dataset for which predictions need to be made (test), and the type of prediction (class). You can check out the documentation of predict() by running ?predict in the console.\n",
    "\n",
    "Next, you need to make sure your output is in line with the submission requirements of Kaggle: a csv file with exactly 418 entries and two columns: PassengerId and Survived. So you need to make a new data frame using data.frame(), and create a csv file using write.csv()."
   ]
  },
  {
   "cell_type": "code",
   "execution_count": 14,
   "metadata": {
    "collapsed": true
   },
   "outputs": [],
   "source": [
    "%%R\n",
    "# Make your prediction using the test set\n",
    "my_prediction <- predict(my_tree, test, type = \"class\")\n",
    "\n",
    "# Create a data frame with two columns: PassengerId & Survived. Survived contains your predictions\n",
    "my_solution <- data.frame(PassengerId = test$PassengerId, Survived = my_prediction)\n",
    "\n",
    "# Check that your data frame has 418 entries\n",
    "nrow(my_solution)\n",
    "\n",
    "# Write your solution to a csv file with the name my_solution.csv\n",
    "write.csv(my_solution, file = \"my_solution.csv\", row.names = FALSE)"
   ]
  },
  {
   "cell_type": "markdown",
   "metadata": {},
   "source": [
    "Now we will submit our prediction to Kaggle\n",
    "\n",
    "https://www.kaggle.com/c/titanic\n",
    "    \n",
    "Then click on Make a submission: https://www.kaggle.com/c/titanic/submissions/attach\n",
    "\n",
    "and I just dragged and dropped"
   ]
  },
  {
   "cell_type": "code",
   "execution_count": 15,
   "metadata": {
    "collapsed": false
   },
   "outputs": [
    {
     "data": {
      "image/png": "[encoded data removed]"
     },
     "metadata": {},
     "output_type": "display_data"
    }
   ],
   "source": [
    "%%R\n",
    "my_tree_two <- rpart(Survived ~ Pclass + Sex + Age + SibSp + Parch + Fare + Embarked, \n",
    "                     data = train, method = \"class\")\n",
    "\n",
    "# Visualize the decision tree using plot() and text()\n",
    "plot(my_tree_two)\n",
    "text(my_tree_two)\n",
    "\n",
    "# Load in the packages to create a fancified version of your tree\n",
    "#library(rattle)\n",
    "#library(rpart.plot)\n",
    "#library(RColorBrewer)\n",
    "\n",
    "# Time to plot your fancy tree\n",
    "#fancyRpartPlot(my_tree_two)"
   ]
  },
  {
   "cell_type": "markdown",
   "metadata": {},
   "source": [
    "Above, you see the decision tree you just created. \n",
    "\n",
    "Looks nice, doesn't it? It's a very clear graph, that is easy to read and to interpret. Also, you see that thanks to the algorithm we can easily take into account more variables as opposed to creating the segments manually.\n",
    "\n",
    "\n",
    "Based on your decision tree, what variables play the most important role to determine whether or not a passenger will survive?"
   ]
  },
  {
   "cell_type": "code",
   "execution_count": 16,
   "metadata": {
    "collapsed": false
   },
   "outputs": [],
   "source": [
    "%%R\n",
    "# Make your prediction using the test set\n",
    "my_prediction <- predict(my_tree_two, test, type = \"class\")\n",
    "\n",
    "# Create a data frame with two columns: PassengerId & Survived. Survived contains your predictions\n",
    "my_solution <- data.frame(PassengerId = test$PassengerId, Survived = my_prediction)\n",
    "\n",
    "# Check that your data frame has 418 entries\n",
    "nrow(my_solution)\n",
    "\n",
    "# Write your solution to a csv file with the name my_solution.csv\n",
    "write.csv(my_solution, file = \"my_solution2.csv\", row.names = FALSE)"
   ]
  },
  {
   "cell_type": "markdown",
   "metadata": {},
   "source": [
    "If you submitted the solution of the previous exercise, you got a result that outperformes a solution using purely gender. Hurray!\n",
    "\n",
    "Maybe we can improve even more by making a more complex model? In rpart, the depth of our model is defined by two parameters:\n",
    "\n",
    "the cp parameter determines when the splitting up of the decision tree stops.\n",
    "\n",
    "the minsplit parameter monitors the amount of observations in a bucket. If a certain threshold is not reached (e.g minimum 10 passengers) no further splitting can be done.\n",
    "\n",
    "Stated otherwise, if we set cp to zero (= no stopping of splits) and minsplit to 2 (= smallest bucket possible) we will create a super model! Or not? You can see the visualization by typing fancyRpartPlot(super_model). Looking complex, right?"
   ]
  },
  {
   "cell_type": "code",
   "execution_count": 17,
   "metadata": {
    "collapsed": true
   },
   "outputs": [],
   "source": [
    "%%R\n",
    "my_tree_three <- rpart(Survived ~ Pclass + Sex + Age + SibSp + Parch + Fare + Embarked, \n",
    "                       data=train, method=\"class\", control=rpart.control(minsplit=50, cp=0))"
   ]
  },
  {
   "cell_type": "markdown",
   "metadata": {},
   "source": [
    "However, if you submit this solution to Kaggle your score will be lower than the score of a simple model based on e.g. gender. Why? Because you went too far when setting the rules for the decisions trees. You created very specific rules based on the data in the training set that are hence only relevant for the training set but that cannot be generalized to unknows sets. You overfitted. So when creating decision trees, always be aware of this danger!"
   ]
  },
  {
   "cell_type": "markdown",
   "metadata": {},
   "source": [
    "Data Science is an art that benefits from a human element. Enter feature engineering: creatively engineering your own features by combining the different existing variables.\n",
    "\n",
    "While feature engineering is a discipline in itself, too broad to be covered here in detail, you will have a look at a simple example by creating your own new predictive attribute: family_size.\n",
    "\n",
    "A valid assumption is that larger families need more time to get together on a sinking ship, and hence have less chance of surviving. Family size is determined by the variables SibSp and Parch, which indicate the number of family members a certain passenger is traveling with. So when doing feature engineering, you add a new variable family_size, which is the sum of SibSp and Parch plus one (the observation itself), to the test and train set."
   ]
  },
  {
   "cell_type": "code",
   "execution_count": 18,
   "metadata": {
    "collapsed": true
   },
   "outputs": [],
   "source": [
    "%%R\n",
    "train_two <- train\n",
    "train_two$family_size <- train$SibSp + train$Parch + 1\n",
    "\n",
    "# Create a new decision tree my_tree_three\n",
    "my_tree_four <- rpart(Survived ~ Pclass + Sex + Age + SibSp + Parch + Fare + Embarked + family_size, \n",
    "                      data = train_two, method=\"class\")"
   ]
  },
  {
   "cell_type": "code",
   "execution_count": 21,
   "metadata": {
    "collapsed": false
   },
   "outputs": [
    {
     "data": {
      "image/png": "[encoded data removed]"
     },
     "metadata": {},
     "output_type": "display_data"
    }
   ],
   "source": [
    "%%R\n",
    "Title_train <- character(nrow(train))\n",
    "Title_test <- character(nrow(test))\n",
    "for (i in 1:nrow(test)){\n",
    "    x <- strsplit(as.character(test$Name[i]), split = \", \")\n",
    "    y <- strsplit(x[[1]][2], split = \" \")\n",
    "    Title_test[i] <- (y[[1]][1])\n",
    "}\n",
    "for (i in 1:nrow(train)){\n",
    "    x <- strsplit(as.character(train$Name[i]), split = \", \")\n",
    "    y <- strsplit(x[[1]][2], split = \" \")\n",
    "    Title_train[i] <- (y[[1]][1])\n",
    "}\n",
    "train$Title <- Title_train\n",
    "test$Title <- Title_test\n",
    "\n",
    "my_tree_five <- rpart(Survived ~ Title +Pclass + Sex + Age + SibSp + Parch + Fare + Embarked , \n",
    "                      data = train, method=\"class\")\n",
    "plot(my_tree_five)\n",
    "text(my_tree_five)"
   ]
  },
  {
   "cell_type": "code",
   "execution_count": null,
   "metadata": {
    "collapsed": true
   },
   "outputs": [],
   "source": []
  }
 ],
 "metadata": {
  "kernelspec": {
   "display_name": "Python 3",
   "language": "python",
   "name": "python3"
  },
  "language_info": {
   "codemirror_mode": {
    "name": "ipython",
    "version": 3
   },
   "file_extension": ".py",
   "mimetype": "text/x-python",
   "name": "python",
   "nbconvert_exporter": "python",
   "pygments_lexer": "ipython3",
   "version": "3.4.1"
  }
 },
 "nbformat": 4,
 "nbformat_minor": 0
}
