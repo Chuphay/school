{
 "metadata": {
  "name": "",
  "signature": "sha256:caabf15eff06fcdfa3176416aa38b04493f986751eb677e379059c244e70c6d6"
 },
 "nbformat": 3,
 "nbformat_minor": 0,
 "worksheets": [
  {
   "cells": [
    {
     "cell_type": "code",
     "collapsed": false,
     "input": [
      "%pylab inline\n",
      "%load_ext rpy2.ipython\n",
      "import re\n",
      "from IPython.core.display import HTML\n",
      "html = \"\"\"<style> b {color:red}</style>\"\"\"\n",
      "HTML(html)"
     ],
     "language": "python",
     "metadata": {},
     "outputs": [
      {
       "output_type": "stream",
       "stream": "stdout",
       "text": [
        "Populating the interactive namespace from numpy and matplotlib\n",
        "The rpy2.ipython extension is already loaded. To reload it, use:\n",
        "  %reload_ext rpy2.ipython\n"
       ]
      },
      {
       "html": [
        "<style> b {color:red}</style>"
       ],
       "metadata": {},
       "output_type": "pyout",
       "prompt_number": 34,
       "text": [
        "<IPython.core.display.HTML at 0xac9cffac>"
       ]
      }
     ],
     "prompt_number": 34
    },
    {
     "cell_type": "heading",
     "level": 1,
     "metadata": {},
     "source": [
      "Take Home Test #1"
     ]
    },
    {
     "cell_type": "code",
     "collapsed": false,
     "input": [
      "s = \"\"\"31\tA\tA-\n",
      "33\tA\tA\n",
      "33\tA\tA\n",
      "33\tA\tA\n",
      "31\tA\tA\n",
      "30\tA\tA\n",
      "34\tA\tA\n",
      "32\tA\tA-\n",
      "35\tA\tA\n",
      "33\tA\tA-\n",
      "34\tA-\tA\n",
      "32\tA-\tA-\n",
      "33\tA-\tA\n",
      "30\tA-\tA-\n",
      "35\tA-\tA-\n",
      "31\tA-\tA-\n",
      "34\tA-\tA\n",
      "27\tB+\tA-\n",
      "30\tB+\tB+\n",
      "28\tB+\tB+\n",
      "30\tB+\tB \n",
      "30\tB\tB-\n",
      "35\tB\tB\n",
      "29\tB\tB-\n",
      "36\tA\tA-\n",
      "36\tA\tA\n",
      "32\tA\tA\n",
      "33\tA\tA\n",
      "35\tA\tA\n",
      "36\tA\tA\n",
      "35\tA\tA\n",
      "32\tA\tA-\n",
      "35\tA\tA\n",
      "35\tA\tA-\n",
      "34\tA-\tA\n",
      "31\tA-\tA-\n",
      "34\tA-\tA\n",
      "35\tA-\tA-\n",
      "33\tA-\tA-\n",
      "34\tA-\tA-\n",
      "32\tA-\tA\n",
      "28\tB+\tA-\n",
      "30\tB+\tB+\n",
      "28\tB+\tB+\n",
      "30\tB+\tB \n",
      "28\tB\tB-\n",
      "28\tB\tB\n",
      "30\tB\tB-\n",
      "\"\"\"\n",
      "s = re.sub(\"B-\",\"2.7\",s)\n",
      "s = re.sub(\"B\\+\",\"3.3\",s)\n",
      "s = re.sub(\"B\",\"3.0\",s)\n",
      "s = re.sub(\"A-\",\"3.7\",s)\n",
      "s = re.sub(\"A\",\"4.0\",s)\n",
      "x = [float(i) for i in s.split()]"
     ],
     "language": "python",
     "metadata": {},
     "outputs": [],
     "prompt_number": 14
    },
    {
     "cell_type": "heading",
     "level": 3,
     "metadata": {},
     "source": [
      "1. The regression model."
     ]
    },
    {
     "cell_type": "markdown",
     "metadata": {},
     "source": [
      "<b>a.</b> Fit the model Yi = \u03b20 + \u03b21GP1i + \u03b22GP2i + \u000fi (where the usual assumptions\n",
      "apply). Give the resulting least squares line and interpret the terms, where appropriate."
     ]
    },
    {
     "cell_type": "code",
     "collapsed": false,
     "input": [
      "%%R -i x\n",
      "data <- matrix(x, ncol=3, byrow = T)\n",
      "fit <- lm(data[,1] ~ data[,2] + data[,3])\n",
      "summary(fit)"
     ],
     "language": "python",
     "metadata": {},
     "outputs": [
      {
       "metadata": {},
       "output_type": "display_data",
       "text": [
        "\n",
        "Call:\n",
        "lm(formula = data[, 1] ~ data[, 2] + data[, 3])\n",
        "\n",
        "Residuals:\n",
        "    Min      1Q  Median      3Q     Max \n",
        "-3.6696 -1.2884 -0.3269  1.3603  5.9343 \n",
        "\n",
        "Coefficients:\n",
        "            Estimate Std. Error t value Pr(>|t|)    \n",
        "(Intercept)  15.2538     2.9569   5.159 5.41e-06 ***\n",
        "data[, 2]     4.2042     1.6645   2.526   0.0151 *  \n",
        "data[, 3]     0.3998     1.4144   0.283   0.7787    \n",
        "---\n",
        "Signif. codes:  0 \u2018***\u2019 0.001 \u2018**\u2019 0.01 \u2018*\u2019 0.05 \u2018.\u2019 0.1 \u2018 \u2019 1\n",
        "\n",
        "Residual standard error: 1.956 on 45 degrees of freedom\n",
        "Multiple R-squared:  0.4259,\tAdjusted R-squared:  0.4003 \n",
        "F-statistic: 16.69 on 2 and 45 DF,  p-value: 3.785e-06\n",
        "\n"
       ]
      }
     ],
     "prompt_number": 35
    },
    {
     "cell_type": "markdown",
     "metadata": {},
     "source": [
      "$\\hat{Y} = 15.2538 + 4.204*GP1 + 0.39978*GP2$ "
     ]
    },
    {
     "cell_type": "markdown",
     "metadata": {},
     "source": [
      "<b>b.</b> Give and interpret the joint 95% confidence interval for \u03b20, \u03b21, and \u03b22 in the\n",
      "model."
     ]
    },
    {
     "cell_type": "code",
     "collapsed": false,
     "input": [
      "%%R\n",
      "confint(fit, level=1-0.05/3)"
     ],
     "language": "python",
     "metadata": {},
     "outputs": [
      {
       "metadata": {},
       "output_type": "display_data",
       "text": [
        "                0.833 %  99.167 %\n",
        "(Intercept)  7.90051983 22.607026\n",
        "data[, 2]    0.06497473  8.343397\n",
        "data[, 3]   -3.11762851  3.917187\n"
       ]
      }
     ],
     "prompt_number": 38
    },
    {
     "cell_type": "markdown",
     "metadata": {},
     "source": [
      "My interpretation is that ..."
     ]
    },
    {
     "cell_type": "markdown",
     "metadata": {},
     "source": [
      "<b>c.</b> Are the grades predictive of the standardized score? If so, which grades?\n",
      "\n",
      "Yes."
     ]
    },
    {
     "cell_type": "markdown",
     "metadata": {},
     "source": [
      "<b>d.</b>  Give the plot(s) associated with the test of normality and then test this model\n",
      "for the assumption of normality."
     ]
    },
    {
     "cell_type": "code",
     "collapsed": false,
     "input": [
      "%%R\n",
      "par(mfrow=c(2,2))\n",
      "qqnorm(fit$res)\n",
      "plot(fit$fit, fit$res)\n",
      "plot(data[,2], fit$res)\n",
      "plot(data[,3], fit$res)"
     ],
     "language": "python",
     "metadata": {},
     "outputs": [
      {
       "metadata": {},
       "output_type": "display_data",
       "png": "[encoded data removed]"
      }
     ],
     "prompt_number": 41
    },
    {
     "cell_type": "code",
     "collapsed": false,
     "input": [
      "%%R\n",
      "shapiro.test(fit$res)"
     ],
     "language": "python",
     "metadata": {},
     "outputs": [
      {
       "metadata": {},
       "output_type": "display_data",
       "text": [
        "\n",
        "\tShapiro-Wilk normality test\n",
        "\n",
        "data:  fit$res\n",
        "W = 0.9676, p-value = 0.2034\n",
        "\n"
       ]
      }
     ],
     "prompt_number": 42
    },
    {
     "cell_type": "markdown",
     "metadata": {},
     "source": [
      "<b>e.</b> Give the plot(s) associated with the test of constant variance and then test this\n",
      "model for the assumption of constant variance."
     ]
    },
    {
     "cell_type": "code",
     "collapsed": false,
     "input": [
      "%%R\n",
      "plot(fit$fit, fit$res^2)"
     ],
     "language": "python",
     "metadata": {},
     "outputs": [
      {
       "metadata": {},
       "output_type": "display_data",
       "png": "[encoded data removed]"
      }
     ],
     "prompt_number": 44
    },
    {
     "cell_type": "markdown",
     "metadata": {},
     "source": [
      "<b>f.</b> Give the plot(s) associated with the lack of fit test and then test this model for\n",
      "the assumption of linearity using the type of test in the solutions to HW 5."
     ]
    },
    {
     "cell_type": "code",
     "collapsed": false,
     "input": [
      "%%R\n",
      "library(\"lmtest\")\n",
      "bptest(fit,studentize = F)"
     ],
     "language": "python",
     "metadata": {},
     "outputs": [
      {
       "metadata": {},
       "output_type": "display_data",
       "text": [
        "Loading required package: zoo\n",
        "\n",
        "Attaching package: \u2018zoo\u2019\n",
        "\n",
        "The following objects are masked from \u2018package:base\u2019:\n",
        "\n",
        "    as.Date, as.Date.numeric\n",
        "\n",
        "\n",
        "\tBreusch-Pagan test\n",
        "\n",
        "data:  fit\n",
        "BP = 3.2137, df = 2, p-value = 0.2005\n",
        "\n"
       ]
      }
     ],
     "prompt_number": 45
    },
    {
     "cell_type": "markdown",
     "metadata": {},
     "source": [
      "<b>g.</b> Give the plot(s) associated with the test of whether the product of the grades\n",
      "should be added to the model and then test this model for whether the interaction\n",
      "should be added."
     ]
    },
    {
     "cell_type": "code",
     "collapsed": false,
     "input": [
      "%%R\n",
      "data2sq <- data[,2]^2\n",
      "data3sq <- data[,3]^2\n",
      "fit_sq <- lm(data[,1] ~ data[,2] + data[,3] + data2sq + data3sq)\n",
      "summary(fit_sq)"
     ],
     "language": "python",
     "metadata": {},
     "outputs": [
      {
       "metadata": {},
       "output_type": "display_data",
       "text": [
        "\n",
        "Call:\n",
        "lm(formula = data[, 1] ~ data[, 2] + data[, 3] + data2sq + data3sq)\n",
        "\n",
        "Residuals:\n",
        "    Min      1Q  Median      3Q     Max \n",
        "-3.9239 -1.0269 -0.0655  1.1146  6.3282 \n",
        "\n",
        "Coefficients:\n",
        "            Estimate Std. Error t value Pr(>|t|)\n",
        "(Intercept)   33.478     43.178   0.775    0.442\n",
        "data[, 2]     14.090     32.284   0.436    0.665\n",
        "data[, 3]    -20.833     17.032  -1.223    0.228\n",
        "data2sq       -1.330      4.365  -0.305    0.762\n",
        "data3sq        3.044      2.362   1.289    0.204\n",
        "\n",
        "Residual standard error: 1.955 on 43 degrees of freedom\n",
        "Multiple R-squared:  0.4522,\tAdjusted R-squared:  0.4013 \n",
        "F-statistic: 8.875 on 4 and 43 DF,  p-value: 2.572e-05\n",
        "\n"
       ]
      }
     ],
     "prompt_number": 50
    },
    {
     "cell_type": "heading",
     "level": 3,
     "metadata": {},
     "source": [
      "2. Create variables for the logs, squares, and cubes of each of the variables,\n",
      "as well as the product of GP1 \u2217 GP2, and the ratios GP1/GP2 and GP2/GP1. You\n",
      "should have 11 variables, including the original grades when you are done."
     ]
    },
    {
     "cell_type": "code",
     "collapsed": false,
     "input": [
      "%%R\n",
      "data2log <- log(data[,2])\n",
      "data3log <- log(data[,3])\n",
      "data2cube <- data[,2]^3\n",
      "data3cube <- data[,3]^3\n",
      "data23int <- data[,2]*data[,3]\n",
      "dataRatio1 <- data[,2]/data[,3]\n",
      "dataRatio2 <- data[,3]/data[,2]\n",
      "allData <- matrix(c(data[,1],data[,2],data[,3],data2sq,data3sq,data2log,\n",
      "                    data3log,data2cube,data3cube,data23int,dataRatio1,dataRatio2),ncol =12)\n",
      "allData[1:4,]"
     ],
     "language": "python",
     "metadata": {},
     "outputs": [
      {
       "metadata": {},
       "output_type": "display_data",
       "text": [
        "     [,1] [,2] [,3] [,4]  [,5]     [,6]     [,7] [,8]   [,9] [,10]    [,11]\n",
        "[1,]   31    4  3.7   16 13.69 1.386294 1.308333   64 50.653  14.8 1.081081\n",
        "[2,]   33    4  4.0   16 16.00 1.386294 1.386294   64 64.000  16.0 1.000000\n",
        "[3,]   33    4  4.0   16 16.00 1.386294 1.386294   64 64.000  16.0 1.000000\n",
        "[4,]   33    4  4.0   16 16.00 1.386294 1.386294   64 64.000  16.0 1.000000\n",
        "     [,12]\n",
        "[1,] 0.925\n",
        "[2,] 1.000\n",
        "[3,] 1.000\n",
        "[4,] 1.000\n"
       ]
      }
     ],
     "prompt_number": 75
    },
    {
     "cell_type": "markdown",
     "metadata": {},
     "source": [
      "<b>a.</b> Using proc corr in SAS, what variables do you think will be selected into the\n",
      "model? Using only the proc corr output, why might some variables that you\n",
      "think should be in, end up not in the model?"
     ]
    },
    {
     "cell_type": "code",
     "collapsed": false,
     "input": [
      "%%R\n",
      "pairs(allData)\n",
      "cor(allData)"
     ],
     "language": "python",
     "metadata": {},
     "outputs": [
      {
       "metadata": {},
       "output_type": "display_data",
       "text": [
        "             [,1]       [,2]       [,3]        [,4]       [,5]       [,6]\n",
        " [1,]  1.00000000  0.6517916  0.5869014  0.65294997  0.5941853  0.6489084\n",
        " [2,]  0.65179161  1.0000000  0.8768992  0.99920698  0.8749536  0.9991813\n",
        " [3,]  0.58690141  0.8768992  1.0000000  0.86551980  0.9985519  0.8869384\n",
        " [4,]  0.65294997  0.9992070  0.8655198  1.00000000  0.8646728  0.9967799\n",
        " [5,]  0.59418527  0.8749536  0.9985519  0.86467280  1.0000000  0.8838443\n",
        " [6,]  0.64890841  0.9991813  0.8869384  0.99677995  0.8838443  1.0000000\n",
        " [7,]  0.57776463  0.8758119  0.9985010  0.86334581  0.9941181  0.8869965\n",
        " [8,]  0.65246576  0.9969019  0.8530024  0.99924226  0.8531944  0.9929120\n",
        " [9,]  0.59956568  0.8701995  0.9943763  0.86100705  0.9986303  0.8779608\n",
        "[10,]  0.64477652  0.9664866  0.9692410  0.96123910  0.9695819  0.9701745\n",
        "[11,] -0.11846687 -0.1477057 -0.6021449 -0.12525841 -0.5977206 -0.1701415\n",
        "[12,]  0.09052426  0.1154452  0.5768155  0.09295198  0.5732535  0.1379861\n",
        "            [,7]        [,8]       [,9]      [,10]      [,11]       [,12]\n",
        " [1,]  0.5777646  0.65246576  0.5995657  0.6447765 -0.1184669  0.09052426\n",
        " [2,]  0.8758119  0.99690189  0.8701995  0.9664866 -0.1477057  0.11544523\n",
        " [3,]  0.9985010  0.85300241  0.9943763  0.9692410 -0.6021449  0.57681555\n",
        " [4,]  0.8633458  0.99924226  0.8610071  0.9612391 -0.1252584  0.09295198\n",
        " [5,]  0.9941181  0.85319442  0.9986303  0.9695819 -0.5977206  0.57325351\n",
        " [6,]  0.8869965  0.99291200  0.8779608  0.9701745 -0.1701415  0.13798608\n",
        " [7,]  1.0000000  0.84980927  0.9871213  0.9658046 -0.6057041  0.57948964\n",
        " [8,]  0.8498093  1.00000000  0.8505663  0.9545782 -0.1030503  0.07075414\n",
        " [9,]  0.9871213  0.85056628  1.0000000  0.9670182 -0.5925873  0.56894339\n",
        "[10,]  0.9658046  0.95457819  0.9670182  1.0000000 -0.3893995  0.35965023\n",
        "[11,] -0.6057041 -0.10305033 -0.5925873 -0.3893995  1.0000000 -0.99726187\n",
        "[12,]  0.5794896  0.07075414  0.5689434  0.3596502 -0.9972619  1.00000000\n"
       ]
      },
      {
       "metadata": {},
       "output_type": "display_data",
       "png": "[encoded data removed]"
      }
     ],
     "prompt_number": 80
    },
    {
     "cell_type": "markdown",
     "metadata": {},
     "source": [
      "<b>b.</b> Find the best model according to adjusted R2\n",
      "that meets our interpretability\n",
      "criteria. Give the least squares line for that model and the value of adjusted R2\n",
      ".\n",
      "Based on this model, would you conclude that the first grades are \u201cgood\u201d (both\n",
      "in a statistical sense and in a practical sense- namely, that higher grades predict\n",
      "higher scores) for predicting the score? What about the second grades?"
     ]
    },
    {
     "cell_type": "markdown",
     "metadata": {},
     "source": [
      "<b>c.</b> Find the best model according to Cp that meets our interpretability criteria. Give\n",
      "the least squares line for that model and the value of adjusted Cp. Based on this\n",
      "model, would you conclude that the first grades are \u201cgood\u201d (both in a statistical\n",
      "sense and in a practical sense) for predicting the score? What about the second\n",
      "grades?"
     ]
    },
    {
     "cell_type": "code",
     "collapsed": false,
     "input": [],
     "language": "python",
     "metadata": {},
     "outputs": []
    }
   ],
   "metadata": {}
  }
 ]
}