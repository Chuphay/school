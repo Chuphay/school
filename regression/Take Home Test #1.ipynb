{
 "metadata": {
  "name": "",
  "signature": "sha256:ade3db58f151165d78f29c5e92cf44822609f60f79c8360a7304a87556aab6f8"
 },
 "nbformat": 3,
 "nbformat_minor": 0,
 "worksheets": [
  {
   "cells": [
    {
     "cell_type": "code",
     "collapsed": false,
     "input": [
      "%pylab inline\n",
      "%load_ext rpy2.ipython\n",
      "import re\n",
      "from IPython.core.display import HTML\n",
      "html = \"\"\"<style> b {color:red;  font-size :150%}</style>\"\"\"\n",
      "\n",
      "from my_stat_tools import hide\n",
      "HTML(html)"
     ],
     "language": "python",
     "metadata": {},
     "outputs": [
      {
       "output_type": "stream",
       "stream": "stdout",
       "text": [
        "Populating the interactive namespace from numpy and matplotlib\n",
        "The rpy2.ipython extension is already loaded. To reload it, use:\n",
        "  %reload_ext rpy2.ipython\n"
       ]
      },
      {
       "html": [
        "<style> b {color:red;  font-size :150%}</style>"
       ],
       "metadata": {},
       "output_type": "pyout",
       "prompt_number": 162,
       "text": [
        "<IPython.core.display.HTML at 0xb51c4e6c>"
       ]
      }
     ],
     "prompt_number": 162
    },
    {
     "cell_type": "code",
     "collapsed": false,
     "input": [
      "hide()"
     ],
     "language": "python",
     "metadata": {},
     "outputs": [
      {
       "html": [
        "<script>\n",
        "code_show=true; \n",
        "function code_toggle() {\n",
        " if (code_show){\n",
        " $('div.input').hide();\n",
        " $('div.output_prompt').hide();\n",
        "\n",
        " } else {\n",
        " $('div.input').show();\n",
        " $('div.output_prompt').show();\n",
        " }\n",
        " code_show = !code_show\n",
        "} \n",
        "$( document ).ready(code_toggle);\n",
        "</script>\n",
        "<p>The raw code for this IPython notebook is by default hidden for easier reading.</p>\n",
        "\n",
        "<p>To toggle on/off the raw code, click <a href=\"javascript:code_toggle()\">here</a>.</p>\n",
        "\n"
       ],
       "metadata": {},
       "output_type": "pyout",
       "prompt_number": 154,
       "text": [
        "<IPython.core.display.HTML at 0xaa14ea4c>"
       ]
      }
     ],
     "prompt_number": 154
    },
    {
     "cell_type": "heading",
     "level": 1,
     "metadata": {},
     "source": [
      "Take Home Test #1"
     ]
    },
    {
     "cell_type": "code",
     "collapsed": false,
     "input": [
      "s = \"\"\"31\tA\tA-\n",
      "33\tA\tA\n",
      "33\tA\tA\n",
      "33\tA\tA\n",
      "31\tA\tA\n",
      "30\tA\tA\n",
      "34\tA\tA\n",
      "32\tA\tA-\n",
      "35\tA\tA\n",
      "33\tA\tA-\n",
      "34\tA-\tA\n",
      "32\tA-\tA-\n",
      "33\tA-\tA\n",
      "30\tA-\tA-\n",
      "35\tA-\tA-\n",
      "31\tA-\tA-\n",
      "34\tA-\tA\n",
      "27\tB+\tA-\n",
      "30\tB+\tB+\n",
      "28\tB+\tB+\n",
      "30\tB+\tB \n",
      "30\tB\tB-\n",
      "35\tB\tB\n",
      "29\tB\tB-\n",
      "36\tA\tA-\n",
      "36\tA\tA\n",
      "32\tA\tA\n",
      "33\tA\tA\n",
      "35\tA\tA\n",
      "36\tA\tA\n",
      "35\tA\tA\n",
      "32\tA\tA-\n",
      "35\tA\tA\n",
      "35\tA\tA-\n",
      "34\tA-\tA\n",
      "31\tA-\tA-\n",
      "34\tA-\tA\n",
      "35\tA-\tA-\n",
      "33\tA-\tA-\n",
      "34\tA-\tA-\n",
      "32\tA-\tA\n",
      "28\tB+\tA-\n",
      "30\tB+\tB+\n",
      "28\tB+\tB+\n",
      "30\tB+\tB \n",
      "28\tB\tB-\n",
      "28\tB\tB\n",
      "30\tB\tB-\n",
      "\"\"\"\n",
      "s = re.sub(\"B-\",\"2.7\",s)\n",
      "s = re.sub(\"B\\+\",\"3.3\",s)\n",
      "s = re.sub(\"B\",\"3.0\",s)\n",
      "s = re.sub(\"A-\",\"3.7\",s)\n",
      "s = re.sub(\"A\",\"4.0\",s)\n",
      "x = [float(i) for i in s.split()]"
     ],
     "language": "python",
     "metadata": {},
     "outputs": [],
     "prompt_number": 11
    },
    {
     "cell_type": "heading",
     "level": 3,
     "metadata": {},
     "source": [
      "1. The regression model."
     ]
    },
    {
     "cell_type": "markdown",
     "metadata": {},
     "source": [
      "<b>a.</b> Fit the model Yi = \u03b20 + \u03b21GP1i + \u03b22GP2i + \u000fi (where the usual assumptions\n",
      "apply). Give the resulting least squares line and interpret the terms, where appropriate."
     ]
    },
    {
     "cell_type": "code",
     "collapsed": false,
     "input": [
      "%%R -i x\n",
      "data <- matrix(x, ncol=3, byrow = T)\n",
      "fit <- lm(data[,1] ~ data[,2] + data[,3])\n",
      "fit$coef"
     ],
     "language": "python",
     "metadata": {},
     "outputs": [
      {
       "metadata": {},
       "output_type": "display_data",
       "text": [
        "(Intercept)   data[, 2]   data[, 3] \n",
        " 15.2537730   4.2041858   0.3997794 \n"
       ]
      }
     ],
     "prompt_number": 12
    },
    {
     "cell_type": "markdown",
     "metadata": {},
     "source": [
      "From the R output, we find that the least square line is given by the following formula:\n",
      "\n",
      "$\\hat{Y} = 15.2538 + 4.204*GP_1 + 0.39978*GP_2$ \n",
      "\n",
      "$\\hat{Y} = b_0 + b_1*GP_1 + b_2*GP_2$ \n",
      "\n",
      "$b_1$ is the slope of $GP_1$, i.e., for every unit that $GP_1$ increases, there is a corresponding increase of 4.2 on the standardized score of the test, all else held equal.\n",
      "\n",
      "Similarly, $b_2$ is the slope of $GP_2$, i.e., for every unit that $GP_2$ increases, there is a corresponding increase of 0.4 on the standardized score of the test, all else held equal.\n",
      "\n",
      "Because the original data never contained information about when $GP_1$ and $GP_2$ were equal to zero, we conclude that $b_0$ has no real meaning. "
     ]
    },
    {
     "cell_type": "markdown",
     "metadata": {},
     "source": [
      "<b>b.</b> Give and interpret the joint 95% confidence interval for \u03b20, \u03b21, and \u03b22 in the\n",
      "model."
     ]
    },
    {
     "cell_type": "code",
     "collapsed": false,
     "input": [
      "%%R\n",
      "confint(fit, level=1-0.05/3)"
     ],
     "language": "python",
     "metadata": {},
     "outputs": [
      {
       "metadata": {},
       "output_type": "display_data",
       "text": [
        "                0.833 %  99.167 %\n",
        "(Intercept)  7.90051983 22.607026\n",
        "data[, 2]    0.06497473  8.343397\n",
        "data[, 3]   -3.11762851  3.917187\n"
       ]
      }
     ],
     "prompt_number": 13
    },
    {
     "cell_type": "markdown",
     "metadata": {},
     "source": [
      "From this R output, we can say that we are 95% confident that $\\beta_0 \\in (7.9, 22.6)$,  $\\beta_1 \\in (0.06, 8.34)$ and  $\\beta_2 \\in (-3.12, 3.92)$\n",
      "\n",
      "None of these ranges are particularly surprising, but we should note that the confidence interval for $\\beta_2$ contains zero and it is therefore possible that the standardized scores are independent of $GP_2$."
     ]
    },
    {
     "cell_type": "markdown",
     "metadata": {},
     "source": [
      "<b>c.</b> Are the grades predictive of the standardized score? If so, which grades?"
     ]
    },
    {
     "cell_type": "code",
     "collapsed": false,
     "input": [
      "%%R\n",
      "summary(fit)"
     ],
     "language": "python",
     "metadata": {},
     "outputs": [
      {
       "metadata": {},
       "output_type": "display_data",
       "text": [
        "\n",
        "Call:\n",
        "lm(formula = data[, 1] ~ data[, 2] + data[, 3])\n",
        "\n",
        "Residuals:\n",
        "    Min      1Q  Median      3Q     Max \n",
        "-3.6696 -1.2884 -0.3269  1.3603  5.9343 \n",
        "\n",
        "Coefficients:\n",
        "            Estimate Std. Error t value Pr(>|t|)    \n",
        "(Intercept)  15.2538     2.9569   5.159 5.41e-06 ***\n",
        "data[, 2]     4.2042     1.6645   2.526   0.0151 *  \n",
        "data[, 3]     0.3998     1.4144   0.283   0.7787    \n",
        "---\n",
        "Signif. codes:  0 \u2018***\u2019 0.001 \u2018**\u2019 0.01 \u2018*\u2019 0.05 \u2018.\u2019 0.1 \u2018 \u2019 1\n",
        "\n",
        "Residual standard error: 1.956 on 45 degrees of freedom\n",
        "Multiple R-squared:  0.4259,\tAdjusted R-squared:  0.4003 \n",
        "F-statistic: 16.69 on 2 and 45 DF,  p-value: 3.785e-06\n",
        "\n"
       ]
      }
     ],
     "prompt_number": 14
    },
    {
     "cell_type": "markdown",
     "metadata": {},
     "source": [
      "First, we can see that the F-statistic is 16.69 with a p-value of 3.785e-06. This means that at least one of the parameters is non-zero. \n",
      "\n",
      "Looking at the t-statistics, we see that the p-value for $b_1$ is 0.0151. We can therefore say with 95% probability that $GP_1$ is predictive of standardized scores. \n",
      "\n",
      "However, the p-value for $b_2$ is well over 0.05 and we therefore conclude that $GP_2$ is not predictive of the standardized scores. "
     ]
    },
    {
     "cell_type": "markdown",
     "metadata": {},
     "source": [
      "<b>d.</b>  Give the plot(s) associated with the test of normality and then test this model\n",
      "for the assumption of normality."
     ]
    },
    {
     "cell_type": "code",
     "collapsed": false,
     "input": [
      "%%R\n",
      "par(mfrow=c(2,2))\n",
      "qqnorm(fit$res)\n",
      "plot(fit$fit, fit$res)\n",
      "plot(data[,2], fit$res)\n",
      "plot(data[,3], fit$res)"
     ],
     "language": "python",
     "metadata": {},
     "outputs": [
      {
       "metadata": {},
       "output_type": "display_data",
       "png": "[encoded data removed]"
      }
     ],
     "prompt_number": 15
    },
    {
     "cell_type": "code",
     "collapsed": false,
     "input": [
      "%%R\n",
      "shapiro.test(fit$res)"
     ],
     "language": "python",
     "metadata": {},
     "outputs": [
      {
       "metadata": {},
       "output_type": "display_data",
       "text": [
        "\n",
        "\tShapiro-Wilk normality test\n",
        "\n",
        "data:  fit$res\n",
        "W = 0.9676, p-value = 0.2034\n",
        "\n"
       ]
      }
     ],
     "prompt_number": 16
    },
    {
     "cell_type": "markdown",
     "metadata": {},
     "source": [
      "Looking at the plots, it looks like the residuals are generally evenly distributed around zero. \n",
      "\n",
      "Using the Shapiro-Wilk normality test, we have a p-value of 0.2. We therefore fail to reject the null hypothesis and conclude that the residuals are normally distributed."
     ]
    },
    {
     "cell_type": "markdown",
     "metadata": {},
     "source": [
      "<b>e.</b> Give the plot(s) associated with the test of constant variance and then test this\n",
      "model for the assumption of constant variance."
     ]
    },
    {
     "cell_type": "code",
     "collapsed": false,
     "input": [
      "%%R\n",
      "par(mfrow=c(1,3))\n",
      "plot(fit$fit, fit$res^2)\n",
      "plot(data[,2], fit$res^2)\n",
      "plot(data[,3], fit$res^2)"
     ],
     "language": "python",
     "metadata": {},
     "outputs": [
      {
       "metadata": {},
       "output_type": "display_data",
       "png": "[encoded data removed]"
      }
     ],
     "prompt_number": 26
    },
    {
     "cell_type": "code",
     "collapsed": false,
     "input": [
      "%%R\n",
      "library(\"lmtest\")\n",
      "bptest(fit,studentize = F)"
     ],
     "language": "python",
     "metadata": {},
     "outputs": [
      {
       "metadata": {},
       "output_type": "display_data",
       "text": [
        "Loading required package: zoo\n",
        "\n",
        "Attaching package: \u2018zoo\u2019\n",
        "\n",
        "The following objects are masked from \u2018package:base\u2019:\n",
        "\n",
        "    as.Date, as.Date.numeric\n",
        "\n",
        "\n",
        "\tBreusch-Pagan test\n",
        "\n",
        "data:  fit\n",
        "BP = 3.2137, df = 2, p-value = 0.2005\n",
        "\n"
       ]
      }
     ],
     "prompt_number": 18
    },
    {
     "cell_type": "markdown",
     "metadata": {},
     "source": [
      "Using the Breusch-Pagan test, we have a p-value of 0.2. We therefore fail to reject the null hypothesis and conclude that the residuals are homoscedastic."
     ]
    },
    {
     "cell_type": "markdown",
     "metadata": {},
     "source": [
      "<b>f.</b> Give the plot(s) associated with the lack of fit test and then test this model for\n",
      "the assumption of linearity using the type of test in the solutions to HW 5."
     ]
    },
    {
     "cell_type": "code",
     "collapsed": false,
     "input": [
      "%%R\n",
      "par(mfrow=c(2,1))\n",
      "\n",
      "plot(data[,2],data[,1])\n",
      "abline(lm(data[,1]~data[,2]+data[,3]), col='red')\n",
      "\n",
      "\n",
      "plot(data[,3],data[,1])\n",
      "abline(lm(data[,1]~data[,2]+data[,3]), col='red')"
     ],
     "language": "python",
     "metadata": {},
     "outputs": [
      {
       "metadata": {},
       "output_type": "display_data",
       "png": "[encoded data removed]"
      }
     ],
     "prompt_number": 64
    },
    {
     "cell_type": "code",
     "collapsed": false,
     "input": [
      "%%R\n",
      "fit2 <- aov(data[,1] ~ as.factor(data[,2]) + as.factor(data[,3]))\n",
      "summary(fit2)"
     ],
     "language": "python",
     "metadata": {},
     "outputs": [
      {
       "metadata": {},
       "output_type": "display_data",
       "text": [
        "                     Df Sum Sq Mean Sq F value   Pr(>F)    \n",
        "as.factor(data[, 2])  3  160.1   53.37  17.289 2.36e-07 ***\n",
        "as.factor(data[, 3])  4   16.4    4.10   1.328    0.276    \n",
        "Residuals            40  123.5    3.09                     \n",
        "---\n",
        "Signif. codes:  0 \u2018***\u2019 0.001 \u2018**\u2019 0.01 \u2018*\u2019 0.05 \u2018.\u2019 0.1 \u2018 \u2019 1\n"
       ]
      }
     ],
     "prompt_number": 27
    },
    {
     "cell_type": "code",
     "collapsed": false,
     "input": [
      "%%R\n",
      "fit3 <- anova(fit)\n",
      "x <- summary(fit2)\n",
      "fit3"
     ],
     "language": "python",
     "metadata": {},
     "outputs": [
      {
       "metadata": {},
       "output_type": "display_data",
       "text": [
        "Analysis of Variance Table\n",
        "\n",
        "Response: data[, 1]\n",
        "          Df  Sum Sq Mean Sq F value    Pr(>F)    \n",
        "data[, 2]  1 127.441 127.441 33.2971 6.837e-07 ***\n",
        "data[, 3]  1   0.306   0.306  0.0799    0.7787    \n",
        "Residuals 45 172.233   3.827                      \n",
        "---\n",
        "Signif. codes:  0 \u2018***\u2019 0.001 \u2018**\u2019 0.01 \u2018*\u2019 0.05 \u2018.\u2019 0.1 \u2018 \u2019 1\n"
       ]
      }
     ],
     "prompt_number": 20
    },
    {
     "cell_type": "code",
     "collapsed": false,
     "input": [
      "%%R\n",
      "c  <- 9\n",
      "cat((fit3$Sum[3] - anova(fit2)$Sum[3])/(c-3)/(anova(fit2)$Sum[3]/(48-c)))"
     ],
     "language": "python",
     "metadata": {},
     "outputs": [
      {
       "metadata": {},
       "output_type": "display_data",
       "text": [
        "2.566866"
       ]
      }
     ],
     "prompt_number": 21
    },
    {
     "cell_type": "code",
     "collapsed": false,
     "input": [
      "%%R\n",
      "1 - pf(2.566866,c-3,48-c)"
     ],
     "language": "python",
     "metadata": {},
     "outputs": [
      {
       "metadata": {},
       "output_type": "display_data",
       "text": [
        "[1] 0.03422557\n"
       ]
      }
     ],
     "prompt_number": 22
    },
    {
     "cell_type": "markdown",
     "metadata": {},
     "source": [
      "Looking at the plots, there seems to be a clear curve in the data, thus we would expect that a linear fit would not be the most appropriate regression model.\n",
      "\n",
      "The Lack of Fit test agrees with what we have seen visually. The p-value for the lack-of-fit test is 0.034. This is smaller than 0.05, and we therefore reject the null hypothesis, and conclude that a linear-fit is not supported by our data."
     ]
    },
    {
     "cell_type": "markdown",
     "metadata": {},
     "source": [
      "<b>g.</b> Give the plot(s) associated with the test of whether the product of the grades\n",
      "should be added to the model and then test this model for whether the interaction\n",
      "should be added."
     ]
    },
    {
     "cell_type": "code",
     "collapsed": false,
     "input": [
      "%%R\n",
      "data2sq <- data[,2]^2\n",
      "data3sq <- data[,3]^2\n",
      "dataInt <- data[,2]*data[,3]\n",
      "fit_int <- lm(data[,1] ~ data[,2] + data[,3] + dataInt)\n",
      "plot(dataInt, fit_int$res)\n",
      "#summary(fit_int)"
     ],
     "language": "python",
     "metadata": {},
     "outputs": [
      {
       "metadata": {},
       "output_type": "display_data",
       "png": "[encoded data removed]"
      }
     ],
     "prompt_number": 69
    },
    {
     "cell_type": "code",
     "collapsed": false,
     "input": [
      "%%R\n",
      "summary(fit_int)"
     ],
     "language": "python",
     "metadata": {},
     "outputs": [
      {
       "metadata": {},
       "output_type": "display_data",
       "text": [
        "\n",
        "Call:\n",
        "lm(formula = data[, 1] ~ data[, 2] + data[, 3] + dataInt)\n",
        "\n",
        "Residuals:\n",
        "    Min      1Q  Median      3Q     Max \n",
        "-4.0582 -1.1475 -0.0215  1.2186  5.6042 \n",
        "\n",
        "Coefficients:\n",
        "            Estimate Std. Error t value Pr(>|t|)  \n",
        "(Intercept)   59.579     31.005   1.922   0.0611 .\n",
        "data[, 2]     -9.416      9.626  -0.978   0.3333  \n",
        "data[, 3]    -11.688      8.533  -1.370   0.1777  \n",
        "dataInt        3.681      2.563   1.436   0.1581  \n",
        "---\n",
        "Signif. codes:  0 \u2018***\u2019 0.001 \u2018**\u2019 0.01 \u2018*\u2019 0.05 \u2018.\u2019 0.1 \u2018 \u2019 1\n",
        "\n",
        "Residual standard error: 1.934 on 44 degrees of freedom\n",
        "Multiple R-squared:  0.4516,\tAdjusted R-squared:  0.4142 \n",
        "F-statistic: 12.08 on 3 and 44 DF,  p-value: 6.765e-06\n",
        "\n"
       ]
      }
     ],
     "prompt_number": 71
    },
    {
     "cell_type": "markdown",
     "metadata": {},
     "source": [
      "Looking at the plot, the residuals seem to be well  distributed with out any discernable pattern. Using the standard t test, we have a p-value of 0.1581 which means we cannot reject the null and we conclude that the interaction is insignificant."
     ]
    },
    {
     "cell_type": "heading",
     "level": 3,
     "metadata": {},
     "source": [
      "2. Create variables for the logs, squares, and cubes of each of the variables,\n",
      "as well as the product of GP1 \u2217 GP2, and the ratios GP1/GP2 and GP2/GP1. You\n",
      "should have 11 variables, including the original grades when you are done."
     ]
    },
    {
     "cell_type": "code",
     "collapsed": false,
     "input": [
      "%%R\n",
      "data2log <- log(data[,2])\n",
      "data3log <- log(data[,3])\n",
      "data2cube <- data[,2]^3\n",
      "data3cube <- data[,3]^3\n",
      "data23int <- data[,2]*data[,3]\n",
      "dataRatio1 <- data[,2]/data[,3]\n",
      "dataRatio2 <- data[,3]/data[,2]\n",
      "allData <- matrix(c(data[,1],data[,2],data[,3],data2sq,data3sq,data2log,\n",
      "                    data3log,data2cube,data3cube,data23int,dataRatio1,dataRatio2),ncol =12)"
     ],
     "language": "python",
     "metadata": {},
     "outputs": [],
     "prompt_number": 72
    },
    {
     "cell_type": "markdown",
     "metadata": {},
     "source": [
      "<b>a.</b> Using proc corr in SAS, what variables do you think will be selected into the\n",
      "model? Using only the proc corr output, why might some variables that you\n",
      "think should be in, end up not in the model?"
     ]
    },
    {
     "cell_type": "code",
     "collapsed": false,
     "input": [
      "%%R\n",
      "pairs(allData)\n",
      "cor(allData)"
     ],
     "language": "python",
     "metadata": {},
     "outputs": [
      {
       "metadata": {},
       "output_type": "display_data",
       "text": [
        "             [,1]       [,2]       [,3]        [,4]       [,5]       [,6]\n",
        " [1,]  1.00000000  0.6517916  0.5869014  0.65294997  0.5941853  0.6489084\n",
        " [2,]  0.65179161  1.0000000  0.8768992  0.99920698  0.8749536  0.9991813\n",
        " [3,]  0.58690141  0.8768992  1.0000000  0.86551980  0.9985519  0.8869384\n",
        " [4,]  0.65294997  0.9992070  0.8655198  1.00000000  0.8646728  0.9967799\n",
        " [5,]  0.59418527  0.8749536  0.9985519  0.86467280  1.0000000  0.8838443\n",
        " [6,]  0.64890841  0.9991813  0.8869384  0.99677995  0.8838443  1.0000000\n",
        " [7,]  0.57776463  0.8758119  0.9985010  0.86334581  0.9941181  0.8869965\n",
        " [8,]  0.65246576  0.9969019  0.8530024  0.99924226  0.8531944  0.9929120\n",
        " [9,]  0.59956568  0.8701995  0.9943763  0.86100705  0.9986303  0.8779608\n",
        "[10,]  0.64477652  0.9664866  0.9692410  0.96123910  0.9695819  0.9701745\n",
        "[11,] -0.11846687 -0.1477057 -0.6021449 -0.12525841 -0.5977206 -0.1701415\n",
        "[12,]  0.09052426  0.1154452  0.5768155  0.09295198  0.5732535  0.1379861\n",
        "            [,7]        [,8]       [,9]      [,10]      [,11]       [,12]\n",
        " [1,]  0.5777646  0.65246576  0.5995657  0.6447765 -0.1184669  0.09052426\n",
        " [2,]  0.8758119  0.99690189  0.8701995  0.9664866 -0.1477057  0.11544523\n",
        " [3,]  0.9985010  0.85300241  0.9943763  0.9692410 -0.6021449  0.57681555\n",
        " [4,]  0.8633458  0.99924226  0.8610071  0.9612391 -0.1252584  0.09295198\n",
        " [5,]  0.9941181  0.85319442  0.9986303  0.9695819 -0.5977206  0.57325351\n",
        " [6,]  0.8869965  0.99291200  0.8779608  0.9701745 -0.1701415  0.13798608\n",
        " [7,]  1.0000000  0.84980927  0.9871213  0.9658046 -0.6057041  0.57948964\n",
        " [8,]  0.8498093  1.00000000  0.8505663  0.9545782 -0.1030503  0.07075414\n",
        " [9,]  0.9871213  0.85056628  1.0000000  0.9670182 -0.5925873  0.56894339\n",
        "[10,]  0.9658046  0.95457819  0.9670182  1.0000000 -0.3893995  0.35965023\n",
        "[11,] -0.6057041 -0.10305033 -0.5925873 -0.3893995  1.0000000 -0.99726187\n",
        "[12,]  0.5794896  0.07075414  0.5689434  0.3596502 -0.9972619  1.00000000\n"
       ]
      },
      {
       "metadata": {},
       "output_type": "display_data",
       "png": "[encoded data removed]"
      }
     ],
     "prompt_number": 74
    },
    {
     "cell_type": "code",
     "collapsed": false,
     "input": [
      "%%R\n",
      "cor.test(data[,1], dataRatio1)"
     ],
     "language": "python",
     "metadata": {},
     "outputs": [
      {
       "metadata": {},
       "output_type": "display_data",
       "text": [
        "\n",
        "\tPearson's product-moment correlation\n",
        "\n",
        "data:  data[, 1] and dataRatio1\n",
        "t = -0.8092, df = 46, p-value = 0.4226\n",
        "alternative hypothesis: true correlation is not equal to 0\n",
        "95 percent confidence interval:\n",
        " -0.3894911  0.1714385\n",
        "sample estimates:\n",
        "       cor \n",
        "-0.1184669 \n",
        "\n"
       ]
      }
     ],
     "prompt_number": 102
    },
    {
     "cell_type": "code",
     "collapsed": false,
     "input": [
      "%%R\n",
      "cor.test(data[,1], dataRatio2)"
     ],
     "language": "python",
     "metadata": {},
     "outputs": [
      {
       "metadata": {},
       "output_type": "display_data",
       "text": [
        "\n",
        "\tPearson's product-moment correlation\n",
        "\n",
        "data:  data[, 1] and dataRatio2\n",
        "t = 0.6165, df = 46, p-value = 0.5406\n",
        "alternative hypothesis: true correlation is not equal to 0\n",
        "95 percent confidence interval:\n",
        " -0.1987218  0.3652640\n",
        "sample estimates:\n",
        "       cor \n",
        "0.09052426 \n",
        "\n"
       ]
      }
     ],
     "prompt_number": 79
    },
    {
     "cell_type": "markdown",
     "metadata": {},
     "source": [
      "According to the correlation matrix, most of the correlations seem to be quite high. We can in fact check for this using Pearson's correlation test. The only two predictor variables that appear to be insignificant when comparing with the standardized test scores were the two ratios $GP_1/GP_2$ and $GP_2/GP_1$, which have p-values both above 0.4000. All of the other predictor variables seem significant based on the correlation tests."
     ]
    },
    {
     "cell_type": "markdown",
     "metadata": {},
     "source": [
      "<b>b.</b> Find the best model according to adjusted R2\n",
      "that meets our interpretability\n",
      "criteria. Give the least squares line for that model and the value of adjusted R2\n",
      ".\n",
      "Based on this model, would you conclude that the first grades are \u201cgood\u201d (both\n",
      "in a statistical sense and in a practical sense- namely, that higher grades predict\n",
      "higher scores) for predicting the score? What about the second grades?"
     ]
    },
    {
     "cell_type": "code",
     "collapsed": false,
     "input": [
      "%%R\n",
      "#data2sq,data3sq,data2log,data3log,data2cube,data3cube,data23int,dataRatio1,dataRatio2)\n",
      "#fit <- lm(data[,1] ~ data[,2]+ data[,3]+data2sq +data3sq+data2log+data3log+data2cube)\n",
      "fit <- lm(data[,1] ~ data[,2]+ data[,3]+data2sq +data3sq+data2log+data3log+data2cube+data3cube + data23int + dataRatio1 + dataRatio2)\n",
      "cat(\"All: \",summary(fit)$adj.r.squared,'\\n' )\n",
      "fit <- update(fit, .~. -  dataRatio2)\n",
      "cat(\"minus ratio2 \",summary(fit)$adj.r.squared,'\\n' )\n",
      "fit <- update(fit, .~.- dataRatio1)\n",
      "cat(\"minus ratio1: \",summary(fit)$adj.r.squared,'\\n' )\n",
      "fit <- update(fit, .~. - data23int)\n",
      "cat(\"minus int: \",summary(fit)$adj.r.squared,'\\n' )\n",
      "fit <- update(fit, .~. - data3cube)\n",
      "cat(\"minus GP2^3: \",summary(fit)$adj.r.squared,'\\n' )\n",
      "fit <- update(fit, .~. - data2cube)\n",
      "cat(\"minus GP1^3: \",summary(fit)$adj.r.squared,'\\n' )\n",
      "fit <- update(fit, .~. - data3log)\n",
      "cat(\"minus log(GP2): \",summary(fit)$adj.r.squared,'\\n' )\n",
      "fit <- update(fit, .~. + data3log)\n",
      "cat(\"add log(GP2): \",summary(fit)$adj.r.squared,'\\n' )\n",
      "fit <- update(fit, .~. - data2log)\n",
      "cat(\"minus log(GP1): \",summary(fit)$adj.r.squared,'\\n' )\n",
      "fit <- update(fit, .~. + data2log)\n",
      "cat(\"minus log(GP1): \",summary(fit)$adj.r.squared,'\\n' )"
     ],
     "language": "python",
     "metadata": {},
     "outputs": [
      {
       "metadata": {},
       "output_type": "display_data",
       "text": [
        "All:  0.5051696 \n",
        "minus ratio2  0.5051696 \n",
        "minus ratio1:  0.5051696 \n",
        "minus int:  0.5163644 \n",
        "minus GP2^3:  0.5279373 \n",
        "minus GP1^3:  0.5279373 \n",
        "minus log(GP2):  0.4797709 \n",
        "add log(GP2):  0.5279373 \n",
        "minus log(GP1):  0.393829 \n",
        "minus log(GP1):  0.5279373 \n"
       ]
      }
     ],
     "prompt_number": 152
    },
    {
     "cell_type": "markdown",
     "metadata": {},
     "source": [
      "Doing this by hand is clearly not the best way, but we can slowly step through the various possibilities. Apparently, the best we can do that still is interpretable is to include $GP_1 + GP_2 + log(GP_1) + log(GP_2) +GP_1^2+ GP_2^2$ Using this, we have:"
     ]
    },
    {
     "cell_type": "code",
     "collapsed": false,
     "input": [
      "%%R\n",
      "summary(fit)"
     ],
     "language": "python",
     "metadata": {},
     "outputs": [
      {
       "metadata": {},
       "output_type": "display_data",
       "text": [
        "\n",
        "Call:\n",
        "lm(formula = data[, 1] ~ data[, 2] + data[, 3] + data2sq + data3sq + \n",
        "    data3log + data2log)\n",
        "\n",
        "Residuals:\n",
        "    Min      1Q  Median      3Q     Max \n",
        "-3.6994 -1.0467  0.0924  1.0093  3.5307 \n",
        "\n",
        "Coefficients:\n",
        "            Estimate Std. Error t value Pr(>|t|)    \n",
        "(Intercept)  -954.92     348.09  -2.743 0.008979 ** \n",
        "data[, 2]    3167.81     876.54   3.614 0.000816 ***\n",
        "data[, 3]    -835.56     362.62  -2.304 0.026348 *  \n",
        "data2sq      -224.32      62.02  -3.617 0.000809 ***\n",
        "data3sq        61.47      26.64   2.308 0.026146 *  \n",
        "data3log     1402.36     609.99   2.299 0.026674 *  \n",
        "data2log    -5539.14    1540.33  -3.596 0.000860 ***\n",
        "---\n",
        "Signif. codes:  0 \u2018***\u2019 0.001 \u2018**\u2019 0.01 \u2018*\u2019 0.05 \u2018.\u2019 0.1 \u2018 \u2019 1\n",
        "\n",
        "Residual standard error: 1.736 on 41 degrees of freedom\n",
        "Multiple R-squared:  0.5882,\tAdjusted R-squared:  0.5279 \n",
        "F-statistic: 9.761 on 6 and 41 DF,  p-value: 1.127e-06\n",
        "\n"
       ]
      }
     ],
     "prompt_number": 148
    },
    {
     "cell_type": "markdown",
     "metadata": {},
     "source": [
      "Thereofore, my least square line will look like:\n",
      "    \n",
      "$$\\hat{Y} = -954.92 + 3167.81*GP_1 - 835.56*GP_2 - 224.32*GP_1^2 + 61.47*GP_2^2+ 1402*log(GP_2) - 5539*log(GP_1)$$\n",
      "\n",
      "Looking at the significance, apparently, all scores associated with $GP_1$ are much more significant than $GP_2$. Furthermore, $GP_1$ has a positive slope, meaning that as those scores go up, we expect the standardized score to go up as well. However, $GP_2$ has a negative slope, which means that they are negatively correlated with the standardized scores."
     ]
    },
    {
     "cell_type": "markdown",
     "metadata": {},
     "source": [
      "<b>c.</b> Find the best model according to Cp that meets our interpretability criteria. Give\n",
      "the least squares line for that model and the value of adjusted Cp. Based on this\n",
      "model, would you conclude that the first grades are \u201cgood\u201d (both in a statistical\n",
      "sense and in a practical sense) for predicting the score? What about the second\n",
      "grades?"
     ]
    },
    {
     "cell_type": "code",
     "collapsed": false,
     "input": [
      "%%R\n",
      "\n",
      "fit <- lm(data[,1] ~ data[,2]+ data[,3]+data2sq +data3sq+data2log+data3log+data2cube+data3cube + data23int + dataRatio1 + dataRatio2)\n",
      "step(fit)"
     ],
     "language": "python",
     "metadata": {},
     "outputs": [
      {
       "metadata": {},
       "output_type": "display_data",
       "text": [
        "Start:  AIC=63.23\n",
        "data[, 1] ~ data[, 2] + data[, 3] + data2sq + data3sq + data2log + \n",
        "    data3log + data2cube + data3cube + data23int + dataRatio1 + \n",
        "    dataRatio2\n",
        "\n",
        "\n",
        "Step:  AIC=63.23\n",
        "data[, 1] ~ data[, 2] + data[, 3] + data2sq + data3sq + data2log + \n",
        "    data3log + data2cube + data3cube + data23int + dataRatio1\n",
        "\n",
        "\n",
        "Step:  AIC=63.23\n",
        "data[, 1] ~ data[, 2] + data[, 3] + data2sq + data3sq + data2log + \n",
        "    data3log + data2cube + data3cube + data23int\n",
        "\n",
        "\n",
        "Step:  AIC=63.23\n",
        "data[, 1] ~ data[, 2] + data[, 3] + data2sq + data3sq + data2log + \n",
        "    data3log + data3cube + data23int\n",
        "\n",
        "            Df Sum of Sq    RSS    AIC\n",
        "- data3sq    1    0.0000 123.17 61.235\n",
        "- data[, 3]  1    0.0029 123.18 61.236\n",
        "- data3cube  1    0.0047 123.18 61.236\n",
        "- data3log   1    0.0142 123.19 61.240\n",
        "- data23int  1    0.3002 123.47 61.351\n",
        "<none>                   123.17 63.235\n",
        "- data2log   1   24.6454 147.82 69.989\n",
        "- data[, 2]  1   24.9595 148.13 70.091\n",
        "- data2sq    1   26.9439 150.12 70.730\n",
        "\n",
        "Step:  AIC=61.23\n",
        "data[, 1] ~ data[, 2] + data[, 3] + data2sq + data2log + data3log + \n",
        "    data3cube + data23int\n",
        "\n",
        "            Df Sum of Sq    RSS    AIC\n",
        "- data23int  1     0.393 123.57 59.388\n",
        "<none>                   123.17 61.235\n",
        "- data3cube  1    12.762 135.94 63.967\n",
        "- data3log   1    15.068 138.24 64.774\n",
        "- data[, 3]  1    15.861 139.03 65.049\n",
        "- data2log   1    36.755 159.93 71.769\n",
        "- data[, 2]  1    37.138 160.31 71.884\n",
        "- data2sq    1    38.730 161.90 72.358\n",
        "\n",
        "Step:  AIC=59.39\n",
        "data[, 1] ~ data[, 2] + data[, 3] + data2sq + data2log + data3log + \n",
        "    data3cube\n",
        "\n",
        "            Df Sum of Sq    RSS    AIC\n",
        "<none>                   123.57 59.388\n",
        "- data3log   1    15.754 139.32 63.148\n",
        "- data[, 3]  1    15.869 139.44 63.187\n",
        "- data3cube  1    16.009 139.57 63.235\n",
        "- data2log   1    39.070 162.64 70.575\n",
        "- data[, 2]  1    39.455 163.02 70.688\n",
        "- data2sq    1    39.517 163.08 70.707\n",
        "\n",
        "Call:\n",
        "lm(formula = data[, 1] ~ data[, 2] + data[, 3] + data2sq + data2log + \n",
        "    data3log + data3cube)\n",
        "\n",
        "Coefficients:\n",
        "(Intercept)    data[, 2]    data[, 3]      data2sq     data2log     data3log  \n",
        "  -1250.559     3181.889     -425.982     -225.312    -5563.994      951.116  \n",
        "  data3cube  \n",
        "      4.069  \n",
        "\n"
       ]
      }
     ],
     "prompt_number": 150
    },
    {
     "cell_type": "markdown",
     "metadata": {},
     "source": [
      "Fortunately $C_p$ is very similar to AIC, which is supported in R. And the above output is what we get.\n",
      "\n",
      "Apparently, the answer is almost exactly the same as what I got manually doing the R adjusted with only the difference that this model does not include $GP_1^3$ nor $GP_2^2$.\n",
      "\n",
      "Therefore, my least square line looks like:\n",
      "\n",
      "$$\\hat{Y} = -1251 + 3182*GP_1 - 426*GP_2 - 225*GP_1^2 + 4*GP_2^3+ 951*log(GP_2) - 5564*log(GP_1)$$\n",
      "\n",
      "We also have similar conclusions as with the adjusted R. Apparently $GP_1$ has scores that positively correlate with the standardized scores, while $GP_2$ is negatively correlated. "
     ]
    }
   ],
   "metadata": {}
  }
 ]
}