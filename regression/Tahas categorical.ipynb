{
 "cells": [
  {
   "cell_type": "code",
   "execution_count": 1,
   "metadata": {
    "collapsed": true
   },
   "outputs": [],
   "source": [
    "%load_ext rpy2.ipython"
   ]
  },
  {
   "cell_type": "code",
   "execution_count": 2,
   "metadata": {
    "collapsed": false
   },
   "outputs": [
    {
     "data": {
      "text/plain": [
       "  X wage    lwage educ exper tenure numdep expersq tenursq educsqr  race  metro\n",
       "1 1 3.10 1.131402   11     2      0      2       4       0     121 white  rural\n",
       "2 2 3.24 1.175573   12    22      2      3     484       4     144 white  rural\n",
       "3 3 3.00 1.098612   11     2      0      2       4       0     121 white suburb\n",
       "  marital.st gender business.type job.type log.tenure         res region\n",
       "1     single female         other    other   0.000000 -0.18266357   west\n",
       "2    married female      services  servocc   1.098612 -0.19984457   west\n",
       "3     single   male         trade    other   0.000000 -0.02696004   west\n"
      ]
     },
     "metadata": {},
     "output_type": "display_data"
    }
   ],
   "source": [
    "%%R\n",
    "data <- read.table(\"categorical.csv\", sep = \",\", header = T)\n",
    "data[1:3,]"
   ]
  },
  {
   "cell_type": "code",
   "execution_count": 65,
   "metadata": {
    "collapsed": false
   },
   "outputs": [],
   "source": [
    "%%R\n",
    "fit <- lm(lwage ~ educ+educsqr+exper+expersq+log.tenure+\n",
    "          as.factor(numdep)+as.factor(race)+as.factor(metro)+\n",
    "          as.factor(marital.st)+as.factor(gender)+\n",
    "          as.factor(business.type)+as.factor(job.type)+\n",
    "          educ:exper+ as.factor(metro):log.tenure+ as.factor(gender):as.factor(race)+\n",
    "          as.factor(gender):as.factor(marital.st)+ as.factor(gender):as.factor(business.type)+\n",
    "          as.factor(gender):as.factor(job.type)+as.factor(gender):as.factor(metro), data = data)"
   ]
  },
  {
   "cell_type": "code",
   "execution_count": 58,
   "metadata": {
    "collapsed": false
   },
   "outputs": [
    {
     "data": {
      "text/plain": [
       "\n",
       "Call:\n",
       "lm(formula = lwage ~ educ + educsqr + exper + expersq + log.tenure + \n",
       "    as.factor(numdep) + as.factor(race) + as.factor(metro) + \n",
       "    as.factor(marital.st) + as.factor(gender) + as.factor(business.type) + \n",
       "    as.factor(job.type) + educ:exper + as.factor(metro):log.tenure + \n",
       "    as.factor(gender):as.factor(race) + as.factor(gender):as.factor(marital.st) + \n",
       "    as.factor(gender):as.factor(business.type) + as.factor(gender):as.factor(job.type) + \n",
       "    as.factor(gender):as.factor(metro), data = data)\n",
       "\n",
       "Residuals:\n",
       "     Min       1Q   Median       3Q      Max \n",
       "-0.90645 -0.20516 -0.02033  0.18659  1.28457 \n",
       "\n",
       "Coefficients:\n",
       "                                                         Estimate Std. Error\n",
       "(Intercept)                                             1.3839322  0.3666772\n",
       "educ                                                   -0.0818092  0.0409682\n",
       "educsqr                                                 0.0047200  0.0014245\n",
       "exper                                                   0.0134014  0.0093497\n",
       "expersq                                                -0.0005010  0.0001130\n",
       "log.tenure                                              0.1033467  0.0204428\n",
       "as.factor(numdep)1                                     -0.1046985  0.0439831\n",
       "as.factor(numdep)2                                     -0.0588341  0.0465534\n",
       "as.factor(numdep)3                                     -0.0267094  0.0613114\n",
       "as.factor(numdep)4                                     -0.2364023  0.0941711\n",
       "as.factor(numdep)5                                     -0.2109817  0.1454082\n",
       "as.factor(numdep)6                                     -0.0788609  0.2592116\n",
       "as.factor(race)white                                    0.0917954  0.0789709\n",
       "as.factor(metro)suburb                                 -0.0533375  0.0646941\n",
       "as.factor(marital.st)single                             0.0888126  0.0492488\n",
       "as.factor(gender)male                                   0.6984406  0.2216162\n",
       "as.factor(business.type)ndurman                        -0.0136100  0.1601413\n",
       "as.factor(business.type)other                           0.1340845  0.1547098\n",
       "as.factor(business.type)profserv                        0.1146515  0.1414959\n",
       "as.factor(business.type)services                       -0.1006205  0.1501478\n",
       "as.factor(business.type)trade                          -0.1419341  0.1435102\n",
       "as.factor(business.type)trcommpu                       -0.0279745  0.1745109\n",
       "as.factor(job.type)other                               -0.0294868  0.0804579\n",
       "as.factor(job.type)profocc                              0.1238649  0.0614060\n",
       "as.factor(job.type)servocc                             -0.1439438  0.0684697\n",
       "educ:exper                                              0.0008294  0.0005191\n",
       "log.tenure:as.factor(metro)suburb                      -0.0684156  0.0338201\n",
       "as.factor(race)white:as.factor(gender)male             -0.1275215  0.1068723\n",
       "as.factor(marital.st)single:as.factor(gender)male      -0.2841103  0.0678797\n",
       "as.factor(gender)male:as.factor(business.type)ndurman  -0.0509203  0.1910688\n",
       "as.factor(gender)male:as.factor(business.type)other    -0.1154080  0.1848010\n",
       "as.factor(gender)male:as.factor(business.type)profserv -0.3107605  0.1772001\n",
       "as.factor(gender)male:as.factor(business.type)services -0.1671601  0.1930163\n",
       "as.factor(gender)male:as.factor(business.type)trade    -0.1421171  0.1734587\n",
       "as.factor(gender)male:as.factor(business.type)trcommpu -0.0334064  0.2195392\n",
       "as.factor(gender)male:as.factor(job.type)other         -0.0710280  0.1398676\n",
       "as.factor(gender)male:as.factor(job.type)profocc       -0.0155656  0.1266022\n",
       "as.factor(gender)male:as.factor(job.type)servocc       -0.1005582  0.1472697\n",
       "as.factor(metro)suburb:as.factor(gender)male           -0.0272300  0.0737450\n",
       "                                                       t value Pr(>|t|)    \n",
       "(Intercept)                                              3.774  0.00018 ***\n",
       "educ                                                    -1.997  0.04639 *  \n",
       "educsqr                                                  3.313  0.00099 ***\n",
       "exper                                                    1.433  0.15240    \n",
       "expersq                                                 -4.435 1.14e-05 ***\n",
       "log.tenure                                               5.055 6.09e-07 ***\n",
       "as.factor(numdep)1                                      -2.380  0.01768 *  \n",
       "as.factor(numdep)2                                      -1.264  0.20691    \n",
       "as.factor(numdep)3                                      -0.436  0.66330    \n",
       "as.factor(numdep)4                                      -2.510  0.01238 *  \n",
       "as.factor(numdep)5                                      -1.451  0.14744    \n",
       "as.factor(numdep)6                                      -0.304  0.76108    \n",
       "as.factor(race)white                                     1.162  0.24565    \n",
       "as.factor(metro)suburb                                  -0.824  0.41008    \n",
       "as.factor(marital.st)single                              1.803  0.07195 .  \n",
       "as.factor(gender)male                                    3.152  0.00172 ** \n",
       "as.factor(business.type)ndurman                         -0.085  0.93231    \n",
       "as.factor(business.type)other                            0.867  0.38654    \n",
       "as.factor(business.type)profserv                         0.810  0.41818    \n",
       "as.factor(business.type)services                        -0.670  0.50309    \n",
       "as.factor(business.type)trade                           -0.989  0.32315    \n",
       "as.factor(business.type)trcommpu                        -0.160  0.87271    \n",
       "as.factor(job.type)other                                -0.366  0.71416    \n",
       "as.factor(job.type)profocc                               2.017  0.04423 *  \n",
       "as.factor(job.type)servocc                              -2.102  0.03604 *  \n",
       "educ:exper                                               1.598  0.11076    \n",
       "log.tenure:as.factor(metro)suburb                       -2.023  0.04363 *  \n",
       "as.factor(race)white:as.factor(gender)male              -1.193  0.23337    \n",
       "as.factor(marital.st)single:as.factor(gender)male       -4.185 3.38e-05 ***\n",
       "as.factor(gender)male:as.factor(business.type)ndurman   -0.267  0.78997    \n",
       "as.factor(gender)male:as.factor(business.type)other     -0.624  0.53259    \n",
       "as.factor(gender)male:as.factor(business.type)profserv  -1.754  0.08011 .  \n",
       "as.factor(gender)male:as.factor(business.type)services  -0.866  0.38689    \n",
       "as.factor(gender)male:as.factor(business.type)trade     -0.819  0.41301    \n",
       "as.factor(gender)male:as.factor(business.type)trcommpu  -0.152  0.87912    \n",
       "as.factor(gender)male:as.factor(job.type)other          -0.508  0.61181    \n",
       "as.factor(gender)male:as.factor(job.type)profocc        -0.123  0.90220    \n",
       "as.factor(gender)male:as.factor(job.type)servocc        -0.683  0.49505    \n",
       "as.factor(metro)suburb:as.factor(gender)male            -0.369  0.71211    \n",
       "---\n",
       "Signif. codes:  0 ‘***’ 0.001 ‘**’ 0.01 ‘*’ 0.05 ‘.’ 0.1 ‘ ’ 1\n",
       "\n",
       "Residual standard error: 0.3477 on 486 degrees of freedom\n",
       "Multiple R-squared:  0.5898,\tAdjusted R-squared:  0.5577 \n",
       "F-statistic: 18.39 on 38 and 486 DF,  p-value: < 2.2e-16\n",
       "\n"
      ]
     },
     "metadata": {},
     "output_type": "display_data"
    }
   ],
   "source": [
    "%%R\n",
    "summary(fit)"
   ]
  },
  {
   "cell_type": "code",
   "execution_count": 61,
   "metadata": {
    "collapsed": false
   },
   "outputs": [
    {
     "data": {
      "text/plain": [
       "Loading required package: zoo\n",
       "\n",
       "Attaching package: ‘zoo’\n",
       "\n",
       "The following objects are masked from ‘package:base’:\n",
       "\n",
       "    as.Date, as.Date.numeric\n",
       "\n",
       "\n",
       "\tBreusch-Pagan test\n",
       "\n",
       "data:  fit\n",
       "BP = 65.3929, df = 38, p-value = 0.00375\n",
       "\n"
      ]
     },
     "metadata": {},
     "output_type": "display_data"
    }
   ],
   "source": [
    "%%R\n",
    "library(\"lmtest\")\n",
    "bptest(fit,studentize = F)"
   ]
  },
  {
   "cell_type": "code",
   "execution_count": 69,
   "metadata": {
    "collapsed": false
   },
   "outputs": [
    {
     "data": {
      "text/plain": [
       "[1] 0.5589879\n"
      ]
     },
     "metadata": {},
     "output_type": "display_data"
    }
   ],
   "source": [
    "%%R\n",
    "fit <- lm(lwage ~ educ+educsqr+exper+expersq+log.tenure+\n",
    "          as.factor(numdep)+as.factor(metro)+\n",
    "          as.factor(gender)+as.factor(marital.st)+\n",
    "          as.factor(business.type)+as.factor(job.type)+\n",
    "          educ:exper+ as.factor(metro):log.tenure+ \n",
    "          as.factor(gender):as.factor(marital.st)+ as.factor(gender):as.factor(business.type), data = data)\n",
    "summary(fit)$adj.r.s"
   ]
  },
  {
   "cell_type": "code",
   "execution_count": 1,
   "metadata": {
    "collapsed": false
   },
   "outputs": [
    {
     "name": "stderr",
     "output_type": "stream",
     "text": [
      "ERROR: Cell magic `%%R` not found.\n"
     ]
    }
   ],
   "source": [
    "%%R\n",
    "library(\"MASS\")\n",
    "stepAIC(fit)$ANOVA"
   ]
  },
  {
   "cell_type": "code",
   "execution_count": 75,
   "metadata": {
    "collapsed": false
   },
   "outputs": [
    {
     "data": {
      "text/plain": [
       "\n",
       "Call:\n",
       "lm(formula = lwage ~ educ + educsqr + exper + expersq + log.tenure + \n",
       "    as.factor(numdep) + as.factor(metro) + as.factor(marital.st) + \n",
       "    as.factor(gender) + as.factor(business.type) + as.factor(job.type) + \n",
       "    as.factor(marital.st):as.factor(gender) + log.tenure:as.factor(gender), \n",
       "    data = data)\n",
       "\n",
       "Residuals:\n",
       "     Min       1Q   Median       3Q      Max \n",
       "-1.12821 -0.21072 -0.01821  0.19344  1.27224 \n",
       "\n",
       "Coefficients:\n",
       "                                                    Estimate Std. Error t value\n",
       "(Intercept)                                        1.2553182  0.1975514   6.354\n",
       "educ                                              -0.0329156  0.0269781  -1.220\n",
       "educsqr                                            0.0034507  0.0011263   3.064\n",
       "exper                                              0.0259780  0.0048062   5.405\n",
       "expersq                                           -0.0005596  0.0001031  -5.429\n",
       "log.tenure                                         0.0323760  0.0254811   1.271\n",
       "as.factor(numdep)1                                -0.0988717  0.0429459  -2.302\n",
       "as.factor(numdep)2                                -0.0699033  0.0452900  -1.543\n",
       "as.factor(numdep)3                                -0.0388160  0.0608409  -0.638\n",
       "as.factor(numdep)4                                -0.2542525  0.0927318  -2.742\n",
       "as.factor(numdep)5                                -0.2441477  0.1416235  -1.724\n",
       "as.factor(numdep)6                                -0.1703488  0.2529066  -0.674\n",
       "as.factor(metro)suburb                            -0.1535992  0.0359899  -4.268\n",
       "as.factor(marital.st)single                        0.0571034  0.0477764   1.195\n",
       "as.factor(gender)male                              0.2297426  0.0638919   3.596\n",
       "as.factor(business.type)ndurman                   -0.0492863  0.0858352  -0.574\n",
       "as.factor(business.type)other                      0.0530855  0.0824890   0.644\n",
       "as.factor(business.type)profserv                  -0.0441672  0.0820714  -0.538\n",
       "as.factor(business.type)services                  -0.2136035  0.0895017  -2.387\n",
       "as.factor(business.type)trade                     -0.2508637  0.0784067  -3.200\n",
       "as.factor(business.type)trcommpu                  -0.0771392  0.1039386  -0.742\n",
       "as.factor(job.type)other                          -0.0415663  0.0546713  -0.760\n",
       "as.factor(job.type)profocc                         0.1379804  0.0512935   2.690\n",
       "as.factor(job.type)servocc                        -0.1348227  0.0584079  -2.308\n",
       "as.factor(marital.st)single:as.factor(gender)male -0.2168215  0.0670874  -3.232\n",
       "log.tenure:as.factor(gender)male                   0.0926506  0.0318373   2.910\n",
       "                                                  Pr(>|t|)    \n",
       "(Intercept)                                       4.72e-10 ***\n",
       "educ                                              0.223008    \n",
       "educsqr                                           0.002303 ** \n",
       "exper                                             1.01e-07 ***\n",
       "expersq                                           8.88e-08 ***\n",
       "log.tenure                                        0.204467    \n",
       "as.factor(numdep)1                                0.021732 *  \n",
       "as.factor(numdep)2                                0.123353    \n",
       "as.factor(numdep)3                                0.523771    \n",
       "as.factor(numdep)4                                0.006330 ** \n",
       "as.factor(numdep)5                                0.085341 .  \n",
       "as.factor(numdep)6                                0.500900    \n",
       "as.factor(metro)suburb                            2.36e-05 ***\n",
       "as.factor(marital.st)single                       0.232568    \n",
       "as.factor(gender)male                             0.000356 ***\n",
       "as.factor(business.type)ndurman                   0.566093    \n",
       "as.factor(business.type)other                     0.520166    \n",
       "as.factor(business.type)profserv                  0.590710    \n",
       "as.factor(business.type)services                  0.017377 *  \n",
       "as.factor(business.type)trade                     0.001464 ** \n",
       "as.factor(business.type)trcommpu                  0.458339    \n",
       "as.factor(job.type)other                          0.447437    \n",
       "as.factor(job.type)profocc                        0.007384 ** \n",
       "as.factor(job.type)servocc                        0.021391 *  \n",
       "as.factor(marital.st)single:as.factor(gender)male 0.001311 ** \n",
       "log.tenure:as.factor(gender)male                  0.003774 ** \n",
       "---\n",
       "Signif. codes:  0 ‘***’ 0.001 ‘**’ 0.01 ‘*’ 0.05 ‘.’ 0.1 ‘ ’ 1\n",
       "\n",
       "Residual standard error: 0.3464 on 499 degrees of freedom\n",
       "Multiple R-squared:  0.5819,\tAdjusted R-squared:  0.561 \n",
       "F-statistic: 27.78 on 25 and 499 DF,  p-value: < 2.2e-16\n",
       "\n"
      ]
     },
     "metadata": {},
     "output_type": "display_data"
    }
   ],
   "source": [
    "%%R\n",
    "stepAIC <- lm(formula = lwage ~ educ + educsqr + exper + expersq + log.tenure + \n",
    "    as.factor(numdep) + as.factor(metro) + as.factor(marital.st) + \n",
    "    as.factor(gender) + as.factor(business.type) + as.factor(job.type) + \n",
    "    as.factor(marital.st):as.factor(gender)+ log.tenure:as.factor(gender) , \n",
    "    data = data)\n",
    "summary(stepAIC)"
   ]
  },
  {
   "cell_type": "code",
   "execution_count": null,
   "metadata": {
    "collapsed": true
   },
   "outputs": [],
   "source": []
  }
 ],
 "metadata": {
  "kernelspec": {
   "display_name": "Python 3",
   "language": "python",
   "name": "python3"
  },
  "language_info": {
   "codemirror_mode": {
    "name": "ipython",
    "version": 3
   },
   "file_extension": ".py",
   "mimetype": "text/x-python",
   "name": "python",
   "nbconvert_exporter": "python",
   "pygments_lexer": "ipython3",
   "version": "3.4.1"
  }
 },
 "nbformat": 4,
 "nbformat_minor": 0
}
