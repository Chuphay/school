{
 "metadata": {
  "name": "",
  "signature": "sha256:3934d447e1c6392f7b26402cca8c91154faee941b968f12894557877c0dffc83"
 },
 "nbformat": 3,
 "nbformat_minor": 0,
 "worksheets": [
  {
   "cells": [
    {
     "cell_type": "code",
     "collapsed": false,
     "input": [
      "%load_ext rpy2.ipython"
     ],
     "language": "python",
     "metadata": {},
     "outputs": [],
     "prompt_number": 1
    },
    {
     "cell_type": "heading",
     "level": 1,
     "metadata": {},
     "source": [
      "Problem Set #6"
     ]
    },
    {
     "cell_type": "markdown",
     "metadata": {},
     "source": [
      "###8.11"
     ]
    },
    {
     "cell_type": "code",
     "collapsed": false,
     "input": [
      "%%R\n",
      "s <- \"64.0    4.0    2.0\n",
      "   73.0    4.0    4.0\n",
      "   61.0    4.0    2.0\n",
      "   76.0    4.0    4.0\n",
      "   72.0    6.0    2.0\n",
      "   80.0    6.0    4.0\n",
      "   71.0    6.0    2.0\n",
      "   83.0    6.0    4.0\n",
      "   83.0    8.0    2.0\n",
      "   89.0    8.0    4.0\n",
      "   86.0    8.0    2.0\n",
      "   93.0    8.0    4.0\n",
      "   88.0   10.0    2.0\n",
      "   95.0   10.0    4.0\n",
      "   94.0   10.0    2.0\n",
      "  100.0   10.0    4.0\"\n",
      "x <- strsplit(s,\" +|\\\\n +\")\n",
      "data <-matrix(as.numeric(x[[1]]), ncol=3, byrow =T)\n",
      "fit <-lm(data[,1] ~ data[,2]+data[,3]+data[,2]*data[,3])\n",
      "summary(fit)"
     ],
     "language": "python",
     "metadata": {},
     "outputs": [
      {
       "metadata": {},
       "output_type": "display_data",
       "text": [
        "\n",
        "Call:\n",
        "lm(formula = data[, 1] ~ data[, 2] + data[, 3] + data[, 2] * \n",
        "    data[, 3])\n",
        "\n",
        "Residuals:\n",
        "   Min     1Q Median     3Q    Max \n",
        "-4.150 -1.488  0.125  1.700  3.700 \n",
        "\n",
        "Coefficients:\n",
        "                    Estimate Std. Error t value Pr(>|t|)    \n",
        "(Intercept)          27.1500     6.4648   4.200  0.00123 ** \n",
        "data[, 2]             5.9250     0.8797   6.735 2.09e-05 ***\n",
        "data[, 3]             7.8750     2.0444   3.852  0.00230 ** \n",
        "data[, 2]:data[, 3]  -0.5000     0.2782  -1.797  0.09749 .  \n",
        "---\n",
        "Signif. codes:  0 \u2018***\u2019 0.001 \u2018**\u2019 0.01 \u2018*\u2019 0.05 \u2018.\u2019 0.1 \u2018 \u2019 1\n",
        "\n",
        "Residual standard error: 2.488 on 12 degrees of freedom\n",
        "Multiple R-squared:  0.9622,\tAdjusted R-squared:  0.9528 \n",
        "F-statistic: 101.9 on 3 and 12 DF,  p-value: 8.379e-09\n",
        "\n"
       ]
      }
     ],
     "prompt_number": 7
    },
    {
     "cell_type": "markdown",
     "metadata": {},
     "source": [
      "<b>b.)</b> From above, we can see that the  p\u2212value = 0.09749 and therefore the interaction term\n",
      "\n",
      "is not statistically significant at $\\alpha = .05$. "
     ]
    },
    {
     "cell_type": "markdown",
     "metadata": {},
     "source": [
      "###8.16"
     ]
    },
    {
     "cell_type": "code",
     "collapsed": false,
     "input": [
      "%%R\n",
      "data_or <- read.table(\"CH01PR19.txt\")\n",
      "data_col <- read.table(\"CH08PR16.txt\")\n",
      "data <- data.frame(data_or,data_col)\n",
      "colnames(data) <- c(\"GPA\",\"ACT\",\"major\")\n",
      "fit <- lm(data$GPA~data$ACT+data$major)\n",
      "summary(fit)"
     ],
     "language": "python",
     "metadata": {},
     "outputs": [
      {
       "metadata": {},
       "output_type": "display_data",
       "text": [
        "\n",
        "Call:\n",
        "lm(formula = data$GPA ~ data$ACT + data$major)\n",
        "\n",
        "Residuals:\n",
        "     Min       1Q   Median       3Q      Max \n",
        "-2.70304 -0.35574  0.02541  0.45747  1.25037 \n",
        "\n",
        "Coefficients:\n",
        "            Estimate Std. Error t value Pr(>|t|)    \n",
        "(Intercept)  2.19842    0.33886   6.488 2.18e-09 ***\n",
        "data$ACT     0.03789    0.01285   2.949  0.00385 ** \n",
        "data$major  -0.09430    0.11997  -0.786  0.43341    \n",
        "---\n",
        "Signif. codes:  0 \u2018***\u2019 0.001 \u2018**\u2019 0.01 \u2018*\u2019 0.05 \u2018.\u2019 0.1 \u2018 \u2019 1\n",
        "\n",
        "Residual standard error: 0.6241 on 117 degrees of freedom\n",
        "Multiple R-squared:  0.07749,\tAdjusted R-squared:  0.06172 \n",
        "F-statistic: 4.914 on 2 and 117 DF,  p-value: 0.008928\n",
        "\n"
       ]
      }
     ],
     "prompt_number": 8
    },
    {
     "cell_type": "markdown",
     "metadata": {},
     "source": [
      "<b>a.)</b> and <b>b.)</b>\n",
      "We write the model as\n",
      "\n",
      "$\\hat{Y} = 2.19842 + .03789*ACT \u2212 .09430*major$\n",
      "\n",
      "because the ACT score is never zero, the intercept has no meaning for us, because it is outside the scope of the data.\n",
      "\n",
      "The parameter in front of ACT means that for every unit of increase in the ACT score, the grade point average of the student will increase by a factor of 0.038.\n",
      "\n",
      "The parameter in front of major signifies that if a student had declared a major prior to being accepted, then the grade point average of that student was on average 0.094 less than a student who had not declared a major."
     ]
    },
    {
     "cell_type": "markdown",
     "metadata": {},
     "source": [
      "<b>c.)</b>\n",
      "\n",
      "$H_0$: $\\beta_2$ is equal to zero.  $H_a$: $\\beta_2$ is not equal to zero. My decision rule is that I will reject the null hypothesis if the p-value is less than $\\alpha$\n",
      "\n",
      "The $X_2$ variable has p-value  of 0.43341 which is not significant at the $\\alpha = 0.01$ level. \n",
      " "
     ]
    },
    {
     "cell_type": "code",
     "collapsed": false,
     "input": [
      "%%R\n",
      "plot(data$ACT*data$major, fit$res)"
     ],
     "language": "python",
     "metadata": {},
     "outputs": [
      {
       "metadata": {},
       "output_type": "display_data",
       "png": "[encoded data removed]"
      }
     ],
     "prompt_number": 9
    },
    {
     "cell_type": "markdown",
     "metadata": {},
     "source": [
      "<b>d.)</b> There appears to be a positive correlation between the residuals and the interaction term, therefore including the interaction would probably benefit the model"
     ]
    },
    {
     "cell_type": "markdown",
     "metadata": {},
     "source": [
      "###8.17"
     ]
    },
    {
     "cell_type": "markdown",
     "metadata": {},
     "source": [
      "On the surface no, because \n",
      "\n",
      "(8.33) $Y_i = \\beta_0 + \\beta_1 X_{i1} +\\epsilon_i$\n",
      "\n",
      "is not the same as\n",
      "\n",
      "(8.49) $Y_i= \\beta_0 + \\beta_1 X_{i1} +\\beta_3 X_{i1} X_{i2} +\\epsilon_i$\n",
      "\n",
      "However, when we also constrain ourselves with the constraint of interpretability, we know that we must drop complex terms that include simple terms not present in our model. This means that for purposes of interpretability, we would also have to drop $\\beta_3$ from (8.49) and therefore the models would be the same."
     ]
    },
    {
     "cell_type": "markdown",
     "metadata": {},
     "source": [
      "###8.34"
     ]
    },
    {
     "cell_type": "markdown",
     "metadata": {},
     "source": [
      "<b>a.)</b>\n",
      "\n",
      "$$Y_i = \\beta_0 + \\beta_1 X_{1i} + \\beta_2 X_{2i} + \\beta_3 X_{3i} + \\epsilon_i$$\n",
      "\n",
      "<b>b.)</b>\n",
      "\n",
      "Commercial Bank: $Y_i = (\\beta_0 + \\beta_2) + \\beta_1 X_{1i} + \\epsilon_i$\n",
      "\n",
      "Mutual Savings:$Y_i = (\\beta_0 + \\beta_3) + \\beta_1 X_{1i} + \\epsilon_i$\n",
      "\n",
      "Savings and Loan:$Y_i = (\\beta_0 - \\beta_2 -\\beta_3) + \\beta_1 X_{1i} + \\epsilon_i$\n",
      "\n",
      "<b>c.)</b>\n",
      "\n",
      "(1) $\\beta_2$ here is the amount the model changes if you are a Commercial Bank.  \n",
      "\n",
      "(2) $\\beta_3$ here is the amount the model changes if you are a Mutual Savings.\n",
      "\n",
      "(3) $\\beta_3+\\beta_2$ here is the amount the model changes if you are a Savings and Loans."
     ]
    },
    {
     "cell_type": "markdown",
     "metadata": {},
     "source": [
      "###9.21"
     ]
    },
    {
     "cell_type": "code",
     "collapsed": false,
     "input": [
      "%%R\n",
      "s <-\"88.0   86.0  110.0  100.0   87.0\n",
      "   80.0   62.0   97.0   99.0  100.0\n",
      "   96.0  110.0  107.0  103.0  103.0\n",
      "   76.0  101.0  117.0   93.0   95.0\n",
      "   80.0  100.0  101.0   95.0   88.0\n",
      "   73.0   78.0   85.0   95.0   84.0\n",
      "   58.0  120.0   77.0   80.0   74.0\n",
      "  116.0  105.0  122.0  116.0  102.0\n",
      "  104.0  112.0  119.0  106.0  105.0\n",
      "   99.0  120.0   89.0  105.0   97.0\n",
      "   64.0   87.0   81.0   90.0   88.0\n",
      "  126.0  133.0  120.0  113.0  108.0\n",
      "   94.0  140.0  121.0   96.0   89.0\n",
      "   71.0   84.0  113.0   98.0   78.0\n",
      "  111.0  106.0  102.0  109.0  109.0\n",
      "  109.0  109.0  129.0  102.0  108.0\n",
      "  100.0  104.0   83.0  100.0  102.0\n",
      "  127.0  150.0  118.0  107.0  110.0\n",
      "   99.0   98.0  125.0  108.0   95.0\n",
      "   82.0  120.0   94.0   95.0   90.0\n",
      "   67.0   74.0  121.0   91.0   85.0\n",
      "  109.0   96.0  114.0  114.0  103.0\n",
      "   78.0  104.0   73.0   93.0   80.0\n",
      "  115.0   94.0  121.0  115.0  104.0\n",
      "   83.0   91.0  129.0   97.0   83.0\"\n",
      "x <- matrix(as.numeric(strsplit(s,\" +|\\\\n +\")[[1]]), ncol= 5, byrow = T)\n",
      "fit <- lm(x[,1] ~ x[,2]+x[,3]+x[,4]+x[,5])\n",
      "library(\"MASS\")\n",
      "stepAIC(fit)"
     ],
     "language": "python",
     "metadata": {},
     "outputs": [
      {
       "metadata": {},
       "output_type": "display_data",
       "text": [
        "Start:  AIC=74.95\n",
        "x[, 1] ~ x[, 2] + x[, 3] + x[, 4] + x[, 5]\n",
        "\n",
        "         Df Sum of Sq     RSS     AIC\n",
        "- x[, 3]  1     12.22  348.20  73.847\n",
        "<none>                 335.98  74.954\n",
        "- x[, 5]  1    260.74  596.72  87.314\n",
        "- x[, 2]  1    759.83 1095.81 102.509\n",
        "- x[, 4]  1   1064.15 1400.13 108.636\n",
        "\n",
        "Step:  AIC=73.85\n",
        "x[, 1] ~ x[, 2] + x[, 4] + x[, 5]\n",
        "\n",
        "         Df Sum of Sq     RSS     AIC\n",
        "<none>                 348.20  73.847\n",
        "- x[, 5]  1    258.46  606.66  85.727\n",
        "- x[, 2]  1    763.12 1111.31 100.861\n",
        "- x[, 4]  1   1324.39 1672.59 111.081\n",
        "\n",
        "Call:\n",
        "lm(formula = x[, 1] ~ x[, 2] + x[, 4] + x[, 5])\n",
        "\n",
        "Coefficients:\n",
        "(Intercept)       x[, 2]       x[, 4]       x[, 5]  \n",
        "  -124.2000       0.2963       1.3570       0.5174  \n",
        "\n"
       ]
      }
     ],
     "prompt_number": 28
    },
    {
     "cell_type": "markdown",
     "metadata": {},
     "source": [
      "Unfortunately, I can't seem to get PRESS to work in R. Step AIC tells me that we should not use $X_2$, therefore, I have"
     ]
    },
    {
     "cell_type": "code",
     "collapsed": false,
     "input": [
      "%%R\n",
      "summary(aov(x[,1] ~ x[,2]+x[,4]+x[,5]))"
     ],
     "language": "python",
     "metadata": {},
     "outputs": [
      {
       "metadata": {},
       "output_type": "display_data",
       "text": [
        "            Df Sum Sq Mean Sq F value   Pr(>F)    \n",
        "x[, 2]       1   2396    2396  144.50 7.05e-11 ***\n",
        "x[, 4]       1   6051    6051  364.97 9.36e-15 ***\n",
        "x[, 5]       1    258     258   15.59 0.000735 ***\n",
        "Residuals   21    348      17                     \n",
        "---\n",
        "Signif. codes:  0 \u2018***\u2019 0.001 \u2018**\u2019 0.01 \u2018*\u2019 0.05 \u2018.\u2019 0.1 \u2018 \u2019 1\n"
       ]
      }
     ],
     "prompt_number": 29
    },
    {
     "cell_type": "markdown",
     "metadata": {},
     "source": [
      "###10.9 (not part f)"
     ]
    },
    {
     "cell_type": "code",
     "collapsed": false,
     "input": [
      "%%R\n",
      "s <- \"64.0    4.0    2.0\n",
      "   73.0    4.0    4.0\n",
      "   61.0    4.0    2.0\n",
      "   76.0    4.0    4.0\n",
      "   72.0    6.0    2.0\n",
      "   80.0    6.0    4.0\n",
      "   71.0    6.0    2.0\n",
      "   83.0    6.0    4.0\n",
      "   83.0    8.0    2.0\n",
      "   89.0    8.0    4.0\n",
      "   86.0    8.0    2.0\n",
      "   93.0    8.0    4.0\n",
      "   88.0   10.0    2.0\n",
      "   95.0   10.0    4.0\n",
      "   94.0   10.0    2.0\n",
      "  100.0   10.0    4.0\"\n",
      "x <- strsplit(s,\" +|\\\\n +\")\n",
      "data <-matrix(as.numeric(x[[1]]), ncol=3, byrow =T)\n",
      "fit <-lm(data[,1] ~ data[,2]+data[,3]+data[,2]*data[,3])\n",
      "summary(fit)"
     ],
     "language": "python",
     "metadata": {},
     "outputs": [
      {
       "metadata": {},
       "output_type": "display_data",
       "text": [
        "\n",
        "Call:\n",
        "lm(formula = data[, 1] ~ data[, 2] + data[, 3] + data[, 2] * \n",
        "    data[, 3])\n",
        "\n",
        "Residuals:\n",
        "   Min     1Q Median     3Q    Max \n",
        "-4.150 -1.488  0.125  1.700  3.700 \n",
        "\n",
        "Coefficients:\n",
        "                    Estimate Std. Error t value Pr(>|t|)    \n",
        "(Intercept)          27.1500     6.4648   4.200  0.00123 ** \n",
        "data[, 2]             5.9250     0.8797   6.735 2.09e-05 ***\n",
        "data[, 3]             7.8750     2.0444   3.852  0.00230 ** \n",
        "data[, 2]:data[, 3]  -0.5000     0.2782  -1.797  0.09749 .  \n",
        "---\n",
        "Signif. codes:  0 \u2018***\u2019 0.001 \u2018**\u2019 0.01 \u2018*\u2019 0.05 \u2018.\u2019 0.1 \u2018 \u2019 1\n",
        "\n",
        "Residual standard error: 2.488 on 12 degrees of freedom\n",
        "Multiple R-squared:  0.9622,\tAdjusted R-squared:  0.9528 \n",
        "F-statistic: 101.9 on 3 and 12 DF,  p-value: 8.379e-09\n",
        "\n"
       ]
      }
     ],
     "prompt_number": 30
    },
    {
     "cell_type": "code",
     "collapsed": false,
     "input": [
      "%%R\n",
      "stu.del.res <- studres(fit)\n",
      "cat(abs(stu.del.res) ,\"\\n\")\n",
      "alpha = 0.01\n",
      "qt(1-alpha/3,12)"
     ],
     "language": "python",
     "metadata": {},
     "outputs": [
      {
       "metadata": {},
       "output_type": "display_data",
       "text": [
        "0.6821342 0.6567984 0.7846789 0.8106415 0.1881059 0.955496 0.6154781 0.3355786 0.2932796 0.4420852 1.744814 1.325896 2.4692 1.522964 0.915963 1.051375 \n",
        "[1] 3.27295\n"
       ]
      }
     ],
     "prompt_number": 38
    },
    {
     "cell_type": "markdown",
     "metadata": {},
     "source": [
      "<b>a.)</b>Because all the studentized residuals are less than 3.27, we conclude that there are no outliers.\n",
      "\n",
      "<b>b.)</b>"
     ]
    },
    {
     "cell_type": "code",
     "collapsed": false,
     "input": [
      "%%R\n",
      "X <- matrix(c(rep(1,16), data[,2],data[,3]), ncol = 3)\n",
      "hatMatrix <- t(X)%*%(solve())\n"
     ],
     "language": "python",
     "metadata": {},
     "outputs": [
      {
       "metadata": {},
       "output_type": "display_data",
       "text": [
        "     [,1] [,2] [,3] [,4] [,5] [,6] [,7] [,8] [,9] [,10] [,11] [,12] [,13] [,14]\n",
        "[1,]    1    1    1    1    1    1    1    1    1     1     1     1     1     1\n",
        "[2,]    4    4    4    4    6    6    6    6    8     8     8     8    10    10\n",
        "[3,]    2    4    2    4    2    4    2    4    2     4     2     4     2     4\n",
        "     [,15] [,16]\n",
        "[1,]     1     1\n",
        "[2,]    10    10\n",
        "[3,]     2     4\n"
       ]
      }
     ],
     "prompt_number": 40
    },
    {
     "cell_type": "code",
     "collapsed": false,
     "input": [],
     "language": "python",
     "metadata": {},
     "outputs": []
    }
   ],
   "metadata": {}
  }
 ]
}