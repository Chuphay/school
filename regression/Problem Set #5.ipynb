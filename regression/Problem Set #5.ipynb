{
 "metadata": {
  "name": "",
  "signature": "sha256:2b9811265d57bde9f101511b355ce6433b65e59a3f094d986e2e6cf23a138082"
 },
 "nbformat": 3,
 "nbformat_minor": 0,
 "worksheets": [
  {
   "cells": [
    {
     "cell_type": "code",
     "collapsed": false,
     "input": [
      "%load_ext rpy2.ipython"
     ],
     "language": "python",
     "metadata": {},
     "outputs": [],
     "prompt_number": 1
    },
    {
     "cell_type": "heading",
     "level": 1,
     "metadata": {},
     "source": [
      "Problem Set #5"
     ]
    },
    {
     "cell_type": "heading",
     "level": 4,
     "metadata": {},
     "source": [
      "6.5 "
     ]
    },
    {
     "cell_type": "code",
     "collapsed": false,
     "input": [
      "%%R\n",
      "s <- \"   64.0    4.0    2.0\n",
      "   73.0    4.0    4.0\n",
      "   61.0    4.0    2.0\n",
      "   76.0    4.0    4.0\n",
      "   72.0    6.0    2.0\n",
      "   80.0    6.0    4.0\n",
      "   71.0    6.0    2.0\n",
      "   83.0    6.0    4.0\n",
      "   83.0    8.0    2.0\n",
      "   89.0    8.0    4.0\n",
      "   86.0    8.0    2.0\n",
      "   93.0    8.0    4.0\n",
      "   88.0   10.0    2.0\n",
      "   95.0   10.0    4.0\n",
      "   94.0   10.0    2.0\n",
      "  100.0   10.0    4.0\"\n",
      "data <- strsplit(s, \"\\\\s+\")[[1]]\n",
      "data <- as.numeric(data[2:length(data)])\n",
      "data <- matrix(data, ncol = 3, byrow = T)\n",
      "pairs(~data[,1]+ data[,2]+data[,3], labels=c(\"Y\", \"X1\",\"X2\"))\n",
      "cor(data)"
     ],
     "language": "python",
     "metadata": {},
     "outputs": [
      {
       "metadata": {},
       "output_type": "display_data",
       "text": [
        "          [,1]      [,2]      [,3]\n",
        "[1,] 1.0000000 0.8923929 0.3945807\n",
        "[2,] 0.8923929 1.0000000 0.0000000\n",
        "[3,] 0.3945807 0.0000000 1.0000000\n"
       ]
      },
      {
       "metadata": {},
       "output_type": "display_data",
       "png": "[encoded data removed]"
      }
     ],
     "prompt_number": 18
    },
    {
     "cell_type": "code",
     "collapsed": false,
     "input": [
      "%%R\n",
      "fit <- lm(data[,1]~ data[,2]+data[,3])\n",
      "summary(fit)"
     ],
     "language": "python",
     "metadata": {},
     "outputs": [
      {
       "metadata": {},
       "output_type": "display_data",
       "text": [
        "\n",
        "Call:\n",
        "lm(formula = data[, 1] ~ data[, 2] + data[, 3])\n",
        "\n",
        "Residuals:\n",
        "   Min     1Q Median     3Q    Max \n",
        "-4.400 -1.762  0.025  1.587  4.200 \n",
        "\n",
        "Coefficients:\n",
        "            Estimate Std. Error t value Pr(>|t|)    \n",
        "(Intercept)  37.6500     2.9961  12.566 1.20e-08 ***\n",
        "data[, 2]     4.4250     0.3011  14.695 1.78e-09 ***\n",
        "data[, 3]     4.3750     0.6733   6.498 2.01e-05 ***\n",
        "---\n",
        "Signif. codes:  0 \u2018***\u2019 0.001 \u2018**\u2019 0.01 \u2018*\u2019 0.05 \u2018.\u2019 0.1 \u2018 \u2019 1\n",
        "\n",
        "Residual standard error: 2.693 on 13 degrees of freedom\n",
        "Multiple R-squared:  0.9521,\tAdjusted R-squared:  0.9447 \n",
        "F-statistic: 129.1 on 2 and 13 DF,  p-value: 2.658e-09\n",
        "\n"
       ]
      }
     ],
     "prompt_number": 20
    },
    {
     "cell_type": "code",
     "collapsed": false,
     "input": [
      "%%R\n",
      "resids <- fit$resid\n",
      "boxplot(resids)"
     ],
     "language": "python",
     "metadata": {},
     "outputs": [
      {
       "metadata": {},
       "output_type": "display_data",
       "png": "[encoded data removed]"
      }
     ],
     "prompt_number": 23
    },
    {
     "cell_type": "code",
     "collapsed": false,
     "input": [
      "%%R\n",
      "par(mfrow=c(2, 2))\n",
      "plot(data[,2], resids)\n",
      "plot(data[,3], resids)\n",
      "y_hat <- fit$coef[1] + fit$coef[2]*data[,2] + fit$coef[3]*data[,3]\n",
      "plot(y_hat, resids)\n",
      "plot(data[,2]*data[,3], resids)"
     ],
     "language": "python",
     "metadata": {},
     "outputs": [
      {
       "metadata": {},
       "output_type": "display_data",
       "png": "[encoded data removed]"
      }
     ],
     "prompt_number": 51
    },
    {
     "cell_type": "code",
     "collapsed": false,
     "input": [
      "%R qqnorm(resids);"
     ],
     "language": "python",
     "metadata": {},
     "outputs": [
      {
       "metadata": {},
       "output_type": "display_data",
       "png": "[encoded data removed]"
      }
     ],
     "prompt_number": 53
    },
    {
     "cell_type": "heading",
     "level": 3,
     "metadata": {},
     "source": [
      "6.6 "
     ]
    },
    {
     "cell_type": "heading",
     "level": 3,
     "metadata": {},
     "source": [
      "6.7 "
     ]
    },
    {
     "cell_type": "heading",
     "level": 3,
     "metadata": {},
     "source": [
      "6.8"
     ]
    },
    {
     "cell_type": "code",
     "collapsed": false,
     "input": [],
     "language": "python",
     "metadata": {},
     "outputs": []
    }
   ],
   "metadata": {}
  }
 ]
}