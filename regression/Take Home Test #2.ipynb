{
 "cells": [
  {
   "cell_type": "code",
   "execution_count": 1,
   "metadata": {
    "collapsed": true
   },
   "outputs": [],
   "source": [
    "%load_ext rpy2.ipython"
   ]
  },
  {
   "cell_type": "code",
   "execution_count": 2,
   "metadata": {
    "collapsed": false
   },
   "outputs": [
    {
     "data": {
      "text/plain": [
       "  wage educ exper tenure nonwhite female married numdep smsa northcen south\n",
       "1 3.10   11     2      0        0      1       0      2    1        0     0\n",
       "2 3.24   12    22      2        0      1       1      3    1        0     0\n",
       "3 3.00   11     2      0        0      0       0      2    0        0     0\n",
       "  west construc ndurman trcommpu trade services profserv profocc clerocc\n",
       "1    1        0       0        0     0        0        0       0       0\n",
       "2    1        0       0        0     0        1        0       0       0\n",
       "3    1        0       0        0     1        0        0       0       0\n",
       "  servocc    lwage expersq tenursq\n",
       "1       0 1.131402       4       0\n",
       "2       1 1.175573     484       4\n",
       "3       0 1.098612       4       0\n"
      ]
     },
     "metadata": {},
     "output_type": "display_data"
    }
   ],
   "source": [
    "%%R\n",
    "data <- read.table(\"takehome_report.csv\", sep = \",\", header = T)\n",
    "data[1:3,]"
   ]
  },
  {
   "cell_type": "code",
   "execution_count": 3,
   "metadata": {
    "collapsed": false
   },
   "outputs": [
    {
     "data": {
      "text/plain": [
       "\n",
       "Call:\n",
       "lm(formula = lwage ~ educ + educsq + exper + expersq + tenure + \n",
       "    tenursq + numdep + log(tenure + 1) + as.factor(female) + \n",
       "    as.factor(nonwhite) + as.factor(married) + as.factor(smsa) + \n",
       "    as.factor(northcen) + as.factor(south) + as.factor(west) + \n",
       "    as.factor(construc) + as.factor(ndurman) + as.factor(trcommpu) + \n",
       "    as.factor(trade) + as.factor(services) + as.factor(profserv) + \n",
       "    as.factor(profocc) + as.factor(clerocc) + as.factor(servocc) + \n",
       "    nonwhite_female, data = data)\n",
       "\n",
       "Residuals:\n",
       "     Min       1Q   Median       3Q      Max \n",
       "-1.69186 -0.21017 -0.00998  0.19911  1.26685 \n",
       "\n",
       "Coefficients:\n",
       "                       Estimate Std. Error t value Pr(>|t|)    \n",
       "(Intercept)           1.322e+00  1.877e-01   7.047 6.10e-12 ***\n",
       "educ                 -3.683e-02  2.796e-02  -1.318 0.188255    \n",
       "educsq                3.630e-03  1.169e-03   3.106 0.002007 ** \n",
       "exper                 2.751e-02  5.094e-03   5.401 1.02e-07 ***\n",
       "expersq              -5.795e-04  1.086e-04  -5.335 1.45e-07 ***\n",
       "tenure                4.135e-03  1.577e-02   0.262 0.793195    \n",
       "tenursq              -5.689e-06  3.609e-04  -0.016 0.987428    \n",
       "numdep               -2.173e-02  1.409e-02  -1.543 0.123553    \n",
       "log(tenure + 1)       6.801e-02  5.536e-02   1.228 0.219893    \n",
       "as.factor(female)1   -2.479e-01  3.847e-02  -6.443 2.76e-10 ***\n",
       "as.factor(nonwhite)1  2.627e-02  7.273e-02   0.361 0.718072    \n",
       "as.factor(married)1   4.833e-02  3.856e-02   1.253 0.210654    \n",
       "as.factor(smsa)1      1.420e-01  3.799e-02   3.739 0.000206 ***\n",
       "as.factor(northcen)1 -5.785e-02  4.616e-02  -1.253 0.210689    \n",
       "as.factor(south)1    -5.545e-02  4.437e-02  -1.250 0.211926    \n",
       "as.factor(west)1      4.882e-02  5.149e-02   0.948 0.343501    \n",
       "as.factor(construc)1 -4.880e-02  8.568e-02  -0.570 0.569207    \n",
       "as.factor(ndurman)1  -1.125e-01  6.369e-02  -1.767 0.077897 .  \n",
       "as.factor(trcommpu)1 -1.195e-01  8.906e-02  -1.342 0.180202    \n",
       "as.factor(trade)1    -2.923e-01  5.359e-02  -5.454 7.75e-08 ***\n",
       "as.factor(services)1 -3.205e-01  6.827e-02  -4.695 3.45e-06 ***\n",
       "as.factor(profserv)1 -1.049e-01  5.875e-02  -1.786 0.074742 .  \n",
       "as.factor(profocc)1   1.961e-01  4.882e-02   4.017 6.81e-05 ***\n",
       "as.factor(clerocc)1   4.208e-02  5.686e-02   0.740 0.459604    \n",
       "as.factor(servocc)1  -9.732e-02  5.692e-02  -1.710 0.087906 .  \n",
       "nonwhite_female      -1.003e-01  1.076e-01  -0.932 0.351825    \n",
       "---\n",
       "Signif. codes:  0 ‘***’ 0.001 ‘**’ 0.01 ‘*’ 0.05 ‘.’ 0.1 ‘ ’ 1\n",
       "\n",
       "Residual standard error: 0.3609 on 500 degrees of freedom\n",
       "Multiple R-squared:  0.5609,\tAdjusted R-squared:  0.5389 \n",
       "F-statistic: 25.55 on 25 and 500 DF,  p-value: < 2.2e-16\n",
       "\n"
      ]
     },
     "metadata": {},
     "output_type": "display_data"
    }
   ],
   "source": [
    "%%R\n",
    "nonwhite_female <- data$female*data$nonwhite\n",
    "educsq <- data$educ^2\n",
    "fit <- lm(lwage~ educ+educsq+exper+expersq+tenure+tenursq+numdep+log(tenure+1)+\n",
    "          as.factor(female)+as.factor(nonwhite)+as.factor(married)+\n",
    "          as.factor(smsa)+as.factor(northcen)+as.factor(south)+as.factor(west)+\n",
    "          as.factor(construc)+as.factor(ndurman)+as.factor(trcommpu)+as.factor(trade)+\n",
    "          as.factor(services)+as.factor(profserv)+as.factor(profocc)+\n",
    "          as.factor(clerocc)+as.factor(servocc)+nonwhite_female,data)\n",
    "summary(fit)"
   ]
  },
  {
   "cell_type": "code",
   "execution_count": null,
   "metadata": {
    "collapsed": true
   },
   "outputs": [],
   "source": []
  },
  {
   "cell_type": "code",
   "execution_count": 4,
   "metadata": {
    "collapsed": false
   },
   "outputs": [
    {
     "data": {
      "text/plain": [
       "Start:  AIC=-1046.75\n",
       "lwage ~ educ + educsq + exper + expersq + tenure + tenursq + \n",
       "    numdep + log(tenure + 1) + as.factor(female) + as.factor(nonwhite) + \n",
       "    as.factor(married) + as.factor(smsa) + as.factor(northcen) + \n",
       "    as.factor(south) + as.factor(west) + as.factor(construc) + \n",
       "    as.factor(ndurman) + as.factor(trcommpu) + as.factor(trade) + \n",
       "    as.factor(services) + as.factor(profserv) + as.factor(profocc) + \n",
       "    as.factor(clerocc) + as.factor(servocc) + nonwhite_female\n",
       "\n",
       "                      Df Sum of Sq    RSS     AIC\n",
       "- tenursq              1    0.0000 65.133 -1048.8\n",
       "- tenure               1    0.0090 65.142 -1048.7\n",
       "- as.factor(nonwhite)  1    0.0170 65.150 -1048.6\n",
       "- as.factor(construc)  1    0.0423 65.175 -1048.4\n",
       "- as.factor(clerocc)   1    0.0713 65.204 -1048.2\n",
       "- nonwhite_female      1    0.1131 65.246 -1047.8\n",
       "- as.factor(west)      1    0.1171 65.250 -1047.8\n",
       "- log(tenure + 1)      1    0.1966 65.329 -1047.2\n",
       "- as.factor(south)     1    0.2035 65.336 -1047.1\n",
       "- as.factor(northcen)  1    0.2046 65.337 -1047.1\n",
       "- as.factor(married)   1    0.2046 65.337 -1047.1\n",
       "- educ                 1    0.2261 65.359 -1046.9\n",
       "- as.factor(trcommpu)  1    0.2346 65.367 -1046.9\n",
       "<none>                             65.133 -1046.8\n",
       "- numdep               1    0.3100 65.443 -1046.2\n",
       "- as.factor(servocc)   1    0.3809 65.513 -1045.7\n",
       "- as.factor(ndurman)   1    0.4066 65.539 -1045.5\n",
       "- as.factor(profserv)  1    0.4154 65.548 -1045.4\n",
       "- educsq               1    1.2564 66.389 -1038.7\n",
       "- as.factor(smsa)      1    1.8210 66.954 -1034.2\n",
       "- as.factor(profocc)   1    2.1016 67.234 -1032.0\n",
       "- as.factor(services)  1    2.8713 68.004 -1026.1\n",
       "- expersq              1    3.7078 68.840 -1019.6\n",
       "- exper                1    3.8006 68.933 -1018.9\n",
       "- as.factor(trade)     1    3.8752 69.008 -1018.4\n",
       "- as.factor(female)    1    5.4072 70.540 -1006.8\n",
       "\n",
       "Step:  AIC=-1048.75\n",
       "lwage ~ educ + educsq + exper + expersq + tenure + numdep + log(tenure + \n",
       "    1) + as.factor(female) + as.factor(nonwhite) + as.factor(married) + \n",
       "    as.factor(smsa) + as.factor(northcen) + as.factor(south) + \n",
       "    as.factor(west) + as.factor(construc) + as.factor(ndurman) + \n",
       "    as.factor(trcommpu) + as.factor(trade) + as.factor(services) + \n",
       "    as.factor(profserv) + as.factor(profocc) + as.factor(clerocc) + \n",
       "    as.factor(servocc) + nonwhite_female\n",
       "\n",
       "                      Df Sum of Sq    RSS     AIC\n",
       "- as.factor(nonwhite)  1    0.0170 65.150 -1050.6\n",
       "- as.factor(construc)  1    0.0424 65.175 -1050.4\n",
       "- as.factor(clerocc)   1    0.0714 65.204 -1050.2\n",
       "- tenure               1    0.0855 65.218 -1050.1\n",
       "- nonwhite_female      1    0.1141 65.247 -1049.8\n",
       "- as.factor(west)      1    0.1179 65.251 -1049.8\n",
       "- as.factor(south)     1    0.2035 65.336 -1049.1\n",
       "- as.factor(northcen)  1    0.2048 65.337 -1049.1\n",
       "- as.factor(married)   1    0.2051 65.338 -1049.1\n",
       "- educ                 1    0.2278 65.361 -1048.9\n",
       "- as.factor(trcommpu)  1    0.2348 65.367 -1048.9\n",
       "<none>                             65.133 -1048.8\n",
       "- numdep               1    0.3108 65.443 -1048.2\n",
       "- as.factor(servocc)   1    0.3809 65.514 -1047.7\n",
       "- as.factor(ndurman)   1    0.4086 65.541 -1047.5\n",
       "- as.factor(profserv)  1    0.4156 65.548 -1047.4\n",
       "- log(tenure + 1)      1    0.5622 65.695 -1046.2\n",
       "- educsq               1    1.2605 66.393 -1040.7\n",
       "- as.factor(smsa)      1    1.8270 66.960 -1036.2\n",
       "- as.factor(profocc)   1    2.1023 67.235 -1034.0\n",
       "- as.factor(services)  1    2.8727 68.005 -1028.0\n",
       "- expersq              1    3.7968 68.929 -1021.0\n",
       "- as.factor(trade)     1    3.8805 69.013 -1020.3\n",
       "- exper                1    3.8989 69.032 -1020.2\n",
       "- as.factor(female)    1    5.4077 70.540 -1008.8\n",
       "\n",
       "Step:  AIC=-1050.61\n",
       "lwage ~ educ + educsq + exper + expersq + tenure + numdep + log(tenure + \n",
       "    1) + as.factor(female) + as.factor(married) + as.factor(smsa) + \n",
       "    as.factor(northcen) + as.factor(south) + as.factor(west) + \n",
       "    as.factor(construc) + as.factor(ndurman) + as.factor(trcommpu) + \n",
       "    as.factor(trade) + as.factor(services) + as.factor(profserv) + \n",
       "    as.factor(profocc) + as.factor(clerocc) + as.factor(servocc) + \n",
       "    nonwhite_female\n",
       "\n",
       "                      Df Sum of Sq    RSS     AIC\n",
       "- as.factor(construc)  1    0.0421 65.192 -1052.3\n",
       "- as.factor(clerocc)   1    0.0711 65.221 -1052.0\n",
       "- tenure               1    0.0838 65.234 -1051.9\n",
       "- nonwhite_female      1    0.1143 65.264 -1051.7\n",
       "- as.factor(west)      1    0.1158 65.265 -1051.7\n",
       "- as.factor(south)     1    0.1970 65.347 -1051.0\n",
       "- as.factor(northcen)  1    0.2034 65.353 -1051.0\n",
       "- as.factor(married)   1    0.2076 65.357 -1050.9\n",
       "- educ                 1    0.2412 65.391 -1050.7\n",
       "- as.factor(trcommpu)  1    0.2460 65.396 -1050.6\n",
       "<none>                             65.150 -1050.6\n",
       "- numdep               1    0.3075 65.457 -1050.1\n",
       "- as.factor(servocc)   1    0.3840 65.534 -1049.5\n",
       "- as.factor(ndurman)   1    0.4105 65.560 -1049.3\n",
       "- as.factor(profserv)  1    0.4231 65.573 -1049.2\n",
       "- log(tenure + 1)      1    0.5719 65.722 -1048.0\n",
       "- educsq               1    1.2904 66.440 -1042.3\n",
       "- as.factor(smsa)      1    1.8325 66.982 -1038.0\n",
       "- as.factor(profocc)   1    2.0918 67.241 -1036.0\n",
       "- as.factor(services)  1    2.8693 68.019 -1029.9\n",
       "- expersq              1    3.7801 68.930 -1022.9\n",
       "- exper                1    3.8834 69.033 -1022.2\n",
       "- as.factor(trade)     1    3.9396 69.089 -1021.7\n",
       "- as.factor(female)    1    5.7215 70.871 -1008.3\n",
       "\n",
       "Step:  AIC=-1052.27\n",
       "lwage ~ educ + educsq + exper + expersq + tenure + numdep + log(tenure + \n",
       "    1) + as.factor(female) + as.factor(married) + as.factor(smsa) + \n",
       "    as.factor(northcen) + as.factor(south) + as.factor(west) + \n",
       "    as.factor(ndurman) + as.factor(trcommpu) + as.factor(trade) + \n",
       "    as.factor(services) + as.factor(profserv) + as.factor(profocc) + \n",
       "    as.factor(clerocc) + as.factor(servocc) + nonwhite_female\n",
       "\n",
       "                      Df Sum of Sq    RSS     AIC\n",
       "- as.factor(clerocc)   1    0.0647 65.256 -1053.8\n",
       "- tenure               1    0.0839 65.276 -1053.6\n",
       "- nonwhite_female      1    0.1190 65.311 -1053.3\n",
       "- as.factor(west)      1    0.1191 65.311 -1053.3\n",
       "- as.factor(married)   1    0.2001 65.392 -1052.7\n",
       "- as.factor(south)     1    0.2032 65.395 -1052.6\n",
       "- as.factor(northcen)  1    0.2038 65.396 -1052.6\n",
       "- as.factor(trcommpu)  1    0.2123 65.404 -1052.6\n",
       "- educ                 1    0.2348 65.427 -1052.4\n",
       "<none>                             65.192 -1052.3\n",
       "- numdep               1    0.3005 65.492 -1051.8\n",
       "- as.factor(ndurman)   1    0.3684 65.560 -1051.3\n",
       "- as.factor(profserv)  1    0.3816 65.573 -1051.2\n",
       "- as.factor(servocc)   1    0.3821 65.574 -1051.2\n",
       "- log(tenure + 1)      1    0.5764 65.768 -1049.6\n",
       "- educsq               1    1.2809 66.473 -1044.0\n",
       "- as.factor(smsa)      1    1.8358 67.028 -1039.7\n",
       "- as.factor(profocc)   1    2.0817 67.273 -1037.7\n",
       "- as.factor(services)  1    2.9214 68.113 -1031.2\n",
       "- expersq              1    3.8219 69.014 -1024.3\n",
       "- exper                1    3.9624 69.154 -1023.2\n",
       "- as.factor(trade)     1    4.2756 69.467 -1020.9\n",
       "- as.factor(female)    1    5.6969 70.889 -1010.2\n",
       "\n",
       "Step:  AIC=-1053.75\n",
       "lwage ~ educ + educsq + exper + expersq + tenure + numdep + log(tenure + \n",
       "    1) + as.factor(female) + as.factor(married) + as.factor(smsa) + \n",
       "    as.factor(northcen) + as.factor(south) + as.factor(west) + \n",
       "    as.factor(ndurman) + as.factor(trcommpu) + as.factor(trade) + \n",
       "    as.factor(services) + as.factor(profserv) + as.factor(profocc) + \n",
       "    as.factor(servocc) + nonwhite_female\n",
       "\n",
       "                      Df Sum of Sq    RSS     AIC\n",
       "- tenure               1    0.0962 65.353 -1055.0\n",
       "- as.factor(west)      1    0.1164 65.373 -1054.8\n",
       "- nonwhite_female      1    0.1355 65.392 -1054.7\n",
       "- as.factor(trcommpu)  1    0.1876 65.444 -1054.2\n",
       "- as.factor(south)     1    0.1942 65.451 -1054.2\n",
       "- as.factor(northcen)  1    0.2024 65.459 -1054.1\n",
       "- as.factor(married)   1    0.2136 65.470 -1054.0\n",
       "- educ                 1    0.2205 65.477 -1054.0\n",
       "<none>                             65.256 -1053.8\n",
       "- numdep               1    0.2889 65.545 -1053.4\n",
       "- as.factor(profserv)  1    0.3249 65.581 -1053.1\n",
       "- as.factor(ndurman)   1    0.3784 65.635 -1052.7\n",
       "- log(tenure + 1)      1    0.5523 65.809 -1051.3\n",
       "- as.factor(servocc)   1    0.6603 65.917 -1050.5\n",
       "- educsq               1    1.2693 66.526 -1045.6\n",
       "- as.factor(smsa)      1    2.0106 67.267 -1039.8\n",
       "- as.factor(profocc)   1    2.3051 67.562 -1037.5\n",
       "- as.factor(services)  1    2.8780 68.134 -1033.0\n",
       "- expersq              1    3.8192 69.076 -1025.8\n",
       "- exper                1    3.9622 69.219 -1024.7\n",
       "- as.factor(trade)     1    4.2166 69.473 -1022.8\n",
       "- as.factor(female)    1    5.9558 71.212 -1009.8\n",
       "\n",
       "Step:  AIC=-1054.97\n",
       "lwage ~ educ + educsq + exper + expersq + numdep + log(tenure + \n",
       "    1) + as.factor(female) + as.factor(married) + as.factor(smsa) + \n",
       "    as.factor(northcen) + as.factor(south) + as.factor(west) + \n",
       "    as.factor(ndurman) + as.factor(trcommpu) + as.factor(trade) + \n",
       "    as.factor(services) + as.factor(profserv) + as.factor(profocc) + \n",
       "    as.factor(servocc) + nonwhite_female\n",
       "\n",
       "                      Df Sum of Sq    RSS     AIC\n",
       "- as.factor(west)      1    0.1038 65.456 -1056.1\n",
       "- nonwhite_female      1    0.1588 65.511 -1055.7\n",
       "- as.factor(trcommpu)  1    0.1943 65.547 -1055.4\n",
       "- as.factor(married)   1    0.2011 65.554 -1055.4\n",
       "- as.factor(south)     1    0.2136 65.566 -1055.3\n",
       "- as.factor(northcen)  1    0.2166 65.569 -1055.2\n",
       "- educ                 1    0.2286 65.581 -1055.1\n",
       "<none>                             65.353 -1055.0\n",
       "- numdep               1    0.2847 65.637 -1054.7\n",
       "- as.factor(profserv)  1    0.3487 65.701 -1054.2\n",
       "- as.factor(ndurman)   1    0.3707 65.723 -1054.0\n",
       "- as.factor(servocc)   1    0.6661 66.019 -1051.6\n",
       "- educsq               1    1.2831 66.636 -1046.8\n",
       "- as.factor(smsa)      1    2.0724 67.425 -1040.5\n",
       "- as.factor(profocc)   1    2.2687 67.621 -1039.0\n",
       "- as.factor(services)  1    2.8583 68.211 -1034.5\n",
       "- log(tenure + 1)      1    3.2812 68.634 -1031.2\n",
       "- expersq              1    3.7402 69.093 -1027.7\n",
       "- exper                1    3.9233 69.276 -1026.3\n",
       "- as.factor(trade)     1    4.2387 69.591 -1023.9\n",
       "- as.factor(female)    1    6.0864 71.439 -1010.1\n",
       "\n",
       "Step:  AIC=-1056.14\n",
       "lwage ~ educ + educsq + exper + expersq + numdep + log(tenure + \n",
       "    1) + as.factor(female) + as.factor(married) + as.factor(smsa) + \n",
       "    as.factor(northcen) + as.factor(south) + as.factor(ndurman) + \n",
       "    as.factor(trcommpu) + as.factor(trade) + as.factor(services) + \n",
       "    as.factor(profserv) + as.factor(profocc) + as.factor(servocc) + \n",
       "    nonwhite_female\n",
       "\n",
       "                      Df Sum of Sq    RSS     AIC\n",
       "- nonwhite_female      1    0.1492 65.606 -1056.9\n",
       "- as.factor(trcommpu)  1    0.1916 65.648 -1056.6\n",
       "- as.factor(married)   1    0.2059 65.662 -1056.5\n",
       "- educ                 1    0.2475 65.704 -1056.2\n",
       "<none>                             65.456 -1056.1\n",
       "- numdep               1    0.2876 65.744 -1055.8\n",
       "- as.factor(profserv)  1    0.3812 65.838 -1055.1\n",
       "- as.factor(ndurman)   1    0.3976 65.854 -1055.0\n",
       "- as.factor(northcen)  1    0.4800 65.936 -1054.3\n",
       "- as.factor(south)     1    0.5187 65.975 -1054.0\n",
       "- as.factor(servocc)   1    0.6734 66.130 -1052.8\n",
       "- educsq               1    1.3326 66.789 -1047.5\n",
       "- as.factor(smsa)      1    2.0728 67.529 -1041.7\n",
       "- as.factor(profocc)   1    2.2473 67.704 -1040.4\n",
       "- as.factor(services)  1    2.8696 68.326 -1035.6\n",
       "- log(tenure + 1)      1    3.2634 68.720 -1032.5\n",
       "- expersq              1    3.7985 69.255 -1028.5\n",
       "- exper                1    3.9862 69.443 -1027.0\n",
       "- as.factor(trade)     1    4.3046 69.761 -1024.6\n",
       "- as.factor(female)    1    6.0185 71.475 -1011.9\n",
       "\n",
       "Step:  AIC=-1056.94\n",
       "lwage ~ educ + educsq + exper + expersq + numdep + log(tenure + \n",
       "    1) + as.factor(female) + as.factor(married) + as.factor(smsa) + \n",
       "    as.factor(northcen) + as.factor(south) + as.factor(ndurman) + \n",
       "    as.factor(trcommpu) + as.factor(trade) + as.factor(services) + \n",
       "    as.factor(profserv) + as.factor(profocc) + as.factor(servocc)\n",
       "\n",
       "                      Df Sum of Sq    RSS     AIC\n",
       "- as.factor(trcommpu)  1    0.1792 65.785 -1057.5\n",
       "<none>                             65.606 -1056.9\n",
       "- educ                 1    0.2520 65.858 -1056.9\n",
       "- as.factor(married)   1    0.2719 65.877 -1056.8\n",
       "- numdep               1    0.3258 65.931 -1056.3\n",
       "- as.factor(profserv)  1    0.3907 65.996 -1055.8\n",
       "- as.factor(ndurman)   1    0.4000 66.006 -1055.8\n",
       "- as.factor(northcen)  1    0.4490 66.055 -1055.3\n",
       "- as.factor(south)     1    0.5269 66.133 -1054.7\n",
       "- as.factor(servocc)   1    0.6277 66.233 -1053.9\n",
       "- educsq               1    1.3310 66.937 -1048.4\n",
       "- as.factor(smsa)      1    2.0576 67.663 -1042.7\n",
       "- as.factor(profocc)   1    2.3383 67.944 -1040.5\n",
       "- as.factor(services)  1    3.0081 68.614 -1035.4\n",
       "- log(tenure + 1)      1    3.1829 68.789 -1034.0\n",
       "- expersq              1    3.6964 69.302 -1030.1\n",
       "- exper                1    3.8791 69.485 -1028.7\n",
       "- as.factor(trade)     1    4.3594 69.965 -1025.1\n",
       "- as.factor(female)    1    6.6667 72.272 -1008.0\n",
       "\n",
       "Step:  AIC=-1057.51\n",
       "lwage ~ educ + educsq + exper + expersq + numdep + log(tenure + \n",
       "    1) + as.factor(female) + as.factor(married) + as.factor(smsa) + \n",
       "    as.factor(northcen) + as.factor(south) + as.factor(ndurman) + \n",
       "    as.factor(trade) + as.factor(services) + as.factor(profserv) + \n",
       "    as.factor(profocc) + as.factor(servocc)\n",
       "\n",
       "                      Df Sum of Sq    RSS     AIC\n",
       "- educ                 1    0.2423 66.027 -1057.6\n",
       "<none>                             65.785 -1057.5\n",
       "- as.factor(married)   1    0.2552 66.040 -1057.5\n",
       "- as.factor(profserv)  1    0.2604 66.045 -1057.4\n",
       "- as.factor(ndurman)   1    0.2868 66.072 -1057.2\n",
       "- numdep               1    0.3226 66.107 -1056.9\n",
       "- as.factor(northcen)  1    0.4289 66.214 -1056.1\n",
       "- as.factor(south)     1    0.5481 66.333 -1055.1\n",
       "- as.factor(servocc)   1    0.6469 66.432 -1054.4\n",
       "- educsq               1    1.2736 67.058 -1049.4\n",
       "- as.factor(smsa)      1    2.0851 67.870 -1043.1\n",
       "- as.factor(profocc)   1    2.3630 68.148 -1041.0\n",
       "- as.factor(services)  1    2.8293 68.614 -1037.4\n",
       "- log(tenure + 1)      1    3.0751 68.860 -1035.5\n",
       "- expersq              1    3.8330 69.618 -1029.7\n",
       "- exper                1    4.0488 69.834 -1028.1\n",
       "- as.factor(trade)     1    4.2504 70.035 -1026.6\n",
       "- as.factor(female)    1    6.9441 72.729 -1006.7\n",
       "\n",
       "Step:  AIC=-1057.57\n",
       "lwage ~ educsq + exper + expersq + numdep + log(tenure + 1) + \n",
       "    as.factor(female) + as.factor(married) + as.factor(smsa) + \n",
       "    as.factor(northcen) + as.factor(south) + as.factor(ndurman) + \n",
       "    as.factor(trade) + as.factor(services) + as.factor(profserv) + \n",
       "    as.factor(profocc) + as.factor(servocc)\n",
       "\n",
       "                      Df Sum of Sq    RSS     AIC\n",
       "- as.factor(married)   1    0.2333 66.260 -1057.7\n",
       "<none>                             66.027 -1057.6\n",
       "- as.factor(profserv)  1    0.2560 66.283 -1057.5\n",
       "- numdep               1    0.2663 66.293 -1057.5\n",
       "- as.factor(ndurman)   1    0.2772 66.304 -1057.4\n",
       "- as.factor(northcen)  1    0.4590 66.486 -1055.9\n",
       "- as.factor(south)     1    0.5061 66.533 -1055.6\n",
       "- as.factor(servocc)   1    0.6389 66.666 -1054.5\n",
       "- as.factor(smsa)      1    2.0304 68.058 -1043.6\n",
       "- as.factor(profocc)   1    2.5151 68.542 -1039.9\n",
       "- as.factor(services)  1    2.7247 68.752 -1038.3\n",
       "- log(tenure + 1)      1    3.0553 69.082 -1035.8\n",
       "- expersq              1    3.6397 69.667 -1031.3\n",
       "- exper                1    3.9056 69.933 -1029.3\n",
       "- as.factor(trade)     1    4.3892 70.416 -1025.7\n",
       "- educsq               1    5.7047 71.732 -1016.0\n",
       "- as.factor(female)    1    7.2963 73.323 -1004.4\n",
       "\n",
       "Step:  AIC=-1057.72\n",
       "lwage ~ educsq + exper + expersq + numdep + log(tenure + 1) + \n",
       "    as.factor(female) + as.factor(smsa) + as.factor(northcen) + \n",
       "    as.factor(south) + as.factor(ndurman) + as.factor(trade) + \n",
       "    as.factor(services) + as.factor(profserv) + as.factor(profocc) + \n",
       "    as.factor(servocc)\n",
       "\n",
       "                      Df Sum of Sq    RSS     AIC\n",
       "- numdep               1    0.2002 66.461 -1058.1\n",
       "- as.factor(profserv)  1    0.2292 66.490 -1057.9\n",
       "<none>                             66.260 -1057.7\n",
       "- as.factor(ndurman)   1    0.2754 66.536 -1057.5\n",
       "- as.factor(northcen)  1    0.4384 66.699 -1056.2\n",
       "- as.factor(south)     1    0.4842 66.745 -1055.9\n",
       "- as.factor(servocc)   1    0.7004 66.961 -1054.2\n",
       "- as.factor(smsa)      1    1.9419 68.202 -1044.5\n",
       "- as.factor(profocc)   1    2.4439 68.704 -1040.7\n",
       "- as.factor(services)  1    2.7408 69.001 -1038.4\n",
       "- log(tenure + 1)      1    3.1773 69.438 -1035.1\n",
       "- expersq              1    4.3121 70.572 -1026.6\n",
       "- as.factor(trade)     1    4.4934 70.754 -1025.2\n",
       "- exper                1    4.9485 71.209 -1021.8\n",
       "- educsq               1    6.1402 72.401 -1013.1\n",
       "- as.factor(female)    1    7.8243 74.085 -1001.0\n",
       "\n",
       "Step:  AIC=-1058.13\n",
       "lwage ~ educsq + exper + expersq + log(tenure + 1) + as.factor(female) + \n",
       "    as.factor(smsa) + as.factor(northcen) + as.factor(south) + \n",
       "    as.factor(ndurman) + as.factor(trade) + as.factor(services) + \n",
       "    as.factor(profserv) + as.factor(profocc) + as.factor(servocc)\n",
       "\n",
       "                      Df Sum of Sq    RSS     AIC\n",
       "- as.factor(profserv)  1    0.2114 66.672 -1058.5\n",
       "<none>                             66.461 -1058.1\n",
       "- as.factor(ndurman)   1    0.2790 66.740 -1057.9\n",
       "- as.factor(northcen)  1    0.4099 66.870 -1056.9\n",
       "- as.factor(south)     1    0.4862 66.947 -1056.3\n",
       "- as.factor(servocc)   1    0.7654 67.226 -1054.1\n",
       "- as.factor(smsa)      1    2.0049 68.465 -1044.5\n",
       "- as.factor(profocc)   1    2.4265 68.887 -1041.3\n",
       "- as.factor(services)  1    2.6405 69.101 -1039.6\n",
       "- log(tenure + 1)      1    3.1686 69.629 -1035.6\n",
       "- expersq              1    4.1632 70.624 -1028.2\n",
       "- as.factor(trade)     1    4.4894 70.950 -1025.8\n",
       "- exper                1    4.7710 71.232 -1023.7\n",
       "- educsq               1    6.9642 73.425 -1007.7\n",
       "- as.factor(female)    1    7.8993 74.360 -1001.1\n",
       "\n",
       "Step:  AIC=-1058.46\n",
       "lwage ~ educsq + exper + expersq + log(tenure + 1) + as.factor(female) + \n",
       "    as.factor(smsa) + as.factor(northcen) + as.factor(south) + \n",
       "    as.factor(ndurman) + as.factor(trade) + as.factor(services) + \n",
       "    as.factor(profocc) + as.factor(servocc)\n",
       "\n",
       "                      Df Sum of Sq    RSS      AIC\n",
       "- as.factor(ndurman)   1    0.1410 66.813 -1059.35\n",
       "<none>                             66.672 -1058.46\n",
       "- as.factor(northcen)  1    0.4393 67.111 -1057.01\n",
       "- as.factor(south)     1    0.5083 67.180 -1056.47\n",
       "- as.factor(servocc)   1    1.0095 67.681 -1052.56\n",
       "- as.factor(smsa)      1    2.0346 68.707 -1044.65\n",
       "- as.factor(profocc)   1    2.2413 68.913 -1043.07\n",
       "- as.factor(services)  1    2.5100 69.182 -1041.02\n",
       "- log(tenure + 1)      1    3.3064 69.978 -1035.00\n",
       "- expersq              1    4.1627 70.835 -1028.61\n",
       "- exper                1    4.7298 71.402 -1024.41\n",
       "- as.factor(trade)     1    5.0195 71.691 -1022.28\n",
       "- educsq               1    6.7594 73.431 -1009.67\n",
       "- as.factor(female)    1    9.2285 75.900  -992.27\n",
       "\n",
       "Step:  AIC=-1059.35\n",
       "lwage ~ educsq + exper + expersq + log(tenure + 1) + as.factor(female) + \n",
       "    as.factor(smsa) + as.factor(northcen) + as.factor(south) + \n",
       "    as.factor(trade) + as.factor(services) + as.factor(profocc) + \n",
       "    as.factor(servocc)\n",
       "\n",
       "                      Df Sum of Sq    RSS      AIC\n",
       "<none>                             66.813 -1059.35\n",
       "- as.factor(northcen)  1    0.4687 67.282 -1057.67\n",
       "- as.factor(south)     1    0.5875 67.400 -1056.75\n",
       "- as.factor(servocc)   1    0.9630 67.776 -1053.82\n",
       "- as.factor(smsa)      1    2.1046 68.918 -1045.04\n",
       "- as.factor(profocc)   1    2.2650 69.078 -1043.81\n",
       "- as.factor(services)  1    2.3895 69.202 -1042.87\n",
       "- log(tenure + 1)      1    3.2258 70.039 -1036.55\n",
       "- expersq              1    4.2382 71.051 -1029.00\n",
       "- exper                1    4.7936 71.607 -1024.90\n",
       "- as.factor(trade)     1    4.9111 71.724 -1024.04\n",
       "- educsq               1    6.7633 73.576 -1010.63\n",
       "- as.factor(female)    1    9.1191 75.932  -994.05\n",
       "\n",
       "Call:\n",
       "lm(formula = lwage ~ educsq + exper + expersq + log(tenure + \n",
       "    1) + as.factor(female) + as.factor(smsa) + as.factor(northcen) + \n",
       "    as.factor(south) + as.factor(trade) + as.factor(services) + \n",
       "    as.factor(profocc) + as.factor(servocc), data = data)\n",
       "\n",
       "Coefficients:\n",
       "         (Intercept)                educsq                 exper  \n",
       "           1.0593899             0.0021911             0.0274904  \n",
       "             expersq       log(tenure + 1)    as.factor(female)1  \n",
       "          -0.0005501             0.0894390            -0.2745987  \n",
       "    as.factor(smsa)1  as.factor(northcen)1     as.factor(south)1  \n",
       "           0.1489722            -0.0768365            -0.0801721  \n",
       "   as.factor(trade)1  as.factor(services)1   as.factor(profocc)1  \n",
       "          -0.2266011            -0.2370681             0.1714026  \n",
       " as.factor(servocc)1  \n",
       "          -0.1337690  \n",
       "\n"
      ]
     },
     "metadata": {},
     "output_type": "display_data"
    }
   ],
   "source": [
    "%%R\n",
    "library(\"MASS\")\n",
    "stepAIC(fit)"
   ]
  },
  {
   "cell_type": "code",
   "execution_count": 5,
   "metadata": {
    "collapsed": false
   },
   "outputs": [
    {
     "data": {
      "text/plain": [
       "\n",
       "Call:\n",
       "lm(formula = lwage ~ educ + educsq + exper + expersq + log(tenure + \n",
       "    1) + female + smsa + trade + services + profocc + servocc, \n",
       "    data = data)\n",
       "\n",
       "Residuals:\n",
       "     Min       1Q   Median       3Q      Max \n",
       "-1.60761 -0.21281 -0.01215  0.21500  1.26731 \n",
       "\n",
       "Coefficients:\n",
       "                  Estimate Std. Error t value Pr(>|t|)    \n",
       "(Intercept)      1.174e+00  1.720e-01   6.830 2.41e-11 ***\n",
       "educ            -2.979e-02  2.738e-02  -1.088  0.27711    \n",
       "educsq           3.399e-03  1.155e-03   2.943  0.00340 ** \n",
       "exper            2.732e-02  4.527e-03   6.034 3.06e-09 ***\n",
       "expersq         -5.546e-04  9.673e-05  -5.733 1.69e-08 ***\n",
       "log(tenure + 1)  9.106e-02  1.802e-02   5.053 6.05e-07 ***\n",
       "female          -2.686e-01  3.306e-02  -8.123 3.41e-15 ***\n",
       "smsa             1.662e-01  3.640e-02   4.567 6.20e-06 ***\n",
       "trade           -2.273e-01  3.709e-02  -6.127 1.79e-09 ***\n",
       "services        -2.352e-01  5.555e-02  -4.234 2.72e-05 ***\n",
       "profocc          1.701e-01  4.124e-02   4.124 4.34e-05 ***\n",
       "servocc         -1.363e-01  4.926e-02  -2.766  0.00588 ** \n",
       "---\n",
       "Signif. codes:  0 ‘***’ 0.001 ‘**’ 0.01 ‘*’ 0.05 ‘.’ 0.1 ‘ ’ 1\n",
       "\n",
       "Residual standard error: 0.3621 on 514 degrees of freedom\n",
       "Multiple R-squared:  0.5456,\tAdjusted R-squared:  0.5359 \n",
       "F-statistic:  56.1 on 11 and 514 DF,  p-value: < 2.2e-16\n",
       "\n"
      ]
     },
     "metadata": {},
     "output_type": "display_data"
    }
   ],
   "source": [
    "%%R\n",
    "fit_AIC <- lm(formula = lwage ~ educ+educsq + exper + expersq + log(tenure + \n",
    "    1) + female + smsa +trade + services + \n",
    "    profocc + servocc, data = data)\n",
    "summary(fit_AIC)"
   ]
  },
  {
   "cell_type": "code",
   "execution_count": 6,
   "metadata": {
    "collapsed": false
   },
   "outputs": [],
   "source": [
    "%%R\n",
    "data['educsq'] <- data$educ^2\n",
    "\n",
    "fit <- lm(lwage~ educ+educsq+exper+expersq+tenure+tenursq+numdep+log(tenure+1)+\n",
    "          (female)+(nonwhite)+(married)+\n",
    "          (smsa)+(northcen)+(south)+(west)+\n",
    "          (construc)+(ndurman)+(trcommpu)+(trade)+\n",
    "          (services)+(profserv)+(profocc)+\n",
    "          (clerocc)+(servocc),data)\n",
    "#summary(fit)\n",
    "data['educsq'] <- (data$educ)^2"
   ]
  },
  {
   "cell_type": "code",
   "execution_count": 7,
   "metadata": {
    "collapsed": false
   },
   "outputs": [
    {
     "data": {
      "image/png": "[encoded data removed]"
     },
     "metadata": {},
     "output_type": "display_data"
    }
   ],
   "source": [
    "%%R\n",
    "hist(data$wage)"
   ]
  },
  {
   "cell_type": "code",
   "execution_count": 8,
   "metadata": {
    "collapsed": false
   },
   "outputs": [
    {
     "data": {
      "image/png": "[encoded data removed]"
     },
     "metadata": {},
     "output_type": "display_data"
    }
   ],
   "source": [
    "%%R\n",
    "data_no24 <-data[-24,]\n",
    "hist(data_no24$wage)"
   ]
  },
  {
   "cell_type": "code",
   "execution_count": 9,
   "metadata": {
    "collapsed": false
   },
   "outputs": [
    {
     "data": {
      "image/png": "[encoded data removed]"
     },
     "metadata": {},
     "output_type": "display_data"
    }
   ],
   "source": [
    "%%R\n",
    "plot(data_no24$exper^2, data_no24$lwage)"
   ]
  },
  {
   "cell_type": "code",
   "execution_count": 10,
   "metadata": {
    "collapsed": false
   },
   "outputs": [
    {
     "data": {
      "text/plain": [
       "length 525 \n"
      ]
     },
     "metadata": {},
     "output_type": "display_data"
    }
   ],
   "source": [
    "%%R\n",
    "cat('length', length(data_no24[,1]),'\\n')\n",
    "samples <- sample(length(data_no24[,1]),50)\n",
    "data_test <- data_no24[samples,]\n",
    "data_train <- data_no24[-samples,]\n",
    "\n"
   ]
  },
  {
   "cell_type": "code",
   "execution_count": 11,
   "metadata": {
    "collapsed": false
   },
   "outputs": [
    {
     "data": {
      "text/plain": [
       "\n",
       "Call:\n",
       "lm(formula = lwage ~ educ + educsq + exper + expersq + log(tenure + \n",
       "    1) + female + smsa + trade + services + profocc + servocc, \n",
       "    data = data_train)\n",
       "\n",
       "Residuals:\n",
       "     Min       1Q   Median       3Q      Max \n",
       "-1.11329 -0.21892 -0.01407  0.20665  1.11891 \n",
       "\n",
       "Coefficients:\n",
       "                  Estimate Std. Error t value Pr(>|t|)    \n",
       "(Intercept)      1.159e+00  1.758e-01   6.594 1.17e-10 ***\n",
       "educ            -2.827e-02  2.778e-02  -1.018 0.309421    \n",
       "educsq           3.380e-03  1.170e-03   2.889 0.004046 ** \n",
       "exper            2.634e-02  4.633e-03   5.686 2.31e-08 ***\n",
       "expersq         -5.378e-04  9.855e-05  -5.458 7.87e-08 ***\n",
       "log(tenure + 1)  8.888e-02  1.888e-02   4.708 3.31e-06 ***\n",
       "female          -2.428e-01  3.423e-02  -7.093 4.94e-12 ***\n",
       "smsa             1.738e-01  3.784e-02   4.592 5.66e-06 ***\n",
       "trade           -2.354e-01  3.831e-02  -6.144 1.74e-09 ***\n",
       "services        -2.046e-01  5.899e-02  -3.468 0.000573 ***\n",
       "profocc          1.466e-01  4.307e-02   3.404 0.000723 ***\n",
       "servocc         -1.277e-01  5.013e-02  -2.547 0.011191 *  \n",
       "---\n",
       "Signif. codes:  0 ‘***’ 0.001 ‘**’ 0.01 ‘*’ 0.05 ‘.’ 0.1 ‘ ’ 1\n",
       "\n",
       "Residual standard error: 0.3559 on 463 degrees of freedom\n",
       "Multiple R-squared:  0.536,\tAdjusted R-squared:  0.525 \n",
       "F-statistic: 48.63 on 11 and 463 DF,  p-value: < 2.2e-16\n",
       "\n"
      ]
     },
     "metadata": {},
     "output_type": "display_data"
    }
   ],
   "source": [
    "%%R\n",
    "fit_train <- lm(formula = lwage ~ educ+educsq + exper + expersq + log(tenure + \n",
    "    1) + female + smsa +trade + services + \n",
    "    profocc + servocc, data = data_train)\n",
    "#fit_train <- lm(formula = lwage ~  log(tenure + \n",
    "#    1) + female + smsa +trade + services + \n",
    "#    profocc + servocc, data = data_train)\n",
    "summary(fit_train)"
   ]
  },
  {
   "cell_type": "code",
   "execution_count": 12,
   "metadata": {
    "collapsed": false
   },
   "outputs": [
    {
     "data": {
      "text/plain": [
       "MSE:  0.1234356 \n",
       "MSPR:  0.1257757 \n",
       "MSPE:  0.3370042 \n",
       "          fit       lwr      upr\n",
       "441 2.4346157 1.7232837 3.145948\n",
       "173 1.7569850 1.0525580 2.461412\n",
       "399 1.8862673 1.1795834 2.592951\n",
       "500 1.9029275 1.1994788 2.606376\n",
       "462 1.4864903 0.7720563 2.200924\n",
       "429 1.5000333 0.7957572 2.204309\n",
       "400 1.8859385 1.1819447 2.589932\n",
       "292 1.2280942 0.5212269 1.934962\n",
       "495 1.5585866 0.8527462 2.264427\n",
       "162 1.0823009 0.3719496 1.792652\n",
       "330 1.3208791 0.6106906 2.031068\n",
       "248 1.1572783 0.4448089 1.869748\n",
       "442 1.5008873 0.7965797 2.205195\n",
       "471 1.6827804 0.9778810 2.387680\n",
       "66  2.3499230 1.6453274 3.054519\n",
       "117 1.3012132 0.5954017 2.007025\n",
       "163 1.9537364 1.2411701 2.666303\n",
       "53  1.6782906 0.9730929 2.383488\n",
       "374 1.5354413 0.8311981 2.239685\n",
       "340 1.4964722 0.7906200 2.202324\n",
       "14  1.9034214 1.1996871 2.607156\n",
       "219 1.6637716 0.9550953 2.372448\n",
       "64  1.3968692 0.6919513 2.101787\n",
       "526 1.4442586 0.7377546 2.150763\n",
       "364 1.5292484 0.8229707 2.235526\n",
       "31  2.2267422 1.5230854 2.930399\n",
       "464 1.6556532 0.9487145 2.362592\n",
       "191 1.3947050 0.6886644 2.100746\n",
       "301 1.7075499 0.9921920 2.422908\n",
       "203 1.5164605 0.8089582 2.223963\n",
       "268 1.2554663 0.5484784 1.962454\n",
       "491 1.8804640 1.1744853 2.586443\n",
       "339 2.1996822 1.4967707 2.902594\n",
       "132 1.8546233 1.1483335 2.560913\n",
       "432 1.8091735 1.1044575 2.513890\n",
       "377 1.7830113 1.0775341 2.488488\n",
       "51  1.0313855 0.3160442 1.746727\n",
       "505 2.2252511 1.5224802 2.928022\n",
       "89  1.8022226 1.0952775 2.509168\n",
       "470 1.3512929 0.6293346 2.073251\n",
       "110 1.9291435 1.2162457 2.642041\n",
       "209 1.4932518 0.7858738 2.200630\n",
       "250 0.9321102 0.2069429 1.657277\n",
       "452 0.9914933 0.2783091 1.704677\n",
       "387 1.3699904 0.6611632 2.078818\n",
       "440 1.6799861 0.9723862 2.387586\n",
       "480 1.3063728 0.5934625 2.019283\n",
       "428 0.9604473 0.2543685 1.666526\n",
       "469 1.6830520 0.9753762 2.390728\n",
       "474 1.0268197 0.3215371 1.732102\n"
      ]
     },
     "metadata": {},
     "output_type": "display_data"
    }
   ],
   "source": [
    "%%R\n",
    "cat('MSE: ',sum(fit_train$res^2)/length(data_train[,1]),'\\n')\n",
    "MSPR <- sum((data_test$lwage - predict(fit_train, data_test))^2)/length(data_test[,1])\n",
    "MSPE <- sum((data_test$lwage - mean(data_test$lwage))^2)/length(data_test[,1])\n",
    "cat('MSPR: ', MSPR, '\\n')\n",
    "cat('MSPE: ', MSPE, '\\n')\n",
    "predict(fit_train, data_test, interval=\"predict\") "
   ]
  },
  {
   "cell_type": "code",
   "execution_count": 13,
   "metadata": {
    "collapsed": false
   },
   "outputs": [
    {
     "data": {
      "text/plain": [
       "    (Intercept)            educ          educsq           exper         expersq \n",
       "   2.589719e-01   -1.057851e-02    9.999113e-05   -1.679909e-02    3.718016e-04 \n",
       "log(tenure + 1)          female            smsa           trade        services \n",
       "   7.018661e-02   -2.825824e-01   -4.596489e-02    5.185513e-02   -1.924903e-01 \n",
       "        profocc         servocc \n",
       "   2.644255e-01    1.472131e-01 \n"
      ]
     },
     "metadata": {},
     "output_type": "display_data"
    }
   ],
   "source": [
    "%%R\n",
    "fit_test <- lm(formula = lwage ~ educ + educsq + exper + expersq + log(tenure + \n",
    "    1) + female + smsa +trade + services + \n",
    "    profocc + servocc, data = data_test)\n",
    "fit_test$coef - fit_train$coef"
   ]
  },
  {
   "cell_type": "code",
   "execution_count": 29,
   "metadata": {
    "collapsed": false
   },
   "outputs": [
    {
     "data": {
      "text/plain": [
       "     real      pred         diff\n",
       "441 11.25 11.411433  0.161432723\n",
       "173  5.25  5.794939  0.544939457\n",
       "399 10.92  6.594707  4.325293232\n",
       "500  7.25  6.705496  0.544504156\n",
       "462  3.75  4.421550  0.671550068\n",
       "429  3.35  4.481838  1.131838136\n",
       "400  7.50  6.592538  0.907461638\n",
       "292  3.18  3.414716  0.234715590\n",
       "495  3.30  4.752100  1.452099996\n",
       "162  3.13  2.951463  0.178537342\n",
       "330  3.35  3.746714  0.396713533\n",
       "248  1.96  3.181263  1.221262944\n",
       "442  3.50  4.485668  0.985667656\n",
       "471  5.00  5.380495  0.380495270\n",
       "66  19.98 10.484762  9.495237810\n",
       "117  3.50  3.673751  0.173750795\n",
       "163  8.00  7.054999  0.945001275\n",
       "53   5.00  5.356392  0.356392007\n",
       "374  3.13  4.643374  1.513374243\n",
       "340  4.50  4.465906  0.034093660\n",
       "14   5.50  6.708809  1.208808527\n",
       "219  3.25  5.279184  2.029184233\n",
       "64   3.71  4.042524  0.332523923\n",
       "526  3.50  4.238708  0.738708308\n",
       "364  3.35  4.614707  1.264707039\n",
       "31  13.00  9.269618  3.730381902\n",
       "464  3.50  5.236499  1.736499251\n",
       "191  3.50  4.033785  0.533784531\n",
       "301  6.08  5.515432  0.564568360\n",
       "203 10.00  4.556070  5.443929570\n",
       "268  3.50  3.509474  0.009474439\n",
       "491  6.25  6.556546  0.306546184\n",
       "339 12.22  9.022146  3.197854444\n",
       "132  5.00  6.389291  1.389290920\n",
       "432  4.50  6.105399  1.605399353\n",
       "377  6.80  5.947740  0.852260244\n",
       "51   1.63  2.804949  1.174949306\n",
       "505 17.71  9.255807  8.454193343\n",
       "89   9.85  6.063108  3.786891916\n",
       "470  3.00  3.862416  0.862416016\n",
       "110  9.80  6.883612  2.916388016\n",
       "209  6.15  4.451548  1.698452287\n",
       "250  3.00  2.539863  0.460136961\n",
       "452  3.25  2.695256  0.554743794\n",
       "387  4.14  3.935313  0.204687239\n",
       "440 20.00  5.365481 14.634518659\n",
       "480  3.25  3.692755  0.442755145\n",
       "428  2.88  2.612865  0.267135109\n",
       "469  8.00  5.381957  2.618043097\n",
       "474  3.00  2.792172  0.207828145\n"
      ]
     },
     "metadata": {},
     "output_type": "display_data"
    }
   ],
   "source": [
    "%%R\n",
    "wage_prediction <- data.frame( data_test$wage, exp(predict(fit_train, data_test)), \n",
    "                              abs(data_test$wage - exp(predict(fit_train, data_test))),\n",
    "                             data_test$lwage , predict(fit_train, data_test),\n",
    "                             abs(data_test$lwage - (predict(fit_train, data_test)))) #-predict(fit_train, data_test)\n",
    "\n",
    "colnames(wage_prediction) <- c('real','pred','diff', 'lwage', 'lpred','ldiff')\n",
    "wage_prediction[c('real','pred','diff')]"
   ]
  },
  {
   "cell_type": "code",
   "execution_count": 15,
   "metadata": {
    "collapsed": false
   },
   "outputs": [
    {
     "data": {
      "text/plain": [
       "0.4 0.8 \n",
       "0.41 0.82 \n",
       "0.42 0.82 \n",
       "0.43 0.82 \n",
       "0.44 0.82 \n",
       "0.45 0.82 \n",
       "0.46 0.82 \n",
       "0.47 0.82 \n",
       "0.48 0.82 \n",
       "0.49 0.88 \n",
       "0.5 0.88 \n",
       "0.51 0.9 \n",
       "0.52 0.9 \n",
       "0.53 0.9 \n",
       "0.54 0.9 \n",
       "0.55 0.92 \n",
       "0.56 0.92 \n",
       "0.57 0.92 \n",
       "0.58 0.92 \n",
       "0.59 0.92 \n",
       "0.6 0.92 \n"
      ]
     },
     "metadata": {},
     "output_type": "display_data"
    }
   ],
   "source": [
    "%%R\n",
    "for (i in seq(0.4,0.6,by=0.01)){\n",
    "    cat(i,sum(wage_prediction$ldiff < i)/length(wage_prediction$diff),'\\n')\n",
    "        #sum(wage_prediction$diff < exp(i))/length(wage_prediction$diff),'\\n')\n",
    "    }"
   ]
  },
  {
   "cell_type": "code",
   "execution_count": 16,
   "metadata": {
    "collapsed": false
   },
   "outputs": [
    {
     "data": {
      "text/plain": [
       "\n",
       "Call:\n",
       "lm(formula = lwage ~ ., data = data[, model])\n",
       "\n",
       "Residuals:\n",
       "     Min       1Q   Median       3Q      Max \n",
       "-1.58499 -0.20715 -0.02643  0.20975  1.30206 \n",
       "\n",
       "Coefficients:\n",
       "              Estimate Std. Error t value Pr(>|t|)    \n",
       "(Intercept)  1.187e+00  1.724e-01   6.882 1.72e-11 ***\n",
       "educ        -2.758e-02  2.745e-02  -1.005  0.31557    \n",
       "educsq       3.372e-03  1.158e-03   2.911  0.00376 ** \n",
       "exper        2.957e-02  4.442e-03   6.656 7.23e-11 ***\n",
       "expersq     -6.021e-04  9.607e-05  -6.268 7.76e-10 ***\n",
       "tenure       1.245e-02  2.632e-03   4.732 2.88e-06 ***\n",
       "female      -2.644e-01  3.336e-02  -7.924 1.44e-14 ***\n",
       "smsa         1.607e-01  3.656e-02   4.396 1.34e-05 ***\n",
       "trade       -2.339e-01  3.707e-02  -6.311 5.99e-10 ***\n",
       "services    -2.492e-01  5.544e-02  -4.494 8.62e-06 ***\n",
       "profocc      1.775e-01  4.131e-02   4.296 2.08e-05 ***\n",
       "servocc     -1.341e-01  4.941e-02  -2.715  0.00685 ** \n",
       "---\n",
       "Signif. codes:  0 ‘***’ 0.001 ‘**’ 0.01 ‘*’ 0.05 ‘.’ 0.1 ‘ ’ 1\n",
       "\n",
       "Residual standard error: 0.3632 on 514 degrees of freedom\n",
       "Multiple R-squared:  0.5429,\tAdjusted R-squared:  0.5331 \n",
       "F-statistic:  55.5 on 11 and 514 DF,  p-value: < 2.2e-16\n",
       "\n"
      ]
     },
     "metadata": {},
     "output_type": "display_data"
    }
   ],
   "source": [
    "%%R\n",
    "model <- c('lwage', 'educ','educsq','exper','expersq','tenure','female', 'smsa', 'trade', 'services','profocc', 'servocc')\n",
    "fit_AIC <- lm(formula = lwage ~ ., data = data[,model])\n",
    "summary(fit_AIC)"
   ]
  },
  {
   "cell_type": "code",
   "execution_count": 19,
   "metadata": {
    "collapsed": false
   },
   "outputs": [
    {
     "data": {
      "text/plain": [
       "          fit       lwr      upr data_test.lwage\n",
       "441 2.4346157 1.7232837 3.145948       2.4203680\n",
       "173 1.7569850 1.0525580 2.461412       1.6582280\n",
       "399 1.8862673 1.1795834 2.592951       2.3905960\n",
       "500 1.9029275 1.1994788 2.606376       1.9810010\n",
       "462 1.4864903 0.7720563 2.200924       1.3217560\n",
       "429 1.5000333 0.7957572 2.204309       1.2089600\n",
       "400 1.8859385 1.1819447 2.589932       2.0149030\n",
       "292 1.2280942 0.5212269 1.934962       1.1568810\n",
       "495 1.5585866 0.8527462 2.264427       1.1939220\n",
       "162 1.0823009 0.3719496 1.792652       1.1410330\n",
       "330 1.3208791 0.6106906 2.031068       1.2089600\n",
       "248 1.1572783 0.4448089 1.869748       0.6729445\n",
       "442 1.5008873 0.7965797 2.205195       1.2527630\n",
       "471 1.6827804 0.9778810 2.387680       1.6094380\n",
       "66  2.3499230 1.6453274 3.054519       2.9947320\n",
       "117 1.3012132 0.5954017 2.007025       1.2527630\n",
       "163 1.9537364 1.2411701 2.666303       2.0794420\n",
       "53  1.6782906 0.9730929 2.383488       1.6094380\n",
       "374 1.5354413 0.8311981 2.239685       1.1410330\n",
       "340 1.4964722 0.7906200 2.202324       1.5040770\n",
       "14  1.9034214 1.1996871 2.607156       1.7047480\n",
       "219 1.6637716 0.9550953 2.372448       1.1786550\n",
       "64  1.3968692 0.6919513 2.101787       1.3110320\n",
       "526 1.4442586 0.7377546 2.150763       1.2527630\n",
       "364 1.5292484 0.8229707 2.235526       1.2089600\n",
       "31  2.2267422 1.5230854 2.930399       2.5649490\n",
       "464 1.6556532 0.9487145 2.362592       1.2527630\n",
       "191 1.3947050 0.6886644 2.100746       1.2527630\n",
       "301 1.7075499 0.9921920 2.422908       1.8050050\n",
       "203 1.5164605 0.8089582 2.223963       2.3025850\n",
       "268 1.2554663 0.5484784 1.962454       1.2527630\n",
       "491 1.8804640 1.1744853 2.586443       1.8325820\n",
       "339 2.1996822 1.4967707 2.902594       2.5030740\n",
       "132 1.8546233 1.1483335 2.560913       1.6094380\n",
       "432 1.8091735 1.1044575 2.513890       1.5040770\n",
       "377 1.7830113 1.0775341 2.488488       1.9169230\n",
       "51  1.0313855 0.3160442 1.746727       0.4885800\n",
       "505 2.2252511 1.5224802 2.928022       2.8741290\n",
       "89  1.8022226 1.0952775 2.509168       2.2874720\n",
       "470 1.3512929 0.6293346 2.073251       1.0986120\n",
       "110 1.9291435 1.2162457 2.642041       2.2823820\n",
       "209 1.4932518 0.7858738 2.200630       1.8164520\n",
       "250 0.9321102 0.2069429 1.657277       1.0986120\n",
       "452 0.9914933 0.2783091 1.704677       1.1786550\n",
       "387 1.3699904 0.6611632 2.078818       1.4206960\n",
       "440 1.6799861 0.9723862 2.387586       2.9957320\n",
       "480 1.3063728 0.5934625 2.019283       1.1786550\n",
       "428 0.9604473 0.2543685 1.666526       1.0577900\n",
       "469 1.6830520 0.9753762 2.390728       2.0794420\n",
       "474 1.0268197 0.3215371 1.732102       1.0986120\n"
      ]
     },
     "metadata": {},
     "output_type": "display_data"
    }
   ],
   "source": [
    "%%R\n",
    "pred <- predict(fit_train, data_test, interval=\"predict\") \n",
    "df <- data.frame(pred, data_test$lwage)\n",
    "df"
   ]
  },
  {
   "cell_type": "code",
   "execution_count": 25,
   "metadata": {
    "collapsed": false
   },
   "outputs": [
    {
     "data": {
      "text/plain": [
       " [1]  TRUE  TRUE  TRUE  TRUE  TRUE  TRUE  TRUE  TRUE  TRUE  TRUE  TRUE  TRUE\n",
       "[13]  TRUE  TRUE  TRUE  TRUE  TRUE  TRUE  TRUE  TRUE  TRUE  TRUE  TRUE  TRUE\n",
       "[25]  TRUE  TRUE  TRUE  TRUE  TRUE FALSE  TRUE  TRUE  TRUE  TRUE  TRUE  TRUE\n",
       "[37]  TRUE  TRUE  TRUE  TRUE  TRUE  TRUE  TRUE  TRUE  TRUE FALSE  TRUE  TRUE\n",
       "[49]  TRUE  TRUE\n"
      ]
     },
     "metadata": {},
     "output_type": "display_data"
    }
   ],
   "source": [
    "%%R\n",
    "df$data_test.lwage < df$upr"
   ]
  },
  {
   "cell_type": "code",
   "execution_count": 26,
   "metadata": {
    "collapsed": false
   },
   "outputs": [
    {
     "data": {
      "text/plain": [
       "0.04"
      ]
     },
     "execution_count": 26,
     "metadata": {},
     "output_type": "execute_result"
    }
   ],
   "source": [
    "1/25"
   ]
  },
  {
   "cell_type": "code",
   "execution_count": null,
   "metadata": {
    "collapsed": true
   },
   "outputs": [],
   "source": []
  }
 ],
 "metadata": {
  "kernelspec": {
   "display_name": "Python 3",
   "language": "python",
   "name": "python3"
  },
  "language_info": {
   "codemirror_mode": {
    "name": "ipython",
    "version": 3
   },
   "file_extension": ".py",
   "mimetype": "text/x-python",
   "name": "python",
   "nbconvert_exporter": "python",
   "pygments_lexer": "ipython3",
   "version": "3.4.1"
  }
 },
 "nbformat": 4,
 "nbformat_minor": 0
}
