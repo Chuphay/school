{
 "metadata": {
  "name": "",
  "signature": "sha256:1dd21dffd97f421b05c7ef1b6cc23401a15f4b58522bb48d77c5cefd66029da3"
 },
 "nbformat": 3,
 "nbformat_minor": 0,
 "worksheets": [
  {
   "cells": [
    {
     "cell_type": "heading",
     "level": 1,
     "metadata": {},
     "source": [
      "Problem Set #2"
     ]
    },
    {
     "cell_type": "markdown",
     "metadata": {},
     "source": [
      "<h3>1</h3>\n",
      "\n",
      "a.) Yes, the conclusion is warranted because the 95% confidence interval does not contain zero. The significance level is 95%.\n",
      "\n",
      "b.) Zero population is outside the scope of this study. All of the data was in the millions of people and we therefore cannot make any meaningful statements about the sales when the population is zero."
     ]
    },
    {
     "cell_type": "markdown",
     "metadata": {},
     "source": [
      "<h3>2</h3>\n",
      "\n",
      "No it does not imply that there is no linear association, it only implies that the association is not positive."
     ]
    },
    {
     "cell_type": "markdown",
     "metadata": {},
     "source": [
      "<h3>6</h3>"
     ]
    },
    {
     "cell_type": "code",
     "collapsed": false,
     "input": [
      "%load_ext rpy2.ipython"
     ],
     "language": "python",
     "metadata": {},
     "outputs": [
      {
       "output_type": "stream",
       "stream": "stdout",
       "text": [
        "The rpy2.ipython extension is already loaded. To reload it, use:\n",
        "  %reload_ext rpy2.ipython\n"
       ]
      }
     ],
     "prompt_number": 2
    },
    {
     "cell_type": "code",
     "collapsed": false,
     "input": [
      "%%R\n",
      "x <- c(1,0,2,0,3,1,0,1,2,0)\n",
      "y <- c(16, 9, 17, 12, 22, 13, 8, 15, 19, 11)\n",
      "\n",
      "b_1 <- cov(x,y)/var(x)\n",
      "b_0 <- mean(y) -b_1*mean(x)\n",
      "\n",
      "\n",
      "resids <- y - b_0 -b_1*x\n",
      "\n",
      "MSE <- sum(resids^2)/8\n",
      "s <- sqrt(MSE/sum((x-mean(x))^2))\n",
      "cat('a.) [', b_1 - qt(0.975,8)*s,',',b_1 + qt(0.975,8)*s,']\\n')\n",
      "cat('With 95% confidence, there is a positive relation between number of transfers and breakage\\n')"
     ],
     "language": "python",
     "metadata": {},
     "outputs": [
      {
       "metadata": {},
       "output_type": "display_data",
       "text": [
        "a.) [ 2.918388 , 5.081612 ]\n",
        "With 95% confidence, there is a positive relation between number of transfers and breakage\n"
       ]
      }
     ],
     "prompt_number": 35
    },
    {
     "cell_type": "code",
     "collapsed": false,
     "input": [
      "%%R\n",
      "fit <- lm(y~x)\n",
      "summary(fit)"
     ],
     "language": "python",
     "metadata": {},
     "outputs": [
      {
       "metadata": {},
       "output_type": "display_data",
       "text": [
        "\n",
        "Call:\n",
        "lm(formula = y ~ x)\n",
        "\n",
        "Residuals:\n",
        "   Min     1Q Median     3Q    Max \n",
        "  -2.2   -1.2    0.3    0.8    1.8 \n",
        "\n",
        "Coefficients:\n",
        "            Estimate Std. Error t value Pr(>|t|)    \n",
        "(Intercept)  10.2000     0.6633  15.377 3.18e-07 ***\n",
        "x             4.0000     0.4690   8.528 2.75e-05 ***\n",
        "---\n",
        "Signif. codes:  0 \u2018***\u2019 0.001 \u2018**\u2019 0.01 \u2018*\u2019 0.05 \u2018.\u2019 0.1 \u2018 \u2019 1\n",
        "\n",
        "Residual standard error: 1.483 on 8 degrees of freedom\n",
        "Multiple R-squared:  0.9009,\tAdjusted R-squared:  0.8885 \n",
        "F-statistic: 72.73 on 1 and 8 DF,  p-value: 2.749e-05\n",
        "\n"
       ]
      }
     ],
     "prompt_number": 36
    },
    {
     "cell_type": "markdown",
     "metadata": {},
     "source": [
      "b.) We can see that t-value is about 8.5 and the p-value is close to zero. The null-hypothesis is that there is no linear association, and the alternative hypothesis is that there is. The decision rule is that the p-value has to be below 0.05 for us to reject the null-hypothesis. Since the p-value is almost zero, we reject the null-hypothesis and state that there is a linear association between X and Y"
     ]
    },
    {
     "cell_type": "code",
     "collapsed": false,
     "input": [
      "%%R\n",
      "s <- sqrt(MSE*(1/10 + mean(x)^2/sum((x-mean(x))^2)))\n",
      "cat('c.) [', b_0 - qt(0.975,8)*s,',',b_0 + qt(0.975,8)*s,']\\n')\n",
      "cat('With 95% confidence, even without any transfers, many ampules will break.\\n')          "
     ],
     "language": "python",
     "metadata": {},
     "outputs": [
      {
       "metadata": {},
       "output_type": "display_data",
       "text": [
        "c.) [ 8.67037 , 11.72963 ]\n",
        "With 95% confidence, even without any transfers, many ampules will break.\n"
       ]
      }
     ],
     "prompt_number": 39
    },
    {
     "cell_type": "markdown",
     "metadata": {},
     "source": [
      "<h3>9</h3>"
     ]
    },
    {
     "cell_type": "markdown",
     "metadata": {},
     "source": [
      "$s[Y_h]$ depends on the specific value of $X_h$. It therefore does not make sense to talk about all $Y_h$"
     ]
    },
    {
     "cell_type": "markdown",
     "metadata": {},
     "source": [
      "<h3>10</h3>"
     ]
    },
    {
     "cell_type": "markdown",
     "metadata": {},
     "source": [
      "a.) Prediction\n",
      "\n",
      "b.) Confidence Interval\n",
      "\n",
      "c.) Prediction"
     ]
    },
    {
     "cell_type": "markdown",
     "metadata": {},
     "source": [
      "<h3>15</h3>"
     ]
    },
    {
     "cell_type": "markdown",
     "metadata": {},
     "source": [
      "<h3>17</h3>"
     ]
    },
    {
     "cell_type": "markdown",
     "metadata": {},
     "source": [
      "$\\alpha$ must have been greater than 0.033 for the analyst to reject the null-hypothesis. If $\\alpha$ was 0.01, then the aalyst would have to reject the alternative hypothesis."
     ]
    },
    {
     "cell_type": "markdown",
     "metadata": {},
     "source": [
      "<h3>18</h3>"
     ]
    },
    {
     "cell_type": "markdown",
     "metadata": {},
     "source": [
      "The F-test is only two-sided. The t-test can be one-sided and you can test for hypothesis other than just $\\beta_1 \\neq 0$."
     ]
    },
    {
     "cell_type": "markdown",
     "metadata": {},
     "source": [
      "<h3>22</h3>"
     ]
    },
    {
     "cell_type": "markdown",
     "metadata": {},
     "source": [
      "I think that it is possible that they are all possible."
     ]
    },
    {
     "cell_type": "markdown",
     "metadata": {},
     "source": [
      "<h3>25</h3>"
     ]
    },
    {
     "cell_type": "markdown",
     "metadata": {},
     "source": [
      "<h3>54</h3>"
     ]
    },
    {
     "cell_type": "markdown",
     "metadata": {},
     "source": [
      "If $\\beta_1 = 0$ then there is no linear association between X and Y. However, there is clearly an association between Y and X because the variance of Y depends on X."
     ]
    },
    {
     "cell_type": "markdown",
     "metadata": {},
     "source": [
      "<h3>60</h3>"
     ]
    }
   ],
   "metadata": {}
  }
 ]
}