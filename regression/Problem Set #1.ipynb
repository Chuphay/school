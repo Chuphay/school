{
 "metadata": {
  "name": "",
  "signature": "sha256:d5c8302bc8b6e87b44cf18ec137e56abfcb48d9ba6dbbeb8308f11ea1a7b1425"
 },
 "nbformat": 3,
 "nbformat_minor": 0,
 "worksheets": [
  {
   "cells": [
    {
     "cell_type": "markdown",
     "metadata": {},
     "source": [
      "<h3>1.2</h3>\n",
      "$$Y = 300 + 2*X$$\n",
      "\n",
      "It's a functional relationship.\n",
      "\n",
      "<h3>1.3</h3>\n",
      "\n",
      "In a way that is absolutely true, but in reality there are things like variations in the daily temperature and other random noise.\n",
      "\n",
      "<h3>1.7</h3>\n",
      "<h4>a.)</h4>No, because we haven't made any assumptions on the distribution of the error term.\n",
      "<h4>b.)</h4>Yes. $\\mathbb{P}(-1 < z < 1) = 0.6827$\n",
      "\n",
      "<h3>1.8</h3>\n",
      "\n",
      "The expected value does not change, but any particular sample will naturally have a different value. \n",
      "\n",
      "<h3>1.21</h3>"
     ]
    },
    {
     "cell_type": "code",
     "collapsed": false,
     "input": [
      "%load_ext rpy2.ipython"
     ],
     "language": "python",
     "metadata": {},
     "outputs": [
      {
       "output_type": "stream",
       "stream": "stdout",
       "text": [
        "The rpy2.ipython extension is already loaded. To reload it, use:\n",
        "  %reload_ext rpy2.ipython\n"
       ]
      }
     ],
     "prompt_number": 2
    },
    {
     "cell_type": "code",
     "collapsed": false,
     "input": [
      "%%R\n",
      "x <- c(1,0,2,0,3,1,0,1,2,0)\n",
      "y <- c(16, 9, 17, 12, 22, 13, 8, 15, 19, 11)\n",
      "cat('mean:',mean(x),mean(y),'\\n')\n",
      "b_1 <- cov(x,y)/var(x)\n",
      "\n",
      "b_0 <- mean(y) -b_1*mean(x)\n",
      "\n",
      "t <- 0:30/10\n",
      "plot(t,b_0 + b_1*t,type = 'l', xlim = c(0,3), ylim = c(8,25))\n",
      "par(new=TRUE)\n",
      "plot(x,y, axes = FALSE, xlab = \"\", ylab = \"\", xlim = c(0,3), ylim = c(8,25))\n",
      "lm(y~x)"
     ],
     "language": "python",
     "metadata": {},
     "outputs": [
      {
       "metadata": {},
       "output_type": "display_data",
       "text": [
        "mean: 1 14.2 \n",
        "\n",
        "Call:\n",
        "lm(formula = y ~ x)\n",
        "\n",
        "Coefficients:\n",
        "(Intercept)            x  \n",
        "       10.2          4.0  \n",
        "\n"
       ]
      },
      {
       "metadata": {},
       "output_type": "display_data",
       "png": "[encoded data removed]"
      }
     ],
     "prompt_number": 62
    },
    {
     "cell_type": "markdown",
     "metadata": {},
     "source": [
      "<b>a.)</b> Yes, linear regression has a good fit.\n",
      "\n",
      "<b>b.)</b> $\\mathbb{E}[Y] = 10.2 +4*1 = 14.2$\n",
      "\n",
      "<b>c.)</b> 4\n",
      "\n",
      "<b>d.)</b> $(\\bar X,\\bar Y) = (1, 14.2)$ which we verified in part b\n",
      "\n",
      "<h3>1.25</h3>"
     ]
    },
    {
     "cell_type": "code",
     "collapsed": false,
     "input": [
      "%%R\n",
      "y_hat <- 10.2 + 4*x\n",
      "resids <- y- y_hat\n",
      "fit <- lm(y~x)\n",
      "cat(fit$residuals,'\\n')\n",
      "resids"
     ],
     "language": "python",
     "metadata": {},
     "outputs": [
      {
       "metadata": {},
       "output_type": "display_data",
       "text": [
        "1.8 -1.2 -1.2 1.8 -0.2 -1.2 -2.2 0.8 0.8 0.8 \n",
        " [1]  1.8 -1.2 -1.2  1.8 -0.2 -1.2 -2.2  0.8  0.8  0.8\n"
       ]
      }
     ],
     "prompt_number": 67
    },
    {
     "cell_type": "markdown",
     "metadata": {},
     "source": [
      "<b>a.)</b> $\\epsilon$ is the model error term and depends on the expected value of Y which is unknown. On the other hand, $e$ depends on the fitted value of Y which is known. I am not sure what there relationship is.\n",
      "\n",
      "<b>b.)</b> "
     ]
    },
    {
     "cell_type": "code",
     "collapsed": false,
     "input": [
      "%%R\n",
      "cat(\"sum of residuals squared = \", sum(resids^2),\"\\n\")\n",
      "cat(\"MSE = sum of squared residuals divided by n-2 = \", sum(resids^2)/(length(x)-2))"
     ],
     "language": "python",
     "metadata": {},
     "outputs": [
      {
       "metadata": {},
       "output_type": "display_data",
       "text": [
        "sum of residuals squared =  17.6 \n",
        "MSE = sum of squared residuals divided by n-2 =  2.2"
       ]
      }
     ],
     "prompt_number": 70
    },
    {
     "cell_type": "markdown",
     "metadata": {},
     "source": [
      "MSE is an ubiased estimator for $\\sigma^2$."
     ]
    },
    {
     "cell_type": "markdown",
     "metadata": {},
     "source": [
      "<h3>1.29</h3>\n",
      "\n",
      "It would go through the origin.\n",
      "\n",
      "<h3>1.30</h3>\n",
      "\n",
      "It's just a straight horizontal line\n",
      "\n",
      "<h3>1.33</h3>\n",
      "\n",
      "$$Q = \\sum (Y_i - \\beta_0)^2 ~~~~~~\\rightarrow ~~~~~0 = \\sum Y_i - n* \\beta_0~~~~~ \\rightarrow ~~~~ \\beta_0 = \\bar Y$$"
     ]
    }
   ],
   "metadata": {}
  }
 ]
}