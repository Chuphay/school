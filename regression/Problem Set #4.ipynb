{
 "metadata": {
  "name": "",
  "signature": "sha256:ab8374389f310368f98afc40a3b6f2900d4e00aff83941c5c3dfa77ef2547f9b"
 },
 "nbformat": 3,
 "nbformat_minor": 0,
 "worksheets": [
  {
   "cells": [
    {
     "cell_type": "heading",
     "level": 1,
     "metadata": {},
     "source": [
      "Problem Set #4"
     ]
    },
    {
     "cell_type": "code",
     "collapsed": false,
     "input": [
      "%load_ext rpy2.ipython"
     ],
     "language": "python",
     "metadata": {},
     "outputs": [],
     "prompt_number": 1
    },
    {
     "cell_type": "markdown",
     "metadata": {},
     "source": [
      "<h3>4.1</h3> I think that this does not imply that 10% of the time $\\beta_0$ but rather that the error of both,$\\beta_0$ and $\\beta_1$ will never be more than 10%. What I mean is that 10% of the time one or both $\\beta_0$ and $\\beta_1$ will be wrong, but not only one of them."
     ]
    },
    {
     "cell_type": "markdown",
     "metadata": {},
     "source": [
      "<h3>4.4</h3><b>a.</b> If I'm getting this correctly, it does not matter what data set you are looking at. When the intercept goes down the slope obviously must go up in order to still pass through the mean of y and x. And similarily, when the intercept goes higher, the slope will lower.\n",
      "\n",
      "<b>b.</b>"
     ]
    },
    {
     "cell_type": "code",
     "collapsed": false,
     "input": [
      "%%R\n",
      "x <- c(1,0,2,0,3,1,0,1,2,0)\n",
      "y <- c(16, 9, 17, 12, 22, 13, 8, 15, 19, 11)\n",
      "fit <- lm(y~x)\n",
      "b0 <- fit$coeff[1]\n",
      "b1 <- fit$coeff[2]\n",
      "s0 <- coef(summary(fit))[,2][1]\n",
      "s1 <- coef(summary(fit))[,2][2]\n",
      "\n",
      "cat(b0-qt(1-0.01/4, length(x)-2)*s0,'< \u03b20 <',b0+qt(1-0.01/4, length(x)-2)*s0,'\\n')\n",
      "cat(b1-qt(1-0.01/4, length(x)-2)*s1,'< \u03b21 <',b1+qt(1-0.01/4, length(x)-2)*s1,'\\n')\n",
      "cat('These intervals are rather wide, but this is what we would expect with a joint confidence interval\\n')"
     ],
     "language": "python",
     "metadata": {},
     "outputs": [
      {
       "metadata": {},
       "output_type": "display_data",
       "text": [
        "7.657795 < \u03b20 < 12.74221 \n",
        "2.202389 < \u03b21 < 5.797611 \n",
        "These intervals are rather wide, but this is what we would expect with a joint confidence interval\n"
       ]
      }
     ],
     "prompt_number": 16
    },
    {
     "cell_type": "markdown",
     "metadata": {},
     "source": [
      "<h3>4.8</h3> "
     ]
    },
    {
     "cell_type": "code",
     "collapsed": false,
     "input": [
      "%%R\n",
      "MSE <- 1.483^2\n",
      "s2 <- MSE*(1/10 +(0:2 - mean(x))^2/(sum((x-mean(x))^2)))\n",
      "w2 <- 2*qf(1-0.05,2,8)\n",
      "cat('a.)\\n')\n",
      "cat(b0+b1*0-sqrt(s2*w2)[1], '< y_0 <', b0+b1*0+sqrt(s2*w2)[1],'\\n')\n",
      "cat(b0+b1*1-sqrt(s2*w2)[2], '< y_1 <', b0+b1*1+sqrt(s2*w2)[2],'\\n')\n",
      "cat(b0+b1*2-sqrt(s2*w2)[3], '< y_2 <', b0+b1*2+sqrt(s2*w2)[3],'\\n')"
     ],
     "language": "python",
     "metadata": {},
     "outputs": [
      {
       "metadata": {},
       "output_type": "display_data",
       "text": [
        "a.)\n",
        "8.219438 < y_0 < 12.18056 \n",
        "12.79953 < y_1 < 15.60047 \n",
        "16.21944 < y_2 < 20.18056 \n"
       ]
      }
     ],
     "prompt_number": 28
    },
    {
     "cell_type": "markdown",
     "metadata": {},
     "source": [
      "b.) Basically, I think this a difference between $W = \\sqrt{2F(1-\\alpha;2,n-2)}$ versus $B = t(1-\\alpha/2g; n-2)$"
     ]
    },
    {
     "cell_type": "code",
     "collapsed": false,
     "input": [
      "%%R\n",
      "W <- sqrt(w2)\n",
      "B <- qt(1- 0.05/(2*3),8)\n",
      "cat('W =',W,'B =',B)"
     ],
     "language": "python",
     "metadata": {},
     "outputs": [
      {
       "metadata": {},
       "output_type": "display_data",
       "text": [
        "W = 2.986292 B = 3.015762"
       ]
      }
     ],
     "prompt_number": 34
    },
    {
     "cell_type": "markdown",
     "metadata": {},
     "source": [
      "We can therefore see that W is smaller than B and therefore W will have a tighter confidence interval and is therefore more efficient."
     ]
    },
    {
     "cell_type": "code",
     "collapsed": false,
     "input": [
      "%%R\n",
      "S2 <- 3*qf(1-0.05,3,8)\n",
      "s_pred <- MSE*(1 + 1/10 +(0:2 - mean(x))^2/(sum((x-mean(x))^2)))\n",
      "cat('c.)\\n')\n",
      "cat(b0+b1*0-sqrt(s_pred*S2)[1], '< y_0 <', b0+b1*0+sqrt(s_pred*S2)[1],'\\n')\n",
      "cat(b0+b1*1-sqrt(s_pred*S2)[2], '< y_1 <', b0+b1*1+sqrt(s_pred*S2)[2],'\\n')\n",
      "cat(b0+b1*2-sqrt(s_pred*S2)[3], '< y_2 <', b0+b1*2+sqrt(s_pred*S2)[3],'\\n')"
     ],
     "language": "python",
     "metadata": {},
     "outputs": [
      {
       "metadata": {},
       "output_type": "display_data",
       "text": [
        "c.)\n",
        "4.526047 < y_0 < 15.87395 \n",
        "8.767604 < y_1 < 19.6324 \n",
        "12.52605 < y_2 < 23.87395 \n"
       ]
      }
     ],
     "prompt_number": 41
    },
    {
     "cell_type": "code",
     "collapsed": false,
     "input": [
      "%R cat(sqrt(S2))"
     ],
     "language": "python",
     "metadata": {},
     "outputs": [
      {
       "metadata": {},
       "output_type": "display_data",
       "text": [
        "3.492641"
       ]
      }
     ],
     "prompt_number": 42
    },
    {
     "cell_type": "markdown",
     "metadata": {},
     "source": [
      "d.) As we can see S is bigger than B from up above. Therefore the Bonferroni would be more efficient in this example."
     ]
    },
    {
     "cell_type": "markdown",
     "metadata": {},
     "source": [
      "<h3>4.21</h3> \n",
      "\n",
      "$b_0$ and $b_1$ are independent, because the intercept is already at the mean of X and therefore the previous argument from problem 4.4 no longer applies.\n",
      "\n",
      "because the correlation between $b_0$ and $b_1$ is given to us by\n",
      "\n",
      "$$\\sigma\\{b_0, b_1\\} = - \\bar{X} \\sigma^2\\{b_1\\}$$\n",
      "\n",
      "we can therefore see that they are not correlated and therefore there should be independence."
     ]
    },
    {
     "cell_type": "markdown",
     "metadata": {},
     "source": [
      "<h3>5.1</h3> "
     ]
    },
    {
     "cell_type": "code",
     "collapsed": false,
     "input": [
      "%%R\n",
      "A <- cbind(c(1,2,3),c(4,6,8))\n",
      "B <- cbind(c(1,1,2),c(3,4,5))\n",
      "C <- t(cbind(c(3,8,1),c(5,4,0)))\n",
      "cat('a.)')\n",
      "A+B"
     ],
     "language": "python",
     "metadata": {},
     "outputs": [
      {
       "metadata": {},
       "output_type": "display_data",
       "text": [
        "a.)     [,1] [,2]\n",
        "[1,]    2    7\n",
        "[2,]    3   10\n",
        "[3,]    5   13\n"
       ]
      }
     ],
     "prompt_number": 48
    },
    {
     "cell_type": "code",
     "collapsed": false,
     "input": [
      "%%R\n",
      "cat ('b.)')\n",
      "A-B "
     ],
     "language": "python",
     "metadata": {},
     "outputs": [
      {
       "metadata": {},
       "output_type": "display_data",
       "text": [
        "b.)     [,1] [,2]\n",
        "[1,]    0    1\n",
        "[2,]    1    2\n",
        "[3,]    1    3\n"
       ]
      }
     ],
     "prompt_number": 50
    },
    {
     "cell_type": "code",
     "collapsed": false,
     "input": [
      "%%R\n",
      "cat('c.)')\n",
      "A%*%C"
     ],
     "language": "python",
     "metadata": {},
     "outputs": [
      {
       "metadata": {},
       "output_type": "display_data",
       "text": [
        "c.)     [,1] [,2] [,3]\n",
        "[1,]   23   24    1\n",
        "[2,]   36   40    2\n",
        "[3,]   49   56    3\n"
       ]
      }
     ],
     "prompt_number": 52
    },
    {
     "cell_type": "code",
     "collapsed": false,
     "input": [
      "%%R\n",
      "cat('d.)')\n",
      "A%*%t(B)"
     ],
     "language": "python",
     "metadata": {},
     "outputs": [
      {
       "metadata": {},
       "output_type": "display_data",
       "text": [
        "d.)     [,1] [,2] [,3]\n",
        "[1,]   13   17   22\n",
        "[2,]   20   26   34\n",
        "[3,]   27   35   46\n"
       ]
      }
     ],
     "prompt_number": 54
    },
    {
     "cell_type": "code",
     "collapsed": false,
     "input": [
      "%%R\n",
      "cat('e.)')\n",
      "t(B)%*%A"
     ],
     "language": "python",
     "metadata": {},
     "outputs": [
      {
       "metadata": {},
       "output_type": "display_data",
       "text": [
        "e.)     [,1] [,2]\n",
        "[1,]    9   26\n",
        "[2,]   26   76\n"
       ]
      }
     ],
     "prompt_number": 56
    },
    {
     "cell_type": "markdown",
     "metadata": {},
     "source": [
      "Looking at the output, it appears that the dimensions are, 2X3, 2X3, 3X3, 3X3, and 2X2 respectively."
     ]
    },
    {
     "cell_type": "markdown",
     "metadata": {},
     "source": [
      "<h3>5.9</h3>\n",
      "<b>a</b> The three column vectors are independent. However, I am not sure how to prove this.\n",
      "\n",
      "<b>b</b> The three row vectors are linearly dependent which can be shown by playing around with the equations:\n",
      "\n",
      "$$\\frac {23}{10} \\left(\\matrix{5 \\\\ 5}\\right) - \\frac {35}{10} \\left(\\matrix { 3 \\\\ 1 }\\right) = \\left(\\matrix {1 \\\\ 8}\\right)$$\n",
      "\n"
     ]
    },
    {
     "cell_type": "markdown",
     "metadata": {},
     "source": [
      "<h3>5.25</h3>\n",
      "<b>a.)</b>"
     ]
    },
    {
     "cell_type": "code",
     "collapsed": false,
     "input": [
      "%%R\n",
      "X <- cbind(rep(1,length(x)),x)\n",
      "inv <- solve(t(X)%*%X)\n",
      "inv"
     ],
     "language": "python",
     "metadata": {},
     "outputs": [
      {
       "metadata": {},
       "output_type": "display_data",
       "text": [
        "          x\n",
        "   0.2 -0.1\n",
        "x -0.1  0.1\n"
       ]
      }
     ],
     "prompt_number": 63
    },
    {
     "cell_type": "code",
     "collapsed": false,
     "input": [
      "%%R\n",
      "b <- inv %*% t(X)%*% y\n",
      "b"
     ],
     "language": "python",
     "metadata": {},
     "outputs": [
      {
       "metadata": {},
       "output_type": "display_data",
       "text": [
        "  [,1]\n",
        "  10.2\n",
        "x  4.0\n"
       ]
      }
     ],
     "prompt_number": 66
    },
    {
     "cell_type": "code",
     "collapsed": false,
     "input": [
      "%%R\n",
      "e <- y - X%*%b \n",
      "e"
     ],
     "language": "python",
     "metadata": {},
     "outputs": [
      {
       "metadata": {},
       "output_type": "display_data",
       "text": [
        "      [,1]\n",
        " [1,]  1.8\n",
        " [2,] -1.2\n",
        " [3,] -1.2\n",
        " [4,]  1.8\n",
        " [5,] -0.2\n",
        " [6,] -1.2\n",
        " [7,] -2.2\n",
        " [8,]  0.8\n",
        " [9,]  0.8\n",
        "[10,]  0.8\n"
       ]
      }
     ],
     "prompt_number": 69
    },
    {
     "cell_type": "code",
     "collapsed": false,
     "input": [
      "%%R\n",
      "H <- X%*%inv%*%t(X)\n",
      "H"
     ],
     "language": "python",
     "metadata": {},
     "outputs": [
      {
       "metadata": {},
       "output_type": "display_data",
       "text": [
        "      [,1] [,2] [,3] [,4] [,5] [,6] [,7] [,8] [,9] [,10]\n",
        " [1,]  0.1  0.1  0.1  0.1  0.1  0.1  0.1  0.1  0.1   0.1\n",
        " [2,]  0.1  0.2  0.0  0.2 -0.1  0.1  0.2  0.1  0.0   0.2\n",
        " [3,]  0.1  0.0  0.2  0.0  0.3  0.1  0.0  0.1  0.2   0.0\n",
        " [4,]  0.1  0.2  0.0  0.2 -0.1  0.1  0.2  0.1  0.0   0.2\n",
        " [5,]  0.1 -0.1  0.3 -0.1  0.5  0.1 -0.1  0.1  0.3  -0.1\n",
        " [6,]  0.1  0.1  0.1  0.1  0.1  0.1  0.1  0.1  0.1   0.1\n",
        " [7,]  0.1  0.2  0.0  0.2 -0.1  0.1  0.2  0.1  0.0   0.2\n",
        " [8,]  0.1  0.1  0.1  0.1  0.1  0.1  0.1  0.1  0.1   0.1\n",
        " [9,]  0.1  0.0  0.2  0.0  0.3  0.1  0.0  0.1  0.2   0.0\n",
        "[10,]  0.1  0.2  0.0  0.2 -0.1  0.1  0.2  0.1  0.0   0.2\n"
       ]
      }
     ],
     "prompt_number": 71
    },
    {
     "cell_type": "code",
     "collapsed": false,
     "input": [
      "%%R\n",
      "SSE <- t(e)%*%e\n",
      "SSE"
     ],
     "language": "python",
     "metadata": {},
     "outputs": [
      {
       "metadata": {},
       "output_type": "display_data",
       "text": [
        "     [,1]\n",
        "[1,] 17.6\n"
       ]
      }
     ],
     "prompt_number": 72
    },
    {
     "cell_type": "code",
     "collapsed": false,
     "input": [
      "%%R\n",
      "s2 <- (SSE[[1]])*inv/8\n",
      "s2"
     ],
     "language": "python",
     "metadata": {},
     "outputs": [
      {
       "metadata": {},
       "output_type": "display_data",
       "text": [
        "            x\n",
        "   0.44 -0.22\n",
        "x -0.22  0.22\n"
       ]
      }
     ],
     "prompt_number": 85
    },
    {
     "cell_type": "code",
     "collapsed": false,
     "input": [
      "%%R\n",
      "c(1, 2)%*%b"
     ],
     "language": "python",
     "metadata": {},
     "outputs": [
      {
       "metadata": {},
       "output_type": "display_data",
       "text": [
        "     [,1]\n",
        "[1,] 18.2\n"
       ]
      }
     ],
     "prompt_number": 79
    },
    {
     "cell_type": "code",
     "collapsed": false,
     "input": [
      "%%R\n",
      "(SSE[[1]])*(c(1, 2)%*%inv%*%cbind(c(1,2)))/8"
     ],
     "language": "python",
     "metadata": {},
     "outputs": [
      {
       "metadata": {},
       "output_type": "display_data",
       "text": [
        "     [,1]\n",
        "[1,] 0.44\n"
       ]
      }
     ],
     "prompt_number": 84
    },
    {
     "cell_type": "heading",
     "level": 3,
     "metadata": {},
     "source": [
      "b.)"
     ]
    },
    {
     "cell_type": "code",
     "collapsed": false,
     "input": [
      "%%R\n",
      "cat('1)',s2[,2][2], '2)', s2[,2][1], '3)', sqrt(s2[,1][1]))"
     ],
     "language": "python",
     "metadata": {},
     "outputs": [
      {
       "metadata": {},
       "output_type": "display_data",
       "text": [
        "1) 0.22 2) -0.22 3) 0.663325"
       ]
      }
     ],
     "prompt_number": 91
    },
    {
     "cell_type": "heading",
     "level": 3,
     "metadata": {},
     "source": [
      "c.)"
     ]
    },
    {
     "cell_type": "code",
     "collapsed": false,
     "input": [
      "%%R\n",
      "J <- matrix(rep(1,100), nrow=10) \n",
      "H - J/10"
     ],
     "language": "python",
     "metadata": {},
     "outputs": [
      {
       "metadata": {},
       "output_type": "display_data",
       "text": [
        "      [,1] [,2] [,3] [,4] [,5] [,6] [,7] [,8] [,9] [,10]\n",
        " [1,]    0  0.0  0.0  0.0  0.0    0  0.0    0  0.0   0.0\n",
        " [2,]    0  0.1 -0.1  0.1 -0.2    0  0.1    0 -0.1   0.1\n",
        " [3,]    0 -0.1  0.1 -0.1  0.2    0 -0.1    0  0.1  -0.1\n",
        " [4,]    0  0.1 -0.1  0.1 -0.2    0  0.1    0 -0.1   0.1\n",
        " [5,]    0 -0.2  0.2 -0.2  0.4    0 -0.2    0  0.2  -0.2\n",
        " [6,]    0  0.0  0.0  0.0  0.0    0  0.0    0  0.0   0.0\n",
        " [7,]    0  0.1 -0.1  0.1 -0.2    0  0.1    0 -0.1   0.1\n",
        " [8,]    0  0.0  0.0  0.0  0.0    0  0.0    0  0.0   0.0\n",
        " [9,]    0 -0.1  0.1 -0.1  0.2    0 -0.1    0  0.1  -0.1\n",
        "[10,]    0  0.1 -0.1  0.1 -0.2    0  0.1    0 -0.1   0.1\n"
       ]
      }
     ],
     "prompt_number": 98
    },
    {
     "cell_type": "heading",
     "level": 3,
     "metadata": {},
     "source": [
      "5.29"
     ]
    },
    {
     "cell_type": "markdown",
     "metadata": {},
     "source": [
      "$$\\bf b = (X^TX)^{-1}X^TY$$ \n",
      "$$\\mathbb{E}[\\bf b] = (X^TX)^{-1}X^T \\mathbb{E}[Y]=(X^TX)^{-1}X^T X \\beta = \\beta$$ "
     ]
    }
   ],
   "metadata": {}
  }
 ]
}