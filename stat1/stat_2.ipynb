{
 "metadata": {
  "name": "",
  "signature": "sha256:0e39683ce72c329ba036358375dbbd4974ae2fb954c06a91ae73eb678f048c23"
 },
 "nbformat": 3,
 "nbformat_minor": 0,
 "worksheets": [
  {
   "cells": [
    {
     "cell_type": "code",
     "collapsed": false,
     "input": [
      "%pylab inline\n",
      "%load_ext rpy2.ipython   \n",
      "from pandas import DataFrame, Series"
     ],
     "language": "python",
     "metadata": {},
     "outputs": [
      {
       "output_type": "stream",
       "stream": "stdout",
       "text": [
        "Populating the interactive namespace from numpy and matplotlib\n"
       ]
      }
     ],
     "prompt_number": 1
    },
    {
     "cell_type": "heading",
     "level": 5,
     "metadata": {},
     "source": [
      "1.1"
     ]
    },
    {
     "cell_type": "markdown",
     "metadata": {},
     "source": [
      "a) Shrimp in a pond\n",
      "b) 100 shrimp\n",
      "c) weight?\n",
      "d) In order to make reliable inferences"
     ]
    },
    {
     "cell_type": "heading",
     "level": 5,
     "metadata": {},
     "source": [
      "1.5"
     ]
    },
    {
     "cell_type": "markdown",
     "metadata": {},
     "source": [
      "tl;dr"
     ]
    },
    {
     "cell_type": "heading",
     "level": 5,
     "metadata": {},
     "source": [
      "2.7"
     ]
    },
    {
     "cell_type": "markdown",
     "metadata": {},
     "source": [
      "a) A random sample of adult individuals, possibly other thing?\n",
      "b) Personal interviews have a low-rate of survey nonresponse. Telephone interviews are relatively cheap and can be recorded or monitored for quality assurance. Mailed questionaires are very cheap nad can reach a vast portion of the population. "
     ]
    },
    {
     "cell_type": "heading",
     "level": 5,
     "metadata": {},
     "source": [
      "2.11"
     ]
    },
    {
     "cell_type": "markdown",
     "metadata": {},
     "source": [
      "a) Random b) Stratified c) Stratified?"
     ]
    },
    {
     "cell_type": "heading",
     "level": 5,
     "metadata": {},
     "source": [
      "3.2"
     ]
    },
    {
     "cell_type": "code",
     "collapsed": false,
     "input": [
      "expenses = DataFrame([525,500,500,300,200,475],index = ['National Defense','Social Security',\\\n",
      "                'Medicare & Medicaid','National Debt Interest','Social-Aid','Other'], \n",
      "                     columns = [\"\"\"2006 Expenditures\"\"\"])\n",
      "expenses"
     ],
     "language": "python",
     "metadata": {},
     "outputs": [
      {
       "html": [
        "<div style=\"max-height:1000px;max-width:1500px;overflow:auto;\">\n",
        "<table border=\"1\" class=\"dataframe\">\n",
        "  <thead>\n",
        "    <tr style=\"text-align: right;\">\n",
        "      <th></th>\n",
        "      <th>2006 Expenditures</th>\n",
        "    </tr>\n",
        "  </thead>\n",
        "  <tbody>\n",
        "    <tr>\n",
        "      <th>National Defense</th>\n",
        "      <td> 525</td>\n",
        "    </tr>\n",
        "    <tr>\n",
        "      <th>Social Security</th>\n",
        "      <td> 500</td>\n",
        "    </tr>\n",
        "    <tr>\n",
        "      <th>Medicare &amp; Medicaid</th>\n",
        "      <td> 500</td>\n",
        "    </tr>\n",
        "    <tr>\n",
        "      <th>National Debt Interest</th>\n",
        "      <td> 300</td>\n",
        "    </tr>\n",
        "    <tr>\n",
        "      <th>Social-Aid</th>\n",
        "      <td> 200</td>\n",
        "    </tr>\n",
        "    <tr>\n",
        "      <th>Other</th>\n",
        "      <td> 475</td>\n",
        "    </tr>\n",
        "  </tbody>\n",
        "</table>\n",
        "</div>"
       ],
       "metadata": {},
       "output_type": "pyout",
       "prompt_number": 2,
       "text": [
        "                        2006 Expenditures\n",
        "National Defense                      525\n",
        "Social Security                       500\n",
        "Medicare & Medicaid                   500\n",
        "National Debt Interest                300\n",
        "Social-Aid                            200\n",
        "Other                                 475"
       ]
      }
     ],
     "prompt_number": 2
    },
    {
     "cell_type": "code",
     "collapsed": false,
     "input": [
      "subplot(221)\n",
      "pie(expenses);\n",
      "subplot(222)\n",
      "bar(arange(len(expenses)),expenses.values)\n",
      "xticks(arange(len(expenses))+0.5, expenses.index);\n",
      "subplot(223)\n",
      "pie(expenses);\n",
      "subplot(224)\n",
      "bar(arange(len(expenses)),expenses.values)\n",
      "xticks(arange(len(expenses))+0.5, expenses.index);"
     ],
     "language": "python",
     "metadata": {},
     "outputs": [
      {
       "metadata": {},
       "output_type": "display_data",
       "png": "[encoded data removed]",
       "text": [
        "<matplotlib.figure.Figure at 0xac8c75ec>"
       ]
      }
     ],
     "prompt_number": 3
    },
    {
     "cell_type": "heading",
     "level": 5,
     "metadata": {},
     "source": [
      "3.4"
     ]
    },
    {
     "cell_type": "code",
     "collapsed": false,
     "input": [
      "%%R\n",
      "fl <- c(.75,.86,.84,.85,.97,.94,.89,.84,.83,.89,.88,.78,.77,.76,.82,.72,.92,1.05,.94,.83,.81,.85,.97,.93,.79)\n",
      "\n",
      "cat(\"a)\", (max(fl) - min(fl)), \"\\n\")\n",
      "hist(fl)\n",
      "\n",
      "simulations <- 100000\n",
      "trials <- rep(0,simulations)\n",
      "\n",
      "for (i in 1:simulations){\n",
      "    if (sample(fl,1)>0.9){\n",
      "            trials[i] <- 1\n",
      "    }\n",
      "}\n",
      "cat('d)',sum(trials)/simulations)"
     ],
     "language": "python",
     "metadata": {},
     "outputs": [
      {
       "metadata": {},
       "output_type": "display_data",
       "text": [
        "a) 0.33 \n",
        "d) 0.27916"
       ]
      },
      {
       "metadata": {},
       "output_type": "display_data",
       "png": "[encoded data removed]"
      }
     ],
     "prompt_number": 4
    },
    {
     "cell_type": "heading",
     "level": 5,
     "metadata": {},
     "source": [
      "3.7"
     ]
    },
    {
     "cell_type": "code",
     "collapsed": false,
     "input": [
      "\n",
      "\n",
      "\n",
      "#Color scheme provided by https://github.com/CamDavidsonPilon\n",
      "colours = [\"#348ABD\", \"#A60628\"]\n",
      "\n",
      "bar(arange(len(expenses))+0.5,expenses.values, color=colours[0],\n",
      "        label=\"$\\lambda = %.1f$\" % 2, alpha=0.60,\n",
      "        edgecolor=colours[0], lw=\"3\");\n",
      "\n",
      "bar(arange(len(expenses)),expenses.values, color=colours[1],\n",
      "        label=\"$\\lambda = %.1f$\" % 1, alpha=0.60,\n",
      "        edgecolor=colours[1], lw=\"3\");\n",
      "legend();"
     ],
     "language": "python",
     "metadata": {},
     "outputs": [
      {
       "metadata": {},
       "output_type": "display_data",
       "png": "[encoded data removed]",
       "text": [
        "<matplotlib.figure.Figure at 0xb0453c0c>"
       ]
      }
     ],
     "prompt_number": 12
    },
    {
     "cell_type": "code",
     "collapsed": false,
     "input": [],
     "language": "python",
     "metadata": {},
     "outputs": [],
     "prompt_number": 4
    },
    {
     "cell_type": "code",
     "collapsed": false,
     "input": [],
     "language": "python",
     "metadata": {},
     "outputs": [],
     "prompt_number": 4
    }
   ],
   "metadata": {}
  }
 ]
}