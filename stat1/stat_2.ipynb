{
 "metadata": {
  "name": "",
  "signature": "sha256:04ecfc13777457131524f71e90cb63202c2e74ef180045cd341f05cc8dbfced3"
 },
 "nbformat": 3,
 "nbformat_minor": 0,
 "worksheets": [
  {
   "cells": [
    {
     "cell_type": "code",
     "collapsed": false,
     "input": [
      "%pylab inline\n",
      "from pandas import DataFrame, Series"
     ],
     "language": "python",
     "metadata": {},
     "outputs": [
      {
       "output_type": "stream",
       "stream": "stdout",
       "text": [
        "Populating the interactive namespace from numpy and matplotlib\n"
       ]
      }
     ],
     "prompt_number": 49
    },
    {
     "cell_type": "heading",
     "level": 5,
     "metadata": {},
     "source": [
      "1.1"
     ]
    },
    {
     "cell_type": "markdown",
     "metadata": {},
     "source": [
      "a) Shrimp in a pond\n",
      "b) 100 shrimp\n",
      "c) weight?\n",
      "d) In order to make reliable inferences"
     ]
    },
    {
     "cell_type": "heading",
     "level": 5,
     "metadata": {},
     "source": [
      "1.5"
     ]
    },
    {
     "cell_type": "markdown",
     "metadata": {},
     "source": [
      "tl;dr"
     ]
    },
    {
     "cell_type": "heading",
     "level": 5,
     "metadata": {},
     "source": [
      "2.7"
     ]
    },
    {
     "cell_type": "markdown",
     "metadata": {},
     "source": [
      "a) A random sample of adult individuals, possibly other thing?\n",
      "b) Personal interviews have a low-rate of survey nonresponse. Telephone interviews are relatively cheap and can be recorded or monitored for quality assurance. Mailed questionaires are very cheap nad can reach a vast portion of the population. "
     ]
    },
    {
     "cell_type": "heading",
     "level": 5,
     "metadata": {},
     "source": [
      "2.11"
     ]
    },
    {
     "cell_type": "markdown",
     "metadata": {},
     "source": [
      "a) Random b) Stratified c) Stratified?"
     ]
    },
    {
     "cell_type": "heading",
     "level": 5,
     "metadata": {},
     "source": [
      "3.2"
     ]
    },
    {
     "cell_type": "code",
     "collapsed": false,
     "input": [
      "gov_expense = DataFrame([525,500,500],index = ['n','ss','mm'], columns = ['f'])\n",
      "gov_expense.values"
     ],
     "language": "python",
     "metadata": {},
     "outputs": [
      {
       "metadata": {},
       "output_type": "pyout",
       "prompt_number": 53,
       "text": [
        "array([[525],\n",
        "       [500],\n",
        "       [500]], dtype=int64)"
       ]
      }
     ],
     "prompt_number": 53
    },
    {
     "cell_type": "code",
     "collapsed": false,
     "input": [
      "subplot(221)\n",
      "pie(gov_expense);\n",
      "subplot(222)\n",
      "bar([1,2,3],gov_expense.values)\n",
      "subplot(223)\n",
      "\n",
      "subplot(224)\n",
      "pie(gov_expense);"
     ],
     "language": "python",
     "metadata": {},
     "outputs": [
      {
       "metadata": {},
       "output_type": "display_data",
       "png": "[encoded data removed]",
       "text": [
        "<matplotlib.figure.Figure at 0xadb5626c>"
       ]
      }
     ],
     "prompt_number": 54
    },
    {
     "cell_type": "code",
     "collapsed": false,
     "input": [],
     "language": "python",
     "metadata": {},
     "outputs": []
    }
   ],
   "metadata": {}
  }
 ]
}