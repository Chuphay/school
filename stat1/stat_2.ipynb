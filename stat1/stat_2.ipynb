{
 "metadata": {
  "name": "",
  "signature": "sha256:25c5294128f512775fa2fc927a5d25e99ab2f6f60fbf9680b8a7a03d474f4f09"
 },
 "nbformat": 3,
 "nbformat_minor": 0,
 "worksheets": [
  {
   "cells": [
    {
     "cell_type": "code",
     "collapsed": false,
     "input": [
      "%pylab inline\n",
      "%load_ext rpy2.ipython   \n",
      "from pandas import DataFrame, Series"
     ],
     "language": "python",
     "metadata": {},
     "outputs": [
      {
       "output_type": "stream",
       "stream": "stdout",
       "text": [
        "Populating the interactive namespace from numpy and matplotlib\n"
       ]
      }
     ],
     "prompt_number": 1
    },
    {
     "cell_type": "heading",
     "level": 5,
     "metadata": {},
     "source": [
      "1.1"
     ]
    },
    {
     "cell_type": "markdown",
     "metadata": {},
     "source": [
      "a) Shrimp in a pond\n",
      "b) 100 shrimp\n",
      "c) weight?\n",
      "d) In order to make reliable inferences"
     ]
    },
    {
     "cell_type": "heading",
     "level": 5,
     "metadata": {},
     "source": [
      "1.5"
     ]
    },
    {
     "cell_type": "markdown",
     "metadata": {},
     "source": [
      "tl;dr"
     ]
    },
    {
     "cell_type": "heading",
     "level": 5,
     "metadata": {},
     "source": [
      "2.7"
     ]
    },
    {
     "cell_type": "markdown",
     "metadata": {},
     "source": [
      "a) A random sample of adult individuals, possibly other thing?\n",
      "b) Personal interviews have a low-rate of survey nonresponse. Telephone interviews are relatively cheap and can be recorded or monitored for quality assurance. Mailed questionaires are very cheap nad can reach a vast portion of the population. "
     ]
    },
    {
     "cell_type": "heading",
     "level": 5,
     "metadata": {},
     "source": [
      "2.11"
     ]
    },
    {
     "cell_type": "markdown",
     "metadata": {},
     "source": [
      "a) Random b) Stratified c) Stratified?"
     ]
    },
    {
     "cell_type": "heading",
     "level": 5,
     "metadata": {},
     "source": [
      "3.2"
     ]
    },
    {
     "cell_type": "code",
     "collapsed": false,
     "input": [
      "expenses = DataFrame([525,500,500,300,200,475],index = ['National Defense','Social Security',\\\n",
      "                'Medicare & Medicaid','National Debt Interest','Social-Aid','Other'], \n",
      "                     columns = [\"\"\"2006 Expenditures\"\"\"])\n",
      "expenses"
     ],
     "language": "python",
     "metadata": {},
     "outputs": [
      {
       "html": [
        "<div style=\"max-height:1000px;max-width:1500px;overflow:auto;\">\n",
        "<table border=\"1\" class=\"dataframe\">\n",
        "  <thead>\n",
        "    <tr style=\"text-align: right;\">\n",
        "      <th></th>\n",
        "      <th>2006 Expenditures</th>\n",
        "    </tr>\n",
        "  </thead>\n",
        "  <tbody>\n",
        "    <tr>\n",
        "      <th>National Defense</th>\n",
        "      <td> 525</td>\n",
        "    </tr>\n",
        "    <tr>\n",
        "      <th>Social Security</th>\n",
        "      <td> 500</td>\n",
        "    </tr>\n",
        "    <tr>\n",
        "      <th>Medicare &amp; Medicaid</th>\n",
        "      <td> 500</td>\n",
        "    </tr>\n",
        "    <tr>\n",
        "      <th>National Debt Interest</th>\n",
        "      <td> 300</td>\n",
        "    </tr>\n",
        "    <tr>\n",
        "      <th>Social-Aid</th>\n",
        "      <td> 200</td>\n",
        "    </tr>\n",
        "    <tr>\n",
        "      <th>Other</th>\n",
        "      <td> 475</td>\n",
        "    </tr>\n",
        "  </tbody>\n",
        "</table>\n",
        "</div>"
       ],
       "metadata": {},
       "output_type": "pyout",
       "prompt_number": 2,
       "text": [
        "                        2006 Expenditures\n",
        "National Defense                      525\n",
        "Social Security                       500\n",
        "Medicare & Medicaid                   500\n",
        "National Debt Interest                300\n",
        "Social-Aid                            200\n",
        "Other                                 475"
       ]
      }
     ],
     "prompt_number": 2
    },
    {
     "cell_type": "code",
     "collapsed": false,
     "input": [
      "subplot(221)\n",
      "pie(expenses);\n",
      "subplot(222)\n",
      "bar(arange(len(expenses)),expenses.values)\n",
      "xticks(arange(len(expenses))+0.5, expenses.index);\n",
      "subplot(223)\n",
      "pie(expenses);\n",
      "subplot(224)\n",
      "bar(arange(len(expenses)),expenses.values)\n",
      "xticks(arange(len(expenses))+0.5, expenses.index);"
     ],
     "language": "python",
     "metadata": {},
     "outputs": [
      {
       "metadata": {},
       "output_type": "display_data",
       "png": "[encoded data removed]",
       "text": [
        "<matplotlib.figure.Figure at 0xac93126c>"
       ]
      }
     ],
     "prompt_number": 3
    },
    {
     "cell_type": "heading",
     "level": 5,
     "metadata": {},
     "source": [
      "3.4"
     ]
    },
    {
     "cell_type": "code",
     "collapsed": false,
     "input": [
      "%%R\n",
      "flouride <- c(.75,.86,.84,.85,.97,.94,.89,.84,.83,.89,.88,.78,.77,.76,.82,.72,.92,1.05,.94,.83,.81,.85,.97,.93,.79)\n",
      "\n",
      "cat(\"a)\", (max(flouride) - min(flouride)), \"\\n\")\n",
      "hist(flouride)\n",
      "\n",
      "simulations <- 100000\n",
      "trials <- rep(0,simulations)\n",
      "\n",
      "for (i in 1:simulations){\n",
      "    if (sample(flouride,1)>0.9){\n",
      "            trials[i] <- 1\n",
      "    }\n",
      "}\n",
      "cat('d)',sum(trials)/simulations)"
     ],
     "language": "python",
     "metadata": {},
     "outputs": [
      {
       "metadata": {},
       "output_type": "display_data",
       "text": [
        "a) 0.33 \n",
        "d) 0.28018"
       ]
      },
      {
       "metadata": {},
       "output_type": "display_data",
       "png": "[encoded data removed]"
      }
     ],
     "prompt_number": 4
    },
    {
     "cell_type": "heading",
     "level": 5,
     "metadata": {},
     "source": [
      "3.7"
     ]
    },
    {
     "cell_type": "code",
     "collapsed": false,
     "input": [
      "standard = array([4,15,24,10,1,27,31,14,2,16,32,7,13,36,29,6,12,18,14,15,18,6,13,21,20,8,3,24])\n",
      "new = array([5,20,29,15,7,32,36,17,15,19,35,10,16,39,27,14,10,16,12,13,16,9,18,33,30,29,31,27])\n",
      "\n",
      "#Color scheme provided by https://github.com/CamDavidsonPilon\n",
      "colours = [\"#348ABD\", \"#A60628\"]\n",
      "\n",
      "hist(new, color=colours[1],\n",
      "        label=\"New Treatment\", alpha=0.60,\n",
      "        edgecolor=colours[1], lw=\"3\");\n",
      "hist(standard, color=colours[0],\n",
      "        label=\"Standard Treatment\", alpha=0.60,\n",
      "        edgecolor=colours[0], lw=\"3\");\n",
      "legend(loc = 'best');"
     ],
     "language": "python",
     "metadata": {},
     "outputs": [
      {
       "metadata": {},
       "output_type": "display_data",
       "png": "[encoded data removed]",
       "text": [
        "<matplotlib.figure.Figure at 0xac9087ec>"
       ]
      }
     ],
     "prompt_number": 5
    },
    {
     "cell_type": "heading",
     "level": 5,
     "metadata": {},
     "source": [
      "3.9"
     ]
    },
    {
     "cell_type": "code",
     "collapsed": false,
     "input": [
      "%%R\n",
      "time <- 1980:2004\n",
      "EXP <- c(134,158,185,210,227,253,273,282,290,304,299,273,298,291,282,272,266,271,269,275,295,306,349,376,391)\n",
      "GNP <- (c(49,52,58,61,60,61,62,61,59,57,52,46,48,44,41,37,35,33,31,30,30,30,34,35,35))/10\n",
      "defense <- data.frame(EXP,GNP)\n",
      "rownames(defense) <- time\n",
      "head(defense)"
     ],
     "language": "python",
     "metadata": {},
     "outputs": [
      {
       "metadata": {},
       "output_type": "display_data",
       "text": [
        "     EXP GNP\n",
        "1980 134 4.9\n",
        "1981 158 5.2\n",
        "1982 185 5.8\n",
        "1983 210 6.1\n",
        "1984 227 6.0\n",
        "1985 253 6.1\n"
       ]
      }
     ],
     "prompt_number": 6
    },
    {
     "cell_type": "code",
     "collapsed": false,
     "input": [
      "%%R\n",
      "par(mfrow=c(1,2))\n",
      "plot.ts(defense['GNP'])\n",
      "plot.ts(defense['EXP'])"
     ],
     "language": "python",
     "metadata": {},
     "outputs": [
      {
       "metadata": {},
       "output_type": "display_data",
       "png": "[encoded data removed]"
      }
     ],
     "prompt_number": 7
    },
    {
     "cell_type": "heading",
     "level": 5,
     "metadata": {},
     "source": [
      "3.11"
     ]
    },
    {
     "cell_type": "code",
     "collapsed": false,
     "input": [
      "s = \"\"\"Alabama 70.4 71.0 73.5 Montana 66.5 68.6 69.3\n",
      "Alaska 61.2 62.9 67.3 Nebraska 68.5 66.8 68.4\n",
      "Arizona 64.7 62.0 65.9 Nevada 57.0 61.1 65.5\n",
      "Arkansas 66.6 66.6 70.2 NewHampshire 65.5 65.0 69.5\n",
      "California 54.2 55.0 58.0 NewJersey 62.3 64.6 67.2\n",
      "Colorado 63.6 64.5 69.1 NewMexico 68.2 67.1 70.3\n",
      "Connecticut 69.0 69.0 71.6 NewYork 50.3 52.7 55.0\n",
      "Delaware 70.3 71.5 75.6 NorthCarolina 68.0 70.4 70.0\n",
      "Dist.ofColumbia 37.4 40.4 44.1 NorthDakota 69.9 68.2 69.5\n",
      "Florida 67.2 67.1 68.7 Ohio 67.9 69.2 72.0\n",
      "Georgia 62.7 69.3 71.7 Oklahoma 70.5 68.4 69.4\n",
      "Hawaii 51.0 50.6 57.4 Oregon 61.5 63.1 66.2\n",
      "Idaho 71.0 71.4 73.0 Pennsylvania 71.6 71.7 74.0\n",
      "Illinois 60.6 68.2 70.2 RhodeIsland 61.4 56.6 59.6\n",
      "Indiana 67.6 74.2 75.0 SouthCarolina 72.0 72.9 77.3\n",
      "Iowa 69.9 72.8 73.9 SouthDakota 67.6 67.8 71.5\n",
      "Kansas 68.3 67.5 70.2 Tennessee 67.6 68.8 70.1\n",
      "Kentucky 68.5 73.2 73.5 Texas 60.5 61.8 63.8\n",
      "Louisiana 70.2 64.9 67.1 Utah 71.5 72.7 72.7\n",
      "Maine 73.7 76.5 73.9 Vermont 69.5 70.3 70.2\n",
      "Maryland 65.6 66.9 72.0 Virginia 68.5 68.5 74.3\n",
      "Massachusetts 60.5 61.7 62.7 Washington 66.8 63.1 67.0\n",
      "Michigan 70.7 73.3 76.0 WestVirginia 75.9 74.3 77.0\n",
      "Minnesota 70.0 75.4 77.3 Wisconsin 63.8 68.2 72.0\n",
      "Mississippi 69.6 73.0 74.8 Wyoming 73.2 68.0 72.8\n",
      "Missouri 69.2 70.2 74.6\"\"\"\n",
      "\n",
      "data = {}\n",
      "s = s.split()\n",
      "\n",
      "for i, e in enumerate(s):\n",
      "    if e.isalpha():\n",
      "        data[e] = [float(s[i+1]),float(s[i+2]),float(s[i+3])]\n",
      "       \n",
      "housing = DataFrame(data, index = [1985,1996,2002]).T\n",
      "housing.head()"
     ],
     "language": "python",
     "metadata": {},
     "outputs": [
      {
       "html": [
        "<div style=\"max-height:1000px;max-width:1500px;overflow:auto;\">\n",
        "<table border=\"1\" class=\"dataframe\">\n",
        "  <thead>\n",
        "    <tr style=\"text-align: right;\">\n",
        "      <th></th>\n",
        "      <th>1985</th>\n",
        "      <th>1996</th>\n",
        "      <th>2002</th>\n",
        "    </tr>\n",
        "  </thead>\n",
        "  <tbody>\n",
        "    <tr>\n",
        "      <th>Alabama</th>\n",
        "      <td> 70.4</td>\n",
        "      <td> 71.0</td>\n",
        "      <td> 73.5</td>\n",
        "    </tr>\n",
        "    <tr>\n",
        "      <th>Alaska</th>\n",
        "      <td> 61.2</td>\n",
        "      <td> 62.9</td>\n",
        "      <td> 67.3</td>\n",
        "    </tr>\n",
        "    <tr>\n",
        "      <th>Arizona</th>\n",
        "      <td> 64.7</td>\n",
        "      <td> 62.0</td>\n",
        "      <td> 65.9</td>\n",
        "    </tr>\n",
        "    <tr>\n",
        "      <th>Arkansas</th>\n",
        "      <td> 66.6</td>\n",
        "      <td> 66.6</td>\n",
        "      <td> 70.2</td>\n",
        "    </tr>\n",
        "    <tr>\n",
        "      <th>California</th>\n",
        "      <td> 54.2</td>\n",
        "      <td> 55.0</td>\n",
        "      <td> 58.0</td>\n",
        "    </tr>\n",
        "  </tbody>\n",
        "</table>\n",
        "</div>"
       ],
       "metadata": {},
       "output_type": "pyout",
       "prompt_number": 167,
       "text": [
        "            1985  1996  2002\n",
        "Alabama     70.4  71.0  73.5\n",
        "Alaska      61.2  62.9  67.3\n",
        "Arizona     64.7  62.0  65.9\n",
        "Arkansas    66.6  66.6  70.2\n",
        "California  54.2  55.0  58.0"
       ]
      }
     ],
     "prompt_number": 167
    },
    {
     "cell_type": "code",
     "collapsed": false,
     "input": [
      "%%R -i housing\n",
      "par(mfrow=c(1,3))\n",
      "housing <- data.frame(housing)\n",
      "colnames(housing) <- c('1985','1996','2002')\n",
      "hist(housing$'1985')\n",
      "hist(housing$'1996')\n",
      "hist(housing$'2002')"
     ],
     "language": "python",
     "metadata": {},
     "outputs": [
      {
       "metadata": {},
       "output_type": "display_data",
       "png": "[encoded data removed]"
      }
     ],
     "prompt_number": 171
    },
    {
     "cell_type": "heading",
     "level": 2,
     "metadata": {},
     "source": []
    },
    {
     "cell_type": "heading",
     "level": 5,
     "metadata": {},
     "source": [
      "3.13"
     ]
    },
    {
     "cell_type": "heading",
     "level": 5,
     "metadata": {},
     "source": [
      "3.19"
     ]
    },
    {
     "cell_type": "code",
     "collapsed": false,
     "input": [
      "%%R\n",
      "freq <- c(6,11,16,59,46,33,16,4)\n",
      "barplot(freq)"
     ],
     "language": "python",
     "metadata": {},
     "outputs": [
      {
       "metadata": {},
       "output_type": "display_data",
       "png": "[encoded data removed]"
      }
     ],
     "prompt_number": 23
    },
    {
     "cell_type": "markdown",
     "metadata": {},
     "source": [
      "For grouped data we have\n",
      "\n",
      "median $= L + \\frac w {f_m} (.5n -cf_b)$\n",
      "\n",
      "mean $\\approx \\frac {\\sum_i f_i y_i} n$"
     ]
    },
    {
     "cell_type": "code",
     "collapsed": false,
     "input": [
      "%%R\n",
      "median <- (60.1+100.1)/2 +(20/((59+46)/2))*(0.5*191 - (6+11+16))\n",
      "mean <- sum(freq*seq(10,170, by = 20))/sum(freq)\n",
      "mean"
     ],
     "language": "python",
     "metadata": {},
     "outputs": [
      {
       "metadata": {},
       "output_type": "display_data",
       "text": [
        "[1] 87.90576\n"
       ]
      }
     ],
     "prompt_number": 29
    },
    {
     "cell_type": "markdown",
     "metadata": {},
     "source": [
      "hmmm...  but looking closely at the numbers, it looks like they skipped a bin, which completely messes up my numbers. I'm going to move on... "
     ]
    },
    {
     "cell_type": "heading",
     "level": 5,
     "metadata": {},
     "source": [
      "3.30"
     ]
    },
    {
     "cell_type": "heading",
     "level": 5,
     "metadata": {},
     "source": [
      "3.36"
     ]
    },
    {
     "cell_type": "heading",
     "level": 5,
     "metadata": {},
     "source": [
      "3.40"
     ]
    },
    {
     "cell_type": "code",
     "collapsed": false,
     "input": [],
     "language": "python",
     "metadata": {},
     "outputs": []
    }
   ],
   "metadata": {}
  }
 ]
}