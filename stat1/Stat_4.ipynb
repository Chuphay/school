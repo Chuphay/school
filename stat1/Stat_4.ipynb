{
 "metadata": {
  "name": "",
  "signature": "sha256:18981203f35a3102f45ae1d2935382915b9da547f6fcb7ffe64708b891b8a9d8"
 },
 "nbformat": 3,
 "nbformat_minor": 0,
 "worksheets": [
  {
   "cells": [
    {
     "cell_type": "code",
     "collapsed": false,
     "input": [
      "from tools import hide, HTML\n",
      "%pylab inline\n",
      "%load_ext rpy2.ipython   \n",
      "\n",
      "import scipy.stats as stat\n",
      " \n",
      "dnorm = stat.norm.pdf\n",
      "pnorm = stat.norm.cdf\n",
      "qnorm = stat.norm.ppf\n",
      "rnorm = stat.norm.rvs\n",
      " \n",
      "dt = stat.t.pdf\n",
      "pt = stat.t.cdf\n",
      "qt = stat.t.ppf\n",
      "rt = stat.t.rvs\n",
      "hide() "
     ],
     "language": "python",
     "metadata": {},
     "outputs": [
      {
       "output_type": "stream",
       "stream": "stdout",
       "text": [
        "Populating the interactive namespace from numpy and matplotlib\n"
       ]
      },
      {
       "html": [
        "<script>\n",
        "code_show=true; \n",
        "function code_toggle() {\n",
        " if (code_show){\n",
        " $('div.input').hide();\n",
        " $('div.output_prompt').hide();\n",
        "\n",
        " } else {\n",
        " $('div.input').show();\n",
        " $('div.output_prompt').show();\n",
        " }\n",
        " code_show = !code_show\n",
        "} \n",
        "$( document ).ready(code_toggle);\n",
        "</script>\n",
        "<p>The raw code for this IPython notebook is by default hidden for easier reading.</p>\n",
        "\n",
        "<p>To toggle on/off the raw code, click <a href=\"javascript:code_toggle()\">here</a>.</p>\n",
        "\n"
       ],
       "metadata": {},
       "output_type": "pyout",
       "prompt_number": 1,
       "text": [
        "<IPython.core.display.HTML at 0xb0c58b6c>"
       ]
      }
     ],
     "prompt_number": 1
    },
    {
     "cell_type": "heading",
     "level": 3,
     "metadata": {},
     "source": [
      "5.18 "
     ]
    },
    {
     "cell_type": "markdown",
     "metadata": {},
     "source": [
      "a.)\n",
      "\n",
      "$\\frac {28 -25.9}{5.6} \\sqrt {50} = 2.65 > 1.645$\n",
      "\n",
      "We therefore reject the null hypothesis."
     ]
    },
    {
     "cell_type": "markdown",
     "metadata": {},
     "source": [
      "b.)\n",
      "\n",
      "$\\beta = \\mathbb {P} (z < z_{\\alpha} - \\frac {|\\mu_0 - \\mu_a|}{\\sigma/\\sqrt{n}}) =  \\mathbb {P} (z< 1.645 - \\frac {\\sqrt {50}}{5.6}) = \\mathbb {P} (z< 0.38) = 64.9\\%$"
     ]
    },
    {
     "cell_type": "markdown",
     "metadata": {},
     "source": [
      "c.)\n",
      "No, because you can only make a type II error if you reject the alternative hypothesis."
     ]
    },
    {
     "cell_type": "heading",
     "level": 3,
     "metadata": {},
     "source": [
      "5.25 "
     ]
    },
    {
     "cell_type": "markdown",
     "metadata": {},
     "source": [
      "$n = \\frac {\\sigma^2}{\\Delta^2}(z_\\alpha + z_{\\beta})^2$"
     ]
    },
    {
     "cell_type": "code",
     "collapsed": false,
     "input": [
      "print('=',((qnorm(0.95)+qnorm(0.90))*(7.64/4))**2)\n",
      "print(\"Therefore we would need to conduct 32 trials.\")"
     ],
     "language": "python",
     "metadata": {},
     "outputs": [
      {
       "output_type": "stream",
       "stream": "stdout",
       "text": [
        "= 31.24177152\n",
        "Therefore we would need to conduct 32 trials.\n"
       ]
      }
     ],
     "prompt_number": 29
    },
    {
     "cell_type": "heading",
     "level": 3,
     "metadata": {},
     "source": [
      "5.32 "
     ]
    },
    {
     "cell_type": "markdown",
     "metadata": {},
     "source": [
      "Calculating the z-score gives:"
     ]
    },
    {
     "cell_type": "code",
     "collapsed": false,
     "input": [
      "(21.7-18.8)*(90**0.5)/15.3"
     ],
     "language": "python",
     "metadata": {},
     "outputs": [
      {
       "metadata": {},
       "output_type": "pyout",
       "prompt_number": 31,
       "text": [
        "1.7981578851937834"
       ]
      }
     ],
     "prompt_number": 31
    },
    {
     "cell_type": "markdown",
     "metadata": {},
     "source": [
      "For a two-tailed test, we can use the  $p-value = 2 \\mathbb{P}(z \\ge |computed~~z|) = 2(1- \\mathbb{P}(z < |computed~~z|))$"
     ]
    },
    {
     "cell_type": "code",
     "collapsed": false,
     "input": [
      "print('=',2*(1-pnorm(1.8)))"
     ],
     "language": "python",
     "metadata": {},
     "outputs": [
      {
       "output_type": "stream",
       "stream": "stdout",
       "text": [
        "= 0.0718606382259\n"
       ]
      }
     ],
     "prompt_number": 34
    },
    {
     "cell_type": "markdown",
     "metadata": {},
     "source": [
      "This p-value is more than $\\alpha = 0.05$, thus we reject the alternative hypothesis."
     ]
    },
    {
     "cell_type": "heading",
     "level": 3,
     "metadata": {},
     "source": [
      "5.33 "
     ]
    },
    {
     "cell_type": "markdown",
     "metadata": {},
     "source": [
      "Yes, because now the p-value = $\\mathbb{P}(z \\ge |computed~~z|)= (1- \\mathbb{P}(z < |computed~~z|))$ and therefore the p-value is"
     ]
    },
    {
     "cell_type": "code",
     "collapsed": false,
     "input": [
      "print('=',(1-pnorm(1.8)))"
     ],
     "language": "python",
     "metadata": {},
     "outputs": [
      {
       "output_type": "stream",
       "stream": "stdout",
       "text": [
        "= 0.0359303191129\n"
       ]
      }
     ],
     "prompt_number": 36
    },
    {
     "cell_type": "markdown",
     "metadata": {},
     "source": [
      "Which is less than $\\alpha$ and we therefore reject the null hypothesis."
     ]
    },
    {
     "cell_type": "heading",
     "level": 3,
     "metadata": {},
     "source": [
      "5.44 "
     ]
    },
    {
     "cell_type": "markdown",
     "metadata": {},
     "source": [
      "a.) Yes... but let's see what the math says. We compute the Test statistic: $z = \\frac {\\bar{y} - \\mu_0}{\\sigma/\\sqrt{n}}$"
     ]
    },
    {
     "cell_type": "code",
     "collapsed": false,
     "input": [
      "(1718.3-1600)*18**0.5/137.8"
     ],
     "language": "python",
     "metadata": {},
     "outputs": [
      {
       "metadata": {},
       "output_type": "pyout",
       "prompt_number": 38,
       "text": [
        "3.6422670049797614"
       ]
      }
     ],
     "prompt_number": 38
    },
    {
     "cell_type": "markdown",
     "metadata": {},
     "source": [
      "We can see that this is a very large number, and corresponds to a probabilty of "
     ]
    },
    {
     "cell_type": "code",
     "collapsed": false,
     "input": [
      "pnorm(3.642267)"
     ],
     "language": "python",
     "metadata": {},
     "outputs": [
      {
       "metadata": {},
       "output_type": "pyout",
       "prompt_number": 41,
       "text": [
        "0.99986487622332842"
       ]
      }
     ],
     "prompt_number": 41
    },
    {
     "cell_type": "markdown",
     "metadata": {},
     "source": [
      "which means that we are almost 100% sure that the mean is more than 1600."
     ]
    },
    {
     "cell_type": "markdown",
     "metadata": {},
     "source": [
      "b.)"
     ]
    },
    {
     "cell_type": "code",
     "collapsed": false,
     "input": [
      "HTML(\"The 95% confidence interval on $\\mu$ is\")"
     ],
     "language": "python",
     "metadata": {},
     "outputs": [
      {
       "html": [
        "The 95% confidence interval on $\\mu$ is"
       ],
       "metadata": {},
       "output_type": "pyout",
       "prompt_number": 48,
       "text": [
        "<IPython.core.display.HTML at 0xb524170c>"
       ]
      }
     ],
     "prompt_number": 48
    },
    {
     "cell_type": "code",
     "collapsed": false,
     "input": [
      "print(\"(\",1718.3 - qt(0.975,17)*137.8/18**0.5, '---',1718.3 + qt(0.975,17)*137.8/18**0.5,')')"
     ],
     "language": "python",
     "metadata": {},
     "outputs": [
      {
       "output_type": "stream",
       "stream": "stdout",
       "text": [
        "( 1649.77367216 --- 1786.82632784 )\n"
       ]
      }
     ],
     "prompt_number": 50
    },
    {
     "cell_type": "markdown",
     "metadata": {},
     "source": [
      "c.) The p-value was already calculated above as 3.64. There is strong evidence that $\\mu$ is greater than 1,600."
     ]
    },
    {
     "cell_type": "heading",
     "level": 3,
     "metadata": {},
     "source": [
      "6.5 "
     ]
    },
    {
     "cell_type": "code",
     "collapsed": false,
     "input": [],
     "language": "python",
     "metadata": {},
     "outputs": []
    },
    {
     "cell_type": "heading",
     "level": 3,
     "metadata": {},
     "source": [
      "6.8 "
     ]
    },
    {
     "cell_type": "heading",
     "level": 3,
     "metadata": {},
     "source": [
      "6.12 "
     ]
    },
    {
     "cell_type": "heading",
     "level": 3,
     "metadata": {},
     "source": [
      "6.17 "
     ]
    },
    {
     "cell_type": "heading",
     "level": 3,
     "metadata": {},
     "source": [
      "6.40 "
     ]
    },
    {
     "cell_type": "heading",
     "level": 3,
     "metadata": {},
     "source": [
      "6.41"
     ]
    },
    {
     "cell_type": "heading",
     "level": 3,
     "metadata": {},
     "source": [
      "optional: 5.29, 6.7, 6.11"
     ]
    },
    {
     "cell_type": "code",
     "collapsed": false,
     "input": [],
     "language": "python",
     "metadata": {},
     "outputs": [
      {
       "metadata": {},
       "output_type": "pyout",
       "prompt_number": 17,
       "text": [
        "45545"
       ]
      }
     ],
     "prompt_number": 17
    },
    {
     "cell_type": "code",
     "collapsed": false,
     "input": [],
     "language": "python",
     "metadata": {},
     "outputs": []
    }
   ],
   "metadata": {}
  }
 ]
}