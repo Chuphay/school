{
 "metadata": {
  "name": "",
  "signature": "sha256:181a9f2a9ff75c61d2e02ab004cacca930757fbab7672f1bbd15e7df230cb21e"
 },
 "nbformat": 3,
 "nbformat_minor": 0,
 "worksheets": [
  {
   "cells": [
    {
     "cell_type": "heading",
     "level": 1,
     "metadata": {},
     "source": [
      "Homework #4"
     ]
    },
    {
     "cell_type": "code",
     "collapsed": false,
     "input": [
      "from tools import hide, HTML\n",
      "%pylab inline\n",
      "%load_ext rpy2.ipython   \n",
      "\n",
      "import scipy.stats as stat\n",
      " \n",
      "dnorm = stat.norm.pdf\n",
      "pnorm = stat.norm.cdf\n",
      "qnorm = stat.norm.ppf\n",
      "rnorm = stat.norm.rvs\n",
      " \n",
      "dt = stat.t.pdf\n",
      "pt = stat.t.cdf\n",
      "qt = stat.t.ppf\n",
      "rt = stat.t.rvs\n",
      "hide() "
     ],
     "language": "python",
     "metadata": {},
     "outputs": [
      {
       "output_type": "stream",
       "stream": "stdout",
       "text": [
        "Populating the interactive namespace from numpy and matplotlib\n"
       ]
      },
      {
       "html": [
        "<script>\n",
        "code_show=true; \n",
        "function code_toggle() {\n",
        " if (code_show){\n",
        " $('div.input').hide();\n",
        " $('div.output_prompt').hide();\n",
        "\n",
        " } else {\n",
        " $('div.input').show();\n",
        " $('div.output_prompt').show();\n",
        " }\n",
        " code_show = !code_show\n",
        "} \n",
        "$( document ).ready(code_toggle);\n",
        "</script>\n",
        "<p>The raw code for this IPython notebook is by default hidden for easier reading.</p>\n",
        "\n",
        "<p>To toggle on/off the raw code, click <a href=\"javascript:code_toggle()\">here</a>.</p>\n",
        "\n"
       ],
       "metadata": {},
       "output_type": "pyout",
       "prompt_number": 1,
       "text": [
        "<IPython.core.display.HTML at 0xb0c58b6c>"
       ]
      }
     ],
     "prompt_number": 1
    },
    {
     "cell_type": "heading",
     "level": 3,
     "metadata": {},
     "source": [
      "5.18 "
     ]
    },
    {
     "cell_type": "markdown",
     "metadata": {},
     "source": [
      "a.)\n",
      "\n",
      "$\\frac {28 -25.9}{5.6} \\sqrt {50} = 2.65 > 1.645$\n",
      "\n",
      "We therefore reject the null hypothesis."
     ]
    },
    {
     "cell_type": "markdown",
     "metadata": {},
     "source": [
      "b.)\n",
      "\n",
      "$\\beta = \\mathbb {P} (z < z_{\\alpha} - \\frac {|\\mu_0 - \\mu_a|}{\\sigma/\\sqrt{n}}) =  \\mathbb {P} (z< 1.645 - \\frac {\\sqrt {50}}{5.6}) = \\mathbb {P} (z< 0.38) = 64.9\\%$"
     ]
    },
    {
     "cell_type": "markdown",
     "metadata": {},
     "source": [
      "c.)\n",
      "No, because you can only make a type II error if you reject the alternative hypothesis."
     ]
    },
    {
     "cell_type": "heading",
     "level": 3,
     "metadata": {},
     "source": [
      "5.25 "
     ]
    },
    {
     "cell_type": "markdown",
     "metadata": {},
     "source": [
      "$n = \\frac {\\sigma^2}{\\Delta^2}(z_\\alpha + z_{\\beta})^2$"
     ]
    },
    {
     "cell_type": "code",
     "collapsed": false,
     "input": [
      "print('=',((qnorm(0.95)+qnorm(0.90))*(7.64/4))**2)\n",
      "print(\"Therefore we would need to conduct 32 trials.\")"
     ],
     "language": "python",
     "metadata": {},
     "outputs": [
      {
       "output_type": "stream",
       "stream": "stdout",
       "text": [
        "= 31.24177152\n",
        "Therefore we would need to conduct 32 trials.\n"
       ]
      }
     ],
     "prompt_number": 29
    },
    {
     "cell_type": "heading",
     "level": 3,
     "metadata": {},
     "source": [
      "5.32 "
     ]
    },
    {
     "cell_type": "markdown",
     "metadata": {},
     "source": [
      "Calculating the z-score gives:"
     ]
    },
    {
     "cell_type": "code",
     "collapsed": false,
     "input": [
      "(21.7-18.8)*(90**0.5)/15.3"
     ],
     "language": "python",
     "metadata": {},
     "outputs": [
      {
       "metadata": {},
       "output_type": "pyout",
       "prompt_number": 31,
       "text": [
        "1.7981578851937834"
       ]
      }
     ],
     "prompt_number": 31
    },
    {
     "cell_type": "markdown",
     "metadata": {},
     "source": [
      "For a two-tailed test, we can use the  $p-value = 2 \\mathbb{P}(z \\ge |computed~~z|) = 2(1- \\mathbb{P}(z < |computed~~z|))$"
     ]
    },
    {
     "cell_type": "code",
     "collapsed": false,
     "input": [
      "print('=',2*(1-pnorm(1.8)))"
     ],
     "language": "python",
     "metadata": {},
     "outputs": [
      {
       "output_type": "stream",
       "stream": "stdout",
       "text": [
        "= 0.0718606382259\n"
       ]
      }
     ],
     "prompt_number": 34
    },
    {
     "cell_type": "markdown",
     "metadata": {},
     "source": [
      "This p-value is more than $\\alpha = 0.05$, thus we do not accept the alternative hypothesis."
     ]
    },
    {
     "cell_type": "heading",
     "level": 3,
     "metadata": {},
     "source": [
      "5.33 "
     ]
    },
    {
     "cell_type": "markdown",
     "metadata": {},
     "source": [
      "Yes, because now the p-value = $\\mathbb{P}(z \\ge |computed~~z|)= (1- \\mathbb{P}(z < |computed~~z|))$ and therefore the p-value is"
     ]
    },
    {
     "cell_type": "code",
     "collapsed": false,
     "input": [
      "print('=',(1-pnorm(1.8)))"
     ],
     "language": "python",
     "metadata": {},
     "outputs": [
      {
       "output_type": "stream",
       "stream": "stdout",
       "text": [
        "= 0.0359303191129\n"
       ]
      }
     ],
     "prompt_number": 36
    },
    {
     "cell_type": "markdown",
     "metadata": {},
     "source": [
      "Which is less than $\\alpha$ and we therefore reject the null hypothesis."
     ]
    },
    {
     "cell_type": "heading",
     "level": 3,
     "metadata": {},
     "source": [
      "5.44 "
     ]
    },
    {
     "cell_type": "markdown",
     "metadata": {},
     "source": [
      "a.) Yes... but let's see what the math says. We compute the Test statistic: $z = \\frac {\\bar{y} - \\mu_0}{\\sigma/\\sqrt{n}}$"
     ]
    },
    {
     "cell_type": "code",
     "collapsed": false,
     "input": [
      "(1718.3-1600)*18**0.5/137.8"
     ],
     "language": "python",
     "metadata": {},
     "outputs": [
      {
       "metadata": {},
       "output_type": "pyout",
       "prompt_number": 38,
       "text": [
        "3.6422670049797614"
       ]
      }
     ],
     "prompt_number": 38
    },
    {
     "cell_type": "markdown",
     "metadata": {},
     "source": [
      "We can see that this is a very large number, and corresponds to a probabilty of "
     ]
    },
    {
     "cell_type": "code",
     "collapsed": false,
     "input": [
      "pnorm(3.642267)"
     ],
     "language": "python",
     "metadata": {},
     "outputs": [
      {
       "metadata": {},
       "output_type": "pyout",
       "prompt_number": 41,
       "text": [
        "0.99986487622332842"
       ]
      }
     ],
     "prompt_number": 41
    },
    {
     "cell_type": "markdown",
     "metadata": {},
     "source": [
      "which means that we are almost 100% sure that the mean is more than 1600."
     ]
    },
    {
     "cell_type": "markdown",
     "metadata": {},
     "source": [
      "b.)"
     ]
    },
    {
     "cell_type": "code",
     "collapsed": false,
     "input": [
      "HTML(\"The 95% confidence interval on $\\mu$ is\")"
     ],
     "language": "python",
     "metadata": {},
     "outputs": [
      {
       "html": [
        "The 95% confidence interval on $\\mu$ is"
       ],
       "metadata": {},
       "output_type": "pyout",
       "prompt_number": 48,
       "text": [
        "<IPython.core.display.HTML at 0xb524170c>"
       ]
      }
     ],
     "prompt_number": 48
    },
    {
     "cell_type": "code",
     "collapsed": false,
     "input": [
      "print(\"(\",1718.3 - qt(0.975,17)*137.8/18**0.5, '---',1718.3 + qt(0.975,17)*137.8/18**0.5,')')"
     ],
     "language": "python",
     "metadata": {},
     "outputs": [
      {
       "output_type": "stream",
       "stream": "stdout",
       "text": [
        "( 1649.77367216 --- 1786.82632784 )\n"
       ]
      }
     ],
     "prompt_number": 50
    },
    {
     "cell_type": "markdown",
     "metadata": {},
     "source": [
      "c.) The z-value was already calculated above as 3.64. \n",
      "\n",
      "p-value = $\\mathbb{P}(z>3.64) = 1 - 0.99987 \\approx 0$\n",
      "\n",
      "There is strong evidence that $\\mu$ is greater than 1,600."
     ]
    },
    {
     "cell_type": "heading",
     "level": 3,
     "metadata": {},
     "source": [
      "6.5 "
     ]
    },
    {
     "cell_type": "markdown",
     "metadata": {},
     "source": [
      "a.) Because the two variances are unequal, we must use the more complicated formula:\n",
      "\n",
      "$t = \\frac{\\bar {y_1} - \\bar {y_2}}{\\sqrt{\\frac {s_1^2}{n_1} + \\frac {s_2^2}{n_2}}}$"
     ]
    },
    {
     "cell_type": "code",
     "collapsed": false,
     "input": [
      "from pandas import DataFrame\n",
      "df = DataFrame({'26 C':[152,157,179,182,176,149],'5 C':[384,369,354,375,366,423]})\n",
      "df.index = [1,2,3,4,5,6]\n",
      "df"
     ],
     "language": "python",
     "metadata": {},
     "outputs": [
      {
       "html": [
        "<div style=\"max-height:1000px;max-width:1500px;overflow:auto;\">\n",
        "<table border=\"1\" class=\"dataframe\">\n",
        "  <thead>\n",
        "    <tr style=\"text-align: right;\">\n",
        "      <th></th>\n",
        "      <th>26 C</th>\n",
        "      <th>5 C</th>\n",
        "    </tr>\n",
        "  </thead>\n",
        "  <tbody>\n",
        "    <tr>\n",
        "      <th>1</th>\n",
        "      <td> 152</td>\n",
        "      <td> 384</td>\n",
        "    </tr>\n",
        "    <tr>\n",
        "      <th>2</th>\n",
        "      <td> 157</td>\n",
        "      <td> 369</td>\n",
        "    </tr>\n",
        "    <tr>\n",
        "      <th>3</th>\n",
        "      <td> 179</td>\n",
        "      <td> 354</td>\n",
        "    </tr>\n",
        "    <tr>\n",
        "      <th>4</th>\n",
        "      <td> 182</td>\n",
        "      <td> 375</td>\n",
        "    </tr>\n",
        "    <tr>\n",
        "      <th>5</th>\n",
        "      <td> 176</td>\n",
        "      <td> 366</td>\n",
        "    </tr>\n",
        "    <tr>\n",
        "      <th>6</th>\n",
        "      <td> 149</td>\n",
        "      <td> 423</td>\n",
        "    </tr>\n",
        "  </tbody>\n",
        "</table>\n",
        "</div>"
       ],
       "metadata": {},
       "output_type": "pyout",
       "prompt_number": 57,
       "text": [
        "   26 C  5 C\n",
        "1   152  384\n",
        "2   157  369\n",
        "3   179  354\n",
        "4   182  375\n",
        "5   176  366\n",
        "6   149  423"
       ]
      }
     ],
     "prompt_number": 57
    },
    {
     "cell_type": "code",
     "collapsed": false,
     "input": [
      "df.describe()"
     ],
     "language": "python",
     "metadata": {},
     "outputs": [
      {
       "html": [
        "<div style=\"max-height:1000px;max-width:1500px;overflow:auto;\">\n",
        "<table border=\"1\" class=\"dataframe\">\n",
        "  <thead>\n",
        "    <tr style=\"text-align: right;\">\n",
        "      <th></th>\n",
        "      <th>26 C</th>\n",
        "      <th>5 C</th>\n",
        "    </tr>\n",
        "  </thead>\n",
        "  <tbody>\n",
        "    <tr>\n",
        "      <th>count</th>\n",
        "      <td>   6.000000</td>\n",
        "      <td>   6.00000</td>\n",
        "    </tr>\n",
        "    <tr>\n",
        "      <th>mean</th>\n",
        "      <td> 165.833333</td>\n",
        "      <td> 378.50000</td>\n",
        "    </tr>\n",
        "    <tr>\n",
        "      <th>std</th>\n",
        "      <td>  14.770466</td>\n",
        "      <td>  23.95621</td>\n",
        "    </tr>\n",
        "    <tr>\n",
        "      <th>min</th>\n",
        "      <td> 149.000000</td>\n",
        "      <td> 354.00000</td>\n",
        "    </tr>\n",
        "    <tr>\n",
        "      <th>25%</th>\n",
        "      <td> 153.250000</td>\n",
        "      <td> 366.75000</td>\n",
        "    </tr>\n",
        "    <tr>\n",
        "      <th>50%</th>\n",
        "      <td> 166.500000</td>\n",
        "      <td> 372.00000</td>\n",
        "    </tr>\n",
        "    <tr>\n",
        "      <th>75%</th>\n",
        "      <td> 178.250000</td>\n",
        "      <td> 381.75000</td>\n",
        "    </tr>\n",
        "    <tr>\n",
        "      <th>max</th>\n",
        "      <td> 182.000000</td>\n",
        "      <td> 423.00000</td>\n",
        "    </tr>\n",
        "  </tbody>\n",
        "</table>\n",
        "</div>"
       ],
       "metadata": {},
       "output_type": "pyout",
       "prompt_number": 63,
       "text": [
        "             26 C        5 C\n",
        "count    6.000000    6.00000\n",
        "mean   165.833333  378.50000\n",
        "std     14.770466   23.95621\n",
        "min    149.000000  354.00000\n",
        "25%    153.250000  366.75000\n",
        "50%    166.500000  372.00000\n",
        "75%    178.250000  381.75000\n",
        "max    182.000000  423.00000"
       ]
      }
     ],
     "prompt_number": 63
    },
    {
     "cell_type": "code",
     "collapsed": false,
     "input": [
      "(378.5-165.833)/(14.7**2/6 + 23.96**2/6)**0.5"
     ],
     "language": "python",
     "metadata": {},
     "outputs": [
      {
       "metadata": {},
       "output_type": "pyout",
       "prompt_number": 66,
       "text": [
        "18.53168978806576"
       ]
      }
     ],
     "prompt_number": 66
    },
    {
     "cell_type": "markdown",
     "metadata": {},
     "source": [
      "So this is overwhelming support."
     ]
    },
    {
     "cell_type": "markdown",
     "metadata": {},
     "source": [
      "b.) There are not enough data points to prove or disprove normality, as one can see from the below graphs.\n",
      "\n",
      "There was non-equal variance but I believe I compensated for this, and finally the samples were all independent."
     ]
    },
    {
     "cell_type": "code",
     "collapsed": false,
     "input": [
      "subplot(121)\n",
      "df['26 C'].hist();\n",
      "subplot(122)\n",
      "df['5 C'].hist();"
     ],
     "language": "python",
     "metadata": {},
     "outputs": [
      {
       "metadata": {},
       "output_type": "display_data",
       "png": "[encoded data removed]",
       "text": [
        "<matplotlib.figure.Figure at 0xa9c3244c>"
       ]
      }
     ],
     "prompt_number": 73
    },
    {
     "cell_type": "markdown",
     "metadata": {},
     "source": [
      "c.) $\\bar{y_1} - \\bar{y_2} \\pm t_{\\alpha/2} s_p \\sqrt {\\frac 1{n_1} + \\frac 1{n_2}}$\n",
      "\n",
      "where $s_p = \\sqrt {\\frac {(n_1 - 1)s_1^2 + (n_2 - 1) s_2^2}{n_1+n_2-2}}$ "
     ]
    },
    {
     "cell_type": "code",
     "collapsed": false,
     "input": [
      "s_p = ((5*14.77**2 + 5*23.96**2)/10)**0.5\n",
      "print(-212.667-qt(0.975,10)*s_p*(1/6 + 1/6)**0.5,'---',-212.667+qt(0.975,10)*s_p*(1/6 + 1/6)**0.5)"
     ],
     "language": "python",
     "metadata": {},
     "outputs": [
      {
       "output_type": "stream",
       "stream": "stdout",
       "text": [
        "-238.270155965 --- -187.063844035\n"
       ]
      }
     ],
     "prompt_number": 93
    },
    {
     "cell_type": "heading",
     "level": 3,
     "metadata": {},
     "source": [
      "6.8 "
     ]
    },
    {
     "cell_type": "markdown",
     "metadata": {},
     "source": [
      "Looking at the confidence interval provided, we notice that the 95% confidence interval does not contain zero, therefore with 95% confidence we can say that there is a difference between the reading rates of these two populations."
     ]
    },
    {
     "cell_type": "heading",
     "level": 3,
     "metadata": {},
     "source": [
      "6.12 "
     ]
    },
    {
     "cell_type": "markdown",
     "metadata": {},
     "source": [
      "We can use a paired data strategy. (?)"
     ]
    },
    {
     "cell_type": "heading",
     "level": 3,
     "metadata": {},
     "source": [
      "6.17 "
     ]
    },
    {
     "cell_type": "markdown",
     "metadata": {},
     "source": [
      "a.) I would say the Wilcoxon rank sum test because the data for the control group is not very normal.\n",
      "\n",
      "b.) In all three tests, there is some evidence for the null hypothesis. Therefore we cannot reject it.\n",
      "\n",
      "c.) Using the Wilcoxon rank sum test, we have a 95.2% confidence interval of (-12.89, 0.81).\n",
      "\n",
      "d.) Obviously it matters because all three tests have different answers. It would not be reasonable to always run all three tests. Each test has specific assumptions, and without paying attention to the assumptions, you can make faulty inferences."
     ]
    },
    {
     "cell_type": "heading",
     "level": 3,
     "metadata": {},
     "source": [
      "6.40 "
     ]
    },
    {
     "cell_type": "markdown",
     "metadata": {},
     "source": [
      "a.)\n",
      "\n",
      "$ n = 2 \\sigma^2 \\frac{(z_{\\alpha} +z_{\\beta})^2}{\\Delta^2}$"
     ]
    },
    {
     "cell_type": "code",
     "collapsed": false,
     "input": [
      "2* 25.5**2 *(qnorm(0.95)+ qnorm(0.90))**2/(100)"
     ],
     "language": "python",
     "metadata": {},
     "outputs": [
      {
       "metadata": {},
       "output_type": "pyout",
       "prompt_number": 99,
       "text": [
        "111.37283479543699"
       ]
      }
     ],
     "prompt_number": 99
    },
    {
     "cell_type": "markdown",
     "metadata": {},
     "source": [
      "Apparently you will need a sample size of 112.\n",
      "\n",
      "b.) I used equal standard deviation. I assumed that they were normally distributed as well."
     ]
    },
    {
     "cell_type": "heading",
     "level": 3,
     "metadata": {},
     "source": [
      "6.41"
     ]
    },
    {
     "cell_type": "markdown",
     "metadata": {},
     "source": [
      "hmmm... I'm kid of confused here then... but I guess we just simply change the numbers around a little:"
     ]
    },
    {
     "cell_type": "code",
     "collapsed": false,
     "input": [
      "2* 25.5**2 *(qnorm(0.95)+ qnorm(0.99))**2/(100)"
     ],
     "language": "python",
     "metadata": {},
     "outputs": [
      {
       "metadata": {},
       "output_type": "pyout",
       "prompt_number": 100,
       "text": [
        "205.09458990609423"
       ]
      }
     ],
     "prompt_number": 100
    },
    {
     "cell_type": "markdown",
     "metadata": {},
     "source": [
      "So we would need a sample size of 206."
     ]
    }
   ],
   "metadata": {}
  }
 ]
}