{
 "metadata": {
  "name": "",
  "signature": "sha256:a0259d86b90d226590621c94cbf1e8fa80abf12e30ed0b9a4ee1835400852153"
 },
 "nbformat": 3,
 "nbformat_minor": 0,
 "worksheets": [
  {
   "cells": [
    {
     "cell_type": "heading",
     "level": 1,
     "metadata": {},
     "source": [
      "Homework Set #3"
     ]
    },
    {
     "cell_type": "code",
     "collapsed": false,
     "input": [
      "%pylab inline\n",
      "%load_ext rpy2.ipython   "
     ],
     "language": "python",
     "metadata": {},
     "outputs": [
      {
       "output_type": "stream",
       "stream": "stdout",
       "text": [
        "Populating the interactive namespace from numpy and matplotlib\n"
       ]
      }
     ],
     "prompt_number": 1
    },
    {
     "cell_type": "heading",
     "level": 3,
     "metadata": {},
     "source": [
      "4.36"
     ]
    },
    {
     "cell_type": "markdown",
     "metadata": {},
     "source": [
      "<b>a)</b> Continuous <b>b)</b> Discrete <b>c)</b> Continuous <b>d)</b> Discrete <b>e)</b> Continuous <b>f)</b> Continuous"
     ]
    },
    {
     "cell_type": "heading",
     "level": 3,
     "metadata": {},
     "source": [
      "4.41"
     ]
    },
    {
     "cell_type": "markdown",
     "metadata": {},
     "source": [
      "<b>a)</b> $1 - (.06 + .14 + .16 + .14) = 0.5$   <b>b)</b> $0.30$ <b>c) $0.07$</b>"
     ]
    },
    {
     "cell_type": "heading",
     "level": 3,
     "metadata": {},
     "source": [
      "4.44"
     ]
    },
    {
     "cell_type": "markdown",
     "metadata": {},
     "source": [
      "No"
     ]
    },
    {
     "cell_type": "heading",
     "level": 3,
     "metadata": {},
     "source": [
      "4.46 "
     ]
    },
    {
     "cell_type": "markdown",
     "metadata": {},
     "source": [
      "<b>a)</b> $\\mathbb{P}(2) = \\frac {10!} {2!(10-2)!} (0.1)^2(1-0.1)^8$"
     ]
    },
    {
     "cell_type": "code",
     "collapsed": false,
     "input": [
      "%%R \n",
      "cat(factorial(10)/(2*factorial(8))*(0.1)^2*(0.9)^8,'\\n')\n",
      "cat(dbinom(2, 10, 0.1))"
     ],
     "language": "python",
     "metadata": {},
     "outputs": [
      {
       "metadata": {},
       "output_type": "display_data",
       "text": [
        "0.1937102 \n",
        "0.1937102"
       ]
      }
     ],
     "prompt_number": 22
    },
    {
     "cell_type": "markdown",
     "metadata": {},
     "source": [
      "<b>b)</b> $\\mathbb{P}(y\\ge 2) = 1 - (\\mathbb{P}(0) +\\mathbb{P}(1)) $"
     ]
    },
    {
     "cell_type": "code",
     "collapsed": false,
     "input": [
      "%R cat(1- sum(dbinom(0:1, 10, 0.1)))"
     ],
     "language": "python",
     "metadata": {},
     "outputs": [
      {
       "metadata": {},
       "output_type": "display_data",
       "text": [
        "0.2639011"
       ]
      }
     ],
     "prompt_number": 20
    },
    {
     "cell_type": "markdown",
     "metadata": {},
     "source": [
      "<b>c)</b>"
     ]
    },
    {
     "cell_type": "code",
     "collapsed": false,
     "input": [
      "%R cat(dbinom(8,10,0.85))"
     ],
     "language": "python",
     "metadata": {},
     "outputs": [
      {
       "metadata": {},
       "output_type": "display_data",
       "text": [
        "0.2758967"
       ]
      }
     ],
     "prompt_number": 23
    },
    {
     "cell_type": "markdown",
     "metadata": {},
     "source": [
      "<b>d)</b>"
     ]
    },
    {
     "cell_type": "code",
     "collapsed": false,
     "input": [
      "%R cat(1 - dbinom(0,10,0.05))"
     ],
     "language": "python",
     "metadata": {},
     "outputs": [
      {
       "metadata": {},
       "output_type": "display_data",
       "text": [
        "0.4012631"
       ]
      }
     ],
     "prompt_number": 25
    },
    {
     "cell_type": "heading",
     "level": 3,
     "metadata": {},
     "source": [
      "4.51"
     ]
    },
    {
     "cell_type": "markdown",
     "metadata": {},
     "source": [
      "<b>a)</b> \n",
      "$$\\mathbb{P}(y < 6) = \\sum_{i=0}^5 \\frac {2500!} {i!(2500-i)!} (0.001)^i(1-0.001)^{(2500 - i)}$$"
     ]
    },
    {
     "cell_type": "code",
     "collapsed": false,
     "input": [
      "%R cat(sum(dbinom(0:5,2500,0.001))) "
     ],
     "language": "python",
     "metadata": {},
     "outputs": [
      {
       "metadata": {},
       "output_type": "display_data",
       "text": [
        "0.9580625"
       ]
      }
     ],
     "prompt_number": 26
    },
    {
     "cell_type": "markdown",
     "metadata": {},
     "source": [
      "<b>b) </b> That the firm's probability of making a sale is the same as that of other firms. "
     ]
    },
    {
     "cell_type": "heading",
     "level": 3,
     "metadata": {},
     "source": [
      "4.70 "
     ]
    },
    {
     "cell_type": "code",
     "collapsed": false,
     "input": [
      "%%R \n",
      "plot(dnorm(seq(0,1000,by =10),500,100), type = 'l')\n",
      "polygon(dnorm(seq(0,600,by =10),500,100), col=\"gray\") #hmmm... can't figure out how to shade the correct part??\n",
      "\n",
      "cat('a) ',1 - pnorm(1), '\\n')\n",
      "cat('b) ',1 - pnorm(2), '\\n')\n",
      "cat('c) ',pnorm(-0.5), '\\n')\n",
      "cat('d) ',pnorm(1) - pnorm(-0.5), '\\n')"
     ],
     "language": "python",
     "metadata": {},
     "outputs": [
      {
       "metadata": {},
       "output_type": "display_data",
       "text": [
        "a)  0.1586553 \n",
        "b)  0.02275013 \n",
        "c)  0.3085375 \n",
        "d)  0.5328072 \n"
       ]
      },
      {
       "metadata": {},
       "output_type": "display_data",
       "png": "[encoded data removed]"
      }
     ],
     "prompt_number": 127
    },
    {
     "cell_type": "heading",
     "level": 3,
     "metadata": {},
     "source": [
      "4.72"
     ]
    },
    {
     "cell_type": "code",
     "collapsed": false,
     "input": [
      "%%R \n",
      "cat('a) ',100*qnorm(0.9)+ 500, '\\n')\n",
      "cat('b) ',100*qnorm(0.6)+ 500, ' We call this the 60th percentile? \\n')"
     ],
     "language": "python",
     "metadata": {},
     "outputs": [
      {
       "metadata": {},
       "output_type": "display_data",
       "text": [
        "a)  628.1552 \n",
        "b)  525.3347  We call this the 60th percentile? \n"
       ]
      }
     ],
     "prompt_number": 112
    },
    {
     "cell_type": "heading",
     "level": 3,
     "metadata": {},
     "source": [
      "4.76 "
     ]
    },
    {
     "cell_type": "code",
     "collapsed": false,
     "input": [
      "%%R\n",
      "cat('a) ', sample(1:1000,50), '\\n\\n')\n",
      "cat('b)  hmmm... I\\'m not totally sure. It\\'s possible that the order of the people on the list may')\n",
      "cat(' be sorted by age or voting \\n preference, in which case you\\'d need a good random sample for each precinct.')"
     ],
     "language": "python",
     "metadata": {},
     "outputs": [
      {
       "metadata": {},
       "output_type": "display_data",
       "text": [
        "a)  94 563 231 765 249 356 528 423 203 191 615 841 13 205 629 319 574 550 270 946 180 885 667 734 761 444 48 891 840 732 696 308 623 179 860 564 796 324 91 643 842 230 155 745 364 244 554 857 57 139 \n",
        "\n",
        "b)  hmmm... I'm not totally sure. It's possible that the order of the people on the list may be sorted by age or voting \n",
        " preference, in which case you'd need a good random sample for each precinct."
       ]
      }
     ],
     "prompt_number": 128
    },
    {
     "cell_type": "heading",
     "level": 3,
     "metadata": {},
     "source": [
      "4.82 "
     ]
    },
    {
     "cell_type": "markdown",
     "metadata": {},
     "source": [
      "<b>a)</b>\n",
      "$$z = \\frac {y - \\mu}{\\sigma} $$"
     ]
    },
    {
     "cell_type": "code",
     "collapsed": false,
     "input": [
      "%%R\n",
      "z <- (7-5)/1.3\n",
      "1 - pnorm(z)"
     ],
     "language": "python",
     "metadata": {},
     "outputs": [
      {
       "metadata": {},
       "output_type": "display_data",
       "text": [
        "[1] 0.0619679\n"
       ]
      }
     ],
     "prompt_number": 149
    },
    {
     "cell_type": "markdown",
     "metadata": {},
     "source": [
      "<b>b)</b>"
     ]
    },
    {
     "cell_type": "code",
     "collapsed": false,
     "input": [
      "%R pnorm((5.5 - 5)/1.3)"
     ],
     "language": "python",
     "metadata": {},
     "outputs": [
      {
       "metadata": {},
       "output_type": "pyout",
       "prompt_number": 154,
       "text": [
        "<FloatVector - Python:0xb044ab2c / R:0xa88b9c0>\n",
        "[0.649739]"
       ]
      }
     ],
     "prompt_number": 154
    },
    {
     "cell_type": "heading",
     "level": 3,
     "metadata": {},
     "source": [
      "4.86 "
     ]
    },
    {
     "cell_type": "markdown",
     "metadata": {},
     "source": [
      "<b>a) </b>"
     ]
    },
    {
     "cell_type": "code",
     "collapsed": false,
     "input": [
      "%R cat(pnorm(150,160,20))"
     ],
     "language": "python",
     "metadata": {},
     "outputs": [
      {
       "metadata": {},
       "output_type": "display_data",
       "text": [
        "0.3085375"
       ]
      }
     ],
     "prompt_number": 158
    },
    {
     "cell_type": "markdown",
     "metadata": {},
     "source": [
      "<b>b) </b>  I don't really know how to do this problem, so first I'm going to simulate the answer, so at least I'll have a good idea of what my answer should be."
     ]
    },
    {
     "cell_type": "code",
     "collapsed": false,
     "input": [
      "%%R\n",
      "simulations <- 100000\n",
      "success <- logical(simulations)\n",
      "for (i in 1:simulations){\n",
      "    blood_pressure = mean(rnorm(5,160,20))\n",
      "    if(blood_pressure<150){\n",
      "        success[i] = 1\n",
      "    }\n",
      "}\n",
      "mean(success)"
     ],
     "language": "python",
     "metadata": {},
     "outputs": [
      {
       "metadata": {},
       "output_type": "display_data",
       "text": [
        "[1] 0.13127\n"
       ]
      }
     ],
     "prompt_number": 171
    },
    {
     "cell_type": "markdown",
     "metadata": {},
     "source": [
      "And now I'm ready to give a numerical answer:"
     ]
    },
    {
     "cell_type": "code",
     "collapsed": false,
     "input": [
      "%R cat(pnorm(150,160,20/sqrt(5)))"
     ],
     "language": "python",
     "metadata": {},
     "outputs": [
      {
       "metadata": {},
       "output_type": "display_data",
       "text": [
        "0.1317762"
       ]
      }
     ],
     "prompt_number": 174
    },
    {
     "cell_type": "markdown",
     "metadata": {},
     "source": [
      "<b>c) </b>  O.K.... I think I probably should re-read whichever section of the book these problems are coming from, because here is another problem I don't know how to do... I'll again run a simulation to get a feel for what I'm looking for"
     ]
    },
    {
     "cell_type": "code",
     "collapsed": false,
     "input": [
      "%%R\n",
      "num_of_measurements <- 100\n",
      "data <- rep(0,num_of_measurements)\n",
      "for (i in 1:num_of_measurements){\n",
      "    data[i] <- pnorm(150,160,20/sqrt(i))\n",
      "}\n",
      "plot(data, type = 'l')\n",
      "data[20:23]"
     ],
     "language": "python",
     "metadata": {},
     "outputs": [
      {
       "metadata": {},
       "output_type": "display_data",
       "text": [
        "[1] 0.012673659 0.010973386 0.009508237 0.008244328\n"
       ]
      },
      {
       "metadata": {},
       "output_type": "display_data",
       "png": "[encoded data removed]"
      }
     ],
     "prompt_number": 181
    },
    {
     "cell_type": "code",
     "collapsed": false,
     "input": [
      "%R cat((20*qnorm(0.01)/(150-160))^2)"
     ],
     "language": "python",
     "metadata": {},
     "outputs": [
      {
       "metadata": {},
       "output_type": "display_data",
       "text": [
        "21.64758"
       ]
      }
     ],
     "prompt_number": 186
    },
    {
     "cell_type": "markdown",
     "metadata": {},
     "source": [
      "Apparently, you need to check 22 times a day to get an accuracy of 1%"
     ]
    },
    {
     "cell_type": "heading",
     "level": 3,
     "metadata": {},
     "source": [
      "4.88 "
     ]
    },
    {
     "cell_type": "heading",
     "level": 3,
     "metadata": {},
     "source": [
      "4.92(a) "
     ]
    },
    {
     "cell_type": "heading",
     "level": 3,
     "metadata": {},
     "source": [
      "5.2 "
     ]
    },
    {
     "cell_type": "heading",
     "level": 3,
     "metadata": {},
     "source": [
      "5.8 "
     ]
    },
    {
     "cell_type": "heading",
     "level": 3,
     "metadata": {},
     "source": [
      "5.12 "
     ]
    },
    {
     "cell_type": "heading",
     "level": 3,
     "metadata": {},
     "source": [
      "5.13"
     ]
    },
    {
     "cell_type": "code",
     "collapsed": false,
     "input": [],
     "language": "python",
     "metadata": {},
     "outputs": []
    }
   ],
   "metadata": {}
  }
 ]
}