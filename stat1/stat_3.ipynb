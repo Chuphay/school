{
 "metadata": {
  "name": "",
  "signature": "sha256:342d6c90520ea116ab925005a82f2c4b5780e2c13f112aa7aad327fa9af74a65"
 },
 "nbformat": 3,
 "nbformat_minor": 0,
 "worksheets": [
  {
   "cells": [
    {
     "cell_type": "heading",
     "level": 1,
     "metadata": {},
     "source": [
      "Homework Set #3"
     ]
    },
    {
     "cell_type": "code",
     "collapsed": false,
     "input": [
      "%pylab inline\n",
      "%load_ext rpy2.ipython   "
     ],
     "language": "python",
     "metadata": {},
     "outputs": [
      {
       "output_type": "stream",
       "stream": "stdout",
       "text": [
        "Populating the interactive namespace from numpy and matplotlib\n"
       ]
      }
     ],
     "prompt_number": 1
    },
    {
     "cell_type": "heading",
     "level": 3,
     "metadata": {},
     "source": [
      "4.36"
     ]
    },
    {
     "cell_type": "markdown",
     "metadata": {},
     "source": [
      "<b>a)</b> Continuous <b>b)</b> discrete <b>c)</b>Continuous <b>d)</b>discrete <b>e)</b>Continuous <b>f)</b>Continuous"
     ]
    },
    {
     "cell_type": "heading",
     "level": 3,
     "metadata": {},
     "source": [
      "4.41"
     ]
    },
    {
     "cell_type": "markdown",
     "metadata": {},
     "source": [
      "<b>a)</b> $1 - (.06 + .14 + .16 + .14) = 0.5$   <b>b)</b> $0.30$ <b>c) $0.07$</b>"
     ]
    },
    {
     "cell_type": "heading",
     "level": 3,
     "metadata": {},
     "source": [
      "4.44"
     ]
    },
    {
     "cell_type": "markdown",
     "metadata": {},
     "source": [
      "No"
     ]
    },
    {
     "cell_type": "heading",
     "level": 3,
     "metadata": {},
     "source": [
      "4.46 "
     ]
    },
    {
     "cell_type": "markdown",
     "metadata": {},
     "source": [
      "<b>a)</b> $\\mathbb{P}(2) = \\frac {10!} {2!(10-2)!} (0.1)^2(1-0.1)^8$"
     ]
    },
    {
     "cell_type": "code",
     "collapsed": false,
     "input": [
      "%%R \n",
      "cat(factorial(10)/(2*factorial(8))*(0.1)^2*(0.9)^8,'\\n')\n",
      "cat(dbinom(2, 10, 0.1))"
     ],
     "language": "python",
     "metadata": {},
     "outputs": [
      {
       "metadata": {},
       "output_type": "display_data",
       "text": [
        "0.1937102 \n",
        "0.1937102"
       ]
      }
     ],
     "prompt_number": 22
    },
    {
     "cell_type": "markdown",
     "metadata": {},
     "source": [
      "<b>b)</b> $\\mathbb{P}(y\\ge 2) = 1 - (\\mathbb{P}(0) +\\mathbb{P}(1)) $"
     ]
    },
    {
     "cell_type": "code",
     "collapsed": false,
     "input": [
      "%R cat(1- sum(dbinom(0:1, 10, 0.1)))"
     ],
     "language": "python",
     "metadata": {},
     "outputs": [
      {
       "metadata": {},
       "output_type": "display_data",
       "text": [
        "0.2639011"
       ]
      }
     ],
     "prompt_number": 20
    },
    {
     "cell_type": "markdown",
     "metadata": {},
     "source": [
      "<b>c)</b>"
     ]
    },
    {
     "cell_type": "code",
     "collapsed": false,
     "input": [
      "%R cat(dbinom(8,10,0.85))"
     ],
     "language": "python",
     "metadata": {},
     "outputs": [
      {
       "metadata": {},
       "output_type": "display_data",
       "text": [
        "0.2758967"
       ]
      }
     ],
     "prompt_number": 23
    },
    {
     "cell_type": "markdown",
     "metadata": {},
     "source": [
      "<b>d)</b>"
     ]
    },
    {
     "cell_type": "code",
     "collapsed": false,
     "input": [
      "%R cat(1 - dbinom(0,10,0.05))"
     ],
     "language": "python",
     "metadata": {},
     "outputs": [
      {
       "metadata": {},
       "output_type": "display_data",
       "text": [
        "0.4012631"
       ]
      }
     ],
     "prompt_number": 25
    },
    {
     "cell_type": "heading",
     "level": 3,
     "metadata": {},
     "source": [
      "4.51"
     ]
    },
    {
     "cell_type": "markdown",
     "metadata": {},
     "source": [
      "<b>a)</b> \n",
      "$$\\mathbb{P}(y < 6) = \\sum_{i=0}^5 \\frac {2500!} {i!(2500-i)!} (0.001)^i(1-0.001)^{(2500 - i)}$$"
     ]
    },
    {
     "cell_type": "code",
     "collapsed": false,
     "input": [
      "%R cat(sum(dbinom(0:5,2500,0.001))) "
     ],
     "language": "python",
     "metadata": {},
     "outputs": [
      {
       "metadata": {},
       "output_type": "display_data",
       "text": [
        "0.9580625"
       ]
      }
     ],
     "prompt_number": 26
    },
    {
     "cell_type": "markdown",
     "metadata": {},
     "source": [
      "<b>b) </b> That the firm's probability of making a sale is the same as that of other firms. "
     ]
    },
    {
     "cell_type": "heading",
     "level": 3,
     "metadata": {},
     "source": [
      "4.70 "
     ]
    },
    {
     "cell_type": "code",
     "collapsed": false,
     "input": [
      "%%R \n",
      "plot(dnorm(seq(0,1000,by =10),500,100), type = 'l')\n",
      "polygon(dnorm(seq(0,1000,by =10),500,100), col=\"gray\") #hmmm... can't figure out how to shade only a part\n",
      "\n",
      "cat('a) ',1 - pnorm(1), '\\n')\n",
      "cat('b) ',1 - pnorm(2), '\\n')\n",
      "cat('c) ',pnorm(-0.5), '\\n')\n",
      "cat('d) ',pnorm(1) - pnorm(-0.5), '\\n')"
     ],
     "language": "python",
     "metadata": {},
     "outputs": [
      {
       "metadata": {},
       "output_type": "display_data",
       "text": [
        "a)  0.1586553 \n",
        "b)  0.02275013 \n",
        "c)  0.3085375 \n",
        "d)  0.5328072 \n"
       ]
      },
      {
       "metadata": {},
       "output_type": "display_data",
       "png": "[encoded data removed]"
      }
     ],
     "prompt_number": 95
    },
    {
     "cell_type": "heading",
     "level": 3,
     "metadata": {},
     "source": [
      "4.72"
     ]
    },
    {
     "cell_type": "code",
     "collapsed": false,
     "input": [
      "%%R \n",
      "cat('a) ',100*qnorm(0.9)+ 500, '\\n')\n",
      "cat('b) ',100*qnorm(0.6)+ 500, ' We call this the 60th percentile? \\n')"
     ],
     "language": "python",
     "metadata": {},
     "outputs": [
      {
       "metadata": {},
       "output_type": "display_data",
       "text": [
        "a)  628.1552 \n",
        "b)  525.3347  We call this the 60th percentile? \n"
       ]
      }
     ],
     "prompt_number": 112
    },
    {
     "cell_type": "heading",
     "level": 3,
     "metadata": {},
     "source": [
      "4.76 "
     ]
    },
    {
     "cell_type": "code",
     "collapsed": false,
     "input": [
      "%%R\n",
      "cat('a) ', sample(1:1000,50), '\\n')\n",
      "cat('b)  hmmm... I\\'m not totally sure. It\\'s possible that the order of the people on the list may')\n",
      "cat(' be sorted by age or voting \\n preference, in which case you\\'d need a good random sample for each precinct.')"
     ],
     "language": "python",
     "metadata": {},
     "outputs": [
      {
       "metadata": {},
       "output_type": "display_data",
       "text": [
        "a)  719 782 104 826 814 128 316 109 519 592 841 115 487 456 124 573 337 476 580 435 833 898 768 32 119 717 682 663 492 414 773 683 238 977 386 117 991 61 329 91 267 491 373 780 405 956 328 283 214 292 \n",
        "b)  hmmm... I'm not totally sure. It's possible that the order of the people on the list may be sorted by age or voting \n",
        " preference, in which case you'd need a good random sample for each precinct."
       ]
      }
     ],
     "prompt_number": 126
    },
    {
     "cell_type": "heading",
     "level": 3,
     "metadata": {},
     "source": [
      "4.82 "
     ]
    },
    {
     "cell_type": "code",
     "collapsed": false,
     "input": [],
     "language": "python",
     "metadata": {},
     "outputs": []
    },
    {
     "cell_type": "heading",
     "level": 3,
     "metadata": {},
     "source": [
      "4.86 "
     ]
    },
    {
     "cell_type": "heading",
     "level": 3,
     "metadata": {},
     "source": [
      "4.88 "
     ]
    },
    {
     "cell_type": "heading",
     "level": 3,
     "metadata": {},
     "source": [
      "4.92(a) "
     ]
    },
    {
     "cell_type": "heading",
     "level": 3,
     "metadata": {},
     "source": [
      "5.2 "
     ]
    },
    {
     "cell_type": "heading",
     "level": 3,
     "metadata": {},
     "source": [
      "5.8 "
     ]
    },
    {
     "cell_type": "heading",
     "level": 3,
     "metadata": {},
     "source": [
      "5.12 "
     ]
    },
    {
     "cell_type": "heading",
     "level": 3,
     "metadata": {},
     "source": [
      "5.13"
     ]
    },
    {
     "cell_type": "code",
     "collapsed": false,
     "input": [],
     "language": "python",
     "metadata": {},
     "outputs": []
    }
   ],
   "metadata": {}
  }
 ]
}