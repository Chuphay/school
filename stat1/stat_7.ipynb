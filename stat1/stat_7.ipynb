{
 "metadata": {
  "name": "",
  "signature": "sha256:998f6fa739fa1a7ad99e9f5aba957ee1dd3da53f8b7dfbf52fc8022bb8d7f97e"
 },
 "nbformat": 3,
 "nbformat_minor": 0,
 "worksheets": [
  {
   "cells": [
    {
     "cell_type": "heading",
     "level": 1,
     "metadata": {},
     "source": [
      "Homework #7"
     ]
    },
    {
     "cell_type": "code",
     "collapsed": false,
     "input": [
      "from tools import hide\n",
      "%pylab inline\n",
      "%load_ext rpy2.ipython   \n",
      "hide()"
     ],
     "language": "python",
     "metadata": {},
     "outputs": [
      {
       "output_type": "stream",
       "stream": "stdout",
       "text": [
        "Populating the interactive namespace from numpy and matplotlib\n",
        "The rpy2.ipython extension is already loaded. To reload it, use:\n",
        "  %reload_ext rpy2.ipython\n"
       ]
      },
      {
       "html": [
        "<script>\n",
        "code_show=true; \n",
        "function code_toggle() {\n",
        " if (code_show){\n",
        " $('div.input').hide();\n",
        " $('div.output_prompt').hide();\n",
        "\n",
        " } else {\n",
        " $('div.input').show();\n",
        " $('div.output_prompt').show();\n",
        " }\n",
        " code_show = !code_show\n",
        "} \n",
        "$( document ).ready(code_toggle);\n",
        "</script>\n",
        "<p>The raw code for this IPython notebook is by default hidden for easier reading.</p>\n",
        "\n",
        "<p>To toggle on/off the raw code, click <a href=\"javascript:code_toggle()\">here</a>.</p>\n",
        "\n"
       ],
       "metadata": {},
       "output_type": "pyout",
       "prompt_number": 112,
       "text": [
        "<IPython.core.display.HTML at 0xac952a2c>"
       ]
      }
     ],
     "prompt_number": 112
    },
    {
     "cell_type": "heading",
     "level": 3,
     "metadata": {},
     "source": [
      "11.6"
     ]
    },
    {
     "cell_type": "code",
     "collapsed": false,
     "input": [
      "%%R\n",
      "x <- c(20,36,50,80,95,121,85,63,9,108)\n",
      "y <- c(48,108,98,156,207,275,183,125,11,201)\n",
      "out <- lm(y~x)\n",
      "print(summary(out))\n",
      "plot(y~x, col ='blue', pch = 3)\n",
      "abline(out$coefficients[[1]],out$coefficients[[2]], col = 'red')"
     ],
     "language": "python",
     "metadata": {},
     "outputs": [
      {
       "metadata": {},
       "output_type": "display_data",
       "text": [
        "\n",
        "Call:\n",
        "lm(formula = y ~ x)\n",
        "\n",
        "Residuals:\n",
        "    Min      1Q  Median      3Q     Max \n",
        "-25.400 -10.562  -2.713   6.575  30.133 \n",
        "\n",
        "Coefficients:\n",
        "            Estimate Std. Error t value Pr(>|t|)    \n",
        "(Intercept)   3.6003    11.9602   0.301    0.771    \n",
        "x             2.0630     0.1581  13.045 1.13e-06 ***\n",
        "---\n",
        "Signif. codes:  0 \u2018***\u2019 0.001 \u2018**\u2019 0.01 \u2018*\u2019 0.05 \u2018.\u2019 0.1 \u2018 \u2019 1\n",
        "\n",
        "Residual standard error: 17.83 on 8 degrees of freedom\n",
        "Multiple R-squared:  0.9551,\tAdjusted R-squared:  0.9495 \n",
        "F-statistic: 170.2 on 1 and 8 DF,  p-value: 1.132e-06\n",
        "\n"
       ]
      },
      {
       "metadata": {},
       "output_type": "display_data",
       "png": "[encoded data removed]"
      }
     ],
     "prompt_number": 57
    },
    {
     "cell_type": "code",
     "collapsed": false,
     "input": [
      "print(\"b.) Yes.\")\n",
      "print(\"c.)\", 2.063*57 + 3.6)"
     ],
     "language": "python",
     "metadata": {},
     "outputs": [
      {
       "output_type": "stream",
       "stream": "stdout",
       "text": [
        "b.) Yes.\n",
        "c.) 121.191\n"
       ]
      }
     ],
     "prompt_number": 51
    },
    {
     "cell_type": "heading",
     "level": 3,
     "metadata": {},
     "source": [
      "11.10"
     ]
    },
    {
     "cell_type": "code",
     "collapsed": false,
     "input": [
      "print(\"This is the standard deviation. Approximately 65% of observations will fall within this range from the mean\")"
     ],
     "language": "python",
     "metadata": {},
     "outputs": [
      {
       "output_type": "stream",
       "stream": "stdout",
       "text": [
        "This is the standard deviation. Approximately 65% of observations will fall within this range from the mean\n"
       ]
      }
     ],
     "prompt_number": 58
    },
    {
     "cell_type": "heading",
     "level": 3,
     "metadata": {},
     "source": [
      "11.12(a)"
     ]
    },
    {
     "cell_type": "code",
     "collapsed": false,
     "input": [
      "%%R\n",
      "x <- sort(rep(seq(60,140,by =20),4))\n",
      "y <- c(46,38,49,45,47,58,55,54,50,45,32,48,41,45,40,38,36,30,35,34)/10\n",
      "plot(y~x)"
     ],
     "language": "python",
     "metadata": {},
     "outputs": [
      {
       "metadata": {},
       "output_type": "display_data",
       "png": "[encoded data removed]"
      }
     ],
     "prompt_number": 61
    },
    {
     "cell_type": "markdown",
     "metadata": {},
     "source": [
      "b.) There are some outliers, but <b>no</b> they do not have high influence"
     ]
    },
    {
     "cell_type": "heading",
     "level": 3,
     "metadata": {},
     "source": [
      "11.13"
     ]
    },
    {
     "cell_type": "code",
     "collapsed": false,
     "input": [
      "%%R \n",
      "out <- lm(y~x)\n",
      "summary(out)"
     ],
     "language": "python",
     "metadata": {},
     "outputs": [
      {
       "metadata": {},
       "output_type": "display_data",
       "text": [
        "\n",
        "Call:\n",
        "lm(formula = y ~ x)\n",
        "\n",
        "Residuals:\n",
        "   Min     1Q Median     3Q    Max \n",
        " -1.21  -0.29  -0.02   0.48   1.13 \n",
        "\n",
        "Coefficients:\n",
        "             Estimate Std. Error t value Pr(>|t|)    \n",
        "(Intercept)  6.030000   0.519543   11.61 8.62e-10 ***\n",
        "x           -0.017000   0.004999   -3.40  0.00319 ** \n",
        "---\n",
        "Signif. codes:  0 \u2018***\u2019 0.001 \u2018**\u2019 0.01 \u2018*\u2019 0.05 \u2018.\u2019 0.1 \u2018 \u2019 1\n",
        "\n",
        "Residual standard error: 0.6324 on 18 degrees of freedom\n",
        "Multiple R-squared:  0.3911,\tAdjusted R-squared:  0.3573 \n",
        "F-statistic: 11.56 on 1 and 18 DF,  p-value: 0.003188\n",
        "\n"
       ]
      }
     ],
     "prompt_number": 64
    },
    {
     "cell_type": "markdown",
     "metadata": {},
     "source": [
      "a.) The intercept is 6.0, and the slope is 0.0\n",
      "\n",
      "b.) It indicates that there is almost zero correlation between the two, but if you really wanted to stretch the data, you might be able to say that there bit lifetime is negatively correlated with the speed of the drill\n",
      "\n",
      "c.) hmmm... I have no idea. R does not have this output, and looking at the minitab data seems to suggest that the standard deviation is negative, which means nothing to me."
     ]
    },
    {
     "cell_type": "heading",
     "level": 3,
     "metadata": {},
     "source": [
      "11.14(a)(b)"
     ]
    },
    {
     "cell_type": "code",
     "collapsed": false,
     "input": [
      "%%R\n",
      "plot(y~x, col = 'blue', pch = 19)\n",
      "abline(out, col = 'red')"
     ],
     "language": "python",
     "metadata": {},
     "outputs": [
      {
       "metadata": {},
       "output_type": "display_data",
       "png": "[encoded data removed]"
      }
     ],
     "prompt_number": 81
    },
    {
     "cell_type": "code",
     "collapsed": false,
     "input": [
      "print('a.)',[6 - 0.017*i for i in [60,80,100,120,1440]])\n",
      "print('b.) 80 and 100 are larger. 60 and 140 are smaller. It indicates a linear-fit is not suitable')"
     ],
     "language": "python",
     "metadata": {},
     "outputs": [
      {
       "output_type": "stream",
       "stream": "stdout",
       "text": [
        "a.) [4.98, 4.64, 4.3, 3.96, -18.48]\n",
        "b.) 80 and 100 are larger. 60 and 140 are smaller. It indicates a linear-fit is not suitable\n"
       ]
      }
     ],
     "prompt_number": 83
    },
    {
     "cell_type": "code",
     "collapsed": false,
     "input": [
      "%%R\n",
      "x_trans <- (x - 85)^2\n",
      "plot(y~x_trans)"
     ],
     "language": "python",
     "metadata": {},
     "outputs": [
      {
       "metadata": {},
       "output_type": "display_data",
       "png": "[encoded data removed]"
      }
     ],
     "prompt_number": 111
    },
    {
     "cell_type": "markdown",
     "metadata": {},
     "source": [
      "c.) Above, I squared and shifted the x variable. This leaves us with some slightly more linear looking data, but it is still not great."
     ]
    },
    {
     "cell_type": "heading",
     "level": 3,
     "metadata": {},
     "source": [
      "11.60(a)(b)(d)"
     ]
    },
    {
     "cell_type": "markdown",
     "metadata": {},
     "source": [
      "a.) I'm not sure what's bein asked of us\n",
      "\n",
      "b.) Looking at the data, the fit of the two lines is very similar, with the top analysis having a slightly better fit\n",
      "\n",
      "d.) The y-intercept is slightly different"
     ]
    },
    {
     "cell_type": "heading",
     "level": 3,
     "metadata": {},
     "source": [
      "11.63"
     ]
    },
    {
     "cell_type": "markdown",
     "metadata": {},
     "source": [
      "b.) The slope coeff is apparently 2.46, this is lower than expected and must be because of that one outlier with high influence. No the intercept is basically meaningless. The 95% confidence level is very wide, and even then with that one outlier messing everything up, I would not take it too seriously."
     ]
    }
   ],
   "metadata": {}
  }
 ]
}