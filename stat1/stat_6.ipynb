{
 "metadata": {
  "name": "",
  "signature": "sha256:1cd172f04584952c9ac5cdcbd773242a1eca86d325befd02309ba3c9ef53c7bb"
 },
 "nbformat": 3,
 "nbformat_minor": 0,
 "worksheets": [
  {
   "cells": [
    {
     "cell_type": "code",
     "collapsed": false,
     "input": [
      "from tools import hide, HTML\n",
      "%pylab inline\n",
      "%load_ext rpy2.ipython   \n",
      "\n",
      "from scipy.stats import chi2, norm\n",
      " \n",
      "dchisq = chi2.pdf\n",
      "pchisq = chi2.cdf\n",
      "qchisq = chi2.ppf\n",
      "rchisq = chi2.rvs\n",
      "\n",
      "dnorm = norm.pdf\n",
      "pnorm = norm.cdf\n",
      "qnorm = norm.ppf\n",
      "rnorm = norm.rvs"
     ],
     "language": "python",
     "metadata": {},
     "outputs": [
      {
       "output_type": "stream",
       "stream": "stdout",
       "text": [
        "Populating the interactive namespace from numpy and matplotlib\n"
       ]
      }
     ],
     "prompt_number": 1
    },
    {
     "cell_type": "heading",
     "level": 1,
     "metadata": {},
     "source": [
      "Homework #6"
     ]
    },
    {
     "cell_type": "heading",
     "level": 3,
     "metadata": {},
     "source": [
      "10.40"
     ]
    },
    {
     "cell_type": "code",
     "collapsed": false,
     "input": [
      "from pandas import DataFrame"
     ],
     "language": "python",
     "metadata": {},
     "outputs": [],
     "prompt_number": 2
    },
    {
     "cell_type": "code",
     "collapsed": false,
     "input": [
      "df = DataFrame({'Outstanding': [21,3,14,10], 'Average': [20, 25, 8, 7], 'Poor': [4,36,2,6]})\n",
      "df.index = ['Most desirable','Good','Adequate','Undesirable']\n",
      "df2 = DataFrame({'Outstanding': [21,3,14,10], 'Average': [20, 25, 8, 7], 'Poor': [4,36,2,6]})\n",
      "df2.index = ['Most desirable','Good','Adequate','Undesirable']\n",
      "df2['Tot'] = df2.T.sum()\n",
      "df2.ix['total'] = df2.sum()\n",
      "df2"
     ],
     "language": "python",
     "metadata": {},
     "outputs": [
      {
       "html": [
        "<div style=\"max-height:1000px;max-width:1500px;overflow:auto;\">\n",
        "<table border=\"1\" class=\"dataframe\">\n",
        "  <thead>\n",
        "    <tr style=\"text-align: right;\">\n",
        "      <th></th>\n",
        "      <th>Average</th>\n",
        "      <th>Outstanding</th>\n",
        "      <th>Poor</th>\n",
        "      <th>Tot</th>\n",
        "    </tr>\n",
        "  </thead>\n",
        "  <tbody>\n",
        "    <tr>\n",
        "      <th>Most desirable</th>\n",
        "      <td> 20</td>\n",
        "      <td> 21</td>\n",
        "      <td>  4</td>\n",
        "      <td>  45</td>\n",
        "    </tr>\n",
        "    <tr>\n",
        "      <th>Good</th>\n",
        "      <td> 25</td>\n",
        "      <td>  3</td>\n",
        "      <td> 36</td>\n",
        "      <td>  64</td>\n",
        "    </tr>\n",
        "    <tr>\n",
        "      <th>Adequate</th>\n",
        "      <td>  8</td>\n",
        "      <td> 14</td>\n",
        "      <td>  2</td>\n",
        "      <td>  24</td>\n",
        "    </tr>\n",
        "    <tr>\n",
        "      <th>Undesirable</th>\n",
        "      <td>  7</td>\n",
        "      <td> 10</td>\n",
        "      <td>  6</td>\n",
        "      <td>  23</td>\n",
        "    </tr>\n",
        "    <tr>\n",
        "      <th>total</th>\n",
        "      <td> 60</td>\n",
        "      <td> 48</td>\n",
        "      <td> 48</td>\n",
        "      <td> 156</td>\n",
        "    </tr>\n",
        "  </tbody>\n",
        "</table>\n",
        "</div>"
       ],
       "metadata": {},
       "output_type": "pyout",
       "prompt_number": 43,
       "text": [
        "                Average  Outstanding  Poor  Tot\n",
        "Most desirable       20           21     4   45\n",
        "Good                 25            3    36   64\n",
        "Adequate              8           14     2   24\n",
        "Undesirable           7           10     6   23\n",
        "total                60           48    48  156"
       ]
      }
     ],
     "prompt_number": 43
    },
    {
     "cell_type": "markdown",
     "metadata": {},
     "source": [
      "<h4>Pearson's chi-square test</h4>\n",
      "\n",
      "$$\\chi^2 = \\sum_{i,j} (n_{ij} - \\hat E_{ij})^2/ \\hat E_{ij}$$\n",
      "\n",
      "where $n_{ij}$ are the numbers in the table and $\\hat E_{ij} = \\frac {(row~~i~~total)(column~~j~~total)}{grand~~total} $ \n"
     ]
    },
    {
     "cell_type": "code",
     "collapsed": false,
     "input": [
      "data = []\n",
      "tot = sum(sum(df))\n",
      "for c in df:\n",
      "    for r in df.T:  \n",
      "        data.append((df[c][r] - sum(df.T[r])*sum(df[c])/tot)**2/(sum(df.T[r])*sum(df[c])/tot))\n",
      "\n",
      "print(\"Yields\",sum(data), \"on this data set\")"
     ],
     "language": "python",
     "metadata": {},
     "outputs": [
      {
       "output_type": "stream",
       "stream": "stdout",
       "text": [
        "Yields 50.5500113225 on this data set\n"
       ]
      }
     ],
     "prompt_number": 77
    },
    {
     "cell_type": "markdown",
     "metadata": {},
     "source": [
      "df $= (r - 1)(c - 1) = 3*2 = 6$\n",
      "\n",
      "Reject $H_0$ if $\\chi^2 > \\chi^2_{\\alpha}$\n",
      "\n",
      "And here, if $\\alpha = 0.05$ (or do I have that backwards?) $\\chi^2_{\\alpha}$ equals"
     ]
    },
    {
     "cell_type": "code",
     "collapsed": false,
     "input": [
      "qchisq(.95,6)"
     ],
     "language": "python",
     "metadata": {},
     "outputs": [
      {
       "metadata": {},
       "output_type": "pyout",
       "prompt_number": 85,
       "text": [
        "12.591587243743978"
       ]
      }
     ],
     "prompt_number": 85
    },
    {
     "cell_type": "markdown",
     "metadata": {},
     "source": [
      "And therefore, because $\\chi^2 = 50.55$ exceeds $12.59$, $H_0$ is rejected. The $p-value = \\mathbb{P}[\\chi_6^2> 50.55]$ using Python equals"
     ]
    },
    {
     "cell_type": "code",
     "collapsed": false,
     "input": [
      "1 - pchisq(50.55,6)"
     ],
     "language": "python",
     "metadata": {},
     "outputs": [
      {
       "metadata": {},
       "output_type": "pyout",
       "prompt_number": 90,
       "text": [
        "3.6466244468513764e-09"
       ]
      }
     ],
     "prompt_number": 90
    },
    {
     "cell_type": "markdown",
     "metadata": {},
     "source": [
      "a.) the $\\chi^2$ equals 50.55 b.) the p-value is very small c.) Yes, because we rejected the null hypothesis d.) I have no idea"
     ]
    },
    {
     "cell_type": "heading",
     "level": 3,
     "metadata": {},
     "source": [
      "10.41"
     ]
    },
    {
     "cell_type": "markdown",
     "metadata": {},
     "source": [
      "To me, simply visually looking at the data does not lead me to either accept or reject the research hypothesis"
     ]
    },
    {
     "cell_type": "code",
     "collapsed": false,
     "input": [
      "df.plot(kind = 'barh');"
     ],
     "language": "python",
     "metadata": {},
     "outputs": [
      {
       "metadata": {},
       "output_type": "display_data",
       "png": "[encoded data removed]",
       "text": [
        "<matplotlib.figure.Figure at 0xa9b6ea2c>"
       ]
      }
     ],
     "prompt_number": 97
    },
    {
     "cell_type": "heading",
     "level": 3,
     "metadata": {},
     "source": [
      "10.42 "
     ]
    },
    {
     "cell_type": "code",
     "collapsed": false,
     "input": [
      "%%R\n",
      "df <- data.frame(c(9,41),c(29,41),c(32,48),c(10,40))\n",
      "chisq.test(df)"
     ],
     "language": "python",
     "metadata": {},
     "outputs": [
      {
       "metadata": {},
       "output_type": "display_data",
       "text": [
        "\n",
        "\tPearson's Chi-squared test\n",
        "\n",
        "data:  df\n",
        "X-squared = 13.0252, df = 3, p-value = 0.004582\n",
        "\n"
       ]
      }
     ],
     "prompt_number": 110
    },
    {
     "cell_type": "code",
     "collapsed": false,
     "input": [
      "df = DataFrame([[50*80,70*80,80*80,50*80],[50*170,70*170,80*170, 50*170]])\n",
      "df/250"
     ],
     "language": "python",
     "metadata": {},
     "outputs": [
      {
       "html": [
        "<div style=\"max-height:1000px;max-width:1500px;overflow:auto;\">\n",
        "<table border=\"1\" class=\"dataframe\">\n",
        "  <thead>\n",
        "    <tr style=\"text-align: right;\">\n",
        "      <th></th>\n",
        "      <th>0</th>\n",
        "      <th>1</th>\n",
        "      <th>2</th>\n",
        "      <th>3</th>\n",
        "    </tr>\n",
        "  </thead>\n",
        "  <tbody>\n",
        "    <tr>\n",
        "      <th>0</th>\n",
        "      <td> 16</td>\n",
        "      <td> 22.4</td>\n",
        "      <td> 25.6</td>\n",
        "      <td> 16</td>\n",
        "    </tr>\n",
        "    <tr>\n",
        "      <th>1</th>\n",
        "      <td> 34</td>\n",
        "      <td> 47.6</td>\n",
        "      <td> 54.4</td>\n",
        "      <td> 34</td>\n",
        "    </tr>\n",
        "  </tbody>\n",
        "</table>\n",
        "</div>"
       ],
       "metadata": {},
       "output_type": "pyout",
       "prompt_number": 103,
       "text": [
        "    0     1     2   3\n",
        "0  16  22.4  25.6  16\n",
        "1  34  47.6  54.4  34"
       ]
      }
     ],
     "prompt_number": 103
    },
    {
     "cell_type": "markdown",
     "metadata": {},
     "source": [
      "a.) Apparently the last row of ever cell is the expected number.\n",
      "\n",
      "b.) $3*1 = 3$\n",
      "\n",
      "c.) The p-value is small enough for us to reject the null hypothesis."
     ]
    },
    {
     "cell_type": "heading",
     "level": 3,
     "metadata": {},
     "source": [
      "10.43 "
     ]
    },
    {
     "cell_type": "markdown",
     "metadata": {},
     "source": [
      "a.) Because the p-value is now over 90% we cannot reject the null-hypothesis.\n",
      "\n",
      "b.) By combining the data, we now only have one degree of freedom. With only one degree, you must have some pretty big evidence for you to reject the null-hypothesis."
     ]
    },
    {
     "cell_type": "heading",
     "level": 3,
     "metadata": {},
     "source": [
      "10.45 "
     ]
    },
    {
     "cell_type": "markdown",
     "metadata": {},
     "source": [
      "a.) By visual inspection of the data, you can see that there is evidence. Those three states have much higher adoption rates than the other three states... But at this point I feel so thoroughly bombarded with different test statistics, that I would not even know how to test this hypothesis.\n",
      "\n",
      "b.)It provides justification because there is a higher rate of adoption amongst farmers who were provided information about the effectiveness of IPM."
     ]
    },
    {
     "cell_type": "heading",
     "level": 3,
     "metadata": {},
     "source": [
      "8.6 "
     ]
    },
    {
     "cell_type": "markdown",
     "metadata": {},
     "source": [
      "a.) Visual inspection yields no evidence to indicate any difference"
     ]
    },
    {
     "cell_type": "code",
     "collapsed": false,
     "input": [
      "s_w_2 = (.1767**2 + .2091**2 + .1532**2 + .2492**2)*5/(6*4 - 4)\n",
      "mean = (-.1605 + .0947 +.1227+.2735)/4\n",
      "s_b_2 = 6*((-.1605 - mean)**2 + (.0947 - mean)**2 + (.1227 - mean)**2 + (.2735 - mean)**2)/3\n",
      "F = (s_b_2/s_w_2)\n",
      "print(\"F = \", F)"
     ],
     "language": "python",
     "metadata": {},
     "outputs": [
      {
       "output_type": "stream",
       "stream": "stdout",
       "text": [
        "F =  4.849086119327985\n"
       ]
      }
     ],
     "prompt_number": 166
    },
    {
     "cell_type": "code",
     "collapsed": false,
     "input": [
      "%%R\n",
      "df = data.frame(c(-.307,-.176,.137,-.042), c(-.294,.125,-.063,.69), c(.079,-.013,.240,.201), c(.019, .082,-.05,.166), c(-.136,.091,.318,.219), c(-.324,.459,.154,.407))\n",
      "colnames(df) <- 1:6\n",
      "df2 <- data.frame(unlist(df), rep(1:4,6))\n",
      "colnames(df2) <- c('a','b')\n",
      "oneway.test(df2$a ~ df2$b, var.equal = TRUE)"
     ],
     "language": "python",
     "metadata": {},
     "outputs": [
      {
       "metadata": {},
       "output_type": "display_data",
       "text": [
        "\n",
        "\tOne-way analysis of means\n",
        "\n",
        "data:  df2$a and df2$b\n",
        "F = 4.847, num df = 3, denom df = 20, p-value = 0.01077\n",
        "\n"
       ]
      }
     ],
     "prompt_number": 167
    },
    {
     "cell_type": "markdown",
     "metadata": {},
     "source": [
      "Using two different methods, I come to the conclusion that F is about 4.85."
     ]
    },
    {
     "cell_type": "code",
     "collapsed": false,
     "input": [
      "%R 1 - pf(4.847,3,20)"
     ],
     "language": "python",
     "metadata": {},
     "outputs": [
      {
       "metadata": {},
       "output_type": "pyout",
       "prompt_number": 165,
       "text": [
        "<FloatVector - Python:0xa9b91a2c / R:0xa0de9c0>\n",
        "[0.010774]"
       ]
      }
     ],
     "prompt_number": 165
    },
    {
     "cell_type": "code",
     "collapsed": false,
     "input": [
      "from scipy.stats import f\n",
      " \n",
      "df = f.pdf\n",
      "pf = f.cdf\n",
      "qf = f.ppf\n",
      "rf = f.rvs"
     ],
     "language": "python",
     "metadata": {},
     "outputs": [],
     "prompt_number": 161
    },
    {
     "cell_type": "code",
     "collapsed": false,
     "input": [
      "1- pf(4.847,3,20)"
     ],
     "language": "python",
     "metadata": {},
     "outputs": [
      {
       "metadata": {},
       "output_type": "pyout",
       "prompt_number": 163,
       "text": [
        "0.010773519516396712"
       ]
      }
     ],
     "prompt_number": 163
    },
    {
     "cell_type": "heading",
     "level": 3,
     "metadata": {},
     "source": [
      "8.9"
     ]
    },
    {
     "cell_type": "heading",
     "level": 3,
     "metadata": {},
     "source": [
      "8.12 "
     ]
    },
    {
     "cell_type": "heading",
     "level": 3,
     "metadata": {},
     "source": [
      "8.30 "
     ]
    },
    {
     "cell_type": "heading",
     "level": 3,
     "metadata": {},
     "source": [
      "8.32 "
     ]
    },
    {
     "cell_type": "heading",
     "level": 3,
     "metadata": {},
     "source": [
      "8.33 "
     ]
    },
    {
     "cell_type": "heading",
     "level": 3,
     "metadata": {},
     "source": [
      "8.36"
     ]
    },
    {
     "cell_type": "code",
     "collapsed": false,
     "input": [],
     "language": "python",
     "metadata": {},
     "outputs": []
    }
   ],
   "metadata": {}
  }
 ]
}