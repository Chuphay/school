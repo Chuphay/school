{
 "metadata": {
  "name": "",
  "signature": "sha256:363aa69577177d4348aee2eb587460203a2e111ed6ee511bd63b9d41e4397f9a"
 },
 "nbformat": 3,
 "nbformat_minor": 0,
 "worksheets": [
  {
   "cells": [
    {
     "cell_type": "code",
     "collapsed": false,
     "input": [
      "from tools import hide, HTML\n",
      "%pylab inline\n",
      "%load_ext rpy2.ipython   \n",
      "\n",
      "from scipy.stats import chi2, norm\n",
      " \n",
      "dchisq = chi2.pdf\n",
      "pchisq = chi2.cdf\n",
      "qchisq = chi2.ppf\n",
      "rchisq = chi2.rvs\n",
      "\n",
      "dnorm = norm.pdf\n",
      "pnorm = norm.cdf\n",
      "qnorm = norm.ppf\n",
      "rnorm = norm.rvs"
     ],
     "language": "python",
     "metadata": {},
     "outputs": [
      {
       "output_type": "stream",
       "stream": "stdout",
       "text": [
        "Populating the interactive namespace from numpy and matplotlib\n"
       ]
      }
     ],
     "prompt_number": 1
    },
    {
     "cell_type": "heading",
     "level": 1,
     "metadata": {},
     "source": [
      "Homework #6"
     ]
    },
    {
     "cell_type": "code",
     "collapsed": false,
     "input": [
      "from pandas import DataFrame"
     ],
     "language": "python",
     "metadata": {},
     "outputs": [],
     "prompt_number": 2
    },
    {
     "cell_type": "code",
     "collapsed": false,
     "input": [
      "df = DataFrame({'Outstanding': [21,3,14,10], 'Average': [20, 25, 8, 7], 'Poor': [4,36,2,6]})\n",
      "df.index = ['Most desirable','Good','Adequate','Undesirable']\n",
      "df2 = DataFrame({'Outstanding': [21,3,14,10], 'Average': [20, 25, 8, 7], 'Poor': [4,36,2,6]})\n",
      "df2.index = ['Most desirable','Good','Adequate','Undesirable']\n",
      "df2['Tot'] = df2.T.sum()\n",
      "df2.ix['total'] = df2.sum()\n",
      "df2"
     ],
     "language": "python",
     "metadata": {},
     "outputs": [
      {
       "html": [
        "<div style=\"max-height:1000px;max-width:1500px;overflow:auto;\">\n",
        "<table border=\"1\" class=\"dataframe\">\n",
        "  <thead>\n",
        "    <tr style=\"text-align: right;\">\n",
        "      <th></th>\n",
        "      <th>Average</th>\n",
        "      <th>Outstanding</th>\n",
        "      <th>Poor</th>\n",
        "      <th>Tot</th>\n",
        "    </tr>\n",
        "  </thead>\n",
        "  <tbody>\n",
        "    <tr>\n",
        "      <th>Most desirable</th>\n",
        "      <td> 20</td>\n",
        "      <td> 21</td>\n",
        "      <td>  4</td>\n",
        "      <td>  45</td>\n",
        "    </tr>\n",
        "    <tr>\n",
        "      <th>Good</th>\n",
        "      <td> 25</td>\n",
        "      <td>  3</td>\n",
        "      <td> 36</td>\n",
        "      <td>  64</td>\n",
        "    </tr>\n",
        "    <tr>\n",
        "      <th>Adequate</th>\n",
        "      <td>  8</td>\n",
        "      <td> 14</td>\n",
        "      <td>  2</td>\n",
        "      <td>  24</td>\n",
        "    </tr>\n",
        "    <tr>\n",
        "      <th>Undesirable</th>\n",
        "      <td>  7</td>\n",
        "      <td> 10</td>\n",
        "      <td>  6</td>\n",
        "      <td>  23</td>\n",
        "    </tr>\n",
        "    <tr>\n",
        "      <th>total</th>\n",
        "      <td> 60</td>\n",
        "      <td> 48</td>\n",
        "      <td> 48</td>\n",
        "      <td> 156</td>\n",
        "    </tr>\n",
        "  </tbody>\n",
        "</table>\n",
        "</div>"
       ],
       "metadata": {},
       "output_type": "pyout",
       "prompt_number": 43,
       "text": [
        "                Average  Outstanding  Poor  Tot\n",
        "Most desirable       20           21     4   45\n",
        "Good                 25            3    36   64\n",
        "Adequate              8           14     2   24\n",
        "Undesirable           7           10     6   23\n",
        "total                60           48    48  156"
       ]
      }
     ],
     "prompt_number": 43
    },
    {
     "cell_type": "code",
     "collapsed": false,
     "input": [
      "#so we are using Pearson's chi-square test\n",
      "#which is fairly straightforward\n",
      "#I guess I'll write out the definition in latex below"
     ],
     "language": "python",
     "metadata": {},
     "outputs": [],
     "prompt_number": 11
    },
    {
     "cell_type": "markdown",
     "metadata": {},
     "source": [
      "<h4>Pearson's chi-square test</h4>\n",
      "\n",
      "$$\\chi^2 = \\sum_{i,j} (n_{ij} - \\hat E_{ij})^2/ \\hat E_{ij}$$\n",
      "\n",
      "where $n_{ij}$ are the numbers in the table and $\\hat E_{ij} = \\frac {(row~~i~~total)(column~~j~~total)}{grand~~total} $ \n"
     ]
    },
    {
     "cell_type": "code",
     "collapsed": false,
     "input": [
      "data = []\n",
      "tot = sum(sum(df))\n",
      "for c in df:\n",
      "    for r in df.T:  \n",
      "        data.append((df[c][r] - sum(df.T[r])*sum(df[c])/tot)**2/(sum(df.T[r])*sum(df[c])/tot))\n",
      "\n",
      "print(\"Yields\",sum(data), \"on this data set\")"
     ],
     "language": "python",
     "metadata": {},
     "outputs": [
      {
       "output_type": "stream",
       "stream": "stdout",
       "text": [
        "Yields 50.5500113225 on this data set\n"
       ]
      }
     ],
     "prompt_number": 76
    },
    {
     "cell_type": "heading",
     "level": 3,
     "metadata": {},
     "source": [
      "10.40"
     ]
    },
    {
     "cell_type": "heading",
     "level": 3,
     "metadata": {},
     "source": [
      "10.41"
     ]
    },
    {
     "cell_type": "heading",
     "level": 3,
     "metadata": {},
     "source": [
      "10.42 "
     ]
    },
    {
     "cell_type": "heading",
     "level": 3,
     "metadata": {},
     "source": [
      "10.43 "
     ]
    },
    {
     "cell_type": "heading",
     "level": 3,
     "metadata": {},
     "source": [
      "10.45 "
     ]
    },
    {
     "cell_type": "heading",
     "level": 3,
     "metadata": {},
     "source": [
      "8.6 "
     ]
    },
    {
     "cell_type": "heading",
     "level": 3,
     "metadata": {},
     "source": [
      "8.9"
     ]
    },
    {
     "cell_type": "heading",
     "level": 3,
     "metadata": {},
     "source": [
      "8.12 "
     ]
    },
    {
     "cell_type": "heading",
     "level": 3,
     "metadata": {},
     "source": [
      "8.30 "
     ]
    },
    {
     "cell_type": "heading",
     "level": 3,
     "metadata": {},
     "source": [
      "8.32 "
     ]
    },
    {
     "cell_type": "heading",
     "level": 3,
     "metadata": {},
     "source": [
      "8.33 "
     ]
    },
    {
     "cell_type": "heading",
     "level": 3,
     "metadata": {},
     "source": [
      "8.36"
     ]
    },
    {
     "cell_type": "code",
     "collapsed": false,
     "input": [],
     "language": "python",
     "metadata": {},
     "outputs": []
    }
   ],
   "metadata": {}
  }
 ]
}