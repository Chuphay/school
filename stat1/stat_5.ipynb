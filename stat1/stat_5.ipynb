{
 "metadata": {
  "name": "",
  "signature": "sha256:192adc2d77b5d59819479a002be20e95ce58bafb8375db55fe3747c9f7265676"
 },
 "nbformat": 3,
 "nbformat_minor": 0,
 "worksheets": [
  {
   "cells": [
    {
     "cell_type": "heading",
     "level": 1,
     "metadata": {},
     "source": [
      "Homework #5"
     ]
    },
    {
     "cell_type": "code",
     "collapsed": false,
     "input": [
      "from tools import hide, HTML\n",
      "%pylab inline\n",
      "%load_ext rpy2.ipython   "
     ],
     "language": "python",
     "metadata": {},
     "outputs": [
      {
       "output_type": "stream",
       "stream": "stdout",
       "text": [
        "Populating the interactive namespace from numpy and matplotlib\n"
       ]
      }
     ],
     "prompt_number": 1
    },
    {
     "cell_type": "code",
     "collapsed": false,
     "input": [
      "from scipy.stats import chi2, norm\n",
      " \n",
      "dchisq = chi2.pdf\n",
      "pchisq = chi2.cdf\n",
      "qchisq = chi2.ppf\n",
      "rchisq = chi2.rvs\n",
      "\n",
      "dnorm = norm.pdf\n",
      "pnorm = norm.cdf\n",
      "qnorm = norm.ppf\n",
      "rnorm = norm.rvs"
     ],
     "language": "python",
     "metadata": {},
     "outputs": [],
     "prompt_number": 13
    },
    {
     "cell_type": "heading",
     "level": 3,
     "metadata": {},
     "source": [
      "10.4"
     ]
    },
    {
     "cell_type": "markdown",
     "metadata": {},
     "source": [
      "$\\hat \\pi \\pm z_{\\alpha/2} \\hat \\sigma_{\\hat \\pi } ~~~ where ~~~ \\hat \\pi = \\frac y n ~~and~~ \\hat \\sigma =  \\sqrt {\\frac {\\hat \\pi  (1 - \\hat \\pi )} n }$"
     ]
    },
    {
     "cell_type": "code",
     "collapsed": false,
     "input": [
      "sigma = (.8*.2/1000)**0.5\n",
      "print(\"a.)({0}, {1})\".format(.8 - qnorm(0.975)*sigma, .8 + qnorm(0.975)*sigma))\n",
      "print(\"b.)({0}, {1})\".format(.8 - qnorm(0.95)*sigma, .8 + qnorm(0.95)*sigma))\n",
      "print(\"c.) The 95% confidence interval is slightly wider. However because the sample size is so large, there isn't much difference.\")"
     ],
     "language": "python",
     "metadata": {},
     "outputs": [
      {
       "output_type": "stream",
       "stream": "stdout",
       "text": [
        "a.)(0.7752081987078175, 0.8247918012921825)\n",
        "b.)(0.7791940644849777, 0.8208059355150223)\n",
        "c.) The 95% confidence interval is slightly wider. However because the sample size is so large, there isn't much difference.\n"
       ]
      }
     ],
     "prompt_number": 23
    },
    {
     "cell_type": "heading",
     "level": 3,
     "metadata": {},
     "source": [
      "10.5"
     ]
    },
    {
     "cell_type": "markdown",
     "metadata": {},
     "source": [
      "$n = \\frac {z^2_{\\alpha/2} \\pi (1 - \\pi)} {E^2}$"
     ]
    },
    {
     "cell_type": "code",
     "collapsed": false,
     "input": [
      "print(\"a.) \", round(0.25*qnorm(0.975)**2/(.02**2)))\n",
      "print(\"b.) \", round(0.2*0.8*qnorm(0.975)**2/(.02**2)))\n",
      "print(\"c.) With knowledge of the population proportion, we can use a smaller sample size\")"
     ],
     "language": "python",
     "metadata": {},
     "outputs": [
      {
       "output_type": "stream",
       "stream": "stdout",
       "text": [
        "a.)  2401.0\n",
        "b.)  1537.0\n",
        "c.) With knowledge of the population proportion, we can use a smaller sample size\n"
       ]
      }
     ],
     "prompt_number": 34
    },
    {
     "cell_type": "heading",
     "level": 3,
     "metadata": {},
     "source": [
      "10.6"
     ]
    },
    {
     "cell_type": "code",
     "collapsed": false,
     "input": [
      "mu = 591/10000\n",
      "sigma = (mu*(1-mu)/10000)**0.5\n",
      "print (\"a.) ({0}, {1})\".format(mu - qnorm(0.975)*sigma, mu + qnorm(0.975)*sigma))\n",
      "print(\"b.) No. There is substantial evidence that the test produces more than 5% false positives.\")"
     ],
     "language": "python",
     "metadata": {},
     "outputs": [
      {
       "output_type": "stream",
       "stream": "stdout",
       "text": [
        "a.) (0.05447817427287101, 0.06372182572712899)\n",
        "b.) No. There is substantial evidence that the test produces more than 5% false positives.\n"
       ]
      }
     ],
     "prompt_number": 40
    },
    {
     "cell_type": "heading",
     "level": 3,
     "metadata": {},
     "source": [
      "10.14"
     ]
    },
    {
     "cell_type": "markdown",
     "metadata": {},
     "source": [
      "a.) Yes, because both $ n  \\pi \\ge 5 ~~and~~ n(1 - \\pi) \\ge 5$"
     ]
    },
    {
     "cell_type": "markdown",
     "metadata": {},
     "source": [
      "b.) $z = \\frac {\\hat \\pi - \\pi_0}{\\sigma_{\\hat \\pi}}$ where $ \\sigma_{\\hat \\pi} = \\sqrt{\\frac {\\pi_0 (1 - \\pi_0)} n}$ "
     ]
    },
    {
     "cell_type": "code",
     "collapsed": false,
     "input": [
      "sigma = (0.25/800)**0.5\n",
      "z= (424/800 - 0.5)/sigma\n",
      "print(\"z = {0} which is more than {1}, thus we reject the null hypothesis\".format(z, qnorm(0.95) )) "
     ],
     "language": "python",
     "metadata": {},
     "outputs": [
      {
       "output_type": "stream",
       "stream": "stdout",
       "text": [
        "z = 1.6970562748477156 which is more than 1.6448536269514722, thus we reject the null hypothesis\n"
       ]
      }
     ],
     "prompt_number": 58
    },
    {
     "cell_type": "code",
     "collapsed": false,
     "input": [
      "mu = 424/800\n",
      "sigma = (mu*(1-mu)/800)**0.5\n",
      "print (\"c.) ({0}, {1})\".format(mu - qnorm(0.975)*sigma, mu + qnorm(0.975)*sigma))"
     ],
     "language": "python",
     "metadata": {},
     "outputs": [
      {
       "output_type": "stream",
       "stream": "stdout",
       "text": [
        "c.) (0.495414826293719, 0.564585173706281)\n"
       ]
      }
     ],
     "prompt_number": 62
    },
    {
     "cell_type": "heading",
     "level": 3,
     "metadata": {},
     "source": [
      "10.15"
     ]
    },
    {
     "cell_type": "code",
     "collapsed": false,
     "input": [
      "mu = 230/1500\n",
      "sigma = (mu*(1-mu)/1500)**0.5\n",
      "print (\"a.) ({0}, {1})\".format(mu - qnorm(0.975)*sigma, mu + qnorm(0.975)*sigma))\n",
      "print(\"b.) \", round(0.5 + mu*(1-mu)*qnorm(0.975)**2/(.01**2)))\n",
      "z= (mu - 0.5)/sigma\n",
      "print(\"c.) z = {0} which is a little bit less than {1}, thus we reject the congressman's claims.\".format(z, qnorm(0.95) )) "
     ],
     "language": "python",
     "metadata": {},
     "outputs": [
      {
       "output_type": "stream",
       "stream": "stdout",
       "text": [
        "a.) (0.13509954197995744, 0.1715671246867092)\n",
        "b.)  4988.0\n",
        "c.) z = -37.26346145676506 which is a little bit less than 1.6448536269514722, thus we reject the congressman's claims.\n"
       ]
      }
     ],
     "prompt_number": 68
    },
    {
     "cell_type": "heading",
     "level": 3,
     "metadata": {},
     "source": [
      "10.16 "
     ]
    },
    {
     "cell_type": "markdown",
     "metadata": {},
     "source": [
      "a.) The difference can be described as a normal distribution?\n",
      "\n",
      "b.) yes, both $n\\pi$ and $n(1-\\pi)$ are bigger than 5."
     ]
    },
    {
     "cell_type": "heading",
     "level": 3,
     "metadata": {},
     "source": [
      "10.17 "
     ]
    },
    {
     "cell_type": "markdown",
     "metadata": {},
     "source": [
      "$.01 = z_{\\alpha/2} \\sigma_{\\hat \\pi_1 - \\hat \\pi_2}$\n",
      "\n",
      "$n_1 = n_2$\n",
      "\n",
      "$\\sigma_{\\hat \\pi_1 - \\hat \\pi_2} = \\sqrt {\\frac {\\hat \\pi_1 (1 - \\hat \\pi_1 ) + \\hat \\pi_2 (1 - \\hat \\pi_2)} n}$ \n",
      "\n",
      "$\\rightarrow n = \\frac {(\\hat \\pi_1 (1 - \\hat \\pi_1 ) + \\hat \\pi_2 (1 - \\hat \\pi_2)) * z^2_{\\alpha/2}}{ .01^2}$"
     ]
    },
    {
     "cell_type": "code",
     "collapsed": false,
     "input": [
      "print(round(0.5 +(.3*.7 + .1*.9)*qnorm(0.975)**2/(.01**2)))"
     ],
     "language": "python",
     "metadata": {},
     "outputs": [
      {
       "output_type": "stream",
       "stream": "stdout",
       "text": [
        "11525.0\n"
       ]
      }
     ],
     "prompt_number": 71
    },
    {
     "cell_type": "heading",
     "level": 3,
     "metadata": {},
     "source": [
      "10.18 "
     ]
    },
    {
     "cell_type": "code",
     "collapsed": false,
     "input": [
      "mu_1 = 91/250\n",
      "mu_2 = 53/250\n",
      "sigma = ((mu_1*(1-mu_1)+mu_2*(1-mu_2))/250)**0.5\n",
      "print (\"a.) ({0}, {1})\".format(mu_1-mu_2 - qnorm(0.975)*sigma, mu_1-mu_2 + qnorm(0.975)*sigma))\n",
      "z = (mu_1 - mu_2)/sigma\n",
      "print(\"b.) z = {0} which is a little bit more than {1}, thus we reject the claim.\".format(z, -qnorm(0.99) ))\n",
      "print(\"c.) The dealer should offer the warranty.\")"
     ],
     "language": "python",
     "metadata": {},
     "outputs": [
      {
       "output_type": "stream",
       "stream": "stdout",
       "text": [
        "a.) (0.0737426852600768, 0.2302573147399232)\n",
        "b.) z = 3.80685852357909 which is a little bit more than -2.3263478740408408, thus we reject the claim.\n",
        "c.) The dealer should offer the warranty.\n"
       ]
      }
     ],
     "prompt_number": 77
    },
    {
     "cell_type": "heading",
     "level": 3,
     "metadata": {},
     "source": [
      "10.22 "
     ]
    },
    {
     "cell_type": "markdown",
     "metadata": {},
     "source": [
      "a.) We can see that the p-value is 0.021. This is less than 0.05, we therefore accept the research hypothesis.\n",
      "\n",
      "b.) Yes, because the confidence interval does not include zero."
     ]
    },
    {
     "cell_type": "heading",
     "level": 3,
     "metadata": {},
     "source": [
      "10.28"
     ]
    },
    {
     "cell_type": "markdown",
     "metadata": {},
     "source": [
      "Cochran (1954) indicates that the approximation should be adequate if no $E_i$ is less than 1 and no more than 20% of the $E_i$s are less than 5. "
     ]
    },
    {
     "cell_type": "heading",
     "level": 3,
     "metadata": {},
     "source": [
      "10.31 "
     ]
    },
    {
     "cell_type": "markdown",
     "metadata": {},
     "source": [
      "$$\\chi^2 = \\sum_i \\left[ \\frac {(n_i - E_i)^2 } { E_i} \\right] $$ "
     ]
    },
    {
     "cell_type": "code",
     "collapsed": false,
     "input": [
      "chi = ((328 - 375)**2  + (372-375)**2 + (471 - 375)**2 +  (329 - 375)**2 )/375\n",
      "print(\"a.) I have chi-square at: \", chi, \" This is far larger than \", qchisq(0.95,3))\n",
      "print(\"b.) We therefore reject the null hypothesis and conclude that violence and the seasons are correlated.\")"
     ],
     "language": "python",
     "metadata": {},
     "outputs": [
      {
       "output_type": "stream",
       "stream": "stdout",
       "text": [
        "a.) I have chi-square at:  36.13333333333333  This is far larger than  7.81472790325\n",
        "b.) We therefore reject the null hypothesis and conclude that violence and the seasons are correlated.\n"
       ]
      }
     ],
     "prompt_number": 92
    },
    {
     "cell_type": "heading",
     "level": 3,
     "metadata": {},
     "source": [
      "10.33"
     ]
    },
    {
     "cell_type": "code",
     "collapsed": false,
     "input": [
      "x = array([399,231,158,212])\n",
      "y = array([421,229,157,193])\n",
      "\n",
      "bar([0.4,1.4,2.4,3.4],x, color = 'pink', width = 0.4);\n",
      "bar([0,1,2,3],y, color = 'orange', width = 0.4);"
     ],
     "language": "python",
     "metadata": {},
     "outputs": [
      {
       "metadata": {},
       "output_type": "display_data",
       "png": "[encoded data removed]",
       "text": [
        "<matplotlib.figure.Figure at 0xa94bca8c>"
       ]
      }
     ],
     "prompt_number": 113
    },
    {
     "cell_type": "code",
     "collapsed": false,
     "input": [
      "chisq = sum( (x-y)**2/y)\n",
      "    \n",
      "print(\"I found a chi-square level of \",chisq)\n",
      "print(\"Using a 95% confidence level, I do not reject the null-hypothesis and would say there is no bias in the selection\")"
     ],
     "language": "python",
     "metadata": {},
     "outputs": [
      {
       "output_type": "stream",
       "stream": "stdout",
       "text": [
        "I found a chi-square level of  3.04394670237\n",
        "Using a 95% confidence level, I do not reject the null-hypothesis and would say there is no bias in the selection\n"
       ]
      }
     ],
     "prompt_number": 119
    },
    {
     "cell_type": "code",
     "collapsed": false,
     "input": [
      "hide()"
     ],
     "language": "python",
     "metadata": {},
     "outputs": [
      {
       "html": [
        "<script>\n",
        "code_show=true; \n",
        "function code_toggle() {\n",
        " if (code_show){\n",
        " $('div.input').hide();\n",
        " $('div.output_prompt').hide();\n",
        "\n",
        " } else {\n",
        " $('div.input').show();\n",
        " $('div.output_prompt').show();\n",
        " }\n",
        " code_show = !code_show\n",
        "} \n",
        "$( document ).ready(code_toggle);\n",
        "</script>\n",
        "<p>The raw code for this IPython notebook is by default hidden for easier reading.</p>\n",
        "\n",
        "<p>To toggle on/off the raw code, click <a href=\"javascript:code_toggle()\">here</a>.</p>\n",
        "\n"
       ],
       "metadata": {},
       "output_type": "pyout",
       "prompt_number": 120,
       "text": [
        "<IPython.core.display.HTML at 0xa94dbf2c>"
       ]
      }
     ],
     "prompt_number": 120
    }
   ],
   "metadata": {}
  }
 ]
}