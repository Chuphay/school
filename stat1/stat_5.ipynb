{
 "metadata": {
  "name": "",
  "signature": "sha256:97231216a3c3bd57bbed1ab6d43aede63b843fe40b30ab1f85da8960264bb965"
 },
 "nbformat": 3,
 "nbformat_minor": 0,
 "worksheets": [
  {
   "cells": [
    {
     "cell_type": "heading",
     "level": 1,
     "metadata": {},
     "source": [
      "Homework #5"
     ]
    },
    {
     "cell_type": "code",
     "collapsed": false,
     "input": [
      "from tools import hide, HTML\n",
      "%pylab inline\n",
      "%load_ext rpy2.ipython   "
     ],
     "language": "python",
     "metadata": {},
     "outputs": [
      {
       "output_type": "stream",
       "stream": "stdout",
       "text": [
        "Populating the interactive namespace from numpy and matplotlib\n"
       ]
      }
     ],
     "prompt_number": 1
    },
    {
     "cell_type": "code",
     "collapsed": false,
     "input": [
      "from scipy.stats import chi2, norm\n",
      " \n",
      "dchisq = chi2.pdf\n",
      "pchisq = chi2.cdf\n",
      "qchisq = chi2.ppf\n",
      "rchisq = chi2.rvs\n",
      "\n",
      "dnorm = norm.pdf\n",
      "pnorm = norm.cdf\n",
      "qnorm = norm.ppf\n",
      "rnorm = norm.rvs"
     ],
     "language": "python",
     "metadata": {},
     "outputs": [],
     "prompt_number": 13
    },
    {
     "cell_type": "heading",
     "level": 3,
     "metadata": {},
     "source": [
      "10.4"
     ]
    },
    {
     "cell_type": "markdown",
     "metadata": {},
     "source": [
      "$\\hat \\pi \\pm z_{\\alpha/2} \\hat \\sigma_{\\hat \\pi } ~~~ where ~~~ \\hat \\pi = \\frac y n ~~and~~ \\hat \\sigma =  \\sqrt {\\frac {\\hat \\pi  (1 - \\hat \\pi )} n }$"
     ]
    },
    {
     "cell_type": "code",
     "collapsed": false,
     "input": [
      "sigma = (.8*.2/1000)**0.5\n",
      "print(\"a.)({0}, {1})\".format(.8 - qnorm(0.975)*sigma, .8 + qnorm(0.975)*sigma))\n",
      "print(\"b.)({0}, {1})\".format(.8 - qnorm(0.95)*sigma, .8 + qnorm(0.95)*sigma))\n",
      "print(\"c.) The 95% confidence interval is slightly wider. However because the sample size is so large, there isn't much difference.\")"
     ],
     "language": "python",
     "metadata": {},
     "outputs": [
      {
       "output_type": "stream",
       "stream": "stdout",
       "text": [
        "a.)(0.7752081987078175, 0.8247918012921825)\n",
        "b.)(0.7791940644849777, 0.8208059355150223)\n",
        "c.) The 95% confidence interval is slightly wider. However because the sample size is so large, there isn't much difference.\n"
       ]
      }
     ],
     "prompt_number": 23
    },
    {
     "cell_type": "heading",
     "level": 3,
     "metadata": {},
     "source": [
      "10.5"
     ]
    },
    {
     "cell_type": "markdown",
     "metadata": {},
     "source": [
      "$n = \\frac {z^2_{\\alpha/2} \\pi (1 - \\pi)} {E^2}$"
     ]
    },
    {
     "cell_type": "code",
     "collapsed": false,
     "input": [
      "print(\"a.) \", round(0.25*qnorm(0.975)**2/(.02**2)))\n",
      "print(\"b.) \", round(0.2*0.8*qnorm(0.975)**2/(.02**2)))\n",
      "print(\"c.) With knowledge of the population proportion, we can use a smaller sample size\")"
     ],
     "language": "python",
     "metadata": {},
     "outputs": [
      {
       "output_type": "stream",
       "stream": "stdout",
       "text": [
        "a.)  2401.0\n",
        "b.)  1537.0\n",
        "c.) With knowledge of the population proportion, we can use a smaller sample size\n"
       ]
      }
     ],
     "prompt_number": 34
    },
    {
     "cell_type": "heading",
     "level": 3,
     "metadata": {},
     "source": [
      "10.6"
     ]
    },
    {
     "cell_type": "code",
     "collapsed": false,
     "input": [
      "mu = 591/10000\n",
      "sigma = (mu*(1-mu)/10000)**0.5\n",
      "print (\"a.) ({0}, {1})\".format(mu - qnorm(0.975)*sigma, mu + qnorm(0.975)*sigma))\n",
      "print(\"b.) No. There is substantial evidence that the test produces more than 5% false positives.\")"
     ],
     "language": "python",
     "metadata": {},
     "outputs": [
      {
       "output_type": "stream",
       "stream": "stdout",
       "text": [
        "a.) (0.05447817427287101, 0.06372182572712899)\n",
        "b.) No. There is substantial evidence that the test produces more than 5% false positives.\n"
       ]
      }
     ],
     "prompt_number": 40
    },
    {
     "cell_type": "heading",
     "level": 3,
     "metadata": {},
     "source": [
      "10.14"
     ]
    },
    {
     "cell_type": "markdown",
     "metadata": {},
     "source": [
      "a.) Yes, because both $ n  \\pi \\ge 5 ~~and~~ n(1 - \\pi) \\ge 5$"
     ]
    },
    {
     "cell_type": "markdown",
     "metadata": {},
     "source": [
      "b.) $z = \\frac {\\hat \\pi - \\pi_0}{\\sigma_{\\hat \\pi}}$ where $ \\sigma_{\\hat \\pi} = \\sqrt{\\frac {\\pi_0 (1 - \\pi_0)} n}$ "
     ]
    },
    {
     "cell_type": "code",
     "collapsed": false,
     "input": [
      "sigma = (0.25/800)**0.5\n",
      "z= (424/800 - 0.5)/sigma\n",
      "print(\"z = {0} which is more than {1}, thus we reject the null hypothesis\".format(z, qnorm(0.95) )) "
     ],
     "language": "python",
     "metadata": {},
     "outputs": [
      {
       "output_type": "stream",
       "stream": "stdout",
       "text": [
        "z = 1.6970562748477156 which is more than 1.6448536269514722, thus we reject the null hypothesis\n"
       ]
      }
     ],
     "prompt_number": 58
    },
    {
     "cell_type": "code",
     "collapsed": false,
     "input": [
      "mu = 424/800\n",
      "sigma = (mu*(1-mu)/800)**0.5\n",
      "print (\"c.) ({0}, {1})\".format(mu - qnorm(0.975)*sigma, mu + qnorm(0.975)*sigma))"
     ],
     "language": "python",
     "metadata": {},
     "outputs": [
      {
       "output_type": "stream",
       "stream": "stdout",
       "text": [
        "c.) (0.495414826293719, 0.564585173706281)\n"
       ]
      }
     ],
     "prompt_number": 62
    },
    {
     "cell_type": "heading",
     "level": 3,
     "metadata": {},
     "source": [
      "10.15"
     ]
    },
    {
     "cell_type": "code",
     "collapsed": false,
     "input": [],
     "language": "python",
     "metadata": {},
     "outputs": []
    },
    {
     "cell_type": "heading",
     "level": 3,
     "metadata": {},
     "source": [
      "10.16 "
     ]
    },
    {
     "cell_type": "heading",
     "level": 3,
     "metadata": {},
     "source": [
      "10.17 "
     ]
    },
    {
     "cell_type": "heading",
     "level": 3,
     "metadata": {},
     "source": [
      "10.18 "
     ]
    },
    {
     "cell_type": "heading",
     "level": 3,
     "metadata": {},
     "source": [
      "10.22 "
     ]
    },
    {
     "cell_type": "heading",
     "level": 3,
     "metadata": {},
     "source": [
      "10.28"
     ]
    },
    {
     "cell_type": "heading",
     "level": 3,
     "metadata": {},
     "source": [
      "10.31 "
     ]
    },
    {
     "cell_type": "heading",
     "level": 3,
     "metadata": {},
     "source": [
      "10.33"
     ]
    },
    {
     "cell_type": "code",
     "collapsed": false,
     "input": [],
     "language": "python",
     "metadata": {},
     "outputs": []
    }
   ],
   "metadata": {}
  }
 ]
}