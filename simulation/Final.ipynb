{
 "cells": [
  {
   "cell_type": "markdown",
   "metadata": {},
   "source": [
    "A gambler's ruin problem. Alan begins a 'gambler's ruin game' with \\$3 and Betty begins with \\$2.\n",
    "States S = {0, 1, 2, 3, 4, 5} indicate Alan's fortune at each step.\n",
    "At each step, a biased coin with P{Heads} = 0.46 is tossed: Alan wins \\$1 on Heads and loses \\$1 on Tails.\n",
    "Compute an appropriately high power of the P-matrix to find each person's probability of being ruined. Use matrix\n",
    "algebra to verify these probabilities and to find the mean time to absorption. Use simulation to verify the above results and\n",
    "to approximate probability the game lasts for at least 8 tosses."
   ]
  },
  {
   "cell_type": "code",
   "execution_count": 7,
   "metadata": {
    "collapsed": false
   },
   "outputs": [
    {
     "name": "stdout",
     "output_type": "stream",
     "text": [
      "Populating the interactive namespace from numpy and matplotlib\n"
     ]
    }
   ],
   "source": [
    "%pylab inline"
   ]
  },
  {
   "cell_type": "code",
   "execution_count": 113,
   "metadata": {
    "collapsed": false
   },
   "outputs": [
    {
     "name": "stdout",
     "output_type": "stream",
     "text": [
      "0.2642\n"
     ]
    },
    {
     "data": {
      "image/png": "[encoded data removed]",
      "text/plain": [
       "<matplotlib.figure.Figure at 0xad78878c>"
      ]
     },
     "metadata": {},
     "output_type": "display_data"
    }
   ],
   "source": [
    "def playGame(heads, tails, probability):\n",
    "    turns = 0\n",
    "    while True:\n",
    "        if((heads == 0) or (tails == 0)):\n",
    "            break\n",
    "        \n",
    "        turns += 1\n",
    "        if (rand()<probability):\n",
    "            heads += 1\n",
    "            tails -= 1\n",
    "        else:\n",
    "            heads -= 1\n",
    "            tails += 1\n",
    "       \n",
    "    return [heads != 0, turns]\n",
    "\n",
    "def getData(amount, headsInitial, tailsInitial, probability):\n",
    "    return array([playGame(headsInitial, tailsInitial, probability) for i in range(amount)])\n",
    "    \n",
    "\n",
    "subplot(121)\n",
    "x = linspace(0.2,0.8,21)\n",
    "different_prob = [getData(1000, 3, 2, prob).mean(axis =0)[0] for prob in x] \n",
    "bar(x,different_prob, color = \"pink\")\n",
    "\n",
    "subplot(122)\n",
    "hist(getData(1000, 3, 2, 0.46)[:,1], color = \"lightblue\");\n",
    "\n",
    "print(mean(getData(10000, 3, 2, 0.46)[:,1]>=8))"
   ]
  },
  {
   "cell_type": "markdown",
   "metadata": {},
   "source": [
    "A medical screening test has sensitivity 96% and specificity 93%. In a certain population, 500 subjects are tested\n",
    "and 36 of them test positive.\n",
    "Assume prior BETA(1.5, 35). Use a Gibbs sampler to find Bayesian point estimates of prevalence and of the predicted\n",
    "power of a positive test.. Find the 95% two-sided Bayesian probability interval for prevalence, also and upper bounds.\n",
    "Make appropriate diagnostic graphs of the Markov Chain for prevalence."
   ]
  },
  {
   "cell_type": "code",
   "execution_count": 169,
   "metadata": {
    "collapsed": false
   },
   "outputs": [
    {
     "name": "stdout",
     "output_type": "stream",
     "text": [
      "0.0215594647538\n"
     ]
    },
    {
     "data": {
      "image/png": "[encoded data removed]",
      "text/plain": [
       "<matplotlib.figure.Figure at 0xad943c2c>"
      ]
     },
     "metadata": {},
     "output_type": "display_data"
    }
   ],
   "source": [
    "sensitivity = 0.95\n",
    "specificity = 0.93\n",
    "test_positive = 49\n",
    "subjects = 1000\n",
    "test_negative = subjects - test_positive\n",
    "\n",
    "from scipy.stats import beta, binom \n",
    "a, b, eta, theta = 1, 1, 0.99, 0.97\n",
    "x = linspace(0,1,100)\n",
    "#plot(beta.pdf(x,a,b))\n",
    "\n",
    "beta.rvs(1,1)\n",
    "binom.rvs(39,0.5)\n",
    "m = 1000\n",
    "p = [0.0 for i in range(m)]\n",
    "p[0] = 0.5\n",
    "for i in range(1,m):\n",
    "    num_x = p[i-1]*eta \n",
    "    den_x = num_x + (1-p[i-1])*(1-theta)\n",
    "    x = binom.rvs(test_positive,num_x/den_x)\n",
    "    num_y = p[i-1]*(1-eta)\n",
    "    den_y = num_y + (1-p[i-1])*theta\n",
    "    y = binom.rvs(test_negative,num_y/den_y)\n",
    "    p[i] = beta.rvs(x+y+a, subjects-x-y + b)\n",
    "\n",
    "\n",
    "z = linspace(0,1,100)\n",
    "plot(z,beta.pdf(z,x+y+a, subjects-x-y + b)); \n",
    "print(mean(p[m//2:]))  #python 3 hack "
   ]
  },
  {
   "cell_type": "markdown",
   "metadata": {},
   "source": [
    "An M/M/1/2 queue (barber shop) has attempted arrival rate 4 and service rate 5.\n",
    "Simulate this process to find the time average distribution of the states.\n",
    "Use the simulation to values of λ a , L, L Q , W, W Q . Compare results for a discretized version of the queue."
   ]
  },
  {
   "cell_type": "code",
   "execution_count": 38,
   "metadata": {
    "collapsed": false
   },
   "outputs": [
    {
     "name": "stdout",
     "output_type": "stream",
     "text": [
      "0.375\n",
      "[0, 5.514071569697091, 8.486687995831765, 3.8834589829467454, 8.885634188998688, 3.7378076023347635, 8.081339086218186, 3.5596548996170103, 9.516557365902939, 3.6850666710614]\n"
     ]
    },
    {
     "data": {
      "image/png": "[encoded data removed]",
      "text/plain": [
       "<matplotlib.figure.Figure at 0xada5a68c>"
      ]
     },
     "metadata": {},
     "output_type": "display_data"
    }
   ],
   "source": [
    "from scipy.stats import expon\n",
    "m = 100; \n",
    "t = [0 for i in range(m)]\n",
    "x = [0 for i in range(m)]\n",
    "a = [0 for i in range(m)] \n",
    "x[1] = 0 # optional to record a\n",
    "lam = 3; \n",
    "mu = 5; \n",
    "p_arr = lam/(lam + mu)\n",
    "for i in range(2,m):\n",
    "    # 'a' keeps record: 1 for arrival, 0 for departure\n",
    "    arr = np.random.choice([0,1], p=[1-p_arr, p_arr])\n",
    "\n",
    "    a[i]=arr\n",
    "    t[i-1] = expon.rvs(lam+mu)\n",
    "    if ((arr==1) and (x[i-1]>0)): x[i] = x[i-1]+1\n",
    "    if ((arr==0) and (x[i-1]>0)): x[i] = x[i-1]-1\n",
    "    if (x[i-1]==0): \n",
    "        t[i-1] = expon.rvs(lam) \n",
    "        x[i] = 1\n",
    "        a[i]= 1\n",
    "print(t[:10])        \n",
    "step(arange(m),x);    "
   ]
  },
  {
   "cell_type": "markdown",
   "metadata": {},
   "source": [
    "Let X have the density function f(x) = C exp(–x 3 ), for x > 0 (and 0 otherwise).\n",
    "Use any appropriate method to find or accurately approximate C and E(X). Be prepared to explain the method(s).\n",
    "Use at least two Monte Carlo methods to find P(0.5 < X < 1.5). Consider which methods can be used and which cannot,\n",
    "and why."
   ]
  },
  {
   "cell_type": "markdown",
   "metadata": {},
   "source": [
    "Additional topics to review\n",
    "Riemann, simple Monte Carlo, acceptance-rejection, and sampling methods for evaluating probabilities and means.\n",
    "Classification of states and methods of analysis for for finite Markov Chains.Random walks, gambler's ruin.\n",
    "Medical screening tests. Beta-binomial and Gamma-Poisson Bayesian estimation.\n",
    "Parametric/nonparametric bootstrapping, Two-sample permutation tests. Ideas of Gibbs samplers (\"toy\" and useful).\n",
    "Continuous time Markov processes, Q matrices, balance equations. Queues (terminology: λ a , L, L Q , W, W Q ),"
   ]
  }
 ],
 "metadata": {
  "kernelspec": {
   "display_name": "Python 3",
   "language": "python",
   "name": "python3"
  },
  "language_info": {
   "codemirror_mode": {
    "name": "ipython",
    "version": 3
   },
   "file_extension": ".py",
   "mimetype": "text/x-python",
   "name": "python",
   "nbconvert_exporter": "python",
   "pygments_lexer": "ipython3",
   "version": "3.4.1"
  }
 },
 "nbformat": 4,
 "nbformat_minor": 0
}
