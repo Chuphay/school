{
 "metadata": {
  "name": "",
  "signature": "sha256:258805bc38b4a293f61d712846a13f21cf9bf8cfec32e8a0a93ccaeaf92b396b"
 },
 "nbformat": 3,
 "nbformat_minor": 0,
 "worksheets": [
  {
   "cells": [
    {
     "cell_type": "heading",
     "level": 1,
     "metadata": {},
     "source": [
      "Problem Set #3"
     ]
    },
    {
     "cell_type": "code",
     "collapsed": false,
     "input": [
      "%load_ext rpy2.ipython"
     ],
     "language": "python",
     "metadata": {},
     "outputs": [],
     "prompt_number": 1
    },
    {
     "cell_type": "markdown",
     "metadata": {},
     "source": [
      "<h2>1.</h2> <b>a)</b>  An urn contains six balls, numbered 1, 2, ..., 6. Two balls are drawn at\n",
      "random without replacement. What is the probability their sum is an even\n",
      "number less than 7? "
     ]
    },
    {
     "cell_type": "code",
     "collapsed": false,
     "input": [
      "%%R\n",
      "urn <- 1:6\n",
      "m <- 10000\n",
      "outcome <- numeric(m)\n",
      "for (i in 1:m){\n",
      "    outcome[i] <- sum(sample(urn, 2, repl=F))\n",
      "}\n",
      "mean(outcome<7 & outcome%%2 == 0)"
     ],
     "language": "python",
     "metadata": {},
     "outputs": [
      {
       "metadata": {},
       "output_type": "display_data",
       "text": [
        "[1] 0.193\n"
       ]
      }
     ],
     "prompt_number": 2
    },
    {
     "cell_type": "markdown",
     "metadata": {},
     "source": [
      "Analytically, it is simple to show (by straight-forward counting) that the probability is 0.2.\n",
      "\n",
      "\n",
      "<b>b)</b> What do you need to change in the program if\n",
      "sampling is with replacement? \n",
      "\n",
      "Simply replace repl=F with repl=T"
     ]
    },
    {
     "cell_type": "markdown",
     "metadata": {},
     "source": [
      "<h2>2. </h2><b>a)</b> What is the probability that the median of three independent random\n",
      "variables from UNIF(0, 1) falls in the interval (1/4, 3/4)? "
     ]
    },
    {
     "cell_type": "code",
     "collapsed": false,
     "input": [
      "%%R\n",
      "m <- 10000\n",
      "outcome <- logical(m)\n",
      "for (i in 1:m){\n",
      "    x <- sort(runif(3))\n",
      "    if(x[2]>1/4 & x[2]<3/4){\n",
      "        outcome[i] = T\n",
      "    }\n",
      "}\n",
      "mean(outcome)"
     ],
     "language": "python",
     "metadata": {},
     "outputs": [
      {
       "metadata": {},
       "output_type": "display_data",
       "text": [
        "[1] 0.6877\n"
       ]
      }
     ],
     "prompt_number": 3
    },
    {
     "cell_type": "markdown",
     "metadata": {},
     "source": [
      "<b>(b)</b> Also, what is the probability that the mean of these three observations falls in the same\n",
      "interval. "
     ]
    },
    {
     "cell_type": "code",
     "collapsed": false,
     "input": [
      "%%R\n",
      "m <- 10000\n",
      "outcome <- logical(m)\n",
      "for (i in 1:m){\n",
      "    x <- mean(runif(3))\n",
      "    if(x>1/4 & x<3/4){\n",
      "        outcome[i] = T\n",
      "    }\n",
      "}\n",
      "mean(outcome)"
     ],
     "language": "python",
     "metadata": {},
     "outputs": [
      {
       "metadata": {},
       "output_type": "display_data",
       "text": [
        "[1] 0.8578\n"
       ]
      }
     ],
     "prompt_number": 4
    },
    {
     "cell_type": "markdown",
     "metadata": {},
     "source": [
      "Empirically, it is straightforward to get these answers. Analytically figuring out these answers seems to be non-trivial."
     ]
    },
    {
     "cell_type": "markdown",
     "metadata": {},
     "source": [
      "<h2>3.</h2> A class has 20 students, and the instructor calls on individual students to\n",
      "answer questions. For each question she selects one student at random,\n",
      "without consideration of whom she has called on in the past. Suppose the\n",
      "instructor asks 40 questions of the class during the term. \n",
      "\n",
      "<b>(a)</b> What is the probability that every student is called upon at least once? "
     ]
    },
    {
     "cell_type": "code",
     "collapsed": false,
     "input": [
      "%%R\n",
      "m <- 10000\n",
      "outcome <- logical(m)\n",
      "for (i in 1:m){\n",
      "    x <- unique(sample(1:20, 40, repl =T))\n",
      "    if(length(x) == 20){\n",
      "        outcome[i] <- T        \n",
      "    }\n",
      "}\n",
      "mean(outcome)"
     ],
     "language": "python",
     "metadata": {},
     "outputs": [
      {
       "metadata": {},
       "output_type": "display_data",
       "text": [
        "[1] 0.0373\n"
       ]
      }
     ],
     "prompt_number": 17
    },
    {
     "cell_type": "markdown",
     "metadata": {},
     "source": [
      "<b>(b)</b> Find the expected number of students she calls on. Also, the standard deviation? "
     ]
    },
    {
     "cell_type": "code",
     "collapsed": false,
     "input": [
      "%%R\n",
      "m <- 10000\n",
      "outcome <- numeric(m)\n",
      "for (i in 1:m){\n",
      "    x <- unique(sample(1:20, 40, repl =T))\n",
      "    outcome[i] <- length(x)\n",
      "}\n",
      "cat(\"mean: \", mean(outcome),\"\\n\")\n",
      "cat(\"standard deviation: \",sd(outcome),\"\\n\")"
     ],
     "language": "python",
     "metadata": {},
     "outputs": [
      {
       "metadata": {},
       "output_type": "display_data",
       "text": [
        "mean:  17.4419 \n",
        "standard deviation:  1.262055 \n"
       ]
      }
     ],
     "prompt_number": 20
    },
    {
     "cell_type": "markdown",
     "metadata": {},
     "source": [
      "<h2>4.</h2> Theoretically, continuous data have no ties, but in practice rounding is\n",
      "necessary and can cause ties. \n",
      "\n",
      "<b>(a)</b> We sample 25 observations at random\n",
      "from UNIF(0,1) and round them down to two places (highest possible result\n",
      "is 0.99). What is the probability of having at least one tie? What is the\n",
      "average number of ties? "
     ]
    },
    {
     "cell_type": "code",
     "collapsed": false,
     "input": [
      "%%R\n",
      "m <- 10000\n",
      "outcome <- numeric(m)\n",
      "for (i in 1:m){\n",
      "    u <- round(runif(25),2)\n",
      "    x <- unique(u)\n",
      "    outcome[i] <- length(x)\n",
      "}\n",
      "cat(\"mean number of ties: \", (25 - mean(outcome))/2,\"\\n\")\n",
      "cat(\"One or more ties: \", mean(outcome<25), \"\\n\")"
     ],
     "language": "python",
     "metadata": {},
     "outputs": [
      {
       "metadata": {},
       "output_type": "display_data",
       "text": [
        "mean number of ties:  2.7846 \n",
        "One or more ties:  0.9635 \n"
       ]
      }
     ],
     "prompt_number": 28
    },
    {
     "cell_type": "markdown",
     "metadata": {},
     "source": [
      "<b>(b)</b> Same question, but sampling from NORM(0, 1). "
     ]
    },
    {
     "cell_type": "code",
     "collapsed": false,
     "input": [
      "%%R\n",
      "m <- 10000\n",
      "outcome <- numeric(m)\n",
      "for (i in 1:m){\n",
      "    u <- round(rnorm(25),2)\n",
      "    x <- unique(u)\n",
      "    outcome[i] <- length(x)\n",
      "}\n",
      "cat(\"mean number of ties: \", (25 - mean(outcome))/2,\"\\n\")\n",
      "cat(\"One or more ties: \", mean(outcome<25), \"\\n\")"
     ],
     "language": "python",
     "metadata": {},
     "outputs": [
      {
       "metadata": {},
       "output_type": "display_data",
       "text": [
        "mean number of ties:  0.41035 \n",
        "One or more ties:  0.5721 \n"
       ]
      }
     ],
     "prompt_number": 29
    }
   ],
   "metadata": {}
  }
 ]
}