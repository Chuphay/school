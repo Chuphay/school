{
 "metadata": {
  "name": "",
  "signature": "sha256:dcb05f5ceaf10e4b6f5bbb226ce92b2d6e90fa8eef59398086355f02158eecb8"
 },
 "nbformat": 3,
 "nbformat_minor": 0,
 "worksheets": [
  {
   "cells": [
    {
     "cell_type": "heading",
     "level": 1,
     "metadata": {},
     "source": [
      "Problem Set #3"
     ]
    },
    {
     "cell_type": "code",
     "collapsed": false,
     "input": [
      "%load_ext rpy2.ipython"
     ],
     "language": "python",
     "metadata": {},
     "outputs": [],
     "prompt_number": 1
    },
    {
     "cell_type": "markdown",
     "metadata": {},
     "source": [
      "<b>1. a)</b>  An urn contains six balls, numbered 1, 2, ..., 6. Two balls are drawn at\n",
      "random without replacement. What is the probability their sum is an even\n",
      "number less than 7? "
     ]
    },
    {
     "cell_type": "code",
     "collapsed": false,
     "input": [
      "%%R\n",
      "urn <- 1:6\n",
      "m <- 10000\n",
      "outcome <- numeric(m)\n",
      "for (i in 1:m){\n",
      "    outcome[i] <- sum(sample(urn, 2, repl=F))\n",
      "}\n",
      "mean(outcome<7 & outcome%%2 == 0)"
     ],
     "language": "python",
     "metadata": {},
     "outputs": [
      {
       "metadata": {},
       "output_type": "display_data",
       "text": [
        "[1] 0.1949\n"
       ]
      }
     ],
     "prompt_number": 17
    },
    {
     "cell_type": "markdown",
     "metadata": {},
     "source": [
      "Analytically, it is simple to show (by straight-forward counting) that the probability is 0.2.\n",
      "\n",
      "\n",
      "<b>b)</b> What do you need to change in the program if\n",
      "sampling is with replacement? \n",
      "\n",
      "Simply replace repl=F with repl=T"
     ]
    },
    {
     "cell_type": "markdown",
     "metadata": {},
     "source": [
      "<b>2. a)</b> What is the probability that the median of three independent random\n",
      "variables from UNIF(0, 1) falls in the interval (1/4, 3/4)? "
     ]
    },
    {
     "cell_type": "code",
     "collapsed": false,
     "input": [
      "%%R\n",
      "m <- 10000\n",
      "outcome <- logical(m)\n",
      "for (i in 1:m){\n",
      "    x <- sort(runif(3))\n",
      "    if(x[2]>1/4 & x[2]<3/4){\n",
      "        outcome[i] = T\n",
      "    }\n",
      "}\n",
      "\n",
      "mean(outcome)"
     ],
     "language": "python",
     "metadata": {},
     "outputs": [
      {
       "metadata": {},
       "output_type": "display_data",
       "text": [
        "[1] 0.6937\n"
       ]
      }
     ],
     "prompt_number": 36
    },
    {
     "cell_type": "markdown",
     "metadata": {},
     "source": [
      "<b>(b)</b> Also, what is the probability that the mean of these three observations falls in the same\n",
      "interval. "
     ]
    },
    {
     "cell_type": "code",
     "collapsed": false,
     "input": [
      "%%R\n",
      "m <- 10000\n",
      "outcome <- logical(m)\n",
      "for (i in 1:m){\n",
      "    x <- mean(runif(3))\n",
      "    if(x>1/4 & x<3/4){\n",
      "        outcome[i] = T\n",
      "    }\n",
      "}\n",
      "\n",
      "mean(outcome)"
     ],
     "language": "python",
     "metadata": {},
     "outputs": [
      {
       "metadata": {},
       "output_type": "display_data",
       "text": [
        "[1] 0.8568\n"
       ]
      }
     ],
     "prompt_number": 38
    },
    {
     "cell_type": "code",
     "collapsed": false,
     "input": [
      "0.75**3 + (0.75**3)"
     ],
     "language": "python",
     "metadata": {},
     "outputs": [
      {
       "metadata": {},
       "output_type": "pyout",
       "prompt_number": 32,
       "text": [
        "0.84375"
       ]
      }
     ],
     "prompt_number": 32
    },
    {
     "cell_type": "code",
     "collapsed": false,
     "input": [
      "1 -(9/8*0.25**2+ 0.25**3)"
     ],
     "language": "python",
     "metadata": {},
     "outputs": [
      {
       "metadata": {},
       "output_type": "pyout",
       "prompt_number": 34,
       "text": [
        "0.9140625"
       ]
      }
     ],
     "prompt_number": 34
    },
    {
     "cell_type": "code",
     "collapsed": false,
     "input": [],
     "language": "python",
     "metadata": {},
     "outputs": []
    }
   ],
   "metadata": {}
  }
 ]
}