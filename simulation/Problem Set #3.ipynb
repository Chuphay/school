{
 "metadata": {
  "name": "",
  "signature": "sha256:65b8a6e55aee8078f593f0f36342a3a602206dc32a4fe7a2baf13cc1e672a23d"
 },
 "nbformat": 3,
 "nbformat_minor": 0,
 "worksheets": [
  {
   "cells": [
    {
     "cell_type": "heading",
     "level": 1,
     "metadata": {},
     "source": [
      "Problem Set #3"
     ]
    },
    {
     "cell_type": "code",
     "collapsed": false,
     "input": [
      "%load_ext rpy2.ipython"
     ],
     "language": "python",
     "metadata": {},
     "outputs": [],
     "prompt_number": 1
    },
    {
     "cell_type": "markdown",
     "metadata": {},
     "source": [
      "1.a) An urn contains six balls, numbered 1, 2, ..., 6. Two balls are drawn at\n",
      "random without replacement. What is the probability their sum is an even\n",
      "number less than 7? "
     ]
    },
    {
     "cell_type": "code",
     "collapsed": false,
     "input": [
      "%%R\n",
      "urn <- 1:6\n",
      "m <- 10000\n",
      "outcome <- numeric(m)\n",
      "for (i in 1:m){\n",
      "    outcome[i] <- sum(sample(urn, 2, repl=F))\n",
      "}\n",
      "mean(outcome<7 & outcome%%2 == 0)"
     ],
     "language": "python",
     "metadata": {},
     "outputs": [
      {
       "metadata": {},
       "output_type": "display_data",
       "text": [
        "[1] 0.1949\n"
       ]
      }
     ],
     "prompt_number": 17
    },
    {
     "cell_type": "markdown",
     "metadata": {},
     "source": [
      "b) What do you need to change in the program if\n",
      "sampling is with replacement? "
     ]
    },
    {
     "cell_type": "code",
     "collapsed": false,
     "input": [],
     "language": "python",
     "metadata": {},
     "outputs": []
    }
   ],
   "metadata": {}
  }
 ]
}