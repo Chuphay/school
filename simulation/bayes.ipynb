{
 "metadata": {
  "name": "",
  "signature": "sha256:b11b20d44a93e3dd3f392a854149a465e6b902e6f37e66e9cc03077531de37a7"
 },
 "nbformat": 3,
 "nbformat_minor": 0,
 "worksheets": [
  {
   "cells": [
    {
     "cell_type": "code",
     "collapsed": false,
     "input": [
      "%pylab inline"
     ],
     "language": "python",
     "metadata": {},
     "outputs": [
      {
       "output_type": "stream",
       "stream": "stdout",
       "text": [
        "Populating the interactive namespace from numpy and matplotlib\n"
       ]
      }
     ],
     "prompt_number": 1
    },
    {
     "cell_type": "code",
     "collapsed": false,
     "input": [
      "figsize(8,3)\n",
      "import scipy.stats as stats\n",
      "\n",
      "dist = stats.beta\n",
      "n_trials = [0, 1, 2, 3] #, 2, 3, 4, 5, 8, 15, 50, 500]\n",
      "size=n_trials[-1]\n",
      "data = randint(0,2,size)\n",
      "#data = stats.bernoulli.rvs(0.5, size=n_trials[-1])\n",
      "data = array([1,1,1])\n",
      "print(data)\n",
      "x = np.linspace(0, 1, 100)"
     ],
     "language": "python",
     "metadata": {},
     "outputs": [
      {
       "output_type": "stream",
       "stream": "stdout",
       "text": [
        "[1 1 1]\n"
       ]
      }
     ],
     "prompt_number": 32
    },
    {
     "cell_type": "code",
     "collapsed": false,
     "input": [
      "# For the already prepared, I'm using Binomial's conj. prior.\n",
      "for k, N in enumerate(n_trials):\n",
      "    #sx = plt.subplot(len(n_trials) / 2, 2, k + 1)\n",
      "    plt.xlabel(\"$p$, probability of heads\") \\\n",
      "        if k in [0, len(n_trials) - 1] else None\n",
      "    plt.setp(sx.get_yticklabels(), visible=False)\n",
      "    heads = data[:N].sum()\n",
      "    print (heads)\n",
      "    y = dist.pdf(x, 1 + heads, 1 + N - heads)\n",
      "    plt.plot(x, y, label=\"observe %d tosses,\\n %d heads\" % (N, heads))\n",
      "    plt.fill_between(x, 0, y, color=\"#348ABD\", alpha=0.4)\n",
      "    plt.vlines(0.5, 0, 4, color=\"k\", linestyles=\"--\", lw=1)\n",
      "\n",
      "    leg = plt.legend()\n",
      "\n",
      "\n",
      "plt.tight_layout()\n",
      "    "
     ],
     "language": "python",
     "metadata": {},
     "outputs": [
      {
       "output_type": "stream",
       "stream": "stdout",
       "text": [
        "0\n",
        "1\n",
        "2\n",
        "3\n"
       ]
      },
      {
       "metadata": {},
       "output_type": "display_data",
       "png": "[encoded data removed]",
       "text": [
        "<matplotlib.figure.Figure at 0xad227c0c>"
       ]
      }
     ],
     "prompt_number": 33
    },
    {
     "cell_type": "code",
     "collapsed": false,
     "input": [
      "seed(124)\n",
      "#number of programs, is there a bug in them, chance of catching that bug\n",
      "num_programs = 1\n",
      "true_bug_prob = 1. #0.9\n",
      "true_catch_a_bug_prob = 0.3\n",
      "\n",
      "has_a_bug = rand(num_programs) < true_bug_prob\n",
      "\n",
      "num_tests = 5\n",
      "catch_a_bug = [None for i in range(num_tests)]\n",
      "for i in range(num_tests):\n",
      "    if(has_a_bug == False):\n",
      "        catch_a_bug[i] = False\n",
      "    else:\n",
      "        catch_a_bug[i] = rand() < true_catch_a_bug_prob\n",
      "print(has_a_bug)\n",
      "print(catch_a_bug)"
     ],
     "language": "python",
     "metadata": {},
     "outputs": [
      {
       "output_type": "stream",
       "stream": "stdout",
       "text": [
        "[ True]\n",
        "[False, False, False, False, True]\n"
       ]
      }
     ],
     "prompt_number": 60
    },
    {
     "cell_type": "code",
     "collapsed": false,
     "input": [
      "#before the first test, I'm pretty optimistic. I think there's a 95% chance of being bug free\n",
      "#now I see the first test came back, and it said the code was bug free\n",
      "#so now Im really confident\n",
      "#but how confident?"
     ],
     "language": "python",
     "metadata": {},
     "outputs": [],
     "prompt_number": 54
    },
    {
     "cell_type": "code",
     "collapsed": false,
     "input": [],
     "language": "python",
     "metadata": {},
     "outputs": []
    }
   ],
   "metadata": {}
  }
 ]
}