{
 "metadata": {
  "name": "",
  "signature": "sha256:a6ec9fbb3e022a3a28303f7d7a605eba81fecd4c8e93ee445b3fa2fe60befae0"
 },
 "nbformat": 3,
 "nbformat_minor": 0,
 "worksheets": [
  {
   "cells": [
    {
     "cell_type": "code",
     "collapsed": false,
     "input": [
      "%pylab inline\n",
      "from my_stat_tools import *"
     ],
     "language": "python",
     "metadata": {},
     "outputs": [
      {
       "output_type": "stream",
       "stream": "stdout",
       "text": [
        "Populating the interactive namespace from numpy and matplotlib\n"
       ]
      }
     ],
     "prompt_number": 2
    },
    {
     "cell_type": "heading",
     "level": 3,
     "metadata": {},
     "source": [
      "3.7"
     ]
    },
    {
     "cell_type": "code",
     "collapsed": false,
     "input": [
      "print('Exact: ',4*(0.5)**3 - 3 *(0.5)**4, pbeta(0.5,3,2))\n",
      "num = 100\n",
      "x = linspace(0,0.5,num)\n",
      "riemann = sum(dbeta(x,3,2))/(2*num)\n",
      "riemann"
     ],
     "language": "python",
     "metadata": {},
     "outputs": [
      {
       "output_type": "stream",
       "stream": "stdout",
       "text": [
        "Exact:  0.3125 0.3125\n"
       ]
      },
      {
       "metadata": {},
       "output_type": "pyout",
       "prompt_number": 3,
       "text": [
        "0.3131313131313132"
       ]
      }
     ],
     "prompt_number": 3
    },
    {
     "cell_type": "heading",
     "level": 3,
     "metadata": {},
     "source": [
      "3.10"
     ]
    },
    {
     "cell_type": "heading",
     "level": 3,
     "metadata": {},
     "source": [
      "3.14"
     ]
    },
    {
     "cell_type": "heading",
     "level": 3,
     "metadata": {},
     "source": [
      "3.16"
     ]
    },
    {
     "cell_type": "heading",
     "level": 3,
     "metadata": {},
     "source": [
      "4.1"
     ]
    },
    {
     "cell_type": "code",
     "collapsed": false,
     "input": [
      "seed(123)\n",
      "x = rpois(3, size = 1000000)\n",
      "y = rexp(scale = 1/3, size = 1000000)\n",
      "print(mean(x == 0))\n",
      "print(mean(x>0))\n",
      "print(mean(y>1))\n",
      "print(mean(y<1/2))"
     ],
     "language": "python",
     "metadata": {},
     "outputs": [
      {
       "output_type": "stream",
       "stream": "stdout",
       "text": [
        "0.049812\n",
        "0.950188\n",
        "0.049474\n",
        "0.777134\n"
       ]
      }
     ],
     "prompt_number": 4
    },
    {
     "cell_type": "heading",
     "level": 3,
     "metadata": {},
     "source": [
      "4.6"
     ]
    },
    {
     "cell_type": "code",
     "collapsed": false,
     "input": [
      "num = 10000\n",
      "x1 = rexp(scale = 5, size = num)\n",
      "x2 = rexp(scale = 4, size = num)\n",
      "print('Chance you will be served by teller 2: ', mean(x2<x1))\n",
      "print('Expected waiting time: ',mean(list(map(lambda x,y: min(x,y), x1, x2))))"
     ],
     "language": "python",
     "metadata": {},
     "outputs": [
      {
       "output_type": "stream",
       "stream": "stdout",
       "text": [
        "Chance you will be served by teller 2:  0.5559\n",
        "Expected waiting time:  2.2249948338\n"
       ]
      }
     ],
     "prompt_number": 5
    },
    {
     "cell_type": "heading",
     "level": 3,
     "metadata": {},
     "source": [
      "4.8"
     ]
    },
    {
     "cell_type": "code",
     "collapsed": false,
     "input": [
      "num = 100000\n",
      "x = rexp(scale = 5, size = (num,4))\n",
      "w = x.max(axis = 1)\n",
      "print('mean:', mean(w))\n",
      "print('mean(w>5):', mean(w>5))\n",
      "print('quantile 0.9:',percentile(w,90))"
     ],
     "language": "python",
     "metadata": {},
     "outputs": [
      {
       "output_type": "stream",
       "stream": "stdout",
       "text": [
        "mean: 10.4420844972\n",
        "mean(w>5): 0.83991\n",
        "quantile 0.9: 18.3398684744\n"
       ]
      }
     ],
     "prompt_number": 6
    },
    {
     "cell_type": "heading",
     "level": 3,
     "metadata": {},
     "source": [
      "4.20"
     ]
    },
    {
     "cell_type": "code",
     "collapsed": false,
     "input": [
      "seed(123)\n",
      "num = 1000\n",
      "x = rexp(scale = 1/2, size = (num, 5))\n",
      "\n",
      "xMean = x.mean(axis = 1)\n",
      "xSD = x.std(axis = 1) #notice this is the biased answer when we divide by 5 in stead of 4\n",
      "xSD2 = (((x.T -x.mean(axis = 1))**2).sum(axis =0)/4)**0.5\n",
      "print(xSD[:3])\n",
      "print(xSD2[:3])"
     ],
     "language": "python",
     "metadata": {},
     "outputs": [
      {
       "output_type": "stream",
       "stream": "stdout",
       "text": [
        "[ 0.20984106  0.65767504  0.20325057]\n",
        "[ 0.23460944  0.73530305  0.22724105]\n"
       ]
      }
     ],
     "prompt_number": 31
    },
    {
     "cell_type": "code",
     "collapsed": false,
     "input": [
      "scatter(xMean, xSD2)\n",
      "x = linspace(0,1, 100)\n",
      "plot(x,x*5**0.5);"
     ],
     "language": "python",
     "metadata": {},
     "outputs": [
      {
       "metadata": {},
       "output_type": "display_data",
       "png": "[encoded data removed]",
       "text": [
        "<matplotlib.figure.Figure at 0xa84eda0c>"
       ]
      }
     ],
     "prompt_number": 51
    },
    {
     "cell_type": "heading",
     "level": 3,
     "metadata": {},
     "source": [
      "Nonparametric Bootstrap Distributions"
     ]
    },
    {
     "cell_type": "code",
     "collapsed": false,
     "input": [
      "%load_ext rpy2.ipython"
     ],
     "language": "python",
     "metadata": {},
     "outputs": [
      {
       "output_type": "stream",
       "stream": "stdout",
       "text": [
        "The rpy2.ipython extension is already loaded. To reload it, use:\n",
        "  %reload_ext rpy2.ipython\n"
       ]
      }
     ],
     "prompt_number": 53
    },
    {
     "cell_type": "code",
     "collapsed": false,
     "input": [
      "%%R\n",
      "Risk = c(38, 23, 41, 18, 37, 36, 23, 62, 31, 34, 24,\n",
      "         14, 21, 17, 16, 20, 15, 10, 45, 39, 22, 35,\n",
      "         49, 48, 44, 35, 43, 39, 34, 13, 73, 25, 27)\n",
      "Ctrl = c(16, 18, 18, 24, 19, 11, 10, 15, 16, 18, 18,\n",
      "         13, 19, 10, 16, 16, 24, 13,  9, 14, 21, 19,\n",
      "          7, 18, 19, 12, 11, 22, 25, 16, 13, 11, 13)\n",
      "Pair.Diff = Risk - Ctrl\n",
      "set.seed(1237)\n",
      "n <- length(Pair.Diff)\n",
      "d.bar = mean(Pair.Diff)\n",
      "B = 10000\n",
      "re.x = sample(Pair.Diff, B*n, repl = T)\n",
      "RDTA = matrix(re.x, nrow= B)\n",
      "re.mean = rowMeans(RDTA)\n",
      "bci = quantile(re.mean, c(0.025, 0.975))\n",
      "alt.bci = 2*d.bar - bci[2:1]\n",
      "alt.bci\n"
     ],
     "language": "python",
     "metadata": {},
     "outputs": [
      {
       "metadata": {},
       "output_type": "display_data",
       "text": [
        "   97.5%     2.5% \n",
        "10.48409 21.15152 \n"
       ]
      }
     ],
     "prompt_number": 57
    },
    {
     "cell_type": "heading",
     "level": 3,
     "metadata": {},
     "source": [
      "4.24 "
     ]
    },
    {
     "cell_type": "code",
     "collapsed": false,
     "input": [],
     "language": "python",
     "metadata": {},
     "outputs": [],
     "prompt_number": 7
    },
    {
     "cell_type": "heading",
     "level": 3,
     "metadata": {},
     "source": [
      "\n",
      "5.4 "
     ]
    },
    {
     "cell_type": "code",
     "collapsed": false,
     "input": [],
     "language": "python",
     "metadata": {},
     "outputs": [],
     "prompt_number": 7
    },
    {
     "cell_type": "heading",
     "level": 3,
     "metadata": {},
     "source": [
      "5.8"
     ]
    },
    {
     "cell_type": "code",
     "collapsed": false,
     "input": [],
     "language": "python",
     "metadata": {},
     "outputs": [],
     "prompt_number": 7
    },
    {
     "cell_type": "heading",
     "level": 3,
     "metadata": {},
     "source": [
      "5.13 "
     ]
    },
    {
     "cell_type": "code",
     "collapsed": false,
     "input": [],
     "language": "python",
     "metadata": {},
     "outputs": [],
     "prompt_number": 7
    },
    {
     "cell_type": "heading",
     "level": 3,
     "metadata": {},
     "source": [
      "5.18  "
     ]
    },
    {
     "cell_type": "code",
     "collapsed": false,
     "input": [],
     "language": "python",
     "metadata": {},
     "outputs": [],
     "prompt_number": 7
    },
    {
     "cell_type": "heading",
     "level": 3,
     "metadata": {},
     "source": [
      "6.1"
     ]
    },
    {
     "cell_type": "code",
     "collapsed": false,
     "input": [],
     "language": "python",
     "metadata": {},
     "outputs": [],
     "prompt_number": 7
    },
    {
     "cell_type": "heading",
     "level": 3,
     "metadata": {},
     "source": [
      "6.5 (see error file)"
     ]
    },
    {
     "cell_type": "code",
     "collapsed": false,
     "input": [],
     "language": "python",
     "metadata": {},
     "outputs": [],
     "prompt_number": 7
    }
   ],
   "metadata": {}
  }
 ]
}