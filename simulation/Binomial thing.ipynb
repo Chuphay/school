{
 "metadata": {
  "name": "",
  "signature": "sha256:32b196fcff227f861151a1c4afdcb7bddff28a83c7ef2681f2a0e2f99b71b034"
 },
 "nbformat": 3,
 "nbformat_minor": 0,
 "worksheets": [
  {
   "cells": [
    {
     "cell_type": "code",
     "collapsed": false,
     "input": [
      "%load_ext rpy2.ipython"
     ],
     "language": "python",
     "metadata": {},
     "outputs": [],
     "prompt_number": 1
    },
    {
     "cell_type": "code",
     "collapsed": false,
     "input": [
      "%%R\n",
      "mean(rbinom(10,25,0.5))"
     ],
     "language": "python",
     "metadata": {},
     "outputs": [
      {
       "metadata": {},
       "output_type": "display_data",
       "text": [
        "[1] 12.7\n"
       ]
      }
     ],
     "prompt_number": 10
    },
    {
     "cell_type": "code",
     "collapsed": false,
     "input": [
      "%%R\n",
      "m = 100\n",
      "answers = numeric(m)\n",
      "\n",
      "for (j in 0:m){\n",
      "    myProb = 0\n",
      "    real_prob = j/m\n",
      "    for (i in 0:25){\n",
      "        x = dbinom(i,25, real_prob)\n",
      "        z = i/25\n",
      "        if(real_prob > z-1.96*sqrt(z*(1-z)/25) && real_prob < z+1.96*sqrt(z*(1-z)/25)){\n",
      "            #cat(i,z,z-1.96*sqrt(z*(1-z)/25), z+1.96*sqrt(z*(1-z)/25),x,'\\n')\n",
      "            myProb = myProb + x\n",
      "        }   \n",
      "    }\n",
      "    answers[j] = myProb\n",
      "}\n",
      "\n",
      "plot(answers, type = 'l')"
     ],
     "language": "python",
     "metadata": {},
     "outputs": [
      {
       "metadata": {},
       "output_type": "display_data",
       "png": "[encoded data removed]"
      }
     ],
     "prompt_number": 24
    }
   ],
   "metadata": {}
  }
 ]
}