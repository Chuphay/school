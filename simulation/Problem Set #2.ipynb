{
 "metadata": {
  "name": "",
  "signature": "sha256:07b052ed4f385941f731872b8db1a86f909d1f3d98331ceb1073d06ab00c163d"
 },
 "nbformat": 3,
 "nbformat_minor": 0,
 "worksheets": [
  {
   "cells": [
    {
     "cell_type": "heading",
     "level": 1,
     "metadata": {},
     "source": [
      "Week #2 Homework (Including problems due on Thursday)"
     ]
    },
    {
     "cell_type": "code",
     "collapsed": false,
     "input": [
      "%load_ext rpy2.ipython"
     ],
     "language": "python",
     "metadata": {},
     "outputs": [
      {
       "output_type": "stream",
       "stream": "stdout",
       "text": [
        "The rpy2.ipython extension is already loaded. To reload it, use:\n",
        "  %reload_ext rpy2.ipython\n"
       ]
      }
     ],
     "prompt_number": 34
    },
    {
     "cell_type": "markdown",
     "metadata": {},
     "source": [
      "<h3>1.1</h3>"
     ]
    },
    {
     "cell_type": "code",
     "collapsed": false,
     "input": [
      "%%R\n",
      "cat(\"a.)\\n\")\n",
      "set.seed(1)\n",
      "for (i in 1:5){\n",
      "    pick <- sample(1:100,5)\n",
      "    cat(\"Pick number\",i,\"has\",sum(pick<=90), \"good chips\\n\")\n",
      "}"
     ],
     "language": "python",
     "metadata": {},
     "outputs": [
      {
       "metadata": {},
       "output_type": "display_data",
       "text": [
        "a.)\n",
        "Pick number 1 has 5 good chips\n",
        "Pick number 2 has 4 good chips\n",
        "Pick number 3 has 5 good chips\n",
        "Pick number 4 has 4 good chips\n",
        "Pick number 5 has 4 good chips\n"
       ]
      }
     ],
     "prompt_number": 35
    },
    {
     "cell_type": "code",
     "collapsed": false,
     "input": [
      "%%R\n",
      "cat(\"b.)\\n\")\n",
      "set.seed(1)\n",
      "for (i in 1:5){\n",
      "    cat(\"Pick number\",i,\"has\",sum(sample(1:100,5)<=90), \"good chips\\n\")\n",
      "}\n",
      "cat(\"Naturally, because we set a seed, they have the same answer.\\n\")\n",
      "cat(\"c.)\\nThe fourth one, because it has a value over 90\\n\")"
     ],
     "language": "python",
     "metadata": {},
     "outputs": [
      {
       "metadata": {},
       "output_type": "display_data",
       "text": [
        "b.)\n",
        "Pick number 1 has 5 good chips\n",
        "Pick number 2 has 4 good chips\n",
        "Pick number 3 has 5 good chips\n",
        "Pick number 4 has 4 good chips\n",
        "Pick number 5 has 4 good chips\n",
        "Naturally, because we set a seed, they have the same answer.\n",
        "c.)\n",
        "The fourth one, because it has a value over 90\n"
       ]
      }
     ],
     "prompt_number": 36
    },
    {
     "cell_type": "markdown",
     "metadata": {},
     "source": [
      "<h3>1.3</h3>"
     ]
    },
    {
     "cell_type": "markdown",
     "metadata": {},
     "source": [
      "a.) choose(100,5) is the number of possible different combinations that sample(1:100,5) could produce without worrying about order."
     ]
    },
    {
     "cell_type": "code",
     "collapsed": false,
     "input": [
      "%%R\n",
      "cat(\"b.)\\n\")\n",
      "cat(dhyper(2,90,10,5),\"\\n\")\n",
      "cat(choose(90,2)*choose(10,3)/choose(100,5))"
     ],
     "language": "python",
     "metadata": {},
     "outputs": [
      {
       "metadata": {},
       "output_type": "display_data",
       "text": [
        "b.)\n",
        "0.006383528 \n",
        "0.006383528"
       ]
      }
     ],
     "prompt_number": 37
    },
    {
     "cell_type": "code",
     "collapsed": false,
     "input": [
      "%%R\n",
      "cat(\"c.)\\n\")\n",
      "set.seed(1)\n",
      "good = numeric(1000)\n",
      "for (i in 1:1000){\n",
      "    good[i] = sum(sample(1:100,5)<=90)\n",
      "}\n",
      "cat(\"mean\",mean(good),\"\\n\")\n",
      "cat(\"var\", var(good), \"\\n\")"
     ],
     "language": "python",
     "metadata": {},
     "outputs": [
      {
       "metadata": {},
       "output_type": "display_data",
       "text": [
        "c.)\n",
        "mean 4.48 \n",
        "var 0.4540541 \n"
       ]
      }
     ],
     "prompt_number": 38
    },
    {
     "cell_type": "markdown",
     "metadata": {},
     "source": [
      "According to my probability book, the Hypergeometric distribution function is defined by\n",
      "\n",
      "$$f(x)= \\frac {{N_1\\choose x}{N_2 \\choose {n-x}}} {N \\choose n}, ~~~ x \\leq n, ~~x \\leq N_1, ~~n-x \\leq N_2$$\n",
      "\n",
      "with\n",
      "\n",
      "$$\\mu = n \\left(\\frac {N_1} N\\right), ~~~~ \\sigma^2 = n \\left(\\frac {N_1} N\\right) \\left(\\frac {N_2} N\\right) \\left(\\frac {N-n} {N-1}\\right)$$\n",
      "\n",
      "Here $n = 5$, $N_1=90$, $N_2 = 10$, and $N=100$. Therefore, $\\mu = 5*9/10 = 4.5$ and $\\sigma^2 = 5(9/10)(1/10)(95/99) = 0.432$\n",
      "\n",
      "Here, I'm running 1000 simulations, so the agreement is pretty good."
     ]
    },
    {
     "cell_type": "code",
     "collapsed": false,
     "input": [
      "%R cat(\"d.)\\n\",sum((0:5)*dhyper(0:5,90,10,5)))"
     ],
     "language": "python",
     "metadata": {},
     "outputs": [
      {
       "metadata": {},
       "output_type": "display_data",
       "text": [
        "d.)\n",
        " 4.5"
       ]
      }
     ],
     "prompt_number": 39
    },
    {
     "cell_type": "markdown",
     "metadata": {},
     "source": [
      "It's the mean value, by definition."
     ]
    },
    {
     "cell_type": "markdown",
     "metadata": {},
     "source": [
      "<h3>1.5</h3>"
     ]
    },
    {
     "cell_type": "code",
     "collapsed": false,
     "input": [
      "%%R\n",
      "item_match <- function(n){ \n",
      "    m = 100000\n",
      "    x = numeric(m)\n",
      "    for(i in 1:m){\n",
      "        perm = sample(1:n,n)\n",
      "        x[i] = sum(1:n == perm)\n",
      "    }\n",
      "    return(x)\n",
      "} \n",
      "x_5 = item_match(5)\n",
      "x_10 = item_match(10)\n",
      "x_20 = item_match(20)\n",
      "cat(\"n = 5 mean(x==0)\",mean(x_5 == 0),\"mean\", mean(x_5),\"sd\", sd(x_5),\"\\n\")\n",
      "cat(\"n = 10 mean(x==0)\",mean(x_10 == 0),\"mean\", mean(x_10),\"sd\", sd(x_10),\"\\n\")\n",
      "cat(\"n = 20 mean(x==0)\",mean(x_20 == 0),\"mean\", mean(x_20),\"sd\", sd(x_20),\"\\n\")\n",
      "cutp = (-1:20)+0.5    \n",
      "hist(x_20, breaks=cutp, prob=T)"
     ],
     "language": "python",
     "metadata": {},
     "outputs": [
      {
       "metadata": {},
       "output_type": "display_data",
       "text": [
        "n = 5 mean(x==0) 0.36831 mean 0.9946 sd 0.9965444 \n",
        "n = 10 mean(x==0) 0.36679 mean 1.00196 sd 1.003896 \n",
        "n = 20 mean(x==0) 0.36954 mean 1.00028 sd 1.003519 \n"
       ]
      },
      {
       "metadata": {},
       "output_type": "display_data",
       "png": "[encoded data removed]"
      }
     ],
     "prompt_number": 68
    },
    {
     "cell_type": "markdown",
     "metadata": {},
     "source": [
      "From the text book, the first line sets up some global variables. The second line simulates stuffing envelopes randomly 100,000 times and putting the result of the correct number of stuffed envelopes into x. The third line creates a histogram and the fourth line reports the mean, the standard deviation and the probability of stuffing zero envelopes correctly.\n",
      "\n",
      "Amazingly the results are all the same. This is quite counter-intuitive (and I still feel like there may be a bug in my program) because you would imagine with more envelopes the chance of getting them all wrong would go down, but I guess that is not the case."
     ]
    },
    {
     "cell_type": "markdown",
     "metadata": {},
     "source": [
      "<h3>1.7</h3>"
     ]
    },
    {
     "cell_type": "code",
     "collapsed": false,
     "input": [
      "%%R\n",
      "n = 1:80\n",
      "p = numeric(80)\n",
      "for (i in n){\n",
      "    q = prod(1-(0:(i-1))/669)\n",
      "    p[i] = 1 - q\n",
      "}\n",
      "plot(n,p)\n",
      "cat(min(n[p>1/2]))"
     ],
     "language": "python",
     "metadata": {},
     "outputs": [
      {
       "metadata": {},
       "output_type": "display_data",
       "text": [
        "31"
       ]
      },
      {
       "metadata": {},
       "output_type": "display_data",
       "png": "[encoded data removed]"
      }
     ],
     "prompt_number": 71
    },
    {
     "cell_type": "markdown",
     "metadata": {},
     "source": [
      "<h3>1.8</h3>"
     ]
    },
    {
     "cell_type": "code",
     "collapsed": false,
     "input": [
      "%%R\n",
      "p = c(rep(96,61),rep(98,89),rep(99,62),rep(100,61),rep(104,62),rep(106,30),25)\n",
      "set.seed(1237)\n",
      "m = 100000; n = 25; x = numeric(m); y = numeric(m)\n",
      "for(i in 1:m){\n",
      "    b = sample(1:366, n , repl=T)\n",
      "    x[i] = n - length(unique(b))\n",
      "    b = sample(1:366, n , repl=T, prob =p)\n",
      "    y[i] = n - length(unique(b))\n",
      "}\n",
      "cutp = (0:(max(x)+1))-0.5\n",
      "hist(y, breaks=cutp, prob=T)\n",
      "cat(\"mean(x==0)\",mean(x==0),\"mean(y==0)\",mean(y==0),\"\\nmean(x)\",mean(x),\"mean(y)\",mean(y),\"\\n\")\n",
      "cat(\"They look pretty much identical\\n\")"
     ],
     "language": "python",
     "metadata": {},
     "outputs": [
      {
       "metadata": {},
       "output_type": "display_data",
       "text": [
        "mean(x==0) 0.43239 mean(y==0) 0.43064 \n",
        "mean(x) 0.80028 mean(y) 0.80446 \n",
        "They look pretty much identical\n"
       ]
      },
      {
       "metadata": {},
       "output_type": "display_data",
       "png": "[encoded data removed]"
      }
     ],
     "prompt_number": 88
    },
    {
     "cell_type": "markdown",
     "metadata": {},
     "source": [
      "<h3>1.16</h3>"
     ]
    },
    {
     "cell_type": "code",
     "collapsed": false,
     "input": [
      "%%R\n",
      "n = 30                                      # number of trials\n",
      "alpha = .05;  k = qnorm(1-alpha/2)          # conf level = 1-alpha\n",
      "adj = 2                                     # (2 for Agresti-Coull)\n",
      "\n",
      "x = 0:n;  sp = (x + adj)/(n + 2*adj)        # vectors of\n",
      "m.err = k*sqrt(sp*(1 - sp)/(n + 2*adj))     #   length\n",
      "lcl = sp - m.err                            #   n + 1\n",
      "ucl = sp + m.err                            #\n",
      "\n",
      "m = 2000                                    # no. of values of pp\n",
      "pp = seq(1/n, 1 - 1/n, length=m)            # vectors\n",
      "p.cov = numeric(m)                          #   of length m\n",
      "\n",
      "for (i in 1:m)                              # loop (values of pp)\n",
      "{                                           # for each pp:\n",
      "  cover = (pp[i] >= lcl) & (pp[i] <= ucl)   #  1 if cover, else 0\n",
      "  p.rel = dbinom(x[cover], n, pp[i])        #  relevant probs.\n",
      "  p.cov[i] = sum(p.rel)                     #  total coverage prob.\n",
      "}\n",
      "plot(pp, p.cov, type=\"l\", ylim=c(1-4*alpha,1))\n",
      "lines(c(.01,.99), c(1-alpha,1-alpha))"
     ],
     "language": "python",
     "metadata": {},
     "outputs": [
      {
       "metadata": {},
       "output_type": "display_data",
       "png": "[encoded data removed]"
      }
     ],
     "prompt_number": 89
    },
    {
     "cell_type": "markdown",
     "metadata": {},
     "source": [
      "The intervals are too \"conservative\" for almost all values of $\\pi$, with only brief digressions below the 95% confidence line. The intervals are especially \"conservative\" below $\\pi = 0.2$ and above $\\pi = 0.8$."
     ]
    },
    {
     "cell_type": "code",
     "collapsed": false,
     "input": [
      "%%R\n",
      "n = 30                                      # number of trials\n",
      "alpha = .1;  k = qnorm(1-alpha/2)          # conf level = 1-alpha\n",
      "adj = 2                                     # (2 for Agresti-Coull)\n",
      "\n",
      "x = 0:n;  sp = (x + adj)/(n + 2*adj)        # vectors of\n",
      "m.err = k*sqrt(sp*(1 - sp)/(n + 2*adj))     #   length\n",
      "lcl = sp - m.err                            #   n + 1\n",
      "ucl = sp + m.err                            #\n",
      "\n",
      "m = 2000                                    # no. of values of pp\n",
      "pp = seq(1/n, 1 - 1/n, length=m)            # vectors\n",
      "p.cov = numeric(m)                          #   of length m\n",
      "\n",
      "for (i in 1:m)                              # loop (values of pp)\n",
      "{                                           # for each pp:\n",
      "  cover = (pp[i] >= lcl) & (pp[i] <= ucl)   #  1 if cover, else 0\n",
      "  p.rel = dbinom(x[cover], n, pp[i])        #  relevant probs.\n",
      "  p.cov[i] = sum(p.rel)                     #  total coverage prob.\n",
      "}\n",
      "plot(pp, p.cov, type=\"l\", ylim=c(1-4*alpha,1))\n",
      "lines(c(.01,.99), c(1-alpha,1-alpha))"
     ],
     "language": "python",
     "metadata": {},
     "outputs": [
      {
       "metadata": {},
       "output_type": "display_data",
       "png": "[encoded data removed]"
      }
     ],
     "prompt_number": 90
    },
    {
     "cell_type": "code",
     "collapsed": false,
     "input": [
      "%%R\n",
      "n = 30                                      # number of trials\n",
      "alpha = .01;  k = qnorm(1-alpha/2)          # conf level = 1-alpha\n",
      "adj = 2                                     # (2 for Agresti-Coull)\n",
      "\n",
      "x = 0:n;  sp = (x + adj)/(n + 2*adj)        # vectors of\n",
      "m.err = k*sqrt(sp*(1 - sp)/(n + 2*adj))     #   length\n",
      "lcl = sp - m.err                            #   n + 1\n",
      "ucl = sp + m.err                            #\n",
      "\n",
      "m = 2000                                    # no. of values of pp\n",
      "pp = seq(1/n, 1 - 1/n, length=m)            # vectors\n",
      "p.cov = numeric(m)                          #   of length m\n",
      "\n",
      "for (i in 1:m)                              # loop (values of pp)\n",
      "{                                           # for each pp:\n",
      "  cover = (pp[i] >= lcl) & (pp[i] <= ucl)   #  1 if cover, else 0\n",
      "  p.rel = dbinom(x[cover], n, pp[i])        #  relevant probs.\n",
      "  p.cov[i] = sum(p.rel)                     #  total coverage prob.\n",
      "}\n",
      "plot(pp, p.cov, type=\"l\", ylim=c(1-4*alpha,1))\n",
      "lines(c(.01,.99), c(1-alpha,1-alpha))"
     ],
     "language": "python",
     "metadata": {},
     "outputs": [
      {
       "metadata": {},
       "output_type": "display_data",
       "png": "[encoded data removed]"
      }
     ],
     "prompt_number": 91
    },
    {
     "cell_type": "markdown",
     "metadata": {},
     "source": [
      "We can see that the 90% confidence interval is almost spot-on. However, the 99% confidence intervals are way too conservative, especially towards the tails."
     ]
    }
   ],
   "metadata": {}
  }
 ]
}