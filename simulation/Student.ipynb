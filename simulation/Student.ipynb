{
 "metadata": {
  "name": "",
  "signature": "sha256:06658e078757101fcab7ee793afc73ec0cca6112741aa09748dd2eb1924cce96"
 },
 "nbformat": 3,
 "nbformat_minor": 0,
 "worksheets": [
  {
   "cells": [
    {
     "cell_type": "code",
     "collapsed": false,
     "input": [
      "%pylab inline"
     ],
     "language": "python",
     "metadata": {},
     "outputs": [
      {
       "output_type": "stream",
       "stream": "stdout",
       "text": [
        "Populating the interactive namespace from numpy and matplotlib\n"
       ]
      },
      {
       "output_type": "stream",
       "stream": "stderr",
       "text": [
        "WARNING: pylab import has clobbered these variables: ['var']\n",
        "`%matplotlib` prevents importing * from pylab and numpy\n"
       ]
      }
     ],
     "prompt_number": 13
    },
    {
     "cell_type": "code",
     "collapsed": false,
     "input": [
      "m = 1000\n",
      "myMeans = []\n",
      "\n",
      "for i in range(m):\n",
      "    x = randn(2)\n",
      "    means = mean(x)\n",
      "    var = sum((x - means)**2)\n",
      "    myMeans.append(means/var**0.5)\n",
      "   \n",
      "    "
     ],
     "language": "python",
     "metadata": {},
     "outputs": [],
     "prompt_number": 14
    },
    {
     "cell_type": "code",
     "collapsed": false,
     "input": [
      "hist(myMeans);"
     ],
     "language": "python",
     "metadata": {},
     "outputs": [
      {
       "metadata": {},
       "output_type": "pyout",
       "prompt_number": 15,
       "text": [
        "(array([   1.,    1.,    0.,    3.,   14.,  952.,   20.,    5.,    2.,    2.]),\n",
        " array([-101.34023197,  -83.45826991,  -65.57630785,  -47.69434578,\n",
        "         -29.81238372,  -11.93042165,    5.95154041,   23.83350248,\n",
        "          41.71546454,   59.59742661,   77.47938867]),\n",
        " <a list of 10 Patch objects>)"
       ]
      },
      {
       "metadata": {},
       "output_type": "display_data",
       "png": "[encoded data removed]",
       "text": [
        "<matplotlib.figure.Figure at 0xae8ea74c>"
       ]
      }
     ],
     "prompt_number": 15
    },
    {
     "cell_type": "code",
     "collapsed": false,
     "input": [],
     "language": "python",
     "metadata": {},
     "outputs": []
    }
   ],
   "metadata": {}
  }
 ]
}